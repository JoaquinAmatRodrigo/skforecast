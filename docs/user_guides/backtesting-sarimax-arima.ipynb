{
 "cells": [
  {
   "cell_type": "markdown",
   "id": "bbb9de38-5318-4e53-a2aa-409c7b991fe8",
   "metadata": {},
   "source": [
    "# Backtesting SARIMAX and ARIMA models\n",
    "\n",
    "SARIMAX (Seasonal Auto-Regressive Integrated Moving Average with eXogenous factors) is a generalization of the ARIMA model that allows incorporating seasonality and exogenous variables. This model has a total of 6 hyperparameters that must be specified when training the model:\n",
    "\n",
    "+ p: Trend autoregression order.\n",
    "\n",
    "+ d: Trend difference order.\n",
    "\n",
    "+ q: Trend moving average order.\n",
    "\n",
    "+ P: Seasonal autoregressive order.\n",
    "\n",
    "+ D: Seasonal difference order.\n",
    "\n",
    "+ Q: Seasonal moving average order.\n",
    "\n",
    "+ m: The number of time steps for a single seasonal period.\n",
    "\n",
    "The `backtesting_sarimax` function of the *skforecast.model_selection_statsmodels* module is a wrapper that allows backtesting [SARIMAX](https://www.statsmodels.org/stable/generated/statsmodels.tsa.statespace.sarimax.SARIMAX.html#statsmodels.tsa.statespace.sarimax.SARIMAX) models."
   ]
  },
  {
   "cell_type": "markdown",
   "id": "d1ae70e1-1354-4aa6-9dc4-73d3c7b016c5",
   "metadata": {},
   "source": [
    "## Libraries"
   ]
  },
  {
   "cell_type": "code",
   "execution_count": 1,
   "id": "d378f5ff-8092-49bb-80b7-8a3996d19fb1",
   "metadata": {
    "ExecuteTime": {
     "end_time": "2022-03-06T18:53:26.295308Z",
     "start_time": "2022-03-06T18:53:25.182680Z"
    }
   },
   "outputs": [],
   "source": [
    "# Libraries\n",
    "# ==============================================================================\n",
    "import numpy as np\n",
    "import pandas as pd\n",
    "import matplotlib.pyplot as plt\n",
    "from skforecast.model_selection_statsmodels import backtesting_sarimax"
   ]
  },
  {
   "cell_type": "markdown",
   "id": "97f03864-ee4a-459d-9eec-03d14feb931e",
   "metadata": {},
   "source": [
    "## Data"
   ]
  },
  {
   "cell_type": "code",
   "execution_count": 2,
   "id": "0c0024f6-5d9b-4e0d-a332-dfb71280d7e3",
   "metadata": {
    "ExecuteTime": {
     "end_time": "2022-03-06T18:53:27.754305Z",
     "start_time": "2022-03-06T18:53:27.288958Z"
    }
   },
   "outputs": [],
   "source": [
    "# Download data\n",
    "# ==============================================================================\n",
    "url = ('https://raw.githubusercontent.com/JoaquinAmatRodrigo/skforecast/master/data/h2o.csv')\n",
    "data = pd.read_csv(url, sep=',', header=0, names=['y', 'datetime'])\n",
    "\n",
    "# Data preprocessing\n",
    "# ==============================================================================\n",
    "data['datetime'] = pd.to_datetime(data['datetime'], format='%Y/%m/%d')\n",
    "data = data.set_index('datetime')\n",
    "data = data.asfreq('MS')\n",
    "data = data['y']\n",
    "data = data.sort_index()\n",
    "\n",
    "# Split data in train snd backtest\n",
    "# ==============================================================================\n",
    "n_backtest = 36*3  # Last 9 years are used for backtest\n",
    "data_train = data[:-n_backtest]\n",
    "data_backtest = data[-n_backtest:]"
   ]
  },
  {
   "cell_type": "markdown",
   "id": "9801a209-b601-4d9b-aa3c-a2e03df98c98",
   "metadata": {},
   "source": [
    "## Backtest"
   ]
  },
  {
   "cell_type": "code",
   "execution_count": 3,
   "id": "dc378ff0-1759-4199-a9e7-5b101b77fdee",
   "metadata": {
    "ExecuteTime": {
     "end_time": "2022-03-06T18:53:28.573678Z",
     "start_time": "2022-03-06T18:53:28.554674Z"
    }
   },
   "outputs": [],
   "source": [
    "import warnings\n",
    "warnings.filterwarnings('ignore')"
   ]
  },
  {
   "cell_type": "code",
   "execution_count": 4,
   "id": "4f83164f-9758-485e-86bb-05bbbc04fccd",
   "metadata": {
    "ExecuteTime": {
     "end_time": "2022-03-06T18:53:34.987954Z",
     "start_time": "2022-03-06T18:53:30.218865Z"
    }
   },
   "outputs": [
    {
     "name": "stdout",
     "output_type": "stream",
     "text": [
      "Number of observations used for training: 96\n",
      "Number of observations used for backtesting: 108\n",
      "    Number of folds: 16\n",
      "    Number of steps per fold: 7\n",
      "    Last fold only includes 3 observations.\n"
     ]
    }
   ],
   "source": [
    "metric, predictions_backtest = backtesting_sarimax(\n",
    "                                    y = data,\n",
    "                                    order = (12, 1, 1),\n",
    "                                    seasonal_order = (0, 0, 0, 0),\n",
    "                                    initial_train_size = len(data_train),\n",
    "                                    fixed_train_size = False,\n",
    "                                    steps = 7,\n",
    "                                    metric = 'mean_absolute_error',\n",
    "                                    refit = False,\n",
    "                                    verbose = True,\n",
    "                                    fit_kwargs = {'maxiter': 250, 'disp': 0},\n",
    "                               )"
   ]
  },
  {
   "cell_type": "code",
   "execution_count": 5,
   "id": "fd4a82ae-5258-49bb-9f6d-380b3cb67563",
   "metadata": {
    "ExecuteTime": {
     "end_time": "2022-03-06T18:53:35.080031Z",
     "start_time": "2022-03-06T18:53:35.056284Z"
    }
   },
   "outputs": [
    {
     "name": "stdout",
     "output_type": "stream",
     "text": [
      "Error backtest: 0.05544333575838204\n"
     ]
    }
   ],
   "source": [
    "print(f\"Error backtest: {metric}\")"
   ]
  },
  {
   "cell_type": "code",
   "execution_count": 6,
   "id": "3e220454",
   "metadata": {},
   "outputs": [
    {
     "data": {
      "text/html": [
       "<div>\n",
       "<style scoped>\n",
       "    .dataframe tbody tr th:only-of-type {\n",
       "        vertical-align: middle;\n",
       "    }\n",
       "\n",
       "    .dataframe tbody tr th {\n",
       "        vertical-align: top;\n",
       "    }\n",
       "\n",
       "    .dataframe thead th {\n",
       "        text-align: right;\n",
       "    }\n",
       "</style>\n",
       "<table border=\"1\" class=\"dataframe\">\n",
       "  <thead>\n",
       "    <tr style=\"text-align: right;\">\n",
       "      <th></th>\n",
       "      <th>predicted_mean</th>\n",
       "      <th>lower y</th>\n",
       "      <th>upper y</th>\n",
       "    </tr>\n",
       "  </thead>\n",
       "  <tbody>\n",
       "    <tr>\n",
       "      <th>1999-07-01</th>\n",
       "      <td>0.734656</td>\n",
       "      <td>0.650068</td>\n",
       "      <td>0.819244</td>\n",
       "    </tr>\n",
       "    <tr>\n",
       "      <th>1999-08-01</th>\n",
       "      <td>0.751807</td>\n",
       "      <td>0.660689</td>\n",
       "      <td>0.842924</td>\n",
       "    </tr>\n",
       "    <tr>\n",
       "      <th>1999-09-01</th>\n",
       "      <td>0.865305</td>\n",
       "      <td>0.768142</td>\n",
       "      <td>0.962468</td>\n",
       "    </tr>\n",
       "    <tr>\n",
       "      <th>1999-10-01</th>\n",
       "      <td>0.832295</td>\n",
       "      <td>0.730287</td>\n",
       "      <td>0.934303</td>\n",
       "    </tr>\n",
       "  </tbody>\n",
       "</table>\n",
       "</div>"
      ],
      "text/plain": [
       "            predicted_mean   lower y   upper y\n",
       "1999-07-01        0.734656  0.650068  0.819244\n",
       "1999-08-01        0.751807  0.660689  0.842924\n",
       "1999-09-01        0.865305  0.768142  0.962468\n",
       "1999-10-01        0.832295  0.730287  0.934303"
      ]
     },
     "execution_count": 6,
     "metadata": {},
     "output_type": "execute_result"
    }
   ],
   "source": [
    "predictions_backtest.head(4)"
   ]
  },
  {
   "cell_type": "code",
   "execution_count": 7,
   "id": "68e94460-f2c6-4d4b-8aec-90d9c785438d",
   "metadata": {},
   "outputs": [
    {
     "data": {
      "text/html": [
       "<style>\n",
       ".jupyter-wrapper .jp-CodeCell .jp-Cell-inputWrapper .jp-InputPrompt {display: none;}\n",
       "</style>\n"
      ],
      "text/plain": [
       "<IPython.core.display.HTML object>"
      ]
     },
     "metadata": {},
     "output_type": "display_data"
    }
   ],
   "source": [
    "%%html\n",
    "<style>\n",
    ".jupyter-wrapper .jp-CodeCell .jp-Cell-inputWrapper .jp-InputPrompt {display: none;}\n",
    "</style>"
   ]
  }
 ],
 "metadata": {
  "interpreter": {
   "hash": "6ea9a7bd5acac7ef50d998c0248a4db17b38ee2b9d85779465a12782ddc26457"
  },
  "kernelspec": {
   "display_name": "skforecast",
   "language": "python",
   "name": "python3"
  },
  "language_info": {
   "codemirror_mode": {
    "name": "ipython",
    "version": 3
   },
   "file_extension": ".py",
   "mimetype": "text/x-python",
   "name": "python",
   "nbconvert_exporter": "python",
   "pygments_lexer": "ipython3",
   "version": "3.7.9"
  },
  "toc": {
   "base_numbering": 1,
   "nav_menu": {},
   "number_sections": true,
   "sideBar": true,
   "skip_h1_title": false,
   "title_cell": "Table of Contents",
   "title_sidebar": "Contents",
   "toc_cell": false,
   "toc_position": {},
   "toc_section_display": true,
   "toc_window_display": false
  },
  "varInspector": {
   "cols": {
    "lenName": 16,
    "lenType": 16,
    "lenVar": 40
   },
   "kernels_config": {
    "python": {
     "delete_cmd_postfix": "",
     "delete_cmd_prefix": "del ",
     "library": "var_list.py",
     "varRefreshCmd": "print(var_dic_list())"
    },
    "r": {
     "delete_cmd_postfix": ") ",
     "delete_cmd_prefix": "rm(",
     "library": "var_list.r",
     "varRefreshCmd": "cat(var_dic_list()) "
    }
   },
   "types_to_exclude": [
    "module",
    "function",
    "builtin_function_or_method",
    "instance",
    "_Feature"
   ],
   "window_display": false
  }
 },
 "nbformat": 4,
 "nbformat_minor": 5
}
