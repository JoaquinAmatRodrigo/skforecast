{
 "cells": [
  {
   "cell_type": "markdown",
   "metadata": {},
   "source": [
    "# Forecasting with scikit-learn pipelines\n",
    "\n",
    "Since version 0.4.0, skforecast allows using scikit-learn pipelines as regressors. This is useful since many machine learning models need specific data preprocessing transformations. For example, linear models with Ridge or Lasso regularization benefits from features been scaled.\n",
    "     "
   ]
  },
  {
   "cell_type": "markdown",
   "metadata": {},
   "source": [
    "<script src=\"https://kit.fontawesome.com/d20edc211b.js\" crossorigin=\"anonymous\"></script>\n",
    "\n",
    "<div class=\"admonition note\" name=\"html-admonition\" style=\"background: rgba(255,145,0,.1); padding-top: 0px; padding-bottom: 6px; border-radius: 8px; border-left: 8px solid #ff9100;\">\n",
    "\n",
    "<p class=\"title\">\n",
    "    <i class=\"fa-triangle-exclamation fa\" style=\"font-size: 18px; color:#ff9100;\"></i>\n",
    "    <b> &nbsp Warning</b>\n",
    "</p>\n",
    "\n",
    "Version 0.4 does not allow including ColumnTransformer in the pipeline used as regressor, so if the preprocessing transformations only apply to some specific columns, they have to be applied on the data set before training the model. <a href=\"https://www.cienciadedatos.net/documentos/py39-forecasting-time-series-with-skforecast-xgboost-lightgbm-catboost.html#Exogenous-variables\">More detailed example</a>. \n",
    "\n",
    "</div>"
   ]
  },
  {
   "cell_type": "markdown",
   "metadata": {},
   "source": [
    "## Libraries"
   ]
  },
  {
   "cell_type": "code",
   "execution_count": 1,
   "metadata": {},
   "outputs": [],
   "source": [
    "# Libraries\n",
    "# ==============================================================================\n",
    "import numpy as np\n",
    "import pandas as pd\n",
    "import matplotlib.pyplot as plt\n",
    "from sklearn.linear_model import Ridge\n",
    "from sklearn.preprocessing import StandardScaler\n",
    "from sklearn.pipeline import make_pipeline\n",
    "from skforecast.ForecasterAutoreg import ForecasterAutoreg\n",
    "from skforecast.model_selection import grid_search_forecaster"
   ]
  },
  {
   "cell_type": "markdown",
   "metadata": {},
   "source": [
    "## Data"
   ]
  },
  {
   "cell_type": "code",
   "execution_count": 2,
   "metadata": {},
   "outputs": [],
   "source": [
    "# Download data\n",
    "# ==============================================================================\n",
    "url = ('https://raw.githubusercontent.com/JoaquinAmatRodrigo/skforecast/master/data/h2o_exog.csv')\n",
    "data = pd.read_csv(url, sep=',', header=0, names=['date', 'y', 'exog_1', 'exog_2'])\n",
    "\n",
    "# Data preprocessing\n",
    "# ==============================================================================\n",
    "data['date'] = pd.to_datetime(data['date'], format='%Y/%m/%d')\n",
    "data = data.set_index('date')\n",
    "data = data.asfreq('MS')"
   ]
  },
  {
   "cell_type": "markdown",
   "metadata": {},
   "source": [
    "## Create pipeline and forecaster"
   ]
  },
  {
   "cell_type": "code",
   "execution_count": 3,
   "metadata": {},
   "outputs": [
    {
     "data": {
      "text/plain": [
       "Pipeline(steps=[('standardscaler', StandardScaler()), ('ridge', Ridge())])"
      ]
     },
     "execution_count": 3,
     "metadata": {},
     "output_type": "execute_result"
    }
   ],
   "source": [
    "pipe = make_pipeline(StandardScaler(), Ridge())\n",
    "pipe"
   ]
  },
  {
   "cell_type": "code",
   "execution_count": 4,
   "metadata": {},
   "outputs": [
    {
     "data": {
      "text/plain": [
       "================= \n",
       "ForecasterAutoreg \n",
       "================= \n",
       "Regressor: Pipeline(steps=[('standardscaler', StandardScaler()), ('ridge', Ridge())]) \n",
       "Lags: [ 1  2  3  4  5  6  7  8  9 10] \n",
       "Window size: 10 \n",
       "Included exogenous: True \n",
       "Type of exogenous variable: <class 'pandas.core.frame.DataFrame'> \n",
       "Exogenous variables names: ['exog_1', 'exog_2'] \n",
       "Training range: [Timestamp('1992-04-01 00:00:00'), Timestamp('2008-06-01 00:00:00')] \n",
       "Training index type: DatetimeIndex \n",
       "Training index frequency: MS \n",
       "Regressor parameters: {'standardscaler__copy': True, 'standardscaler__with_mean': True, 'standardscaler__with_std': True, 'ridge__alpha': 1.0, 'ridge__copy_X': True, 'ridge__fit_intercept': True, 'ridge__max_iter': None, 'ridge__normalize': 'deprecated', 'ridge__positive': False, 'ridge__random_state': None, 'ridge__solver': 'auto', 'ridge__tol': 0.001} \n",
       "Creation date: 2022-03-12 12:28:15 \n",
       "Last fit date: 2022-03-12 12:28:15 \n",
       "Skforecast version: 0.4.3 "
      ]
     },
     "execution_count": 4,
     "metadata": {},
     "output_type": "execute_result"
    }
   ],
   "source": [
    "# Create and fit forecaster\n",
    "# ==============================================================================\n",
    "forecaster = ForecasterAutoreg(\n",
    "                    regressor = pipe,\n",
    "                    lags = 10\n",
    "                )\n",
    "\n",
    "forecaster.fit(y=data['y'], exog=data[['exog_1', 'exog_2']])\n",
    "forecaster"
   ]
  },
  {
   "cell_type": "markdown",
   "metadata": {},
   "source": [
    "## Grid Search"
   ]
  },
  {
   "cell_type": "markdown",
   "metadata": {},
   "source": [
    "The model's name precedes the parameters' name when performing grid search over a sklearn pipeline."
   ]
  },
  {
   "cell_type": "code",
   "execution_count": 5,
   "metadata": {},
   "outputs": [
    {
     "name": "stdout",
     "output_type": "stream",
     "text": [
      "Number of models compared: 30\n"
     ]
    },
    {
     "name": "stderr",
     "output_type": "stream",
     "text": [
      "loop lags_grid: 100%|███████████████████████████████████████| 3/3 [00:02<00:00,  1.26it/s]"
     ]
    },
    {
     "name": "stdout",
     "output_type": "stream",
     "text": [
      "`Forecaster` refitted using the best-found lags and parameters, and the whole data set: \n",
      "  Lags: [1 2 3 4 5] \n",
      "  Parameters: {'ridge__alpha': 0.001}\n",
      "  Backtesting metric: 6.845311709618769e-05\n",
      "\n"
     ]
    },
    {
     "name": "stderr",
     "output_type": "stream",
     "text": [
      "\n"
     ]
    }
   ],
   "source": [
    "# Hyperparameter Grid search\n",
    "# ==============================================================================\n",
    "pipe = make_pipeline(StandardScaler(), Ridge())\n",
    "forecaster = ForecasterAutoreg(\n",
    "                    regressor = pipe,\n",
    "                    lags = 10  # This value will be replaced in the grid search\n",
    "                )\n",
    "\n",
    "# Regressor's hyperparameters\n",
    "param_grid = {'ridge__alpha': np.logspace(-3, 5, 10)}\n",
    "\n",
    "# Lags used as predictors\n",
    "lags_grid = [5, 24, [1, 2, 3, 23, 24]]\n",
    "\n",
    "results_grid = grid_search_forecaster(\n",
    "                        forecaster  = forecaster,\n",
    "                        y           = data['y'],\n",
    "                        exog        = data[['exog_1', 'exog_2']],\n",
    "                        param_grid  = param_grid,\n",
    "                        lags_grid   = lags_grid,\n",
    "                        steps       = 5,\n",
    "                        metric      = 'mean_absolute_error',\n",
    "                        refit       = False,\n",
    "                        initial_train_size = len(data.loc[:'2000-04-01']),\n",
    "                        return_best = True,\n",
    "                        verbose     = False\n",
    "                  )"
   ]
  },
  {
   "cell_type": "code",
   "execution_count": 6,
   "metadata": {},
   "outputs": [
    {
     "data": {
      "text/html": [
       "<div>\n",
       "<style scoped>\n",
       "    .dataframe tbody tr th:only-of-type {\n",
       "        vertical-align: middle;\n",
       "    }\n",
       "\n",
       "    .dataframe tbody tr th {\n",
       "        vertical-align: top;\n",
       "    }\n",
       "\n",
       "    .dataframe thead th {\n",
       "        text-align: right;\n",
       "    }\n",
       "</style>\n",
       "<table border=\"1\" class=\"dataframe\">\n",
       "  <thead>\n",
       "    <tr style=\"text-align: right;\">\n",
       "      <th></th>\n",
       "      <th>lags</th>\n",
       "      <th>params</th>\n",
       "      <th>metric</th>\n",
       "      <th>ridge__alpha</th>\n",
       "    </tr>\n",
       "  </thead>\n",
       "  <tbody>\n",
       "    <tr>\n",
       "      <th>0</th>\n",
       "      <td>[1, 2, 3, 4, 5]</td>\n",
       "      <td>{'ridge__alpha': 0.001}</td>\n",
       "      <td>0.000068</td>\n",
       "      <td>0.001000</td>\n",
       "    </tr>\n",
       "    <tr>\n",
       "      <th>10</th>\n",
       "      <td>[1, 2, 3, 4, 5, 6, 7, 8, 9, 10, 11, 12, 13, 14...</td>\n",
       "      <td>{'ridge__alpha': 0.001}</td>\n",
       "      <td>0.000188</td>\n",
       "      <td>0.001000</td>\n",
       "    </tr>\n",
       "    <tr>\n",
       "      <th>1</th>\n",
       "      <td>[1, 2, 3, 4, 5]</td>\n",
       "      <td>{'ridge__alpha': 0.007742636826811269}</td>\n",
       "      <td>0.000526</td>\n",
       "      <td>0.007743</td>\n",
       "    </tr>\n",
       "    <tr>\n",
       "      <th>11</th>\n",
       "      <td>[1, 2, 3, 4, 5, 6, 7, 8, 9, 10, 11, 12, 13, 14...</td>\n",
       "      <td>{'ridge__alpha': 0.007742636826811269}</td>\n",
       "      <td>0.001413</td>\n",
       "      <td>0.007743</td>\n",
       "    </tr>\n",
       "    <tr>\n",
       "      <th>2</th>\n",
       "      <td>[1, 2, 3, 4, 5]</td>\n",
       "      <td>{'ridge__alpha': 0.05994842503189409}</td>\n",
       "      <td>0.003860</td>\n",
       "      <td>0.059948</td>\n",
       "    </tr>\n",
       "    <tr>\n",
       "      <th>12</th>\n",
       "      <td>[1, 2, 3, 4, 5, 6, 7, 8, 9, 10, 11, 12, 13, 14...</td>\n",
       "      <td>{'ridge__alpha': 0.05994842503189409}</td>\n",
       "      <td>0.008969</td>\n",
       "      <td>0.059948</td>\n",
       "    </tr>\n",
       "    <tr>\n",
       "      <th>3</th>\n",
       "      <td>[1, 2, 3, 4, 5]</td>\n",
       "      <td>{'ridge__alpha': 0.46415888336127775}</td>\n",
       "      <td>0.021751</td>\n",
       "      <td>0.464159</td>\n",
       "    </tr>\n",
       "    <tr>\n",
       "      <th>13</th>\n",
       "      <td>[1, 2, 3, 4, 5, 6, 7, 8, 9, 10, 11, 12, 13, 14...</td>\n",
       "      <td>{'ridge__alpha': 0.46415888336127775}</td>\n",
       "      <td>0.029505</td>\n",
       "      <td>0.464159</td>\n",
       "    </tr>\n",
       "    <tr>\n",
       "      <th>14</th>\n",
       "      <td>[1, 2, 3, 4, 5, 6, 7, 8, 9, 10, 11, 12, 13, 14...</td>\n",
       "      <td>{'ridge__alpha': 3.593813663804626}</td>\n",
       "      <td>0.046323</td>\n",
       "      <td>3.593814</td>\n",
       "    </tr>\n",
       "    <tr>\n",
       "      <th>23</th>\n",
       "      <td>[1, 2, 3, 23, 24]</td>\n",
       "      <td>{'ridge__alpha': 0.46415888336127775}</td>\n",
       "      <td>0.060623</td>\n",
       "      <td>0.464159</td>\n",
       "    </tr>\n",
       "    <tr>\n",
       "      <th>22</th>\n",
       "      <td>[1, 2, 3, 23, 24]</td>\n",
       "      <td>{'ridge__alpha': 0.05994842503189409}</td>\n",
       "      <td>0.061567</td>\n",
       "      <td>0.059948</td>\n",
       "    </tr>\n",
       "    <tr>\n",
       "      <th>21</th>\n",
       "      <td>[1, 2, 3, 23, 24]</td>\n",
       "      <td>{'ridge__alpha': 0.007742636826811269}</td>\n",
       "      <td>0.061747</td>\n",
       "      <td>0.007743</td>\n",
       "    </tr>\n",
       "    <tr>\n",
       "      <th>20</th>\n",
       "      <td>[1, 2, 3, 23, 24]</td>\n",
       "      <td>{'ridge__alpha': 0.001}</td>\n",
       "      <td>0.061771</td>\n",
       "      <td>0.001000</td>\n",
       "    </tr>\n",
       "    <tr>\n",
       "      <th>24</th>\n",
       "      <td>[1, 2, 3, 23, 24]</td>\n",
       "      <td>{'ridge__alpha': 3.593813663804626}</td>\n",
       "      <td>0.063512</td>\n",
       "      <td>3.593814</td>\n",
       "    </tr>\n",
       "    <tr>\n",
       "      <th>15</th>\n",
       "      <td>[1, 2, 3, 4, 5, 6, 7, 8, 9, 10, 11, 12, 13, 14...</td>\n",
       "      <td>{'ridge__alpha': 27.825594022071257}</td>\n",
       "      <td>0.064551</td>\n",
       "      <td>27.825594</td>\n",
       "    </tr>\n",
       "    <tr>\n",
       "      <th>4</th>\n",
       "      <td>[1, 2, 3, 4, 5]</td>\n",
       "      <td>{'ridge__alpha': 3.593813663804626}</td>\n",
       "      <td>0.069220</td>\n",
       "      <td>3.593814</td>\n",
       "    </tr>\n",
       "    <tr>\n",
       "      <th>25</th>\n",
       "      <td>[1, 2, 3, 23, 24]</td>\n",
       "      <td>{'ridge__alpha': 27.825594022071257}</td>\n",
       "      <td>0.077934</td>\n",
       "      <td>27.825594</td>\n",
       "    </tr>\n",
       "    <tr>\n",
       "      <th>16</th>\n",
       "      <td>[1, 2, 3, 4, 5, 6, 7, 8, 9, 10, 11, 12, 13, 14...</td>\n",
       "      <td>{'ridge__alpha': 215.44346900318823}</td>\n",
       "      <td>0.130016</td>\n",
       "      <td>215.443469</td>\n",
       "    </tr>\n",
       "    <tr>\n",
       "      <th>5</th>\n",
       "      <td>[1, 2, 3, 4, 5]</td>\n",
       "      <td>{'ridge__alpha': 27.825594022071257}</td>\n",
       "      <td>0.143189</td>\n",
       "      <td>27.825594</td>\n",
       "    </tr>\n",
       "    <tr>\n",
       "      <th>26</th>\n",
       "      <td>[1, 2, 3, 23, 24]</td>\n",
       "      <td>{'ridge__alpha': 215.44346900318823}</td>\n",
       "      <td>0.146446</td>\n",
       "      <td>215.443469</td>\n",
       "    </tr>\n",
       "    <tr>\n",
       "      <th>17</th>\n",
       "      <td>[1, 2, 3, 4, 5, 6, 7, 8, 9, 10, 11, 12, 13, 14...</td>\n",
       "      <td>{'ridge__alpha': 1668.1005372000557}</td>\n",
       "      <td>0.204469</td>\n",
       "      <td>1668.100537</td>\n",
       "    </tr>\n",
       "    <tr>\n",
       "      <th>6</th>\n",
       "      <td>[1, 2, 3, 4, 5]</td>\n",
       "      <td>{'ridge__alpha': 215.44346900318823}</td>\n",
       "      <td>0.205496</td>\n",
       "      <td>215.443469</td>\n",
       "    </tr>\n",
       "    <tr>\n",
       "      <th>27</th>\n",
       "      <td>[1, 2, 3, 23, 24]</td>\n",
       "      <td>{'ridge__alpha': 1668.1005372000557}</td>\n",
       "      <td>0.212896</td>\n",
       "      <td>1668.100537</td>\n",
       "    </tr>\n",
       "    <tr>\n",
       "      <th>18</th>\n",
       "      <td>[1, 2, 3, 4, 5, 6, 7, 8, 9, 10, 11, 12, 13, 14...</td>\n",
       "      <td>{'ridge__alpha': 12915.496650148827}</td>\n",
       "      <td>0.227536</td>\n",
       "      <td>12915.496650</td>\n",
       "    </tr>\n",
       "    <tr>\n",
       "      <th>28</th>\n",
       "      <td>[1, 2, 3, 23, 24]</td>\n",
       "      <td>{'ridge__alpha': 12915.496650148827}</td>\n",
       "      <td>0.228974</td>\n",
       "      <td>12915.496650</td>\n",
       "    </tr>\n",
       "    <tr>\n",
       "      <th>19</th>\n",
       "      <td>[1, 2, 3, 4, 5, 6, 7, 8, 9, 10, 11, 12, 13, 14...</td>\n",
       "      <td>{'ridge__alpha': 100000.0}</td>\n",
       "      <td>0.231157</td>\n",
       "      <td>100000.000000</td>\n",
       "    </tr>\n",
       "    <tr>\n",
       "      <th>29</th>\n",
       "      <td>[1, 2, 3, 23, 24]</td>\n",
       "      <td>{'ridge__alpha': 100000.0}</td>\n",
       "      <td>0.231356</td>\n",
       "      <td>100000.000000</td>\n",
       "    </tr>\n",
       "    <tr>\n",
       "      <th>7</th>\n",
       "      <td>[1, 2, 3, 4, 5]</td>\n",
       "      <td>{'ridge__alpha': 1668.1005372000557}</td>\n",
       "      <td>0.236227</td>\n",
       "      <td>1668.100537</td>\n",
       "    </tr>\n",
       "    <tr>\n",
       "      <th>8</th>\n",
       "      <td>[1, 2, 3, 4, 5]</td>\n",
       "      <td>{'ridge__alpha': 12915.496650148827}</td>\n",
       "      <td>0.244788</td>\n",
       "      <td>12915.496650</td>\n",
       "    </tr>\n",
       "    <tr>\n",
       "      <th>9</th>\n",
       "      <td>[1, 2, 3, 4, 5]</td>\n",
       "      <td>{'ridge__alpha': 100000.0}</td>\n",
       "      <td>0.246091</td>\n",
       "      <td>100000.000000</td>\n",
       "    </tr>\n",
       "  </tbody>\n",
       "</table>\n",
       "</div>"
      ],
      "text/plain": [
       "                                                 lags  \\\n",
       "0                                     [1, 2, 3, 4, 5]   \n",
       "10  [1, 2, 3, 4, 5, 6, 7, 8, 9, 10, 11, 12, 13, 14...   \n",
       "1                                     [1, 2, 3, 4, 5]   \n",
       "11  [1, 2, 3, 4, 5, 6, 7, 8, 9, 10, 11, 12, 13, 14...   \n",
       "2                                     [1, 2, 3, 4, 5]   \n",
       "12  [1, 2, 3, 4, 5, 6, 7, 8, 9, 10, 11, 12, 13, 14...   \n",
       "3                                     [1, 2, 3, 4, 5]   \n",
       "13  [1, 2, 3, 4, 5, 6, 7, 8, 9, 10, 11, 12, 13, 14...   \n",
       "14  [1, 2, 3, 4, 5, 6, 7, 8, 9, 10, 11, 12, 13, 14...   \n",
       "23                                  [1, 2, 3, 23, 24]   \n",
       "22                                  [1, 2, 3, 23, 24]   \n",
       "21                                  [1, 2, 3, 23, 24]   \n",
       "20                                  [1, 2, 3, 23, 24]   \n",
       "24                                  [1, 2, 3, 23, 24]   \n",
       "15  [1, 2, 3, 4, 5, 6, 7, 8, 9, 10, 11, 12, 13, 14...   \n",
       "4                                     [1, 2, 3, 4, 5]   \n",
       "25                                  [1, 2, 3, 23, 24]   \n",
       "16  [1, 2, 3, 4, 5, 6, 7, 8, 9, 10, 11, 12, 13, 14...   \n",
       "5                                     [1, 2, 3, 4, 5]   \n",
       "26                                  [1, 2, 3, 23, 24]   \n",
       "17  [1, 2, 3, 4, 5, 6, 7, 8, 9, 10, 11, 12, 13, 14...   \n",
       "6                                     [1, 2, 3, 4, 5]   \n",
       "27                                  [1, 2, 3, 23, 24]   \n",
       "18  [1, 2, 3, 4, 5, 6, 7, 8, 9, 10, 11, 12, 13, 14...   \n",
       "28                                  [1, 2, 3, 23, 24]   \n",
       "19  [1, 2, 3, 4, 5, 6, 7, 8, 9, 10, 11, 12, 13, 14...   \n",
       "29                                  [1, 2, 3, 23, 24]   \n",
       "7                                     [1, 2, 3, 4, 5]   \n",
       "8                                     [1, 2, 3, 4, 5]   \n",
       "9                                     [1, 2, 3, 4, 5]   \n",
       "\n",
       "                                    params    metric   ridge__alpha  \n",
       "0                  {'ridge__alpha': 0.001}  0.000068       0.001000  \n",
       "10                 {'ridge__alpha': 0.001}  0.000188       0.001000  \n",
       "1   {'ridge__alpha': 0.007742636826811269}  0.000526       0.007743  \n",
       "11  {'ridge__alpha': 0.007742636826811269}  0.001413       0.007743  \n",
       "2    {'ridge__alpha': 0.05994842503189409}  0.003860       0.059948  \n",
       "12   {'ridge__alpha': 0.05994842503189409}  0.008969       0.059948  \n",
       "3    {'ridge__alpha': 0.46415888336127775}  0.021751       0.464159  \n",
       "13   {'ridge__alpha': 0.46415888336127775}  0.029505       0.464159  \n",
       "14     {'ridge__alpha': 3.593813663804626}  0.046323       3.593814  \n",
       "23   {'ridge__alpha': 0.46415888336127775}  0.060623       0.464159  \n",
       "22   {'ridge__alpha': 0.05994842503189409}  0.061567       0.059948  \n",
       "21  {'ridge__alpha': 0.007742636826811269}  0.061747       0.007743  \n",
       "20                 {'ridge__alpha': 0.001}  0.061771       0.001000  \n",
       "24     {'ridge__alpha': 3.593813663804626}  0.063512       3.593814  \n",
       "15    {'ridge__alpha': 27.825594022071257}  0.064551      27.825594  \n",
       "4      {'ridge__alpha': 3.593813663804626}  0.069220       3.593814  \n",
       "25    {'ridge__alpha': 27.825594022071257}  0.077934      27.825594  \n",
       "16    {'ridge__alpha': 215.44346900318823}  0.130016     215.443469  \n",
       "5     {'ridge__alpha': 27.825594022071257}  0.143189      27.825594  \n",
       "26    {'ridge__alpha': 215.44346900318823}  0.146446     215.443469  \n",
       "17    {'ridge__alpha': 1668.1005372000557}  0.204469    1668.100537  \n",
       "6     {'ridge__alpha': 215.44346900318823}  0.205496     215.443469  \n",
       "27    {'ridge__alpha': 1668.1005372000557}  0.212896    1668.100537  \n",
       "18    {'ridge__alpha': 12915.496650148827}  0.227536   12915.496650  \n",
       "28    {'ridge__alpha': 12915.496650148827}  0.228974   12915.496650  \n",
       "19              {'ridge__alpha': 100000.0}  0.231157  100000.000000  \n",
       "29              {'ridge__alpha': 100000.0}  0.231356  100000.000000  \n",
       "7     {'ridge__alpha': 1668.1005372000557}  0.236227    1668.100537  \n",
       "8     {'ridge__alpha': 12915.496650148827}  0.244788   12915.496650  \n",
       "9               {'ridge__alpha': 100000.0}  0.246091  100000.000000  "
      ]
     },
     "execution_count": 6,
     "metadata": {},
     "output_type": "execute_result"
    }
   ],
   "source": [
    "results_grid"
   ]
  },
  {
   "cell_type": "code",
   "execution_count": 7,
   "metadata": {},
   "outputs": [
    {
     "data": {
      "text/html": [
       "<style>\n",
       ".jupyter-wrapper .jp-CodeCell .jp-Cell-inputWrapper .jp-InputPrompt {display: none;}\n",
       "</style>\n"
      ],
      "text/plain": [
       "<IPython.core.display.HTML object>"
      ]
     },
     "metadata": {},
     "output_type": "display_data"
    }
   ],
   "source": [
    "%%html\n",
    "<style>\n",
    ".jupyter-wrapper .jp-CodeCell .jp-Cell-inputWrapper .jp-InputPrompt {display: none;}\n",
    "</style>"
   ]
  }
 ],
 "metadata": {
  "interpreter": {
   "hash": "6ea9a7bd5acac7ef50d998c0248a4db17b38ee2b9d85779465a12782ddc26457"
  },
  "kernelspec": {
   "display_name": "skforecast_dev",
   "language": "python",
   "name": "python3"
  },
  "language_info": {
   "codemirror_mode": {
    "name": "ipython",
    "version": 3
   },
   "file_extension": ".py",
   "mimetype": "text/x-python",
   "name": "python",
   "nbconvert_exporter": "python",
   "pygments_lexer": "ipython3",
   "version": "3.7.9"
  },
  "toc": {
   "base_numbering": 1,
   "nav_menu": {},
   "number_sections": false,
   "sideBar": true,
   "skip_h1_title": true,
   "title_cell": "Tabla de contenidos",
   "title_sidebar": "Tabla de contenidos",
   "toc_cell": false,
   "toc_position": {
    "height": "calc(100% - 180px)",
    "left": "10px",
    "top": "150px",
    "width": "165px"
   },
   "toc_section_display": true,
   "toc_window_display": false
  },
  "varInspector": {
   "cols": {
    "lenName": 16,
    "lenType": 16,
    "lenVar": 40
   },
   "kernels_config": {
    "python": {
     "delete_cmd_postfix": "",
     "delete_cmd_prefix": "del ",
     "library": "var_list.py",
     "varRefreshCmd": "print(var_dic_list())"
    },
    "r": {
     "delete_cmd_postfix": ") ",
     "delete_cmd_prefix": "rm(",
     "library": "var_list.r",
     "varRefreshCmd": "cat(var_dic_list()) "
    }
   },
   "position": {
    "height": "144.391px",
    "left": "1478px",
    "right": "20px",
    "top": "126px",
    "width": "350px"
   },
   "types_to_exclude": [
    "module",
    "function",
    "builtin_function_or_method",
    "instance",
    "_Feature"
   ],
   "window_display": false
  }
 },
 "nbformat": 4,
 "nbformat_minor": 4
}
