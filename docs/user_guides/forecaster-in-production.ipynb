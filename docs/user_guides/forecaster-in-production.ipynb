{
 "cells": [
  {
   "attachments": {},
   "cell_type": "markdown",
   "metadata": {},
   "source": [
    "# Using forecaster models in production\n",
    "\n",
    "\n",
    "When using a trained model in production, regular predictions need to be generated, for example, on a weekly basis every Monday. By default, the `predict` method on a trained forecaster object generates predictions starting right after the last training observation. Therefore, the model could be retrained weekly, just before the first prediction is needed, and its predict method called. However, this approach may not be practical due to reasons such as: expensive model training, unavailability of the training data history, or high prediction frequency.\n",
    "\n",
    "In such scenarios, the model must be able to predict at any time, even if it has not been recently trained. Fortunately, every model generated using skforecast has the `last_window` argument in its `predict` method. This argument allows providing only the past values needed to create the autoregressive predictors (lags or custom predictors), enabling prediction without the need to retrain the model. This feature is particularly useful when there are limitations in retraining the model regularly or when dealing with high-frequency predictions."
   ]
  },
  {
   "cell_type": "markdown",
   "metadata": {},
   "source": [
    "## Libraries"
   ]
  },
  {
   "cell_type": "code",
   "execution_count": 1,
   "metadata": {},
   "outputs": [],
   "source": [
    "# Libraries\n",
    "# ==============================================================================\n",
    "import pandas as pd\n",
    "import matplotlib.pyplot as plt\n",
    "plt.style.use('seaborn-v0_8-darkgrid')\n",
    "from sklearn.ensemble import RandomForestRegressor\n",
    "from skforecast.ForecasterAutoreg import ForecasterAutoreg\n",
    "from skforecast.utils import save_forecaster\n",
    "from skforecast.utils import load_forecaster"
   ]
  },
  {
   "cell_type": "markdown",
   "metadata": {},
   "source": [
    "## Data"
   ]
  },
  {
   "cell_type": "code",
   "execution_count": 2,
   "metadata": {},
   "outputs": [
    {
     "data": {
      "text/html": [
       "<div>\n",
       "<style scoped>\n",
       "    .dataframe tbody tr th:only-of-type {\n",
       "        vertical-align: middle;\n",
       "    }\n",
       "\n",
       "    .dataframe tbody tr th {\n",
       "        vertical-align: top;\n",
       "    }\n",
       "\n",
       "    .dataframe thead th {\n",
       "        text-align: right;\n",
       "    }\n",
       "</style>\n",
       "<table border=\"1\" class=\"dataframe\">\n",
       "  <thead>\n",
       "    <tr style=\"text-align: right;\">\n",
       "      <th></th>\n",
       "      <th>y</th>\n",
       "    </tr>\n",
       "    <tr>\n",
       "      <th>date</th>\n",
       "      <th></th>\n",
       "    </tr>\n",
       "  </thead>\n",
       "  <tbody>\n",
       "    <tr>\n",
       "      <th>2004-09-01</th>\n",
       "      <td>1.134432</td>\n",
       "    </tr>\n",
       "    <tr>\n",
       "      <th>2004-10-01</th>\n",
       "      <td>1.181011</td>\n",
       "    </tr>\n",
       "    <tr>\n",
       "      <th>2004-11-01</th>\n",
       "      <td>1.216037</td>\n",
       "    </tr>\n",
       "    <tr>\n",
       "      <th>2004-12-01</th>\n",
       "      <td>1.257238</td>\n",
       "    </tr>\n",
       "    <tr>\n",
       "      <th>2005-01-01</th>\n",
       "      <td>1.170690</td>\n",
       "    </tr>\n",
       "  </tbody>\n",
       "</table>\n",
       "</div>"
      ],
      "text/plain": [
       "                   y\n",
       "date                \n",
       "2004-09-01  1.134432\n",
       "2004-10-01  1.181011\n",
       "2004-11-01  1.216037\n",
       "2004-12-01  1.257238\n",
       "2005-01-01  1.170690"
      ]
     },
     "execution_count": 2,
     "metadata": {},
     "output_type": "execute_result"
    }
   ],
   "source": [
    "# Download data\n",
    "# ==============================================================================\n",
    "url = (\n",
    "    'https://raw.githubusercontent.com/JoaquinAmatRodrigo/skforecast/master/'\n",
    "    'data/h2o.csv'\n",
    ")\n",
    "data = pd.read_csv(url, sep=',', header=0, names=['y', 'date'])\n",
    "\n",
    "# Data preprocessing\n",
    "# ==============================================================================\n",
    "data['date'] = pd.to_datetime(data['date'], format='%Y-%m-%d')\n",
    "data = data.set_index('date')\n",
    "data = data.asfreq('MS')\n",
    "data_train = data.loc[:'2005-01-01']\n",
    "data_train.tail()"
   ]
  },
  {
   "cell_type": "markdown",
   "metadata": {},
   "source": [
    "## Predicting with last window"
   ]
  },
  {
   "cell_type": "code",
   "execution_count": 3,
   "metadata": {},
   "outputs": [],
   "source": [
    "# Train forecaster\n",
    "# ==============================================================================\n",
    "forecaster = ForecasterAutoreg(\n",
    "                 regressor     = RandomForestRegressor(random_state=123),\n",
    "                 lags          = 5,\n",
    "                 forecaster_id = 'forecasting_series_y'\n",
    "             )\n",
    "\n",
    "forecaster.fit(y=data_train['y'])"
   ]
  },
  {
   "cell_type": "code",
   "execution_count": 4,
   "metadata": {},
   "outputs": [
    {
     "data": {
      "text/plain": [
       "2005-02-01    0.927480\n",
       "2005-03-01    0.756215\n",
       "2005-04-01    0.692595\n",
       "Freq: MS, Name: pred, dtype: float64"
      ]
     },
     "execution_count": 4,
     "metadata": {},
     "output_type": "execute_result"
    }
   ],
   "source": [
    "# Predict\n",
    "# ==============================================================================\n",
    "forecaster.predict(steps=3)"
   ]
  },
  {
   "attachments": {},
   "cell_type": "markdown",
   "metadata": {},
   "source": [
    "As expected, predictions follow directly from the end of training data.\n",
    "\n",
    "When the `last_window` argument is provided, the forecaster uses this data to generate the necessary lags as predictors and starts the prediction thereafter."
   ]
  },
  {
   "cell_type": "code",
   "execution_count": 5,
   "metadata": {},
   "outputs": [
    {
     "data": {
      "text/plain": [
       "2008-07-01    0.803853\n",
       "2008-08-01    0.870858\n",
       "2008-09-01    0.905003\n",
       "Freq: MS, Name: pred, dtype: float64"
      ]
     },
     "execution_count": 5,
     "metadata": {},
     "output_type": "execute_result"
    }
   ],
   "source": [
    "# Predict with last_window\n",
    "# ==============================================================================\n",
    "last_window = data['y'].tail(5)\n",
    "forecaster.predict(steps=3, last_window=last_window)"
   ]
  },
  {
   "attachments": {},
   "cell_type": "markdown",
   "metadata": {},
   "source": [
    "Since the provided `last_window` contains values from 2008-02-01 to 2008-06-01, the forecaster can create the needed lags and predict the next 5 steps."
   ]
  },
  {
   "attachments": {},
   "cell_type": "markdown",
   "metadata": {},
   "source": [
    "<script src=\"https://kit.fontawesome.com/d20edc211b.js\" crossorigin=\"anonymous\"></script>\n",
    "<div class=\"admonition note\" name=\"html-admonition\" style=\"background: rgba(255,145,0,.1); padding-top: 0px; padding-bottom: 6px; border-radius: 8px; border-left: 8px solid #ff9100; border-color: #ff9100; padding-left: 10px;\">\n",
    "<p class=\"title\">\n",
    "    <i class=\"fa-triangle-exclamation fa\" style=\"font-size: 18px; color:#ff9100;\"></i>\n",
    "    <b style=\"color: #ff9100;\"> &nbsp Warning</b>\n",
    "</p>\n",
    "\n",
    "When using the `last_window` argument, it is crucial to ensure that the length of `last_window` is sufficient to include the maximum lag (or custom predictor) used by the forecaster. For instance, if the forecaster employs lags 1, 24, and 48, `last_window` must include the most recent 48 values of the series. Failing to include the required number of past observations may result in an error or incorrect predictions.\n",
    "\n",
    "</div>"
   ]
  },
  {
   "cell_type": "markdown",
   "metadata": {},
   "source": [
    "## Real Use Case\n",
    "\n",
    "The main advantage of using the `last_window` argument is that it can be used to predict at any time, even if the Forecaster has not been trained recently.\n",
    "\n",
    "Imagine a use case where a model is trained, stored, and **1 year later** the company wants to use it to make some predictions."
   ]
  },
  {
   "cell_type": "markdown",
   "metadata": {},
   "source": [
    "### Data\n",
    "\n",
    "A gap is created between the end of the training data and the last window data to simulate this behavior."
   ]
  },
  {
   "cell_type": "code",
   "execution_count": 6,
   "metadata": {},
   "outputs": [
    {
     "name": "stdout",
     "output_type": "stream",
     "text": [
      "Train dates       : 1991-07-01 00:00:00 --- 2005-01-01 00:00:00  (n=163)\n",
      "Last window dates : 2005-08-01 00:00:00 --- 2005-12-01 00:00:00  (n=5)\n"
     ]
    }
   ],
   "source": [
    "# Split data\n",
    "# ==============================================================================\n",
    "data_train = data.loc[:'2005-01-01'].copy()\n",
    "data_last_window = data.loc['2005-08-01':'2005-12-01'].copy()\n",
    "\n",
    "print(\n",
    "    f\"Train dates       : {data_train.index.min()} --- {data_train.index.max()}\"\n",
    "    f\"  (n={len(data_train)})\"\n",
    ")\n",
    "print(\n",
    "    f\"Last window dates : {data_last_window.index.min()} --- {data_last_window.index.max()}\"\n",
    "    f\"  (n={len(last_window)})\"\n",
    ")"
   ]
  },
  {
   "cell_type": "code",
   "execution_count": 7,
   "metadata": {},
   "outputs": [
    {
     "data": {
      "image/png": "[encoded data removed]",
      "text/plain": [
       "<Figure size 900x300 with 1 Axes>"
      ]
     },
     "metadata": {},
     "output_type": "display_data"
    }
   ],
   "source": [
    "# Plot time series partition\n",
    "# ==============================================================================\n",
    "fig, ax = plt.subplots(figsize=(9, 3))\n",
    "data_train['y'].plot(label='train', ax=ax)\n",
    "data_last_window['y'].plot(label='last window', ax=ax)\n",
    "ax.set_xlabel('')\n",
    "ax.legend();"
   ]
  },
  {
   "cell_type": "markdown",
   "metadata": {},
   "source": [
    "### Forecaster initial train"
   ]
  },
  {
   "cell_type": "code",
   "execution_count": 8,
   "metadata": {},
   "outputs": [],
   "source": [
    "# Train forecaster\n",
    "# ==============================================================================\n",
    "forecaster = ForecasterAutoreg(\n",
    "                 regressor     = RandomForestRegressor(random_state=123),\n",
    "                 lags          = 5,\n",
    "                 forecaster_id = 'forecasting_series_y'\n",
    "             )\n",
    "\n",
    "forecaster.fit(y=data_train['y'])"
   ]
  },
  {
   "cell_type": "markdown",
   "metadata": {},
   "source": [
    "The size of the window needed to make predictions and the last window stored in the forecaster to make predictions **immediately after the training data** can be observed with the `window_size` and `last_window` attributes."
   ]
  },
  {
   "cell_type": "code",
   "execution_count": 9,
   "metadata": {},
   "outputs": [
    {
     "name": "stdout",
     "output_type": "stream",
     "text": [
      "Window size: 5\n",
      "Forecaster last window:\n",
      "date\n",
      "2004-09-01    1.134432\n",
      "2004-10-01    1.181011\n",
      "2004-11-01    1.216037\n",
      "2004-12-01    1.257238\n",
      "2005-01-01    1.170690\n",
      "Freq: MS, Name: y, dtype: float64\n"
     ]
    }
   ],
   "source": [
    "# Forecaster Attributes\n",
    "# ==============================================================================\n",
    "print('Window size:', forecaster.window_size)\n",
    "print(\"Forecaster last window:\")\n",
    "print(forecaster.last_window)"
   ]
  },
  {
   "cell_type": "markdown",
   "metadata": {},
   "source": [
    "The model is saved for future use."
   ]
  },
  {
   "cell_type": "markdown",
   "metadata": {},
   "source": [
    "<script src=\"https://kit.fontawesome.com/d20edc211b.js\" crossorigin=\"anonymous\"></script>\n",
    "\n",
    "<div class=\"admonition note\" name=\"html-admonition\" style=\"background: rgba(0,184,212,.1); padding-top: 0px; padding-bottom: 6px; border-radius: 8px;\n",
    "border-left: 8px solid #00b8d4; border-color: #00b8d4; padding-left: 10px;\">\n",
    "<p class=\"title\">\n",
    "    <i class=\"fa-light fa-pencil fa\" style=\"font-size: 18px; color:#00b8d4;\"></i>\n",
    "    <b> &nbsp Note</b>\n",
    "</p>\n",
    "\n",
    "Learn more about how to <a href=\"https://skforecast.org/latest/user_guides/save-load-forecaster\">Save and load forecasters</a>.\n",
    "\n",
    "</div>"
   ]
  },
  {
   "cell_type": "code",
   "execution_count": 10,
   "metadata": {},
   "outputs": [],
   "source": [
    "# Save Forecaster\n",
    "# ==============================================================================\n",
    "save_forecaster(forecaster, file_name='forecaster_001.py', verbose=False)"
   ]
  },
  {
   "cell_type": "markdown",
   "metadata": {},
   "source": [
    "### Future predictions\n",
    "\n",
    "The model is loaded to make new predictions. "
   ]
  },
  {
   "cell_type": "markdown",
   "metadata": {},
   "source": [
    "<script src=\"https://kit.fontawesome.com/d20edc211b.js\" crossorigin=\"anonymous\"></script>\n",
    "\n",
    "<div class=\"admonition note\" name=\"html-admonition\" style=\"background: rgba(0,191,191,.1); padding-top: 0px; padding-bottom: 6px; border-radius: 8px;\n",
    "border-left: 8px solid #00bfa5; border-color: #00bfa5; padding-left: 10px;\">\n",
    "<p class=\"title\">\n",
    "    <i class=\"fa-solid fa-fire-flame-curved\" style=\"font-size: 18px; color:#00bfa5;\"></i>\n",
    "    <b> &nbsp Tip</b>\n",
    "</p>\n",
    "\n",
    "Since the Forecaster has already been trained, there is <b>no need to re-fit the model</b>.\n",
    "\n",
    "</div>"
   ]
  },
  {
   "cell_type": "code",
   "execution_count": 11,
   "metadata": {},
   "outputs": [
    {
     "name": "stdout",
     "output_type": "stream",
     "text": [
      "================= \n",
      "ForecasterAutoreg \n",
      "================= \n",
      "Regressor: RandomForestRegressor(random_state=123) \n",
      "Lags: [1 2 3 4 5] \n",
      "Transformer for y: None \n",
      "Transformer for exog: None \n",
      "Window size: 5 \n",
      "Weight function included: False \n",
      "Differentiation order: None \n",
      "Exogenous included: False \n",
      "Type of exogenous variable: None \n",
      "Exogenous variables names: None \n",
      "Training range: [Timestamp('1991-07-01 00:00:00'), Timestamp('2005-01-01 00:00:00')] \n",
      "Training index type: DatetimeIndex \n",
      "Training index frequency: MS \n",
      "Regressor parameters: {'bootstrap': True, 'ccp_alpha': 0.0, 'criterion': 'squared_error', 'max_depth': None, 'max_features': 1.0, 'max_leaf_nodes': None, 'max_samples': None, 'min_impurity_decrease': 0.0, 'min_samples_leaf': 1, 'min_samples_split': 2, 'min_weight_fraction_leaf': 0.0, 'n_estimators': 100, 'n_jobs': None, 'oob_score': False, 'random_state': 123, 'verbose': 0, 'warm_start': False} \n",
      "fit_kwargs: {} \n",
      "Creation date: 2023-09-09 16:55:37 \n",
      "Last fit date: 2023-09-09 16:55:38 \n",
      "Skforecast version: 0.10.0 \n",
      "Python version: 3.10.11 \n",
      "Forecaster id: forecasting_series_y \n",
      "\n"
     ]
    }
   ],
   "source": [
    "# Load Forecaster\n",
    "# ==============================================================================\n",
    "forecaster_loaded = load_forecaster('forecaster_001.py', verbose=True)"
   ]
  },
  {
   "cell_type": "markdown",
   "metadata": {},
   "source": [
    "The forecaster's training range ends at '2005-01-01'. Using a `last_window`, the forecaster will be able to make predictions for '2006-01-01', 1 year later, without having to re-fit the model."
   ]
  },
  {
   "cell_type": "code",
   "execution_count": 12,
   "metadata": {},
   "outputs": [
    {
     "data": {
      "text/html": [
       "<div>\n",
       "<style scoped>\n",
       "    .dataframe tbody tr th:only-of-type {\n",
       "        vertical-align: middle;\n",
       "    }\n",
       "\n",
       "    .dataframe tbody tr th {\n",
       "        vertical-align: top;\n",
       "    }\n",
       "\n",
       "    .dataframe thead th {\n",
       "        text-align: right;\n",
       "    }\n",
       "</style>\n",
       "<table border=\"1\" class=\"dataframe\">\n",
       "  <thead>\n",
       "    <tr style=\"text-align: right;\">\n",
       "      <th></th>\n",
       "      <th>y</th>\n",
       "    </tr>\n",
       "    <tr>\n",
       "      <th>date</th>\n",
       "      <th></th>\n",
       "    </tr>\n",
       "  </thead>\n",
       "  <tbody>\n",
       "    <tr>\n",
       "      <th>2005-08-01</th>\n",
       "      <td>1.006497</td>\n",
       "    </tr>\n",
       "    <tr>\n",
       "      <th>2005-09-01</th>\n",
       "      <td>1.094736</td>\n",
       "    </tr>\n",
       "    <tr>\n",
       "      <th>2005-10-01</th>\n",
       "      <td>1.027043</td>\n",
       "    </tr>\n",
       "    <tr>\n",
       "      <th>2005-11-01</th>\n",
       "      <td>1.149232</td>\n",
       "    </tr>\n",
       "    <tr>\n",
       "      <th>2005-12-01</th>\n",
       "      <td>1.160712</td>\n",
       "    </tr>\n",
       "  </tbody>\n",
       "</table>\n",
       "</div>"
      ],
      "text/plain": [
       "                   y\n",
       "date                \n",
       "2005-08-01  1.006497\n",
       "2005-09-01  1.094736\n",
       "2005-10-01  1.027043\n",
       "2005-11-01  1.149232\n",
       "2005-12-01  1.160712"
      ]
     },
     "execution_count": 12,
     "metadata": {},
     "output_type": "execute_result"
    }
   ],
   "source": [
    "# 1 year later last window\n",
    "# ==============================================================================\n",
    "data_last_window"
   ]
  },
  {
   "cell_type": "code",
   "execution_count": 13,
   "metadata": {},
   "outputs": [
    {
     "data": {
      "text/plain": [
       "2006-01-01    0.979303\n",
       "2006-02-01    0.760421\n",
       "2006-03-01    0.634806\n",
       "Freq: MS, Name: pred, dtype: float64"
      ]
     },
     "execution_count": 13,
     "metadata": {},
     "output_type": "execute_result"
    }
   ],
   "source": [
    "# Predict with last_window\n",
    "# ==============================================================================\n",
    "forecaster.predict(steps=3, last_window=data_last_window['y'])"
   ]
  },
  {
   "cell_type": "code",
   "execution_count": 14,
   "metadata": {},
   "outputs": [
    {
     "data": {
      "text/html": [
       "<style>\n",
       ".jupyter-wrapper .jp-CodeCell .jp-Cell-inputWrapper .jp-InputPrompt {display: none;}\n",
       "</style>\n"
      ],
      "text/plain": [
       "<IPython.core.display.HTML object>"
      ]
     },
     "metadata": {},
     "output_type": "display_data"
    }
   ],
   "source": [
    "%%html\n",
    "<style>\n",
    ".jupyter-wrapper .jp-CodeCell .jp-Cell-inputWrapper .jp-InputPrompt {display: none;}\n",
    "</style>"
   ]
  }
 ],
 "metadata": {
  "kernelspec": {
   "display_name": "Python 3.9.13 ('skforecast')",
   "language": "python",
   "name": "python3"
  },
  "language_info": {
   "codemirror_mode": {
    "name": "ipython",
    "version": 3
   },
   "file_extension": ".py",
   "mimetype": "text/x-python",
   "name": "python",
   "nbconvert_exporter": "python",
   "pygments_lexer": "ipython3",
   "version": "3.10.11"
  },
  "toc": {
   "base_numbering": 1,
   "nav_menu": {},
   "number_sections": false,
   "sideBar": true,
   "skip_h1_title": true,
   "title_cell": "Tabla de contenidos",
   "title_sidebar": "Tabla de contenidos",
   "toc_cell": false,
   "toc_position": {
    "height": "calc(100% - 180px)",
    "left": "10px",
    "top": "150px",
    "width": "165px"
   },
   "toc_section_display": true,
   "toc_window_display": false
  },
  "varInspector": {
   "cols": {
    "lenName": 16,
    "lenType": 16,
    "lenVar": 40
   },
   "kernels_config": {
    "python": {
     "delete_cmd_postfix": "",
     "delete_cmd_prefix": "del ",
     "library": "var_list.py",
     "varRefreshCmd": "print(var_dic_list())"
    },
    "r": {
     "delete_cmd_postfix": ") ",
     "delete_cmd_prefix": "rm(",
     "library": "var_list.r",
     "varRefreshCmd": "cat(var_dic_list()) "
    }
   },
   "position": {
    "height": "144.391px",
    "left": "1478px",
    "right": "20px",
    "top": "126px",
    "width": "350px"
   },
   "types_to_exclude": [
    "module",
    "function",
    "builtin_function_or_method",
    "instance",
    "_Feature"
   ],
   "window_display": false
  },
  "vscode": {
   "interpreter": {
    "hash": "6ffed84beb63baa96f7d22d816ccf3255c078420a09b57d1f48b4641bbf1489e"
   }
  }
 },
 "nbformat": 4,
 "nbformat_minor": 4
}
