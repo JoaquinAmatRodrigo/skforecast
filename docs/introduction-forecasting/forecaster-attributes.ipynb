{
 "cells": [
  {
   "attachments": {},
   "cell_type": "markdown",
   "id": "6b299ee9",
   "metadata": {},
   "source": [
    "# Understanding the forecaster attributes\n",
    "\n",
    "During the process of creating and training a forecaster, the object stores a lot of information in its **attributes** that can be useful to the user. We will explore the main attributes included in a `ForecasterAutoreg`, but this can be extrapolated to any of the skforecast forecasters."
   ]
  },
  {
   "attachments": {},
   "cell_type": "markdown",
   "id": "d1ae70e1-1354-4aa6-9dc4-73d3c7b016c5",
   "metadata": {},
   "source": [
    "## Create and train a forecaster\n",
    "\n",
    "To be able to create and train a forecaster, at least `regressor` and `lags` must be specified."
   ]
  },
  {
   "cell_type": "code",
   "execution_count": 1,
   "id": "d378f5ff-8092-49bb-80b7-8a3996d19fb1",
   "metadata": {},
   "outputs": [],
   "source": [
    "# Libraries\n",
    "# ==============================================================================\n",
    "import pandas as pd\n",
    "from skforecast.ForecasterAutoreg import ForecasterAutoreg\n",
    "from sklearn.ensemble import RandomForestRegressor"
   ]
  },
  {
   "cell_type": "code",
   "execution_count": 2,
   "id": "0c0024f6-5d9b-4e0d-a332-dfb71280d7e3",
   "metadata": {},
   "outputs": [
    {
     "data": {
      "text/plain": [
       "================= \n",
       "ForecasterAutoreg \n",
       "================= \n",
       "Regressor: RandomForestRegressor(random_state=123) \n",
       "Lags: [1 2 3 4 5] \n",
       "Transformer for y: None \n",
       "Transformer for exog: None \n",
       "Window size: 5 \n",
       "Weight function included: False \n",
       "Differentiation order: None \n",
       "Exogenous included: False \n",
       "Type of exogenous variable: None \n",
       "Exogenous variables names: None \n",
       "Training range: [Timestamp('1991-07-01 00:00:00'), Timestamp('2008-06-01 00:00:00')] \n",
       "Training index type: DatetimeIndex \n",
       "Training index frequency: MS \n",
       "Regressor parameters: {'bootstrap': True, 'ccp_alpha': 0.0, 'criterion': 'squared_error', 'max_depth': None, 'max_features': 1.0, 'max_leaf_nodes': None, 'max_samples': None, 'min_impurity_decrease': 0.0, 'min_samples_leaf': 1, 'min_samples_split': 2, 'min_weight_fraction_leaf': 0.0, 'n_estimators': 100, 'n_jobs': None, 'oob_score': False, 'random_state': 123, 'verbose': 0, 'warm_start': False} \n",
       "fit_kwargs: {} \n",
       "Creation date: 2023-09-09 16:26:16 \n",
       "Last fit date: 2023-09-09 16:26:16 \n",
       "Skforecast version: 0.10.0 \n",
       "Python version: 3.10.11 \n",
       "Forecaster id: None "
      ]
     },
     "execution_count": 2,
     "metadata": {},
     "output_type": "execute_result"
    }
   ],
   "source": [
    "# Download data\n",
    "# ==============================================================================\n",
    "url = ('https://raw.githubusercontent.com/JoaquinAmatRodrigo/skforecast/master/data/h2o.csv')\n",
    "data = pd.read_csv(url, sep=',', header=0, names=['y', 'datetime'])\n",
    "\n",
    "# Data preprocessing\n",
    "# ==============================================================================\n",
    "data['datetime'] = pd.to_datetime(data['datetime'], format='%Y-%m-%d')\n",
    "data = data.set_index('datetime')\n",
    "data = data.asfreq('MS')\n",
    "data = data.sort_index()\n",
    "\n",
    "# Create and fit forecaster\n",
    "# ==============================================================================\n",
    "forecaster = ForecasterAutoreg(\n",
    "                 regressor = RandomForestRegressor(random_state=123),\n",
    "                 lags      = 5\n",
    "             )\n",
    "\n",
    "forecaster.fit(y=data['y'])\n",
    "forecaster"
   ]
  },
  {
   "cell_type": "code",
   "execution_count": 3,
   "id": "b722e50e",
   "metadata": {},
   "outputs": [
    {
     "name": "stdout",
     "output_type": "stream",
     "text": [
      "regressor\n",
      "transformer_y\n",
      "transformer_exog\n",
      "weight_func\n",
      "differentiation\n",
      "differentiator\n",
      "source_code_weight_func\n",
      "last_window\n",
      "index_type\n",
      "index_freq\n",
      "training_range\n",
      "included_exog\n",
      "exog_type\n",
      "exog_dtypes\n",
      "exog_col_names\n",
      "X_train_col_names\n",
      "in_sample_residuals\n",
      "out_sample_residuals\n",
      "fitted\n",
      "creation_date\n",
      "fit_date\n",
      "skforcast_version\n",
      "python_version\n",
      "forecaster_id\n",
      "lags\n",
      "max_lag\n",
      "window_size\n",
      "fit_kwargs\n"
     ]
    }
   ],
   "source": [
    "# List of attributes\n",
    "# ==============================================================================\n",
    "for attribute, value in forecaster.__dict__.items():\n",
    "    print(attribute)"
   ]
  },
  {
   "attachments": {},
   "cell_type": "markdown",
   "id": "b949acd1",
   "metadata": {},
   "source": [
    "## Regressor\n",
    "\n",
    "Skforecast is a Python library that facilitates using scikit-learn regressors as multi-step forecasters and also works with any regressor compatible with the scikit-learn API. "
   ]
  },
  {
   "cell_type": "code",
   "execution_count": 4,
   "id": "e5596357",
   "metadata": {},
   "outputs": [
    {
     "data": {
      "text/html": [
       "<style>#sk-container-id-1 {color: black;}#sk-container-id-1 pre{padding: 0;}#sk-container-id-1 div.sk-toggleable {background-color: white;}#sk-container-id-1 label.sk-toggleable__label {cursor: pointer;display: block;width: 100%;margin-bottom: 0;padding: 0.3em;box-sizing: border-box;text-align: center;}#sk-container-id-1 label.sk-toggleable__label-arrow:before {content: \"▸\";float: left;margin-right: 0.25em;color: #696969;}#sk-container-id-1 label.sk-toggleable__label-arrow:hover:before {color: black;}#sk-container-id-1 div.sk-estimator:hover label.sk-toggleable__label-arrow:before {color: black;}#sk-container-id-1 div.sk-toggleable__content {max-height: 0;max-width: 0;overflow: hidden;text-align: left;background-color: #f0f8ff;}#sk-container-id-1 div.sk-toggleable__content pre {margin: 0.2em;color: black;border-radius: 0.25em;background-color: #f0f8ff;}#sk-container-id-1 input.sk-toggleable__control:checked~div.sk-toggleable__content {max-height: 200px;max-width: 100%;overflow: auto;}#sk-container-id-1 input.sk-toggleable__control:checked~label.sk-toggleable__label-arrow:before {content: \"▾\";}#sk-container-id-1 div.sk-estimator input.sk-toggleable__control:checked~label.sk-toggleable__label {background-color: #d4ebff;}#sk-container-id-1 div.sk-label input.sk-toggleable__control:checked~label.sk-toggleable__label {background-color: #d4ebff;}#sk-container-id-1 input.sk-hidden--visually {border: 0;clip: rect(1px 1px 1px 1px);clip: rect(1px, 1px, 1px, 1px);height: 1px;margin: -1px;overflow: hidden;padding: 0;position: absolute;width: 1px;}#sk-container-id-1 div.sk-estimator {font-family: monospace;background-color: #f0f8ff;border: 1px dotted black;border-radius: 0.25em;box-sizing: border-box;margin-bottom: 0.5em;}#sk-container-id-1 div.sk-estimator:hover {background-color: #d4ebff;}#sk-container-id-1 div.sk-parallel-item::after {content: \"\";width: 100%;border-bottom: 1px solid gray;flex-grow: 1;}#sk-container-id-1 div.sk-label:hover label.sk-toggleable__label {background-color: #d4ebff;}#sk-container-id-1 div.sk-serial::before {content: \"\";position: absolute;border-left: 1px solid gray;box-sizing: border-box;top: 0;bottom: 0;left: 50%;z-index: 0;}#sk-container-id-1 div.sk-serial {display: flex;flex-direction: column;align-items: center;background-color: white;padding-right: 0.2em;padding-left: 0.2em;position: relative;}#sk-container-id-1 div.sk-item {position: relative;z-index: 1;}#sk-container-id-1 div.sk-parallel {display: flex;align-items: stretch;justify-content: center;background-color: white;position: relative;}#sk-container-id-1 div.sk-item::before, #sk-container-id-1 div.sk-parallel-item::before {content: \"\";position: absolute;border-left: 1px solid gray;box-sizing: border-box;top: 0;bottom: 0;left: 50%;z-index: -1;}#sk-container-id-1 div.sk-parallel-item {display: flex;flex-direction: column;z-index: 1;position: relative;background-color: white;}#sk-container-id-1 div.sk-parallel-item:first-child::after {align-self: flex-end;width: 50%;}#sk-container-id-1 div.sk-parallel-item:last-child::after {align-self: flex-start;width: 50%;}#sk-container-id-1 div.sk-parallel-item:only-child::after {width: 0;}#sk-container-id-1 div.sk-dashed-wrapped {border: 1px dashed gray;margin: 0 0.4em 0.5em 0.4em;box-sizing: border-box;padding-bottom: 0.4em;background-color: white;}#sk-container-id-1 div.sk-label label {font-family: monospace;font-weight: bold;display: inline-block;line-height: 1.2em;}#sk-container-id-1 div.sk-label-container {text-align: center;}#sk-container-id-1 div.sk-container {/* jupyter's `normalize.less` sets `[hidden] { display: none; }` but bootstrap.min.css set `[hidden] { display: none !important; }` so we also need the `!important` here to be able to override the default hidden behavior on the sphinx rendered scikit-learn.org. See: https://github.com/scikit-learn/scikit-learn/issues/21755 */display: inline-block !important;position: relative;}#sk-container-id-1 div.sk-text-repr-fallback {display: none;}</style><div id=\"sk-container-id-1\" class=\"sk-top-container\"><div class=\"sk-text-repr-fallback\"><pre>RandomForestRegressor(random_state=123)</pre><b>In a Jupyter environment, please rerun this cell to show the HTML representation or trust the notebook. <br />On GitHub, the HTML representation is unable to render, please try loading this page with nbviewer.org.</b></div><div class=\"sk-container\" hidden><div class=\"sk-item\"><div class=\"sk-estimator sk-toggleable\"><input class=\"sk-toggleable__control sk-hidden--visually\" id=\"sk-estimator-id-1\" type=\"checkbox\" checked><label for=\"sk-estimator-id-1\" class=\"sk-toggleable__label sk-toggleable__label-arrow\">RandomForestRegressor</label><div class=\"sk-toggleable__content\"><pre>RandomForestRegressor(random_state=123)</pre></div></div></div></div></div>"
      ],
      "text/plain": [
       "RandomForestRegressor(random_state=123)"
      ]
     },
     "execution_count": 4,
     "metadata": {},
     "output_type": "execute_result"
    }
   ],
   "source": [
    "# Forecaster regressor\n",
    "# ==============================================================================\n",
    "forecaster.regressor"
   ]
  },
  {
   "cell_type": "code",
   "execution_count": 5,
   "id": "9352f530",
   "metadata": {},
   "outputs": [
    {
     "data": {
      "text/plain": [
       "{'bootstrap': True,\n",
       " 'ccp_alpha': 0.0,\n",
       " 'criterion': 'squared_error',\n",
       " 'max_depth': None,\n",
       " 'max_features': 1.0,\n",
       " 'max_leaf_nodes': None,\n",
       " 'max_samples': None,\n",
       " 'min_impurity_decrease': 0.0,\n",
       " 'min_samples_leaf': 1,\n",
       " 'min_samples_split': 2,\n",
       " 'min_weight_fraction_leaf': 0.0,\n",
       " 'n_estimators': 100,\n",
       " 'n_jobs': None,\n",
       " 'oob_score': False,\n",
       " 'random_state': 123,\n",
       " 'verbose': 0,\n",
       " 'warm_start': False}"
      ]
     },
     "execution_count": 5,
     "metadata": {},
     "output_type": "execute_result"
    }
   ],
   "source": [
    "# Show regressor parameters\n",
    "# ==============================================================================\n",
    "forecaster.regressor.get_params(deep=True)"
   ]
  },
  {
   "attachments": {},
   "cell_type": "markdown",
   "id": "1c3dbe14",
   "metadata": {},
   "source": [
    "<script src=\"https://kit.fontawesome.com/d20edc211b.js\" crossorigin=\"anonymous\"></script>\n",
    "\n",
    "<div class=\"admonition note\" name=\"html-admonition\" style=\"background: rgba(0,184,212,.1); padding-top: 0px; padding-bottom: 6px; border-radius: 8px;\n",
    "border-left: 8px solid #00b8d4; border-color: #00b8d4; padding-left: 10px;\">\n",
    "<p class=\"title\">\n",
    "    <i class=\"fa-light fa-pencil fa\" style=\"font-size: 18px; color:#00b8d4;\"></i>\n",
    "    <b> &nbsp Note</b>\n",
    "</p>\n",
    "\n",
    "In the forecasters that follows a <a href=\"https://skforecast.org/latest/user_guides/direct-multi-step-forecasting.html\">Direct Strategy</a>, one instance of the regressor is trained for each step. All of them are stored in <code>self.regressors_</code>\n",
    "\n",
    "</div>"
   ]
  },
  {
   "attachments": {},
   "cell_type": "markdown",
   "id": "ede0528f",
   "metadata": {},
   "source": [
    "## Lags\n",
    "\n",
    "Lags used as predictors. Index starts at 1, so lag 1 is equal to t-1."
   ]
  },
  {
   "cell_type": "code",
   "execution_count": 6,
   "id": "b71c8d05",
   "metadata": {},
   "outputs": [
    {
     "data": {
      "text/plain": [
       "array([1, 2, 3, 4, 5])"
      ]
     },
     "execution_count": 6,
     "metadata": {},
     "output_type": "execute_result"
    }
   ],
   "source": [
    "# Forecaster lags\n",
    "# ==============================================================================\n",
    "forecaster.lags"
   ]
  },
  {
   "attachments": {},
   "cell_type": "markdown",
   "id": "7b01accc",
   "metadata": {},
   "source": [
    "## Last window\n",
    "\n",
    "Last window the forecaster has seen during training. It stores the values needed to predict the next `step` immediately after the training data."
   ]
  },
  {
   "cell_type": "code",
   "execution_count": 7,
   "id": "fa178d33",
   "metadata": {},
   "outputs": [
    {
     "data": {
      "text/plain": [
       "datetime\n",
       "2008-02-01    0.761822\n",
       "2008-03-01    0.649435\n",
       "2008-04-01    0.827887\n",
       "2008-05-01    0.816255\n",
       "2008-06-01    0.762137\n",
       "Freq: MS, Name: y, dtype: float64"
      ]
     },
     "execution_count": 7,
     "metadata": {},
     "output_type": "execute_result"
    }
   ],
   "source": [
    "# Forecaster last window\n",
    "# ==============================================================================\n",
    "forecaster.last_window"
   ]
  },
  {
   "attachments": {},
   "cell_type": "markdown",
   "id": "2f0d6a64",
   "metadata": {},
   "source": [
    "<script src=\"https://kit.fontawesome.com/d20edc211b.js\" crossorigin=\"anonymous\"></script>\n",
    "\n",
    "<div class=\"admonition note\" name=\"html-admonition\" style=\"background: rgba(0,191,191,.1); padding-top: 0px; padding-bottom: 6px; border-radius: 8px;\n",
    "border-left: 8px solid #00bfa5; border-color: #00bfa5; padding-left: 10px;\">\n",
    "<p class=\"title\">\n",
    "    <i class=\"fa-solid fa-fire-flame-curved\" style=\"font-size: 18px; color:#00bfa5;\"></i>\n",
    "    <b> &nbsp Tip</b>\n",
    "</p>\n",
    "\n",
    "\n",
    "Learn how to get your forecasters into production and get the most out of them with <code>last_window</code>. <a href=\"https://skforecast.org/latest/user_guides/forecaster-in-production.html\">Using forecasting models in production</a>.\n",
    "\n",
    "</div>"
   ]
  },
  {
   "attachments": {},
   "cell_type": "markdown",
   "id": "a13614ed",
   "metadata": {},
   "source": [
    "## Window size\n",
    "\n",
    "The size of the data window needed to create the predictors. It is equal to `forecaster.max_lag`."
   ]
  },
  {
   "cell_type": "code",
   "execution_count": 8,
   "id": "28bd1661",
   "metadata": {},
   "outputs": [
    {
     "data": {
      "text/plain": [
       "5"
      ]
     },
     "execution_count": 8,
     "metadata": {},
     "output_type": "execute_result"
    }
   ],
   "source": [
    "# Forecaster window size\n",
    "# ==============================================================================\n",
    "forecaster.window_size"
   ]
  },
  {
   "attachments": {},
   "cell_type": "markdown",
   "id": "3cc973da",
   "metadata": {},
   "source": [
    "## In-sample residuals\n",
    "\n",
    "Residuals from models predicting training data. Only stored up to 1000 values. If `transformer_series` is not `None`, the residuals are stored in the transformed scale."
   ]
  },
  {
   "attachments": {},
   "cell_type": "markdown",
   "id": "c4098858",
   "metadata": {},
   "source": [
    "<script src=\"https://kit.fontawesome.com/d20edc211b.js\" crossorigin=\"anonymous\"></script>\n",
    "\n",
    "<div class=\"admonition note\" name=\"html-admonition\" style=\"background: rgba(0,184,212,.1); padding-top: 0px; padding-bottom: 6px; border-radius: 8px;\n",
    "border-left: 8px solid #00b8d4; border-color: #00b8d4; padding-left: 10px;\">\n",
    "<p class=\"title\">\n",
    "    <i class=\"fa-light fa-pencil fa\" style=\"font-size: 18px; color:#00b8d4;\"></i>\n",
    "    <b> &nbsp Note</b>\n",
    "</p>\n",
    "\n",
    "In the forecasters that follows a <a href=\"https://skforecast.org/latest/user_guides/direct-multi-step-forecasting.html\">Direct Strategy</a> and in the <a href=\"https://skforecast.org/latest/user_guides/independent-multi-time-series-forecasting.html\">\n",
    "Independent multi-series forecasting</a> this parameter is a <code>dict</code> containing the residuals for each regressor/serie.\n",
    "\n",
    "</div>"
   ]
  },
  {
   "cell_type": "code",
   "execution_count": 9,
   "id": "5d0f57f3",
   "metadata": {},
   "outputs": [
    {
     "name": "stdout",
     "output_type": "stream",
     "text": [
      "Length: 199\n"
     ]
    },
    {
     "data": {
      "text/plain": [
       "array([ 0.02232928,  0.0597808 , -0.10463712, -0.03318622, -0.00291908])"
      ]
     },
     "execution_count": 9,
     "metadata": {},
     "output_type": "execute_result"
    }
   ],
   "source": [
    "# Forecaster in-sample residuals\n",
    "# ==============================================================================\n",
    "print(\"Length:\", len(forecaster.in_sample_residuals))\n",
    "forecaster.in_sample_residuals[:5]"
   ]
  },
  {
   "attachments": {},
   "cell_type": "markdown",
   "id": "10f5a8f2",
   "metadata": {},
   "source": [
    "## Out-of-sample residuals\n",
    "\n",
    "Residuals from models predicting non training data. Only stored up to 1000 values. If `transformer_y` is not `None`, residuals are assumed to be in the transformed scale. Use `set_out_sample_residuals`  method to set values.\n",
    "\n",
    "As no values have been added, the parameter is `None`."
   ]
  },
  {
   "cell_type": "code",
   "execution_count": 10,
   "id": "37a73add",
   "metadata": {},
   "outputs": [],
   "source": [
    "# Forecaster out-of-sample residuals\n",
    "# ==============================================================================\n",
    "forecaster.out_sample_residuals"
   ]
  },
  {
   "cell_type": "code",
   "execution_count": 11,
   "id": "105bd2f4",
   "metadata": {},
   "outputs": [
    {
     "data": {
      "text/html": [
       "<style>\n",
       ".jupyter-wrapper .jp-CodeCell .jp-Cell-inputWrapper .jp-InputPrompt {display: none;}\n",
       "</style>\n"
      ],
      "text/plain": [
       "<IPython.core.display.HTML object>"
      ]
     },
     "metadata": {},
     "output_type": "display_data"
    }
   ],
   "source": [
    "%%html\n",
    "<style>\n",
    ".jupyter-wrapper .jp-CodeCell .jp-Cell-inputWrapper .jp-InputPrompt {display: none;}\n",
    "</style>"
   ]
  }
 ],
 "metadata": {
  "kernelspec": {
   "display_name": "Python 3.9.13 ('skforecast')",
   "language": "python",
   "name": "python3"
  },
  "language_info": {
   "codemirror_mode": {
    "name": "ipython",
    "version": 3
   },
   "file_extension": ".py",
   "mimetype": "text/x-python",
   "name": "python",
   "nbconvert_exporter": "python",
   "pygments_lexer": "ipython3",
   "version": "3.10.11"
  },
  "vscode": {
   "interpreter": {
    "hash": "6ffed84beb63baa96f7d22d816ccf3255c078420a09b57d1f48b4641bbf1489e"
   }
  }
 },
 "nbformat": 4,
 "nbformat_minor": 5
}
