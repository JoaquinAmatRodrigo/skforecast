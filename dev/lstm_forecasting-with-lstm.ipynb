{
 "cells": [
  {
   "cell_type": "markdown",
   "metadata": {},
   "source": [
    " "
   ]
  },
  {
   "cell_type": "markdown",
   "metadata": {},
   "source": [
    "<h1><center><font size=\"25\">Forecasting with LSTM models</font></center></h1>"
   ]
  },
  {
   "cell_type": "markdown",
   "metadata": {},
   "source": [
    "<center><b>Joaquín Amat Rodrigo, Javier Escobar Ortiz</b></center>\n",
    "\n",
    "<center><i>September, 2023</i></center>"
   ]
  },
  {
   "cell_type": "markdown",
   "metadata": {},
   "source": [
    "**More about forecasting**\n",
    "\n",
    "+ [Introduction to forecasting with skforecast](https://cienciadedatos.net/documentos/py27-time-series-forecasting-python-scikitlearn.html)\n",
    "+ [Forecasting time series with gradient boosting: Skforecast, XGBoost, LightGBM and CatBoost](https://www.cienciadedatos.net/documentos/py39-forecasting-time-series-with-skforecast-xgboost-lightgbm-catboost.html)\n",
    "+ [Forecasting electricity demand with Python](https://www.cienciadedatos.net/documentos/py29-forecasting-electricity-power-demand-python.html)\n",
    "+ [Forecasting web traffic with machine learning and Python](https://www.cienciadedatos.net/documentos/py37-forecasting-web-traffic-machine-learning.html)\n",
    "+ [Bitcoin price prediction with Python, when the past does not repeat itself](https://www.cienciadedatos.net/documentos/py41-forecasting-cryptocurrency-bitcoin-machine-learning-python.html)\n",
    "+ [Prediction intervals in forecasting models](https://www.cienciadedatos.net/documentos/py42-forecasting-prediction-intervals-machine-learning.html)\n",
    "+ [Intermittent demand forecasting with skforecast](https://www.cienciadedatos.net/documentos/py48-intermittent-demand-forecasting)\n",
    "\n",
    "<p align=\"center\"><img src='https://github.com/JoaquinAmatRodrigo/skforecast/raw/master/docs/img/banner-landing-page-skforecast.png'style=\"width: 600px\"></p>"
   ]
  },
  {
   "cell_type": "markdown",
   "metadata": {},
   "source": [
    "## Introdución\n"
   ]
  },
  {
   "cell_type": "markdown",
   "metadata": {},
   "source": [
    "<p align=\"center\"><img src='lstm1.png'style=\"width: 600px\"></p>"
   ]
  },
  {
   "cell_type": "markdown",
   "metadata": {},
   "source": [
    "## Librerías"
   ]
  },
  {
   "cell_type": "code",
   "execution_count": 1,
   "metadata": {},
   "outputs": [
    {
     "data": {
      "text/plain": [
       "'/Users/fernandocarazo/Documents/git-repos/skforecast'"
      ]
     },
     "execution_count": 1,
     "metadata": {},
     "output_type": "execute_result"
    }
   ],
   "source": [
    "%load_ext autoreload\n",
    "%autoreload 2\n",
    "import sys\n",
    "from pathlib import Path\n",
    "sys.path.insert(1, str(Path.cwd().parent))\n",
    "str(Path.cwd().parent)"
   ]
  },
  {
   "cell_type": "code",
   "execution_count": 2,
   "metadata": {},
   "outputs": [],
   "source": [
    "#!pip install tensorflow\n",
    "#!pip install torch -f https://download.pytorch.org/whl/torch_stable.html\n",
    "#!pip install pytorch-forecasting"
   ]
  },
  {
   "cell_type": "code",
   "execution_count": 79,
   "metadata": {},
   "outputs": [],
   "source": [
    "# Data processing\n",
    "# ==============================================================================\n",
    "import numpy as np\n",
    "import pandas as pd\n",
    "import matplotlib.pyplot as plt\n",
    "# Modelling\n",
    "# ==============================================================================\n",
    "from skforecast.ForecasterAutoreg import ForecasterAutoreg\n",
    "from skforecast.ForecasterAutoregDirect import ForecasterAutoregDirect\n",
    "from skforecast.ForecasterRnn import ForecasterRnn\n",
    "from sklearn.linear_model import LinearRegression\n",
    "from sklearn.metrics import mean_absolute_error\n",
    "from sklearn.preprocessing import MinMaxScaler\n",
    "\n",
    "import tensorflow as tf\n",
    "from tensorflow import keras\n",
    "from keras.models import Model\n",
    "from keras.layers import Dense, Input, Reshape, LSTM\n",
    "from tensorflow.keras.optimizers import Adam, RMSprop, SGD, Adagrad, Adadelta, Adamax, Nadam\n",
    "from tensorflow.keras.losses import MeanSquaredError\n",
    "\n",
    "from tensorflow.keras.callbacks import EarlyStopping\n",
    "\n"
   ]
  },
  {
   "cell_type": "code",
   "execution_count": 82,
   "metadata": {},
   "outputs": [],
   "source": [
    "from skforecast.utils.rnn import create_model_lstm"
   ]
  },
  {
   "cell_type": "code",
   "execution_count": null,
   "metadata": {},
   "outputs": [],
   "source": []
  },
  {
   "cell_type": "markdown",
   "metadata": {},
   "source": [
    "## Datos"
   ]
  },
  {
   "cell_type": "code",
   "execution_count": 4,
   "metadata": {},
   "outputs": [
    {
     "name": "stdout",
     "output_type": "stream",
     "text": [
      "date_time\n",
      "3600.0    17543\n",
      "Name: count, dtype: int64\n"
     ]
    },
    {
     "data": {
      "text/html": [
       "<div>\n",
       "<style scoped>\n",
       "    .dataframe tbody tr th:only-of-type {\n",
       "        vertical-align: middle;\n",
       "    }\n",
       "\n",
       "    .dataframe tbody tr th {\n",
       "        vertical-align: top;\n",
       "    }\n",
       "\n",
       "    .dataframe thead th {\n",
       "        text-align: right;\n",
       "    }\n",
       "</style>\n",
       "<table border=\"1\" class=\"dataframe\">\n",
       "  <thead>\n",
       "    <tr style=\"text-align: right;\">\n",
       "      <th></th>\n",
       "      <th>holiday</th>\n",
       "      <th>temp</th>\n",
       "      <th>atemp</th>\n",
       "      <th>hum</th>\n",
       "      <th>windspeed</th>\n",
       "      <th>users</th>\n",
       "      <th>month</th>\n",
       "      <th>hour</th>\n",
       "      <th>weekday</th>\n",
       "    </tr>\n",
       "    <tr>\n",
       "      <th>date_time</th>\n",
       "      <th></th>\n",
       "      <th></th>\n",
       "      <th></th>\n",
       "      <th></th>\n",
       "      <th></th>\n",
       "      <th></th>\n",
       "      <th></th>\n",
       "      <th></th>\n",
       "      <th></th>\n",
       "    </tr>\n",
       "  </thead>\n",
       "  <tbody>\n",
       "    <tr>\n",
       "      <th>2011-01-01 00:00:00</th>\n",
       "      <td>0.0</td>\n",
       "      <td>9.84</td>\n",
       "      <td>14.395</td>\n",
       "      <td>81.0</td>\n",
       "      <td>0.0</td>\n",
       "      <td>16.0</td>\n",
       "      <td>1</td>\n",
       "      <td>0</td>\n",
       "      <td>5</td>\n",
       "    </tr>\n",
       "    <tr>\n",
       "      <th>2011-01-01 01:00:00</th>\n",
       "      <td>0.0</td>\n",
       "      <td>9.02</td>\n",
       "      <td>13.635</td>\n",
       "      <td>80.0</td>\n",
       "      <td>0.0</td>\n",
       "      <td>40.0</td>\n",
       "      <td>1</td>\n",
       "      <td>1</td>\n",
       "      <td>5</td>\n",
       "    </tr>\n",
       "    <tr>\n",
       "      <th>2011-01-01 02:00:00</th>\n",
       "      <td>0.0</td>\n",
       "      <td>9.02</td>\n",
       "      <td>13.635</td>\n",
       "      <td>80.0</td>\n",
       "      <td>0.0</td>\n",
       "      <td>32.0</td>\n",
       "      <td>1</td>\n",
       "      <td>2</td>\n",
       "      <td>5</td>\n",
       "    </tr>\n",
       "    <tr>\n",
       "      <th>2011-01-01 03:00:00</th>\n",
       "      <td>0.0</td>\n",
       "      <td>9.84</td>\n",
       "      <td>14.395</td>\n",
       "      <td>75.0</td>\n",
       "      <td>0.0</td>\n",
       "      <td>13.0</td>\n",
       "      <td>1</td>\n",
       "      <td>3</td>\n",
       "      <td>5</td>\n",
       "    </tr>\n",
       "    <tr>\n",
       "      <th>2011-01-01 04:00:00</th>\n",
       "      <td>0.0</td>\n",
       "      <td>9.84</td>\n",
       "      <td>14.395</td>\n",
       "      <td>75.0</td>\n",
       "      <td>0.0</td>\n",
       "      <td>1.0</td>\n",
       "      <td>1</td>\n",
       "      <td>4</td>\n",
       "      <td>5</td>\n",
       "    </tr>\n",
       "  </tbody>\n",
       "</table>\n",
       "</div>"
      ],
      "text/plain": [
       "                     holiday  temp   atemp   hum  windspeed  users  month  \\\n",
       "date_time                                                                   \n",
       "2011-01-01 00:00:00      0.0  9.84  14.395  81.0        0.0   16.0      1   \n",
       "2011-01-01 01:00:00      0.0  9.02  13.635  80.0        0.0   40.0      1   \n",
       "2011-01-01 02:00:00      0.0  9.02  13.635  80.0        0.0   32.0      1   \n",
       "2011-01-01 03:00:00      0.0  9.84  14.395  75.0        0.0   13.0      1   \n",
       "2011-01-01 04:00:00      0.0  9.84  14.395  75.0        0.0    1.0      1   \n",
       "\n",
       "                     hour  weekday  \n",
       "date_time                           \n",
       "2011-01-01 00:00:00     0        5  \n",
       "2011-01-01 01:00:00     1        5  \n",
       "2011-01-01 02:00:00     2        5  \n",
       "2011-01-01 03:00:00     3        5  \n",
       "2011-01-01 04:00:00     4        5  "
      ]
     },
     "execution_count": 4,
     "metadata": {},
     "output_type": "execute_result"
    }
   ],
   "source": [
    "# ---------------------------------------------------------------------------- #\n",
    "#                               Downloading data                               #\n",
    "# ---------------------------------------------------------------------------- #\n",
    "\n",
    "url = ('https://raw.githubusercontent.com/JoaquinAmatRodrigo/Estadistica-machine-'\n",
    "       'learning-python/master/data/bike_sharing_dataset_clean.csv')\n",
    "data = pd.read_csv(url)\n",
    "data['date_time'] = pd.to_datetime(data['date_time'], format='%Y-%m-%d %H:%M:%S')\n",
    "data = data.set_index('date_time')\n",
    "print(data.index.to_series().diff().dt.total_seconds().value_counts())\n",
    "data = data.asfreq('H')\n",
    "data = data.sort_index()\n",
    "data = data.drop(columns=['workingday', \"weather\"])\n",
    "data.head()"
   ]
  },
  {
   "cell_type": "code",
   "execution_count": 5,
   "metadata": {},
   "outputs": [
    {
     "name": "stdout",
     "output_type": "stream",
     "text": [
      "Dates train      : 2011-01-01 00:00:00 --- 2012-03-31 23:00:00  (n=10944)\n",
      "Dates validacion : 2012-04-01 00:00:00 --- 2012-08-31 23:00:00  (n=3672)\n",
      "Dates test       : 2012-09-01 00:00:00 --- 2012-12-31 23:00:00  (n=2928)\n"
     ]
    }
   ],
   "source": [
    "# ---------------------------------------------------------------------------- #\n",
    "#                          Split train-validation-test                         #\n",
    "# ---------------------------------------------------------------------------- #\n",
    "\n",
    "end_train = '2012-03-31 23:59:00'\n",
    "end_validation = '2012-08-31 23:59:00'\n",
    "data_train = data.loc[: end_train, :]\n",
    "data_val   = data.loc[end_train:end_validation, :]\n",
    "data_test  = data.loc[end_validation:, :]\n",
    "\n",
    "print(f\"Dates train      : {data_train.index.min()} --- {data_train.index.max()}  (n={len(data_train)})\")\n",
    "print(f\"Dates validacion : {data_val.index.min()} --- {data_val.index.max()}  (n={len(data_val)})\")\n",
    "print(f\"Dates test       : {data_test.index.min()} --- {data_test.index.max()}  (n={len(data_test)})\")"
   ]
  },
  {
   "cell_type": "code",
   "execution_count": 80,
   "metadata": {},
   "outputs": [
    {
     "data": {
      "text/plain": [
       "<matplotlib.legend.Legend at 0x138b8bd50>"
      ]
     },
     "execution_count": 80,
     "metadata": {},
     "output_type": "execute_result"
    },
    {
     "data": {
      "image/png": "[encoded data removed]",
      "text/plain": [
       "<Figure size 1000x300 with 1 Axes>"
      ]
     },
     "metadata": {},
     "output_type": "display_data"
    }
   ],
   "source": [
    "import seaborn as sns\n",
    "# ----------------------------------- Users ---------------------------------- #\n",
    "fig, ax = plt.subplots(figsize=(10,3))\n",
    "data_train[[\"users\"]].rolling(100).mean().plot(ax=ax, label=\"train\")\n",
    "data_val[[\"users\"]].rolling(100).mean().plot(ax=ax, label=\"val\")\n",
    "ax.legend([\"train\", \"val\"]) "
   ]
  },
  {
   "cell_type": "markdown",
   "metadata": {},
   "source": [
    "## Modelo LSTM con tensorflow-keras\n",
    "\n",
    "https://machinelearningmastery.com/how-to-develop-lstm-models-for-time-series-forecasting/\n",
    "\n",
    "https://www.tensorflow.org/tutorials/structured_data/time_series\n",
    "\n",
    "\n",
    "We are working with a univariate series, so the number of features is one, for one variable.\n",
    "\n",
    "The number of time steps as input is the number of lags used as predictors.\n",
    "\n",
    "We almost always have multiple samples, therefore, the model will expect the input component of training data to have the dimensions or shape: [samples, timesteps, features]"
   ]
  },
  {
   "cell_type": "markdown",
   "metadata": {},
   "source": [
    "# Multi-series, multi-step"
   ]
  },
  {
   "cell_type": "code",
   "execution_count": 94,
   "metadata": {},
   "outputs": [
    {
     "name": "stdout",
     "output_type": "stream",
     "text": [
      "Epoch 1/25\n",
      "86/86 [==============================] - 5s 35ms/step - loss: 0.3149 - val_loss: 0.0436\n",
      "Epoch 2/25\n",
      "86/86 [==============================] - 3s 32ms/step - loss: 0.0175 - val_loss: 0.0326\n",
      "Epoch 3/25\n",
      "86/86 [==============================] - 3s 30ms/step - loss: 0.0144 - val_loss: 0.0293\n",
      "Epoch 4/25\n",
      "86/86 [==============================] - 3s 30ms/step - loss: 0.0129 - val_loss: 0.0242\n",
      "Epoch 5/25\n",
      "86/86 [==============================] - 3s 33ms/step - loss: 0.0112 - val_loss: 0.0221\n",
      "Epoch 6/25\n",
      "86/86 [==============================] - 3s 31ms/step - loss: 0.0098 - val_loss: 0.0262\n",
      "Epoch 7/25\n",
      "86/86 [==============================] - 3s 32ms/step - loss: 0.0092 - val_loss: 0.0245\n",
      "Epoch 8/25\n",
      "86/86 [==============================] - 3s 31ms/step - loss: 0.0090 - val_loss: 0.0182\n",
      "Epoch 9/25\n",
      "86/86 [==============================] - 3s 33ms/step - loss: 0.0085 - val_loss: 0.0207\n",
      "Epoch 10/25\n",
      "86/86 [==============================] - 3s 32ms/step - loss: 0.0082 - val_loss: 0.0184\n",
      "Epoch 11/25\n",
      "86/86 [==============================] - 3s 32ms/step - loss: 0.0078 - val_loss: 0.0191\n",
      "Epoch 12/25\n",
      "86/86 [==============================] - 3s 32ms/step - loss: 0.0075 - val_loss: 0.0172\n",
      "Epoch 13/25\n",
      "86/86 [==============================] - 4s 41ms/step - loss: 0.0074 - val_loss: 0.0185\n",
      "Epoch 14/25\n",
      "86/86 [==============================] - 3s 31ms/step - loss: 0.0073 - val_loss: 0.0179\n",
      "Epoch 15/25\n",
      "86/86 [==============================] - 3s 36ms/step - loss: 0.0073 - val_loss: 0.0169\n",
      "Epoch 16/25\n",
      "86/86 [==============================] - 3s 32ms/step - loss: 0.0069 - val_loss: 0.0195\n",
      "Epoch 17/25\n",
      "86/86 [==============================] - 3s 36ms/step - loss: 0.0070 - val_loss: 0.0163\n",
      "Epoch 18/25\n",
      "86/86 [==============================] - 4s 41ms/step - loss: 0.0068 - val_loss: 0.0165\n",
      "Epoch 19/25\n",
      "86/86 [==============================] - 3s 29ms/step - loss: 0.0068 - val_loss: 0.0154\n",
      "Epoch 20/25\n",
      "86/86 [==============================] - 3s 30ms/step - loss: 0.0069 - val_loss: 0.0157\n",
      "Epoch 21/25\n",
      "86/86 [==============================] - 3s 35ms/step - loss: 0.0066 - val_loss: 0.0161\n",
      "Epoch 22/25\n",
      "86/86 [==============================] - 3s 32ms/step - loss: 0.0066 - val_loss: 0.0154\n",
      "Epoch 23/25\n",
      "86/86 [==============================] - 3s 33ms/step - loss: 0.0066 - val_loss: 0.0143\n",
      "Epoch 24/25\n",
      "86/86 [==============================] - 3s 39ms/step - loss: 0.0066 - val_loss: 0.0138\n",
      "Epoch 25/25\n",
      "86/86 [==============================] - 3s 31ms/step - loss: 0.0065 - val_loss: 0.0156\n"
     ]
    }
   ],
   "source": [
    "levels = [\"users\", \"temp\", \"hum\"]\n",
    "n_lags=24\n",
    "n_steps=5\n",
    "\n",
    "model = create_model_lstm(\n",
    "    series=data_train,\n",
    "    n_lags=n_lags,\n",
    "    n_steps=n_steps,\n",
    "    levels = levels\n",
    ")\n",
    "\n",
    "forecaster = ForecasterRnn(\n",
    "    regressor=model, \n",
    "    levels=levels, \n",
    "    transformer_series=MinMaxScaler(),\n",
    "    fit_kwargs={\n",
    "        \"epochs\":25,\n",
    "        \"batch_size\":128,\n",
    "        \"callbacks\":[EarlyStopping(monitor='val_loss', patience=5)]\n",
    "    },\n",
    "    \n",
    ")\n",
    "\n",
    "forecaster.compile(optimizer=Adam(learning_rate=0.01), loss= MeanSquaredError())\n",
    "\n",
    "forecaster.fit(\n",
    "    data_train,\n",
    "    data_val\n",
    ")"
   ]
  },
  {
   "cell_type": "code",
   "execution_count": null,
   "metadata": {},
   "outputs": [],
   "source": [
    "\n",
    "# ------------------------------ Train the model ----------------------------- #\n",
    "history = model.fit(\n",
    "    X_train, \n",
    "    y_train, \n",
    "    validation_data=(X_val, y_val),\n",
    "    epochs=100, \n",
    "    verbose=1, \n",
    "    batch_size=128,\n",
    "    callbacks=[EarlyStopping(monitor='val_loss', patience=5)]\n",
    ")"
   ]
  },
  {
   "cell_type": "code",
   "execution_count": null,
   "metadata": {},
   "outputs": [],
   "source": [
    "\n",
    "\n",
    "# ---------------------------------------------------------------------------- #\n",
    "#                          Training and test matrices                          #\n",
    "# ---------------------------------------------------------------------------- #\n",
    "\n",
    "X_train, y_train = forecaster.create_train_X_y(data_train)\n",
    "X_val, y_val     = forecaster.create_train_X_y(data_val)\n",
    "X_test, y_test   = forecaster.create_train_X_y(data_test)\n",
    "\n",
    "print(\"X_train shape\\n-------------\")\n",
    "display(X_train.shape)\n",
    "print(\"y_train shape\\n-------------\")\n",
    "display(y_train.shape)"
   ]
  },
  {
   "cell_type": "code",
   "execution_count": 77,
   "metadata": {},
   "outputs": [
    {
     "data": {
      "text/plain": [
       "1"
      ]
     },
     "execution_count": 77,
     "metadata": {},
     "output_type": "execute_result"
    }
   ],
   "source": []
  },
  {
   "cell_type": "code",
   "execution_count": null,
   "metadata": {},
   "outputs": [],
   "source": [
    "# -------------------------------- Parameters -------------------------------- #\n",
    "n_lags = X_train.shape[1]\n",
    "n_series = X_train.shape[2]\n",
    "\n",
    "n_steps = y_train.shape[1]\n",
    "n_outputs = y_train.shape[2]"
   ]
  },
  {
   "cell_type": "code",
   "execution_count": 46,
   "metadata": {},
   "outputs": [
    {
     "name": "stdout",
     "output_type": "stream",
     "text": [
      "Epoch 1/100\n",
      "86/86 [==============================] - 4s 31ms/step - loss: 0.0128 - val_loss: 0.0244\n",
      "Epoch 2/100\n",
      "86/86 [==============================] - 3s 30ms/step - loss: 0.0081 - val_loss: 0.0220\n",
      "Epoch 3/100\n",
      "86/86 [==============================] - 3s 30ms/step - loss: 0.0067 - val_loss: 0.0195\n",
      "Epoch 4/100\n",
      "86/86 [==============================] - 3s 31ms/step - loss: 0.0059 - val_loss: 0.0246\n",
      "Epoch 5/100\n",
      "86/86 [==============================] - 3s 30ms/step - loss: 0.0048 - val_loss: 0.0127\n",
      "Epoch 6/100\n",
      "86/86 [==============================] - 3s 30ms/step - loss: 0.0042 - val_loss: 0.0117\n",
      "Epoch 7/100\n",
      "86/86 [==============================] - 3s 30ms/step - loss: 0.0036 - val_loss: 0.0101\n",
      "Epoch 8/100\n",
      "86/86 [==============================] - 3s 31ms/step - loss: 0.0031 - val_loss: 0.0145\n",
      "Epoch 9/100\n",
      "86/86 [==============================] - 3s 38ms/step - loss: 0.0033 - val_loss: 0.0092\n",
      "Epoch 10/100\n",
      "86/86 [==============================] - 3s 31ms/step - loss: 0.0028 - val_loss: 0.0089\n",
      "Epoch 11/100\n",
      "86/86 [==============================] - 3s 33ms/step - loss: 0.0028 - val_loss: 0.0119\n",
      "Epoch 12/100\n",
      "86/86 [==============================] - 3s 31ms/step - loss: 0.0027 - val_loss: 0.0106\n",
      "Epoch 13/100\n",
      "86/86 [==============================] - 3s 33ms/step - loss: 0.0025 - val_loss: 0.0105\n",
      "Epoch 14/100\n",
      "86/86 [==============================] - 3s 30ms/step - loss: 0.0025 - val_loss: 0.0089\n",
      "Epoch 15/100\n",
      "86/86 [==============================] - 3s 31ms/step - loss: 0.0023 - val_loss: 0.0132\n",
      "Epoch 16/100\n",
      "86/86 [==============================] - 3s 30ms/step - loss: 0.0024 - val_loss: 0.0090\n",
      "Epoch 17/100\n",
      "86/86 [==============================] - 3s 32ms/step - loss: 0.0022 - val_loss: 0.0076\n",
      "Epoch 18/100\n",
      "86/86 [==============================] - 3s 32ms/step - loss: 0.0021 - val_loss: 0.0091\n",
      "Epoch 19/100\n",
      "86/86 [==============================] - 3s 34ms/step - loss: 0.0020 - val_loss: 0.0080\n",
      "Epoch 20/100\n",
      "86/86 [==============================] - 3s 36ms/step - loss: 0.0022 - val_loss: 0.0119\n",
      "Epoch 21/100\n",
      "86/86 [==============================] - 4s 41ms/step - loss: 0.0023 - val_loss: 0.0090\n",
      "Epoch 22/100\n",
      "86/86 [==============================] - 3s 32ms/step - loss: 0.0021 - val_loss: 0.0096\n"
     ]
    }
   ],
   "source": []
  },
  {
   "cell_type": "code",
   "execution_count": 47,
   "metadata": {},
   "outputs": [
    {
     "data": {
      "image/png": "[encoded data removed]",
      "text/plain": [
       "<Figure size 640x480 with 1 Axes>"
      ]
     },
     "metadata": {},
     "output_type": "display_data"
    }
   ],
   "source": [
    "# ---------------------------------------------------------------------------- #\n",
    "#                                 plot history                                 #\n",
    "# ---------------------------------------------------------------------------- #\n",
    "\n",
    "def plot_history(history):\n",
    "    plt.plot(history['loss'][1:], label='train')\n",
    "    plt.plot(history['val_loss'][1:], label='test')\n",
    "    plt.legend()\n",
    "    plt.show()\n",
    "    \n",
    "plot_history(model.history.history)\n",
    "    "
   ]
  },
  {
   "cell_type": "code",
   "execution_count": 48,
   "metadata": {},
   "outputs": [
    {
     "name": "stdout",
     "output_type": "stream",
     "text": [
      "90/90 [==============================] - 1s 5ms/step - loss: 0.0079\n"
     ]
    },
    {
     "data": {
      "text/plain": [
       "0.007896093651652336"
      ]
     },
     "execution_count": 48,
     "metadata": {},
     "output_type": "execute_result"
    }
   ],
   "source": [
    "model.evaluate(X_test, y_test)"
   ]
  },
  {
   "cell_type": "code",
   "execution_count": 57,
   "metadata": {},
   "outputs": [
    {
     "name": "stdout",
     "output_type": "stream",
     "text": [
      "1/1 [==============================] - 0s 202ms/step\n"
     ]
    }
   ],
   "source": [
    "predictions = model.predict(X_test[:2])"
   ]
  },
  {
   "cell_type": "code",
   "execution_count": 61,
   "metadata": {},
   "outputs": [
    {
     "ename": "ValueError",
     "evalue": "Found array with dim 3. None expected <= 2.",
     "output_type": "error",
     "traceback": [
      "\u001b[0;31m---------------------------------------------------------------------------\u001b[0m",
      "\u001b[0;31mValueError\u001b[0m                                Traceback (most recent call last)",
      "\u001b[1;32m/Users/fernandocarazo/Documents/git-repos/skforecast/dev/lstm_forecasting-with-lstm.ipynb Cell 23\u001b[0m line \u001b[0;36m1\n\u001b[0;32m----> <a href='vscode-notebook-cell:/Users/fernandocarazo/Documents/git-repos/skforecast/dev/lstm_forecasting-with-lstm.ipynb#Y141sZmlsZQ%3D%3D?line=0'>1</a>\u001b[0m forecaster\u001b[39m.\u001b[39;49mtransformer_series\u001b[39m.\u001b[39;49minverse_transform(predictions)\n",
      "File \u001b[0;32m~/opt/miniconda3/envs/skforecast_10_py11/lib/python3.11/site-packages/sklearn/preprocessing/_data.py:543\u001b[0m, in \u001b[0;36mMinMaxScaler.inverse_transform\u001b[0;34m(self, X)\u001b[0m\n\u001b[1;32m    529\u001b[0m \u001b[39m\u001b[39m\u001b[39m\"\"\"Undo the scaling of X according to feature_range.\u001b[39;00m\n\u001b[1;32m    530\u001b[0m \n\u001b[1;32m    531\u001b[0m \u001b[39mParameters\u001b[39;00m\n\u001b[0;32m   (...)\u001b[0m\n\u001b[1;32m    539\u001b[0m \u001b[39m    Transformed data.\u001b[39;00m\n\u001b[1;32m    540\u001b[0m \u001b[39m\"\"\"\u001b[39;00m\n\u001b[1;32m    541\u001b[0m check_is_fitted(\u001b[39mself\u001b[39m)\n\u001b[0;32m--> 543\u001b[0m X \u001b[39m=\u001b[39m check_array(\n\u001b[1;32m    544\u001b[0m     X, copy\u001b[39m=\u001b[39;49m\u001b[39mself\u001b[39;49m\u001b[39m.\u001b[39;49mcopy, dtype\u001b[39m=\u001b[39;49mFLOAT_DTYPES, force_all_finite\u001b[39m=\u001b[39;49m\u001b[39m\"\u001b[39;49m\u001b[39mallow-nan\u001b[39;49m\u001b[39m\"\u001b[39;49m\n\u001b[1;32m    545\u001b[0m )\n\u001b[1;32m    547\u001b[0m X \u001b[39m-\u001b[39m\u001b[39m=\u001b[39m \u001b[39mself\u001b[39m\u001b[39m.\u001b[39mmin_\n\u001b[1;32m    548\u001b[0m X \u001b[39m/\u001b[39m\u001b[39m=\u001b[39m \u001b[39mself\u001b[39m\u001b[39m.\u001b[39mscale_\n",
      "File \u001b[0;32m~/opt/miniconda3/envs/skforecast_10_py11/lib/python3.11/site-packages/sklearn/utils/validation.py:953\u001b[0m, in \u001b[0;36mcheck_array\u001b[0;34m(array, accept_sparse, accept_large_sparse, dtype, order, copy, force_all_finite, ensure_2d, allow_nd, ensure_min_samples, ensure_min_features, estimator, input_name)\u001b[0m\n\u001b[1;32m    948\u001b[0m     \u001b[39mraise\u001b[39;00m \u001b[39mValueError\u001b[39;00m(\n\u001b[1;32m    949\u001b[0m         \u001b[39m\"\u001b[39m\u001b[39mdtype=\u001b[39m\u001b[39m'\u001b[39m\u001b[39mnumeric\u001b[39m\u001b[39m'\u001b[39m\u001b[39m is not compatible with arrays of bytes/strings.\u001b[39m\u001b[39m\"\u001b[39m\n\u001b[1;32m    950\u001b[0m         \u001b[39m\"\u001b[39m\u001b[39mConvert your data to numeric values explicitly instead.\u001b[39m\u001b[39m\"\u001b[39m\n\u001b[1;32m    951\u001b[0m     )\n\u001b[1;32m    952\u001b[0m \u001b[39mif\u001b[39;00m \u001b[39mnot\u001b[39;00m allow_nd \u001b[39mand\u001b[39;00m array\u001b[39m.\u001b[39mndim \u001b[39m>\u001b[39m\u001b[39m=\u001b[39m \u001b[39m3\u001b[39m:\n\u001b[0;32m--> 953\u001b[0m     \u001b[39mraise\u001b[39;00m \u001b[39mValueError\u001b[39;00m(\n\u001b[1;32m    954\u001b[0m         \u001b[39m\"\u001b[39m\u001b[39mFound array with dim \u001b[39m\u001b[39m%d\u001b[39;00m\u001b[39m. \u001b[39m\u001b[39m%s\u001b[39;00m\u001b[39m expected <= 2.\u001b[39m\u001b[39m\"\u001b[39m\n\u001b[1;32m    955\u001b[0m         \u001b[39m%\u001b[39m (array\u001b[39m.\u001b[39mndim, estimator_name)\n\u001b[1;32m    956\u001b[0m     )\n\u001b[1;32m    958\u001b[0m \u001b[39mif\u001b[39;00m force_all_finite:\n\u001b[1;32m    959\u001b[0m     _assert_all_finite(\n\u001b[1;32m    960\u001b[0m         array,\n\u001b[1;32m    961\u001b[0m         input_name\u001b[39m=\u001b[39minput_name,\n\u001b[1;32m    962\u001b[0m         estimator_name\u001b[39m=\u001b[39mestimator_name,\n\u001b[1;32m    963\u001b[0m         allow_nan\u001b[39m=\u001b[39mforce_all_finite \u001b[39m==\u001b[39m \u001b[39m\"\u001b[39m\u001b[39mallow-nan\u001b[39m\u001b[39m\"\u001b[39m,\n\u001b[1;32m    964\u001b[0m     )\n",
      "\u001b[0;31mValueError\u001b[0m: Found array with dim 3. None expected <= 2."
     ]
    }
   ],
   "source": [
    "forecaster.transformer_series.inverse_transform(predictions)"
   ]
  },
  {
   "cell_type": "code",
   "execution_count": 59,
   "metadata": {},
   "outputs": [
    {
     "data": {
      "text/plain": [
       "array([[[0.07377049],\n",
       "        [0.08504098],\n",
       "        [0.0420082 ],\n",
       "        [0.02151639],\n",
       "        [0.01127049]],\n",
       "\n",
       "       [[0.08504098],\n",
       "        [0.0420082 ],\n",
       "        [0.02151639],\n",
       "        [0.01127049],\n",
       "        [0.01434426]]])"
      ]
     },
     "execution_count": 59,
     "metadata": {},
     "output_type": "execute_result"
    }
   ],
   "source": [
    "y_test[:2]"
   ]
  },
  {
   "cell_type": "code",
   "execution_count": 60,
   "metadata": {},
   "outputs": [
    {
     "ename": "AttributeError",
     "evalue": "'numpy.ndarray' object has no attribute 'index'",
     "output_type": "error",
     "traceback": [
      "\u001b[0;31m---------------------------------------------------------------------------\u001b[0m",
      "\u001b[0;31mAttributeError\u001b[0m                            Traceback (most recent call last)",
      "\u001b[1;32m/Users/fernandocarazo/Documents/git-repos/skforecast/dev/lstm_forecasting-with-lstm.ipynb Cell 25\u001b[0m line \u001b[0;36m3\n\u001b[1;32m      <a href='vscode-notebook-cell:/Users/fernandocarazo/Documents/git-repos/skforecast/dev/lstm_forecasting-with-lstm.ipynb#X46sZmlsZQ%3D%3D?line=0'>1</a>\u001b[0m \u001b[39m# Prediction error (mean absolute error) sklearn\u001b[39;00m\n\u001b[1;32m      <a href='vscode-notebook-cell:/Users/fernandocarazo/Documents/git-repos/skforecast/dev/lstm_forecasting-with-lstm.ipynb#X46sZmlsZQ%3D%3D?line=1'>2</a>\u001b[0m \u001b[39m# ==============================================================================\u001b[39;00m\n\u001b[0;32m----> <a href='vscode-notebook-cell:/Users/fernandocarazo/Documents/git-repos/skforecast/dev/lstm_forecasting-with-lstm.ipynb#X46sZmlsZQ%3D%3D?line=2'>3</a>\u001b[0m mae \u001b[39m=\u001b[39m mean_absolute_error(data_test\u001b[39m.\u001b[39mloc[predictions\u001b[39m.\u001b[39;49mindex, \u001b[39m'\u001b[39m\u001b[39musers\u001b[39m\u001b[39m'\u001b[39m], predictions)\n\u001b[1;32m      <a href='vscode-notebook-cell:/Users/fernandocarazo/Documents/git-repos/skforecast/dev/lstm_forecasting-with-lstm.ipynb#X46sZmlsZQ%3D%3D?line=3'>4</a>\u001b[0m \u001b[39mprint\u001b[39m(\u001b[39mf\u001b[39m\u001b[39m\"\u001b[39m\u001b[39mTest MAE: \u001b[39m\u001b[39m{\u001b[39;00mmae\u001b[39m}\u001b[39;00m\u001b[39m\"\u001b[39m)\n",
      "\u001b[0;31mAttributeError\u001b[0m: 'numpy.ndarray' object has no attribute 'index'"
     ]
    }
   ],
   "source": [
    "# Prediction error (mean absolute error) sklearn\n",
    "# ==============================================================================\n",
    "mae = mean_absolute_error(data_test.loc[predictions.index, 'users'], predictions)\n",
    "print(f\"Test MAE: {mae}\")"
   ]
  },
  {
   "cell_type": "code",
   "execution_count": null,
   "metadata": {},
   "outputs": [
    {
     "data": {
      "text/plain": [
       "array([[0.1527963 , 0.15284579, 0.15356408, ..., 0.15300936, 0.15304217,\n",
       "        0.15304947],\n",
       "       [0.1527963 , 0.15284579, 0.15356408, ..., 0.15300936, 0.15304217,\n",
       "        0.15304947],\n",
       "       [0.1527963 , 0.15284579, 0.15356408, ..., 0.15300936, 0.15304217,\n",
       "        0.15304947],\n",
       "       ...,\n",
       "       [0.1527963 , 0.15284579, 0.15356408, ..., 0.15300936, 0.15304217,\n",
       "        0.15304947],\n",
       "       [0.1527963 , 0.15284579, 0.15356408, ..., 0.15300936, 0.15304217,\n",
       "        0.15304947],\n",
       "       [0.1527963 , 0.15284579, 0.15356408, ..., 0.15300936, 0.15304217,\n",
       "        0.15304947]], dtype=float32)"
      ]
     },
     "execution_count": 205,
     "metadata": {},
     "output_type": "execute_result"
    }
   ],
   "source": [
    "predictions"
   ]
  },
  {
   "cell_type": "markdown",
   "metadata": {},
   "source": [
    "## Información de sesión"
   ]
  },
  {
   "cell_type": "code",
   "execution_count": null,
   "metadata": {},
   "outputs": [
    {
     "name": "stdout",
     "output_type": "stream",
     "text": [
      "-----\n",
      "keras               2.13.1\n",
      "matplotlib          3.7.1\n",
      "numpy               1.24.3\n",
      "pandas              1.5.3\n",
      "session_info        1.0.0\n",
      "skforecast          0.8.1\n",
      "sklearn             1.3.0\n",
      "tensorflow          2.13.0\n",
      "-----\n",
      "IPython             8.12.0\n",
      "jupyter_client      8.1.0\n",
      "jupyter_core        5.3.0\n",
      "-----\n",
      "Python 3.10.10 | packaged by Anaconda, Inc. | (main, Mar 21 2023, 18:39:17) [MSC v.1916 64 bit (AMD64)]\n",
      "Windows-10-10.0.19045-SP0\n",
      "-----\n",
      "Session information updated at 2023-08-30 22:01\n"
     ]
    }
   ],
   "source": [
    "import session_info\n",
    "session_info.show(html=False)"
   ]
  },
  {
   "cell_type": "markdown",
   "metadata": {},
   "source": [
    "# Dev"
   ]
  },
  {
   "cell_type": "code",
   "execution_count": 12,
   "metadata": {},
   "outputs": [
    {
     "name": "stderr",
     "output_type": "stream",
     "text": [
      "/Users/fernandocarazo/opt/miniconda3/envs/skforecast_10_py11/lib/python3.11/site-packages/tqdm/auto.py:21: TqdmWarning: IProgress not found. Please update jupyter and ipywidgets. See https://ipywidgets.readthedocs.io/en/stable/user_install.html\n",
      "  from .autonotebook import tqdm as notebook_tqdm\n"
     ]
    }
   ],
   "source": [
    "# Libraries\n",
    "# ==============================================================================\n",
    "import pandas as pd\n",
    "import matplotlib.pyplot as plt\n",
    "plt.style.use('seaborn-v0_8-darkgrid')\n",
    "from sklearn.ensemble import RandomForestRegressor\n",
    "from sklearn.metrics import mean_squared_error\n",
    "\n",
    "from skforecast.ForecasterAutoreg import ForecasterAutoreg\n",
    "from skforecast.model_selection import backtesting_forecaster\n",
    "from skforecast.model_selection import grid_search_forecaster"
   ]
  },
  {
   "cell_type": "code",
   "execution_count": 13,
   "metadata": {},
   "outputs": [
    {
     "name": "stdout",
     "output_type": "stream",
     "text": [
      "Train dates : 1991-07-01 00:00:00 --- 2005-06-01 00:00:00  (n=168)\n",
      "Test dates  : 2005-07-01 00:00:00 --- 2008-06-01 00:00:00  (n=36)\n"
     ]
    },
    {
     "data": {
      "image/png": "[encoded data removed]",
      "text/plain": [
       "<Figure size 700x300 with 1 Axes>"
      ]
     },
     "metadata": {},
     "output_type": "display_data"
    }
   ],
   "source": [
    "# Download data\n",
    "# ==============================================================================\n",
    "url = (\n",
    "    'https://raw.githubusercontent.com/JoaquinAmatRodrigo/skforecast/master/'\n",
    "    'data/h2o.csv'\n",
    ")\n",
    "data = pd.read_csv(url, sep=',', header=0, names=['y', 'datetime'])\n",
    "\n",
    "# Data preprocessing\n",
    "# ==============================================================================\n",
    "data['datetime'] = pd.to_datetime(data['datetime'], format='%Y-%m-%d')\n",
    "data = data.set_index('datetime')\n",
    "data = data.asfreq('MS')\n",
    "data = data['y']\n",
    "data = data.sort_index()\n",
    "\n",
    "# Data partition train-test\n",
    "# ==============================================================================\n",
    "end_train = '2005-06-01 23:59:00'\n",
    "print(\n",
    "    f\"Train dates : {data.index.min()} --- {data.loc[:end_train].index.max()}  \" \n",
    "    f\"(n={len(data.loc[:end_train])})\")\n",
    "print(\n",
    "    f\"Test dates  : {data.loc[end_train:].index.min()} --- {data.index.max()}  \"\n",
    "    f\"(n={len(data.loc[end_train:])})\")\n",
    "\n",
    "# Plot\n",
    "# ==============================================================================\n",
    "fig, ax = plt.subplots(figsize=(7, 3))\n",
    "data.loc[:end_train].plot(ax=ax, label='train')\n",
    "data.loc[end_train:].plot(ax=ax, label='test')\n",
    "ax.legend();"
   ]
  },
  {
   "cell_type": "code",
   "execution_count": 14,
   "metadata": {},
   "outputs": [
    {
     "data": {
      "text/plain": [
       "================= \n",
       "ForecasterAutoreg \n",
       "================= \n",
       "Regressor: RandomForestRegressor(random_state=123) \n",
       "Lags: [ 1  2  3  4  5  6  7  8  9 10 11 12 13 14 15] \n",
       "Transformer for y: None \n",
       "Transformer for exog: None \n",
       "Window size: 15 \n",
       "Weight function included: False \n",
       "Differentiation order: None \n",
       "Exogenous included: False \n",
       "Type of exogenous variable: None \n",
       "Exogenous variables names: None \n",
       "Training range: [Timestamp('1991-07-01 00:00:00'), Timestamp('2005-06-01 00:00:00')] \n",
       "Training index type: DatetimeIndex \n",
       "Training index frequency: MS \n",
       "Regressor parameters: {'bootstrap': True, 'ccp_alpha': 0.0, 'criterion': 'squared_error', 'max_depth': None, 'max_features': 1.0, 'max_leaf_nodes': None, 'max_samples': None, 'min_impurity_decrease': 0.0, 'min_samples_leaf': 1, 'min_samples_split': 2, 'min_weight_fraction_leaf': 0.0, 'n_estimators': 100, 'n_jobs': None, 'oob_score': False, 'random_state': 123, 'verbose': 0, 'warm_start': False} \n",
       "fit_kwargs: {} \n",
       "Creation date: 2023-09-27 23:09:38 \n",
       "Last fit date: 2023-09-27 23:09:38 \n",
       "Skforecast version: 0.10.0 \n",
       "Python version: 3.11.5 \n",
       "Forecaster id: None "
      ]
     },
     "execution_count": 14,
     "metadata": {},
     "output_type": "execute_result"
    }
   ],
   "source": [
    "# Create and fit a recursive multi-step forecaster (ForecasterAutoreg)\n",
    "# ==============================================================================\n",
    "forecaster = ForecasterAutoreg(\n",
    "                 regressor = RandomForestRegressor(random_state=123),\n",
    "                 lags      = 15\n",
    "             )\n",
    "\n",
    "forecaster.fit(y=data.loc[:end_train])\n",
    "forecaster"
   ]
  },
  {
   "cell_type": "code",
   "execution_count": 15,
   "metadata": {},
   "outputs": [
    {
     "data": {
      "text/plain": [
       "2005-07-01    0.921840\n",
       "2005-08-01    0.954921\n",
       "2005-09-01    1.101716\n",
       "Freq: MS, Name: pred, dtype: float64"
      ]
     },
     "execution_count": 15,
     "metadata": {},
     "output_type": "execute_result"
    }
   ],
   "source": [
    "# Predict\n",
    "# ==============================================================================\n",
    "predictions = forecaster.predict(steps=len(data.loc[end_train:]))\n",
    "predictions.head(3)"
   ]
  },
  {
   "cell_type": "code",
   "execution_count": 16,
   "metadata": {},
   "outputs": [
    {
     "data": {
      "image/png": "[encoded data removed]",
      "text/plain": [
       "<Figure size 700x300 with 1 Axes>"
      ]
     },
     "metadata": {},
     "output_type": "display_data"
    }
   ],
   "source": [
    "# Plot predictions\n",
    "# ==============================================================================\n",
    "fig, ax = plt.subplots(figsize=(7, 3))\n",
    "data.loc[:end_train].plot(ax=ax, label='train')\n",
    "data.loc[end_train:].plot(ax=ax, label='test')\n",
    "predictions.plot(ax=ax, label='predictions')\n",
    "ax.legend();"
   ]
  },
  {
   "cell_type": "markdown",
   "metadata": {},
   "source": [
    "## Bibliografía\n",
    "<br>\n",
    "\n",
    "Linear Models with R by Julian J.Faraway [libro](https://www.amazon.es/gp/product/1439887330/ref=as_li_qf_asin_il_tl?ie=UTF8&tag=cienciadedato-21&creative=24630&linkCode=as2&creativeASIN=1439887330&linkId=e9ca62e854567fb3f9d0ea044f084b11)\n",
    "\n",
    "OpenIntro Statistics: Fourth Edition by David Diez, Mine Çetinkaya-Rundel, Christopher Barr [libro](https://www.amazon.es/gp/product/1943450072/ref=as_li_qf_asin_il_tl?ie=UTF8&tag=cienciadedato-21&creative=24630&linkCode=as2&creativeASIN=1943450072&linkId=a8b49fab17a559d33901ee804a9b5737)\n",
    "\n",
    "Introduction to Machine Learning with Python: A Guide for Data Scientists [libro](https://www.amazon.es/gp/product/1449369413/ref=as_li_qf_asin_il_tl?ie=UTF8&tag=cienciadedato-21&creative=24630&linkCode=as2&creativeASIN=1449369413&linkId=e07f892d9e2c458e8144303901ea9580)\n",
    "\n",
    "Points of Significance: Association, correlation and causation. Naomi Altman & Martin Krzywinski Nature Methods\n",
    "\n",
    "https://en.wikipedia.org/wiki/Co\n",
    "\n"
   ]
  },
  {
   "cell_type": "code",
   "execution_count": null,
   "metadata": {
    "code_folding": [],
    "hide_input": true,
    "remove_cell": true,
    "tags": [
     "\"hide_input\""
    ]
   },
   "outputs": [
    {
     "data": {
      "text/html": [
       "<style>\n",
       ".text_cell_render p {\n",
       "    text-align: justify;\n",
       "    font-family: 'Open Sans','Helvetica Neue',Helvetica,Arial,sans-serif;\n",
       "    line-height: 1.5;\n",
       "    font-weight: 400;\n",
       "    text-shadow: none;\n",
       "    color: #333333;\n",
       "    text-rendering: optimizeLegibility;\n",
       "    letter-spacing: +0.1px;\n",
       "    margin-bottom: 1.15rem;\n",
       "    font-size: 1.15em\n",
       "}\n",
       "\n",
       "div.admonition.note {\n",
       "    text-align: justify;\n",
       "    font-family: 'Open Sans','Helvetica Neue',Helvetica,Arial,sans-serif;\n",
       "    line-height: 1.5;\n",
       "    font-weight: 400;\n",
       "    text-shadow: none;\n",
       "    color: #333333;\n",
       "    text-rendering: optimizeLegibility;\n",
       "    letter-spacing: +0.1px;\n",
       "    margin-bottom: 1.15rem;\n",
       "    font-size: 15px;\n",
       "}\n",
       "\n",
       "\n",
       "#notebook-container {\n",
       "    background-color: #fcfcfc;\n",
       "}\n",
       "\n",
       "div.inner_cell {\n",
       "    margin-right: 5%;\n",
       "}\n",
       "\n",
       ".output_png {\n",
       "        display: table-cell;\n",
       "        text-align: center;\n",
       "        vertical-align: middle;\n",
       "}\n",
       "\n",
       ".rendered_html code {\n",
       "    background-color: #f2f2f2;\n",
       "    font-family: monospace;\n",
       "    color: #a20505;\n",
       "    font-size: 15px;\n",
       "    padding: 1px 1px;\n",
       "    border: solid;\n",
       "    border-color: darkgray;\n",
       "    border-width: thin;\n",
       "}\n",
       "\n",
       ".rendered_html h1 {\n",
       "    padding-top: 50px;\n",
       "}\n",
       "\n",
       ".rendered_html h2 {\n",
       "    font-size: 30px;\n",
       "    margin-top: 0;\n",
       "    font-size: 2.488em;\n",
       "}\n",
       "\n",
       ".rendered_html h3 {\n",
       "    font-size: 25px;\n",
       "}\n",
       "\n",
       ".rendered_html h4 {\n",
       "    font-size: 20px;\n",
       "}\n",
       "\n",
       "</style>\n"
      ],
      "text/plain": [
       "<IPython.core.display.HTML object>"
      ]
     },
     "metadata": {},
     "output_type": "display_data"
    }
   ],
   "source": [
    "%%html\n",
    "<style>\n",
    ".text_cell_render p {\n",
    "    text-align: justify;\n",
    "    font-family: 'Open Sans','Helvetica Neue',Helvetica,Arial,sans-serif;\n",
    "    line-height: 1.5;\n",
    "    font-weight: 400;\n",
    "    text-shadow: none;\n",
    "    color: #333333;\n",
    "    text-rendering: optimizeLegibility;\n",
    "    letter-spacing: +0.1px;\n",
    "    margin-bottom: 1.15rem;\n",
    "    font-size: 1.15em\n",
    "}\n",
    "\n",
    "div.admonition.note {\n",
    "    text-align: justify;\n",
    "    font-family: 'Open Sans','Helvetica Neue',Helvetica,Arial,sans-serif;\n",
    "    line-height: 1.5;\n",
    "    font-weight: 400;\n",
    "    text-shadow: none;\n",
    "    color: #333333;\n",
    "    text-rendering: optimizeLegibility;\n",
    "    letter-spacing: +0.1px;\n",
    "    margin-bottom: 1.15rem;\n",
    "    font-size: 15px;\n",
    "}\n",
    "\n",
    "\n",
    "#notebook-container {\n",
    "    background-color: #fcfcfc;\n",
    "}\n",
    "\n",
    "div.inner_cell {\n",
    "    margin-right: 5%;\n",
    "}\n",
    "\n",
    ".output_png {\n",
    "        display: table-cell;\n",
    "        text-align: center;\n",
    "        vertical-align: middle;\n",
    "}\n",
    "\n",
    ".rendered_html code {\n",
    "    background-color: #f2f2f2;\n",
    "    font-family: monospace;\n",
    "    color: #a20505;\n",
    "    font-size: 15px;\n",
    "    padding: 1px 1px;\n",
    "    border: solid;\n",
    "    border-color: darkgray;\n",
    "    border-width: thin;\n",
    "}\n",
    "\n",
    ".rendered_html h1 {\n",
    "    padding-top: 50px;\n",
    "}\n",
    "\n",
    ".rendered_html h2 {\n",
    "    font-size: 30px;\n",
    "    margin-top: 0;\n",
    "    font-size: 2.488em;\n",
    "}\n",
    "\n",
    ".rendered_html h3 {\n",
    "    font-size: 25px;\n",
    "}\n",
    "\n",
    ".rendered_html h4 {\n",
    "    font-size: 20px;\n",
    "}\n",
    "\n",
    "</style>"
   ]
  },
  {
   "cell_type": "markdown",
   "metadata": {},
   "source": [
    "**¿Cómo citar este documento?**\n",
    "\n",
    "<p style=\"text-align:left\"><font size=\"3\" color=\"#555\">\n",
    "TITULO DEL DOCUMENTO by AUTOR, available under a Attribution 4.0 International (CC BY 4.0) at https://www.cienciadedatos.net/documentos/pystats05-correlacion-lineal-python.html\n",
    "\n",
    "    \n",
    "</font></p>"
   ]
  },
  {
   "cell_type": "markdown",
   "metadata": {},
   "source": [
    "<a rel=\"license\" href=\"http://creativecommons.org/licenses/by/4.0/\"><img alt=\"Creative Commons Licence\" style=\"border-width:0\" src=\"https://i.creativecommons.org/l/by/4.0/88x31.png\" /></a><br />This work by AUTOR is licensed under a <a rel=\"license\" href=\"http://creativecommons.org/licenses/by/4.0/\">Creative Commons Attribution 4.0 International License</a>."
   ]
  },
  {
   "cell_type": "code",
   "execution_count": null,
   "metadata": {},
   "outputs": [],
   "source": []
  }
 ],
 "metadata": {
  "kernelspec": {
   "display_name": "cienciadedatos_p10",
   "language": "python",
   "name": "python3"
  },
  "language_info": {
   "codemirror_mode": {
    "name": "ipython",
    "version": 3
   },
   "file_extension": ".py",
   "mimetype": "text/x-python",
   "name": "python",
   "nbconvert_exporter": "python",
   "pygments_lexer": "ipython3",
   "version": "3.11.5"
  },
  "toc": {
   "base_numbering": 1,
   "nav_menu": {},
   "number_sections": false,
   "sideBar": true,
   "skip_h1_title": true,
   "title_cell": "Tabla de contenidos",
   "title_sidebar": "Tabla de contenidos",
   "toc_cell": false,
   "toc_position": {
    "height": "calc(100% - 180px)",
    "left": "10px",
    "top": "150px",
    "width": "204px"
   },
   "toc_section_display": true,
   "toc_window_display": true
  },
  "varInspector": {
   "cols": {
    "lenName": 16,
    "lenType": 16,
    "lenVar": 40
   },
   "kernels_config": {
    "python": {
     "delete_cmd_postfix": "",
     "delete_cmd_prefix": "del ",
     "library": "var_list.py",
     "varRefreshCmd": "print(var_dic_list())"
    },
    "r": {
     "delete_cmd_postfix": ") ",
     "delete_cmd_prefix": "rm(",
     "library": "var_list.r",
     "varRefreshCmd": "cat(var_dic_list()) "
    }
   },
   "position": {
    "height": "144px",
    "left": "995px",
    "right": "20px",
    "top": "120px",
    "width": "350px"
   },
   "types_to_exclude": [
    "module",
    "function",
    "builtin_function_or_method",
    "instance",
    "_Feature"
   ],
   "window_display": false
  }
 },
 "nbformat": 4,
 "nbformat_minor": 4
}
