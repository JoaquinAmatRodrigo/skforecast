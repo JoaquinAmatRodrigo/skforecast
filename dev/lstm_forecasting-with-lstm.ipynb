{
 "cells": [
  {
   "cell_type": "markdown",
   "metadata": {},
   "source": [
    " "
   ]
  },
  {
   "cell_type": "markdown",
   "metadata": {},
   "source": [
    "<h1><center><font size=\"25\">Forecasting with LSTM models</font></center></h1>"
   ]
  },
  {
   "cell_type": "markdown",
   "metadata": {},
   "source": [
    "<center><b>Joaquín Amat Rodrigo, Javier Escobar Ortiz</b></center>\n",
    "\n",
    "<center><i>September, 2023</i></center>"
   ]
  },
  {
   "cell_type": "markdown",
   "metadata": {},
   "source": [
    "**More about forecasting**\n",
    "\n",
    "+ [Introduction to forecasting with skforecast](https://cienciadedatos.net/documentos/py27-time-series-forecasting-python-scikitlearn.html)\n",
    "+ [Forecasting time series with gradient boosting: Skforecast, XGBoost, LightGBM and CatBoost](https://www.cienciadedatos.net/documentos/py39-forecasting-time-series-with-skforecast-xgboost-lightgbm-catboost.html)\n",
    "+ [Forecasting electricity demand with Python](https://www.cienciadedatos.net/documentos/py29-forecasting-electricity-power-demand-python.html)\n",
    "+ [Forecasting web traffic with machine learning and Python](https://www.cienciadedatos.net/documentos/py37-forecasting-web-traffic-machine-learning.html)\n",
    "+ [Bitcoin price prediction with Python, when the past does not repeat itself](https://www.cienciadedatos.net/documentos/py41-forecasting-cryptocurrency-bitcoin-machine-learning-python.html)\n",
    "+ [Prediction intervals in forecasting models](https://www.cienciadedatos.net/documentos/py42-forecasting-prediction-intervals-machine-learning.html)\n",
    "+ [Intermittent demand forecasting with skforecast](https://www.cienciadedatos.net/documentos/py48-intermittent-demand-forecasting)\n",
    "\n",
    "<p align=\"center\"><img src='https://github.com/JoaquinAmatRodrigo/skforecast/raw/master/docs/img/banner-landing-page-skforecast.png'style=\"width: 600px\"></p>"
   ]
  },
  {
   "cell_type": "markdown",
   "metadata": {},
   "source": [
    "## Introdución\n"
   ]
  },
  {
   "cell_type": "markdown",
   "metadata": {},
   "source": [
    "<p align=\"center\"><img src='lstm1.png'style=\"width: 600px\"></p>"
   ]
  },
  {
   "cell_type": "markdown",
   "metadata": {},
   "source": [
    "## Librerías"
   ]
  },
  {
   "cell_type": "code",
   "execution_count": 1,
   "metadata": {},
   "outputs": [
    {
     "data": {
      "text/plain": [
       "'/Users/fernandocarazo/Documents/git-repos/skforecast'"
      ]
     },
     "execution_count": 1,
     "metadata": {},
     "output_type": "execute_result"
    }
   ],
   "source": [
    "%load_ext autoreload\n",
    "%autoreload 2\n",
    "import sys\n",
    "from pathlib import Path\n",
    "sys.path.insert(1, str(Path.cwd().parent))\n",
    "str(Path.cwd().parent)"
   ]
  },
  {
   "cell_type": "code",
   "execution_count": 2,
   "metadata": {},
   "outputs": [],
   "source": [
    "#!pip install tensorflow"
   ]
  },
  {
   "cell_type": "code",
   "execution_count": 3,
   "metadata": {},
   "outputs": [],
   "source": [
    "#!pip install torch -f https://download.pytorch.org/whl/torch_stable.html\n",
    "#!pip install pytorch-forecasting"
   ]
  },
  {
   "cell_type": "code",
   "execution_count": 129,
   "metadata": {},
   "outputs": [],
   "source": [
    "# Data processing\n",
    "# ==============================================================================\n",
    "import numpy as np\n",
    "import pandas as pd\n",
    "import matplotlib.pyplot as plt\n",
    "# Modelling\n",
    "# ==============================================================================\n",
    "from skforecast.ForecasterAutoreg import ForecasterAutoreg\n",
    "from skforecast.ForecasterAutoregDirect import ForecasterAutoregDirect\n",
    "from skforecast.ForecasterRnnTensorFlow import ForecasterRnnTensorFlow\n",
    "from sklearn.linear_model import LinearRegression\n",
    "from sklearn.metrics import mean_absolute_error\n",
    "from sklearn.preprocessing import MinMaxScaler\n",
    "\n",
    "import tensorflow as tf\n",
    "from tensorflow import keras\n",
    "from keras.models import Model\n",
    "from keras.layers import Dense, Input, Reshape, LSTM\n",
    "from tensorflow.keras.optimizers import Adam, RMSprop, SGD, Adagrad, Adadelta, Adamax, Nadam\n",
    "from tensorflow.keras.losses import MeanSquaredError\n",
    "\n",
    "from tensorflow.keras.callbacks import EarlyStopping\n"
   ]
  },
  {
   "cell_type": "markdown",
   "metadata": {},
   "source": [
    "## Datos"
   ]
  },
  {
   "cell_type": "code",
   "execution_count": 5,
   "metadata": {},
   "outputs": [
    {
     "name": "stdout",
     "output_type": "stream",
     "text": [
      "date_time\n",
      "3600.0    17543\n",
      "Name: count, dtype: int64\n"
     ]
    },
    {
     "data": {
      "text/html": [
       "<div>\n",
       "<style scoped>\n",
       "    .dataframe tbody tr th:only-of-type {\n",
       "        vertical-align: middle;\n",
       "    }\n",
       "\n",
       "    .dataframe tbody tr th {\n",
       "        vertical-align: top;\n",
       "    }\n",
       "\n",
       "    .dataframe thead th {\n",
       "        text-align: right;\n",
       "    }\n",
       "</style>\n",
       "<table border=\"1\" class=\"dataframe\">\n",
       "  <thead>\n",
       "    <tr style=\"text-align: right;\">\n",
       "      <th></th>\n",
       "      <th>holiday</th>\n",
       "      <th>weather</th>\n",
       "      <th>temp</th>\n",
       "      <th>atemp</th>\n",
       "      <th>hum</th>\n",
       "      <th>windspeed</th>\n",
       "      <th>users</th>\n",
       "      <th>month</th>\n",
       "      <th>hour</th>\n",
       "      <th>weekday</th>\n",
       "    </tr>\n",
       "    <tr>\n",
       "      <th>date_time</th>\n",
       "      <th></th>\n",
       "      <th></th>\n",
       "      <th></th>\n",
       "      <th></th>\n",
       "      <th></th>\n",
       "      <th></th>\n",
       "      <th></th>\n",
       "      <th></th>\n",
       "      <th></th>\n",
       "      <th></th>\n",
       "    </tr>\n",
       "  </thead>\n",
       "  <tbody>\n",
       "    <tr>\n",
       "      <th>2011-01-01 00:00:00</th>\n",
       "      <td>0.0</td>\n",
       "      <td>clear</td>\n",
       "      <td>9.84</td>\n",
       "      <td>14.395</td>\n",
       "      <td>81.0</td>\n",
       "      <td>0.0</td>\n",
       "      <td>16.0</td>\n",
       "      <td>1</td>\n",
       "      <td>0</td>\n",
       "      <td>5</td>\n",
       "    </tr>\n",
       "    <tr>\n",
       "      <th>2011-01-01 01:00:00</th>\n",
       "      <td>0.0</td>\n",
       "      <td>clear</td>\n",
       "      <td>9.02</td>\n",
       "      <td>13.635</td>\n",
       "      <td>80.0</td>\n",
       "      <td>0.0</td>\n",
       "      <td>40.0</td>\n",
       "      <td>1</td>\n",
       "      <td>1</td>\n",
       "      <td>5</td>\n",
       "    </tr>\n",
       "    <tr>\n",
       "      <th>2011-01-01 02:00:00</th>\n",
       "      <td>0.0</td>\n",
       "      <td>clear</td>\n",
       "      <td>9.02</td>\n",
       "      <td>13.635</td>\n",
       "      <td>80.0</td>\n",
       "      <td>0.0</td>\n",
       "      <td>32.0</td>\n",
       "      <td>1</td>\n",
       "      <td>2</td>\n",
       "      <td>5</td>\n",
       "    </tr>\n",
       "    <tr>\n",
       "      <th>2011-01-01 03:00:00</th>\n",
       "      <td>0.0</td>\n",
       "      <td>clear</td>\n",
       "      <td>9.84</td>\n",
       "      <td>14.395</td>\n",
       "      <td>75.0</td>\n",
       "      <td>0.0</td>\n",
       "      <td>13.0</td>\n",
       "      <td>1</td>\n",
       "      <td>3</td>\n",
       "      <td>5</td>\n",
       "    </tr>\n",
       "    <tr>\n",
       "      <th>2011-01-01 04:00:00</th>\n",
       "      <td>0.0</td>\n",
       "      <td>clear</td>\n",
       "      <td>9.84</td>\n",
       "      <td>14.395</td>\n",
       "      <td>75.0</td>\n",
       "      <td>0.0</td>\n",
       "      <td>1.0</td>\n",
       "      <td>1</td>\n",
       "      <td>4</td>\n",
       "      <td>5</td>\n",
       "    </tr>\n",
       "  </tbody>\n",
       "</table>\n",
       "</div>"
      ],
      "text/plain": [
       "                     holiday weather  temp   atemp   hum  windspeed  users  \\\n",
       "date_time                                                                    \n",
       "2011-01-01 00:00:00      0.0   clear  9.84  14.395  81.0        0.0   16.0   \n",
       "2011-01-01 01:00:00      0.0   clear  9.02  13.635  80.0        0.0   40.0   \n",
       "2011-01-01 02:00:00      0.0   clear  9.02  13.635  80.0        0.0   32.0   \n",
       "2011-01-01 03:00:00      0.0   clear  9.84  14.395  75.0        0.0   13.0   \n",
       "2011-01-01 04:00:00      0.0   clear  9.84  14.395  75.0        0.0    1.0   \n",
       "\n",
       "                     month  hour  weekday  \n",
       "date_time                                  \n",
       "2011-01-01 00:00:00      1     0        5  \n",
       "2011-01-01 01:00:00      1     1        5  \n",
       "2011-01-01 02:00:00      1     2        5  \n",
       "2011-01-01 03:00:00      1     3        5  \n",
       "2011-01-01 04:00:00      1     4        5  "
      ]
     },
     "execution_count": 5,
     "metadata": {},
     "output_type": "execute_result"
    }
   ],
   "source": [
    "# Downloading data\n",
    "# ==============================================================================\n",
    "url = ('https://raw.githubusercontent.com/JoaquinAmatRodrigo/Estadistica-machine-'\n",
    "       'learning-python/master/data/bike_sharing_dataset_clean.csv')\n",
    "data = pd.read_csv(url)\n",
    "data['date_time'] = pd.to_datetime(data['date_time'], format='%Y-%m-%d %H:%M:%S')\n",
    "data = data.set_index('date_time')\n",
    "print(data.index.to_series().diff().dt.total_seconds().value_counts())\n",
    "data = data.asfreq('H')\n",
    "data = data.sort_index()\n",
    "data = data.drop(columns=['workingday'])\n",
    "data.head()"
   ]
  },
  {
   "cell_type": "code",
   "execution_count": 6,
   "metadata": {},
   "outputs": [
    {
     "data": {
      "text/plain": [
       "(Timestamp('2011-01-01 00:00:00'), Timestamp('2012-12-31 23:00:00'))"
      ]
     },
     "execution_count": 6,
     "metadata": {},
     "output_type": "execute_result"
    }
   ],
   "source": [
    "data.index.min(), data.index.max()"
   ]
  },
  {
   "cell_type": "code",
   "execution_count": 33,
   "metadata": {},
   "outputs": [],
   "source": [
    "data = data.drop(columns=[\"weather\"])"
   ]
  },
  {
   "cell_type": "code",
   "execution_count": 34,
   "metadata": {},
   "outputs": [
    {
     "name": "stdout",
     "output_type": "stream",
     "text": [
      "Dates train      : 2011-01-01 00:00:00 --- 2012-03-31 23:00:00  (n=10944)\n",
      "Dates validacion : 2012-04-01 00:00:00 --- 2012-08-31 23:00:00  (n=3672)\n",
      "Dates test       : 2012-09-01 00:00:00 --- 2012-12-31 23:00:00  (n=2928)\n"
     ]
    }
   ],
   "source": [
    "# Split train-validation-test\n",
    "# ==============================================================================\n",
    "end_train = '2012-03-31 23:59:00'\n",
    "end_validation = '2012-08-31 23:59:00'\n",
    "data_train = data.loc[: end_train, :]\n",
    "data_val   = data.loc[end_train:end_validation, :]\n",
    "data_test  = data.loc[end_validation:, :]\n",
    "\n",
    "print(f\"Dates train      : {data_train.index.min()} --- {data_train.index.max()}  (n={len(data_train)})\")\n",
    "print(f\"Dates validacion : {data_val.index.min()} --- {data_val.index.max()}  (n={len(data_val)})\")\n",
    "print(f\"Dates test       : {data_test.index.min()} --- {data_test.index.max()}  (n={len(data_test)})\")"
   ]
  },
  {
   "cell_type": "markdown",
   "metadata": {},
   "source": [
    "## Modelo LSTM con tensorflow-keras\n",
    "\n",
    "https://machinelearningmastery.com/how-to-develop-lstm-models-for-time-series-forecasting/\n",
    "\n",
    "https://www.tensorflow.org/tutorials/structured_data/time_series\n",
    "\n",
    "\n",
    "We are working with a univariate series, so the number of features is one, for one variable.\n",
    "\n",
    "The number of time steps as input is the number of lags used as predictors.\n",
    "\n",
    "We almost always have multiple samples, therefore, the model will expect the input component of training data to have the dimensions or shape: [samples, timesteps, features]"
   ]
  },
  {
   "cell_type": "markdown",
   "metadata": {},
   "source": [
    "# Multi-series, multi-step"
   ]
  },
  {
   "cell_type": "code",
   "execution_count": 8,
   "metadata": {},
   "outputs": [],
   "source": [
    "# def prepare_lstm_input(df, num_lags, num_steps, targets=None, scaler=MinMaxScaler()):\n",
    "#     # Crear un DataFrame vacío para almacenar las columnas de lags\n",
    "#     lag_df = pd.DataFrame()\n",
    "\n",
    "#     df = pd.DataFrame(scaler.fit_transform(df), columns=df.columns)\n",
    "#     # Paso 1: Crear lags para todas las columnas\n",
    "#     for col in df.columns:\n",
    "#         for i in range(1, num_lags + 1):\n",
    "#             lag_df[f'{col}_lag_{i}'] = df[col].shift(i)         \n",
    "    \n",
    "#     # lag_df = lag_df.dropna()\n",
    "\n",
    "#     # Paso 3: Escalar los datos\n",
    "#     # scaler = MinMaxScaler()\n",
    "    \n",
    "#     n_features = df.shape[1]\n",
    "\n",
    "#     X_data = []\n",
    "#     for i in range(n_features):\n",
    "#         X_data.append(lag_df.iloc[:, (num_lags*i):(num_lags*(i+1))])\n",
    "        \n",
    "#     X_data = np.array(X_data)\n",
    "#     X_data = np.transpose(X_data, (1,2,0))\n",
    "    \n",
    "#     i_nas_x = np.isnan(X)\n",
    "        \n",
    "#     # Prepare Y\n",
    "#     y_df = pd.DataFrame()\n",
    "    \n",
    "#     if targets == None:\n",
    "#         n_targets = 1\n",
    "#         for col in df.columns:\n",
    "#             for i in range(1, num_steps + 1):\n",
    "#                 y_df[f'{col}_step_{i}'] = df[col].shift(-i)\n",
    "    \n",
    "#     else:\n",
    "#         n_targets = len(targets)\n",
    "#         for col in targets:\n",
    "#             for i in range(1, num_steps + 1):\n",
    "#                 y_df[f'{col}_step_{i}'] = df[col].shift(-i)\n",
    "\n",
    "#     y_data = []\n",
    "#     for i in range(n_targets):\n",
    "#         y_data.append(y_df.iloc[:, (num_steps*i):(num_steps*(i+1))])\n",
    "    \n",
    "#     y_data = np.array(y_data)\n",
    "#     y_data = np.transpose(y_data, (1,2,0))\n",
    "    \n",
    "    \n",
    "#     # Remove NAs \n",
    "#     X_data = X_data[num_lags:-num_lags, :, :]\n",
    "#     y_data = y_data[num_lags:-num_lags, :, :]\n",
    "    \n",
    "#     return X_data, y_data\n",
    "\n",
    "# # Ejemplo de uso:"
   ]
  },
  {
   "cell_type": "code",
   "execution_count": 121,
   "metadata": {},
   "outputs": [],
   "source": [
    "# Training and test matrices\n",
    "# ==============================================================================\n",
    "\n",
    "lags = 24\n",
    "levels = ['users', \"hum\"]\n",
    "steps = 5\n",
    "transformer_scaler = MinMaxScaler()\n",
    "forecaster = ForecasterRnnTensorFlow(\n",
    "    regressor=LinearRegression(), \n",
    "    lags=lags, \n",
    "    steps=steps, \n",
    "    levels=levels, \n",
    "    transformer_series=MinMaxScaler()\n",
    ")\n"
   ]
  },
  {
   "cell_type": "code",
   "execution_count": 122,
   "metadata": {},
   "outputs": [
    {
     "name": "stdout",
     "output_type": "stream",
     "text": [
      "X_train shape\n",
      "-------------\n"
     ]
    },
    {
     "data": {
      "text/plain": [
       "(10896, 24, 9)"
      ]
     },
     "metadata": {},
     "output_type": "display_data"
    },
    {
     "name": "stdout",
     "output_type": "stream",
     "text": [
      "y_train shape\n",
      "-------------\n"
     ]
    },
    {
     "data": {
      "text/plain": [
       "(10896, 5, 2)"
      ]
     },
     "metadata": {},
     "output_type": "display_data"
    }
   ],
   "source": [
    "X_train, y_train = forecaster.create_train_X_y(data_train)\n",
    "X_val, y_val     = forecaster.create_train_X_y(data_val)\n",
    "X_test, y_test   = forecaster.create_train_X_y(data_test)\n",
    "\n",
    "print(\"X_train shape\\n-------------\")\n",
    "display(X_train.shape)\n",
    "print(\"y_train shape\\n-------------\")\n",
    "display(y_train.shape)\n"
   ]
  },
  {
   "cell_type": "code",
   "execution_count": 126,
   "metadata": {},
   "outputs": [
    {
     "name": "stdout",
     "output_type": "stream",
     "text": [
      "Model: \"model_7\"\n",
      "_________________________________________________________________\n",
      " Layer (type)                Output Shape              Param #   \n",
      "=================================================================\n",
      " input_9 (InputLayer)        [(None, 24, 9)]           0         \n",
      "                                                                 \n",
      " lstm_10 (LSTM)              (None, 100)               44000     \n",
      "                                                                 \n",
      " dense_18 (Dense)            (None, 64)                6464      \n",
      "                                                                 \n",
      " dense_19 (Dense)            (None, 10)                650       \n",
      "                                                                 \n",
      " reshape_10 (Reshape)        (None, 5, 2)              0         \n",
      "                                                                 \n",
      "=================================================================\n",
      "Total params: 51114 (199.66 KB)\n",
      "Trainable params: 51114 (199.66 KB)\n",
      "Non-trainable params: 0 (0.00 Byte)\n",
      "_________________________________________________________________\n"
     ]
    }
   ],
   "source": [
    "n_lags = X_train.shape[1]\n",
    "n_series = X_train.shape[2]\n",
    "\n",
    "n_steps = y_train.shape[1]\n",
    "n_outputs = y_train.shape[2]\n",
    "\n",
    "# Define the input layer\n",
    "input_layer = Input(shape=(lags, n_series))\n",
    "\n",
    "# LSTM layer\n",
    "x = LSTM(100, activation='relu')(input_layer)\n",
    "\n",
    "# Dense layers\n",
    "x = Dense(64, activation='relu')(x)\n",
    "x = Dense(n_outputs * steps, activation='linear')(x)\n",
    "\n",
    "# Reshape layer\n",
    "output_layer = Reshape((steps, n_outputs))(x)\n",
    "\n",
    "# Create the model\n",
    "model = Model(inputs=input_layer, outputs=output_layer)\n",
    "\n",
    "model.summary()"
   ]
  },
  {
   "cell_type": "code",
   "execution_count": 127,
   "metadata": {},
   "outputs": [
    {
     "name": "stdout",
     "output_type": "stream",
     "text": [
      "Epoch 1/100\n",
      "86/86 [==============================] - 7s 45ms/step - loss: 10.2620 - val_loss: 0.0569\n",
      "Epoch 2/100\n",
      "86/86 [==============================] - 3s 38ms/step - loss: 0.0237 - val_loss: 0.0451\n",
      "Epoch 3/100\n",
      "86/86 [==============================] - 3s 40ms/step - loss: 0.0209 - val_loss: 0.0408\n",
      "Epoch 4/100\n",
      "86/86 [==============================] - 3s 39ms/step - loss: 0.0190 - val_loss: 0.0354\n",
      "Epoch 5/100\n",
      "86/86 [==============================] - 4s 43ms/step - loss: 0.0177 - val_loss: 0.0335\n",
      "Epoch 6/100\n",
      "86/86 [==============================] - 4s 47ms/step - loss: 0.0173 - val_loss: 0.0411\n",
      "Epoch 7/100\n",
      "86/86 [==============================] - 4s 45ms/step - loss: 0.0146 - val_loss: 0.0272\n",
      "Epoch 8/100\n",
      "86/86 [==============================] - 4s 41ms/step - loss: 0.0124 - val_loss: 0.0256\n",
      "Epoch 9/100\n",
      "86/86 [==============================] - 4s 44ms/step - loss: 0.0112 - val_loss: 0.0249\n",
      "Epoch 10/100\n",
      "86/86 [==============================] - 4s 46ms/step - loss: 0.0108 - val_loss: 0.0239\n",
      "Epoch 11/100\n",
      "86/86 [==============================] - 4s 44ms/step - loss: 0.0108 - val_loss: 0.0235\n",
      "Epoch 12/100\n",
      "86/86 [==============================] - 4s 45ms/step - loss: 0.0107 - val_loss: 0.0233\n",
      "Epoch 13/100\n",
      "86/86 [==============================] - 4s 47ms/step - loss: 0.0106 - val_loss: 0.0254\n",
      "Epoch 14/100\n",
      "86/86 [==============================] - 6s 64ms/step - loss: 0.0103 - val_loss: 0.0245\n",
      "Epoch 15/100\n",
      "86/86 [==============================] - 4s 43ms/step - loss: 0.0103 - val_loss: 0.0238\n",
      "Epoch 16/100\n",
      "86/86 [==============================] - 3s 40ms/step - loss: 0.0104 - val_loss: 0.0236\n",
      "Epoch 17/100\n",
      "86/86 [==============================] - 4s 43ms/step - loss: 0.0101 - val_loss: 0.0221\n",
      "Epoch 18/100\n",
      "86/86 [==============================] - 3s 38ms/step - loss: 0.0100 - val_loss: 0.0241\n",
      "Epoch 19/100\n",
      "86/86 [==============================] - 3s 39ms/step - loss: 0.0100 - val_loss: 0.0218\n",
      "Epoch 20/100\n",
      "86/86 [==============================] - 3s 40ms/step - loss: 0.0102 - val_loss: 0.0220\n",
      "Epoch 21/100\n",
      "86/86 [==============================] - 3s 38ms/step - loss: 0.0099 - val_loss: 0.0227\n",
      "Epoch 22/100\n",
      "86/86 [==============================] - 3s 39ms/step - loss: 0.0099 - val_loss: 0.0219\n",
      "Epoch 23/100\n",
      "86/86 [==============================] - 3s 40ms/step - loss: 0.0098 - val_loss: 0.0216\n",
      "Epoch 24/100\n",
      "86/86 [==============================] - 4s 44ms/step - loss: 0.0097 - val_loss: 0.0217\n",
      "Epoch 25/100\n",
      "86/86 [==============================] - 4s 45ms/step - loss: 0.0096 - val_loss: 0.0218\n",
      "Epoch 26/100\n",
      "86/86 [==============================] - 4s 45ms/step - loss: 0.0096 - val_loss: 0.0220\n",
      "Epoch 27/100\n",
      "86/86 [==============================] - 3s 38ms/step - loss: 0.0097 - val_loss: 0.0222\n",
      "Epoch 28/100\n",
      "86/86 [==============================] - 3s 40ms/step - loss: 0.0098 - val_loss: 0.0221\n"
     ]
    }
   ],
   "source": [
    "# ---------------------------------------------------------------------------- #\n",
    "#                               Compile the model                              #\n",
    "# ---------------------------------------------------------------------------- #\n",
    "\n",
    "optim = Adam(learning_rate=0.01)\n",
    "loosf = MeanSquaredError()\n",
    "model.compile(optimizer=optim, loss=loosf,)\n",
    "\n",
    "history = model.fit(\n",
    "    X_train, \n",
    "    y_train, \n",
    "    validation_data=(X_val, y_val),\n",
    "    epochs=100, \n",
    "    verbose=1, \n",
    "    batch_size=128,\n",
    "    callbacks=[EarlyStopping(monitor='val_loss', patience=5)]\n",
    ")"
   ]
  },
  {
   "cell_type": "code",
   "execution_count": 128,
   "metadata": {},
   "outputs": [
    {
     "data": {
      "image/png": "[encoded data removed]",
      "text/plain": [
       "<Figure size 640x480 with 1 Axes>"
      ]
     },
     "metadata": {},
     "output_type": "display_data"
    }
   ],
   "source": [
    "# plot history\n",
    "def plot_history(history):\n",
    "    plt.plot(history['loss'][1:], label='train')\n",
    "    plt.plot(history['val_loss'][1:], label='test')\n",
    "    plt.legend()\n",
    "    plt.show()\n",
    "    \n",
    "plot_history(model.history.history)\n",
    "    "
   ]
  },
  {
   "cell_type": "code",
   "execution_count": 237,
   "metadata": {},
   "outputs": [
    {
     "name": "stdout",
     "output_type": "stream",
     "text": [
      "Epoch 1/100\n"
     ]
    },
    {
     "name": "stdout",
     "output_type": "stream",
     "text": [
      "86/86 [==============================] - 3s 10ms/step - loss: nan - val_loss: nan\n",
      "Epoch 2/100\n",
      "86/86 [==============================] - 1s 7ms/step - loss: nan - val_loss: nan\n",
      "Epoch 3/100\n",
      "86/86 [==============================] - 0s 5ms/step - loss: nan - val_loss: nan\n",
      "Epoch 4/100\n",
      "86/86 [==============================] - 0s 6ms/step - loss: nan - val_loss: nan\n",
      "Epoch 5/100\n",
      "86/86 [==============================] - 0s 6ms/step - loss: nan - val_loss: nan\n"
     ]
    }
   ],
   "source": []
  },
  {
   "cell_type": "code",
   "execution_count": 24,
   "metadata": {},
   "outputs": [
    {
     "name": "stdout",
     "output_type": "stream",
     "text": [
      "X_train shape: (10943, 1, 3)\n",
      "y_train shape: (10943, 1)\n",
      "X_val shape:   (3671, 1, 3)\n"
     ]
    },
    {
     "ename": "AttributeError",
     "evalue": "'dict' object has no attribute 'shape'",
     "output_type": "error",
     "traceback": [
      "\u001b[0;31m---------------------------------------------------------------------------\u001b[0m",
      "\u001b[0;31mAttributeError\u001b[0m                            Traceback (most recent call last)",
      "Cell \u001b[0;32mIn[24], line 33\u001b[0m\n\u001b[1;32m     31\u001b[0m \u001b[39mprint\u001b[39m(\u001b[39mf\u001b[39m\u001b[39m\"\u001b[39m\u001b[39my_train shape: \u001b[39m\u001b[39m{\u001b[39;00my_train\u001b[39m.\u001b[39mshape\u001b[39m}\u001b[39;00m\u001b[39m\"\u001b[39m)\n\u001b[1;32m     32\u001b[0m \u001b[39mprint\u001b[39m(\u001b[39mf\u001b[39m\u001b[39m\"\u001b[39m\u001b[39mX_val shape:   \u001b[39m\u001b[39m{\u001b[39;00mX_val\u001b[39m.\u001b[39mshape\u001b[39m}\u001b[39;00m\u001b[39m\"\u001b[39m)\n\u001b[0;32m---> 33\u001b[0m \u001b[39mprint\u001b[39m(\u001b[39mf\u001b[39m\u001b[39m\"\u001b[39m\u001b[39my_val shape:   \u001b[39m\u001b[39m{\u001b[39;00my_val\u001b[39m.\u001b[39;49mshape\u001b[39m}\u001b[39;00m\u001b[39m\"\u001b[39m)\n\u001b[1;32m     34\u001b[0m \u001b[39mprint\u001b[39m(\u001b[39mf\u001b[39m\u001b[39m\"\u001b[39m\u001b[39mX_test shape:  \u001b[39m\u001b[39m{\u001b[39;00mX_test\u001b[39m.\u001b[39mshape\u001b[39m}\u001b[39;00m\u001b[39m\"\u001b[39m)\n\u001b[1;32m     35\u001b[0m \u001b[39mprint\u001b[39m(\u001b[39mf\u001b[39m\u001b[39m\"\u001b[39m\u001b[39my_test shape:  \u001b[39m\u001b[39m{\u001b[39;00my_test\u001b[39m.\u001b[39mshape\u001b[39m}\u001b[39;00m\u001b[39m\"\u001b[39m)\n",
      "\u001b[0;31mAttributeError\u001b[0m: 'dict' object has no attribute 'shape'"
     ]
    }
   ],
   "source": [
    "\n",
    "# Reshape from [samples, timesteps] into [samples, timesteps, features]\n",
    "# ==============================================================================\n",
    "def skforecast_X_train_to_lstm_exo_lags(X):\n",
    "    \"\"\"\n",
    "    Transforms X_train matrix from skforecast format to LSTM format.\n",
    "\n",
    "    Format rerquired by LSTM is [samples, timesteps, features]. For example,\n",
    "    if X_train has 3 lags and 2 exogenous variables, lstm format will be:\n",
    "    array([[[lag3, exog1, exog2],\n",
    "            [lag2, exog1, exog2],\n",
    "            [lag1, exog1, exog2]],\n",
    "            ...,\n",
    "            [[lag3, exog1, exog2],\n",
    "            [lag2, exog1, exog2],\n",
    "            [lag1, exog1, exog2]],\n",
    "            ...,\n",
    "        ])\n",
    "            \n",
    "    \"\"\"\n",
    "    exog_features = X.columns.str.split('_').str[0].unique().to_list()\n",
    "    X_train_lstm = [X.filter(regex=f\"^{x}\") for x in exog_features]\n",
    "    X_train_lstm = np.array(X_train_lstm)\n",
    "    X_train_lstm =X_train_lstm.reshape(X_train_lstm.shape[1], X_train_lstm.shape[2], X_train_lstm.shape[0])\n",
    "    return X_train_lstm\n",
    "    \n",
    "\n",
    "X_train = skforecast_X_train_to_lstm_exo_lags(X_train)\n",
    "X_val   = skforecast_X_train_to_lstm_exo_lags(X_val)\n",
    "X_test  = skforecast_X_train_to_lstm_exo_lags(X_test)\n",
    "print(f\"X_train shape: {X_train.shape}\")\n",
    "print(f\"y_train shape: {y_train.shape}\")\n",
    "print(f\"X_val shape:   {X_val.shape}\")\n",
    "print(f\"y_val shape:   {y_val.shape}\")\n",
    "print(f\"X_test shape:  {X_test.shape}\")\n",
    "print(f\"y_test shape:  {y_test.shape}\")\n",
    "\n",
    "\n",
    "# LSTM Multivariate multiple-step\n",
    "# ==============================================================================\n",
    "lr = 0.1\n",
    "\n",
    "features = X_train.shape[2] # exog + y\n",
    "model = Sequential()\n",
    "model.add(LSTM(100, activation='relu', input_shape=(steps, features), return_sequences=True))\n",
    "model.add(LSTM(100, activation='relu',))\n",
    "model.add(Dense(128, activation='relu'))\n",
    "model.add(Dense(64, activation='relu'))\n",
    "model.add(Dense(32, activation='relu'))\n",
    "model.add(Dense(16, activation='relu'))\n",
    "model.add(Dense(steps, activation='linear'))\n",
    "print(model.summary())\n",
    "\n",
    "# optim = RMSprop(learning_rate=lr)\n",
    "# optim = Adadelta(learning_rate=lr, rho=0.95, epsilon=1e-07, centered=False)\n",
    "optim = Adam(learning_rate=lr)\n",
    "loosf = MeanSquaredError()\n",
    "\n",
    "model.compile(optimizer=optim, loss=loosf,)\n"
   ]
  },
  {
   "cell_type": "code",
   "execution_count": 154,
   "metadata": {},
   "outputs": [
    {
     "name": "stdout",
     "output_type": "stream",
     "text": [
      "Epoch 1/100\n",
      "86/86 [==============================] - 10s 57ms/step - loss: 3712285.2500 - val_loss: 0.5796\n",
      "Epoch 2/100\n",
      "86/86 [==============================] - 3s 40ms/step - loss: 0.3728 - val_loss: 0.5588\n",
      "Epoch 3/100\n",
      "86/86 [==============================] - 3s 37ms/step - loss: 0.3528 - val_loss: 0.5332\n",
      "Epoch 4/100\n",
      "86/86 [==============================] - 3s 38ms/step - loss: 0.3302 - val_loss: 0.5056\n",
      "Epoch 5/100\n",
      "86/86 [==============================] - 3s 38ms/step - loss: 0.3068 - val_loss: 0.4772\n",
      "Epoch 6/100\n",
      "86/86 [==============================] - 4s 50ms/step - loss: 0.2835 - val_loss: 0.4493\n",
      "Epoch 7/100\n",
      "86/86 [==============================] - 6s 67ms/step - loss: 0.2613 - val_loss: 0.4226\n",
      "Epoch 8/100\n",
      "86/86 [==============================] - 8s 90ms/step - loss: 0.2405 - val_loss: 0.3974\n",
      "Epoch 9/100\n",
      "86/86 [==============================] - 8s 91ms/step - loss: 0.2215 - val_loss: 0.3740\n",
      "Epoch 10/100\n",
      "86/86 [==============================] - 6s 74ms/step - loss: 0.2042 - val_loss: 0.3524\n",
      "Epoch 11/100\n",
      "86/86 [==============================] - 7s 79ms/step - loss: 0.1886 - val_loss: 0.3326\n",
      "Epoch 12/100\n",
      "86/86 [==============================] - 7s 85ms/step - loss: 0.1746 - val_loss: 0.3144\n",
      "Epoch 13/100\n",
      "86/86 [==============================] - 7s 87ms/step - loss: 0.1619 - val_loss: 0.2976\n",
      "Epoch 14/100\n",
      "86/86 [==============================] - 12s 134ms/step - loss: 0.1505 - val_loss: 0.2821\n",
      "Epoch 15/100\n",
      "86/86 [==============================] - 10s 119ms/step - loss: 0.1401 - val_loss: 0.2678\n",
      "Epoch 16/100\n",
      "86/86 [==============================] - 6s 75ms/step - loss: 0.1305 - val_loss: 0.2544\n",
      "Epoch 17/100\n",
      "86/86 [==============================] - 6s 68ms/step - loss: 0.1216 - val_loss: 0.2419\n",
      "Epoch 18/100\n",
      "86/86 [==============================] - 6s 66ms/step - loss: 0.1134 - val_loss: 0.2301\n",
      "Epoch 19/100\n",
      "86/86 [==============================] - 7s 87ms/step - loss: 0.1057 - val_loss: 0.2191\n",
      "Epoch 20/100\n",
      "86/86 [==============================] - 11s 125ms/step - loss: 0.0986 - val_loss: 0.2086\n",
      "Epoch 21/100\n",
      "86/86 [==============================] - 11s 132ms/step - loss: 0.0918 - val_loss: 0.1988\n",
      "Epoch 22/100\n",
      "86/86 [==============================] - 9s 102ms/step - loss: 0.0855 - val_loss: 0.1894\n",
      "Epoch 23/100\n",
      "86/86 [==============================] - 8s 91ms/step - loss: 0.0796 - val_loss: 0.1806\n",
      "Epoch 24/100\n",
      "86/86 [==============================] - 7s 79ms/step - loss: 0.0741 - val_loss: 0.1723\n",
      "Epoch 25/100\n",
      "86/86 [==============================] - 9s 101ms/step - loss: 0.0690 - val_loss: 0.1645\n",
      "Epoch 26/100\n",
      "86/86 [==============================] - 10s 121ms/step - loss: 0.0642 - val_loss: 0.1571\n",
      "Epoch 27/100\n",
      "86/86 [==============================] - 12s 136ms/step - loss: 0.0598 - val_loss: 0.1501\n",
      "Epoch 28/100\n",
      "86/86 [==============================] - 11s 129ms/step - loss: 0.0557 - val_loss: 0.1436\n",
      "Epoch 29/100\n",
      "86/86 [==============================] - 11s 131ms/step - loss: 0.0519 - val_loss: 0.1375\n",
      "Epoch 30/100\n",
      "86/86 [==============================] - 12s 137ms/step - loss: 0.0485 - val_loss: 0.1318\n",
      "Epoch 31/100\n",
      "86/86 [==============================] - 15s 169ms/step - loss: 0.0454 - val_loss: 0.1265\n",
      "Epoch 32/100\n",
      "86/86 [==============================] - 11s 130ms/step - loss: 0.0425 - val_loss: 0.1215\n",
      "Epoch 33/100\n",
      "86/86 [==============================] - 8s 90ms/step - loss: 0.0399 - val_loss: 0.1169\n",
      "Epoch 34/100\n",
      "86/86 [==============================] - 6s 69ms/step - loss: 0.0376 - val_loss: 0.1126\n",
      "Epoch 35/100\n",
      "86/86 [==============================] - 6s 74ms/step - loss: 0.0355 - val_loss: 0.1087\n",
      "Epoch 36/100\n",
      "86/86 [==============================] - 7s 82ms/step - loss: 0.0336 - val_loss: 0.1051\n",
      "Epoch 37/100\n",
      "86/86 [==============================] - 8s 98ms/step - loss: 0.0319 - val_loss: 0.1017\n",
      "Epoch 38/100\n",
      "86/86 [==============================] - 8s 90ms/step - loss: 0.0304 - val_loss: 0.0986\n",
      "Epoch 39/100\n",
      "86/86 [==============================] - 6s 68ms/step - loss: 0.0291 - val_loss: 0.0958\n",
      "Epoch 40/100\n",
      "86/86 [==============================] - 5s 58ms/step - loss: 0.0279 - val_loss: 0.0932\n",
      "Epoch 41/100\n",
      "86/86 [==============================] - 4s 48ms/step - loss: 0.0269 - val_loss: 0.0909\n",
      "Epoch 42/100\n",
      "86/86 [==============================] - 4s 45ms/step - loss: 0.0260 - val_loss: 0.0887\n",
      "Epoch 43/100\n",
      "86/86 [==============================] - 4s 43ms/step - loss: 0.0253 - val_loss: 0.0868\n",
      "Epoch 44/100\n",
      "86/86 [==============================] - 4s 49ms/step - loss: 0.0246 - val_loss: 0.0850\n",
      "Epoch 45/100\n",
      "86/86 [==============================] - 5s 55ms/step - loss: 0.0240 - val_loss: 0.0834\n",
      "Epoch 46/100\n",
      "86/86 [==============================] - 6s 64ms/step - loss: 0.0235 - val_loss: 0.0821\n",
      "Epoch 47/100\n",
      "86/86 [==============================] - 6s 69ms/step - loss: 0.0231 - val_loss: 0.0808\n",
      "Epoch 48/100\n",
      "86/86 [==============================] - 6s 69ms/step - loss: 0.0228 - val_loss: 0.0796\n",
      "Epoch 49/100\n",
      "86/86 [==============================] - 6s 72ms/step - loss: 0.0225 - val_loss: 0.0786\n",
      "Epoch 50/100\n",
      "86/86 [==============================] - 6s 64ms/step - loss: 0.0222 - val_loss: 0.0777\n",
      "Epoch 51/100\n",
      "86/86 [==============================] - 5s 62ms/step - loss: 0.0220 - val_loss: 0.0769\n",
      "Epoch 52/100\n",
      "86/86 [==============================] - 5s 61ms/step - loss: 0.0219 - val_loss: 0.0762\n",
      "Epoch 53/100\n",
      "86/86 [==============================] - 4s 52ms/step - loss: 0.0218 - val_loss: 0.0755\n",
      "Epoch 54/100\n",
      "86/86 [==============================] - 4s 48ms/step - loss: 0.0216 - val_loss: 0.0750\n",
      "Epoch 55/100\n",
      "86/86 [==============================] - 4s 49ms/step - loss: 0.0216 - val_loss: 0.0746\n",
      "Epoch 56/100\n",
      "86/86 [==============================] - 4s 48ms/step - loss: 0.0215 - val_loss: 0.0742\n",
      "Epoch 57/100\n",
      "86/86 [==============================] - 5s 61ms/step - loss: 0.0214 - val_loss: 0.0738\n",
      "Epoch 58/100\n",
      "86/86 [==============================] - 5s 59ms/step - loss: 0.0214 - val_loss: 0.0735\n",
      "Epoch 59/100\n",
      "86/86 [==============================] - 5s 63ms/step - loss: 0.0214 - val_loss: 0.0732\n",
      "Epoch 60/100\n",
      "86/86 [==============================] - 7s 81ms/step - loss: 0.0213 - val_loss: 0.0729\n",
      "Epoch 61/100\n",
      "86/86 [==============================] - 6s 71ms/step - loss: 0.0213 - val_loss: 0.0728\n",
      "Epoch 62/100\n",
      "86/86 [==============================] - 6s 64ms/step - loss: 0.0213 - val_loss: 0.0726\n",
      "Epoch 63/100\n",
      "86/86 [==============================] - 6s 68ms/step - loss: 0.0213 - val_loss: 0.0725\n",
      "Epoch 64/100\n",
      "86/86 [==============================] - 5s 56ms/step - loss: 0.0213 - val_loss: 0.0723\n",
      "Epoch 65/100\n",
      "86/86 [==============================] - 5s 59ms/step - loss: 0.0213 - val_loss: 0.0723\n",
      "Epoch 66/100\n",
      "86/86 [==============================] - 7s 78ms/step - loss: 0.0213 - val_loss: 0.0722\n",
      "Epoch 67/100\n",
      "86/86 [==============================] - 6s 75ms/step - loss: 0.0213 - val_loss: 0.0722\n",
      "Epoch 68/100\n",
      "86/86 [==============================] - 7s 82ms/step - loss: 0.0213 - val_loss: 0.0720\n",
      "Epoch 69/100\n",
      "86/86 [==============================] - 7s 80ms/step - loss: 0.0213 - val_loss: 0.0720\n",
      "Epoch 70/100\n",
      "86/86 [==============================] - 6s 75ms/step - loss: 0.0213 - val_loss: 0.0719\n",
      "Epoch 71/100\n",
      "86/86 [==============================] - 6s 73ms/step - loss: 0.0213 - val_loss: 0.0719\n",
      "Epoch 72/100\n",
      "86/86 [==============================] - 5s 61ms/step - loss: 0.0213 - val_loss: 0.0720\n",
      "Epoch 73/100\n",
      "86/86 [==============================] - 5s 60ms/step - loss: 0.0213 - val_loss: 0.0719\n",
      "Epoch 74/100\n",
      "86/86 [==============================] - 5s 58ms/step - loss: 0.0213 - val_loss: 0.0718\n",
      "Epoch 75/100\n",
      "86/86 [==============================] - 5s 63ms/step - loss: 0.0213 - val_loss: 0.0720\n",
      "Epoch 76/100\n",
      "86/86 [==============================] - 6s 66ms/step - loss: 0.0213 - val_loss: 0.0719\n",
      "Epoch 77/100\n",
      "86/86 [==============================] - 7s 78ms/step - loss: 0.0213 - val_loss: 0.0719\n",
      "Epoch 78/100\n",
      "86/86 [==============================] - 6s 75ms/step - loss: 0.0213 - val_loss: 0.0718\n",
      "Epoch 79/100\n",
      "86/86 [==============================] - 7s 79ms/step - loss: 0.0213 - val_loss: 0.0718\n",
      "Epoch 80/100\n",
      "86/86 [==============================] - 6s 68ms/step - loss: 0.0213 - val_loss: 0.0719\n",
      "Epoch 81/100\n",
      "86/86 [==============================] - 5s 62ms/step - loss: 0.0213 - val_loss: 0.0718\n",
      "Epoch 82/100\n",
      "86/86 [==============================] - 5s 60ms/step - loss: 0.0213 - val_loss: 0.0720\n",
      "Epoch 83/100\n",
      "86/86 [==============================] - 4s 51ms/step - loss: 0.0213 - val_loss: 0.0719\n"
     ]
    }
   ],
   "source": []
  },
  {
   "cell_type": "code",
   "execution_count": 270,
   "metadata": {},
   "outputs": [
    {
     "data": {
      "image/png": "[encoded data removed]",
      "text/plain": [
       "<Figure size 640x480 with 1 Axes>"
      ]
     },
     "metadata": {},
     "output_type": "display_data"
    }
   ],
   "source": []
  },
  {
   "cell_type": "code",
   "execution_count": 158,
   "metadata": {},
   "outputs": [
    {
     "name": "stdout",
     "output_type": "stream",
     "text": [
      "91/91 [==============================] - 1s 5ms/step - loss: 0.0578\n"
     ]
    },
    {
     "data": {
      "text/plain": [
       "0.05784473195672035"
      ]
     },
     "execution_count": 158,
     "metadata": {},
     "output_type": "execute_result"
    }
   ],
   "source": [
    "model.evaluate(X_test, y_test)"
   ]
  },
  {
   "cell_type": "code",
   "execution_count": 213,
   "metadata": {},
   "outputs": [
    {
     "data": {
      "text/plain": [
       "'1.2.2'"
      ]
     },
     "execution_count": 213,
     "metadata": {},
     "output_type": "execute_result"
    }
   ],
   "source": [
    "import sklearn\n",
    "sklearn.__version__"
   ]
  },
  {
   "cell_type": "code",
   "execution_count": 228,
   "metadata": {},
   "outputs": [
    {
     "data": {
      "text/html": [
       "<div>\n",
       "<style scoped>\n",
       "    .dataframe tbody tr th:only-of-type {\n",
       "        vertical-align: middle;\n",
       "    }\n",
       "\n",
       "    .dataframe tbody tr th {\n",
       "        vertical-align: top;\n",
       "    }\n",
       "\n",
       "    .dataframe thead th {\n",
       "        text-align: right;\n",
       "    }\n",
       "</style>\n",
       "<table border=\"1\" class=\"dataframe\">\n",
       "  <thead>\n",
       "    <tr style=\"text-align: right;\">\n",
       "      <th></th>\n",
       "      <th>y_step_1</th>\n",
       "      <th>y_step_2</th>\n",
       "      <th>y_step_3</th>\n",
       "      <th>y_step_4</th>\n",
       "      <th>y_step_5</th>\n",
       "      <th>y_step_6</th>\n",
       "      <th>y_step_7</th>\n",
       "      <th>y_step_8</th>\n",
       "      <th>y_step_9</th>\n",
       "      <th>y_step_10</th>\n",
       "    </tr>\n",
       "    <tr>\n",
       "      <th>date_time</th>\n",
       "      <th></th>\n",
       "      <th></th>\n",
       "      <th></th>\n",
       "      <th></th>\n",
       "      <th></th>\n",
       "      <th></th>\n",
       "      <th></th>\n",
       "      <th></th>\n",
       "      <th></th>\n",
       "      <th></th>\n",
       "    </tr>\n",
       "  </thead>\n",
       "  <tbody>\n",
       "    <tr>\n",
       "      <th>2012-09-01 19:00:00</th>\n",
       "      <td>150.129181</td>\n",
       "      <td>150.17749</td>\n",
       "      <td>150.87854</td>\n",
       "      <td>150.491714</td>\n",
       "      <td>150.453735</td>\n",
       "      <td>149.669617</td>\n",
       "      <td>149.53801</td>\n",
       "      <td>150.337128</td>\n",
       "      <td>150.369156</td>\n",
       "      <td>150.376282</td>\n",
       "    </tr>\n",
       "    <tr>\n",
       "      <th>2012-09-01 20:00:00</th>\n",
       "      <td>150.129181</td>\n",
       "      <td>150.17749</td>\n",
       "      <td>150.87854</td>\n",
       "      <td>150.491714</td>\n",
       "      <td>150.453735</td>\n",
       "      <td>149.669617</td>\n",
       "      <td>149.53801</td>\n",
       "      <td>150.337128</td>\n",
       "      <td>150.369156</td>\n",
       "      <td>150.376282</td>\n",
       "    </tr>\n",
       "    <tr>\n",
       "      <th>2012-09-01 21:00:00</th>\n",
       "      <td>150.129181</td>\n",
       "      <td>150.17749</td>\n",
       "      <td>150.87854</td>\n",
       "      <td>150.491714</td>\n",
       "      <td>150.453735</td>\n",
       "      <td>149.669617</td>\n",
       "      <td>149.53801</td>\n",
       "      <td>150.337128</td>\n",
       "      <td>150.369156</td>\n",
       "      <td>150.376282</td>\n",
       "    </tr>\n",
       "    <tr>\n",
       "      <th>2012-09-01 22:00:00</th>\n",
       "      <td>150.129181</td>\n",
       "      <td>150.17749</td>\n",
       "      <td>150.87854</td>\n",
       "      <td>150.491714</td>\n",
       "      <td>150.453735</td>\n",
       "      <td>149.669617</td>\n",
       "      <td>149.53801</td>\n",
       "      <td>150.337128</td>\n",
       "      <td>150.369156</td>\n",
       "      <td>150.376282</td>\n",
       "    </tr>\n",
       "    <tr>\n",
       "      <th>2012-09-01 23:00:00</th>\n",
       "      <td>150.129181</td>\n",
       "      <td>150.17749</td>\n",
       "      <td>150.87854</td>\n",
       "      <td>150.491714</td>\n",
       "      <td>150.453735</td>\n",
       "      <td>149.669617</td>\n",
       "      <td>149.53801</td>\n",
       "      <td>150.337128</td>\n",
       "      <td>150.369156</td>\n",
       "      <td>150.376282</td>\n",
       "    </tr>\n",
       "  </tbody>\n",
       "</table>\n",
       "</div>"
      ],
      "text/plain": [
       "                       y_step_1   y_step_2   y_step_3    y_step_4    y_step_5  \\\n",
       "date_time                                                                       \n",
       "2012-09-01 19:00:00  150.129181  150.17749  150.87854  150.491714  150.453735   \n",
       "2012-09-01 20:00:00  150.129181  150.17749  150.87854  150.491714  150.453735   \n",
       "2012-09-01 21:00:00  150.129181  150.17749  150.87854  150.491714  150.453735   \n",
       "2012-09-01 22:00:00  150.129181  150.17749  150.87854  150.491714  150.453735   \n",
       "2012-09-01 23:00:00  150.129181  150.17749  150.87854  150.491714  150.453735   \n",
       "\n",
       "                       y_step_6   y_step_7    y_step_8    y_step_9   y_step_10  \n",
       "date_time                                                                       \n",
       "2012-09-01 19:00:00  149.669617  149.53801  150.337128  150.369156  150.376282  \n",
       "2012-09-01 20:00:00  149.669617  149.53801  150.337128  150.369156  150.376282  \n",
       "2012-09-01 21:00:00  149.669617  149.53801  150.337128  150.369156  150.376282  \n",
       "2012-09-01 22:00:00  149.669617  149.53801  150.337128  150.369156  150.376282  \n",
       "2012-09-01 23:00:00  149.669617  149.53801  150.337128  150.369156  150.376282  "
      ]
     },
     "metadata": {},
     "output_type": "display_data"
    },
    {
     "data": {
      "text/html": [
       "<div>\n",
       "<style scoped>\n",
       "    .dataframe tbody tr th:only-of-type {\n",
       "        vertical-align: middle;\n",
       "    }\n",
       "\n",
       "    .dataframe tbody tr th {\n",
       "        vertical-align: top;\n",
       "    }\n",
       "\n",
       "    .dataframe thead th {\n",
       "        text-align: right;\n",
       "    }\n",
       "</style>\n",
       "<table border=\"1\" class=\"dataframe\">\n",
       "  <thead>\n",
       "    <tr style=\"text-align: right;\">\n",
       "      <th></th>\n",
       "      <th>holiday</th>\n",
       "      <th>weather</th>\n",
       "      <th>temp</th>\n",
       "      <th>atemp</th>\n",
       "      <th>hum</th>\n",
       "      <th>windspeed</th>\n",
       "      <th>users</th>\n",
       "      <th>month</th>\n",
       "      <th>hour</th>\n",
       "      <th>weekday</th>\n",
       "    </tr>\n",
       "    <tr>\n",
       "      <th>date_time</th>\n",
       "      <th></th>\n",
       "      <th></th>\n",
       "      <th></th>\n",
       "      <th></th>\n",
       "      <th></th>\n",
       "      <th></th>\n",
       "      <th></th>\n",
       "      <th></th>\n",
       "      <th></th>\n",
       "      <th></th>\n",
       "    </tr>\n",
       "  </thead>\n",
       "  <tbody>\n",
       "    <tr>\n",
       "      <th>2012-09-01 00:00:00</th>\n",
       "      <td>0.0</td>\n",
       "      <td>clear</td>\n",
       "      <td>30.34</td>\n",
       "      <td>34.090</td>\n",
       "      <td>62.0</td>\n",
       "      <td>7.0015</td>\n",
       "      <td>168.0</td>\n",
       "      <td>9</td>\n",
       "      <td>0</td>\n",
       "      <td>5</td>\n",
       "    </tr>\n",
       "    <tr>\n",
       "      <th>2012-09-01 01:00:00</th>\n",
       "      <td>0.0</td>\n",
       "      <td>clear</td>\n",
       "      <td>29.52</td>\n",
       "      <td>34.850</td>\n",
       "      <td>74.0</td>\n",
       "      <td>8.9981</td>\n",
       "      <td>79.0</td>\n",
       "      <td>9</td>\n",
       "      <td>1</td>\n",
       "      <td>5</td>\n",
       "    </tr>\n",
       "    <tr>\n",
       "      <th>2012-09-01 02:00:00</th>\n",
       "      <td>0.0</td>\n",
       "      <td>clear</td>\n",
       "      <td>28.70</td>\n",
       "      <td>32.575</td>\n",
       "      <td>70.0</td>\n",
       "      <td>11.0014</td>\n",
       "      <td>69.0</td>\n",
       "      <td>9</td>\n",
       "      <td>2</td>\n",
       "      <td>5</td>\n",
       "    </tr>\n",
       "    <tr>\n",
       "      <th>2012-09-01 03:00:00</th>\n",
       "      <td>0.0</td>\n",
       "      <td>clear</td>\n",
       "      <td>28.70</td>\n",
       "      <td>32.575</td>\n",
       "      <td>70.0</td>\n",
       "      <td>7.0015</td>\n",
       "      <td>35.0</td>\n",
       "      <td>9</td>\n",
       "      <td>3</td>\n",
       "      <td>5</td>\n",
       "    </tr>\n",
       "    <tr>\n",
       "      <th>2012-09-01 04:00:00</th>\n",
       "      <td>0.0</td>\n",
       "      <td>clear</td>\n",
       "      <td>28.70</td>\n",
       "      <td>32.575</td>\n",
       "      <td>70.0</td>\n",
       "      <td>0.0000</td>\n",
       "      <td>12.0</td>\n",
       "      <td>9</td>\n",
       "      <td>4</td>\n",
       "      <td>5</td>\n",
       "    </tr>\n",
       "  </tbody>\n",
       "</table>\n",
       "</div>"
      ],
      "text/plain": [
       "                     holiday weather   temp   atemp   hum  windspeed  users  \\\n",
       "date_time                                                                     \n",
       "2012-09-01 00:00:00      0.0   clear  30.34  34.090  62.0     7.0015  168.0   \n",
       "2012-09-01 01:00:00      0.0   clear  29.52  34.850  74.0     8.9981   79.0   \n",
       "2012-09-01 02:00:00      0.0   clear  28.70  32.575  70.0    11.0014   69.0   \n",
       "2012-09-01 03:00:00      0.0   clear  28.70  32.575  70.0     7.0015   35.0   \n",
       "2012-09-01 04:00:00      0.0   clear  28.70  32.575  70.0     0.0000   12.0   \n",
       "\n",
       "                     month  hour  weekday  \n",
       "date_time                                  \n",
       "2012-09-01 00:00:00      9     0        5  \n",
       "2012-09-01 01:00:00      9     1        5  \n",
       "2012-09-01 02:00:00      9     2        5  \n",
       "2012-09-01 03:00:00      9     3        5  \n",
       "2012-09-01 04:00:00      9     4        5  "
      ]
     },
     "metadata": {},
     "output_type": "display_data"
    }
   ],
   "source": [
    "# Predictions\n",
    "# ==============================================================================\n",
    "from sklearn import set_config\n",
    "set_config(transform_output=\"pandas\")\n",
    "\n",
    "predictions = model.predict(X_test, verbose=0)\n",
    "# predictions = predictions.flatten()\n",
    "predictions.shape\n",
    "# predictions = pd.Series(predictions, index=data_test.index[lags:len(predictions)+lags])\n",
    "predictions = pd.DataFrame(\n",
    "    predictions, \n",
    "    columns=y_test.columns,\n",
    "    index=y_test.index)\n",
    "predictions\n",
    "\n",
    "# transform\n",
    "# ==============================================================================\n",
    "tt = MinMaxScaler()\n",
    "tt.fit(data_test[['users']])\n",
    "predictions = tt.inverse_transform(predictions, )\n",
    "predictions = pd.DataFrame(predictions, columns=y_test.columns, index=y_test.index)\n",
    "display(predictions.head())\n",
    "display(data_test.head())"
   ]
  },
  {
   "cell_type": "code",
   "execution_count": 231,
   "metadata": {},
   "outputs": [
    {
     "data": {
      "text/plain": [
       "y_step_1     150.129181\n",
       "y_step_2     150.177490\n",
       "y_step_3     150.878540\n",
       "y_step_4     150.491714\n",
       "y_step_5     150.453735\n",
       "y_step_6     149.669617\n",
       "y_step_7     149.538010\n",
       "y_step_8     150.337128\n",
       "y_step_9     150.369156\n",
       "y_step_10    150.376282\n",
       "dtype: float32"
      ]
     },
     "execution_count": 231,
     "metadata": {},
     "output_type": "execute_result"
    }
   ],
   "source": [
    "predictions.max()"
   ]
  },
  {
   "cell_type": "code",
   "execution_count": 118,
   "metadata": {},
   "outputs": [
    {
     "name": "stdout",
     "output_type": "stream",
     "text": [
      "Test MAE: 51.722941591057\n"
     ]
    }
   ],
   "source": [
    "# Prediction error (mean absolute error) sklearn\n",
    "# ==============================================================================\n",
    "mae = mean_absolute_error(data_test.loc[predictions.index, 'users'], predictions)\n",
    "print(f\"Test MAE: {mae}\")"
   ]
  },
  {
   "cell_type": "code",
   "execution_count": 205,
   "metadata": {},
   "outputs": [
    {
     "data": {
      "text/plain": [
       "array([[0.1527963 , 0.15284579, 0.15356408, ..., 0.15300936, 0.15304217,\n",
       "        0.15304947],\n",
       "       [0.1527963 , 0.15284579, 0.15356408, ..., 0.15300936, 0.15304217,\n",
       "        0.15304947],\n",
       "       [0.1527963 , 0.15284579, 0.15356408, ..., 0.15300936, 0.15304217,\n",
       "        0.15304947],\n",
       "       ...,\n",
       "       [0.1527963 , 0.15284579, 0.15356408, ..., 0.15300936, 0.15304217,\n",
       "        0.15304947],\n",
       "       [0.1527963 , 0.15284579, 0.15356408, ..., 0.15300936, 0.15304217,\n",
       "        0.15304947],\n",
       "       [0.1527963 , 0.15284579, 0.15356408, ..., 0.15300936, 0.15304217,\n",
       "        0.15304947]], dtype=float32)"
      ]
     },
     "execution_count": 205,
     "metadata": {},
     "output_type": "execute_result"
    }
   ],
   "source": [
    "predictions"
   ]
  },
  {
   "cell_type": "markdown",
   "metadata": {},
   "source": [
    "## Información de sesión"
   ]
  },
  {
   "cell_type": "code",
   "execution_count": null,
   "metadata": {},
   "outputs": [
    {
     "name": "stdout",
     "output_type": "stream",
     "text": [
      "-----\n",
      "keras               2.13.1\n",
      "matplotlib          3.7.1\n",
      "numpy               1.24.3\n",
      "pandas              1.5.3\n",
      "session_info        1.0.0\n",
      "skforecast          0.8.1\n",
      "sklearn             1.3.0\n",
      "tensorflow          2.13.0\n",
      "-----\n",
      "IPython             8.12.0\n",
      "jupyter_client      8.1.0\n",
      "jupyter_core        5.3.0\n",
      "-----\n",
      "Python 3.10.10 | packaged by Anaconda, Inc. | (main, Mar 21 2023, 18:39:17) [MSC v.1916 64 bit (AMD64)]\n",
      "Windows-10-10.0.19045-SP0\n",
      "-----\n",
      "Session information updated at 2023-08-30 22:01\n"
     ]
    }
   ],
   "source": [
    "import session_info\n",
    "session_info.show(html=False)"
   ]
  },
  {
   "cell_type": "markdown",
   "metadata": {},
   "source": [
    "## Bibliografía\n",
    "<br>\n",
    "\n",
    "Linear Models with R by Julian J.Faraway [libro](https://www.amazon.es/gp/product/1439887330/ref=as_li_qf_asin_il_tl?ie=UTF8&tag=cienciadedato-21&creative=24630&linkCode=as2&creativeASIN=1439887330&linkId=e9ca62e854567fb3f9d0ea044f084b11)\n",
    "\n",
    "OpenIntro Statistics: Fourth Edition by David Diez, Mine Çetinkaya-Rundel, Christopher Barr [libro](https://www.amazon.es/gp/product/1943450072/ref=as_li_qf_asin_il_tl?ie=UTF8&tag=cienciadedato-21&creative=24630&linkCode=as2&creativeASIN=1943450072&linkId=a8b49fab17a559d33901ee804a9b5737)\n",
    "\n",
    "Introduction to Machine Learning with Python: A Guide for Data Scientists [libro](https://www.amazon.es/gp/product/1449369413/ref=as_li_qf_asin_il_tl?ie=UTF8&tag=cienciadedato-21&creative=24630&linkCode=as2&creativeASIN=1449369413&linkId=e07f892d9e2c458e8144303901ea9580)\n",
    "\n",
    "Points of Significance: Association, correlation and causation. Naomi Altman & Martin Krzywinski Nature Methods\n",
    "\n",
    "https://en.wikipedia.org/wiki/Co\n",
    "\n"
   ]
  },
  {
   "cell_type": "code",
   "execution_count": null,
   "metadata": {
    "code_folding": [],
    "hide_input": true,
    "remove_cell": true,
    "tags": [
     "\"hide_input\""
    ]
   },
   "outputs": [
    {
     "data": {
      "text/html": [
       "<style>\n",
       ".text_cell_render p {\n",
       "    text-align: justify;\n",
       "    font-family: 'Open Sans','Helvetica Neue',Helvetica,Arial,sans-serif;\n",
       "    line-height: 1.5;\n",
       "    font-weight: 400;\n",
       "    text-shadow: none;\n",
       "    color: #333333;\n",
       "    text-rendering: optimizeLegibility;\n",
       "    letter-spacing: +0.1px;\n",
       "    margin-bottom: 1.15rem;\n",
       "    font-size: 1.15em\n",
       "}\n",
       "\n",
       "div.admonition.note {\n",
       "    text-align: justify;\n",
       "    font-family: 'Open Sans','Helvetica Neue',Helvetica,Arial,sans-serif;\n",
       "    line-height: 1.5;\n",
       "    font-weight: 400;\n",
       "    text-shadow: none;\n",
       "    color: #333333;\n",
       "    text-rendering: optimizeLegibility;\n",
       "    letter-spacing: +0.1px;\n",
       "    margin-bottom: 1.15rem;\n",
       "    font-size: 15px;\n",
       "}\n",
       "\n",
       "\n",
       "#notebook-container {\n",
       "    background-color: #fcfcfc;\n",
       "}\n",
       "\n",
       "div.inner_cell {\n",
       "    margin-right: 5%;\n",
       "}\n",
       "\n",
       ".output_png {\n",
       "        display: table-cell;\n",
       "        text-align: center;\n",
       "        vertical-align: middle;\n",
       "}\n",
       "\n",
       ".rendered_html code {\n",
       "    background-color: #f2f2f2;\n",
       "    font-family: monospace;\n",
       "    color: #a20505;\n",
       "    font-size: 15px;\n",
       "    padding: 1px 1px;\n",
       "    border: solid;\n",
       "    border-color: darkgray;\n",
       "    border-width: thin;\n",
       "}\n",
       "\n",
       ".rendered_html h1 {\n",
       "    padding-top: 50px;\n",
       "}\n",
       "\n",
       ".rendered_html h2 {\n",
       "    font-size: 30px;\n",
       "    margin-top: 0;\n",
       "    font-size: 2.488em;\n",
       "}\n",
       "\n",
       ".rendered_html h3 {\n",
       "    font-size: 25px;\n",
       "}\n",
       "\n",
       ".rendered_html h4 {\n",
       "    font-size: 20px;\n",
       "}\n",
       "\n",
       "</style>\n"
      ],
      "text/plain": [
       "<IPython.core.display.HTML object>"
      ]
     },
     "metadata": {},
     "output_type": "display_data"
    }
   ],
   "source": [
    "%%html\n",
    "<style>\n",
    ".text_cell_render p {\n",
    "    text-align: justify;\n",
    "    font-family: 'Open Sans','Helvetica Neue',Helvetica,Arial,sans-serif;\n",
    "    line-height: 1.5;\n",
    "    font-weight: 400;\n",
    "    text-shadow: none;\n",
    "    color: #333333;\n",
    "    text-rendering: optimizeLegibility;\n",
    "    letter-spacing: +0.1px;\n",
    "    margin-bottom: 1.15rem;\n",
    "    font-size: 1.15em\n",
    "}\n",
    "\n",
    "div.admonition.note {\n",
    "    text-align: justify;\n",
    "    font-family: 'Open Sans','Helvetica Neue',Helvetica,Arial,sans-serif;\n",
    "    line-height: 1.5;\n",
    "    font-weight: 400;\n",
    "    text-shadow: none;\n",
    "    color: #333333;\n",
    "    text-rendering: optimizeLegibility;\n",
    "    letter-spacing: +0.1px;\n",
    "    margin-bottom: 1.15rem;\n",
    "    font-size: 15px;\n",
    "}\n",
    "\n",
    "\n",
    "#notebook-container {\n",
    "    background-color: #fcfcfc;\n",
    "}\n",
    "\n",
    "div.inner_cell {\n",
    "    margin-right: 5%;\n",
    "}\n",
    "\n",
    ".output_png {\n",
    "        display: table-cell;\n",
    "        text-align: center;\n",
    "        vertical-align: middle;\n",
    "}\n",
    "\n",
    ".rendered_html code {\n",
    "    background-color: #f2f2f2;\n",
    "    font-family: monospace;\n",
    "    color: #a20505;\n",
    "    font-size: 15px;\n",
    "    padding: 1px 1px;\n",
    "    border: solid;\n",
    "    border-color: darkgray;\n",
    "    border-width: thin;\n",
    "}\n",
    "\n",
    ".rendered_html h1 {\n",
    "    padding-top: 50px;\n",
    "}\n",
    "\n",
    ".rendered_html h2 {\n",
    "    font-size: 30px;\n",
    "    margin-top: 0;\n",
    "    font-size: 2.488em;\n",
    "}\n",
    "\n",
    ".rendered_html h3 {\n",
    "    font-size: 25px;\n",
    "}\n",
    "\n",
    ".rendered_html h4 {\n",
    "    font-size: 20px;\n",
    "}\n",
    "\n",
    "</style>"
   ]
  },
  {
   "cell_type": "markdown",
   "metadata": {},
   "source": [
    "**¿Cómo citar este documento?**\n",
    "\n",
    "<p style=\"text-align:left\"><font size=\"3\" color=\"#555\">\n",
    "TITULO DEL DOCUMENTO by AUTOR, available under a Attribution 4.0 International (CC BY 4.0) at https://www.cienciadedatos.net/documentos/pystats05-correlacion-lineal-python.html\n",
    "\n",
    "    \n",
    "</font></p>"
   ]
  },
  {
   "cell_type": "markdown",
   "metadata": {},
   "source": [
    "<a rel=\"license\" href=\"http://creativecommons.org/licenses/by/4.0/\"><img alt=\"Creative Commons Licence\" style=\"border-width:0\" src=\"https://i.creativecommons.org/l/by/4.0/88x31.png\" /></a><br />This work by AUTOR is licensed under a <a rel=\"license\" href=\"http://creativecommons.org/licenses/by/4.0/\">Creative Commons Attribution 4.0 International License</a>."
   ]
  },
  {
   "cell_type": "code",
   "execution_count": null,
   "metadata": {},
   "outputs": [],
   "source": []
  }
 ],
 "metadata": {
  "kernelspec": {
   "display_name": "cienciadedatos_p10",
   "language": "python",
   "name": "python3"
  },
  "language_info": {
   "codemirror_mode": {
    "name": "ipython",
    "version": 3
   },
   "file_extension": ".py",
   "mimetype": "text/x-python",
   "name": "python",
   "nbconvert_exporter": "python",
   "pygments_lexer": "ipython3",
   "version": "3.11.5"
  },
  "toc": {
   "base_numbering": 1,
   "nav_menu": {},
   "number_sections": false,
   "sideBar": true,
   "skip_h1_title": true,
   "title_cell": "Tabla de contenidos",
   "title_sidebar": "Tabla de contenidos",
   "toc_cell": false,
   "toc_position": {
    "height": "calc(100% - 180px)",
    "left": "10px",
    "top": "150px",
    "width": "204px"
   },
   "toc_section_display": true,
   "toc_window_display": true
  },
  "varInspector": {
   "cols": {
    "lenName": 16,
    "lenType": 16,
    "lenVar": 40
   },
   "kernels_config": {
    "python": {
     "delete_cmd_postfix": "",
     "delete_cmd_prefix": "del ",
     "library": "var_list.py",
     "varRefreshCmd": "print(var_dic_list())"
    },
    "r": {
     "delete_cmd_postfix": ") ",
     "delete_cmd_prefix": "rm(",
     "library": "var_list.r",
     "varRefreshCmd": "cat(var_dic_list()) "
    }
   },
   "position": {
    "height": "144px",
    "left": "995px",
    "right": "20px",
    "top": "120px",
    "width": "350px"
   },
   "types_to_exclude": [
    "module",
    "function",
    "builtin_function_or_method",
    "instance",
    "_Feature"
   ],
   "window_display": false
  }
 },
 "nbformat": 4,
 "nbformat_minor": 4
}
