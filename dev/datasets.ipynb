{
 "cells": [
  {
   "cell_type": "code",
   "execution_count": 18,
   "metadata": {},
   "outputs": [
    {
     "name": "stdout",
     "output_type": "stream",
     "text": [
      "The autoreload extension is already loaded. To reload it, use:\n",
      "  %reload_ext autoreload\n"
     ]
    },
    {
     "data": {
      "text/plain": [
       "'c:\\\\Users\\\\Joaquín Amat\\\\Documents\\\\GitHub\\\\skforecast'"
      ]
     },
     "execution_count": 18,
     "metadata": {},
     "output_type": "execute_result"
    }
   ],
   "source": [
    "%load_ext autoreload\n",
    "%autoreload 2\n",
    "import sys\n",
    "from pathlib import Path\n",
    "sys.path.insert(1, str(Path.cwd().parent))\n",
    "str(Path.cwd().parent)"
   ]
  },
  {
   "cell_type": "code",
   "execution_count": 19,
   "metadata": {},
   "outputs": [],
   "source": [
    "url = (\n",
    "       'https://raw.githubusercontent.com/JoaquinAmatRodrigo/skforecast/master/'\n",
    "       'data/simulated_items_sales.csv'\n",
    ")"
   ]
  },
  {
   "cell_type": "code",
   "execution_count": 20,
   "metadata": {},
   "outputs": [],
   "source": [
    "import pandas as pd\n",
    "import numpy as np\n",
    "import pytest\n",
    "\n",
    "\n",
    "def fetch_dataset(\n",
    "    name : str,\n",
    "    version: str = 'latest',\n",
    "    raw: bool = False,\n",
    "    kwargs_read_csv: dict = {},\n",
    "    verbose: bool = True\n",
    ") -> pd.DataFrame:\n",
    "    \"\"\"\n",
    "    Fetch a dataset from the skforecast repository.\n",
    "\n",
    "    Parameters\n",
    "    ----------\n",
    "    name: str\n",
    "        Name of the dataset to fetch.\n",
    "    version: str, int, default `'latest'`\n",
    "        Version of the dataset to fetch. If 'latest', the lastest version will be \n",
    "        fetched (the one in the master branch). For a list of available versions, \n",
    "        see the repository branches.\n",
    "    raw: bool, default `False`\n",
    "        If True, the raw dataset is fetched. If False, the preprocessed dataset \n",
    "        is fetched. The preprocessing consists of setting the column with the \n",
    "        date/time as index and converting the index to datetime. A frequency is \n",
    "        also set to the index.\n",
    "    kwargs_read_csv: dict, default `{}`\n",
    "        Kwargs to pass to pandas `read_csv` function.\n",
    "    verbose: bool, default `True`\n",
    "        If True, print information about the dataset.\n",
    "    \n",
    "    Returns\n",
    "    -------\n",
    "    df: pandas DataFrame\n",
    "        Dataset.\n",
    "    \n",
    "    \"\"\"\n",
    "\n",
    "    version = 'master' if version == 'latest' else f'{version}'\n",
    "\n",
    "    datasets = {\n",
    "        'h2o': {\n",
    "            'url': 'https://raw.githubusercontent.com/JoaquinAmatRodrigo/skforecast/master/data/h2o.csv',\n",
    "            'sep': ',',\n",
    "            'index_col': 'fecha',\n",
    "            'date_format': '%Y-%m-%d',\n",
    "            'freq': 'MS',\n",
    "            'description': (\n",
    "                'Monthly expenditure ($AUD) on corticosteroid drugs that the Australian '\n",
    "                'health system had between 1991 and 2008.\\nObtained from the book: '\n",
    "                'Forecasting: Principles and Practice by Rob J Hyndman and George Athanasopoulos.'\n",
    "            )\n",
    "        },\n",
    "        'items_sales': {\n",
    "            'url': (\n",
    "                'https://raw.githubusercontent.com/JoaquinAmatRodrigo/skforecast/master/'\n",
    "                'data/simulated_items_sales.csv'\n",
    "            ),\n",
    "            'sep': ',',\n",
    "            'index_col': 'date',\n",
    "            'date_format': '%Y-%m-%d',\n",
    "            'freq': 'D',\n",
    "            'description': 'Simulated time series for the sales of 3 different items.'\n",
    "        },\n",
    "        'air_pollution': {\n",
    "            'url' : (\n",
    "                'https://raw.githubusercontent.com/JoaquinAmatRodrigo/skforecast/master/'\n",
    "                'data/guangyuan_air_pollution.csv'\n",
    "            ),\n",
    "            'sep': ',',\n",
    "            'index_col': 'date',\n",
    "            'date_format': '%Y-%m-%d',\n",
    "            'freq': 'D',\n",
    "            'description': ''\n",
    "        }\n",
    "    }\n",
    "    \n",
    "    if name not in datasets.keys():\n",
    "        raise ValueError(\n",
    "            f\"Dataset {name} not found. Available datasets are: {list(datasets.keys())}\"\n",
    "        )\n",
    "    \n",
    "    url = datasets[name]['url']\n",
    "    if version != 'latest':\n",
    "        url = url.replace('master', f'{version}')\n",
    "\n",
    "    try:\n",
    "        sep = datasets[name]['sep']\n",
    "        df = pd.read_csv(url, sep=sep, **kwargs_read_csv)\n",
    "    except:\n",
    "        raise ValueError(\n",
    "            f\"Error reading dataset {name} from {url}. Try to version = 'latest'\"\n",
    "        )\n",
    "\n",
    "    if not raw:\n",
    "        index_col = datasets[name]['index_col']\n",
    "        freq = datasets[name]['freq']\n",
    "        date_format = datasets[name]['date_format']\n",
    "        df = df.set_index(index_col)\n",
    "        df.index = pd.to_datetime(df.index, format=date_format)\n",
    "        df.index.freq = freq\n",
    "        df = df.sort_index()\n",
    "    \n",
    "    if verbose:\n",
    "        print(name)\n",
    "        print('-'*len(name))\n",
    "        print(datasets[name]['description'])\n",
    "        print(f\"Shape of the dataset: {df.shape}\")\n",
    "\n",
    "    return df\n",
    "\n",
    "\n",
    "def test_fetch_dataset():\n",
    "    \"\"\"\n",
    "    Test function `fetch_dataset`.\n",
    "    \"\"\"\n",
    "    \n",
    "    # Test fetching the 'h2o' dataset\n",
    "    df = fetch_dataset('h2o', version='latest', raw=False, verbose=False)\n",
    "    assert isinstance(df, pd.DataFrame)\n",
    "    assert df.shape == (204, 1)\n",
    "    assert df.index.freq == 'MS'\n",
    "    assert df.index[0].strftime('%Y-%m-%d') == '1991-07-01'\n",
    "    assert df.index[-1].strftime('%Y-%m-%d') == '2008-06-01'\n",
    "\n",
    "    # Test fetching the 'items_sales' dataset\n",
    "    df = fetch_dataset('items_sales', version='latest', raw=False, verbose=False)\n",
    "    assert isinstance(df, pd.DataFrame)\n",
    "    assert df.shape == (1097, 3)\n",
    "    assert df.index.freq == 'D'\n",
    "    assert df.index[0] == pd.Timestamp('2012-01-01')\n",
    "    assert df.index[-1] == pd.Timestamp('2015-01-01')\n",
    "\n",
    "    # Test fetching a non-existent dataset\n",
    "    with pytest.raises(ValueError):\n",
    "        fetch_dataset('non_existent_dataset', version='latest', raw=False, verbose=False)\n",
    "\n",
    "    # Test fetching a dataset with a non-existent version\n",
    "    with pytest.raises(ValueError):\n",
    "        fetch_dataset('h2o', version='non_existent_version', raw=False, verbose=False)"
   ]
  },
  {
   "cell_type": "code",
   "execution_count": 21,
   "metadata": {},
   "outputs": [],
   "source": [
    "test_fetch_dataset()"
   ]
  },
  {
   "cell_type": "code",
   "execution_count": 27,
   "metadata": {},
   "outputs": [
    {
     "ename": "ValueError",
     "evalue": "Error reading dataset h2o from https://raw.githubusercontent.com/JoaquinAmatRodrigo/skforecast/0.00/data/h2o.csv. Try to version = 'latest'",
     "output_type": "error",
     "traceback": [
      "\u001b[1;31m---------------------------------------------------------------------------\u001b[0m",
      "\u001b[1;31mHTTPError\u001b[0m                                 Traceback (most recent call last)",
      "\u001b[1;32mc:\\Users\\Joaquín Amat\\Documents\\GitHub\\skforecast\\dev\\datasets.ipynb Cell 5\u001b[0m line \u001b[0;36m9\n\u001b[0;32m     <a href='vscode-notebook-cell:/c%3A/Users/Joaqu%C3%ADn%20Amat/Documents/GitHub/skforecast/dev/datasets.ipynb#X14sZmlsZQ%3D%3D?line=89'>90</a>\u001b[0m     sep \u001b[39m=\u001b[39m datasets[name][\u001b[39m'\u001b[39m\u001b[39msep\u001b[39m\u001b[39m'\u001b[39m]\n\u001b[1;32m---> <a href='vscode-notebook-cell:/c%3A/Users/Joaqu%C3%ADn%20Amat/Documents/GitHub/skforecast/dev/datasets.ipynb#X14sZmlsZQ%3D%3D?line=90'>91</a>\u001b[0m     df \u001b[39m=\u001b[39m pd\u001b[39m.\u001b[39;49mread_csv(url, sep\u001b[39m=\u001b[39;49msep, \u001b[39m*\u001b[39;49m\u001b[39m*\u001b[39;49mkwargs_read_csv)\n\u001b[0;32m     <a href='vscode-notebook-cell:/c%3A/Users/Joaqu%C3%ADn%20Amat/Documents/GitHub/skforecast/dev/datasets.ipynb#X14sZmlsZQ%3D%3D?line=91'>92</a>\u001b[0m \u001b[39mexcept\u001b[39;00m:\n",
      "File \u001b[1;32mc:\\anaconda\\envs\\skforecast_10_py11\\Lib\\site-packages\\pandas\\io\\parsers\\readers.py:912\u001b[0m, in \u001b[0;36mread_csv\u001b[1;34m(filepath_or_buffer, sep, delimiter, header, names, index_col, usecols, dtype, engine, converters, true_values, false_values, skipinitialspace, skiprows, skipfooter, nrows, na_values, keep_default_na, na_filter, verbose, skip_blank_lines, parse_dates, infer_datetime_format, keep_date_col, date_parser, date_format, dayfirst, cache_dates, iterator, chunksize, compression, thousands, decimal, lineterminator, quotechar, quoting, doublequote, escapechar, comment, encoding, encoding_errors, dialect, on_bad_lines, delim_whitespace, low_memory, memory_map, float_precision, storage_options, dtype_backend)\u001b[0m\n\u001b[0;32m    910\u001b[0m kwds\u001b[39m.\u001b[39mupdate(kwds_defaults)\n\u001b[1;32m--> 912\u001b[0m \u001b[39mreturn\u001b[39;00m _read(filepath_or_buffer, kwds)\n",
      "File \u001b[1;32mc:\\anaconda\\envs\\skforecast_10_py11\\Lib\\site-packages\\pandas\\io\\parsers\\readers.py:577\u001b[0m, in \u001b[0;36m_read\u001b[1;34m(filepath_or_buffer, kwds)\u001b[0m\n\u001b[0;32m    576\u001b[0m \u001b[39m# Create the parser.\u001b[39;00m\n\u001b[1;32m--> 577\u001b[0m parser \u001b[39m=\u001b[39m TextFileReader(filepath_or_buffer, \u001b[39m*\u001b[39;49m\u001b[39m*\u001b[39;49mkwds)\n\u001b[0;32m    579\u001b[0m \u001b[39mif\u001b[39;00m chunksize \u001b[39mor\u001b[39;00m iterator:\n",
      "File \u001b[1;32mc:\\anaconda\\envs\\skforecast_10_py11\\Lib\\site-packages\\pandas\\io\\parsers\\readers.py:1407\u001b[0m, in \u001b[0;36mTextFileReader.__init__\u001b[1;34m(self, f, engine, **kwds)\u001b[0m\n\u001b[0;32m   1406\u001b[0m \u001b[39mself\u001b[39m\u001b[39m.\u001b[39mhandles: IOHandles \u001b[39m|\u001b[39m \u001b[39mNone\u001b[39;00m \u001b[39m=\u001b[39m \u001b[39mNone\u001b[39;00m\n\u001b[1;32m-> 1407\u001b[0m \u001b[39mself\u001b[39m\u001b[39m.\u001b[39m_engine \u001b[39m=\u001b[39m \u001b[39mself\u001b[39;49m\u001b[39m.\u001b[39;49m_make_engine(f, \u001b[39mself\u001b[39;49m\u001b[39m.\u001b[39;49mengine)\n",
      "File \u001b[1;32mc:\\anaconda\\envs\\skforecast_10_py11\\Lib\\site-packages\\pandas\\io\\parsers\\readers.py:1661\u001b[0m, in \u001b[0;36mTextFileReader._make_engine\u001b[1;34m(self, f, engine)\u001b[0m\n\u001b[0;32m   1660\u001b[0m         mode \u001b[39m+\u001b[39m\u001b[39m=\u001b[39m \u001b[39m\"\u001b[39m\u001b[39mb\u001b[39m\u001b[39m\"\u001b[39m\n\u001b[1;32m-> 1661\u001b[0m \u001b[39mself\u001b[39m\u001b[39m.\u001b[39mhandles \u001b[39m=\u001b[39m get_handle(\n\u001b[0;32m   1662\u001b[0m     f,\n\u001b[0;32m   1663\u001b[0m     mode,\n\u001b[0;32m   1664\u001b[0m     encoding\u001b[39m=\u001b[39;49m\u001b[39mself\u001b[39;49m\u001b[39m.\u001b[39;49moptions\u001b[39m.\u001b[39;49mget(\u001b[39m\"\u001b[39;49m\u001b[39mencoding\u001b[39;49m\u001b[39m\"\u001b[39;49m, \u001b[39mNone\u001b[39;49;00m),\n\u001b[0;32m   1665\u001b[0m     compression\u001b[39m=\u001b[39;49m\u001b[39mself\u001b[39;49m\u001b[39m.\u001b[39;49moptions\u001b[39m.\u001b[39;49mget(\u001b[39m\"\u001b[39;49m\u001b[39mcompression\u001b[39;49m\u001b[39m\"\u001b[39;49m, \u001b[39mNone\u001b[39;49;00m),\n\u001b[0;32m   1666\u001b[0m     memory_map\u001b[39m=\u001b[39;49m\u001b[39mself\u001b[39;49m\u001b[39m.\u001b[39;49moptions\u001b[39m.\u001b[39;49mget(\u001b[39m\"\u001b[39;49m\u001b[39mmemory_map\u001b[39;49m\u001b[39m\"\u001b[39;49m, \u001b[39mFalse\u001b[39;49;00m),\n\u001b[0;32m   1667\u001b[0m     is_text\u001b[39m=\u001b[39;49mis_text,\n\u001b[0;32m   1668\u001b[0m     errors\u001b[39m=\u001b[39;49m\u001b[39mself\u001b[39;49m\u001b[39m.\u001b[39;49moptions\u001b[39m.\u001b[39;49mget(\u001b[39m\"\u001b[39;49m\u001b[39mencoding_errors\u001b[39;49m\u001b[39m\"\u001b[39;49m, \u001b[39m\"\u001b[39;49m\u001b[39mstrict\u001b[39;49m\u001b[39m\"\u001b[39;49m),\n\u001b[0;32m   1669\u001b[0m     storage_options\u001b[39m=\u001b[39;49m\u001b[39mself\u001b[39;49m\u001b[39m.\u001b[39;49moptions\u001b[39m.\u001b[39;49mget(\u001b[39m\"\u001b[39;49m\u001b[39mstorage_options\u001b[39;49m\u001b[39m\"\u001b[39;49m, \u001b[39mNone\u001b[39;49;00m),\n\u001b[0;32m   1670\u001b[0m )\n\u001b[0;32m   1671\u001b[0m \u001b[39massert\u001b[39;00m \u001b[39mself\u001b[39m\u001b[39m.\u001b[39mhandles \u001b[39mis\u001b[39;00m \u001b[39mnot\u001b[39;00m \u001b[39mNone\u001b[39;00m\n",
      "File \u001b[1;32mc:\\anaconda\\envs\\skforecast_10_py11\\Lib\\site-packages\\pandas\\io\\common.py:716\u001b[0m, in \u001b[0;36mget_handle\u001b[1;34m(path_or_buf, mode, encoding, compression, memory_map, is_text, errors, storage_options)\u001b[0m\n\u001b[0;32m    715\u001b[0m \u001b[39m# open URLs\u001b[39;00m\n\u001b[1;32m--> 716\u001b[0m ioargs \u001b[39m=\u001b[39m _get_filepath_or_buffer(\n\u001b[0;32m    717\u001b[0m     path_or_buf,\n\u001b[0;32m    718\u001b[0m     encoding\u001b[39m=\u001b[39;49mencoding,\n\u001b[0;32m    719\u001b[0m     compression\u001b[39m=\u001b[39;49mcompression,\n\u001b[0;32m    720\u001b[0m     mode\u001b[39m=\u001b[39;49mmode,\n\u001b[0;32m    721\u001b[0m     storage_options\u001b[39m=\u001b[39;49mstorage_options,\n\u001b[0;32m    722\u001b[0m )\n\u001b[0;32m    724\u001b[0m handle \u001b[39m=\u001b[39m ioargs\u001b[39m.\u001b[39mfilepath_or_buffer\n",
      "File \u001b[1;32mc:\\anaconda\\envs\\skforecast_10_py11\\Lib\\site-packages\\pandas\\io\\common.py:368\u001b[0m, in \u001b[0;36m_get_filepath_or_buffer\u001b[1;34m(filepath_or_buffer, encoding, compression, mode, storage_options)\u001b[0m\n\u001b[0;32m    367\u001b[0m req_info \u001b[39m=\u001b[39m urllib\u001b[39m.\u001b[39mrequest\u001b[39m.\u001b[39mRequest(filepath_or_buffer, headers\u001b[39m=\u001b[39mstorage_options)\n\u001b[1;32m--> 368\u001b[0m \u001b[39mwith\u001b[39;00m urlopen(req_info) \u001b[39mas\u001b[39;00m req:\n\u001b[0;32m    369\u001b[0m     content_encoding \u001b[39m=\u001b[39m req\u001b[39m.\u001b[39mheaders\u001b[39m.\u001b[39mget(\u001b[39m\"\u001b[39m\u001b[39mContent-Encoding\u001b[39m\u001b[39m\"\u001b[39m, \u001b[39mNone\u001b[39;00m)\n",
      "File \u001b[1;32mc:\\anaconda\\envs\\skforecast_10_py11\\Lib\\site-packages\\pandas\\io\\common.py:270\u001b[0m, in \u001b[0;36murlopen\u001b[1;34m(*args, **kwargs)\u001b[0m\n\u001b[0;32m    268\u001b[0m \u001b[39mimport\u001b[39;00m \u001b[39murllib\u001b[39;00m\u001b[39m.\u001b[39;00m\u001b[39mrequest\u001b[39;00m\n\u001b[1;32m--> 270\u001b[0m \u001b[39mreturn\u001b[39;00m urllib\u001b[39m.\u001b[39;49mrequest\u001b[39m.\u001b[39;49murlopen(\u001b[39m*\u001b[39;49margs, \u001b[39m*\u001b[39;49m\u001b[39m*\u001b[39;49mkwargs)\n",
      "File \u001b[1;32mc:\\anaconda\\envs\\skforecast_10_py11\\Lib\\urllib\\request.py:216\u001b[0m, in \u001b[0;36murlopen\u001b[1;34m(url, data, timeout, cafile, capath, cadefault, context)\u001b[0m\n\u001b[0;32m    215\u001b[0m     opener \u001b[39m=\u001b[39m _opener\n\u001b[1;32m--> 216\u001b[0m \u001b[39mreturn\u001b[39;00m opener\u001b[39m.\u001b[39;49mopen(url, data, timeout)\n",
      "File \u001b[1;32mc:\\anaconda\\envs\\skforecast_10_py11\\Lib\\urllib\\request.py:525\u001b[0m, in \u001b[0;36mOpenerDirector.open\u001b[1;34m(self, fullurl, data, timeout)\u001b[0m\n\u001b[0;32m    524\u001b[0m     meth \u001b[39m=\u001b[39m \u001b[39mgetattr\u001b[39m(processor, meth_name)\n\u001b[1;32m--> 525\u001b[0m     response \u001b[39m=\u001b[39m meth(req, response)\n\u001b[0;32m    527\u001b[0m \u001b[39mreturn\u001b[39;00m response\n",
      "File \u001b[1;32mc:\\anaconda\\envs\\skforecast_10_py11\\Lib\\urllib\\request.py:634\u001b[0m, in \u001b[0;36mHTTPErrorProcessor.http_response\u001b[1;34m(self, request, response)\u001b[0m\n\u001b[0;32m    633\u001b[0m \u001b[39mif\u001b[39;00m \u001b[39mnot\u001b[39;00m (\u001b[39m200\u001b[39m \u001b[39m<\u001b[39m\u001b[39m=\u001b[39m code \u001b[39m<\u001b[39m \u001b[39m300\u001b[39m):\n\u001b[1;32m--> 634\u001b[0m     response \u001b[39m=\u001b[39m \u001b[39mself\u001b[39;49m\u001b[39m.\u001b[39;49mparent\u001b[39m.\u001b[39;49merror(\n\u001b[0;32m    635\u001b[0m         \u001b[39m'\u001b[39;49m\u001b[39mhttp\u001b[39;49m\u001b[39m'\u001b[39;49m, request, response, code, msg, hdrs)\n\u001b[0;32m    637\u001b[0m \u001b[39mreturn\u001b[39;00m response\n",
      "File \u001b[1;32mc:\\anaconda\\envs\\skforecast_10_py11\\Lib\\urllib\\request.py:563\u001b[0m, in \u001b[0;36mOpenerDirector.error\u001b[1;34m(self, proto, *args)\u001b[0m\n\u001b[0;32m    562\u001b[0m args \u001b[39m=\u001b[39m (\u001b[39mdict\u001b[39m, \u001b[39m'\u001b[39m\u001b[39mdefault\u001b[39m\u001b[39m'\u001b[39m, \u001b[39m'\u001b[39m\u001b[39mhttp_error_default\u001b[39m\u001b[39m'\u001b[39m) \u001b[39m+\u001b[39m orig_args\n\u001b[1;32m--> 563\u001b[0m \u001b[39mreturn\u001b[39;00m \u001b[39mself\u001b[39;49m\u001b[39m.\u001b[39;49m_call_chain(\u001b[39m*\u001b[39;49margs)\n",
      "File \u001b[1;32mc:\\anaconda\\envs\\skforecast_10_py11\\Lib\\urllib\\request.py:496\u001b[0m, in \u001b[0;36mOpenerDirector._call_chain\u001b[1;34m(self, chain, kind, meth_name, *args)\u001b[0m\n\u001b[0;32m    495\u001b[0m func \u001b[39m=\u001b[39m \u001b[39mgetattr\u001b[39m(handler, meth_name)\n\u001b[1;32m--> 496\u001b[0m result \u001b[39m=\u001b[39m func(\u001b[39m*\u001b[39;49margs)\n\u001b[0;32m    497\u001b[0m \u001b[39mif\u001b[39;00m result \u001b[39mis\u001b[39;00m \u001b[39mnot\u001b[39;00m \u001b[39mNone\u001b[39;00m:\n",
      "File \u001b[1;32mc:\\anaconda\\envs\\skforecast_10_py11\\Lib\\urllib\\request.py:643\u001b[0m, in \u001b[0;36mHTTPDefaultErrorHandler.http_error_default\u001b[1;34m(self, req, fp, code, msg, hdrs)\u001b[0m\n\u001b[0;32m    642\u001b[0m \u001b[39mdef\u001b[39;00m \u001b[39mhttp_error_default\u001b[39m(\u001b[39mself\u001b[39m, req, fp, code, msg, hdrs):\n\u001b[1;32m--> 643\u001b[0m     \u001b[39mraise\u001b[39;00m HTTPError(req\u001b[39m.\u001b[39mfull_url, code, msg, hdrs, fp)\n",
      "\u001b[1;31mHTTPError\u001b[0m: HTTP Error 404: Not Found",
      "\nDuring handling of the above exception, another exception occurred:\n",
      "\u001b[1;31mValueError\u001b[0m                                Traceback (most recent call last)",
      "\u001b[1;32mc:\\Users\\Joaquín Amat\\Documents\\GitHub\\skforecast\\dev\\datasets.ipynb Cell 5\u001b[0m line \u001b[0;36m1\n\u001b[1;32m----> <a href='vscode-notebook-cell:/c%3A/Users/Joaqu%C3%ADn%20Amat/Documents/GitHub/skforecast/dev/datasets.ipynb#X14sZmlsZQ%3D%3D?line=0'>1</a>\u001b[0m fetch_dataset(\u001b[39m'\u001b[39;49m\u001b[39mh2o\u001b[39;49m\u001b[39m'\u001b[39;49m, version\u001b[39m=\u001b[39;49m\u001b[39m'\u001b[39;49m\u001b[39m0.00\u001b[39;49m\u001b[39m'\u001b[39;49m, raw\u001b[39m=\u001b[39;49m\u001b[39mFalse\u001b[39;49;00m, verbose\u001b[39m=\u001b[39;49m\u001b[39mTrue\u001b[39;49;00m)\u001b[39m.\u001b[39mindex[\u001b[39m0\u001b[39m]\n",
      "\u001b[1;32mc:\\Users\\Joaquín Amat\\Documents\\GitHub\\skforecast\\dev\\datasets.ipynb Cell 5\u001b[0m line \u001b[0;36m9\n\u001b[0;32m     <a href='vscode-notebook-cell:/c%3A/Users/Joaqu%C3%ADn%20Amat/Documents/GitHub/skforecast/dev/datasets.ipynb#X14sZmlsZQ%3D%3D?line=90'>91</a>\u001b[0m     df \u001b[39m=\u001b[39m pd\u001b[39m.\u001b[39mread_csv(url, sep\u001b[39m=\u001b[39msep, \u001b[39m*\u001b[39m\u001b[39m*\u001b[39mkwargs_read_csv)\n\u001b[0;32m     <a href='vscode-notebook-cell:/c%3A/Users/Joaqu%C3%ADn%20Amat/Documents/GitHub/skforecast/dev/datasets.ipynb#X14sZmlsZQ%3D%3D?line=91'>92</a>\u001b[0m \u001b[39mexcept\u001b[39;00m:\n\u001b[1;32m---> <a href='vscode-notebook-cell:/c%3A/Users/Joaqu%C3%ADn%20Amat/Documents/GitHub/skforecast/dev/datasets.ipynb#X14sZmlsZQ%3D%3D?line=92'>93</a>\u001b[0m     \u001b[39mraise\u001b[39;00m \u001b[39mValueError\u001b[39;00m(\n\u001b[0;32m     <a href='vscode-notebook-cell:/c%3A/Users/Joaqu%C3%ADn%20Amat/Documents/GitHub/skforecast/dev/datasets.ipynb#X14sZmlsZQ%3D%3D?line=93'>94</a>\u001b[0m         \u001b[39mf\u001b[39m\u001b[39m\"\u001b[39m\u001b[39mError reading dataset \u001b[39m\u001b[39m{\u001b[39;00mname\u001b[39m}\u001b[39;00m\u001b[39m from \u001b[39m\u001b[39m{\u001b[39;00murl\u001b[39m}\u001b[39;00m\u001b[39m. Try to version = \u001b[39m\u001b[39m'\u001b[39m\u001b[39mlatest\u001b[39m\u001b[39m'\u001b[39m\u001b[39m\"\u001b[39m\n\u001b[0;32m     <a href='vscode-notebook-cell:/c%3A/Users/Joaqu%C3%ADn%20Amat/Documents/GitHub/skforecast/dev/datasets.ipynb#X14sZmlsZQ%3D%3D?line=94'>95</a>\u001b[0m     )\n\u001b[0;32m     <a href='vscode-notebook-cell:/c%3A/Users/Joaqu%C3%ADn%20Amat/Documents/GitHub/skforecast/dev/datasets.ipynb#X14sZmlsZQ%3D%3D?line=96'>97</a>\u001b[0m \u001b[39mif\u001b[39;00m \u001b[39mnot\u001b[39;00m raw:\n\u001b[0;32m     <a href='vscode-notebook-cell:/c%3A/Users/Joaqu%C3%ADn%20Amat/Documents/GitHub/skforecast/dev/datasets.ipynb#X14sZmlsZQ%3D%3D?line=97'>98</a>\u001b[0m     index_col \u001b[39m=\u001b[39m datasets[name][\u001b[39m'\u001b[39m\u001b[39mindex_col\u001b[39m\u001b[39m'\u001b[39m]\n",
      "\u001b[1;31mValueError\u001b[0m: Error reading dataset h2o from https://raw.githubusercontent.com/JoaquinAmatRodrigo/skforecast/0.00/data/h2o.csv. Try to version = 'latest'"
     ]
    }
   ],
   "source": [
    "fetch_dataset('h2o', version='0.00', raw=False, verbose=True).index[0]"
   ]
  },
  {
   "cell_type": "code",
   "execution_count": 22,
   "metadata": {},
   "outputs": [],
   "source": [
    "def load_demo_dataset() -> pd.Series:\n",
    "    \"\"\"\n",
    "    Load demo data set with monthly expenditure ($AUD) on corticosteroid drugs that\n",
    "    the Australian health system had between 1991 and 2008. Obtained from the book:\n",
    "    Forecasting: Principles and Practice by Rob J Hyndman and George Athanasopoulos.\n",
    "    Index is set to datetime with monthly frequency and sorted.\n",
    "\n",
    "    Parameters\n",
    "    ----------\n",
    "    None\n",
    "\n",
    "    Returns\n",
    "    -------\n",
    "    df: pandas Series\n",
    "        Dataset.\n",
    "    \n",
    "    \"\"\"\n",
    "\n",
    "    url = (\n",
    "        'https://raw.githubusercontent.com/JoaquinAmatRodrigo/skforecast/master/'\n",
    "        'data/h2o.csv'\n",
    "    )\n",
    "\n",
    "    df = pd.read_csv(url, sep=',', header=0, names=['y', 'datetime'])\n",
    "    df['datetime'] = pd.to_datetime(df['datetime'], format='%Y-%m-%d')\n",
    "    df = df.set_index('datetime')\n",
    "    df = df.asfreq('MS')\n",
    "    df = df['y']\n",
    "    df = df.sort_index()\n",
    "\n",
    "    return df\n",
    "\n",
    "# create unit tests for load_demo_dataset\n",
    "\n",
    "def test_load_demo_dataset():\n",
    "    \"\"\"\n",
    "    Test load_demo_dataset function.\n",
    "    \"\"\"\n",
    "    df = load_demo_dataset()\n",
    "    assert isinstance(df, pd.Series)\n",
    "    assert df.index.freq == 'MS'\n",
    "    assert df.index.is_monotonic_increasing\n",
    "    assert df.index[0] == pd.Timestamp('1991-07-01')\n",
    "    assert df.index[-1] == pd.Timestamp('2008-06-01')\n",
    "    assert df.shape == (204,)\n",
    "\n",
    "# Create "
   ]
  },
  {
   "cell_type": "code",
   "execution_count": 23,
   "metadata": {},
   "outputs": [],
   "source": [
    "test_load_demo_dataset()"
   ]
  },
  {
   "cell_type": "code",
   "execution_count": 24,
   "metadata": {},
   "outputs": [
    {
     "data": {
      "text/plain": [
       "datetime\n",
       "1991-07-01    0.429795\n",
       "1991-08-01    0.400906\n",
       "1991-09-01    0.432159\n",
       "1991-10-01    0.492543\n",
       "1991-11-01    0.502369\n",
       "                ...   \n",
       "2008-02-01    0.761822\n",
       "2008-03-01    0.649435\n",
       "2008-04-01    0.827887\n",
       "2008-05-01    0.816255\n",
       "2008-06-01    0.762137\n",
       "Freq: MS, Name: y, Length: 204, dtype: float64"
      ]
     },
     "execution_count": 24,
     "metadata": {},
     "output_type": "execute_result"
    }
   ],
   "source": [
    "load_demo_dataset()"
   ]
  },
  {
   "cell_type": "code",
   "execution_count": 25,
   "metadata": {},
   "outputs": [
    {
     "name": "stdout",
     "output_type": "stream",
     "text": [
      "h2o\n",
      "---\n",
      "Monthly expenditure ($AUD) on corticosteroid drugs that the Australian health system had between 1991 and 2008.\n",
      "Obtained from the book: Forecasting: Principles and Practice by Rob J Hyndman and George Athanasopoulos.\n",
      "Shape of the dataset: (204, 1)\n"
     ]
    },
    {
     "data": {
      "text/html": [
       "<div>\n",
       "<style scoped>\n",
       "    .dataframe tbody tr th:only-of-type {\n",
       "        vertical-align: middle;\n",
       "    }\n",
       "\n",
       "    .dataframe tbody tr th {\n",
       "        vertical-align: top;\n",
       "    }\n",
       "\n",
       "    .dataframe thead th {\n",
       "        text-align: right;\n",
       "    }\n",
       "</style>\n",
       "<table border=\"1\" class=\"dataframe\">\n",
       "  <thead>\n",
       "    <tr style=\"text-align: right;\">\n",
       "      <th></th>\n",
       "      <th>x</th>\n",
       "    </tr>\n",
       "    <tr>\n",
       "      <th>fecha</th>\n",
       "      <th></th>\n",
       "    </tr>\n",
       "  </thead>\n",
       "  <tbody>\n",
       "    <tr>\n",
       "      <th>1991-07-01</th>\n",
       "      <td>0.429795</td>\n",
       "    </tr>\n",
       "    <tr>\n",
       "      <th>1991-08-01</th>\n",
       "      <td>0.400906</td>\n",
       "    </tr>\n",
       "    <tr>\n",
       "      <th>1991-09-01</th>\n",
       "      <td>0.432159</td>\n",
       "    </tr>\n",
       "    <tr>\n",
       "      <th>1991-10-01</th>\n",
       "      <td>0.492543</td>\n",
       "    </tr>\n",
       "    <tr>\n",
       "      <th>1991-11-01</th>\n",
       "      <td>0.502369</td>\n",
       "    </tr>\n",
       "    <tr>\n",
       "      <th>...</th>\n",
       "      <td>...</td>\n",
       "    </tr>\n",
       "    <tr>\n",
       "      <th>2008-02-01</th>\n",
       "      <td>0.761822</td>\n",
       "    </tr>\n",
       "    <tr>\n",
       "      <th>2008-03-01</th>\n",
       "      <td>0.649435</td>\n",
       "    </tr>\n",
       "    <tr>\n",
       "      <th>2008-04-01</th>\n",
       "      <td>0.827887</td>\n",
       "    </tr>\n",
       "    <tr>\n",
       "      <th>2008-05-01</th>\n",
       "      <td>0.816255</td>\n",
       "    </tr>\n",
       "    <tr>\n",
       "      <th>2008-06-01</th>\n",
       "      <td>0.762137</td>\n",
       "    </tr>\n",
       "  </tbody>\n",
       "</table>\n",
       "<p>204 rows × 1 columns</p>\n",
       "</div>"
      ],
      "text/plain": [
       "                   x\n",
       "fecha               \n",
       "1991-07-01  0.429795\n",
       "1991-08-01  0.400906\n",
       "1991-09-01  0.432159\n",
       "1991-10-01  0.492543\n",
       "1991-11-01  0.502369\n",
       "...              ...\n",
       "2008-02-01  0.761822\n",
       "2008-03-01  0.649435\n",
       "2008-04-01  0.827887\n",
       "2008-05-01  0.816255\n",
       "2008-06-01  0.762137\n",
       "\n",
       "[204 rows x 1 columns]"
      ]
     },
     "execution_count": 25,
     "metadata": {},
     "output_type": "execute_result"
    }
   ],
   "source": [
    "fetch_dataset(name='h2o', raw=False, version=\"latest\")"
   ]
  },
  {
   "cell_type": "code",
   "execution_count": 7,
   "metadata": {},
   "outputs": [
    {
     "data": {
      "text/plain": [
       "datetime\n",
       "1991-07-01    0.429795\n",
       "1991-08-01    0.400906\n",
       "1991-09-01    0.432159\n",
       "1991-10-01    0.492543\n",
       "1991-11-01    0.502369\n",
       "                ...   \n",
       "2008-02-01    0.761822\n",
       "2008-03-01    0.649435\n",
       "2008-04-01    0.827887\n",
       "2008-05-01    0.816255\n",
       "2008-06-01    0.762137\n",
       "Freq: MS, Name: y, Length: 204, dtype: float64"
      ]
     },
     "execution_count": 7,
     "metadata": {},
     "output_type": "execute_result"
    }
   ],
   "source": [
    "load_demo_dataset()"
   ]
  }
 ],
 "metadata": {
  "kernelspec": {
   "display_name": "skforecast_py10",
   "language": "python",
   "name": "python3"
  },
  "language_info": {
   "codemirror_mode": {
    "name": "ipython",
    "version": 3
   },
   "file_extension": ".py",
   "mimetype": "text/x-python",
   "name": "python",
   "nbconvert_exporter": "python",
   "pygments_lexer": "ipython3",
   "version": "3.11.4"
  },
  "orig_nbformat": 4,
  "vscode": {
   "interpreter": {
    "hash": "c78d62c1713fdacd99ef7c429003c7324b36fbb551fb8b6860a7ea73e9338235"
   }
  }
 },
 "nbformat": 4,
 "nbformat_minor": 2
}
