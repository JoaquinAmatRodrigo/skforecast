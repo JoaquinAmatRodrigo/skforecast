{
 "cells": [
  {
   "cell_type": "markdown",
   "id": "bbb9de38-5318-4e53-a2aa-409c7b991fe8",
   "metadata": {},
   "source": [
    "# Backtesting SARIMAX and ARIMA models"
   ]
  },
  {
   "cell_type": "markdown",
   "id": "d1ae70e1-1354-4aa6-9dc4-73d3c7b016c5",
   "metadata": {},
   "source": [
    "## Libraries"
   ]
  },
  {
   "cell_type": "code",
   "execution_count": 8,
   "id": "40f03a18-2b0a-4b02-9bd3-776aace7c519",
   "metadata": {},
   "outputs": [],
   "source": [
    "%load_ext autoreload\n",
    "%autoreload 2\n",
    "import sys\n",
    "#sys.path.insert(1, '/home/ximo/Documents/GitHub/skforecast')\n",
    "%config Completer.use_jedi = False"
   ]
  },
  {
   "cell_type": "markdown",
   "id": "bf0484f8-3212-4419-a7a7-2eae37d63369",
   "metadata": {},
   "source": [
    "SARIMAX (Seasonal Auto-Regressive Integrated Moving Average with eXogenous factors) is a generalization of the ARIMA model that allows incorporating seasonality and exogenous variables. This model have a total of 6 hyperparameters that must specified when training the model:\n",
    "\n",
    "+ p: Trend autoregression order.\n",
    "\n",
    "+ d: Trend difference order.\n",
    "\n",
    "+ q: Trend moving average order.\n",
    "\n",
    "+ P: Seasonal autoregressive order.\n",
    "\n",
    "+ D: Seasonal difference order.\n",
    "\n",
    "+ Q: Seasonal moving average order.\n",
    "\n",
    "+ m: The number of time steps for a single seasonal period.\n",
    "\n",
    "One way to find the best values is by using grid search. The `grid_search_sarimax` function of the *skforecast.model_selection_statsmodels* module is a wrapper that automates this process using the [SARIMAX](https://www.statsmodels.org/stable/generated/statsmodels.tsa.statespace.sarimax.SARIMAX.html#statsmodels.tsa.statespace.sarimax.SARIMAX)   implementation available in the statsmodels library."
   ]
  },
  {
   "cell_type": "code",
   "execution_count": 2,
   "id": "d378f5ff-8092-49bb-80b7-8a3996d19fb1",
   "metadata": {},
   "outputs": [],
   "source": [
    "# Libraries\n",
    "# ==============================================================================\n",
    "import numpy as np\n",
    "import pandas as pd\n",
    "import matplotlib.pyplot as plt\n",
    "from skforecast.model_selection_statsmodels import backtesting_sarimax"
   ]
  },
  {
   "cell_type": "markdown",
   "id": "97f03864-ee4a-459d-9eec-03d14feb931e",
   "metadata": {},
   "source": [
    "## Data"
   ]
  },
  {
   "cell_type": "code",
   "execution_count": 10,
   "id": "0c0024f6-5d9b-4e0d-a332-dfb71280d7e3",
   "metadata": {},
   "outputs": [],
   "source": [
    "# Download data\n",
    "# ==============================================================================\n",
    "url = ('https://raw.githubusercontent.com/JoaquinAmatRodrigo/skforecast/master/data/h2o.csv')\n",
    "data = pd.read_csv(url, sep=',', header=0, names=['y', 'datetime'])\n",
    "\n",
    "# Data preprocessing\n",
    "# ==============================================================================\n",
    "data['datetime'] = pd.to_datetime(data['datetime'], format='%Y/%m/%d')\n",
    "data = data.set_index('datetime')\n",
    "data = data.asfreq('MS')\n",
    "data = data['y']\n",
    "data = data.sort_index()\n",
    "\n",
    "# Split data in train snd backtest\n",
    "# ==============================================================================\n",
    "n_backtest = 36*3  # Last 9 years are used for backtest\n",
    "data_train = data[:-n_backtest]\n",
    "data_backtest = data[-n_backtest:]"
   ]
  },
  {
   "cell_type": "markdown",
   "id": "9801a209-b601-4d9b-aa3c-a2e03df98c98",
   "metadata": {},
   "source": [
    "## Backtest"
   ]
  },
  {
   "cell_type": "code",
   "execution_count": 11,
   "id": "dc378ff0-1759-4199-a9e7-5b101b77fdee",
   "metadata": {},
   "outputs": [],
   "source": [
    "import warnings\n",
    "warnings.filterwarnings('ignore')"
   ]
  },
  {
   "cell_type": "code",
   "execution_count": 12,
   "id": "4f83164f-9758-485e-86bb-05bbbc04fccd",
   "metadata": {},
   "outputs": [
    {
     "name": "stdout",
     "output_type": "stream",
     "text": [
      "Number of observations used for training: 96\n",
      "Number of observations used for backtesting: 108\n",
      "    Number of folds: 16\n",
      "    Number of steps per fold: 7\n",
      "    Last fold only includes 3 observations.\n"
     ]
    }
   ],
   "source": [
    "metric, predictions_backtest = backtesting_sarimax(\n",
    "                                    y = data,\n",
    "                                    order = (12, 1, 1),\n",
    "                                    seasonal_order = (0, 0, 0, 0),\n",
    "                                    initial_train_size = len(data_train),\n",
    "                                    steps = 7,\n",
    "                                    metric = 'mean_absolute_error',\n",
    "                                    refit = False,\n",
    "                                    verbose = True,\n",
    "                                    fit_kwargs = {'maxiter': 250, 'disp': 0},\n",
    "                                )\n"
   ]
  },
  {
   "cell_type": "code",
   "execution_count": 13,
   "id": "fd4a82ae-5258-49bb-9f6d-380b3cb67563",
   "metadata": {},
   "outputs": [
    {
     "name": "stdout",
     "output_type": "stream",
     "text": [
      "Error backtest: [0.05544072]\n",
      "|                     |   predicted_mean |   lower y |   upper y |\n",
      "|:--------------------|-----------------:|----------:|----------:|\n",
      "| 1999-07-01 00:00:00 |         0.734616 |  0.650009 |  0.819222 |\n",
      "| 1999-08-01 00:00:00 |         0.751851 |  0.660717 |  0.842986 |\n",
      "| 1999-09-01 00:00:00 |         0.86531  |  0.768134 |  0.962486 |\n",
      "| 1999-10-01 00:00:00 |         0.832383 |  0.730362 |  0.934404 |\n"
     ]
    }
   ],
   "source": [
    "print(f\"Error backtest: {metric}\")\n",
    "print(predictions_backtest.head(4).to_markdown())"
   ]
  },
  {
   "cell_type": "code",
   "execution_count": null,
   "id": "68e94460-f2c6-4d4b-8aec-90d9c785438d",
   "metadata": {},
   "outputs": [],
   "source": []
  }
 ],
 "metadata": {
  "kernelspec": {
   "display_name": "cienciadedatos",
   "language": "python",
   "name": "cienciadedatos"
  },
  "language_info": {
   "codemirror_mode": {
    "name": "ipython",
    "version": 3
   },
   "file_extension": ".py",
   "mimetype": "text/x-python",
   "name": "python",
   "nbconvert_exporter": "python",
   "pygments_lexer": "ipython3",
   "version": "3.7.9"
  }
 },
 "nbformat": 4,
 "nbformat_minor": 5
}
