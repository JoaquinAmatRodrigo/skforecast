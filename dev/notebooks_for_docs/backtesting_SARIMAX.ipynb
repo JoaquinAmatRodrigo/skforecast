{
 "cells": [
  {
   "cell_type": "markdown",
   "id": "bbb9de38-5318-4e53-a2aa-409c7b991fe8",
   "metadata": {},
   "source": [
    "# Backtesting SARIMAX and ARIMA models"
   ]
  },
  {
   "cell_type": "markdown",
   "id": "d1ae70e1-1354-4aa6-9dc4-73d3c7b016c5",
   "metadata": {},
   "source": [
    "## Libraries"
   ]
  },
  {
   "cell_type": "code",
   "execution_count": 1,
   "id": "40f03a18-2b0a-4b02-9bd3-776aace7c519",
   "metadata": {
    "ExecuteTime": {
     "end_time": "2022-03-06T18:53:23.250336Z",
     "start_time": "2022-03-06T18:53:23.231910Z"
    }
   },
   "outputs": [],
   "source": [
    "%load_ext autoreload\n",
    "%autoreload 2\n",
    "import sys\n",
    "sys.path.insert(1, '/home/javi/Documents/GitHub/skforecast') # Ubuntu\n",
    "sys.path.insert(1, '/home/ximo/Documents/GitHub/skforecast')\n",
    "%config Completer.use_jedi = False"
   ]
  },
  {
   "cell_type": "markdown",
   "id": "bf0484f8-3212-4419-a7a7-2eae37d63369",
   "metadata": {},
   "source": [
    "SARIMAX (Seasonal Auto-Regressive Integrated Moving Average with eXogenous factors) is a generalization of the ARIMA model that allows incorporating seasonality and exogenous variables. This model have a total of 6 hyperparameters that must specified when training the model:\n",
    "\n",
    "+ p: Trend autoregression order.\n",
    "\n",
    "+ d: Trend difference order.\n",
    "\n",
    "+ q: Trend moving average order.\n",
    "\n",
    "+ P: Seasonal autoregressive order.\n",
    "\n",
    "+ D: Seasonal difference order.\n",
    "\n",
    "+ Q: Seasonal moving average order.\n",
    "\n",
    "+ m: The number of time steps for a single seasonal period.\n",
    "\n",
    "One way to find the best values is by using grid search. The `grid_search_sarimax` function of the *skforecast.model_selection_statsmodels* module is a wrapper that automates this process using the [SARIMAX](https://www.statsmodels.org/stable/generated/statsmodels.tsa.statespace.sarimax.SARIMAX.html#statsmodels.tsa.statespace.sarimax.SARIMAX)   implementation available in the statsmodels library."
   ]
  },
  {
   "cell_type": "code",
   "execution_count": 2,
   "id": "d378f5ff-8092-49bb-80b7-8a3996d19fb1",
   "metadata": {
    "ExecuteTime": {
     "end_time": "2022-03-06T18:53:26.295308Z",
     "start_time": "2022-03-06T18:53:25.182680Z"
    }
   },
   "outputs": [],
   "source": [
    "# Libraries\n",
    "# ==============================================================================\n",
    "import numpy as np\n",
    "import pandas as pd\n",
    "import matplotlib.pyplot as plt\n",
    "from skforecast.model_selection_statsmodels import backtesting_sarimax"
   ]
  },
  {
   "cell_type": "markdown",
   "id": "97f03864-ee4a-459d-9eec-03d14feb931e",
   "metadata": {},
   "source": [
    "## Data"
   ]
  },
  {
   "cell_type": "code",
   "execution_count": 3,
   "id": "0c0024f6-5d9b-4e0d-a332-dfb71280d7e3",
   "metadata": {
    "ExecuteTime": {
     "end_time": "2022-03-06T18:53:27.754305Z",
     "start_time": "2022-03-06T18:53:27.288958Z"
    }
   },
   "outputs": [],
   "source": [
    "# Download data\n",
    "# ==============================================================================\n",
    "url = ('https://raw.githubusercontent.com/JoaquinAmatRodrigo/skforecast/master/data/h2o.csv')\n",
    "data = pd.read_csv(url, sep=',', header=0, names=['y', 'datetime'])\n",
    "\n",
    "# Data preprocessing\n",
    "# ==============================================================================\n",
    "data['datetime'] = pd.to_datetime(data['datetime'], format='%Y/%m/%d')\n",
    "data = data.set_index('datetime')\n",
    "data = data.asfreq('MS')\n",
    "data = data['y']\n",
    "data = data.sort_index()\n",
    "\n",
    "# Split data in train snd backtest\n",
    "# ==============================================================================\n",
    "n_backtest = 36*3  # Last 9 years are used for backtest\n",
    "data_train = data[:-n_backtest]\n",
    "data_backtest = data[-n_backtest:]"
   ]
  },
  {
   "cell_type": "markdown",
   "id": "9801a209-b601-4d9b-aa3c-a2e03df98c98",
   "metadata": {},
   "source": [
    "## Backtest"
   ]
  },
  {
   "cell_type": "code",
   "execution_count": 4,
   "id": "dc378ff0-1759-4199-a9e7-5b101b77fdee",
   "metadata": {
    "ExecuteTime": {
     "end_time": "2022-03-06T18:53:28.573678Z",
     "start_time": "2022-03-06T18:53:28.554674Z"
    }
   },
   "outputs": [],
   "source": [
    "import warnings\n",
    "warnings.filterwarnings('ignore')"
   ]
  },
  {
   "cell_type": "code",
   "execution_count": 5,
   "id": "4f83164f-9758-485e-86bb-05bbbc04fccd",
   "metadata": {
    "ExecuteTime": {
     "end_time": "2022-03-06T18:53:34.987954Z",
     "start_time": "2022-03-06T18:53:30.218865Z"
    }
   },
   "outputs": [
    {
     "name": "stdout",
     "output_type": "stream",
     "text": [
      "Number of observations used for training: 96\n",
      "Number of observations used for backtesting: 108\n",
      "    Number of folds: 16\n",
      "    Number of steps per fold: 7\n",
      "    Last fold only includes 3 observations.\n"
     ]
    }
   ],
   "source": [
    "metric, predictions_backtest = backtesting_sarimax(\n",
    "                                    y = data,\n",
    "                                    order = (12, 1, 1),\n",
    "                                    seasonal_order = (0, 0, 0, 0),\n",
    "                                    initial_train_size = len(data_train),\n",
    "                                    fixed_train_size = False,\n",
    "                                    steps = 7,\n",
    "                                    metric = 'mean_absolute_error',\n",
    "                                    refit = False,\n",
    "                                    verbose = True,\n",
    "                                    fit_kwargs = {'maxiter': 250, 'disp': 0},\n",
    "                                )\n"
   ]
  },
  {
   "cell_type": "code",
   "execution_count": 6,
   "id": "fd4a82ae-5258-49bb-9f6d-380b3cb67563",
   "metadata": {
    "ExecuteTime": {
     "end_time": "2022-03-06T18:53:35.080031Z",
     "start_time": "2022-03-06T18:53:35.056284Z"
    }
   },
   "outputs": [
    {
     "name": "stdout",
     "output_type": "stream",
     "text": [
      "Error backtest: 0.055440709178810936\n",
      "|                     |   predicted_mean |   lower y |   upper y |\n",
      "|:--------------------|-----------------:|----------:|----------:|\n",
      "| 1999-07-01 00:00:00 |         0.734693 |  0.650096 |  0.81929  |\n",
      "| 1999-08-01 00:00:00 |         0.751835 |  0.660703 |  0.842967 |\n",
      "| 1999-09-01 00:00:00 |         0.865333 |  0.768144 |  0.962522 |\n",
      "| 1999-10-01 00:00:00 |         0.832345 |  0.730306 |  0.934385 |\n"
     ]
    }
   ],
   "source": [
    "print(f\"Error backtest: {metric}\")\n",
    "print(predictions_backtest.head(4).to_markdown())"
   ]
  },
  {
   "cell_type": "code",
   "execution_count": null,
   "id": "68e94460-f2c6-4d4b-8aec-90d9c785438d",
   "metadata": {},
   "outputs": [],
   "source": []
  }
 ],
 "metadata": {
  "kernelspec": {
   "display_name": "skforecast",
   "language": "python",
   "name": "skforecast"
  },
  "language_info": {
   "codemirror_mode": {
    "name": "ipython",
    "version": 3
   },
   "file_extension": ".py",
   "mimetype": "text/x-python",
   "name": "python",
   "nbconvert_exporter": "python",
   "pygments_lexer": "ipython3",
   "version": "3.8.0"
  },
  "toc": {
   "base_numbering": 1,
   "nav_menu": {},
   "number_sections": true,
   "sideBar": true,
   "skip_h1_title": false,
   "title_cell": "Table of Contents",
   "title_sidebar": "Contents",
   "toc_cell": false,
   "toc_position": {},
   "toc_section_display": true,
   "toc_window_display": false
  },
  "varInspector": {
   "cols": {
    "lenName": 16,
    "lenType": 16,
    "lenVar": 40
   },
   "kernels_config": {
    "python": {
     "delete_cmd_postfix": "",
     "delete_cmd_prefix": "del ",
     "library": "var_list.py",
     "varRefreshCmd": "print(var_dic_list())"
    },
    "r": {
     "delete_cmd_postfix": ") ",
     "delete_cmd_prefix": "rm(",
     "library": "var_list.r",
     "varRefreshCmd": "cat(var_dic_list()) "
    }
   },
   "types_to_exclude": [
    "module",
    "function",
    "builtin_function_or_method",
    "instance",
    "_Feature"
   ],
   "window_display": false
  }
 },
 "nbformat": 4,
 "nbformat_minor": 5
}
