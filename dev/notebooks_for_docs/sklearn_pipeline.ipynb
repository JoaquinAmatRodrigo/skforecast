{
 "cells": [
  {
   "cell_type": "markdown",
   "metadata": {},
   "source": [
    " "
   ]
  },
  {
   "cell_type": "code",
   "execution_count": 1,
   "metadata": {},
   "outputs": [],
   "source": [
    "%load_ext autoreload\n",
    "%autoreload 2\n",
    "import sys\n",
    "#sys.path.insert(1, '/home/ximo/Documents/GitHub/skforecast')\n",
    "%config Completer.use_jedi = False"
   ]
  },
  {
   "cell_type": "code",
   "execution_count": 2,
   "metadata": {},
   "outputs": [],
   "source": [
    "# Libraries\n",
    "# ==============================================================================\n",
    "import numpy as np\n",
    "import pandas as pd\n",
    "import matplotlib.pyplot as plt\n",
    "from sklearn.linear_model import Ridge\n",
    "from sklearn.preprocessing import StandardScaler\n",
    "from sklearn.pipeline import make_pipeline\n",
    "from skforecast.ForecasterAutoreg import ForecasterAutoreg\n",
    "from skforecast.model_selection import grid_search_forecaster"
   ]
  },
  {
   "cell_type": "markdown",
   "metadata": {},
   "source": [
    "Since version 0.4.0, skforecast allows using sklearn pipelines as regressors. This is useful since, many machine learning models, need specific data preprocessing transformations. For example, linear models with Ridge or Lasso regularization benefits from features been scaled.\n",
    "\n",
    "> **⚠ WARNING:**  \n",
    "> Version 0.4 of the skforecast library does not allow including ColumnTransformer in the pipeline used as regressor, so if the preprocessing transformations only apply to some specific columns, they have to be applied on the data set before training the model. A more detailed example can be found [here](https://www.cienciadedatos.net/documentos/py39-forecasting-time-series-with-skforecast-xgboost-lightgbm-catboost.html#Exogenous-variables)."
   ]
  },
  {
   "cell_type": "code",
   "execution_count": 3,
   "metadata": {},
   "outputs": [],
   "source": [
    "# Download data\n",
    "# ==============================================================================\n",
    "url = ('https://raw.githubusercontent.com/JoaquinAmatRodrigo/skforecast/master/data/h2o_exog.csv')\n",
    "data = pd.read_csv(url, sep=',', header=0, names=['date', 'y', 'exog_1', 'exog_2'])\n",
    "\n",
    "# Data preprocessing\n",
    "# ==============================================================================\n",
    "data['date'] = pd.to_datetime(data['date'], format='%Y/%m/%d')\n",
    "data = data.set_index('date')\n",
    "data = data.asfreq('MS')"
   ]
  },
  {
   "cell_type": "code",
   "execution_count": 4,
   "metadata": {},
   "outputs": [
    {
     "data": {
      "text/plain": [
       "Pipeline(steps=[('standardscaler', StandardScaler()), ('ridge', Ridge())])"
      ]
     },
     "execution_count": 4,
     "metadata": {},
     "output_type": "execute_result"
    }
   ],
   "source": [
    "pipe = make_pipeline(StandardScaler(), Ridge())\n",
    "pipe"
   ]
  },
  {
   "cell_type": "code",
   "execution_count": 5,
   "metadata": {},
   "outputs": [
    {
     "data": {
      "text/plain": [
       "================= \n",
       "ForecasterAutoreg \n",
       "================= \n",
       "Regressor: Pipeline(steps=[('standardscaler', StandardScaler()), ('ridge', Ridge())]) \n",
       "Lags: [ 1  2  3  4  5  6  7  8  9 10] \n",
       "Window size: 10 \n",
       "Included exogenous: True \n",
       "Type of exogenous variable: <class 'pandas.core.frame.DataFrame'> \n",
       "Exogenous variables names: ['exog_1', 'exog_2'] \n",
       "Training range: [Timestamp('1992-04-01 00:00:00'), Timestamp('2008-06-01 00:00:00')] \n",
       "Training index type: DatetimeIndex \n",
       "Training index frequency: MS \n",
       "Regressor parameters: {'standardscaler__copy': True, 'standardscaler__with_mean': True, 'standardscaler__with_std': True, 'ridge__alpha': 1.0, 'ridge__copy_X': True, 'ridge__fit_intercept': True, 'ridge__max_iter': None, 'ridge__normalize': 'deprecated', 'ridge__positive': False, 'ridge__random_state': None, 'ridge__solver': 'auto', 'ridge__tol': 0.001} \n",
       "Creation date: 2022-01-02 16:47:46 \n",
       "Last fit date: 2022-01-02 16:47:46 \n",
       "Skforecast version: 0.4.2 "
      ]
     },
     "execution_count": 5,
     "metadata": {},
     "output_type": "execute_result"
    }
   ],
   "source": [
    "# Create and fit forecaster\n",
    "# ==============================================================================\n",
    "forecaster = ForecasterAutoreg(\n",
    "                    regressor = pipe,\n",
    "                    lags = 10\n",
    "                )\n",
    "\n",
    "forecaster.fit(y=data['y'], exog=data[['exog_1', 'exog_2']])\n",
    "forecaster"
   ]
  },
  {
   "cell_type": "markdown",
   "metadata": {},
   "source": [
    "When performing grid search over a sklearn pipeline, the name of the parameters is preceded by the name of the model."
   ]
  },
  {
   "cell_type": "code",
   "execution_count": 6,
   "metadata": {},
   "outputs": [
    {
     "name": "stdout",
     "output_type": "stream",
     "text": [
      "Number of models compared: 30\n"
     ]
    },
    {
     "name": "stderr",
     "output_type": "stream",
     "text": [
      "loop lags_grid:   0%|                                               | 0/3 [00:00<?, ?it/s]\n",
      "loop param_grid:   0%|                                             | 0/10 [00:00<?, ?it/s]\u001b[A\n",
      "loop param_grid:  10%|███▋                                 | 1/10 [00:00<00:01,  7.71it/s]\u001b[A\n",
      "loop param_grid:  30%|███████████                          | 3/10 [00:00<00:00, 10.74it/s]\u001b[A\n",
      "loop param_grid:  50%|██████████████████▌                  | 5/10 [00:00<00:00, 12.45it/s]\u001b[A\n",
      "loop param_grid:  70%|█████████████████████████▉           | 7/10 [00:00<00:00, 13.30it/s]\u001b[A\n",
      "loop param_grid:  90%|█████████████████████████████████▎   | 9/10 [00:00<00:00, 12.91it/s]\u001b[A\n",
      "loop lags_grid:  33%|█████████████                          | 1/3 [00:00<00:01,  1.17it/s]\u001b[A\n",
      "loop param_grid:   0%|                                             | 0/10 [00:00<?, ?it/s]\u001b[A\n",
      "loop param_grid:  20%|███████▍                             | 2/10 [00:00<00:00, 11.57it/s]\u001b[A\n",
      "loop param_grid:  40%|██████████████▊                      | 4/10 [00:00<00:00, 10.51it/s]\u001b[A\n",
      "loop param_grid:  60%|██████████████████████▏              | 6/10 [00:00<00:00, 11.47it/s]\u001b[A\n",
      "loop param_grid:  80%|█████████████████████████████▌       | 8/10 [00:00<00:00, 12.24it/s]\u001b[A\n",
      "loop param_grid: 100%|████████████████████████████████████| 10/10 [00:00<00:00, 11.99it/s]\u001b[A\n",
      "loop lags_grid:  67%|██████████████████████████             | 2/3 [00:01<00:00,  1.17it/s]\u001b[A\n",
      "loop param_grid:   0%|                                             | 0/10 [00:00<?, ?it/s]\u001b[A\n",
      "loop param_grid:  20%|███████▍                             | 2/10 [00:00<00:00, 13.18it/s]\u001b[A\n",
      "loop param_grid:  40%|██████████████▊                      | 4/10 [00:00<00:00, 11.01it/s]\u001b[A\n",
      "loop param_grid:  60%|██████████████████████▏              | 6/10 [00:00<00:00, 11.97it/s]\u001b[A\n",
      "loop param_grid:  80%|█████████████████████████████▌       | 8/10 [00:00<00:00, 12.65it/s]\u001b[A\n",
      "loop param_grid: 100%|████████████████████████████████████| 10/10 [00:00<00:00, 11.66it/s]\u001b[A\n",
      "loop lags_grid: 100%|███████████████████████████████████████| 3/3 [00:02<00:00,  1.17it/s]\u001b[A\n"
     ]
    },
    {
     "name": "stdout",
     "output_type": "stream",
     "text": [
      "Refitting `forecaster` using the best found lags and parameters and the whole data set: \n",
      "  Lags: [1 2 3 4 5] \n",
      "  Parameters: {'ridge__alpha': 0.001}\n",
      "  Backtesting metric: 6.845311709573567e-05\n",
      "\n"
     ]
    }
   ],
   "source": [
    "# Hyperparameter Grid search\n",
    "# ==============================================================================\n",
    "pipe = make_pipeline(StandardScaler(), Ridge())\n",
    "forecaster = ForecasterAutoreg(\n",
    "                    regressor = pipe,\n",
    "                    lags = 10  # This value will be replaced in the grid search\n",
    "                )\n",
    "\n",
    "# Regressor's hyperparameters\n",
    "param_grid = {'ridge__alpha': np.logspace(-3, 5, 10)}\n",
    "\n",
    "# Lags used as predictors\n",
    "lags_grid = [5, 24, [1, 2, 3, 23, 24]]\n",
    "\n",
    "results_grid = grid_search_forecaster(\n",
    "                        forecaster  = forecaster,\n",
    "                        y           = data['y'],\n",
    "                        exog        = data[['exog_1', 'exog_2']],\n",
    "                        param_grid  = param_grid,\n",
    "                        lags_grid   = lags_grid,\n",
    "                        steps       = 5,\n",
    "                        metric      = 'mean_absolute_error',\n",
    "                        refit       = False,\n",
    "                        initial_train_size = len(data.loc[:'2000-04-01']),\n",
    "                        return_best = True,\n",
    "                        verbose     = False\n",
    "                  )"
   ]
  },
  {
   "cell_type": "code",
   "execution_count": 7,
   "metadata": {},
   "outputs": [
    {
     "name": "stdout",
     "output_type": "stream",
     "text": [
      "|    | lags                                                                      | params                                 |      metric |    ridge__alpha |\n",
      "|----|---------------------------------------------------------------------------|----------------------------------------|-------------|-----------------|\n",
      "|  0 | [1 2 3 4 5]                                                               | {'ridge__alpha': 0.001}                | 6.84531e-05 |      0.001      |\n",
      "| 10 | [ 1  2  3  4  5  6  7  8  9 10 11 12 13 14 15 16 17 18 19 20 21 22 23 24] | {'ridge__alpha': 0.001}                | 0.000187797 |      0.001      |\n",
      "|  1 | [1 2 3 4 5]                                                               | {'ridge__alpha': 0.007742636826811269} | 0.000526168 |      0.00774264 |\n",
      "| 11 | [ 1  2  3  4  5  6  7  8  9 10 11 12 13 14 15 16 17 18 19 20 21 22 23 24] | {'ridge__alpha': 0.007742636826811269} | 0.00141293  |      0.00774264 |\n",
      "|  2 | [1 2 3 4 5]                                                               | {'ridge__alpha': 0.05994842503189409}  | 0.00385988  |      0.0599484  |\n",
      "| 12 | [ 1  2  3  4  5  6  7  8  9 10 11 12 13 14 15 16 17 18 19 20 21 22 23 24] | {'ridge__alpha': 0.05994842503189409}  | 0.00896885  |      0.0599484  |\n",
      "|  3 | [1 2 3 4 5]                                                               | {'ridge__alpha': 0.46415888336127775}  | 0.0217507   |      0.464159   |\n",
      "| 13 | [ 1  2  3  4  5  6  7  8  9 10 11 12 13 14 15 16 17 18 19 20 21 22 23 24] | {'ridge__alpha': 0.46415888336127775}  | 0.0295054   |      0.464159   |\n",
      "| 14 | [ 1  2  3  4  5  6  7  8  9 10 11 12 13 14 15 16 17 18 19 20 21 22 23 24] | {'ridge__alpha': 3.593813663804626}    | 0.046323    |      3.59381    |\n",
      "| 23 | [ 1  2  3 23 24]                                                          | {'ridge__alpha': 0.46415888336127775}  | 0.0606231   |      0.464159   |\n",
      "| 22 | [ 1  2  3 23 24]                                                          | {'ridge__alpha': 0.05994842503189409}  | 0.0615665   |      0.0599484  |\n",
      "| 21 | [ 1  2  3 23 24]                                                          | {'ridge__alpha': 0.007742636826811269} | 0.0617473   |      0.00774264 |\n",
      "| 20 | [ 1  2  3 23 24]                                                          | {'ridge__alpha': 0.001}                | 0.0617715   |      0.001      |\n",
      "| 24 | [ 1  2  3 23 24]                                                          | {'ridge__alpha': 3.593813663804626}    | 0.0635121   |      3.59381    |\n",
      "| 15 | [ 1  2  3  4  5  6  7  8  9 10 11 12 13 14 15 16 17 18 19 20 21 22 23 24] | {'ridge__alpha': 27.825594022071257}   | 0.0645505   |     27.8256     |\n",
      "|  4 | [1 2 3 4 5]                                                               | {'ridge__alpha': 3.593813663804626}    | 0.0692201   |      3.59381    |\n",
      "| 25 | [ 1  2  3 23 24]                                                          | {'ridge__alpha': 27.825594022071257}   | 0.077934    |     27.8256     |\n",
      "| 16 | [ 1  2  3  4  5  6  7  8  9 10 11 12 13 14 15 16 17 18 19 20 21 22 23 24] | {'ridge__alpha': 215.44346900318823}   | 0.130016    |    215.443      |\n",
      "|  5 | [1 2 3 4 5]                                                               | {'ridge__alpha': 27.825594022071257}   | 0.143189    |     27.8256     |\n",
      "| 26 | [ 1  2  3 23 24]                                                          | {'ridge__alpha': 215.44346900318823}   | 0.146446    |    215.443      |\n",
      "| 17 | [ 1  2  3  4  5  6  7  8  9 10 11 12 13 14 15 16 17 18 19 20 21 22 23 24] | {'ridge__alpha': 1668.1005372000557}   | 0.204469    |   1668.1        |\n",
      "|  6 | [1 2 3 4 5]                                                               | {'ridge__alpha': 215.44346900318823}   | 0.205496    |    215.443      |\n",
      "| 27 | [ 1  2  3 23 24]                                                          | {'ridge__alpha': 1668.1005372000557}   | 0.212896    |   1668.1        |\n",
      "| 18 | [ 1  2  3  4  5  6  7  8  9 10 11 12 13 14 15 16 17 18 19 20 21 22 23 24] | {'ridge__alpha': 12915.496650148827}   | 0.227536    |  12915.5        |\n",
      "| 28 | [ 1  2  3 23 24]                                                          | {'ridge__alpha': 12915.496650148827}   | 0.228974    |  12915.5        |\n",
      "| 19 | [ 1  2  3  4  5  6  7  8  9 10 11 12 13 14 15 16 17 18 19 20 21 22 23 24] | {'ridge__alpha': 100000.0}             | 0.231157    | 100000          |\n",
      "| 29 | [ 1  2  3 23 24]                                                          | {'ridge__alpha': 100000.0}             | 0.231356    | 100000          |\n",
      "|  7 | [1 2 3 4 5]                                                               | {'ridge__alpha': 1668.1005372000557}   | 0.236227    |   1668.1        |\n",
      "|  8 | [1 2 3 4 5]                                                               | {'ridge__alpha': 12915.496650148827}   | 0.244788    |  12915.5        |\n",
      "|  9 | [1 2 3 4 5]                                                               | {'ridge__alpha': 100000.0}             | 0.246091    | 100000          |\n"
     ]
    }
   ],
   "source": [
    "print(results_grid.to_markdown(tablefmt=\"github\"))"
   ]
  },
  {
   "cell_type": "code",
   "execution_count": null,
   "metadata": {},
   "outputs": [],
   "source": []
  }
 ],
 "metadata": {
  "kernelspec": {
   "display_name": "skforecast_dev",
   "language": "python",
   "name": "skforecast_dev"
  },
  "language_info": {
   "codemirror_mode": {
    "name": "ipython",
    "version": 3
   },
   "file_extension": ".py",
   "mimetype": "text/x-python",
   "name": "python",
   "nbconvert_exporter": "python",
   "pygments_lexer": "ipython3",
   "version": "3.7.10"
  },
  "toc": {
   "base_numbering": 1,
   "nav_menu": {},
   "number_sections": false,
   "sideBar": true,
   "skip_h1_title": true,
   "title_cell": "Tabla de contenidos",
   "title_sidebar": "Tabla de contenidos",
   "toc_cell": false,
   "toc_position": {
    "height": "calc(100% - 180px)",
    "left": "10px",
    "top": "150px",
    "width": "165px"
   },
   "toc_section_display": true,
   "toc_window_display": false
  },
  "varInspector": {
   "cols": {
    "lenName": 16,
    "lenType": 16,
    "lenVar": 40
   },
   "kernels_config": {
    "python": {
     "delete_cmd_postfix": "",
     "delete_cmd_prefix": "del ",
     "library": "var_list.py",
     "varRefreshCmd": "print(var_dic_list())"
    },
    "r": {
     "delete_cmd_postfix": ") ",
     "delete_cmd_prefix": "rm(",
     "library": "var_list.r",
     "varRefreshCmd": "cat(var_dic_list()) "
    }
   },
   "position": {
    "height": "144.391px",
    "left": "1478px",
    "right": "20px",
    "top": "126px",
    "width": "350px"
   },
   "types_to_exclude": [
    "module",
    "function",
    "builtin_function_or_method",
    "instance",
    "_Feature"
   ],
   "window_display": false
  }
 },
 "nbformat": 4,
 "nbformat_minor": 4
}
