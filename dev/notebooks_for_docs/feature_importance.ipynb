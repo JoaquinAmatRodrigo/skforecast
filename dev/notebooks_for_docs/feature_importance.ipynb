{
 "cells": [
  {
   "cell_type": "markdown",
   "metadata": {},
   "source": [
    " "
   ]
  },
  {
   "cell_type": "code",
   "execution_count": 2,
   "metadata": {},
   "outputs": [
    {
     "name": "stdout",
     "output_type": "stream",
     "text": [
      "The autoreload extension is already loaded. To reload it, use:\n",
      "  %reload_ext autoreload\n"
     ]
    }
   ],
   "source": [
    "%load_ext autoreload\n",
    "%autoreload 2\n",
    "import sys\n",
    "from pathlib import Path\n",
    "sys.path.insert(1, str(Path.cwd().parent.parent))\n",
    "%config Completer.use_jedi = False"
   ]
  },
  {
   "cell_type": "code",
   "execution_count": 4,
   "metadata": {},
   "outputs": [],
   "source": [
    "# Libraries\n",
    "# ==============================================================================\n",
    "import numpy as np\n",
    "import pandas as pd\n",
    "import matplotlib.pyplot as plt\n",
    "from sklearn.ensemble import RandomForestRegressor\n",
    "from sklearn.linear_model import Ridge\n",
    "from skforecast.ForecasterAutoreg import ForecasterAutoreg\n",
    "from skforecast.ForecasterAutoregMultiOutput import ForecasterAutoregMultiOutput"
   ]
  },
  {
   "cell_type": "markdown",
   "metadata": {},
   "source": [
    "The importance of predictors included in a forecaster can be obtained using the method `get_feature_importance`. This method access the attributes `coef_` and `feature_importances_` of the internal regressor.\n",
    "\n",
    "> **⚠ WARNING:**  \n",
    "> This methods only return values if the regressor used inside the forecaster has the attribute `coef_` or `feature_importances_`.\n"
   ]
  },
  {
   "cell_type": "code",
   "execution_count": 5,
   "metadata": {},
   "outputs": [],
   "source": [
    "# Download data\n",
    "# ==============================================================================\n",
    "url = ('https://raw.githubusercontent.com/JoaquinAmatRodrigo/skforecast/master/data/h2o_exog.csv')\n",
    "data = pd.read_csv(url, sep=',', header=0, names=['date', 'y', 'exog_1', 'exog_2'])\n",
    "\n",
    "# Data preprocessing\n",
    "# ==============================================================================\n",
    "data['date'] = pd.to_datetime(data['date'], format='%Y/%m/%d')\n",
    "data = data.set_index('date')\n",
    "data = data.asfreq('MS')"
   ]
  },
  {
   "cell_type": "code",
   "execution_count": 6,
   "metadata": {},
   "outputs": [
    {
     "name": "stdout",
     "output_type": "stream",
     "text": [
      "|    | feature   |   importance |\n",
      "|----|-----------|--------------|\n",
      "|  0 | lag_1     |    0.513266  |\n",
      "|  1 | lag_2     |    0.105908  |\n",
      "|  2 | lag_3     |    0.0288539 |\n",
      "|  3 | lag_4     |    0.0723064 |\n",
      "|  4 | lag_5     |    0.0672669 |\n",
      "|  5 | exog_1    |    0.0397312 |\n",
      "|  6 | exog_2    |    0.172668  |\n"
     ]
    }
   ],
   "source": [
    "# Create and fit forecaster\n",
    "# ==============================================================================\n",
    "forecaster = ForecasterAutoreg(\n",
    "                regressor = RandomForestRegressor(),\n",
    "                lags = 5\n",
    "             )\n",
    "\n",
    "forecaster.fit(y=data['y'], exog=data[['exog_1', 'exog_2']])\n",
    "\n",
    "# Predictors importance\n",
    "# ==============================================================================\n",
    "print(forecaster.get_feature_importance().to_markdown(tablefmt=\"github\"))"
   ]
  },
  {
   "cell_type": "code",
   "execution_count": 7,
   "metadata": {},
   "outputs": [
    {
     "name": "stdout",
     "output_type": "stream",
     "text": [
      "|    | feature   |   importance |\n",
      "|----|-----------|--------------|\n",
      "|  0 | lag_1     |    0.327688  |\n",
      "|  1 | lag_2     |   -0.0735932 |\n",
      "|  2 | lag_3     |   -0.152202  |\n",
      "|  3 | lag_4     |   -0.217106  |\n",
      "|  4 | lag_5     |   -0.1458    |\n",
      "|  5 | exog_1    |    0.379798  |\n",
      "|  6 | exog_2    |    0.668162  |\n"
     ]
    }
   ],
   "source": [
    "# Create and fit forecaster\n",
    "# ==============================================================================\n",
    "forecaster = ForecasterAutoreg(\n",
    "                    regressor = Ridge(),\n",
    "                    lags = 5\n",
    "                )\n",
    "\n",
    "forecaster.fit(y=data['y'], exog=data[['exog_1', 'exog_2']])\n",
    "\n",
    "\n",
    "print(forecaster.get_feature_importance().to_markdown(tablefmt=\"github\"))"
   ]
  },
  {
   "cell_type": "markdown",
   "metadata": {},
   "source": [
    "When using a `ForecasterAutoregMultiOutput`, since a different model is fit for each step, it is needed to indicate from which model extract the information."
   ]
  },
  {
   "cell_type": "code",
   "execution_count": 14,
   "metadata": {},
   "outputs": [
    {
     "name": "stdout",
     "output_type": "stream",
     "text": [
      "|    | feature   |   importance |\n",
      "|----|-----------|--------------|\n",
      "|  0 | lag_1     |    0.529107  |\n",
      "|  1 | lag_2     |    0.109431  |\n",
      "|  2 | lag_3     |    0.0197598 |\n",
      "|  3 | lag_4     |    0.0813373 |\n",
      "|  4 | lag_5     |    0.0480799 |\n",
      "|  5 | exog_1    |    0.0371122 |\n",
      "|  6 | exog_2    |    0.175173  |\n"
     ]
    }
   ],
   "source": [
    "# Create and fit forecaster\n",
    "# ==============================================================================\n",
    "forecaster = ForecasterAutoregMultiOutput(\n",
    "                regressor = RandomForestRegressor(),\n",
    "                steps = 10,\n",
    "                lags = 5\n",
    "             )\n",
    "\n",
    "forecaster.fit(y=data['y'], exog=data[['exog_1', 'exog_2']])\n",
    "\n",
    "# Predictors importance\n",
    "# ==============================================================================\n",
    "print(forecaster.get_feature_importance(step=1).to_markdown(tablefmt=\"github\"))"
   ]
  },
  {
   "cell_type": "code",
   "execution_count": null,
   "metadata": {},
   "outputs": [],
   "source": []
  }
 ],
 "metadata": {
  "interpreter": {
   "hash": "c12913696a895390034120989688913c364ffd1b20a4e74b4084d4da4733ed9a"
  },
  "kernelspec": {
   "display_name": "skforecast_dev",
   "language": "python",
   "name": "python3"
  },
  "language_info": {
   "codemirror_mode": {
    "name": "ipython",
    "version": 3
   },
   "file_extension": ".py",
   "mimetype": "text/x-python",
   "name": "python",
   "nbconvert_exporter": "python",
   "pygments_lexer": "ipython3",
   "version": "3.7.9"
  },
  "toc": {
   "base_numbering": 1,
   "nav_menu": {},
   "number_sections": false,
   "sideBar": true,
   "skip_h1_title": true,
   "title_cell": "Tabla de contenidos",
   "title_sidebar": "Tabla de contenidos",
   "toc_cell": false,
   "toc_position": {
    "height": "calc(100% - 180px)",
    "left": "10px",
    "top": "150px",
    "width": "165px"
   },
   "toc_section_display": true,
   "toc_window_display": false
  },
  "varInspector": {
   "cols": {
    "lenName": 16,
    "lenType": 16,
    "lenVar": 40
   },
   "kernels_config": {
    "python": {
     "delete_cmd_postfix": "",
     "delete_cmd_prefix": "del ",
     "library": "var_list.py",
     "varRefreshCmd": "print(var_dic_list())"
    },
    "r": {
     "delete_cmd_postfix": ") ",
     "delete_cmd_prefix": "rm(",
     "library": "var_list.r",
     "varRefreshCmd": "cat(var_dic_list()) "
    }
   },
   "position": {
    "height": "144.391px",
    "left": "1478px",
    "right": "20px",
    "top": "126px",
    "width": "350px"
   },
   "types_to_exclude": [
    "module",
    "function",
    "builtin_function_or_method",
    "instance",
    "_Feature"
   ],
   "window_display": false
  }
 },
 "nbformat": 4,
 "nbformat_minor": 4
}
