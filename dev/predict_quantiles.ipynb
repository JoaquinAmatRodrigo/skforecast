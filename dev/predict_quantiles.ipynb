{
 "cells": [
  {
   "cell_type": "code",
   "execution_count": 1,
   "metadata": {},
   "outputs": [
    {
     "data": {
      "text/plain": [
       "'c:\\\\Users\\\\jaesc2\\\\GitHub\\\\skforecast'"
      ]
     },
     "execution_count": 1,
     "metadata": {},
     "output_type": "execute_result"
    }
   ],
   "source": [
    "%load_ext autoreload\n",
    "%autoreload 2\n",
    "import sys\n",
    "from pathlib import Path\n",
    "sys.path.insert(1, str(Path.cwd().parent))\n",
    "str(Path.cwd().parent)"
   ]
  },
  {
   "cell_type": "code",
   "execution_count": 2,
   "metadata": {},
   "outputs": [],
   "source": [
    "# Data processing\n",
    "# ==============================================================================\n",
    "import numpy as np\n",
    "import pandas as pd\n",
    "\n",
    "# Plots\n",
    "# ==============================================================================\n",
    "import matplotlib.pyplot as plt\n",
    "import matplotlib.ticker as ticker\n",
    "plt.style.use('seaborn-v0_8-darkgrid')\n",
    "\n",
    "# Modelling and Forecasting\n",
    "# ==============================================================================\n",
    "from skforecast.ForecasterAutoreg import ForecasterAutoreg\n",
    "from skforecast.ForecasterAutoregDirect import ForecasterAutoregDirect\n",
    "from skforecast.plot import plot_prediction_distribution\n",
    "from skforecast.model_selection import backtesting_forecaster\n",
    "from skforecast.model_selection import grid_search_forecaster\n",
    "from lightgbm import LGBMRegressor\n",
    "from sklearn.metrics import mean_pinball_loss\n",
    "from skforecast.exceptions import LongTrainingWarning\n",
    "\n",
    "# Configuration\n",
    "# ==============================================================================\n",
    "import warnings\n",
    "warnings.filterwarnings('once')"
   ]
  },
  {
   "cell_type": "code",
   "execution_count": 3,
   "metadata": {},
   "outputs": [
    {
     "data": {
      "text/html": [
       "<div>\n",
       "<style scoped>\n",
       "    .dataframe tbody tr th:only-of-type {\n",
       "        vertical-align: middle;\n",
       "    }\n",
       "\n",
       "    .dataframe tbody tr th {\n",
       "        vertical-align: top;\n",
       "    }\n",
       "\n",
       "    .dataframe thead th {\n",
       "        text-align: right;\n",
       "    }\n",
       "</style>\n",
       "<table border=\"1\" class=\"dataframe\">\n",
       "  <thead>\n",
       "    <tr style=\"text-align: right;\">\n",
       "      <th></th>\n",
       "      <th>Demand</th>\n",
       "      <th>Temperature</th>\n",
       "      <th>Holiday</th>\n",
       "    </tr>\n",
       "    <tr>\n",
       "      <th>Time</th>\n",
       "      <th></th>\n",
       "      <th></th>\n",
       "      <th></th>\n",
       "    </tr>\n",
       "  </thead>\n",
       "  <tbody>\n",
       "    <tr>\n",
       "      <th>2012-01-01</th>\n",
       "      <td>82531.745918</td>\n",
       "      <td>21.047727</td>\n",
       "      <td>True</td>\n",
       "    </tr>\n",
       "    <tr>\n",
       "      <th>2012-01-02</th>\n",
       "      <td>227778.257304</td>\n",
       "      <td>26.578125</td>\n",
       "      <td>True</td>\n",
       "    </tr>\n",
       "    <tr>\n",
       "      <th>2012-01-03</th>\n",
       "      <td>275490.988882</td>\n",
       "      <td>31.751042</td>\n",
       "      <td>True</td>\n",
       "    </tr>\n",
       "  </tbody>\n",
       "</table>\n",
       "</div>"
      ],
      "text/plain": [
       "                   Demand  Temperature  Holiday\n",
       "Time                                           \n",
       "2012-01-01   82531.745918    21.047727     True\n",
       "2012-01-02  227778.257304    26.578125     True\n",
       "2012-01-03  275490.988882    31.751042     True"
      ]
     },
     "execution_count": 3,
     "metadata": {},
     "output_type": "execute_result"
    }
   ],
   "source": [
    "# Data download\n",
    "# ==============================================================================\n",
    "url = (\n",
    "       'https://raw.githubusercontent.com/JoaquinAmatRodrigo/skforecast/master/'\n",
    "       'data/vic_elec.csv'\n",
    ")\n",
    "data = pd.read_csv(url, sep=',')\n",
    "\n",
    "# Data preparation (aggregation at daily level)\n",
    "# ==============================================================================\n",
    "data['Time'] = pd.to_datetime(data['Time'], format='%Y-%m-%dT%H:%M:%SZ')\n",
    "data = data.set_index('Time')\n",
    "data = data.asfreq('30min')\n",
    "data = data.sort_index()\n",
    "data = data.drop(columns='Date')\n",
    "data = data.resample(rule='D', closed='left', label ='right')\\\n",
    "       .agg({'Demand': 'sum', 'Temperature': 'mean', 'Holiday': 'max'})\n",
    "\n",
    "data.head(3)"
   ]
  },
  {
   "cell_type": "code",
   "execution_count": 4,
   "metadata": {},
   "outputs": [
    {
     "name": "stdout",
     "output_type": "stream",
     "text": [
      "Train dates      : 2012-01-01 00:00:00 --- 2013-12-31 00:00:00  (n=731)\n",
      "Validation dates : 2014-01-01 00:00:00 --- 2014-09-30 00:00:00  (n=273)\n",
      "Test dates       : 2014-10-01 00:00:00 --- 2014-12-30 00:00:00  (n=91)\n"
     ]
    }
   ],
   "source": [
    "# Split data into train-validation-test\n",
    "# ==============================================================================\n",
    "data = data.loc['2012-01-01 00:00:00': '2014-12-30 23:00:00']\n",
    "end_train = '2013-12-31 23:59:00'\n",
    "end_validation = '2014-9-30 23:59:00'\n",
    "data_train = data.loc[: end_train, :].copy()\n",
    "data_val   = data.loc[end_train:end_validation, :].copy()\n",
    "data_test  = data.loc[end_validation:, :].copy()\n",
    "\n",
    "print(\n",
    "    f\"Train dates      : {data_train.index.min()} --- {data_train.index.max()}\"\n",
    "    f\"  (n={len(data_train)})\"\n",
    ")\n",
    "print(\n",
    "    f\"Validation dates : {data_val.index.min()} --- {data_val.index.max()}\"\n",
    "    f\"  (n={len(data_val)})\"\n",
    ")\n",
    "print(\n",
    "    f\"Test dates       : {data_test.index.min()} --- {data_test.index.max()}\"\n",
    "    f\"  (n={len(data_test)})\"\n",
    ")"
   ]
  },
  {
   "cell_type": "code",
   "execution_count": 5,
   "metadata": {},
   "outputs": [
    {
     "data": {
      "text/plain": [
       "================= \n",
       "ForecasterAutoreg \n",
       "================= \n",
       "Regressor: LGBMRegressor(learning_rate=0.01, max_depth=10, n_estimators=500,\n",
       "              random_state=123) \n",
       "Lags: [1 2 3 4 5 6 7] \n",
       "Transformer for y: None \n",
       "Transformer for exog: None \n",
       "Window size: 7 \n",
       "Weight function included: False \n",
       "Differentiation order: None \n",
       "Exogenous included: False \n",
       "Type of exogenous variable: None \n",
       "Exogenous variables names: None \n",
       "Training range: [Timestamp('2014-01-01 00:00:00'), Timestamp('2014-09-30 00:00:00')] \n",
       "Training index type: DatetimeIndex \n",
       "Training index frequency: D \n",
       "Regressor parameters: {'boosting_type': 'gbdt', 'class_weight': None, 'colsample_bytree': 1.0, 'importance_type': 'split', 'learning_rate': 0.01, 'max_depth': 10, 'min_child_samples': 20, 'min_child_weight': 0.001, 'min_split_gain': 0.0, 'n_estimators': 500, 'n_jobs': -1, 'num_leaves': 31, 'objective': None, 'random_state': 123, 'reg_alpha': 0.0, 'reg_lambda': 0.0, 'silent': 'warn', 'subsample': 1.0, 'subsample_for_bin': 200000, 'subsample_freq': 0} \n",
       "fit_kwargs: {} \n",
       "Creation date: 2023-10-23 17:47:20 \n",
       "Last fit date: 2023-10-23 17:47:20 \n",
       "Skforecast version: 0.10.1 \n",
       "Python version: 3.10.11 \n",
       "Forecaster id: None "
      ]
     },
     "execution_count": 5,
     "metadata": {},
     "output_type": "execute_result"
    }
   ],
   "source": [
    "# Create and train a ForecasterAutoreg\n",
    "# ==============================================================================\n",
    "forecaster = ForecasterAutoreg(\n",
    "                 regressor = LGBMRegressor(\n",
    "                                 learning_rate = 0.01,\n",
    "                                 max_depth     = 10,\n",
    "                                 n_estimators  = 500,\n",
    "                                 random_state  = 123\n",
    "                             ),\n",
    "                 lags      = 7\n",
    "             )\n",
    "\n",
    "forecaster.fit(y=data.loc[end_train:end_validation, 'Demand'])\n",
    "forecaster"
   ]
  },
  {
   "cell_type": "code",
   "execution_count": 6,
   "metadata": {},
   "outputs": [
    {
     "data": {
      "text/html": [
       "<div>\n",
       "<style scoped>\n",
       "    .dataframe tbody tr th:only-of-type {\n",
       "        vertical-align: middle;\n",
       "    }\n",
       "\n",
       "    .dataframe tbody tr th {\n",
       "        vertical-align: top;\n",
       "    }\n",
       "\n",
       "    .dataframe thead th {\n",
       "        text-align: right;\n",
       "    }\n",
       "</style>\n",
       "<table border=\"1\" class=\"dataframe\">\n",
       "  <thead>\n",
       "    <tr style=\"text-align: right;\">\n",
       "      <th></th>\n",
       "      <th>pred_boot_0</th>\n",
       "      <th>pred_boot_1</th>\n",
       "      <th>pred_boot_2</th>\n",
       "      <th>pred_boot_3</th>\n",
       "      <th>pred_boot_4</th>\n",
       "      <th>pred_boot_5</th>\n",
       "      <th>pred_boot_6</th>\n",
       "      <th>pred_boot_7</th>\n",
       "      <th>pred_boot_8</th>\n",
       "      <th>pred_boot_9</th>\n",
       "    </tr>\n",
       "  </thead>\n",
       "  <tbody>\n",
       "    <tr>\n",
       "      <th>2014-10-01</th>\n",
       "      <td>208783.097577</td>\n",
       "      <td>204764.999003</td>\n",
       "      <td>201367.203420</td>\n",
       "      <td>212280.661192</td>\n",
       "      <td>204622.100582</td>\n",
       "      <td>202889.246579</td>\n",
       "      <td>210078.609982</td>\n",
       "      <td>210151.742392</td>\n",
       "      <td>200990.348257</td>\n",
       "      <td>203137.232359</td>\n",
       "    </tr>\n",
       "    <tr>\n",
       "      <th>2014-10-02</th>\n",
       "      <td>212340.130913</td>\n",
       "      <td>208320.030667</td>\n",
       "      <td>217221.147681</td>\n",
       "      <td>209996.152477</td>\n",
       "      <td>218464.949614</td>\n",
       "      <td>212545.697772</td>\n",
       "      <td>212061.596039</td>\n",
       "      <td>216579.376162</td>\n",
       "      <td>226902.326444</td>\n",
       "      <td>212847.017644</td>\n",
       "    </tr>\n",
       "    <tr>\n",
       "      <th>2014-10-03</th>\n",
       "      <td>221380.131363</td>\n",
       "      <td>223890.630246</td>\n",
       "      <td>224625.204840</td>\n",
       "      <td>207260.018970</td>\n",
       "      <td>206099.826214</td>\n",
       "      <td>288939.369743</td>\n",
       "      <td>220085.831843</td>\n",
       "      <td>229514.853352</td>\n",
       "      <td>230476.360893</td>\n",
       "      <td>224059.729506</td>\n",
       "    </tr>\n",
       "    <tr>\n",
       "      <th>2014-10-04</th>\n",
       "      <td>209943.773973</td>\n",
       "      <td>212946.528553</td>\n",
       "      <td>200027.296792</td>\n",
       "      <td>203592.696069</td>\n",
       "      <td>194120.730680</td>\n",
       "      <td>262225.653280</td>\n",
       "      <td>212516.896678</td>\n",
       "      <td>222042.271003</td>\n",
       "      <td>215236.033624</td>\n",
       "      <td>222487.580478</td>\n",
       "    </tr>\n",
       "    <tr>\n",
       "      <th>2014-10-05</th>\n",
       "      <td>193372.607408</td>\n",
       "      <td>177195.227257</td>\n",
       "      <td>194351.934752</td>\n",
       "      <td>206606.909536</td>\n",
       "      <td>202654.435499</td>\n",
       "      <td>297740.735825</td>\n",
       "      <td>192454.576530</td>\n",
       "      <td>199372.141645</td>\n",
       "      <td>208527.690318</td>\n",
       "      <td>197830.624380</td>\n",
       "    </tr>\n",
       "    <tr>\n",
       "      <th>2014-10-06</th>\n",
       "      <td>199626.367544</td>\n",
       "      <td>203338.054671</td>\n",
       "      <td>207145.334747</td>\n",
       "      <td>208993.695577</td>\n",
       "      <td>204766.177714</td>\n",
       "      <td>258050.416951</td>\n",
       "      <td>184903.916795</td>\n",
       "      <td>201473.420885</td>\n",
       "      <td>204790.425542</td>\n",
       "      <td>183312.907014</td>\n",
       "    </tr>\n",
       "    <tr>\n",
       "      <th>2014-10-07</th>\n",
       "      <td>201546.003371</td>\n",
       "      <td>212477.910879</td>\n",
       "      <td>209639.468951</td>\n",
       "      <td>204102.852012</td>\n",
       "      <td>225036.945159</td>\n",
       "      <td>257847.869040</td>\n",
       "      <td>197235.769115</td>\n",
       "      <td>196990.134684</td>\n",
       "      <td>200007.936217</td>\n",
       "      <td>207116.299541</td>\n",
       "    </tr>\n",
       "  </tbody>\n",
       "</table>\n",
       "</div>"
      ],
      "text/plain": [
       "              pred_boot_0    pred_boot_1    pred_boot_2    pred_boot_3  \\\n",
       "2014-10-01  208783.097577  204764.999003  201367.203420  212280.661192   \n",
       "2014-10-02  212340.130913  208320.030667  217221.147681  209996.152477   \n",
       "2014-10-03  221380.131363  223890.630246  224625.204840  207260.018970   \n",
       "2014-10-04  209943.773973  212946.528553  200027.296792  203592.696069   \n",
       "2014-10-05  193372.607408  177195.227257  194351.934752  206606.909536   \n",
       "2014-10-06  199626.367544  203338.054671  207145.334747  208993.695577   \n",
       "2014-10-07  201546.003371  212477.910879  209639.468951  204102.852012   \n",
       "\n",
       "              pred_boot_4    pred_boot_5    pred_boot_6    pred_boot_7  \\\n",
       "2014-10-01  204622.100582  202889.246579  210078.609982  210151.742392   \n",
       "2014-10-02  218464.949614  212545.697772  212061.596039  216579.376162   \n",
       "2014-10-03  206099.826214  288939.369743  220085.831843  229514.853352   \n",
       "2014-10-04  194120.730680  262225.653280  212516.896678  222042.271003   \n",
       "2014-10-05  202654.435499  297740.735825  192454.576530  199372.141645   \n",
       "2014-10-06  204766.177714  258050.416951  184903.916795  201473.420885   \n",
       "2014-10-07  225036.945159  257847.869040  197235.769115  196990.134684   \n",
       "\n",
       "              pred_boot_8    pred_boot_9  \n",
       "2014-10-01  200990.348257  203137.232359  \n",
       "2014-10-02  226902.326444  212847.017644  \n",
       "2014-10-03  230476.360893  224059.729506  \n",
       "2014-10-04  215236.033624  222487.580478  \n",
       "2014-10-05  208527.690318  197830.624380  \n",
       "2014-10-06  204790.425542  183312.907014  \n",
       "2014-10-07  200007.936217  207116.299541  "
      ]
     },
     "execution_count": 6,
     "metadata": {},
     "output_type": "execute_result"
    }
   ],
   "source": [
    "# Predict 10 different forecasting sequences of 7 steps each using bootstrapping\n",
    "# ==============================================================================\n",
    "boot_predictions = forecaster.predict_bootstrapping(steps=7, n_boot=10)\n",
    "boot_predictions"
   ]
  },
  {
   "cell_type": "code",
   "execution_count": 9,
   "metadata": {},
   "outputs": [
    {
     "data": {
      "text/plain": [
       "Index([0.05, 0.5, 0.95], dtype='float64')"
      ]
     },
     "execution_count": 9,
     "metadata": {},
     "output_type": "execute_result"
    }
   ],
   "source": [
    "boot_predictions.quantile(q=[0.05, 0.5, 0.95], axis=1).transpose().columns"
   ]
  },
  {
   "cell_type": "code",
   "execution_count": 14,
   "metadata": {},
   "outputs": [
    {
     "data": {
      "text/html": [
       "<div>\n",
       "<style scoped>\n",
       "    .dataframe tbody tr th:only-of-type {\n",
       "        vertical-align: middle;\n",
       "    }\n",
       "\n",
       "    .dataframe tbody tr th {\n",
       "        vertical-align: top;\n",
       "    }\n",
       "\n",
       "    .dataframe thead th {\n",
       "        text-align: right;\n",
       "    }\n",
       "</style>\n",
       "<table border=\"1\" class=\"dataframe\">\n",
       "  <thead>\n",
       "    <tr style=\"text-align: right;\">\n",
       "      <th></th>\n",
       "      <th>0.0</th>\n",
       "      <th>0.1</th>\n",
       "    </tr>\n",
       "  </thead>\n",
       "  <tbody>\n",
       "    <tr>\n",
       "      <th>2014-10-01</th>\n",
       "      <td>150754.365690</td>\n",
       "      <td>195483.862851</td>\n",
       "    </tr>\n",
       "    <tr>\n",
       "      <th>2014-10-02</th>\n",
       "      <td>158719.737178</td>\n",
       "      <td>204160.738452</td>\n",
       "    </tr>\n",
       "    <tr>\n",
       "      <th>2014-10-03</th>\n",
       "      <td>169432.230340</td>\n",
       "      <td>212599.136391</td>\n",
       "    </tr>\n",
       "    <tr>\n",
       "      <th>2014-10-04</th>\n",
       "      <td>148400.111461</td>\n",
       "      <td>196863.841123</td>\n",
       "    </tr>\n",
       "    <tr>\n",
       "      <th>2014-10-05</th>\n",
       "      <td>139708.490626</td>\n",
       "      <td>185544.868289</td>\n",
       "    </tr>\n",
       "    <tr>\n",
       "      <th>2014-10-06</th>\n",
       "      <td>156623.431501</td>\n",
       "      <td>188334.486578</td>\n",
       "    </tr>\n",
       "    <tr>\n",
       "      <th>2014-10-07</th>\n",
       "      <td>142412.947710</td>\n",
       "      <td>191797.716429</td>\n",
       "    </tr>\n",
       "  </tbody>\n",
       "</table>\n",
       "</div>"
      ],
      "text/plain": [
       "                      0.0            0.1\n",
       "2014-10-01  150754.365690  195483.862851\n",
       "2014-10-02  158719.737178  204160.738452\n",
       "2014-10-03  169432.230340  212599.136391\n",
       "2014-10-04  148400.111461  196863.841123\n",
       "2014-10-05  139708.490626  185544.868289\n",
       "2014-10-06  156623.431501  188334.486578\n",
       "2014-10-07  142412.947710  191797.716429"
      ]
     },
     "execution_count": 14,
     "metadata": {},
     "output_type": "execute_result"
    }
   ],
   "source": [
    "# Predict intervals for next 7 steps, quantiles 10th and 90th\n",
    "# ==============================================================================\n",
    "predictions = forecaster.predict_quantiles(\n",
    "                  steps=7, \n",
    "                  quantiles=[0, 0.10], \n",
    "                  n_boot=1000\n",
    "              )\n",
    "predictions"
   ]
  },
  {
   "cell_type": "code",
   "execution_count": 15,
   "metadata": {},
   "outputs": [
    {
     "data": {
      "text/html": [
       "<div>\n",
       "<style scoped>\n",
       "    .dataframe tbody tr th:only-of-type {\n",
       "        vertical-align: middle;\n",
       "    }\n",
       "\n",
       "    .dataframe tbody tr th {\n",
       "        vertical-align: top;\n",
       "    }\n",
       "\n",
       "    .dataframe thead th {\n",
       "        text-align: right;\n",
       "    }\n",
       "</style>\n",
       "<table border=\"1\" class=\"dataframe\">\n",
       "  <thead>\n",
       "    <tr style=\"text-align: right;\">\n",
       "      <th></th>\n",
       "      <th>pred</th>\n",
       "      <th>lower_bound</th>\n",
       "      <th>upper_bound</th>\n",
       "    </tr>\n",
       "  </thead>\n",
       "  <tbody>\n",
       "    <tr>\n",
       "      <th>2014-10-01</th>\n",
       "      <td>205723.923923</td>\n",
       "      <td>195483.862851</td>\n",
       "      <td>214883.472075</td>\n",
       "    </tr>\n",
       "    <tr>\n",
       "      <th>2014-10-02</th>\n",
       "      <td>215167.163121</td>\n",
       "      <td>204160.738452</td>\n",
       "      <td>225623.750301</td>\n",
       "    </tr>\n",
       "    <tr>\n",
       "      <th>2014-10-03</th>\n",
       "      <td>225144.443075</td>\n",
       "      <td>212599.136391</td>\n",
       "      <td>237675.514362</td>\n",
       "    </tr>\n",
       "    <tr>\n",
       "      <th>2014-10-04</th>\n",
       "      <td>211406.440681</td>\n",
       "      <td>196863.841123</td>\n",
       "      <td>234950.293307</td>\n",
       "    </tr>\n",
       "    <tr>\n",
       "      <th>2014-10-05</th>\n",
       "      <td>194848.766987</td>\n",
       "      <td>185544.868289</td>\n",
       "      <td>225497.131653</td>\n",
       "    </tr>\n",
       "    <tr>\n",
       "      <th>2014-10-06</th>\n",
       "      <td>201901.819903</td>\n",
       "      <td>188334.486578</td>\n",
       "      <td>226720.998742</td>\n",
       "    </tr>\n",
       "    <tr>\n",
       "      <th>2014-10-07</th>\n",
       "      <td>208648.526025</td>\n",
       "      <td>191797.716429</td>\n",
       "      <td>231948.852094</td>\n",
       "    </tr>\n",
       "  </tbody>\n",
       "</table>\n",
       "</div>"
      ],
      "text/plain": [
       "                     pred    lower_bound    upper_bound\n",
       "2014-10-01  205723.923923  195483.862851  214883.472075\n",
       "2014-10-02  215167.163121  204160.738452  225623.750301\n",
       "2014-10-03  225144.443075  212599.136391  237675.514362\n",
       "2014-10-04  211406.440681  196863.841123  234950.293307\n",
       "2014-10-05  194848.766987  185544.868289  225497.131653\n",
       "2014-10-06  201901.819903  188334.486578  226720.998742\n",
       "2014-10-07  208648.526025  191797.716429  231948.852094"
      ]
     },
     "execution_count": 15,
     "metadata": {},
     "output_type": "execute_result"
    }
   ],
   "source": [
    "# Predict intervals for next 7 steps, quantiles 10th and 90th\n",
    "# ==============================================================================\n",
    "predictions = forecaster.predict_interval(steps=7, interval=[10, 90], n_boot=1000)\n",
    "predictions"
   ]
  },
  {
   "cell_type": "code",
   "execution_count": 17,
   "metadata": {},
   "outputs": [],
   "source": [
    "import numpy as np\n",
    "import pandas as pd\n",
    "from skforecast.ForecasterAutoregMultiSeries import ForecasterAutoregMultiSeries\n",
    "from sklearn.linear_model import LinearRegression\n",
    "from sklearn.compose import ColumnTransformer\n",
    "from sklearn.preprocessing import StandardScaler\n",
    "from sklearn.preprocessing import OneHotEncoder\n",
    "\n",
    "# Fixtures\n",
    "from skforecast.ForecasterAutoregMultiSeries.tests.fixtures_ForecasterAutoregMultiSeries import series\n",
    "from skforecast.ForecasterAutoregMultiSeries.tests.fixtures_ForecasterAutoregMultiSeries import exog\n",
    "from skforecast.ForecasterAutoregMultiSeries.tests.fixtures_ForecasterAutoregMultiSeries import exog_predict\n",
    "\n",
    "transformer_exog = ColumnTransformer(\n",
    "                       [('scale', StandardScaler(), ['exog_1']),\n",
    "                        ('onehot', OneHotEncoder(), ['exog_2'])],\n",
    "                       remainder = 'passthrough',\n",
    "                       verbose_feature_names_out = False\n",
    "                   )"
   ]
  },
  {
   "cell_type": "code",
   "execution_count": 21,
   "metadata": {},
   "outputs": [
    {
     "data": {
      "text/html": [
       "<div>\n",
       "<style scoped>\n",
       "    .dataframe tbody tr th:only-of-type {\n",
       "        vertical-align: middle;\n",
       "    }\n",
       "\n",
       "    .dataframe tbody tr th {\n",
       "        vertical-align: top;\n",
       "    }\n",
       "\n",
       "    .dataframe thead th {\n",
       "        text-align: right;\n",
       "    }\n",
       "</style>\n",
       "<table border=\"1\" class=\"dataframe\">\n",
       "  <thead>\n",
       "    <tr style=\"text-align: right;\">\n",
       "      <th></th>\n",
       "      <th>1_0.05</th>\n",
       "      <th>1_0.55</th>\n",
       "      <th>1_0.95</th>\n",
       "      <th>2_0.05</th>\n",
       "      <th>2_0.55</th>\n",
       "      <th>2_0.95</th>\n",
       "    </tr>\n",
       "  </thead>\n",
       "  <tbody>\n",
       "    <tr>\n",
       "      <th>50</th>\n",
       "      <td>0.201336</td>\n",
       "      <td>0.404609</td>\n",
       "      <td>0.537619</td>\n",
       "      <td>0.276600</td>\n",
       "      <td>0.615933</td>\n",
       "      <td>0.761680</td>\n",
       "    </tr>\n",
       "    <tr>\n",
       "      <th>51</th>\n",
       "      <td>0.077398</td>\n",
       "      <td>0.194541</td>\n",
       "      <td>0.453744</td>\n",
       "      <td>0.186019</td>\n",
       "      <td>0.404039</td>\n",
       "      <td>0.704617</td>\n",
       "    </tr>\n",
       "  </tbody>\n",
       "</table>\n",
       "</div>"
      ],
      "text/plain": [
       "      1_0.05    1_0.55    1_0.95    2_0.05    2_0.55    2_0.95\n",
       "50  0.201336  0.404609  0.537619  0.276600  0.615933  0.761680\n",
       "51  0.077398  0.194541  0.453744  0.186019  0.404039  0.704617"
      ]
     },
     "execution_count": 21,
     "metadata": {},
     "output_type": "execute_result"
    }
   ],
   "source": [
    "\n",
    "forecaster = ForecasterAutoregMultiSeries(\n",
    "                    regressor          = LinearRegression(),\n",
    "                    lags               = 3,\n",
    "                    transformer_series = StandardScaler(),\n",
    "                    transformer_exog   = transformer_exog,\n",
    "                )\n",
    "\n",
    "forecaster.fit(series=series, exog=exog)\n",
    "results = forecaster.predict_quantiles(\n",
    "                steps               = 2,\n",
    "                quantiles           = [0.05, 0.55, 0.95],\n",
    "                levels              = None,\n",
    "                exog                = exog_predict,\n",
    "                n_boot              = 4,\n",
    "                in_sample_residuals = True\n",
    "            )\n",
    "results"
   ]
  },
  {
   "cell_type": "code",
   "execution_count": 22,
   "metadata": {},
   "outputs": [
    {
     "data": {
      "text/plain": [
       "array([[0.20133572, 0.40460928, 0.53761911, 0.27660015, 0.61593304,\n",
       "        0.7616801 ],\n",
       "       [0.07739771, 0.19454095, 0.45374409, 0.18601931, 0.40403914,\n",
       "        0.70461714]])"
      ]
     },
     "execution_count": 22,
     "metadata": {},
     "output_type": "execute_result"
    }
   ],
   "source": [
    "results.values"
   ]
  },
  {
   "cell_type": "code",
   "execution_count": 23,
   "metadata": {},
   "outputs": [
    {
     "data": {
      "text/plain": [
       "Index(['1_0.05', '1_0.55', '1_0.95', '2_0.05', '2_0.55', '2_0.95'], dtype='object')"
      ]
     },
     "execution_count": 23,
     "metadata": {},
     "output_type": "execute_result"
    }
   ],
   "source": [
    "results.columns"
   ]
  },
  {
   "cell_type": "code",
   "execution_count": null,
   "metadata": {},
   "outputs": [],
   "source": []
  },
  {
   "cell_type": "code",
   "execution_count": null,
   "metadata": {},
   "outputs": [],
   "source": []
  }
 ],
 "metadata": {
  "kernelspec": {
   "display_name": "skforecast_py10",
   "language": "python",
   "name": "python3"
  },
  "language_info": {
   "codemirror_mode": {
    "name": "ipython",
    "version": 3
   },
   "file_extension": ".py",
   "mimetype": "text/x-python",
   "name": "python",
   "nbconvert_exporter": "python",
   "pygments_lexer": "ipython3",
   "version": "3.10.11"
  },
  "orig_nbformat": 4,
  "vscode": {
   "interpreter": {
    "hash": "c78d62c1713fdacd99ef7c429003c7324b36fbb551fb8b6860a7ea73e9338235"
   }
  }
 },
 "nbformat": 4,
 "nbformat_minor": 2
}
