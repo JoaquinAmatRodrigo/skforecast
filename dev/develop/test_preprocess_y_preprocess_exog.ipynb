{
 "cells": [
  {
   "cell_type": "code",
   "execution_count": 74,
   "id": "7c69f06a",
   "metadata": {
    "ExecuteTime": {
     "end_time": "2022-02-22T11:28:34.346072Z",
     "start_time": "2022-02-22T11:28:34.342466Z"
    }
   },
   "outputs": [],
   "source": [
    "# %load_ext autoreload\n",
    "# %autoreload 2\n",
    "# import sys\n",
    "# sys.path.insert(1, 'home/Documents/GitHub/skforecast')\n",
    "# %config Completer.use_jedi = False"
   ]
  },
  {
   "cell_type": "code",
   "execution_count": 5,
   "id": "548b6eb0",
   "metadata": {
    "ExecuteTime": {
     "end_time": "2022-02-22T14:13:52.075352Z",
     "start_time": "2022-02-22T14:13:52.072043Z"
    }
   },
   "outputs": [],
   "source": [
    "# Unit test __init__\n",
    "# ==============================================================================\n",
    "import pytest\n",
    "from pytest import approx\n",
    "import numpy as np\n",
    "import pandas as pd\n",
    "from skforecast.utils import preprocess_y\n",
    "from skforecast.utils import preprocess_exog\n",
    "from skforecast.utils import preprocess_last_window"
   ]
  },
  {
   "cell_type": "markdown",
   "id": "9707e4e7",
   "metadata": {},
   "source": [
    "# Test Old"
   ]
  },
  {
   "cell_type": "markdown",
   "id": "249a8b6f",
   "metadata": {},
   "source": [
    "## Preprocess y"
   ]
  },
  {
   "cell_type": "code",
   "execution_count": 12,
   "id": "63c80166",
   "metadata": {
    "ExecuteTime": {
     "end_time": "2022-02-22T14:51:38.468432Z",
     "start_time": "2022-02-22T14:51:38.460008Z"
    }
   },
   "outputs": [],
   "source": [
    "def test_output_preprocess_y_when_y_index_is_DatetimeIndex_and_has_frequecy():\n",
    "    '''\n",
    "    Test values returned by when y is a pandas Series DatetimeIndex and freq is\n",
    "    not None.\n",
    "    '''\n",
    "    y = pd.Series(\n",
    "            data = np.arange(3),\n",
    "            index = pd.date_range(\"1990-01-01\", periods=3, freq='D')\n",
    "        )\n",
    "    results = preprocess_y(y)\n",
    "    expected = (np.arange(3),\n",
    "                pd.DatetimeIndex(['1990-01-01', '1990-01-02', '1990-01-03'],\n",
    "                                 dtype='datetime64[ns]', freq='D')\n",
    "               )\n",
    "    assert (results[0] == expected[0]).all()\n",
    "    assert (results[1] == expected[1]).all()\n",
    "    \n",
    "\n",
    "def test_output_preprocess_y_when_y_index_is_DatetimeIndex_but_has_not_frequecy():\n",
    "    '''\n",
    "    Test values returned by when y is a pandas Series with DatetimeIndex but freq \n",
    "    is None.\n",
    "    '''\n",
    "    y = pd.Series(\n",
    "            data = np.arange(3),\n",
    "            index = pd.to_datetime([\"1990-01-01\", \"1990-01-02\", \"1990-01-03\"])\n",
    "        )\n",
    "    \n",
    "    results = preprocess_y(y)\n",
    "    expected = (np.arange(3),\n",
    "                pd.RangeIndex(start=0, stop=3, step=1)\n",
    "               )\n",
    "    assert (results[0] == expected[0]).all()\n",
    "    assert (results[1] == expected[1]).all()\n",
    "    \n",
    "    \n",
    "def test_output_preprocess_y_when_y_index_is_not_DatetimeIndex():\n",
    "    '''\n",
    "    Test values returned by when y is a pandas Series without DatetimeIndex.\n",
    "    '''\n",
    "    y = pd.Series(data=np.arange(3))\n",
    "    results = preprocess_y(y)\n",
    "    expected = (np.arange(3),\n",
    "                pd.RangeIndex(start=0, stop=3, step=1)\n",
    "               )\n",
    "    assert (results[0] == expected[0]).all()\n",
    "    assert (results[1] == expected[1]).all()"
   ]
  },
  {
   "cell_type": "code",
   "execution_count": 13,
   "id": "6ec55802",
   "metadata": {
    "ExecuteTime": {
     "end_time": "2022-02-22T14:51:39.576506Z",
     "start_time": "2022-02-22T14:51:39.570747Z"
    }
   },
   "outputs": [],
   "source": [
    "test_output_preprocess_y_when_y_index_is_DatetimeIndex_and_has_frequecy()\n",
    "test_output_preprocess_y_when_y_index_is_DatetimeIndex_but_has_not_frequecy()\n",
    "test_output_preprocess_y_when_y_index_is_not_DatetimeIndex()"
   ]
  },
  {
   "cell_type": "markdown",
   "id": "32262438",
   "metadata": {},
   "source": [
    "## Preprocess exog"
   ]
  },
  {
   "cell_type": "code",
   "execution_count": 14,
   "id": "94d6ad05",
   "metadata": {
    "ExecuteTime": {
     "end_time": "2022-02-22T14:51:44.032809Z",
     "start_time": "2022-02-22T14:51:44.017078Z"
    }
   },
   "outputs": [],
   "source": [
    "def test_output_preprocess_exog_when_exog_index_is_DatetimeIndex_and_has_frequecy():\n",
    "    '''\n",
    "    Test values returned by when exog is a pandas Series with DatetimeIndex\n",
    "    and freq is not None.\n",
    "    '''\n",
    "    exog = pd.Series(\n",
    "            data = np.arange(3),\n",
    "            index = pd.date_range(\"1990-01-01\", periods=3, freq='D')\n",
    "        )\n",
    "    results = preprocess_exog(exog)\n",
    "    expected = (np.arange(3),\n",
    "                pd.DatetimeIndex(['1990-01-01', '1990-01-02', '1990-01-03'],\n",
    "                                 dtype='datetime64[ns]', freq='D')\n",
    "               )\n",
    "    assert (results[0] == expected[0]).all()\n",
    "    assert (results[1] == expected[1]).all()\n",
    "    \n",
    "\n",
    "def test_output_preprocess_exog_when_exog_index_is_DatetimeIndex_but_has_not_frequecy():\n",
    "    '''\n",
    "    Test values returned by when exog is a pandas Series with DatetimeIndex\n",
    "    and freq is None.\n",
    "    '''\n",
    "    exog = pd.Series(\n",
    "            data = np.arange(3),\n",
    "            index = pd.to_datetime([\"1990-01-01\", \"1990-01-02\", \"1990-01-03\"])\n",
    "        )\n",
    "    \n",
    "    results = preprocess_exog(exog)\n",
    "    expected = (np.arange(3),\n",
    "                pd.RangeIndex(start=0, stop=3, step=1)\n",
    "               )\n",
    "    assert (results[0] == expected[0]).all()\n",
    "    assert (results[1] == expected[1]).all()\n",
    "    \n",
    "    \n",
    "def test_output_preprocess_exog_when_exog_index_is_not_DatetimeIndex():\n",
    "    '''\n",
    "    Test values returned by when exog is a pandas Series without DatetimeIndex.\n",
    "    '''\n",
    "    exog = pd.Series(data=np.arange(3))\n",
    "    results = preprocess_exog(exog)\n",
    "    expected = (np.arange(3),\n",
    "                pd.RangeIndex(start=0, stop=3, step=1)\n",
    "               )\n",
    "    assert (results[0] == expected[0]).all()\n",
    "    assert (results[1] == expected[1]).all()"
   ]
  },
  {
   "cell_type": "code",
   "execution_count": 15,
   "id": "8014b6d1",
   "metadata": {
    "ExecuteTime": {
     "end_time": "2022-02-22T14:51:44.699294Z",
     "start_time": "2022-02-22T14:51:44.692569Z"
    }
   },
   "outputs": [],
   "source": [
    "test_output_preprocess_exog_when_exog_index_is_DatetimeIndex_and_has_frequecy()\n",
    "test_output_preprocess_exog_when_exog_index_is_DatetimeIndex_but_has_not_frequecy()\n",
    "test_output_preprocess_exog_when_exog_index_is_not_DatetimeIndex()"
   ]
  },
  {
   "cell_type": "markdown",
   "id": "ed57ba9e",
   "metadata": {},
   "source": [
    "## Preprocess last_window"
   ]
  },
  {
   "cell_type": "code",
   "execution_count": 16,
   "id": "619d8665",
   "metadata": {
    "ExecuteTime": {
     "end_time": "2022-02-22T14:51:46.298913Z",
     "start_time": "2022-02-22T14:51:46.289927Z"
    }
   },
   "outputs": [],
   "source": [
    "def test_output_preprocess_last_window_when_last_window_index_is_DatetimeIndex_and_has_frequecy():\n",
    "    '''\n",
    "    Test values returned by when last_window is a pandas Series with DatetimeIndex\n",
    "    and freq is not None.\n",
    "    '''\n",
    "    last_window = pd.Series(\n",
    "            data = np.arange(3),\n",
    "            index = pd.date_range(\"1990-01-01\", periods=3, freq='D')\n",
    "        )\n",
    "    results = preprocess_last_window(last_window)\n",
    "    expected = (np.arange(3),\n",
    "                pd.DatetimeIndex(['1990-01-01', '1990-01-02', '1990-01-03'],\n",
    "                                 dtype='datetime64[ns]', freq='D')\n",
    "               )\n",
    "    assert (results[0] == expected[0]).all()\n",
    "    assert (results[1] == expected[1]).all()\n",
    "    \n",
    "\n",
    "def test_output_preprocess_last_window_when_last_window_index_is_DatetimeIndex_but_has_not_frequecy():\n",
    "    '''\n",
    "    Test values returned by when last_window is a pandas Series with DatetimeIndex\n",
    "    and freq is None.\n",
    "    '''\n",
    "    last_window = pd.Series(\n",
    "            data = np.arange(3),\n",
    "            index = pd.to_datetime([\"1990-01-01\", \"1990-01-02\", \"1990-01-03\"])\n",
    "        )\n",
    "    \n",
    "    results = preprocess_last_window(last_window)\n",
    "    expected = (np.arange(3),\n",
    "                pd.RangeIndex(start=0, stop=3, step=1)\n",
    "               )\n",
    "    assert (results[0] == expected[0]).all()\n",
    "    assert (results[1] == expected[1]).all()\n",
    "    \n",
    "    \n",
    "def test_output_preprocess_last_window_when_last_window_index_is_not_DatetimeIndex():\n",
    "    '''\n",
    "    Test values returned by when last_window is a pandas Series without DatetimeIndex.\n",
    "    '''\n",
    "    last_window = pd.Series(data=np.arange(3))\n",
    "    results = preprocess_last_window(last_window)\n",
    "    expected = (np.arange(3),\n",
    "                pd.RangeIndex(start=0, stop=3, step=1)\n",
    "               )\n",
    "    assert (results[0] == expected[0]).all()\n",
    "    assert (results[1] == expected[1]).all()"
   ]
  },
  {
   "cell_type": "code",
   "execution_count": 17,
   "id": "85d9814f",
   "metadata": {
    "ExecuteTime": {
     "end_time": "2022-02-22T14:51:46.684820Z",
     "start_time": "2022-02-22T14:51:46.677615Z"
    }
   },
   "outputs": [],
   "source": [
    "test_output_preprocess_last_window_when_last_window_index_is_DatetimeIndex_and_has_frequecy()\n",
    "test_output_preprocess_last_window_when_last_window_index_is_DatetimeIndex_but_has_not_frequecy()\n",
    "test_output_preprocess_last_window_when_last_window_index_is_not_DatetimeIndex()"
   ]
  },
  {
   "cell_type": "markdown",
   "id": "ec9ba456",
   "metadata": {},
   "source": [
    "# Test Added"
   ]
  },
  {
   "cell_type": "markdown",
   "id": "e32fff3a",
   "metadata": {
    "ExecuteTime": {
     "end_time": "2022-02-22T14:52:57.570250Z",
     "start_time": "2022-02-22T14:52:57.565355Z"
    }
   },
   "source": [
    "## Preprocess y"
   ]
  },
  {
   "cell_type": "code",
   "execution_count": 24,
   "id": "e9cc0ba4",
   "metadata": {
    "ExecuteTime": {
     "end_time": "2022-02-22T14:58:50.932574Z",
     "start_time": "2022-02-22T14:58:50.927201Z"
    }
   },
   "outputs": [],
   "source": [
    "def test_output_preprocess_y_when_y_index_is_RangeIndex():\n",
    "    '''\n",
    "    Test values returned by when y is a pandas Series with RangeIndex\n",
    "    '''\n",
    "    y = pd.Series(\n",
    "            data = np.arange(3),\n",
    "            index = pd.RangeIndex(start=0, stop=3, step=1)\n",
    "        )\n",
    "    results = preprocess_y(y)\n",
    "    expected = (np.arange(3),\n",
    "                pd.RangeIndex(start=0, stop=3, step=1)\n",
    "               )\n",
    "    assert (results[0] == expected[0]).all()\n",
    "    assert (results[1] == expected[1]).all()\n",
    "    \n",
    "    \n",
    "def test_output_preprocess_y_when_y_index_is_not_DatetimeIndex_or_RangeIndex():\n",
    "    '''\n",
    "    Test values returned by when y is a pandas Series without DatetimeIndex or RangeIndex.\n",
    "    '''\n",
    "    y = pd.Series(data=np.arange(3))\n",
    "    results = preprocess_y(y)\n",
    "    expected = (np.arange(3),\n",
    "                pd.RangeIndex(start=0, stop=3, step=1)\n",
    "               )\n",
    "    assert (results[0] == expected[0]).all()\n",
    "    assert (results[1] == expected[1]).all()"
   ]
  },
  {
   "cell_type": "code",
   "execution_count": 25,
   "id": "09576e72",
   "metadata": {
    "ExecuteTime": {
     "end_time": "2022-02-22T14:58:51.344513Z",
     "start_time": "2022-02-22T14:58:51.341369Z"
    }
   },
   "outputs": [],
   "source": [
    "test_output_preprocess_y_when_y_index_is_RangeIndex()\n",
    "test_output_preprocess_y_when_y_index_is_not_DatetimeIndex_or_RangeIndex()"
   ]
  },
  {
   "cell_type": "markdown",
   "id": "1308f64c",
   "metadata": {},
   "source": [
    "## Preprocess exog"
   ]
  },
  {
   "cell_type": "code",
   "execution_count": 26,
   "id": "639aeebf",
   "metadata": {
    "ExecuteTime": {
     "end_time": "2022-02-22T15:01:04.762824Z",
     "start_time": "2022-02-22T15:01:04.757714Z"
    }
   },
   "outputs": [],
   "source": [
    "def test_output_preprocess_exog_when_exog_index_is_RangeIndex():\n",
    "    '''\n",
    "    Test values returned by when exog is a pandas Series with RangeIndex\n",
    "    '''\n",
    "    exog = pd.Series(\n",
    "            data = np.arange(3),\n",
    "            index = pd.RangeIndex(start=0, stop=3, step=1)\n",
    "        )\n",
    "    results = preprocess_exog(exog)\n",
    "    expected = (np.arange(3),\n",
    "                pd.RangeIndex(start=0, stop=3, step=1)\n",
    "               )\n",
    "    assert (results[0] == expected[0]).all()\n",
    "    assert (results[1] == expected[1]).all()\n",
    "    \n",
    "    \n",
    "def test_output_preprocess_exog_when_exog_index_is_not_DatetimeIndex_or_RangeIndex():\n",
    "    '''\n",
    "    Test values returned by when exog is a pandas Series without DatetimeIndex or RangeIndex.\n",
    "    '''\n",
    "    exog = pd.Series(data=np.arange(3))\n",
    "    results = preprocess_exog(exog)\n",
    "    expected = (np.arange(3),\n",
    "                pd.RangeIndex(start=0, stop=3, step=1)\n",
    "               )\n",
    "    assert (results[0] == expected[0]).all()\n",
    "    assert (results[1] == expected[1]).all()"
   ]
  },
  {
   "cell_type": "code",
   "execution_count": 27,
   "id": "9c0d4dda",
   "metadata": {
    "ExecuteTime": {
     "end_time": "2022-02-22T15:01:13.813379Z",
     "start_time": "2022-02-22T15:01:13.809719Z"
    }
   },
   "outputs": [],
   "source": [
    "test_output_preprocess_exog_when_exog_index_is_RangeIndex()\n",
    "test_output_preprocess_exog_when_exog_index_is_not_DatetimeIndex_or_RangeIndex()"
   ]
  },
  {
   "cell_type": "markdown",
   "id": "38822c59",
   "metadata": {},
   "source": [
    "## Preprocess last_window"
   ]
  },
  {
   "cell_type": "code",
   "execution_count": 30,
   "id": "d8f13a1e",
   "metadata": {
    "ExecuteTime": {
     "end_time": "2022-02-22T15:03:20.461087Z",
     "start_time": "2022-02-22T15:03:20.455669Z"
    }
   },
   "outputs": [],
   "source": [
    "def test_output_preprocess_last_window_when_last_window_index_is_RangeIndex():\n",
    "    '''\n",
    "    Test values returned by when last_window is a pandas Series with RangeIndex\n",
    "    '''\n",
    "    last_window = pd.Series(\n",
    "            data = np.arange(3),\n",
    "            index = pd.RangeIndex(start=0, stop=3, step=1)\n",
    "        )\n",
    "    results = preprocess_last_window(last_window)\n",
    "    expected = (np.arange(3),\n",
    "                pd.RangeIndex(start=0, stop=3, step=1)\n",
    "               )\n",
    "    assert (results[0] == expected[0]).all()\n",
    "    assert (results[1] == expected[1]).all()\n",
    "    \n",
    "    \n",
    "def test_output_preprocess_last_window_when_last_window_index_is_not_DatetimeIndex_or_RangeIndex():\n",
    "    '''\n",
    "    Test values returned by when last_window is a pandas Series without DatetimeIndex or RangeIndex.\n",
    "    '''\n",
    "    last_window = pd.Series(data=np.arange(3))\n",
    "    results = preprocess_last_window(last_window)\n",
    "    expected = (np.arange(3),\n",
    "                pd.RangeIndex(start=0, stop=3, step=1)\n",
    "               )\n",
    "    assert (results[0] == expected[0]).all()\n",
    "    assert (results[1] == expected[1]).all()"
   ]
  },
  {
   "cell_type": "code",
   "execution_count": 31,
   "id": "639a4649",
   "metadata": {
    "ExecuteTime": {
     "end_time": "2022-02-22T15:03:20.913600Z",
     "start_time": "2022-02-22T15:03:20.910919Z"
    }
   },
   "outputs": [],
   "source": [
    "test_output_preprocess_last_window_when_last_window_index_is_RangeIndex()\n",
    "test_output_preprocess_last_window_when_last_window_index_is_not_DatetimeIndex_or_RangeIndex()"
   ]
  },
  {
   "cell_type": "code",
   "execution_count": null,
   "id": "b212cead",
   "metadata": {},
   "outputs": [],
   "source": []
  }
 ],
 "metadata": {
  "kernelspec": {
   "display_name": "skforecast",
   "language": "python",
   "name": "skforecast"
  },
  "language_info": {
   "codemirror_mode": {
    "name": "ipython",
    "version": 3
   },
   "file_extension": ".py",
   "mimetype": "text/x-python",
   "name": "python",
   "nbconvert_exporter": "python",
   "pygments_lexer": "ipython3",
   "version": "3.8.0"
  },
  "toc": {
   "base_numbering": 1,
   "nav_menu": {},
   "number_sections": true,
   "sideBar": true,
   "skip_h1_title": false,
   "title_cell": "Table of Contents",
   "title_sidebar": "Contents",
   "toc_cell": false,
   "toc_position": {
    "height": "calc(100% - 180px)",
    "left": "10px",
    "top": "150px",
    "width": "165px"
   },
   "toc_section_display": true,
   "toc_window_display": true
  },
  "varInspector": {
   "cols": {
    "lenName": 16,
    "lenType": 16,
    "lenVar": 40
   },
   "kernels_config": {
    "python": {
     "delete_cmd_postfix": "",
     "delete_cmd_prefix": "del ",
     "library": "var_list.py",
     "varRefreshCmd": "print(var_dic_list())"
    },
    "r": {
     "delete_cmd_postfix": ") ",
     "delete_cmd_prefix": "rm(",
     "library": "var_list.r",
     "varRefreshCmd": "cat(var_dic_list()) "
    }
   },
   "types_to_exclude": [
    "module",
    "function",
    "builtin_function_or_method",
    "instance",
    "_Feature"
   ],
   "window_display": false
  }
 },
 "nbformat": 4,
 "nbformat_minor": 5
}
