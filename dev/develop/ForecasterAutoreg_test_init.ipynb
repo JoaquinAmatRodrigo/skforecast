{
 "cells": [
  {
   "cell_type": "code",
   "execution_count": 3,
   "id": "f8c1bb8b",
   "metadata": {
    "ExecuteTime": {
     "end_time": "2022-02-22T10:53:03.461029Z",
     "start_time": "2022-02-22T10:53:03.189323Z"
    }
   },
   "outputs": [
    {
     "ename": "ImportError",
     "evalue": "attempted relative import with no known parent package",
     "output_type": "error",
     "traceback": [
      "\u001b[0;31m---------------------------------------------------------------------------\u001b[0m",
      "\u001b[0;31mImportError\u001b[0m                               Traceback (most recent call last)",
      "\u001b[0;32m/tmp/ipykernel_5602/2114979601.py\u001b[0m in \u001b[0;36m<module>\u001b[0;34m\u001b[0m\n\u001b[1;32m      6\u001b[0m \u001b[0;32mimport\u001b[0m \u001b[0mpandas\u001b[0m \u001b[0;32mas\u001b[0m \u001b[0mpd\u001b[0m\u001b[0;34m\u001b[0m\u001b[0;34m\u001b[0m\u001b[0m\n\u001b[1;32m      7\u001b[0m \u001b[0;31m# from skforecast.ForecasterAutoreg import ForecasterAutoreg\u001b[0m\u001b[0;34m\u001b[0m\u001b[0;34m\u001b[0m\u001b[0;34m\u001b[0m\u001b[0m\n\u001b[0;32m----> 8\u001b[0;31m \u001b[0;32mfrom\u001b[0m \u001b[0;34m.\u001b[0m\u001b[0mskforecast\u001b[0m\u001b[0;34m.\u001b[0m\u001b[0mForecasterAutoreg\u001b[0m \u001b[0;32mimport\u001b[0m \u001b[0mForecasterAutoreg\u001b[0m\u001b[0;34m\u001b[0m\u001b[0;34m\u001b[0m\u001b[0m\n\u001b[0m\u001b[1;32m      9\u001b[0m \u001b[0;32mfrom\u001b[0m \u001b[0msklearn\u001b[0m\u001b[0;34m.\u001b[0m\u001b[0mlinear_model\u001b[0m \u001b[0;32mimport\u001b[0m \u001b[0mLinearRegression\u001b[0m\u001b[0;34m\u001b[0m\u001b[0;34m\u001b[0m\u001b[0m\n\u001b[1;32m     10\u001b[0m \u001b[0;34m\u001b[0m\u001b[0m\n",
      "\u001b[0;31mImportError\u001b[0m: attempted relative import with no known parent package"
     ]
    }
   ],
   "source": [
    "# Unit test __init__\n",
    "# ==============================================================================\n",
    "import pytest\n",
    "from pytest import approx\n",
    "import numpy as np\n",
    "import pandas as pd\n",
    "# from skforecast.ForecasterAutoreg import ForecasterAutoreg\n",
    "from .skforecast.ForecasterAutoreg import ForecasterAutoreg\n",
    "from sklearn.linear_model import LinearRegression\n",
    "\n",
    "def test_init_lags_when_integer():\n",
    "    '''\n",
    "    Test creation of attribute lags when integer is passed.\n",
    "    '''\n",
    "    forecaster = ForecasterAutoreg(LinearRegression(), lags=10)\n",
    "    assert (forecaster.lags == np.arange(10) + 1).all()\n",
    "    \n",
    "def test_init_lags_when_list():\n",
    "    '''\n",
    "    Test creation of attribute lags when list is passed.\n",
    "    '''\n",
    "    forecaster = ForecasterAutoreg(LinearRegression(), lags=[1, 2, 3])\n",
    "    assert (forecaster.lags == np.array([1, 2, 3])).all()\n",
    "    \n",
    "def test_init_lags_when_range():\n",
    "    '''\n",
    "    Test creation of attribute lags when range is passed.\n",
    "    '''\n",
    "    forecaster = ForecasterAutoreg(LinearRegression(), lags=range(1, 4))\n",
    "    assert (forecaster.lags == np.array(range(1, 4))).all()\n",
    "    \n",
    "def test_init_lags_when_numpy_arange():\n",
    "    '''\n",
    "    Test creation of attribute lags when numpy arange is passed.\n",
    "    '''\n",
    "    forecaster = ForecasterAutoreg(LinearRegression(), lags=np.arange(1, 10))\n",
    "    assert (forecaster.lags == np.arange(1, 10)).all()\n",
    "\n",
    "def test_init_exception_when_lags_is_int_lower_than_1():\n",
    "    '''\n",
    "    Test exception is raised when lags is initialized with int lower than 1.\n",
    "    '''\n",
    "    with pytest.raises(Exception):\n",
    "        ForecasterAutoreg(LinearRegression(), lags=-10)\n",
    "        \n",
    "def test_init_exception_when_lags_has_values_lower_than_1():\n",
    "    '''\n",
    "    Test exception is raised when lags is initialized with any value lower than 1.\n",
    "    '''\n",
    "    for lags in [[0, 1], range(0, 2), np.arange(0, 2)]:\n",
    "        with pytest.raises(Exception):\n",
    "            ForecasterAutoreg(LinearRegression(), lags=lags)"
   ]
  },
  {
   "cell_type": "code",
   "execution_count": 50,
   "id": "7bcc8540",
   "metadata": {
    "ExecuteTime": {
     "end_time": "2022-02-11T19:32:17.830035Z",
     "start_time": "2022-02-11T19:32:17.119427Z"
    }
   },
   "outputs": [
    {
     "name": "stdout",
     "output_type": "stream",
     "text": [
      "Found existing installation: skforecast 0.4.2\n",
      "Uninstalling skforecast-0.4.2:\n",
      "  Successfully uninstalled skforecast-0.4.2\n",
      "Note: you may need to restart the kernel to use updated packages.\n"
     ]
    }
   ],
   "source": [
    "pip uninstall skforecast -y"
   ]
  },
  {
   "cell_type": "code",
   "execution_count": 3,
   "id": "b4006b11",
   "metadata": {
    "ExecuteTime": {
     "end_time": "2022-02-11T12:29:32.319835Z",
     "start_time": "2022-02-11T12:29:32.316769Z"
    }
   },
   "outputs": [],
   "source": [
    "def test_init_lags_when_integer():\n",
    "    '''\n",
    "    Test creation of attribute lags when integer is passed.\n",
    "    '''\n",
    "    forecaster = ForecasterAutoreg(LinearRegression(), lags=10)\n",
    "    assert (forecaster.lags == np.arange(10) + 1).all()\n",
    "    "
   ]
  },
  {
   "cell_type": "code",
   "execution_count": 42,
   "id": "324b4f6e",
   "metadata": {
    "ExecuteTime": {
     "end_time": "2022-02-11T19:24:20.057687Z",
     "start_time": "2022-02-11T19:24:20.047879Z"
    }
   },
   "outputs": [],
   "source": [
    "def test_init_exception_when_lags_list_or_numpy_array_with_values_not_int():\n",
    "    '''\n",
    "    Test exception is raised when lags is list or numpy array and element(s) are not int.\n",
    "    '''\n",
    "    lags_list = [1, 1.5, [1, 2], range(5)]\n",
    "    lags_np_array = np.array([1.2, 1.5])\n",
    "    \n",
    "    for lags in [lags_list, lags_np_array]:\n",
    "        for lag in lags:\n",
    "            if not isinstance(lag, int):\n",
    "                with pytest.raises(Exception):\n",
    "                    ForecasterAutoreg(LinearRegression(), lags=lags)"
   ]
  },
  {
   "cell_type": "code",
   "execution_count": 43,
   "id": "da6be2a1",
   "metadata": {
    "ExecuteTime": {
     "end_time": "2022-02-11T19:24:20.956670Z",
     "start_time": "2022-02-11T19:24:20.940540Z"
    }
   },
   "outputs": [
    {
     "ename": "Failed",
     "evalue": "DID NOT RAISE <class 'Exception'>",
     "output_type": "error",
     "traceback": [
      "\u001b[0;31m---------------------------------------------------------------------------\u001b[0m",
      "\u001b[0;31mFailed\u001b[0m                                    Traceback (most recent call last)",
      "\u001b[0;32m/tmp/ipykernel_4740/3246134575.py\u001b[0m in \u001b[0;36m<module>\u001b[0;34m\u001b[0m\n\u001b[0;32m----> 1\u001b[0;31m \u001b[0mtest_init_exception_when_lags_list_or_numpy_array_with_values_not_int\u001b[0m\u001b[0;34m(\u001b[0m\u001b[0;34m)\u001b[0m\u001b[0;34m\u001b[0m\u001b[0;34m\u001b[0m\u001b[0m\n\u001b[0m",
      "\u001b[0;32m/tmp/ipykernel_4740/2271998113.py\u001b[0m in \u001b[0;36mtest_init_exception_when_lags_list_or_numpy_array_with_values_not_int\u001b[0;34m()\u001b[0m\n\u001b[1;32m     10\u001b[0m             \u001b[0;32mif\u001b[0m \u001b[0;32mnot\u001b[0m \u001b[0misinstance\u001b[0m\u001b[0;34m(\u001b[0m\u001b[0mlag\u001b[0m\u001b[0;34m,\u001b[0m \u001b[0mint\u001b[0m\u001b[0;34m)\u001b[0m\u001b[0;34m:\u001b[0m\u001b[0;34m\u001b[0m\u001b[0;34m\u001b[0m\u001b[0m\n\u001b[1;32m     11\u001b[0m                 \u001b[0;32mwith\u001b[0m \u001b[0mpytest\u001b[0m\u001b[0;34m.\u001b[0m\u001b[0mraises\u001b[0m\u001b[0;34m(\u001b[0m\u001b[0mException\u001b[0m\u001b[0;34m)\u001b[0m\u001b[0;34m:\u001b[0m\u001b[0;34m\u001b[0m\u001b[0;34m\u001b[0m\u001b[0m\n\u001b[0;32m---> 12\u001b[0;31m                     \u001b[0mForecasterAutoreg\u001b[0m\u001b[0;34m(\u001b[0m\u001b[0mLinearRegression\u001b[0m\u001b[0;34m(\u001b[0m\u001b[0;34m)\u001b[0m\u001b[0;34m,\u001b[0m \u001b[0mlags\u001b[0m\u001b[0;34m=\u001b[0m\u001b[0mlags\u001b[0m\u001b[0;34m)\u001b[0m\u001b[0;34m\u001b[0m\u001b[0;34m\u001b[0m\u001b[0m\n\u001b[0m",
      "    \u001b[0;31m[... skipping hidden 1 frame]\u001b[0m\n",
      "\u001b[0;32m~/anaconda3/envs/skforecast/lib/python3.8/site-packages/_pytest/outcomes.py\u001b[0m in \u001b[0;36mfail\u001b[0;34m(msg, pytrace)\u001b[0m\n\u001b[1;32m    151\u001b[0m     \"\"\"\n\u001b[1;32m    152\u001b[0m     \u001b[0m__tracebackhide__\u001b[0m \u001b[0;34m=\u001b[0m \u001b[0;32mTrue\u001b[0m\u001b[0;34m\u001b[0m\u001b[0;34m\u001b[0m\u001b[0m\n\u001b[0;32m--> 153\u001b[0;31m     \u001b[0;32mraise\u001b[0m \u001b[0mFailed\u001b[0m\u001b[0;34m(\u001b[0m\u001b[0mmsg\u001b[0m\u001b[0;34m=\u001b[0m\u001b[0mmsg\u001b[0m\u001b[0;34m,\u001b[0m \u001b[0mpytrace\u001b[0m\u001b[0;34m=\u001b[0m\u001b[0mpytrace\u001b[0m\u001b[0;34m)\u001b[0m\u001b[0;34m\u001b[0m\u001b[0;34m\u001b[0m\u001b[0m\n\u001b[0m\u001b[1;32m    154\u001b[0m \u001b[0;34m\u001b[0m\u001b[0m\n\u001b[1;32m    155\u001b[0m \u001b[0;34m\u001b[0m\u001b[0m\n",
      "\u001b[0;31mFailed\u001b[0m: DID NOT RAISE <class 'Exception'>"
     ]
    }
   ],
   "source": [
    "test_init_exception_when_lags_list_or_numpy_array_with_values_not_int()"
   ]
  },
  {
   "cell_type": "code",
   "execution_count": 38,
   "id": "6d67b342",
   "metadata": {
    "ExecuteTime": {
     "end_time": "2022-02-11T12:51:01.278823Z",
     "start_time": "2022-02-11T12:51:01.274512Z"
    }
   },
   "outputs": [
    {
     "name": "stdout",
     "output_type": "stream",
     "text": [
      "<class 'numpy.float64'>\n",
      "error\n",
      "<class 'numpy.float64'>\n",
      "error\n",
      "<class 'numpy.float64'>\n",
      "error\n"
     ]
    }
   ],
   "source": [
    "lags = [1, 1.5, 7*1.2, [1, 2], range(5)]\n",
    "lags = np.array([1, 1.5, 7*1.2])\n",
    "for lag in lags:\n",
    "    print(type(lag))\n",
    "    if not isinstance(lag, int):\n",
    "        print('error')"
   ]
  },
  {
   "cell_type": "code",
   "execution_count": 5,
   "id": "f78644f2",
   "metadata": {
    "ExecuteTime": {
     "end_time": "2022-02-11T18:31:56.309710Z",
     "start_time": "2022-02-11T18:31:56.305545Z"
    }
   },
   "outputs": [
    {
     "name": "stdout",
     "output_type": "stream",
     "text": [
      "<class 'numpy.ndarray'>\n",
      "<class 'numpy.ndarray'>\n"
     ]
    }
   ],
   "source": [
    "print(type(np.array([1, 1.5, 7*1.2])))\n",
    "print(type(np.array([1, 1.5, 7*1.2])))"
   ]
  },
  {
   "cell_type": "code",
   "execution_count": 16,
   "id": "e182591f",
   "metadata": {
    "ExecuteTime": {
     "end_time": "2022-02-11T18:39:14.196541Z",
     "start_time": "2022-02-11T18:39:14.192958Z"
    }
   },
   "outputs": [],
   "source": [
    "forecaster = ForecasterAutoreg(LinearRegression(), lags=np.arange(1, 10))"
   ]
  },
  {
   "cell_type": "code",
   "execution_count": 19,
   "id": "d3339f63",
   "metadata": {
    "ExecuteTime": {
     "end_time": "2022-02-11T18:41:34.928780Z",
     "start_time": "2022-02-11T18:41:34.923560Z"
    }
   },
   "outputs": [
    {
     "data": {
      "text/plain": [
       "dtype('int64')"
      ]
     },
     "execution_count": 19,
     "metadata": {},
     "output_type": "execute_result"
    }
   ],
   "source": [
    "forecaster.lags.dtype"
   ]
  },
  {
   "cell_type": "code",
   "execution_count": 18,
   "id": "1a1ef0b9",
   "metadata": {
    "ExecuteTime": {
     "end_time": "2022-02-11T18:39:51.164506Z",
     "start_time": "2022-02-11T18:39:51.161437Z"
    }
   },
   "outputs": [],
   "source": [
    "assert (forecaster.lags == np.arange(1, 10)).all()"
   ]
  },
  {
   "cell_type": "code",
   "execution_count": 36,
   "id": "3f519c31",
   "metadata": {
    "ExecuteTime": {
     "end_time": "2022-02-11T18:46:13.652495Z",
     "start_time": "2022-02-11T18:46:13.649652Z"
    }
   },
   "outputs": [],
   "source": [
    "a = np.array([1, 1.5, 7*1.2], int)"
   ]
  },
  {
   "cell_type": "code",
   "execution_count": 11,
   "id": "e83b1305",
   "metadata": {
    "ExecuteTime": {
     "end_time": "2022-02-11T18:33:53.999165Z",
     "start_time": "2022-02-11T18:33:53.995431Z"
    }
   },
   "outputs": [],
   "source": [
    "assert a.dtype == float"
   ]
  },
  {
   "cell_type": "code",
   "execution_count": 23,
   "id": "30c53f5a",
   "metadata": {
    "ExecuteTime": {
     "end_time": "2022-02-11T18:43:21.062311Z",
     "start_time": "2022-02-11T18:43:21.055284Z"
    }
   },
   "outputs": [
    {
     "data": {
      "text/plain": [
       "dtype('int64')"
      ]
     },
     "execution_count": 23,
     "metadata": {},
     "output_type": "execute_result"
    }
   ],
   "source": [
    "a = np.array([1, 2])\n",
    "a.dtype"
   ]
  },
  {
   "cell_type": "code",
   "execution_count": 37,
   "id": "d1265a12",
   "metadata": {
    "ExecuteTime": {
     "end_time": "2022-02-11T18:46:25.820735Z",
     "start_time": "2022-02-11T18:46:25.813079Z"
    }
   },
   "outputs": [
    {
     "data": {
      "text/plain": [
       "dtype('int64')"
      ]
     },
     "execution_count": 37,
     "metadata": {},
     "output_type": "execute_result"
    }
   ],
   "source": [
    "a = np.array([1, 2], int)\n",
    "a[0].dtype"
   ]
  },
  {
   "cell_type": "code",
   "execution_count": 28,
   "id": "bfdfe990",
   "metadata": {
    "ExecuteTime": {
     "end_time": "2022-02-11T18:44:20.364444Z",
     "start_time": "2022-02-11T18:44:20.358569Z"
    }
   },
   "outputs": [
    {
     "data": {
      "text/plain": [
       "False"
      ]
     },
     "execution_count": 28,
     "metadata": {},
     "output_type": "execute_result"
    }
   ],
   "source": [
    "type(1) == type(a[0])"
   ]
  },
  {
   "cell_type": "code",
   "execution_count": 29,
   "id": "72f04e47",
   "metadata": {
    "ExecuteTime": {
     "end_time": "2022-02-11T18:44:26.836360Z",
     "start_time": "2022-02-11T18:44:26.832163Z"
    }
   },
   "outputs": [
    {
     "data": {
      "text/plain": [
       "numpy.int64"
      ]
     },
     "execution_count": 29,
     "metadata": {},
     "output_type": "execute_result"
    }
   ],
   "source": [
    "type(a[0])"
   ]
  },
  {
   "cell_type": "code",
   "execution_count": 41,
   "id": "fee13d8a",
   "metadata": {
    "ExecuteTime": {
     "end_time": "2022-02-11T18:49:18.071787Z",
     "start_time": "2022-02-11T18:49:18.065585Z"
    }
   },
   "outputs": [
    {
     "data": {
      "text/plain": [
       "True"
      ]
     },
     "execution_count": 41,
     "metadata": {},
     "output_type": "execute_result"
    }
   ],
   "source": [
    "isinstance(a[0], (int, np.int64, np.int32))"
   ]
  },
  {
   "cell_type": "code",
   "execution_count": 33,
   "id": "326b131e",
   "metadata": {
    "ExecuteTime": {
     "end_time": "2022-02-11T18:45:09.067811Z",
     "start_time": "2022-02-11T18:45:09.059452Z"
    }
   },
   "outputs": [
    {
     "data": {
      "text/plain": [
       "True"
      ]
     },
     "execution_count": 33,
     "metadata": {},
     "output_type": "execute_result"
    }
   ],
   "source": [
    "isinstance(1, int)"
   ]
  },
  {
   "cell_type": "code",
   "execution_count": null,
   "id": "f1b3ddb5",
   "metadata": {},
   "outputs": [],
   "source": []
  }
 ],
 "metadata": {
  "kernelspec": {
   "display_name": "skforecast",
   "language": "python",
   "name": "skforecast"
  },
  "language_info": {
   "codemirror_mode": {
    "name": "ipython",
    "version": 3
   },
   "file_extension": ".py",
   "mimetype": "text/x-python",
   "name": "python",
   "nbconvert_exporter": "python",
   "pygments_lexer": "ipython3",
   "version": "3.8.0"
  },
  "toc": {
   "base_numbering": 1,
   "nav_menu": {},
   "number_sections": true,
   "sideBar": true,
   "skip_h1_title": false,
   "title_cell": "Table of Contents",
   "title_sidebar": "Contents",
   "toc_cell": false,
   "toc_position": {},
   "toc_section_display": true,
   "toc_window_display": false
  },
  "varInspector": {
   "cols": {
    "lenName": 16,
    "lenType": 16,
    "lenVar": 40
   },
   "kernels_config": {
    "python": {
     "delete_cmd_postfix": "",
     "delete_cmd_prefix": "del ",
     "library": "var_list.py",
     "varRefreshCmd": "print(var_dic_list())"
    },
    "r": {
     "delete_cmd_postfix": ") ",
     "delete_cmd_prefix": "rm(",
     "library": "var_list.r",
     "varRefreshCmd": "cat(var_dic_list()) "
    }
   },
   "types_to_exclude": [
    "module",
    "function",
    "builtin_function_or_method",
    "instance",
    "_Feature"
   ],
   "window_display": false
  }
 },
 "nbformat": 4,
 "nbformat_minor": 5
}
