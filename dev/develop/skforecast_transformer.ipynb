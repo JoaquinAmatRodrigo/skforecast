{
 "cells": [
  {
   "cell_type": "markdown",
   "metadata": {},
   "source": [
    " "
   ]
  },
  {
   "cell_type": "code",
   "execution_count": 1,
   "metadata": {
    "ExecuteTime": {
     "end_time": "2022-08-01T09:57:24.604144Z",
     "start_time": "2022-08-01T09:57:24.565274Z"
    }
   },
   "outputs": [],
   "source": [
    "%load_ext autoreload\n",
    "%autoreload 2\n",
    "import sys\n",
    "from pathlib import Path\n",
    "sys.path.insert(1, str(Path.cwd().parent.parent))\n",
    "%config Completer.use_jedi = False"
   ]
  },
  {
   "cell_type": "code",
   "execution_count": 2,
   "metadata": {
    "ExecuteTime": {
     "end_time": "2022-08-01T09:57:28.097953Z",
     "start_time": "2022-08-01T09:57:25.524301Z"
    }
   },
   "outputs": [],
   "source": [
    "# Libraries\n",
    "# ==============================================================================\n",
    "import numpy as np\n",
    "import pandas as pd\n",
    "import matplotlib.pyplot as plt\n",
    "from sklearn.linear_model import LinearRegression\n",
    "\n",
    "from sklearn.pipeline import Pipeline\n",
    "from sklearn.compose import ColumnTransformer\n",
    "from sklearn.preprocessing import StandardScaler\n",
    "from sklearn.preprocessing import OneHotEncoder\n",
    "from sklearn.metrics import mean_squared_error\n",
    "\n",
    "from skforecast.ForecasterAutoreg import ForecasterAutoreg\n",
    "\n",
    "import warnings"
   ]
  },
  {
   "cell_type": "code",
   "execution_count": 13,
   "metadata": {},
   "outputs": [],
   "source": [
    "################################################################################\n",
    "#                            ForecasterAutoreg                                 #\n",
    "#                                                                              #\n",
    "# This work by Joaquin Amat Rodrigo and Javier Escobar Ortiz is licensed       #\n",
    "# under a Creative Commons Attribution 4.0 International License.              #\n",
    "################################################################################\n",
    "# coding=utf-8\n",
    "\n",
    "from typing import Union, Dict, List, Tuple, Any, Optional\n",
    "import warnings\n",
    "import logging\n",
    "import numpy as np\n",
    "import pandas as pd\n",
    "import sklearn\n",
    "import sklearn.pipeline\n",
    "from sklearn.base import clone\n",
    "from copy import copy\n",
    "\n",
    "import skforecast\n",
    "from skforecast.ForecasterBase import ForecasterBase\n",
    "from skforecast.utils import check_y\n",
    "from skforecast.utils import check_exog\n",
    "from skforecast.utils import preprocess_y\n",
    "from skforecast.utils import preprocess_last_window\n",
    "from skforecast.utils import preprocess_exog\n",
    "from skforecast.utils import expand_index\n",
    "from skforecast.utils import check_predict_input\n",
    "from skforecast.utils import transform_dataframe\n",
    "from skforecast.utils import transform_series\n",
    "\n",
    "logging.basicConfig(\n",
    "    format = '%(name)-10s %(levelname)-5s %(message)s', \n",
    "    level  = logging.INFO,\n",
    ")\n",
    "\n",
    "\n",
    "class ForecasterAutoreg(ForecasterBase):\n",
    "    '''\n",
    "    This class turns any regressor compatible with the scikit-learn API into a\n",
    "    recursive autoregressive (multi-step) forecaster.\n",
    "    \n",
    "    Parameters\n",
    "    ----------\n",
    "    regressor : regressor or pipeline compatible with the scikit-learn API\n",
    "        An instance of a regressor or pipeline compatible with the scikit-learn API.\n",
    "        \n",
    "    lags : int, list, 1d numpy ndarray, range\n",
    "        Lags used as predictors. Index starts at 1, so lag 1 is equal to t-1.\n",
    "            `int`: include lags from 1 to `lags` (included).\n",
    "            `list`, `numpy ndarray` or `range`: include only lags present in `lags`,\n",
    "            all elements must be int.\n",
    "\n",
    "    transformer_y : transformer (preprocessor) compatible with the scikit-learn\n",
    "                    preprocessing API, default `None`\n",
    "        An instance of a transformer (preprocessor) compatible with the scikit-learn\n",
    "        preprocessing API. The transformation is applied to `y` before training the\n",
    "        forecaster.\n",
    "\n",
    "    transformer_exog : transformer (preprocessor) compatible with the scikit-learn\n",
    "                       preprocessing API, default `None`\n",
    "        An instance of a transformer (preprocessor) compatible with the scikit-learn\n",
    "        preprocessing API. The transformation is applied to `exog` before training the\n",
    "        forecaster.\n",
    "\n",
    "    \n",
    "    Attributes\n",
    "    ----------\n",
    "    regressor : regressor or pipeline compatible with the scikit-learn API\n",
    "        An instance of a regressor or pipeline compatible with the scikit-learn API.\n",
    "        \n",
    "    lags : numpy ndarray\n",
    "        Lags used as predictors.\n",
    "\n",
    "    transformer_y : transformer (preprocessor) compatible with the scikit-learn\n",
    "                    preprocessing API, default `None`\n",
    "        An instance of a transformer (preprocessor) compatible with the scikit-learn\n",
    "        preprocessing API. The transformation is applied to `y` before training the\n",
    "        forecaster.\n",
    "\n",
    "    transformer_exog : transformer (preprocessor) compatible with the scikit-learn\n",
    "                    preprocessing API, default `None`\n",
    "        An instance of a transformer (preprocessor) compatible with the scikit-learn\n",
    "        preprocessing API. The transformation is applied to `exog` before training the\n",
    "        forecaster.\n",
    "        \n",
    "    max_lag : int\n",
    "        Maximum value of lag included in `lags`.\n",
    "\n",
    "    last_window : pandas Series\n",
    "        Last window the forecaster has seen during trained. It stores the\n",
    "        values needed to predict the next `step` right after the training data.\n",
    "        \n",
    "    window_size: int\n",
    "        Size of the window needed to create the predictors. It is equal to\n",
    "        `max_lag`.\n",
    "        \n",
    "    fitted: Bool\n",
    "        Tag to identify if the regressor has been fitted (trained).\n",
    "        \n",
    "    index_type : type\n",
    "        Type of index of the input used in training.\n",
    "        \n",
    "    index_freq : str\n",
    "        Frequency of Index of the input used in training.\n",
    "        \n",
    "    training_range: pandas Index\n",
    "        First and last values of index of the data used during training.\n",
    "        \n",
    "    included_exog : bool\n",
    "        If the forecaster has been trained using exogenous variable/s.\n",
    "        \n",
    "    exog_type : type\n",
    "        Type of exogenous variable/s used in training.\n",
    "        \n",
    "    exog_col_names : list\n",
    "        Names of columns of `exog` if `exog` used in training was a pandas\n",
    "        DataFrame.\n",
    "\n",
    "    X_train_col_names : list\n",
    "        Names of columns of the matrix created internally for training.\n",
    "        \n",
    "    in_sample_residuals: pandas Series\n",
    "        Residuals of the model when predicting training data. Only stored up to\n",
    "        1000 values.\n",
    "        \n",
    "    out_sample_residuals: pandas Series\n",
    "        Residuals of the model when predicting non training data. Only stored\n",
    "        up to 1000 values. Use `set_out_sample_residuals` to set values.\n",
    "\n",
    "    creation_date: str\n",
    "        Date of creation.\n",
    "\n",
    "    fit_date: str\n",
    "        Date of last fit.\n",
    "\n",
    "    skforcast_version: str\n",
    "        Version of skforecast library used to create the forecaster.\n",
    "     \n",
    "    '''\n",
    "    \n",
    "    def __init__(\n",
    "        self,\n",
    "        regressor,\n",
    "        lags: Union[int, np.ndarray, list],\n",
    "        transformer_y = None,\n",
    "        transformer_exog = None,\n",
    "    ) -> None:\n",
    "        \n",
    "        self.regressor            = regressor\n",
    "        self.transformer_y       = transformer_y\n",
    "        self.transformer_exog    = transformer_exog\n",
    "        self.index_type           = None\n",
    "        self.index_freq           = None\n",
    "        self.training_range       = None\n",
    "        self.last_window          = None\n",
    "        self.included_exog        = False\n",
    "        self.exog_type            = None\n",
    "        self.exog_col_names       = None\n",
    "        self.X_train_col_names    = None\n",
    "        self.in_sample_residuals  = None\n",
    "        self.out_sample_residuals = None\n",
    "        self.fitted               = False\n",
    "        self.creation_date        = pd.Timestamp.today().strftime('%Y-%m-%d %H:%M:%S')\n",
    "        self.fit_date             = None\n",
    "        self.skforcast_version    = skforecast.__version__\n",
    "        \n",
    "        if isinstance(lags, int) and lags < 1:\n",
    "            raise Exception('Minimum value of lags allowed is 1.')\n",
    "            \n",
    "        if isinstance(lags, (list, range, np.ndarray)) and min(lags) < 1:\n",
    "            raise Exception('Minimum value of lags allowed is 1.')\n",
    "\n",
    "        if isinstance(lags, (list, np.ndarray)):\n",
    "            for lag in lags:\n",
    "                if not isinstance(lag, (int, np.int64, np.int32)):\n",
    "                    raise Exception('Values in lags must be int.')\n",
    "            \n",
    "        if isinstance(lags, int):\n",
    "            self.lags = np.arange(lags) + 1\n",
    "        elif isinstance(lags, (list, range)):\n",
    "            self.lags = np.array(lags)\n",
    "        elif isinstance(lags, np.ndarray):\n",
    "            self.lags = lags\n",
    "        else:\n",
    "            raise Exception(\n",
    "                '`lags` argument must be int, 1d numpy ndarray, range or list. '\n",
    "                f\"Got {type(lags)}\"\n",
    "            )\n",
    "            \n",
    "        self.max_lag  = max(self.lags)\n",
    "        self.window_size = self.max_lag\n",
    "\n",
    "\n",
    "    def __repr__(self) -> str:\n",
    "        '''\n",
    "        Information displayed when a ForecasterAutoreg object is printed.\n",
    "        '''\n",
    "\n",
    "        if isinstance(self.regressor, sklearn.pipeline.Pipeline):\n",
    "            name_pipe_steps = tuple(name + \"__\" for name in self.regressor.named_steps.keys())\n",
    "            params = {key : value for key, value in self.regressor.get_params().items() \\\n",
    "                     if key.startswith(name_pipe_steps)}\n",
    "        else:\n",
    "            params = self.regressor.get_params()\n",
    "\n",
    "        info = (\n",
    "            f\"{'=' * len(str(type(self)).split('.')[1])} \\n\"\n",
    "            f\"{str(type(self)).split('.')[1]} \\n\"\n",
    "            f\"{'=' * len(str(type(self)).split('.')[1])} \\n\"\n",
    "            f\"Regressor: {self.regressor} \\n\"\n",
    "            f\"Lags: {self.lags} \\n\"\n",
    "            f\"Transformer fo y: {self.transformer_y} \\n\"\n",
    "            f\"Transformer fo exog: {self.transformer_exog} \\n\"\n",
    "            f\"Window size: {self.window_size} \\n\"\n",
    "            f\"Included exogenous: {self.included_exog} \\n\"\n",
    "            f\"Type of exogenous variable: {self.exog_type} \\n\"\n",
    "            f\"Exogenous variables names: {self.exog_col_names} \\n\"\n",
    "            f\"Training range: {self.training_range.to_list() if self.fitted else None} \\n\"\n",
    "            f\"Training index type: {str(self.index_type).split('.')[-1][:-2] if self.fitted else None} \\n\"\n",
    "            f\"Training index frequency: {self.index_freq if self.fitted else None} \\n\"\n",
    "            f\"Regressor parameters: {params} \\n\"\n",
    "            f\"Creation date: {self.creation_date} \\n\"\n",
    "            f\"Last fit date: {self.fit_date} \\n\"\n",
    "            f\"Skforecast version: {self.skforcast_version} \\n\"\n",
    "        )\n",
    "\n",
    "        return info\n",
    "\n",
    "    \n",
    "    def _create_lags(self, y: np.ndarray) -> Tuple[np.ndarray, np.ndarray]:\n",
    "        '''       \n",
    "        Transforms a 1d array into a 2d array (X) and a 1d array (y). Each row\n",
    "        in X is associated with a value of y and it represents the lags that\n",
    "        precede it.\n",
    "        \n",
    "        Notice that, the returned matrix X_data, contains the lag 1 in the first\n",
    "        column, the lag 2 in the second column and so on.\n",
    "        \n",
    "        Parameters\n",
    "        ----------        \n",
    "        y : 1d numpy ndarray\n",
    "            Training time series.\n",
    "\n",
    "        Returns \n",
    "        -------\n",
    "        X_data : 2d numpy ndarray, shape (samples - max(self.lags), len(self.lags))\n",
    "            2d numpy array with the lagged values (predictors).\n",
    "        \n",
    "        y_data : 1d np.ndarray, shape (samples - max(self.lags),)\n",
    "            Values of the time series related to each row of `X_data`.\n",
    "            \n",
    "        '''\n",
    "          \n",
    "        n_splits = len(y) - self.max_lag\n",
    "        X_data   = np.full(shape=(n_splits, self.max_lag), fill_value=np.nan, dtype=float)\n",
    "        y_data   = np.full(shape=(n_splits, 1), fill_value=np.nan, dtype=float)\n",
    "\n",
    "        for i in range(n_splits):\n",
    "            X_index = np.arange(i, self.max_lag + i)\n",
    "            y_index = [self.max_lag + i]\n",
    "            X_data[i, :] = y[X_index]\n",
    "            y_data[i]    = y[y_index]\n",
    "            \n",
    "        X_data = X_data[:, -self.lags] # Only keep needed lags\n",
    "        y_data = y_data.ravel()\n",
    "            \n",
    "        return X_data, y_data\n",
    "\n",
    "\n",
    "    def create_train_X_y(\n",
    "        self,\n",
    "        y: pd.Series,\n",
    "        exog: Optional[Union[pd.Series, pd.DataFrame]]=None\n",
    "    ) -> Tuple[pd.DataFrame, pd.Series]:\n",
    "        '''\n",
    "        Create training matrices from univariate time series and exogenous\n",
    "        variables.\n",
    "        \n",
    "        Parameters\n",
    "        ----------        \n",
    "        y : pandas Series\n",
    "            Training time series.\n",
    "            \n",
    "        exog : pandas Series, pandas DataFrame, default `None`\n",
    "            Exogenous variable/s included as predictor/s. Must have the same\n",
    "            number of observations as `y` and their indexes must be aligned.\n",
    "\n",
    "        Returns \n",
    "        -------\n",
    "        X_train : pandas DataFrame, shape (len(y) - self.max_lag, len(self.lags))\n",
    "            Pandas DataFrame with the training values (predictors).\n",
    "            \n",
    "        y_train : pandas Series, shape (len(y) - self.max_lag, )\n",
    "            Values (target) of the time series related to each row of `X_train`.\n",
    "        \n",
    "        '''\n",
    "        \n",
    "        check_y(y=y)\n",
    "        y = transform_series(\n",
    "                series            = y,\n",
    "                transformer       = self.transformer_y,\n",
    "                fit               = True,\n",
    "                inverse_transform = False\n",
    "            )\n",
    "        y_values, y_index = preprocess_y(y=y)\n",
    "        \n",
    "        if exog is not None:\n",
    "            if len(exog) != len(y):\n",
    "                raise Exception(\n",
    "                    \"`exog` must have same number of samples as `y`.\"\n",
    "                )\n",
    "            check_exog(exog=exog)\n",
    "            if isinstance(exog, pd.Series):\n",
    "                exog = transform_series(\n",
    "                            series            = exog,\n",
    "                            transformer       = self.transformer_exog,\n",
    "                            fit               = True,\n",
    "                            inverse_transform = False\n",
    "                        )\n",
    "            else:\n",
    "                exog = transform_dataframe(\n",
    "                            df                = exog,\n",
    "                            transformer       = self.transformer_exog,\n",
    "                            fit               = True,\n",
    "                            inverse_transform = False\n",
    "                        )\n",
    "            exog_values, exog_index = preprocess_exog(exog=exog)\n",
    "            \n",
    "            if not (exog_index[:len(y_index)] == y_index).all():\n",
    "                raise Exception(\n",
    "                ('Different index for `y` and `exog`. They must be equal '\n",
    "                'to ensure the correct alignment of values.')      \n",
    "                )\n",
    "        \n",
    "        X_train, y_train = self._create_lags(y=y_values)\n",
    "        X_train_col_names = [f\"lag_{i}\" for i in self.lags]\n",
    "        if exog is not None:\n",
    "            col_names_exog = exog.columns if isinstance(exog, pd.DataFrame) else [exog.name]\n",
    "            X_train_col_names.extend(col_names_exog)\n",
    "            # The first `self.max_lag` positions have to be removed from exog\n",
    "            # since they are not in X_train.\n",
    "            X_train = np.column_stack((X_train, exog_values[self.max_lag:, ]))\n",
    "\n",
    "        X_train = pd.DataFrame(\n",
    "                    data    = X_train,\n",
    "                    columns = X_train_col_names,\n",
    "                    index   = y_index[self.max_lag: ]\n",
    "                  )\n",
    "        self.X_train_col_names = X_train_col_names\n",
    "        y_train = pd.Series(\n",
    "                    data  = y_train,\n",
    "                    index = y_index[self.max_lag: ],\n",
    "                    name  = 'y'\n",
    "                 )\n",
    "                        \n",
    "        return X_train, y_train\n",
    "\n",
    "        \n",
    "    def fit(\n",
    "        self,\n",
    "        y: pd.Series,\n",
    "        exog: Optional[Union[pd.Series, pd.DataFrame]]=None\n",
    "    ) -> None:\n",
    "        '''\n",
    "        Training Forecaster.\n",
    "        \n",
    "        Parameters\n",
    "        ----------        \n",
    "        y : pandas Series\n",
    "            Training time series.\n",
    "            \n",
    "        exog : pandas Series, pandas DataFrame, default `None`\n",
    "            Exogenous variable/s included as predictor/s. Must have the same\n",
    "            number of observations as `y` and their indexes must be aligned so\n",
    "            that y[i] is regressed on exog[i].\n",
    "\n",
    "\n",
    "        Returns \n",
    "        -------\n",
    "        None\n",
    "        \n",
    "        '''\n",
    "        \n",
    "        # Reset values in case the forecaster has already been fitted.\n",
    "        self.index_type           = None\n",
    "        self.index_freq           = None\n",
    "        self.last_window          = None\n",
    "        self.included_exog        = False\n",
    "        self.exog_type            = None\n",
    "        self.exog_col_names       = None\n",
    "        self.X_train_col_names    = None\n",
    "        self.in_sample_residuals  = None\n",
    "        self.fitted               = False\n",
    "        self.training_range       = None\n",
    "        \n",
    "        if exog is not None:\n",
    "            self.included_exog = True\n",
    "            self.exog_type = type(exog)\n",
    "            self.exog_col_names = \\\n",
    "                 exog.columns.to_list() if isinstance(exog, pd.DataFrame) else exog.name\n",
    "\n",
    "        X_train, y_train = self.create_train_X_y(y=y, exog=exog)\n",
    "\n",
    "        if not str(type(self.regressor)) == \"<class 'xgboost.sklearn.XGBRegressor'>\":\n",
    "            self.regressor.fit(X=X_train, y=y_train)\n",
    "        else:\n",
    "            self.regressor.fit(X=X_train.to_numpy(), y=y_train.to_numpy())\n",
    "        self.fitted = True\n",
    "        self.fit_date = pd.Timestamp.today().strftime('%Y-%m-%d %H:%M:%S')\n",
    "        self.training_range = preprocess_y(y=y)[1][[0, -1]]\n",
    "        self.index_type = type(X_train.index)\n",
    "        if isinstance(X_train.index, pd.DatetimeIndex):\n",
    "            self.index_freq = X_train.index.freqstr\n",
    "        else: \n",
    "            self.index_freq = X_train.index.step\n",
    "\n",
    "        if not str(type(self.regressor)) == \"<class 'xgboost.sklearn.XGBRegressor'>\":\n",
    "            residuals = y_train - self.regressor.predict(X_train)\n",
    "        else:\n",
    "            residuals = y_train - self.regressor.predict(X_train.to_numpy())\n",
    "\n",
    "        residuals = pd.Series(\n",
    "                        data  = residuals,\n",
    "                        index = y_train.index,\n",
    "                        name  = 'in_sample_residuals'\n",
    "                    )\n",
    "\n",
    "        if len(residuals) > 1000:\n",
    "            # Only up to 1000 residuals are stored\n",
    "            residuals = residuals.sample(n=1000, random_state=123, replace=False)\n",
    "                                                  \n",
    "        self.in_sample_residuals = residuals\n",
    "        \n",
    "        # The last time window of training data is stored so that lags needed as\n",
    "        # predictors in the first iteration of `predict()` can be calculated.\n",
    "        self.last_window = y.iloc[-self.max_lag:].copy()\n",
    "    \n",
    "\n",
    "    def _recursive_predict(\n",
    "        self,\n",
    "        steps: int,\n",
    "        last_window: np.array,\n",
    "        exog: np.array\n",
    "    ) -> pd.Series:\n",
    "        '''\n",
    "        Predict n steps ahead. It is an iterative process in which, each prediction,\n",
    "        is used as a predictor for the next step.\n",
    "        \n",
    "        Parameters\n",
    "        ----------\n",
    "        steps : int\n",
    "            Number of future steps predicted.\n",
    "            \n",
    "        last_window : numpy ndarray\n",
    "            Values of the series used to create the predictors (lags) need in the \n",
    "            first iteration of prediction (t + 1).\n",
    "            \n",
    "        exog : numpy ndarray, pandas DataFrame\n",
    "            Exogenous variable/s included as predictor/s.\n",
    "\n",
    "        Returns \n",
    "        -------\n",
    "        predictions : numpy ndarray\n",
    "            Predicted values.\n",
    "            \n",
    "        '''\n",
    "\n",
    "        predictions = np.full(shape=steps, fill_value=np.nan)\n",
    "\n",
    "        for i in range(steps):\n",
    "            X = last_window[-self.lags].reshape(1, -1)\n",
    "            if exog is not None:\n",
    "                X = np.column_stack((X, exog[i, ].reshape(1, -1)))\n",
    "\n",
    "            with warnings.catch_warnings():\n",
    "                # Suppress scikitlearn warning: \"X does not have valid feature names,\n",
    "                # but NoOpTransformer was fitted with feature names\".\n",
    "                warnings.simplefilter(\"ignore\")\n",
    "                prediction = self.regressor.predict(X)\n",
    "                predictions[i] = prediction.ravel()[0]\n",
    "\n",
    "            # Update `last_window` values. The first position is discarded and \n",
    "            # the new prediction is added at the end.\n",
    "            last_window = np.append(last_window[1:], prediction)\n",
    "\n",
    "        return predictions\n",
    "\n",
    "            \n",
    "    def predict(\n",
    "        self,\n",
    "        steps: int,\n",
    "        last_window: Optional[pd.Series]=None,\n",
    "        exog: Optional[Union[pd.Series, pd.DataFrame]]=None\n",
    "    ) -> pd.Series:\n",
    "        '''\n",
    "        Predict n steps ahead. It is an recursive process in which, each prediction,\n",
    "        is used as a predictor for the next step.\n",
    "        \n",
    "        Parameters\n",
    "        ----------\n",
    "        steps : int\n",
    "            Number of future steps predicted.\n",
    "            \n",
    "        last_window : pandas Series, default `None`\n",
    "            Values of the series used to create the predictors (lags) need in the \n",
    "            first iteration of prediction (t + 1).\n",
    "    \n",
    "            If `last_window = None`, the values stored in` self.last_window` are\n",
    "            used to calculate the initial predictors, and the predictions start\n",
    "            right after training data.\n",
    "            \n",
    "        exog : pandas Series, pandas DataFrame, default `None`\n",
    "            Exogenous variable/s included as predictor/s.\n",
    "\n",
    "        Returns \n",
    "        -------\n",
    "        predictions : pandas Series\n",
    "            Predicted values.\n",
    "            \n",
    "        '''\n",
    "\n",
    "        check_predict_input(\n",
    "            forecaster_type = type(self),\n",
    "            steps           = steps,\n",
    "            fitted          = self.fitted,\n",
    "            included_exog   = self.included_exog,\n",
    "            index_type      = self.index_type,\n",
    "            index_freq      = self.index_freq,\n",
    "            window_size     = self.window_size,\n",
    "            last_window     = last_window,\n",
    "            exog            = exog,\n",
    "            exog_type       = self.exog_type,\n",
    "            exog_col_names  = self.exog_col_names,\n",
    "            max_steps       = None,\n",
    "        ) \n",
    "\n",
    "        if exog is not None:\n",
    "            if isinstance(exog, pd.DataFrame):\n",
    "                exog = transform_dataframe(\n",
    "                            df                = exog,\n",
    "                            transformer       = self.transformer_exog,\n",
    "                            fit               = False,\n",
    "                            inverse_transform = False\n",
    "                       )\n",
    "                exog_values, _ = preprocess_exog(\n",
    "                                    exog = exog.iloc[:steps, :]\n",
    "                                 )\n",
    "            else:\n",
    "                exog = transform_series(\n",
    "                            series            = exog,\n",
    "                            transformer       = self.transformer_exog,\n",
    "                            fit               = False,\n",
    "                            inverse_transform = False\n",
    "                       )\n",
    "                exog_values, _ = preprocess_exog(\n",
    "                                    exog = exog.iloc[:steps, ]\n",
    "                                 )\n",
    "        else:\n",
    "            exog_values = None\n",
    "            \n",
    "        if last_window is not None:\n",
    "            last_window = transform_series(\n",
    "                                series            = last_window,\n",
    "                                transformer       = self.transformer_y,\n",
    "                                fit               = False,\n",
    "                                inverse_transform = False\n",
    "                          )\n",
    "            last_window_values, last_window_index = preprocess_last_window(\n",
    "                                                        last_window = last_window\n",
    "                                                    )  \n",
    "        else:\n",
    "            last_window = transform_series(\n",
    "                                series            = self.last_window.copy(),\n",
    "                                transformer       = self.transformer_y,\n",
    "                                fit               = False,\n",
    "                                inverse_transform = False\n",
    "                          )\n",
    "            last_window_values, last_window_index = preprocess_last_window(\n",
    "                                                        last_window = last_window\n",
    "                                                    )\n",
    "            \n",
    "        predictions = self._recursive_predict(\n",
    "                        steps       = steps,\n",
    "                        last_window = copy(last_window_values),\n",
    "                        exog        = copy(exog_values)\n",
    "                      )\n",
    "\n",
    "        predictions = pd.Series(\n",
    "                        data  = predictions,\n",
    "                        index = expand_index(\n",
    "                                    index = last_window_index,\n",
    "                                    steps = steps\n",
    "                                ),\n",
    "                        name = 'pred'\n",
    "                      )\n",
    "\n",
    "        predictions = transform_series(\n",
    "                        series            = predictions,\n",
    "                        transformer       = self.transformer_y,\n",
    "                        fit               = False,\n",
    "                        inverse_transform = True\n",
    "                      )\n",
    "\n",
    "        return predictions\n",
    "    \n",
    "    \n",
    "    def _estimate_boot_interval(\n",
    "        self,\n",
    "        steps: int,\n",
    "        last_window: Optional[np.ndarray]=None,\n",
    "        exog: Optional[np.ndarray]=None,\n",
    "        interval: list=[5, 95],\n",
    "        n_boot: int=500,\n",
    "        random_state: int=123,\n",
    "        in_sample_residuals: bool=True\n",
    "    ) -> np.ndarray:\n",
    "        '''\n",
    "        Iterative process in which, each prediction, is used as a predictor\n",
    "        for the next step and bootstrapping is used to estimate prediction\n",
    "        intervals. This method only returns prediction intervals.\n",
    "        See predict_intervals() to calculate both, predictions and intervals.\n",
    "        \n",
    "        Parameters\n",
    "        ----------   \n",
    "        steps : int\n",
    "            Number of future steps predicted.\n",
    "            \n",
    "        last_window : 1d numpy ndarray shape (, max_lag), default `None`\n",
    "            Values of the series used to create the predictors (lags) needed in the \n",
    "            first iteration of prediction (t + 1).\n",
    "    \n",
    "            If `last_window = `None`, the values stored in` self.last_window` are\n",
    "            used to calculate the initial predictors, and the predictions start\n",
    "            right after training data.\n",
    "            \n",
    "        exog : numpy ndarray, default `None`\n",
    "            Exogenous variable/s included as predictor/s.\n",
    "            \n",
    "        n_boot: int, default `500`\n",
    "            Number of bootstrapping iterations used to estimate prediction\n",
    "            intervals.\n",
    "\n",
    "        random_state: int\n",
    "            Sets a seed to the random generator, so that boot intervals are always \n",
    "            deterministic.\n",
    "            \n",
    "        interval: list, default `[5, 95]`\n",
    "            Confidence of the prediction interval estimated. Sequence of percentiles\n",
    "            to compute, which must be between 0 and 100 inclusive.\n",
    "            \n",
    "        in_sample_residuals: bool, default `True`\n",
    "            If `True`, residuals from the training data are used as proxy of\n",
    "            prediction error to create prediction intervals. If `False`, out of\n",
    "            sample residuals are used. In the latter case, the user should have\n",
    "            calculated and stored the residuals within the forecaster (see\n",
    "            `set_out_sample_residuals()`).\n",
    "            \n",
    "\n",
    "        Returns \n",
    "        -------\n",
    "        prediction_interval : numpy ndarray, shape (steps, 2)\n",
    "            Interval estimated for each prediction by bootstrapping:\n",
    "                first column = lower bound of the interval.\n",
    "                second column= upper bound interval of the interval.\n",
    "\n",
    "        Notes\n",
    "        -----\n",
    "        More information about prediction intervals in forecasting:\n",
    "        https://otexts.com/fpp2/prediction-intervals.html\n",
    "        Forecasting: Principles and Practice (2nd ed) Rob J Hyndman and\n",
    "        George Athanasopoulos.\n",
    "            \n",
    "        '''\n",
    "        \n",
    "        if last_window is None:\n",
    "            last_window = self.last_window.values\n",
    "\n",
    "        boot_predictions = np.full(\n",
    "                                shape      = (steps, n_boot),\n",
    "                                fill_value = np.nan,\n",
    "                                dtype      = float\n",
    "                           )\n",
    "        rng = np.random.default_rng(seed=random_state)\n",
    "        seeds = rng.integers(low=0, high=10000, size=n_boot)\n",
    "\n",
    "        for i in range(n_boot):\n",
    "            # In each bootstraping iteration the initial last_window and exog \n",
    "            # need to be restored.\n",
    "            last_window_boot = last_window.copy()\n",
    "            if exog is not None:\n",
    "                exog_boot = exog.copy()\n",
    "            else:\n",
    "                exog_boot = None\n",
    " \n",
    "            if in_sample_residuals:\n",
    "                residuals = self.in_sample_residuals\n",
    "            else:\n",
    "                residuals = self.out_sample_residuals\n",
    "\n",
    "            rng = np.random.default_rng(seed=seeds[i])\n",
    "            sample_residuals = rng.choice(\n",
    "                                    a       = residuals,\n",
    "                                    size    = steps,\n",
    "                                    replace = True\n",
    "                               )\n",
    "\n",
    "            for step in range(steps):\n",
    "                prediction = self._recursive_predict(\n",
    "                                steps       = 1,\n",
    "                                last_window = last_window_boot,\n",
    "                                exog        = exog_boot \n",
    "                             )\n",
    "                \n",
    "                prediction_with_residual  = prediction + sample_residuals[step]\n",
    "                boot_predictions[step, i] = prediction_with_residual\n",
    "\n",
    "                last_window_boot = np.append(\n",
    "                                    last_window_boot[1:],\n",
    "                                    prediction_with_residual\n",
    "                                   )\n",
    "                \n",
    "                if exog is not None:\n",
    "                    exog_boot = exog_boot[1:]\n",
    "                            \n",
    "        prediction_interval = np.percentile(boot_predictions, q=interval, axis=1)\n",
    "        prediction_interval = prediction_interval.transpose()\n",
    "        \n",
    "        return prediction_interval\n",
    "    \n",
    "        \n",
    "    def predict_interval(\n",
    "        self,\n",
    "        steps: int,\n",
    "        last_window: Optional[pd.Series]=None,\n",
    "        exog: Optional[Union[pd.Series, pd.DataFrame]]=None,\n",
    "        interval: list=[5, 95],\n",
    "        n_boot: int=500,\n",
    "        random_state: int=123,\n",
    "        in_sample_residuals: bool=True\n",
    "    ) -> pd.DataFrame:\n",
    "        '''\n",
    "        Iterative process in which, each prediction, is used as a predictor\n",
    "        for the next step and bootstrapping is used to estimate prediction\n",
    "        intervals. Both, predictions and intervals, are returned.\n",
    "        \n",
    "        Parameters\n",
    "        ---------- \n",
    "        steps : int\n",
    "            Number of future steps predicted.\n",
    "            \n",
    "        last_window : pandas Series, default `None`\n",
    "            Values of the series used to create the predictors (lags) needed in the \n",
    "            first iteration of prediction (t + 1).\n",
    "    \n",
    "            If `last_window = None`, the values stored in` self.last_window` are\n",
    "            used to calculate the initial predictors, and the predictions start\n",
    "            right after training data.\n",
    "            \n",
    "        exog : pandas Series, pandas DataFrame, default `None`\n",
    "            Exogenous variable/s included as predictor/s.\n",
    "            \n",
    "        interval: list, default `[5, 95]`\n",
    "            Confidence of the prediction interval estimated. Sequence of percentiles\n",
    "            to compute, which must be between 0 and 100 inclusive.\n",
    "            \n",
    "        n_boot: int, default `500`\n",
    "            Number of bootstrapping iterations used to estimate prediction\n",
    "            intervals.\n",
    "\n",
    "        random_state: int, default 123\n",
    "            Sets a seed to the random generator, so that boot intervals are always \n",
    "            deterministic.\n",
    "            \n",
    "        in_sample_residuals: bool, default `True`\n",
    "            If `True`, residuals from the training data are used as proxy of\n",
    "            prediction error to create prediction intervals. If `False`, out of\n",
    "            sample residuals are used. In the latter case, the user should have\n",
    "            calculated and stored the residuals within the forecaster (see\n",
    "            `set_out_sample_residuals()`).\n",
    "\n",
    "        Returns \n",
    "        -------\n",
    "        predictions : pandas DataFrame\n",
    "            Values predicted by the forecaster and their estimated interval:\n",
    "                column pred = predictions.\n",
    "                column lower_bound = lower bound of the interval.\n",
    "                column upper_bound = upper bound interval of the interval.\n",
    "\n",
    "        Notes\n",
    "        -----\n",
    "        More information about prediction intervals in forecasting:\n",
    "        https://otexts.com/fpp2/prediction-intervals.html\n",
    "        Forecasting: Principles and Practice (2nd ed) Rob J Hyndman and\n",
    "        George Athanasopoulos.\n",
    "            \n",
    "        '''\n",
    "        \n",
    "        check_predict_input(\n",
    "            forecaster_type = type(self),\n",
    "            steps           = steps,\n",
    "            fitted          = self.fitted,\n",
    "            included_exog   = self.included_exog,\n",
    "            index_type      = self.index_type,\n",
    "            index_freq      = self.index_freq,\n",
    "            window_size     = self.window_size,\n",
    "            last_window     = last_window,\n",
    "            exog            = exog,\n",
    "            exog_type       = self.exog_type,\n",
    "            exog_col_names  = self.exog_col_names,\n",
    "            max_steps       = None,\n",
    "        ) \n",
    "        \n",
    "        if exog is not None:\n",
    "            if isinstance(exog, pd.DataFrame):\n",
    "                exog = transform_dataframe(\n",
    "                            df                = exog,\n",
    "                            transformer       = self.transformer_exog,\n",
    "                            fit               = False,\n",
    "                            inverse_transform = False\n",
    "                       )\n",
    "                exog_values, _ = preprocess_exog(\n",
    "                                    exog = exog.iloc[:steps, :]\n",
    "                                 )\n",
    "            else:\n",
    "                exog = transform_series(\n",
    "                            series            = exog,\n",
    "                            transformer       = self.transformer_exog,\n",
    "                            fit               = False,\n",
    "                            inverse_transform = False\n",
    "                       ) \n",
    "                exog_values, _ = preprocess_exog(\n",
    "                                    exog = exog.iloc[:steps, ]\n",
    "                                 )\n",
    "        else:\n",
    "            exog_values = None\n",
    "            \n",
    "        if last_window is not None:\n",
    "            last_window = transform_series(\n",
    "                                series            = last_window,\n",
    "                                transformer       = self.transformer_y,\n",
    "                                fit               = False,\n",
    "                                inverse_transform = False\n",
    "                          )\n",
    "            last_window_values, last_window_index = preprocess_last_window(\n",
    "                                                        last_window = last_window\n",
    "                                                    )  \n",
    "        else:\n",
    "            last_window = transform_series(\n",
    "                                series            = self.last_window.copy(),\n",
    "                                transformer       = self.transformer_y,\n",
    "                                fit               = False,\n",
    "                                inverse_transform = False\n",
    "                          )\n",
    "            last_window_values, last_window_index = preprocess_last_window(\n",
    "                                                        last_window = last_window\n",
    "                                                    )\n",
    "        \n",
    "        # Since during predict() `last_window_values` and `exog_values` are modified,\n",
    "        # the originals are stored to be used later.\n",
    "        last_window_values_original = last_window_values.copy()\n",
    "        if exog is not None:\n",
    "            exog_values_original = exog_values.copy()\n",
    "        else:\n",
    "            exog_values_original = None\n",
    "        \n",
    "        predictions = self._recursive_predict(\n",
    "                            steps       = steps,\n",
    "                            last_window = last_window_values,\n",
    "                            exog        = exog_values\n",
    "                      )\n",
    "\n",
    "        predictions_interval = self._estimate_boot_interval(\n",
    "                                    steps       = steps,\n",
    "                                    last_window = copy(last_window_values_original),\n",
    "                                    exog        = copy(exog_values_original),\n",
    "                                    interval    = interval,\n",
    "                                    n_boot      = n_boot,\n",
    "                                    random_state = random_state,\n",
    "                                    in_sample_residuals = in_sample_residuals\n",
    "                               )\n",
    "        \n",
    "        predictions = np.column_stack((predictions, predictions_interval))\n",
    "\n",
    "        predictions = pd.DataFrame(\n",
    "                        data = predictions,\n",
    "                        index = expand_index(\n",
    "                                    index = last_window_index,\n",
    "                                    steps = steps\n",
    "                                ),\n",
    "                        columns = ['pred', 'lower_bound', 'upper_bound']\n",
    "                      )\n",
    "\n",
    "        predictions = transform_dataframe(\n",
    "                            df                = predictions,\n",
    "                            transformer       = self.transformer_y,\n",
    "                            fit               = False,\n",
    "                            inverse_transform = True\n",
    "                       )\n",
    "\n",
    "        return predictions\n",
    "\n",
    "    \n",
    "    def set_params(self, **params: dict) -> None:\n",
    "        '''\n",
    "        Set new values to the parameters of the scikit learn model stored in the\n",
    "        ForecasterAutoreg.\n",
    "        \n",
    "        Parameters\n",
    "        ----------\n",
    "        params : dict\n",
    "            Parameters values.\n",
    "\n",
    "        Returns \n",
    "        -------\n",
    "        self\n",
    "        \n",
    "        '''\n",
    "        self.regressor = clone(self.regressor)\n",
    "        self.regressor.set_params(**params)\n",
    "        \n",
    "        \n",
    "    def set_lags(self, lags: Union[int, list, np.ndarray, range]) -> None:\n",
    "        '''      \n",
    "        Set new value to the attribute `lags`.\n",
    "        Attributes `max_lag` and `window_size` are also updated.\n",
    "        \n",
    "        Parameters\n",
    "        ----------\n",
    "        lags : int, list, 1D np.array, range\n",
    "            Lags used as predictors. Index starts at 1, so lag 1 is equal to t-1.\n",
    "                `int`: include lags from 1 to `lags`.\n",
    "                `list` or `np.array`: include only lags present in `lags`.\n",
    "\n",
    "        Returns \n",
    "        -------\n",
    "        None\n",
    "        \n",
    "        '''\n",
    "        \n",
    "        if isinstance(lags, int) and lags < 1:\n",
    "            raise Exception('min value of lags allowed is 1')\n",
    "            \n",
    "        if isinstance(lags, (list, range, np.ndarray)) and min(lags) < 1:\n",
    "            raise Exception('min value of lags allowed is 1')\n",
    "            \n",
    "        if isinstance(lags, int):\n",
    "            self.lags = np.arange(lags) + 1\n",
    "        elif isinstance(lags, (list, range)):\n",
    "            self.lags = np.array(lags)\n",
    "        elif isinstance(lags, np.ndarray):\n",
    "            self.lags = lags\n",
    "        else:\n",
    "            raise Exception(\n",
    "                f\"`lags` argument must be `int`, `1D np.ndarray`, `range` or `list`. \"\n",
    "                f\"Got {type(lags)}\"\n",
    "            )\n",
    "            \n",
    "        self.max_lag  = max(self.lags)\n",
    "        self.window_size = max(self.lags)\n",
    "        \n",
    "        \n",
    "    def set_out_sample_residuals(\n",
    "        self,\n",
    "        residuals: pd.Series,\n",
    "        append: bool=True,\n",
    "        transform=False\n",
    "    )-> None:\n",
    "        '''\n",
    "        Set new values to the attribute `out_sample_residuals`. Out of sample\n",
    "        residuals are meant to be calculated using observations that did not\n",
    "        participate in the training process. If a transformer is used on `y` during\n",
    "        the training, new residuals must be transformed (`transform=True`).\n",
    "        \n",
    "        Parameters\n",
    "        ----------\n",
    "        residuals : pd.Series\n",
    "            Values of residuals. If len(residuals) > 1000, only a random sample\n",
    "            of 1000 values are stored.\n",
    "            \n",
    "        append : bool, default `True`\n",
    "            If `True`, new residuals are added to the once already stored in the\n",
    "            attribute `out_sample_residuals`. Once the limit of 1000 values is\n",
    "            reached, no more values are appended. If False, `out_sample_residuals`\n",
    "            is overwritten with the new residuals.\n",
    "\n",
    "        transform : bool, default `True`\n",
    "            If `True`, new residuals are transformed using `self.transformer_y`.\n",
    "            \n",
    "        Returns \n",
    "        -------\n",
    "        self\n",
    "        '''\n",
    "\n",
    "        if not isinstance(residuals, pd.Series):\n",
    "            raise Exception(\n",
    "                f\"`residuals` argument must be `pd.Series`. Got {type(residuals)}\"\n",
    "            )\n",
    "\n",
    "        if transform and self.transformer_y is not None:\n",
    "            residuals = transform_series(\n",
    "                            series            = residuals,\n",
    "                            transformer       = self.transformer_y,\n",
    "                            fit               = False,\n",
    "                            inverse_transform = False\n",
    "                        ) \n",
    "\n",
    "        if len(residuals) > 1000:\n",
    "            rng = np.random.default_rng(seed=123)\n",
    "            residuals = rng.choice(a=residuals, size=1000, replace=False)\n",
    "            residuals = pd.Series(residuals)   \n",
    "      \n",
    "        if append and self.out_sample_residuals is not None:\n",
    "            free_space = max(0, 1000 - len(self.out_sample_residuals))\n",
    "            if len(residuals) < free_space:\n",
    "                residuals = np.hstack((\n",
    "                                self.out_sample_residuals,\n",
    "                                residuals\n",
    "                            ))\n",
    "            else:\n",
    "                residuals = np.hstack((\n",
    "                                self.out_sample_residuals,\n",
    "                                residuals[:free_space]\n",
    "                            ))\n",
    "\n",
    "        self.out_sample_residuals = pd.Series(residuals)\n",
    "\n",
    "    \n",
    "    def get_feature_importance(self) -> pd.DataFrame:\n",
    "        '''      \n",
    "        Return feature importance of the regressor stored in the\n",
    "        forecaster. Only valid when regressor stores internally the feature\n",
    "        importance in the attribute `feature_importances_` or `coef_`.\n",
    "\n",
    "        Parameters\n",
    "        ----------\n",
    "        self\n",
    "\n",
    "        Returns\n",
    "        -------\n",
    "        feature_importance : pandas DataFrame\n",
    "            Feature importance associated with each predictor.\n",
    "        '''\n",
    "\n",
    "        if isinstance(self.regressor, sklearn.pipeline.Pipeline):\n",
    "            estimator = self.regressor[-1]\n",
    "        else:\n",
    "            estimator = self.regressor\n",
    "\n",
    "        try:\n",
    "            feature_importance = pd.DataFrame({\n",
    "                                    'feature': self.X_train_col_names,\n",
    "                                    'importance' : estimator.feature_importances_\n",
    "                                })\n",
    "        except:   \n",
    "            try:\n",
    "                feature_importance = pd.DataFrame({\n",
    "                                        'feature': self.X_train_col_names,\n",
    "                                        'importance' : estimator.coef_\n",
    "                                    })\n",
    "            except:\n",
    "                warnings.warn(\n",
    "                    f\"Impossible to access feature importance for regressor of type {type(estimator)}. \"\n",
    "                    f\"This method is only valid when the regressor stores internally \"\n",
    "                    f\"the feature importance in the attribute `feature_importances_` \"\n",
    "                    f\"or `coef_`.\"\n",
    "                )\n",
    "\n",
    "                feature_importance = None\n",
    "\n",
    "        return feature_importance"
   ]
  },
  {
   "cell_type": "markdown",
   "metadata": {},
   "source": [
    "# Data"
   ]
  },
  {
   "cell_type": "code",
   "execution_count": 4,
   "metadata": {},
   "outputs": [
    {
     "data": {
      "image/png": "[encoded data removed]",
      "text/plain": [
       "<Figure size 648x288 with 1 Axes>"
      ]
     },
     "metadata": {
      "needs_background": "light"
     },
     "output_type": "display_data"
    }
   ],
   "source": [
    "# Download data\n",
    "# ==============================================================================\n",
    "url = ('https://raw.githubusercontent.com/JoaquinAmatRodrigo/skforecast/master/data/h2o_exog.csv')\n",
    "data = pd.read_csv(url, sep=',')\n",
    "\n",
    "# data preprocessing\n",
    "# ==============================================================================\n",
    "data['fecha'] = pd.to_datetime(data['fecha'], format='%Y/%m/%d')\n",
    "data = data.set_index('fecha')\n",
    "data = data.rename(columns={'x': 'y'})\n",
    "data = data.asfreq('MS')\n",
    "data = data.sort_index()\n",
    "data['exog_3'] = ([\"A\"] * int(len(data)/2)) + ([\"B\"] * (int(len(data)/2) +1))\n",
    "\n",
    "# Plot\n",
    "# ==============================================================================\n",
    "fig, ax=plt.subplots(figsize=(9, 4))\n",
    "data.plot(ax=ax);\n",
    "\n",
    "# Split train-test\n",
    "# ==============================================================================\n",
    "steps = 36\n",
    "data_train = data.iloc[:-steps, :]\n",
    "data_test  = data.iloc[-steps:, :]"
   ]
  },
  {
   "cell_type": "code",
   "execution_count": 5,
   "metadata": {},
   "outputs": [
    {
     "data": {
      "text/plain": [
       "2005-07-01    0.874336\n",
       "2005-08-01    1.006497\n",
       "2005-09-01    1.094736\n",
       "2005-10-01    1.027043\n",
       "Freq: MS, Name: pred, dtype: float64"
      ]
     },
     "execution_count": 5,
     "metadata": {},
     "output_type": "execute_result"
    }
   ],
   "source": [
    "transformer_exog = ColumnTransformer(\n",
    "                   [('scale', StandardScaler(), ['exog_1']),\n",
    "                    ('scale1', StandardScaler(), ['exog_2']),\n",
    "                    ('onehot', OneHotEncoder(), ['exog_3'])],\n",
    "                remainder='passthrough',\n",
    "                verbose_feature_names_out=False)\n",
    "\n",
    "forecaster = ForecasterAutoreg(lags=10, regressor=LinearRegression(), transformer_exog=transformer_exog)\n",
    "\n",
    "forecaster.fit(y=data_train.y, exog=data_train[['exog_1', 'exog_2', 'exog_3']])\n",
    "\n",
    "forecaster.predict(steps=4, exog=data_test[['exog_1', 'exog_2', 'exog_3']])"
   ]
  },
  {
   "cell_type": "code",
   "execution_count": 6,
   "metadata": {},
   "outputs": [
    {
     "data": {
      "text/html": [
       "<div>\n",
       "<style scoped>\n",
       "    .dataframe tbody tr th:only-of-type {\n",
       "        vertical-align: middle;\n",
       "    }\n",
       "\n",
       "    .dataframe tbody tr th {\n",
       "        vertical-align: top;\n",
       "    }\n",
       "\n",
       "    .dataframe thead th {\n",
       "        text-align: right;\n",
       "    }\n",
       "</style>\n",
       "<table border=\"1\" class=\"dataframe\">\n",
       "  <thead>\n",
       "    <tr style=\"text-align: right;\">\n",
       "      <th></th>\n",
       "      <th>pred</th>\n",
       "      <th>lower_bound</th>\n",
       "      <th>upper_bound</th>\n",
       "    </tr>\n",
       "  </thead>\n",
       "  <tbody>\n",
       "    <tr>\n",
       "      <th>2005-07-01</th>\n",
       "      <td>0.874336</td>\n",
       "      <td>0.874336</td>\n",
       "      <td>0.874336</td>\n",
       "    </tr>\n",
       "    <tr>\n",
       "      <th>2005-08-01</th>\n",
       "      <td>1.006497</td>\n",
       "      <td>1.006497</td>\n",
       "      <td>1.006497</td>\n",
       "    </tr>\n",
       "    <tr>\n",
       "      <th>2005-09-01</th>\n",
       "      <td>1.094736</td>\n",
       "      <td>1.094736</td>\n",
       "      <td>1.094736</td>\n",
       "    </tr>\n",
       "    <tr>\n",
       "      <th>2005-10-01</th>\n",
       "      <td>1.027043</td>\n",
       "      <td>1.027043</td>\n",
       "      <td>1.027043</td>\n",
       "    </tr>\n",
       "  </tbody>\n",
       "</table>\n",
       "</div>"
      ],
      "text/plain": [
       "                pred  lower_bound  upper_bound\n",
       "2005-07-01  0.874336     0.874336     0.874336\n",
       "2005-08-01  1.006497     1.006497     1.006497\n",
       "2005-09-01  1.094736     1.094736     1.094736\n",
       "2005-10-01  1.027043     1.027043     1.027043"
      ]
     },
     "execution_count": 6,
     "metadata": {},
     "output_type": "execute_result"
    }
   ],
   "source": [
    "forecaster.predict_interval(steps=4, exog=data_test[['exog_1', 'exog_2', 'exog_3']], n_boot=10)"
   ]
  },
  {
   "cell_type": "code",
   "execution_count": 32,
   "metadata": {},
   "outputs": [
    {
     "name": "stdout",
     "output_type": "stream",
     "text": [
      "Test error (mse): 8.455260440292051e-30\n"
     ]
    },
    {
     "data": {
      "image/png": "[encoded data removed]",
      "text/plain": [
       "<Figure size 648x288 with 1 Axes>"
      ]
     },
     "metadata": {
      "needs_background": "light"
     },
     "output_type": "display_data"
    }
   ],
   "source": [
    "# Create and fit forecaster\n",
    "# ==============================================================================\n",
    "forecaster.fit(y=data_train.y, exog=data_train[['exog_1', 'exog_2', 'exog_3']])\n",
    "\n",
    "# Predict\n",
    "# ==============================================================================\n",
    "steps = 36\n",
    "predictions = forecaster.predict(steps=steps, exog=data_test[['exog_1', 'exog_2', 'exog_3']])\n",
    "\n",
    "# Plot\n",
    "# ==============================================================================\n",
    "fig, ax=plt.subplots(figsize=(9, 4))\n",
    "data_train.y.plot(ax=ax, label='train')\n",
    "data_test.y.plot(ax=ax, label='test')\n",
    "predictions.plot(ax=ax, label='predictions')\n",
    "ax.legend();\n",
    "\n",
    "# Error prediction\n",
    "# ==============================================================================\n",
    "error_mse = mean_squared_error(\n",
    "                y_true = data_test.y,\n",
    "                y_pred = predictions\n",
    "            )\n",
    "print(f\"Test error (mse): {error_mse}\")"
   ]
  },
  {
   "cell_type": "code",
   "execution_count": null,
   "metadata": {},
   "outputs": [
    {
     "name": "stdout",
     "output_type": "stream",
     "text": [
      "Number of models compared: 12\n"
     ]
    },
    {
     "name": "stderr",
     "output_type": "stream",
     "text": [
      "loop lags_grid:   0%|                                               | 0/3 [00:00<?, ?it/s]\n",
      "loop param_grid:   0%|                                              | 0/4 [00:00<?, ?it/s]\u001b[A\n",
      "loop param_grid:  25%|█████████▌                            | 1/4 [00:00<00:01,  2.56it/s]\u001b[A\n",
      "loop param_grid:  50%|███████████████████                   | 2/4 [00:00<00:01,  1.93it/s]\u001b[A\n",
      "loop param_grid:  75%|████████████████████████████▌         | 3/4 [00:01<00:00,  1.84it/s]\u001b[A\n",
      "loop param_grid: 100%|██████████████████████████████████████| 4/4 [00:02<00:00,  1.47it/s]\u001b[A\n",
      "loop lags_grid:  33%|█████████████                          | 1/3 [00:02<00:04,  2.47s/it]\u001b[A\n",
      "loop param_grid:   0%|                                              | 0/4 [00:00<?, ?it/s]\u001b[A\n",
      "loop param_grid:  25%|█████████▌                            | 1/4 [00:00<00:01,  2.58it/s]\u001b[A\n",
      "loop param_grid:  50%|███████████████████                   | 2/4 [00:01<00:01,  1.60it/s]\u001b[A\n",
      "loop param_grid:  75%|████████████████████████████▌         | 3/4 [00:01<00:00,  2.00it/s]\u001b[A\n",
      "loop param_grid: 100%|██████████████████████████████████████| 4/4 [00:02<00:00,  1.83it/s]\u001b[A\n",
      "loop lags_grid:  67%|██████████████████████████             | 2/3 [00:04<00:02,  2.28s/it]\u001b[A\n",
      "loop param_grid:   0%|                                              | 0/4 [00:00<?, ?it/s]\u001b[A\n",
      "loop param_grid:  25%|█████████▌                            | 1/4 [00:00<00:01,  2.82it/s]\u001b[A\n",
      "loop param_grid:  50%|███████████████████                   | 2/4 [00:00<00:00,  2.00it/s]\u001b[A\n",
      "loop param_grid:  75%|████████████████████████████▌         | 3/4 [00:01<00:00,  2.30it/s]\u001b[A\n",
      "loop param_grid: 100%|██████████████████████████████████████| 4/4 [00:01<00:00,  1.99it/s]\u001b[A\n",
      "loop lags_grid: 100%|███████████████████████████████████████| 3/3 [00:06<00:00,  2.18s/it]\u001b[A\n"
     ]
    },
    {
     "data": {
      "text/html": [
       "<div>\n",
       "<style scoped>\n",
       "    .dataframe tbody tr th:only-of-type {\n",
       "        vertical-align: middle;\n",
       "    }\n",
       "\n",
       "    .dataframe tbody tr th {\n",
       "        vertical-align: top;\n",
       "    }\n",
       "\n",
       "    .dataframe thead th {\n",
       "        text-align: right;\n",
       "    }\n",
       "</style>\n",
       "<table border=\"1\" class=\"dataframe\">\n",
       "  <thead>\n",
       "    <tr style=\"text-align: right;\">\n",
       "      <th></th>\n",
       "      <th>lags</th>\n",
       "      <th>params</th>\n",
       "      <th>metric</th>\n",
       "      <th>randomforestregressor__max_depth</th>\n",
       "      <th>randomforestregressor__n_estimators</th>\n",
       "    </tr>\n",
       "  </thead>\n",
       "  <tbody>\n",
       "    <tr>\n",
       "      <th>8</th>\n",
       "      <td>[1, 2, 3, 20]</td>\n",
       "      <td>{'randomforestregressor__max_depth': 5, 'rando...</td>\n",
       "      <td>0.054931</td>\n",
       "      <td>5</td>\n",
       "      <td>50</td>\n",
       "    </tr>\n",
       "    <tr>\n",
       "      <th>10</th>\n",
       "      <td>[1, 2, 3, 20]</td>\n",
       "      <td>{'randomforestregressor__max_depth': 10, 'rand...</td>\n",
       "      <td>0.057604</td>\n",
       "      <td>10</td>\n",
       "      <td>50</td>\n",
       "    </tr>\n",
       "    <tr>\n",
       "      <th>4</th>\n",
       "      <td>[1, 2, 3, 4, 5, 6, 7, 8, 9, 10]</td>\n",
       "      <td>{'randomforestregressor__max_depth': 5, 'rando...</td>\n",
       "      <td>0.059934</td>\n",
       "      <td>5</td>\n",
       "      <td>50</td>\n",
       "    </tr>\n",
       "    <tr>\n",
       "      <th>9</th>\n",
       "      <td>[1, 2, 3, 20]</td>\n",
       "      <td>{'randomforestregressor__max_depth': 5, 'rando...</td>\n",
       "      <td>0.060493</td>\n",
       "      <td>5</td>\n",
       "      <td>100</td>\n",
       "    </tr>\n",
       "  </tbody>\n",
       "</table>\n",
       "</div>"
      ],
      "text/plain": [
       "                               lags  \\\n",
       "8                     [1, 2, 3, 20]   \n",
       "10                    [1, 2, 3, 20]   \n",
       "4   [1, 2, 3, 4, 5, 6, 7, 8, 9, 10]   \n",
       "9                     [1, 2, 3, 20]   \n",
       "\n",
       "                                               params    metric  \\\n",
       "8   {'randomforestregressor__max_depth': 5, 'rando...  0.054931   \n",
       "10  {'randomforestregressor__max_depth': 10, 'rand...  0.057604   \n",
       "4   {'randomforestregressor__max_depth': 5, 'rando...  0.059934   \n",
       "9   {'randomforestregressor__max_depth': 5, 'rando...  0.060493   \n",
       "\n",
       "    randomforestregressor__max_depth  randomforestregressor__n_estimators  \n",
       "8                                  5                                   50  \n",
       "10                                10                                   50  \n",
       "4                                  5                                   50  \n",
       "9                                  5                                  100  "
      ]
     },
     "execution_count": 14,
     "metadata": {},
     "output_type": "execute_result"
    }
   ],
   "source": [
    "# Grid search hiperparameters and lags\n",
    "# ==============================================================================\n",
    "forecaster = ForecasterAutoreg(\n",
    "                regressor= make_pipeline(StandardScaler(), RandomForestRegressor(random_state=123)),\n",
    "                lags=12\n",
    "             )\n",
    "\n",
    "# Regressor hiperparameters\n",
    "param_grid = {'randomforestregressor__n_estimators': [50, 100],\n",
    "              'randomforestregressor__max_depth': [5, 10]}\n",
    "\n",
    "# Lags used as predictors\n",
    "lags_grid = [3, 10, [1,2,3,20]]\n",
    "\n",
    "results_grid = grid_search_forecaster(\n",
    "                        forecaster  = forecaster,\n",
    "                        y           = data_train.y,\n",
    "                        exog        = data_train.exog_1,\n",
    "                        param_grid  = param_grid,\n",
    "                        lags_grid   = lags_grid,\n",
    "                        steps       = 10,\n",
    "                        metric      = 'mean_squared_error',\n",
    "                        refit       = False,\n",
    "                        initial_train_size = int(len(data_train)*0.5),\n",
    "                        return_best = False,\n",
    "                        verbose     = False\n",
    "                    )\n",
    "\n",
    "# Results grid Search\n",
    "# ==============================================================================\n",
    "results_grid.head(4)"
   ]
  },
  {
   "cell_type": "code",
   "execution_count": null,
   "metadata": {},
   "outputs": [
    {
     "name": "stdout",
     "output_type": "stream",
     "text": [
      "Information of backtesting process\n",
      "----------------------------------\n",
      "Number of observations used for initial training or as initial window: 86\n",
      "Number of observations used for backtesting: 109\n",
      "    Number of folds: 4\n",
      "    Number of steps per fold: 36\n",
      "    Last fold only includes 1 observations\n",
      "\n",
      "Data partition in fold: 0\n",
      "    Training:   1992-04-01 00:00:00 -- 1999-05-01 00:00:00\n",
      "    Validation: 1999-06-01 00:00:00 -- 2002-05-01 00:00:00\n",
      "Data partition in fold: 1\n",
      "    Training:   1992-04-01 00:00:00 -- 1999-05-01 00:00:00\n",
      "    Validation: 2002-06-01 00:00:00 -- 2005-05-01 00:00:00\n",
      "Data partition in fold: 2\n",
      "    Training:   1992-04-01 00:00:00 -- 1999-05-01 00:00:00\n",
      "    Validation: 2005-06-01 00:00:00 -- 2008-05-01 00:00:00\n",
      "Data partition in fold: 3\n",
      "    Training:   1992-04-01 00:00:00 -- 1999-05-01 00:00:00\n",
      "    Validation: 2008-06-01 00:00:00 -- 2008-06-01 00:00:00\n",
      "\n",
      "[6.21996921e-30]\n"
     ]
    }
   ],
   "source": [
    "# Backtesting\n",
    "# ==============================================================================\n",
    "steps = 36\n",
    "n_backtest = 36 * 3 + 1\n",
    "data_train = data[:-n_backtest]\n",
    "data_test  = data[-n_backtest:]\n",
    "\n",
    "forecaster = ForecasterAutoreg(regressor=LinearRegression(), lags=10)\n",
    "\n",
    "metrica, predicciones_backtest = backtesting_forecaster(\n",
    "    forecaster = forecaster,\n",
    "    y          = data.y,\n",
    "    exog       = data.exog_1,\n",
    "    initial_train_size = len(data_train),\n",
    "    steps      = steps,\n",
    "    metric     = 'mean_squared_error',\n",
    "    verbose    = True\n",
    ")\n",
    "\n",
    "print(metrica)"
   ]
  },
  {
   "cell_type": "code",
   "execution_count": null,
   "metadata": {},
   "outputs": [
    {
     "data": {
      "text/plain": [
       "True"
      ]
     },
     "execution_count": 16,
     "metadata": {},
     "output_type": "execute_result"
    }
   ],
   "source": [
    "# Verificar predicciones de backtesting\n",
    "forecaster.fit(y=data_train.y, exog=data_train.exog_1)\n",
    "predictions_1 = forecaster.predict(steps=steps, exog=data_test.exog_1[:steps])\n",
    "predictions_2 = forecaster.predict(steps=steps, last_window=data_test.y[:steps], exog=data_test.exog_1[steps:steps*2])\n",
    "predictions_3 = forecaster.predict(steps=steps, last_window=data_test.y[steps:steps*2], exog=data_test.exog_1[steps*2:steps*3])\n",
    "predictions_4 = forecaster.predict(steps=1, last_window=data_test.y[steps*2:steps*3], exog=data_test.exog_1[steps*3:steps*4])\n",
    "np.allclose(predicciones_backtest['pred'], np.concatenate([predictions_1, predictions_2, predictions_3, predictions_4]))"
   ]
  },
  {
   "cell_type": "markdown",
   "metadata": {
    "tags": []
   },
   "source": [
    "# ForecasterAutoreg with multiple exogenous variables"
   ]
  },
  {
   "cell_type": "code",
   "execution_count": null,
   "metadata": {},
   "outputs": [],
   "source": [
    "# Split train-test\n",
    "# ==============================================================================\n",
    "steps = 36\n",
    "data_train = data.iloc[:-steps, :]\n",
    "data_test  = data.iloc[-steps:, :]"
   ]
  },
  {
   "cell_type": "code",
   "execution_count": null,
   "metadata": {},
   "outputs": [
    {
     "data": {
      "text/plain": [
       "================= \n",
       "ForecasterAutoreg \n",
       "================= \n",
       "Regressor: LinearRegression() \n",
       "Lags: [1 2] \n",
       "Window size: 2 \n",
       "Included exogenous: True \n",
       "Type of exogenous variable: <class 'pandas.core.frame.DataFrame'> \n",
       "Exogenous variables names: ['exog_1', 'exog_2'] \n",
       "Training range: [Timestamp('1992-04-01 00:00:00'), Timestamp('2005-06-01 00:00:00')] \n",
       "Training index type: DatetimeIndex \n",
       "Training index frequency: MS \n",
       "Regressor parameters: {'copy_X': True, 'fit_intercept': True, 'n_jobs': None, 'normalize': 'deprecated', 'positive': False} \n",
       "Creation date: 2022-01-02 13:28:53 \n",
       "Last fit date: 2022-01-02 13:28:53 \n",
       "Skforecast version: 0.4.2 "
      ]
     },
     "execution_count": 18,
     "metadata": {},
     "output_type": "execute_result"
    }
   ],
   "source": [
    "# Create and fit forecaster\n",
    "# ==============================================================================\n",
    "forecaster = ForecasterAutoreg(\n",
    "                    regressor = LinearRegression(),\n",
    "                    lags      = 2\n",
    "             )\n",
    "\n",
    "forecaster.fit(y=data_train.y, exog=data_train[['exog_1', 'exog_2']])\n",
    "\n",
    "forecaster"
   ]
  },
  {
   "cell_type": "code",
   "execution_count": null,
   "metadata": {},
   "outputs": [
    {
     "name": "stdout",
     "output_type": "stream",
     "text": [
      "Test error (mse): 0.030285034610348982\n"
     ]
    },
    {
     "data": {
      "image/png": "[encoded data removed]",
      "text/plain": [
       "<Figure size 648x288 with 1 Axes>"
      ]
     },
     "metadata": {
      "needs_background": "light"
     },
     "output_type": "display_data"
    }
   ],
   "source": [
    "# Predict\n",
    "# ==============================================================================\n",
    "steps = 36\n",
    "predictions = forecaster.predict(steps=steps, exog=data_test[['exog_1', 'exog_2']])\n",
    "\n",
    "# Plot\n",
    "# ==============================================================================\n",
    "fig, ax=plt.subplots(figsize=(9, 4))\n",
    "data_train.y.plot(ax=ax, label='train')\n",
    "data_test.y.plot(ax=ax, label='test')\n",
    "predictions.plot(ax=ax, label='predictions')\n",
    "ax.legend();\n",
    "\n",
    "# Error\n",
    "# ==============================================================================\n",
    "error_mse = mean_squared_error(\n",
    "                y_true = data_test.y,\n",
    "                y_pred = predictions\n",
    "            )\n",
    "print(f\"Test error (mse): {error_mse}\")"
   ]
  },
  {
   "cell_type": "code",
   "execution_count": null,
   "metadata": {},
   "outputs": [
    {
     "name": "stdout",
     "output_type": "stream",
     "text": [
      "Number of models compared: 12\n"
     ]
    },
    {
     "name": "stderr",
     "output_type": "stream",
     "text": [
      "loop lags_grid:   0%|                                               | 0/3 [00:00<?, ?it/s]\n",
      "loop param_grid:   0%|                                              | 0/4 [00:00<?, ?it/s]\u001b[A\n",
      "loop param_grid:  25%|█████████▌                            | 1/4 [00:00<00:01,  2.59it/s]\u001b[A\n",
      "loop param_grid:  50%|███████████████████                   | 2/4 [00:00<00:01,  1.95it/s]\u001b[A\n",
      "loop param_grid:  75%|████████████████████████████▌         | 3/4 [00:01<00:00,  2.30it/s]\u001b[A\n",
      "loop param_grid: 100%|██████████████████████████████████████| 4/4 [00:01<00:00,  1.99it/s]\u001b[A\n",
      "loop lags_grid:  33%|█████████████                          | 1/3 [00:01<00:03,  1.95s/it]\u001b[A\n",
      "loop param_grid:   0%|                                              | 0/4 [00:00<?, ?it/s]\u001b[A\n",
      "loop param_grid:  25%|█████████▌                            | 1/4 [00:00<00:01,  2.58it/s]\u001b[A\n",
      "loop param_grid:  50%|███████████████████                   | 2/4 [00:01<00:01,  1.51it/s]\u001b[A\n",
      "loop param_grid:  75%|████████████████████████████▌         | 3/4 [00:01<00:00,  1.84it/s]\u001b[A\n",
      "loop param_grid: 100%|██████████████████████████████████████| 4/4 [00:02<00:00,  1.59it/s]\u001b[A\n",
      "loop lags_grid:  67%|██████████████████████████             | 2/3 [00:04<00:02,  2.22s/it]\u001b[A\n",
      "loop param_grid:   0%|                                              | 0/4 [00:00<?, ?it/s]\u001b[A\n",
      "loop param_grid:  25%|█████████▌                            | 1/4 [00:00<00:01,  2.19it/s]\u001b[A\n",
      "loop param_grid:  50%|███████████████████                   | 2/4 [00:01<00:01,  1.61it/s]\u001b[A\n",
      "loop param_grid:  75%|████████████████████████████▌         | 3/4 [00:01<00:00,  1.76it/s]\u001b[A\n",
      "loop param_grid: 100%|██████████████████████████████████████| 4/4 [00:02<00:00,  1.67it/s]\u001b[A\n",
      "loop lags_grid: 100%|███████████████████████████████████████| 3/3 [00:06<00:00,  2.24s/it]\u001b[A"
     ]
    },
    {
     "name": "stdout",
     "output_type": "stream",
     "text": [
      "Refitting `forecaster` using the best found lags and parameters and the whole data set: \n",
      "  Lags: [ 1  2  3 20] \n",
      "  Parameters: {'max_depth': 5, 'n_estimators': 50}\n",
      "  Backtesting metric: 0.04157249499273814\n",
      "\n"
     ]
    },
    {
     "name": "stderr",
     "output_type": "stream",
     "text": [
      "\n"
     ]
    },
    {
     "data": {
      "text/html": [
       "<div>\n",
       "<style scoped>\n",
       "    .dataframe tbody tr th:only-of-type {\n",
       "        vertical-align: middle;\n",
       "    }\n",
       "\n",
       "    .dataframe tbody tr th {\n",
       "        vertical-align: top;\n",
       "    }\n",
       "\n",
       "    .dataframe thead th {\n",
       "        text-align: right;\n",
       "    }\n",
       "</style>\n",
       "<table border=\"1\" class=\"dataframe\">\n",
       "  <thead>\n",
       "    <tr style=\"text-align: right;\">\n",
       "      <th></th>\n",
       "      <th>lags</th>\n",
       "      <th>params</th>\n",
       "      <th>metric</th>\n",
       "      <th>max_depth</th>\n",
       "      <th>n_estimators</th>\n",
       "    </tr>\n",
       "  </thead>\n",
       "  <tbody>\n",
       "    <tr>\n",
       "      <th>8</th>\n",
       "      <td>[1, 2, 3, 20]</td>\n",
       "      <td>{'max_depth': 5, 'n_estimators': 50}</td>\n",
       "      <td>0.041572</td>\n",
       "      <td>5</td>\n",
       "      <td>50</td>\n",
       "    </tr>\n",
       "    <tr>\n",
       "      <th>10</th>\n",
       "      <td>[1, 2, 3, 20]</td>\n",
       "      <td>{'max_depth': 10, 'n_estimators': 50}</td>\n",
       "      <td>0.042374</td>\n",
       "      <td>10</td>\n",
       "      <td>50</td>\n",
       "    </tr>\n",
       "    <tr>\n",
       "      <th>9</th>\n",
       "      <td>[1, 2, 3, 20]</td>\n",
       "      <td>{'max_depth': 5, 'n_estimators': 100}</td>\n",
       "      <td>0.047357</td>\n",
       "      <td>5</td>\n",
       "      <td>100</td>\n",
       "    </tr>\n",
       "    <tr>\n",
       "      <th>11</th>\n",
       "      <td>[1, 2, 3, 20]</td>\n",
       "      <td>{'max_depth': 10, 'n_estimators': 100}</td>\n",
       "      <td>0.047655</td>\n",
       "      <td>10</td>\n",
       "      <td>100</td>\n",
       "    </tr>\n",
       "    <tr>\n",
       "      <th>3</th>\n",
       "      <td>[1, 2, 3]</td>\n",
       "      <td>{'max_depth': 10, 'n_estimators': 100}</td>\n",
       "      <td>0.049627</td>\n",
       "      <td>10</td>\n",
       "      <td>100</td>\n",
       "    </tr>\n",
       "    <tr>\n",
       "      <th>1</th>\n",
       "      <td>[1, 2, 3]</td>\n",
       "      <td>{'max_depth': 5, 'n_estimators': 100}</td>\n",
       "      <td>0.050294</td>\n",
       "      <td>5</td>\n",
       "      <td>100</td>\n",
       "    </tr>\n",
       "    <tr>\n",
       "      <th>4</th>\n",
       "      <td>[1, 2, 3, 4, 5, 6, 7, 8, 9, 10]</td>\n",
       "      <td>{'max_depth': 5, 'n_estimators': 50}</td>\n",
       "      <td>0.051669</td>\n",
       "      <td>5</td>\n",
       "      <td>50</td>\n",
       "    </tr>\n",
       "    <tr>\n",
       "      <th>0</th>\n",
       "      <td>[1, 2, 3]</td>\n",
       "      <td>{'max_depth': 5, 'n_estimators': 50}</td>\n",
       "      <td>0.052149</td>\n",
       "      <td>5</td>\n",
       "      <td>50</td>\n",
       "    </tr>\n",
       "    <tr>\n",
       "      <th>5</th>\n",
       "      <td>[1, 2, 3, 4, 5, 6, 7, 8, 9, 10]</td>\n",
       "      <td>{'max_depth': 5, 'n_estimators': 100}</td>\n",
       "      <td>0.052404</td>\n",
       "      <td>5</td>\n",
       "      <td>100</td>\n",
       "    </tr>\n",
       "    <tr>\n",
       "      <th>2</th>\n",
       "      <td>[1, 2, 3]</td>\n",
       "      <td>{'max_depth': 10, 'n_estimators': 50}</td>\n",
       "      <td>0.052786</td>\n",
       "      <td>10</td>\n",
       "      <td>50</td>\n",
       "    </tr>\n",
       "    <tr>\n",
       "      <th>7</th>\n",
       "      <td>[1, 2, 3, 4, 5, 6, 7, 8, 9, 10]</td>\n",
       "      <td>{'max_depth': 10, 'n_estimators': 100}</td>\n",
       "      <td>0.053234</td>\n",
       "      <td>10</td>\n",
       "      <td>100</td>\n",
       "    </tr>\n",
       "    <tr>\n",
       "      <th>6</th>\n",
       "      <td>[1, 2, 3, 4, 5, 6, 7, 8, 9, 10]</td>\n",
       "      <td>{'max_depth': 10, 'n_estimators': 50}</td>\n",
       "      <td>0.056936</td>\n",
       "      <td>10</td>\n",
       "      <td>50</td>\n",
       "    </tr>\n",
       "  </tbody>\n",
       "</table>\n",
       "</div>"
      ],
      "text/plain": [
       "                               lags                                  params  \\\n",
       "8                     [1, 2, 3, 20]    {'max_depth': 5, 'n_estimators': 50}   \n",
       "10                    [1, 2, 3, 20]   {'max_depth': 10, 'n_estimators': 50}   \n",
       "9                     [1, 2, 3, 20]   {'max_depth': 5, 'n_estimators': 100}   \n",
       "11                    [1, 2, 3, 20]  {'max_depth': 10, 'n_estimators': 100}   \n",
       "3                         [1, 2, 3]  {'max_depth': 10, 'n_estimators': 100}   \n",
       "1                         [1, 2, 3]   {'max_depth': 5, 'n_estimators': 100}   \n",
       "4   [1, 2, 3, 4, 5, 6, 7, 8, 9, 10]    {'max_depth': 5, 'n_estimators': 50}   \n",
       "0                         [1, 2, 3]    {'max_depth': 5, 'n_estimators': 50}   \n",
       "5   [1, 2, 3, 4, 5, 6, 7, 8, 9, 10]   {'max_depth': 5, 'n_estimators': 100}   \n",
       "2                         [1, 2, 3]   {'max_depth': 10, 'n_estimators': 50}   \n",
       "7   [1, 2, 3, 4, 5, 6, 7, 8, 9, 10]  {'max_depth': 10, 'n_estimators': 100}   \n",
       "6   [1, 2, 3, 4, 5, 6, 7, 8, 9, 10]   {'max_depth': 10, 'n_estimators': 50}   \n",
       "\n",
       "      metric  max_depth  n_estimators  \n",
       "8   0.041572          5            50  \n",
       "10  0.042374         10            50  \n",
       "9   0.047357          5           100  \n",
       "11  0.047655         10           100  \n",
       "3   0.049627         10           100  \n",
       "1   0.050294          5           100  \n",
       "4   0.051669          5            50  \n",
       "0   0.052149          5            50  \n",
       "5   0.052404          5           100  \n",
       "2   0.052786         10            50  \n",
       "7   0.053234         10           100  \n",
       "6   0.056936         10            50  "
      ]
     },
     "execution_count": 20,
     "metadata": {},
     "output_type": "execute_result"
    }
   ],
   "source": [
    "# Grid search hiperparameters and lags\n",
    "# ==============================================================================\n",
    "forecaster = ForecasterAutoreg(\n",
    "                regressor=RandomForestRegressor(random_state=123),\n",
    "                lags=12\n",
    "             )\n",
    "\n",
    "# Regressor hiperparameters\n",
    "param_grid = {'n_estimators': [50, 100],\n",
    "              'max_depth': [5, 10]}\n",
    "\n",
    "# Lags used as predictors\n",
    "lags_grid = [3, 10, [1,2,3,20]]\n",
    "\n",
    "results_grid = grid_search_forecaster(\n",
    "                        forecaster  = forecaster,\n",
    "                        y           = data_train['y'],\n",
    "                        exog        = data_train[['exog_1', 'exog_2']],\n",
    "                        param_grid  = param_grid,\n",
    "                        lags_grid   = lags_grid,\n",
    "                        steps       = 10,\n",
    "                        metric      = 'mean_squared_error',\n",
    "                        refit       = False,\n",
    "                        initial_train_size    = int(len(data_train)*0.5),\n",
    "                        return_best = True,\n",
    "                        verbose     = False\n",
    "                    )\n",
    "\n",
    "# Results grid Search\n",
    "# ==============================================================================\n",
    "results_grid"
   ]
  },
  {
   "cell_type": "markdown",
   "metadata": {},
   "source": [
    "# Unit Testing"
   ]
  },
  {
   "cell_type": "code",
   "execution_count": 10,
   "metadata": {},
   "outputs": [],
   "source": [
    "# Unit test transform_series\n",
    "# ==============================================================================\n",
    "import pytest\n",
    "from sklearn.pipeline import Pipeline\n",
    "from sklearn.compose import ColumnTransformer\n",
    "from sklearn.preprocessing import StandardScaler\n",
    "from sklearn.preprocessing import OneHotEncoder\n",
    "from skforecast.utils import transform_series\n",
    "from skforecast.utils import transform_dataframe\n",
    "\n",
    "\n",
    "def test_transform_series_when_transformer_is_None():\n",
    "    \"\"\"\n",
    "    Test the output of transform_series when transformer is None.\n",
    "    \"\"\"\n",
    "    input = pd.Series([1.16, -0.28, 0.07, 2.4, 0.25, -0.56, -1.42, 1.26, 1.78, -1.49])\n",
    "    expected = input\n",
    "    transformer = None\n",
    "    results =  transform_series(\n",
    "                    series = input,\n",
    "                    transformer = transformer,\n",
    "                    fit = True,\n",
    "                    inverse_transform = False\n",
    "                )\n",
    "    pd.testing.assert_series_equal(results, expected)\n",
    "\n",
    "\n",
    "def test_transform_series_when_transformer_is_StandardScaler():\n",
    "    \"\"\"\n",
    "    Test the output of transform_series when transformer is StandardScaler.\n",
    "    \"\"\"\n",
    "    input = pd.Series([1.16, -0.28, 0.07, 2.4, 0.25, -0.56, -1.42, 1.26, 1.78, -1.49],\n",
    "                      name = 'y')\n",
    "    expected = pd.Series([0.67596768, -0.47871021, -0.19805933,  1.67027365, -0.0537246,\n",
    "                         -0.70323091, -1.39283021,  0.75615365,  1.17312067, -1.44896038],\n",
    "                         name = 'y')\n",
    "    transformer = StandardScaler()\n",
    "    results =  transform_series(\n",
    "                    series = input,\n",
    "                    transformer = transformer,\n",
    "                    fit = True,\n",
    "                    inverse_transform = False\n",
    "                )\n",
    "    pd.testing.assert_series_equal(results, expected)\n",
    "\n",
    "def test_transform_series_when_transformer_is_StandardScaler_and_inverse_transform_is_True():\n",
    "    \"\"\"\n",
    "    Test the output of transform_series when transformer is StandardScaler.\n",
    "    \"\"\"\n",
    "    input_1 = pd.Series([1.16, -0.28, 0.07, 2.4, 0.25, -0.56, -1.42, 1.26, 1.78, -1.49],\n",
    "                      name = 'y')\n",
    "    transformer = StandardScaler()\n",
    "    transformer.fit(input_1.to_numpy().reshape(-1, 1))\n",
    "    input_2 = transformer.transform(input_1.to_numpy().reshape(-1, 1))\n",
    "    input_2 = pd.Series(input_2.flatten(), name= 'y')\n",
    "    expected = input_1\n",
    "    results =  transform_series(\n",
    "                    series = input_2,\n",
    "                    transformer = transformer,\n",
    "                    fit = False,\n",
    "                    inverse_transform = True\n",
    "                )\n",
    "    pd.testing.assert_series_equal(results, expected)\n",
    "\n",
    "\n",
    "def test_transform_dataframe_when_transformer_is_None():\n",
    "    \"\"\"\n",
    "    Test the output of transform_dataframe when transformer is None.\n",
    "    \"\"\"\n",
    "    input = pd.DataFrame({\n",
    "                'A': [1.16, -0.28, 0.07, 2.4, 0.25, -0.56, -1.42, 1.26, 1.78, -1.49],\n",
    "                'B': [7.5, 24.4, 60.3, 57.3, 50.7, 41.4, 87.2, 47.4,  2.7, 59.6]\n",
    "            })  \n",
    "    expected = input\n",
    "    transformer = None\n",
    "    results =  transform_dataframe(\n",
    "                    df = input,\n",
    "                    transformer = transformer,\n",
    "                    fit = True,\n",
    "                    inverse_transform = False\n",
    "                )\n",
    "    pd.testing.assert_frame_equal(results, expected)\n",
    "\n",
    "\n",
    "def test_transform_dataframe_when_transformer_is_StandardScaler():\n",
    "    \"\"\"\n",
    "    Test the output of transform_dataframe when transformer is StandardScaler.\n",
    "    \"\"\"\n",
    "    input = pd.DataFrame({\n",
    "                'A': [1.16, -0.28, 0.07, 2.4, 0.25, -0.56, -1.42, 1.26, 1.78, -1.49],\n",
    "                'B': [7.5, 24.4, 60.3, 57.3, 50.7, 41.4, 87.2, 47.4,  2.7, 59.6]\n",
    "            })\n",
    "    expected = pd.DataFrame({\n",
    "                'A': [0.67596768, -0.47871021, -0.19805933,  1.67027365, -0.0537246 ,\n",
    "                     -0.70323091, -1.39283021,  0.75615365,  1.17312067, -1.44896038],\n",
    "                'B': [-1.47939551, -0.79158852,  0.6694926 ,  0.54739669,  0.27878567,\n",
    "                      -0.09971166,  1.76428598,  0.14448017, -1.67474897,  0.64100356]\n",
    "            })\n",
    "    transformer = StandardScaler()\n",
    "    results =  transform_dataframe(\n",
    "                    df = input,\n",
    "                    transformer = transformer,\n",
    "                    fit = True,\n",
    "                    inverse_transform = False\n",
    "                )\n",
    "    pd.testing.assert_frame_equal(results, expected)\n",
    "\n",
    "\n",
    "def test_transform_dataframe_when_transformer_is_OneHotEncoder():\n",
    "    \"\"\"\n",
    "    Test the output of transform_dataframe when transformer is OneHotEncoder.\n",
    "    \"\"\"\n",
    "    input = pd.DataFrame({\n",
    "                'col_1': ['a', 'a', 'a', 'a', 'b','b','b','b'],\n",
    "                'col_2': ['a', 'a', 'a', 'a', 'b','b','b','b']\n",
    "            })\n",
    "    expected = pd.DataFrame({\n",
    "                    'col_1_a': [1., 1., 1., 1., 0., 0., 0., 0.],\n",
    "                    'col_1_b': [0., 0., 0., 0., 1., 1., 1., 1.],\n",
    "                    'col_2_a': [1., 1., 1., 1., 0., 0., 0., 0.],\n",
    "                    'col_2_b': [0., 0., 0., 0., 1., 1., 1., 1.]\n",
    "               })\n",
    "    transformer = OneHotEncoder()\n",
    "    results =  transform_dataframe(\n",
    "                    df = input,\n",
    "                    transformer = transformer,\n",
    "                    fit = True,\n",
    "                    inverse_transform = False\n",
    "                )\n",
    "    pd.testing.assert_frame_equal(results, expected)\n",
    "\n",
    "\n",
    "def test_transform_dataframe_when_transformer_is_ColumnTransformer():\n",
    "    \"\"\"\n",
    "    Test the output of transform_dataframe when transformer is ColumnTransformer.\n",
    "    \"\"\"\n",
    "    input = pd.DataFrame({\n",
    "                'col_1': [7.5, 24.4, 60.3, 57.3, 50.7, 41.4, 87.2, 47.4],\n",
    "                'col_2': ['a', 'a', 'a', 'a', 'b', 'b', 'b', 'b']\n",
    "            })\n",
    "    expected = pd.DataFrame({\n",
    "              'col_1': [-1.76425513, -1.00989936, 0.59254869, 0.45863938,\n",
    "                          0.1640389 , -0.25107995, 1.79326881, 0.01673866],\n",
    "              'col_2_a': [1., 1., 1., 1., 0., 0., 0., 0.],\n",
    "              'col_2_b': [0., 0., 0., 0., 1., 1., 1., 1.]\n",
    "           })\n",
    "    transformer = ColumnTransformer(\n",
    "                    [('scale', StandardScaler(), ['col_1']),\n",
    "                    ('onehot', OneHotEncoder(), ['col_2'])],\n",
    "                    remainder = 'passthrough',\n",
    "                    verbose_feature_names_out = False\n",
    "                  )\n",
    "    results =  transform_dataframe(\n",
    "                    df = input,\n",
    "                    transformer = transformer,\n",
    "                    fit = True,\n",
    "                    inverse_transform = False\n",
    "                )\n",
    "    pd.testing.assert_frame_equal(results, expected)\n",
    "\n",
    "\n",
    "def test_transform_dataframe_exception_when_transformer_is_ColumnTransformer_and_inverse_transform_in_true():\n",
    "    \"\"\"\n",
    "    Test that transform_dataframe raise exception when transformer is ColumnTransformer\n",
    "    ans argument inverse_transform is True.\n",
    "    \"\"\"\n",
    "    input = pd.DataFrame({\n",
    "                'col_1': [7.5, 24.4, 60.3, 57.3, 50.7, 41.4, 87.2, 47.4],\n",
    "                'col_2': ['a', 'a', 'a', 'a', 'b', 'b', 'b', 'b']\n",
    "            })\n",
    "    expected = pd.DataFrame({\n",
    "              'col_1': [-1.76425513, -1.00989936, 0.59254869, 0.45863938,\n",
    "                          0.1640389 , -0.25107995, 1.79326881, 0.01673866],\n",
    "              'col_2_a': [1., 1., 1., 1., 0., 0., 0., 0.],\n",
    "              'col_2_b': [0., 0., 0., 0., 1., 1., 1., 1.]\n",
    "           })\n",
    "    transformer = ColumnTransformer(\n",
    "                    [('scale', StandardScaler(), ['col_1']),\n",
    "                    ('onehot', OneHotEncoder(), ['col_2'])],\n",
    "                    remainder = 'passthrough',\n",
    "                    verbose_feature_names_out = False\n",
    "                  )\n",
    "    with pytest.raises(Exception):\n",
    "        results =  transform_dataframe(\n",
    "                        df = input,\n",
    "                        transformer = transformer,\n",
    "                        fit = True,\n",
    "                        inverse_transform = True\n",
    "                    )\n",
    "\n",
    "test_transform_series_when_transformer_is_None()\n",
    "test_transform_series_when_transformer_is_StandardScaler()\n",
    "test_transform_series_when_transformer_is_StandardScaler_and_inverse_transform_is_True()\n",
    "test_transform_dataframe_when_transformer_is_None()\n",
    "test_transform_dataframe_when_transformer_is_StandardScaler()\n",
    "test_transform_dataframe_when_transformer_is_OneHotEncoder()\n",
    "test_transform_dataframe_when_transformer_is_ColumnTransformer()\n",
    "test_transform_dataframe_exception_when_transformer_is_ColumnTransformer_and_inverse_transform_in_true()"
   ]
  },
  {
   "cell_type": "code",
   "execution_count": 94,
   "metadata": {},
   "outputs": [],
   "source": [
    "def test_create_train_X_y_output_when_exog_is_None_and_transformer_exog_is_not_None():\n",
    "    '''\n",
    "    Test the output of create_train_X_y when exog is None and transformer_exog\n",
    "    is not None.\n",
    "    '''\n",
    "\n",
    "    forecaster = ForecasterAutoreg(\n",
    "        regressor = LinearRegression(),\n",
    "        lags = 5,\n",
    "        transformer_exog = StandardScaler()\n",
    "    )\n",
    "\n",
    "    results = forecaster.create_train_X_y(y=pd.Series(np.arange(10)))\n",
    "    expected = (pd.DataFrame(\n",
    "                    data = np.array([[4., 3., 2., 1., 0.],\n",
    "                                    [5., 4., 3., 2., 1.],\n",
    "                                    [6., 5., 4., 3., 2.],\n",
    "                                    [7., 6., 5., 4., 3.],\n",
    "                                    [8., 7., 6., 5., 4.]]),\n",
    "                    index   = pd.RangeIndex(start=5, stop=10, step=1),\n",
    "                    columns = ['lag_1', 'lag_2', 'lag_3', 'lag_4', 'lag_5']\n",
    "                ),\n",
    "                pd.Series(\n",
    "                    np.array([5., 6., 7., 8., 9.]),\n",
    "                    index = pd.RangeIndex(start=5, stop=10, step=1),\n",
    "                    name = 'y'\n",
    "                ))    \n",
    "    pd.testing.assert_frame_equal(results[0], expected[0])\n",
    "    pd.testing.assert_series_equal(results[1], expected[1])\n",
    "\n",
    "\n",
    "def test_create_train_X_y_output_when_y_is_series_10_and_transformer_y_is_StandardScaler():\n",
    "    '''\n",
    "    Test the output of create_train_X_y when exog is None and transformer_exog\n",
    "    is not None.\n",
    "    '''\n",
    "\n",
    "    forecaster = ForecasterAutoreg(\n",
    "                    regressor = LinearRegression(),\n",
    "                    lags = 5,\n",
    "                    transformer_y = StandardScaler()\n",
    "                )\n",
    "\n",
    "    results = forecaster.create_train_X_y(y=pd.Series(np.arange(10)))\n",
    "    expected = (pd.DataFrame(\n",
    "                    data = np.array([[-0.17407766, -0.52223297, -0.87038828, -1.21854359, -1.5666989 ],\n",
    "                                    [0.17407766, -0.17407766, -0.52223297, -0.87038828, -1.21854359],\n",
    "                                    [0.52223297,  0.17407766, -0.17407766, -0.52223297, -0.87038828],\n",
    "                                    [0.87038828,  0.52223297,  0.17407766, -0.17407766, -0.52223297],\n",
    "                                    [1.21854359,  0.87038828,  0.52223297,  0.17407766, -0.17407766]]),\n",
    "                    index   = pd.RangeIndex(start=5, stop=10, step=1),\n",
    "                    columns = ['lag_1', 'lag_2', 'lag_3', 'lag_4', 'lag_5']\n",
    "                ),\n",
    "                pd.Series(\n",
    "                    np.array([0.17407766, 0.52223297, 0.87038828, 1.21854359, 1.5666989]),\n",
    "                    index = pd.RangeIndex(start=5, stop=10, step=1),\n",
    "                    name = 'y'\n",
    "                ))\n",
    "\n",
    "    pd.testing.assert_frame_equal(results[0], expected[0])\n",
    "    pd.testing.assert_series_equal(results[1], expected[1])\n",
    "\n",
    "\n",
    "def test_create_train_X_y_output_when_transformer_y_and_transformer_exog():\n",
    "    '''\n",
    "    Test the output of create_train_X_y when using transformer_y and transformer_exog.\n",
    "    '''\n",
    "    y = pd.Series(np.arange(8))\n",
    "    exog = pd.DataFrame({\n",
    "                'col_1': [7.5, 24.4, 60.3, 57.3, 50.7, 41.4, 87.2, 47.4],\n",
    "                'col_2': ['a', 'a', 'a', 'a', 'b', 'b', 'b', 'b']\n",
    "            })\n",
    "\n",
    "    transformer_y = StandardScaler()\n",
    "    transformer_exog = ColumnTransformer(\n",
    "                            [('scale', StandardScaler(), ['col_1']),\n",
    "                            ('onehot', OneHotEncoder(), ['col_2'])],\n",
    "                            remainder = 'passthrough',\n",
    "                            verbose_feature_names_out = False\n",
    "                        )\n",
    "\n",
    "    forecaster = ForecasterAutoreg(\n",
    "                    regressor = LinearRegression(),\n",
    "                    lags = 5,\n",
    "                    transformer_y = transformer_y,\n",
    "                    transformer_exog= transformer_exog\n",
    "                )\n",
    "\n",
    "\n",
    "    expected = (pd.DataFrame(\n",
    "                    data = np.array([[0.21821789, -0.21821789, -0.65465367, -1.09108945,\n",
    "                                     -1.52752523, -0.25107995,  0.        ,  1.        ],\n",
    "                                     [0.65465367,  0.21821789, -0.21821789, -0.65465367,\n",
    "                                      -1.09108945, 1.79326881,  0.        ,  1.        ],\n",
    "                                     [1.09108945,  0.65465367,  0.21821789, -0.21821789,\n",
    "                                      -0.65465367, 0.01673866,  0.        ,  1.        ]]),\n",
    "                    index   = pd.RangeIndex(start=5, stop=8, step=1),\n",
    "                    columns = ['lag_1', 'lag_2', 'lag_3', 'lag_4', 'lag_5', 'col_1',\n",
    "                               'col_2_a', 'col_2_b']\n",
    "                ),\n",
    "                pd.Series(\n",
    "                    np.array([0.65465367, 1.09108945, 1.52752523]),\n",
    "                    index = pd.RangeIndex(start=5, stop=8, step=1),\n",
    "                    name = 'y'\n",
    "                ))\n",
    "\n",
    "                \n",
    "    results = forecaster.create_train_X_y(y=y, exog=exog)\n",
    "\n",
    "    pd.testing.assert_frame_equal(results[0], expected[0])\n",
    "    pd.testing.assert_series_equal(results[1], expected[1])\n",
    "\n",
    "\n",
    "\n",
    "\n",
    "\n",
    "\n",
    "test_create_train_X_y_output_when_exog_is_None_and_transformer_exog_is_not_None()\n",
    "test_create_train_X_y_output_when_y_is_series_10_and_transformer_y_is_StandardScaler()\n",
    "test_create_train_X_y_output_when_transformer_y_and_transformer_exog()"
   ]
  },
  {
   "cell_type": "code",
   "execution_count": null,
   "metadata": {},
   "outputs": [],
   "source": [
    "def test_create_train_X_y_output_when_exog_is_None_and_transformer_exog_is_not_None():\n",
    "    '''\n",
    "    Test the output of create_train_X_y when exog is None and transformer_exog\n",
    "    is not None.\n",
    "    '''\n",
    "\n",
    "    forecaster = ForecasterAutoreg(\n",
    "        regressor = LinearRegression(),\n",
    "        lags = 5,\n",
    "        transformer_exog = StandardScaler()\n",
    "    )\n",
    "\n",
    "    results = forecaster.create_train_X_y(y=pd.Series(np.arange(10)))\n",
    "    expected = (pd.DataFrame(\n",
    "                    data = np.array([[4., 3., 2., 1., 0.],\n",
    "                                    [5., 4., 3., 2., 1.],\n",
    "                                    [6., 5., 4., 3., 2.],\n",
    "                                    [7., 6., 5., 4., 3.],\n",
    "                                    [8., 7., 6., 5., 4.]]),\n",
    "                    index   = pd.RangeIndex(start=5, stop=10, step=1),\n",
    "                    columns = ['lag_1', 'lag_2', 'lag_3', 'lag_4', 'lag_5']\n",
    "                ),\n",
    "                pd.Series(\n",
    "                    np.array([5., 6., 7., 8., 9.]),\n",
    "                    index = pd.RangeIndex(start=5, stop=10, step=1),\n",
    "                    name = 'y'\n",
    "                ))    \n",
    "    pd.testing.assert_frame_equal(results[0], expected[0])\n",
    "    pd.testing.assert_series_equal(results[1], expected[1])\n",
    "\n",
    "\n",
    "def test_create_train_X_y_output_when_y_is_series_10_and_transformer_y_is_StandardScaler():\n",
    "    '''\n",
    "    Test the output of create_train_X_y when exog is None and transformer_exog\n",
    "    is not None.\n",
    "    '''\n",
    "\n",
    "    forecaster = ForecasterAutoreg(\n",
    "                    regressor = LinearRegression(),\n",
    "                    lags = 5,\n",
    "                    transformer_y = StandardScaler()\n",
    "                )\n",
    "\n",
    "    results = forecaster.create_train_X_y(y=pd.Series(np.arange(10)))\n",
    "    expected = (pd.DataFrame(\n",
    "                    data = np.array([[-0.17407766, -0.52223297, -0.87038828, -1.21854359, -1.5666989 ],\n",
    "                                    [0.17407766, -0.17407766, -0.52223297, -0.87038828, -1.21854359],\n",
    "                                    [0.52223297,  0.17407766, -0.17407766, -0.52223297, -0.87038828],\n",
    "                                    [0.87038828,  0.52223297,  0.17407766, -0.17407766, -0.52223297],\n",
    "                                    [1.21854359,  0.87038828,  0.52223297,  0.17407766, -0.17407766]]),\n",
    "                    index   = pd.RangeIndex(start=5, stop=10, step=1),\n",
    "                    columns = ['lag_1', 'lag_2', 'lag_3', 'lag_4', 'lag_5']\n",
    "                ),\n",
    "                pd.Series(\n",
    "                    np.array([0.17407766, 0.52223297, 0.87038828, 1.21854359, 1.5666989]),\n",
    "                    index = pd.RangeIndex(start=5, stop=10, step=1),\n",
    "                    name = 'y'\n",
    "                ))\n",
    "\n",
    "    pd.testing.assert_frame_equal(results[0], expected[0])\n",
    "    pd.testing.assert_series_equal(results[1], expected[1])\n",
    "\n",
    "\n",
    "def test_create_train_X_y_output_when_transformer_y_and_transformer_exog():\n",
    "    '''\n",
    "    Test the output of create_train_X_y when using transformer_y and transformer_exog.\n",
    "    '''\n",
    "    y = pd.Series(np.arange(8))\n",
    "    exog = pd.DataFrame({\n",
    "                'col_1': [7.5, 24.4, 60.3, 57.3, 50.7, 41.4, 87.2, 47.4],\n",
    "                'col_2': ['a', 'a', 'a', 'a', 'b', 'b', 'b', 'b']\n",
    "            })\n",
    "\n",
    "    transformer_y = StandardScaler()\n",
    "    transformer_exog = ColumnTransformer(\n",
    "                            [('scale', StandardScaler(), ['col_1']),\n",
    "                            ('onehot', OneHotEncoder(), ['col_2'])],\n",
    "                            remainder = 'passthrough',\n",
    "                            verbose_feature_names_out = False\n",
    "                        )\n",
    "\n",
    "    forecaster = ForecasterAutoreg(\n",
    "                    regressor = LinearRegression(),\n",
    "                    lags = 5,\n",
    "                    transformer_y = transformer_y,\n",
    "                    transformer_exog= transformer_exog\n",
    "                )\n",
    "\n",
    "\n",
    "    expected = (pd.DataFrame(\n",
    "                    data = np.array([[0.21821789, -0.21821789, -0.65465367, -1.09108945,\n",
    "                                     -1.52752523, -0.25107995,  0.        ,  1.        ],\n",
    "                                     [0.65465367,  0.21821789, -0.21821789, -0.65465367,\n",
    "                                      -1.09108945, 1.79326881,  0.        ,  1.        ],\n",
    "                                     [1.09108945,  0.65465367,  0.21821789, -0.21821789,\n",
    "                                      -0.65465367, 0.01673866,  0.        ,  1.        ]]),\n",
    "                    index   = pd.RangeIndex(start=5, stop=8, step=1),\n",
    "                    columns = ['lag_1', 'lag_2', 'lag_3', 'lag_4', 'lag_5', 'col_1',\n",
    "                               'col_2_a', 'col_2_b']\n",
    "                ),\n",
    "                pd.Series(\n",
    "                    np.array([0.65465367, 1.09108945, 1.52752523]),\n",
    "                    index = pd.RangeIndex(start=5, stop=8, step=1),\n",
    "                    name = 'y'\n",
    "                ))\n",
    "\n",
    "                \n",
    "    results = forecaster.create_train_X_y(y=y, exog=exog)\n",
    "\n",
    "    pd.testing.assert_frame_equal(results[0], expected[0])\n",
    "    pd.testing.assert_series_equal(results[1], expected[1])\n",
    "\n",
    "\n",
    "\n",
    "\n",
    "\n",
    "\n",
    "test_create_train_X_y_output_when_exog_is_None_and_transformer_exog_is_not_None()\n",
    "test_create_train_X_y_output_when_y_is_series_10_and_transformer_y_is_StandardScaler()\n",
    "test_create_train_X_y_output_when_transformer_y_and_transformer_exog()"
   ]
  },
  {
   "cell_type": "code",
   "execution_count": 160,
   "metadata": {},
   "outputs": [],
   "source": [
    "import pytest\n",
    "from sklearn.compose import ColumnTransformer\n",
    "from sklearn.preprocessing import StandardScaler\n",
    "from sklearn.preprocessing import OneHotEncoder\n",
    "\n",
    "def test_predict_interval_output_when_regressor_is_LinearRegression_with_transform_y():\n",
    "    '''\n",
    "    Test predict output when using LinearRegression as regressor and StandardScaler.\n",
    "    '''\n",
    "    y = pd.Series(\n",
    "            np.array([-0.59,  0.02, -0.9 ,  1.09, -3.61,  0.72, -0.11, -0.4 ,  0.49,\n",
    "                    0.67,  0.54, -0.17,  0.54,  1.49, -2.26, -0.41, -0.64, -0.8 ,\n",
    "                    -0.61, -0.88])\n",
    "        )\n",
    "    transformer_y = StandardScaler()\n",
    "    forecaster = ForecasterAutoreg(\n",
    "                    regressor = LinearRegression(),\n",
    "                    lags = 5,\n",
    "                    transformer_y = transformer_y,\n",
    "                )\n",
    "    forecaster.fit(y=y)\n",
    "    predictions = forecaster.predict_interval(steps=5)\n",
    "    expected = pd.DataFrame(\n",
    "                data = np.array([[-0.1578203 , -2.02104471,  1.55076389],\n",
    "                                [-0.18459942, -1.85211385,  1.49693466],\n",
    "                                [-0.13711051, -1.82918043,  1.37837389],\n",
    "                                [-0.01966358, -1.7522189 ,  1.31940346],\n",
    "                                [-0.03228613, -1.77074022,  1.56056698]]),\n",
    "                index = pd.RangeIndex(start=20, stop=25, step=1),\n",
    "                columns = ['pred', 'lower_bound', 'upper_bound']\n",
    "               )\n",
    "    pd.testing.assert_frame_equal(predictions, expected)\n",
    "\n",
    "\n",
    "def test_predict_interval_output_when_regressor_is_LinearRegression_with_transform_y_and_transform_exog():\n",
    "    '''\n",
    "    Test predict output when using LinearRegression as regressor, StandardScaler\n",
    "    as transformer_y and transformer_exog as transformer_exog.\n",
    "    '''\n",
    "    y = pd.Series(\n",
    "            np.array([-0.59,  0.02, -0.9 ,  1.09, -3.61,  0.72, -0.11, -0.4])\n",
    "        )\n",
    "    exog = pd.DataFrame({\n",
    "                'col_1': [7.5, 24.4, 60.3, 57.3, 50.7, 41.4, 87.2, 47.4],\n",
    "                'col_2': ['a', 'a', 'a', 'a', 'b', 'b', 'b', 'b']\n",
    "            })\n",
    "\n",
    "    transformer_y = StandardScaler()\n",
    "    transformer_exog = ColumnTransformer(\n",
    "                            [('scale', StandardScaler(), ['col_1']),\n",
    "                            ('onehot', OneHotEncoder(), ['col_2'])],\n",
    "                            remainder = 'passthrough',\n",
    "                            verbose_feature_names_out = False\n",
    "                        )\n",
    "    forecaster = ForecasterAutoreg(\n",
    "                    regressor = LinearRegression(),\n",
    "                    lags = 5,\n",
    "                    transformer_y = transformer_y,\n",
    "                    transformer_exog = transformer_exog,\n",
    "                )\n",
    "    forecaster.fit(y=y, exog=exog)\n",
    "    predictions = forecaster.predict_interval(steps=5, exog=exog)\n",
    "    expected = pd.DataFrame(\n",
    "                data = np.array([[ 0.50619336,  0.50619336,  0.50619336],\n",
    "                                [-0.09630298, -0.09630298, -0.09630298],\n",
    "                                [ 0.05254973,  0.05254973,  0.05254973],\n",
    "                                [ 0.12281153,  0.12281153,  0.12281153],\n",
    "                                [ 0.00221741,  0.00221741,  0.00221741]]),\n",
    "                index = pd.RangeIndex(start=8, stop=13, step=1),\n",
    "                columns = ['pred', 'lower_bound', 'upper_bound']\n",
    "               )\n",
    "    pd.testing.assert_frame_equal(predictions, expected)\n",
    "\n",
    "\n",
    "\n",
    "test_predict_interval_output_when_regressor_is_LinearRegression_with_transform_y()\n",
    "test_predict_interval_output_when_regressor_is_LinearRegression_with_transform_y_and_transform_exog()"
   ]
  },
  {
   "cell_type": "code",
   "execution_count": null,
   "metadata": {},
   "outputs": [],
   "source": []
  },
  {
   "cell_type": "code",
   "execution_count": null,
   "metadata": {},
   "outputs": [],
   "source": []
  },
  {
   "cell_type": "markdown",
   "metadata": {},
   "source": [
    "## test OneHot"
   ]
  },
  {
   "cell_type": "code",
   "execution_count": 9,
   "metadata": {
    "ExecuteTime": {
     "end_time": "2022-07-25T10:46:00.044099Z",
     "start_time": "2022-07-25T10:45:59.980347Z"
    }
   },
   "outputs": [
    {
     "data": {
      "text/plain": [
       "[array(['a', 'b'], dtype=object), array(['a', 'b'], dtype=object)]"
      ]
     },
     "execution_count": 9,
     "metadata": {},
     "output_type": "execute_result"
    }
   ],
   "source": [
    "transformer.categories_"
   ]
  },
  {
   "cell_type": "code",
   "execution_count": 13,
   "metadata": {
    "ExecuteTime": {
     "end_time": "2022-07-25T10:49:05.519331Z",
     "start_time": "2022-07-25T10:49:05.442185Z"
    }
   },
   "outputs": [
    {
     "data": {
      "text/html": [
       "<div>\n",
       "<style scoped>\n",
       "    .dataframe tbody tr th:only-of-type {\n",
       "        vertical-align: middle;\n",
       "    }\n",
       "\n",
       "    .dataframe tbody tr th {\n",
       "        vertical-align: top;\n",
       "    }\n",
       "\n",
       "    .dataframe thead th {\n",
       "        text-align: right;\n",
       "    }\n",
       "</style>\n",
       "<table border=\"1\" class=\"dataframe\">\n",
       "  <thead>\n",
       "    <tr style=\"text-align: right;\">\n",
       "      <th></th>\n",
       "      <th>col_1</th>\n",
       "      <th>col_2</th>\n",
       "    </tr>\n",
       "  </thead>\n",
       "  <tbody>\n",
       "    <tr>\n",
       "      <th>0</th>\n",
       "      <td>a</td>\n",
       "      <td>a</td>\n",
       "    </tr>\n",
       "    <tr>\n",
       "      <th>1</th>\n",
       "      <td>a</td>\n",
       "      <td>a</td>\n",
       "    </tr>\n",
       "    <tr>\n",
       "      <th>2</th>\n",
       "      <td>a</td>\n",
       "      <td>a</td>\n",
       "    </tr>\n",
       "    <tr>\n",
       "      <th>3</th>\n",
       "      <td>a</td>\n",
       "      <td>a</td>\n",
       "    </tr>\n",
       "    <tr>\n",
       "      <th>4</th>\n",
       "      <td>b</td>\n",
       "      <td>b</td>\n",
       "    </tr>\n",
       "    <tr>\n",
       "      <th>5</th>\n",
       "      <td>b</td>\n",
       "      <td>b</td>\n",
       "    </tr>\n",
       "    <tr>\n",
       "      <th>6</th>\n",
       "      <td>b</td>\n",
       "      <td>b</td>\n",
       "    </tr>\n",
       "    <tr>\n",
       "      <th>7</th>\n",
       "      <td>b</td>\n",
       "      <td>b</td>\n",
       "    </tr>\n",
       "  </tbody>\n",
       "</table>\n",
       "</div>"
      ],
      "text/plain": [
       "  col_1 col_2\n",
       "0     a     a\n",
       "1     a     a\n",
       "2     a     a\n",
       "3     a     a\n",
       "4     b     b\n",
       "5     b     b\n",
       "6     b     b\n",
       "7     b     b"
      ]
     },
     "execution_count": 13,
     "metadata": {},
     "output_type": "execute_result"
    }
   ],
   "source": [
    "input_1 = pd.DataFrame({\n",
    "                'col_1': ['a', 'a', 'a', 'a', 'b', 'b', 'b', 'b'],\n",
    "                'col_2': ['a', 'a', 'a', 'a', 'b', 'b', 'b', 'b']\n",
    "            })\n",
    "transformer = OneHotEncoder()\n",
    "transformer.fit(input_1)\n",
    "input_2 = transformer.transform(input_1)\n",
    "input_3 = transformer.inverse_transform(input_2)\n",
    "\n",
    "pd.DataFrame(input_3, columns=input_1.columns)"
   ]
  },
  {
   "cell_type": "code",
   "execution_count": 12,
   "metadata": {
    "ExecuteTime": {
     "end_time": "2022-07-25T10:47:01.810194Z",
     "start_time": "2022-07-25T10:47:01.753572Z"
    }
   },
   "outputs": [
    {
     "data": {
      "text/plain": [
       "[array(['a', 'b'], dtype=object), array(['a', 'b'], dtype=object)]"
      ]
     },
     "execution_count": 12,
     "metadata": {},
     "output_type": "execute_result"
    }
   ],
   "source": [
    "transformer.categories_"
   ]
  },
  {
   "cell_type": "code",
   "execution_count": null,
   "metadata": {},
   "outputs": [],
   "source": [
    "\n",
    "results =  transform_dataframe(\n",
    "                df = df_fit,\n",
    "                transformer = transformer,\n",
    "                fit = False,\n",
    "                inverse_transform = True\n",
    "            )"
   ]
  },
  {
   "cell_type": "code",
   "execution_count": 18,
   "metadata": {
    "ExecuteTime": {
     "end_time": "2022-07-25T10:52:55.840869Z",
     "start_time": "2022-07-25T10:52:55.768536Z"
    }
   },
   "outputs": [
    {
     "data": {
      "text/html": [
       "<div>\n",
       "<style scoped>\n",
       "    .dataframe tbody tr th:only-of-type {\n",
       "        vertical-align: middle;\n",
       "    }\n",
       "\n",
       "    .dataframe tbody tr th {\n",
       "        vertical-align: top;\n",
       "    }\n",
       "\n",
       "    .dataframe thead th {\n",
       "        text-align: right;\n",
       "    }\n",
       "</style>\n",
       "<table border=\"1\" class=\"dataframe\">\n",
       "  <thead>\n",
       "    <tr style=\"text-align: right;\">\n",
       "      <th></th>\n",
       "      <th>col_1_a</th>\n",
       "      <th>col_1_b</th>\n",
       "      <th>col_2_a</th>\n",
       "      <th>col_2_b</th>\n",
       "    </tr>\n",
       "  </thead>\n",
       "  <tbody>\n",
       "    <tr>\n",
       "      <th>0</th>\n",
       "      <td>1.0</td>\n",
       "      <td>0.0</td>\n",
       "      <td>1.0</td>\n",
       "      <td>0.0</td>\n",
       "    </tr>\n",
       "    <tr>\n",
       "      <th>1</th>\n",
       "      <td>1.0</td>\n",
       "      <td>0.0</td>\n",
       "      <td>1.0</td>\n",
       "      <td>0.0</td>\n",
       "    </tr>\n",
       "    <tr>\n",
       "      <th>2</th>\n",
       "      <td>1.0</td>\n",
       "      <td>0.0</td>\n",
       "      <td>1.0</td>\n",
       "      <td>0.0</td>\n",
       "    </tr>\n",
       "    <tr>\n",
       "      <th>3</th>\n",
       "      <td>1.0</td>\n",
       "      <td>0.0</td>\n",
       "      <td>1.0</td>\n",
       "      <td>0.0</td>\n",
       "    </tr>\n",
       "    <tr>\n",
       "      <th>4</th>\n",
       "      <td>0.0</td>\n",
       "      <td>1.0</td>\n",
       "      <td>0.0</td>\n",
       "      <td>1.0</td>\n",
       "    </tr>\n",
       "    <tr>\n",
       "      <th>5</th>\n",
       "      <td>0.0</td>\n",
       "      <td>1.0</td>\n",
       "      <td>0.0</td>\n",
       "      <td>1.0</td>\n",
       "    </tr>\n",
       "    <tr>\n",
       "      <th>6</th>\n",
       "      <td>0.0</td>\n",
       "      <td>1.0</td>\n",
       "      <td>0.0</td>\n",
       "      <td>1.0</td>\n",
       "    </tr>\n",
       "    <tr>\n",
       "      <th>7</th>\n",
       "      <td>0.0</td>\n",
       "      <td>1.0</td>\n",
       "      <td>0.0</td>\n",
       "      <td>1.0</td>\n",
       "    </tr>\n",
       "  </tbody>\n",
       "</table>\n",
       "</div>"
      ],
      "text/plain": [
       "   col_1_a  col_1_b  col_2_a  col_2_b\n",
       "0      1.0      0.0      1.0      0.0\n",
       "1      1.0      0.0      1.0      0.0\n",
       "2      1.0      0.0      1.0      0.0\n",
       "3      1.0      0.0      1.0      0.0\n",
       "4      0.0      1.0      0.0      1.0\n",
       "5      0.0      1.0      0.0      1.0\n",
       "6      0.0      1.0      0.0      1.0\n",
       "7      0.0      1.0      0.0      1.0"
      ]
     },
     "execution_count": 18,
     "metadata": {},
     "output_type": "execute_result"
    }
   ],
   "source": [
    "expected = pd.DataFrame({\n",
    "                    'col_1_a': [1., 1., 1., 1., 0., 0., 0., 0.],\n",
    "                    'col_1_b': [0., 0., 0., 0., 1., 1., 1., 1.],\n",
    "                    'col_2_a': [1., 1., 1., 1., 0., 0., 0., 0.],\n",
    "                    'col_2_b': [0., 0., 0., 0., 1., 1., 1., 1.]\n",
    "               })\n",
    "\n",
    "expected"
   ]
  },
  {
   "cell_type": "code",
   "execution_count": 19,
   "metadata": {
    "ExecuteTime": {
     "end_time": "2022-07-25T10:53:00.738146Z",
     "start_time": "2022-07-25T10:52:59.841446Z"
    }
   },
   "outputs": [
    {
     "ename": "ValueError",
     "evalue": "Shape of passed values is (8, 2), indices imply (8, 4)",
     "output_type": "error",
     "traceback": [
      "\u001b[1;31m---------------------------------------------------------------------------\u001b[0m",
      "\u001b[1;31mValueError\u001b[0m                                Traceback (most recent call last)",
      "Input \u001b[1;32mIn [19]\u001b[0m, in \u001b[0;36m<cell line: 3>\u001b[1;34m()\u001b[0m\n\u001b[0;32m      1\u001b[0m \u001b[38;5;28;01mfrom\u001b[39;00m \u001b[38;5;21;01mskforecast\u001b[39;00m\u001b[38;5;21;01m.\u001b[39;00m\u001b[38;5;21;01mutils\u001b[39;00m \u001b[38;5;28;01mimport\u001b[39;00m transform_dataframe\n\u001b[1;32m----> 3\u001b[0m \u001b[43mtransform_dataframe\u001b[49m\u001b[43m(\u001b[49m\n\u001b[0;32m      4\u001b[0m \u001b[43m                    \u001b[49m\u001b[43mdf\u001b[49m\u001b[43m \u001b[49m\u001b[38;5;241;43m=\u001b[39;49m\u001b[43m \u001b[49m\u001b[43mexpected\u001b[49m\u001b[43m,\u001b[49m\n\u001b[0;32m      5\u001b[0m \u001b[43m                    \u001b[49m\u001b[43mtransformer\u001b[49m\u001b[43m \u001b[49m\u001b[38;5;241;43m=\u001b[39;49m\u001b[43m \u001b[49m\u001b[43mtransformer\u001b[49m\u001b[43m,\u001b[49m\n\u001b[0;32m      6\u001b[0m \u001b[43m                    \u001b[49m\u001b[43mfit\u001b[49m\u001b[43m \u001b[49m\u001b[38;5;241;43m=\u001b[39;49m\u001b[43m \u001b[49m\u001b[38;5;28;43;01mFalse\u001b[39;49;00m\u001b[43m,\u001b[49m\n\u001b[0;32m      7\u001b[0m \u001b[43m                    \u001b[49m\u001b[43minverse_transform\u001b[49m\u001b[43m \u001b[49m\u001b[38;5;241;43m=\u001b[39;49m\u001b[43m \u001b[49m\u001b[38;5;28;43;01mTrue\u001b[39;49;00m\n\u001b[0;32m      8\u001b[0m \u001b[43m                \u001b[49m\u001b[43m)\u001b[49m\n",
      "File \u001b[1;32m~\\GitHub\\skforecast\\skforecast\\utils\\utils.py:669\u001b[0m, in \u001b[0;36mtransform_dataframe\u001b[1;34m(df, transformer, fit, inverse_transform)\u001b[0m\n\u001b[0;32m    666\u001b[0m \u001b[38;5;28;01melse\u001b[39;00m:\n\u001b[0;32m    667\u001b[0m     feature_names_out \u001b[38;5;241m=\u001b[39m df\u001b[38;5;241m.\u001b[39mcolumns\n\u001b[1;32m--> 669\u001b[0m df_transformed \u001b[38;5;241m=\u001b[39m \u001b[43mpd\u001b[49m\u001b[38;5;241;43m.\u001b[39;49m\u001b[43mDataFrame\u001b[49m\u001b[43m(\u001b[49m\n\u001b[0;32m    670\u001b[0m \u001b[43m                    \u001b[49m\u001b[43mdata\u001b[49m\u001b[43m \u001b[49m\u001b[38;5;241;43m=\u001b[39;49m\u001b[43m \u001b[49m\u001b[43mvalues_transformed\u001b[49m\u001b[43m,\u001b[49m\n\u001b[0;32m    671\u001b[0m \u001b[43m                    \u001b[49m\u001b[43mindex\u001b[49m\u001b[43m \u001b[49m\u001b[38;5;241;43m=\u001b[39;49m\u001b[43m \u001b[49m\u001b[43mdf\u001b[49m\u001b[38;5;241;43m.\u001b[39;49m\u001b[43mindex\u001b[49m\u001b[43m,\u001b[49m\n\u001b[0;32m    672\u001b[0m \u001b[43m                    \u001b[49m\u001b[43mcolumns\u001b[49m\u001b[43m \u001b[49m\u001b[38;5;241;43m=\u001b[39;49m\u001b[43m \u001b[49m\u001b[43mfeature_names_out\u001b[49m\n\u001b[0;32m    673\u001b[0m \u001b[43m                  \u001b[49m\u001b[43m)\u001b[49m\n\u001b[0;32m    675\u001b[0m \u001b[38;5;28;01mreturn\u001b[39;00m df_transformed\n",
      "File \u001b[1;32m~\\Miniconda3\\envs\\food_digital\\lib\\site-packages\\pandas\\core\\frame.py:695\u001b[0m, in \u001b[0;36mDataFrame.__init__\u001b[1;34m(self, data, index, columns, dtype, copy)\u001b[0m\n\u001b[0;32m    685\u001b[0m         mgr \u001b[38;5;241m=\u001b[39m dict_to_mgr(\n\u001b[0;32m    686\u001b[0m             \u001b[38;5;66;03m# error: Item \"ndarray\" of \"Union[ndarray, Series, Index]\" has no\u001b[39;00m\n\u001b[0;32m    687\u001b[0m             \u001b[38;5;66;03m# attribute \"name\"\u001b[39;00m\n\u001b[1;32m   (...)\u001b[0m\n\u001b[0;32m    692\u001b[0m             typ\u001b[38;5;241m=\u001b[39mmanager,\n\u001b[0;32m    693\u001b[0m         )\n\u001b[0;32m    694\u001b[0m     \u001b[38;5;28;01melse\u001b[39;00m:\n\u001b[1;32m--> 695\u001b[0m         mgr \u001b[38;5;241m=\u001b[39m \u001b[43mndarray_to_mgr\u001b[49m\u001b[43m(\u001b[49m\n\u001b[0;32m    696\u001b[0m \u001b[43m            \u001b[49m\u001b[43mdata\u001b[49m\u001b[43m,\u001b[49m\n\u001b[0;32m    697\u001b[0m \u001b[43m            \u001b[49m\u001b[43mindex\u001b[49m\u001b[43m,\u001b[49m\n\u001b[0;32m    698\u001b[0m \u001b[43m            \u001b[49m\u001b[43mcolumns\u001b[49m\u001b[43m,\u001b[49m\n\u001b[0;32m    699\u001b[0m \u001b[43m            \u001b[49m\u001b[43mdtype\u001b[49m\u001b[38;5;241;43m=\u001b[39;49m\u001b[43mdtype\u001b[49m\u001b[43m,\u001b[49m\n\u001b[0;32m    700\u001b[0m \u001b[43m            \u001b[49m\u001b[43mcopy\u001b[49m\u001b[38;5;241;43m=\u001b[39;49m\u001b[43mcopy\u001b[49m\u001b[43m,\u001b[49m\n\u001b[0;32m    701\u001b[0m \u001b[43m            \u001b[49m\u001b[43mtyp\u001b[49m\u001b[38;5;241;43m=\u001b[39;49m\u001b[43mmanager\u001b[49m\u001b[43m,\u001b[49m\n\u001b[0;32m    702\u001b[0m \u001b[43m        \u001b[49m\u001b[43m)\u001b[49m\n\u001b[0;32m    704\u001b[0m \u001b[38;5;66;03m# For data is list-like, or Iterable (will consume into list)\u001b[39;00m\n\u001b[0;32m    705\u001b[0m \u001b[38;5;28;01melif\u001b[39;00m is_list_like(data):\n",
      "File \u001b[1;32m~\\Miniconda3\\envs\\food_digital\\lib\\site-packages\\pandas\\core\\internals\\construction.py:351\u001b[0m, in \u001b[0;36mndarray_to_mgr\u001b[1;34m(values, index, columns, dtype, copy, typ)\u001b[0m\n\u001b[0;32m    346\u001b[0m \u001b[38;5;66;03m# _prep_ndarray ensures that values.ndim == 2 at this point\u001b[39;00m\n\u001b[0;32m    347\u001b[0m index, columns \u001b[38;5;241m=\u001b[39m _get_axes(\n\u001b[0;32m    348\u001b[0m     values\u001b[38;5;241m.\u001b[39mshape[\u001b[38;5;241m0\u001b[39m], values\u001b[38;5;241m.\u001b[39mshape[\u001b[38;5;241m1\u001b[39m], index\u001b[38;5;241m=\u001b[39mindex, columns\u001b[38;5;241m=\u001b[39mcolumns\n\u001b[0;32m    349\u001b[0m )\n\u001b[1;32m--> 351\u001b[0m \u001b[43m_check_values_indices_shape_match\u001b[49m\u001b[43m(\u001b[49m\u001b[43mvalues\u001b[49m\u001b[43m,\u001b[49m\u001b[43m \u001b[49m\u001b[43mindex\u001b[49m\u001b[43m,\u001b[49m\u001b[43m \u001b[49m\u001b[43mcolumns\u001b[49m\u001b[43m)\u001b[49m\n\u001b[0;32m    353\u001b[0m \u001b[38;5;28;01mif\u001b[39;00m typ \u001b[38;5;241m==\u001b[39m \u001b[38;5;124m\"\u001b[39m\u001b[38;5;124marray\u001b[39m\u001b[38;5;124m\"\u001b[39m:\n\u001b[0;32m    355\u001b[0m     \u001b[38;5;28;01mif\u001b[39;00m \u001b[38;5;28missubclass\u001b[39m(values\u001b[38;5;241m.\u001b[39mdtype\u001b[38;5;241m.\u001b[39mtype, \u001b[38;5;28mstr\u001b[39m):\n",
      "File \u001b[1;32m~\\Miniconda3\\envs\\food_digital\\lib\\site-packages\\pandas\\core\\internals\\construction.py:422\u001b[0m, in \u001b[0;36m_check_values_indices_shape_match\u001b[1;34m(values, index, columns)\u001b[0m\n\u001b[0;32m    420\u001b[0m passed \u001b[38;5;241m=\u001b[39m values\u001b[38;5;241m.\u001b[39mshape\n\u001b[0;32m    421\u001b[0m implied \u001b[38;5;241m=\u001b[39m (\u001b[38;5;28mlen\u001b[39m(index), \u001b[38;5;28mlen\u001b[39m(columns))\n\u001b[1;32m--> 422\u001b[0m \u001b[38;5;28;01mraise\u001b[39;00m \u001b[38;5;167;01mValueError\u001b[39;00m(\u001b[38;5;124mf\u001b[39m\u001b[38;5;124m\"\u001b[39m\u001b[38;5;124mShape of passed values is \u001b[39m\u001b[38;5;132;01m{\u001b[39;00mpassed\u001b[38;5;132;01m}\u001b[39;00m\u001b[38;5;124m, indices imply \u001b[39m\u001b[38;5;132;01m{\u001b[39;00mimplied\u001b[38;5;132;01m}\u001b[39;00m\u001b[38;5;124m\"\u001b[39m)\n",
      "\u001b[1;31mValueError\u001b[0m: Shape of passed values is (8, 2), indices imply (8, 4)"
     ]
    }
   ],
   "source": [
    "from skforecast.utils import transform_dataframe\n",
    "\n",
    "transform_dataframe(\n",
    "                    df = expected,\n",
    "                    transformer = transformer,\n",
    "                    fit = False,\n",
    "                    inverse_transform = True\n",
    "                )"
   ]
  },
  {
   "cell_type": "code",
   "execution_count": 22,
   "metadata": {
    "ExecuteTime": {
     "end_time": "2022-07-25T10:55:48.232048Z",
     "start_time": "2022-07-25T10:55:48.168072Z"
    }
   },
   "outputs": [
    {
     "data": {
      "text/plain": [
       "array([['a'],\n",
       "       ['a'],\n",
       "       ['a'],\n",
       "       ['a'],\n",
       "       ['b'],\n",
       "       ['b'],\n",
       "       ['b'],\n",
       "       ['b']], dtype=object)"
      ]
     },
     "execution_count": 22,
     "metadata": {},
     "output_type": "execute_result"
    }
   ],
   "source": [
    "input_1 = pd.Series(['a', 'a', 'a', 'a', 'b', 'b', 'b', 'b'],\n",
    "                    name='col_1'\n",
    "                   )\n",
    "transformer = OneHotEncoder()\n",
    "transformer.fit(input_1.to_numpy().reshape(-1, 1))\n",
    "input_2 = transformer.transform(input_1.to_numpy().reshape(-1, 1))\n",
    "input_3 = transformer.inverse_transform(input_2)\n",
    "\n",
    "input_3"
   ]
  },
  {
   "cell_type": "code",
   "execution_count": 24,
   "metadata": {
    "ExecuteTime": {
     "end_time": "2022-07-25T10:56:42.765721Z",
     "start_time": "2022-07-25T10:56:42.696403Z"
    }
   },
   "outputs": [],
   "source": [
    "input_1 = input_1.to_frame()\n",
    "\n",
    "series_transformed = pd.Series(\n",
    "                            data  = input_3.flatten(),\n",
    "                            index = input_1.index,\n",
    "                            name  = input_1.columns[0]\n",
    "                          )"
   ]
  },
  {
   "cell_type": "code",
   "execution_count": 25,
   "metadata": {
    "ExecuteTime": {
     "end_time": "2022-07-25T10:56:46.874249Z",
     "start_time": "2022-07-25T10:56:46.808458Z"
    }
   },
   "outputs": [
    {
     "data": {
      "text/plain": [
       "0    a\n",
       "1    a\n",
       "2    a\n",
       "3    a\n",
       "4    b\n",
       "5    b\n",
       "6    b\n",
       "7    b\n",
       "Name: col_1, dtype: object"
      ]
     },
     "execution_count": 25,
     "metadata": {},
     "output_type": "execute_result"
    }
   ],
   "source": [
    "series_transformed"
   ]
  },
  {
   "cell_type": "code",
   "execution_count": null,
   "metadata": {},
   "outputs": [],
   "source": []
  },
  {
   "cell_type": "code",
   "execution_count": 7,
   "metadata": {
    "ExecuteTime": {
     "end_time": "2022-07-25T14:53:39.396573Z",
     "start_time": "2022-07-25T14:53:39.138199Z"
    }
   },
   "outputs": [],
   "source": [
    "from skforecast.utils import check_y\n",
    "\n",
    "y = pd.Series(\n",
    "            np.array([-0.59,  0.02, -0.9 , 1.09, -3.61,  0.72, -0.11, -0.4])\n",
    "        )\n",
    "exog = pd.DataFrame({\n",
    "            'col_1': [7.5, 24.4, 60.3, 57.3, 50.7, 41.4, 87.2, 47.4],\n",
    "            'col_2': ['a', 'a', 'a', 'a', 'b', 'b', 'b', 'b']\n",
    "       })\n",
    "\n",
    "transformer_y = StandardScaler()\n",
    "transformer_exog = ColumnTransformer(\n",
    "                        [('scale', StandardScaler(), ['col_1']),\n",
    "                         ('onehot', OneHotEncoder(), ['col_2'])],\n",
    "                        remainder = 'passthrough',\n",
    "                        verbose_feature_names_out = False\n",
    "                    )\n",
    "forecaster = ForecasterAutoreg(\n",
    "                regressor = LinearRegression(),\n",
    "                lags = 5,\n",
    "                transformer_y = transformer_y,\n",
    "                transformer_exog = transformer_exog,\n",
    "            )\n",
    "forecaster.fit(y=y, exog=exog)\n",
    "predictions = forecaster.predict_interval(steps=5, exog=exog)\n",
    "expected = pd.DataFrame(\n",
    "            data = np.array([[ 0.50619336,  0.50619336,  0.50619336],\n",
    "                             [-0.09630298, -0.09630298, -0.09630298],\n",
    "                             [ 0.05254973,  0.05254973,  0.05254973],\n",
    "                             [ 0.12281153,  0.12281153,  0.12281153],\n",
    "                             [ 0.00221741,  0.00221741,  0.00221741]]),\n",
    "            index = pd.RangeIndex(start=8, stop=13, step=1),\n",
    "            columns = ['pred', 'lower_bound', 'upper_bound']\n",
    "           )"
   ]
  },
  {
   "cell_type": "code",
   "execution_count": 67,
   "metadata": {
    "ExecuteTime": {
     "end_time": "2022-07-25T15:57:49.853392Z",
     "start_time": "2022-07-25T15:57:49.787588Z"
    }
   },
   "outputs": [],
   "source": [
    "y =pd.Series(np.array([0.69646919, 0.28613933, 0.22685145, 0.55131477, 0.71946897,\n",
    "                     0.42310646, 0.9807642 , 0.68482974, 0.4809319 , 0.39211752,\n",
    "                     0.34317802, 0.72904971, 0.43857224, 0.0596779 , 0.39804426,\n",
    "                     0.73799541, 0.18249173, 0.17545176, 0.53155137, 0.53182759,\n",
    "                     0.63440096, 0.84943179, 0.72445532, 0.61102351, 0.72244338,\n",
    "                     0.32295891, 0.36178866, 0.22826323, 0.29371405, 0.63097612,\n",
    "                     0.09210494, 0.43370117, 0.43086276, 0.4936851 , 0.42583029,\n",
    "                     0.31226122, 0.42635131, 0.89338916, 0.94416002, 0.50183668,\n",
    "                     0.62395295, 0.1156184 , 0.31728548, 0.41482621, 0.86630916,\n",
    "                     0.25045537, 0.48303426, 0.98555979, 0.51948512, 0.61289453]),\n",
    "            name='y')\n",
    "\n",
    "exog = pd.Series(np.array(\n",
    "                                [0.12062867, 0.8263408 , 0.60306013, 0.54506801, 0.34276383,\n",
    "                                 0.30412079, 0.41702221, 0.68130077, 0.87545684, 0.51042234,\n",
    "                                 0.66931378, 0.58593655, 0.6249035 , 0.67468905, 0.84234244,\n",
    "                                 0.08319499, 0.76368284, 0.24366637, 0.19422296, 0.57245696,\n",
    "                                 0.09571252, 0.88532683, 0.62724897, 0.72341636, 0.01612921,\n",
    "                                 0.59443188, 0.55678519, 0.15895964, 0.15307052, 0.69552953,\n",
    "                                 0.31876643, 0.6919703 , 0.55438325, 0.38895057, 0.92513249,\n",
    "                                 0.84167   , 0.35739757, 0.04359146, 0.30476807, 0.39818568,\n",
    "                                 0.70495883, 0.99535848, 0.35591487, 0.76254781, 0.59317692,\n",
    "                                 0.6917018 , 0.15112745, 0.39887629, 0.2408559 , 0.34345601]\n",
    "                                      ),\n",
    "            name='exog'\n",
    "                            )"
   ]
  },
  {
   "cell_type": "markdown",
   "metadata": {},
   "source": [
    "### Check y and y_inverse without exog"
   ]
  },
  {
   "cell_type": "code",
   "execution_count": 81,
   "metadata": {
    "ExecuteTime": {
     "end_time": "2022-07-25T15:59:34.406783Z",
     "start_time": "2022-07-25T15:59:34.170678Z"
    }
   },
   "outputs": [
    {
     "name": "stdout",
     "output_type": "stream",
     "text": [
      "50    0.607959\n",
      "51    0.464262\n",
      "52    0.416848\n",
      "53    0.486914\n",
      "54    0.474522\n",
      "Name: pred, dtype: float64\n"
     ]
    },
    {
     "data": {
      "text/html": [
       "<div>\n",
       "<style scoped>\n",
       "    .dataframe tbody tr th:only-of-type {\n",
       "        vertical-align: middle;\n",
       "    }\n",
       "\n",
       "    .dataframe tbody tr th {\n",
       "        vertical-align: top;\n",
       "    }\n",
       "\n",
       "    .dataframe thead th {\n",
       "        text-align: right;\n",
       "    }\n",
       "</style>\n",
       "<table border=\"1\" class=\"dataframe\">\n",
       "  <thead>\n",
       "    <tr style=\"text-align: right;\">\n",
       "      <th></th>\n",
       "      <th>pred</th>\n",
       "      <th>lower_bound</th>\n",
       "      <th>upper_bound</th>\n",
       "    </tr>\n",
       "  </thead>\n",
       "  <tbody>\n",
       "    <tr>\n",
       "      <th>50</th>\n",
       "      <td>0.607959</td>\n",
       "      <td>0.201273</td>\n",
       "      <td>1.021186</td>\n",
       "    </tr>\n",
       "    <tr>\n",
       "      <th>51</th>\n",
       "      <td>0.464262</td>\n",
       "      <td>0.064182</td>\n",
       "      <td>0.845240</td>\n",
       "    </tr>\n",
       "    <tr>\n",
       "      <th>52</th>\n",
       "      <td>0.416848</td>\n",
       "      <td>0.018795</td>\n",
       "      <td>0.836962</td>\n",
       "    </tr>\n",
       "    <tr>\n",
       "      <th>53</th>\n",
       "      <td>0.486914</td>\n",
       "      <td>0.119141</td>\n",
       "      <td>0.912634</td>\n",
       "    </tr>\n",
       "    <tr>\n",
       "      <th>54</th>\n",
       "      <td>0.474522</td>\n",
       "      <td>0.120298</td>\n",
       "      <td>0.890369</td>\n",
       "    </tr>\n",
       "  </tbody>\n",
       "</table>\n",
       "</div>"
      ],
      "text/plain": [
       "        pred  lower_bound  upper_bound\n",
       "50  0.607959     0.201273     1.021186\n",
       "51  0.464262     0.064182     0.845240\n",
       "52  0.416848     0.018795     0.836962\n",
       "53  0.486914     0.119141     0.912634\n",
       "54  0.474522     0.120298     0.890369"
      ]
     },
     "execution_count": 81,
     "metadata": {},
     "output_type": "execute_result"
    }
   ],
   "source": [
    "forecaster = ForecasterAutoreg(\n",
    "                regressor = LinearRegression(),\n",
    "                lags = 5,\n",
    "                transformer_y = None,\n",
    "                transformer_exog = None,\n",
    "            )\n",
    "\n",
    "forecaster.fit(y=y)\n",
    "predictions = forecaster.predict(steps=5)\n",
    "print(predictions)\n",
    "predictions = forecaster.predict_interval(steps=5)\n",
    "predictions"
   ]
  },
  {
   "cell_type": "code",
   "execution_count": 82,
   "metadata": {
    "ExecuteTime": {
     "end_time": "2022-07-25T15:59:35.109786Z",
     "start_time": "2022-07-25T15:59:35.042327Z"
    }
   },
   "outputs": [
    {
     "data": {
      "text/plain": [
       "5   -0.072355\n",
       "6    0.447800\n",
       "7    0.035605\n",
       "8    0.033479\n",
       "9   -0.108803\n",
       "Name: y, dtype: float64"
      ]
     },
     "execution_count": 82,
     "metadata": {},
     "output_type": "execute_result"
    }
   ],
   "source": [
    "X_train, y_train = forecaster.create_train_X_y(y=y)\n",
    "residuals = y_train - forecaster.regressor.predict(X_train)\n",
    "residuals[:5]"
   ]
  },
  {
   "cell_type": "code",
   "execution_count": 86,
   "metadata": {
    "ExecuteTime": {
     "end_time": "2022-07-25T16:02:10.188563Z",
     "start_time": "2022-07-25T16:02:09.933963Z"
    }
   },
   "outputs": [
    {
     "name": "stdout",
     "output_type": "stream",
     "text": [
      "50    0.607959\n",
      "51    0.464262\n",
      "52    0.416848\n",
      "53    0.486914\n",
      "54    0.474522\n",
      "Name: pred, dtype: float64\n"
     ]
    },
    {
     "data": {
      "text/html": [
       "<div>\n",
       "<style scoped>\n",
       "    .dataframe tbody tr th:only-of-type {\n",
       "        vertical-align: middle;\n",
       "    }\n",
       "\n",
       "    .dataframe tbody tr th {\n",
       "        vertical-align: top;\n",
       "    }\n",
       "\n",
       "    .dataframe thead th {\n",
       "        text-align: right;\n",
       "    }\n",
       "</style>\n",
       "<table border=\"1\" class=\"dataframe\">\n",
       "  <thead>\n",
       "    <tr style=\"text-align: right;\">\n",
       "      <th></th>\n",
       "      <th>pred</th>\n",
       "      <th>lower_bound</th>\n",
       "      <th>upper_bound</th>\n",
       "    </tr>\n",
       "  </thead>\n",
       "  <tbody>\n",
       "    <tr>\n",
       "      <th>50</th>\n",
       "      <td>0.607959</td>\n",
       "      <td>0.201273</td>\n",
       "      <td>1.021186</td>\n",
       "    </tr>\n",
       "    <tr>\n",
       "      <th>51</th>\n",
       "      <td>0.464262</td>\n",
       "      <td>0.064182</td>\n",
       "      <td>0.845240</td>\n",
       "    </tr>\n",
       "    <tr>\n",
       "      <th>52</th>\n",
       "      <td>0.416848</td>\n",
       "      <td>0.018795</td>\n",
       "      <td>0.836962</td>\n",
       "    </tr>\n",
       "    <tr>\n",
       "      <th>53</th>\n",
       "      <td>0.486914</td>\n",
       "      <td>0.119141</td>\n",
       "      <td>0.912634</td>\n",
       "    </tr>\n",
       "    <tr>\n",
       "      <th>54</th>\n",
       "      <td>0.474522</td>\n",
       "      <td>0.120298</td>\n",
       "      <td>0.890369</td>\n",
       "    </tr>\n",
       "  </tbody>\n",
       "</table>\n",
       "</div>"
      ],
      "text/plain": [
       "        pred  lower_bound  upper_bound\n",
       "50  0.607959     0.201273     1.021186\n",
       "51  0.464262     0.064182     0.845240\n",
       "52  0.416848     0.018795     0.836962\n",
       "53  0.486914     0.119141     0.912634\n",
       "54  0.474522     0.120298     0.890369"
      ]
     },
     "execution_count": 86,
     "metadata": {},
     "output_type": "execute_result"
    }
   ],
   "source": [
    "forecaster = ForecasterAutoreg(\n",
    "                regressor = LinearRegression(),\n",
    "                lags = 5,\n",
    "                transformer_y = StandardScaler(),\n",
    "                transformer_exog = None,\n",
    "            )\n",
    "\n",
    "forecaster.fit(y=y)\n",
    "predictions = forecaster.predict(steps=5)\n",
    "print(predictions)\n",
    "predictions = forecaster.predict_interval(steps=5)\n",
    "predictions"
   ]
  },
  {
   "cell_type": "code",
   "execution_count": 87,
   "metadata": {
    "ExecuteTime": {
     "end_time": "2022-07-25T16:02:11.149957Z",
     "start_time": "2022-07-25T16:02:11.082070Z"
    }
   },
   "outputs": [
    {
     "data": {
      "text/plain": [
       "5   -0.311239\n",
       "6    1.926232\n",
       "7    0.153157\n",
       "8    0.144011\n",
       "9   -0.468021\n",
       "Name: y, dtype: float64"
      ]
     },
     "execution_count": 87,
     "metadata": {},
     "output_type": "execute_result"
    }
   ],
   "source": [
    "X_train, y_train = forecaster.create_train_X_y(y=y)\n",
    "residuals = y_train - forecaster.regressor.predict(X_train)\n",
    "residuals[:5]"
   ]
  },
  {
   "cell_type": "code",
   "execution_count": 97,
   "metadata": {
    "ExecuteTime": {
     "end_time": "2022-07-25T16:05:26.337084Z",
     "start_time": "2022-07-25T16:05:26.260891Z"
    }
   },
   "outputs": [
    {
     "data": {
      "text/plain": [
       "5    0.423106\n",
       "6    0.980764\n",
       "7    0.684830\n",
       "8    0.480932\n",
       "9    0.392118\n",
       "Name: y, dtype: float64"
      ]
     },
     "execution_count": 97,
     "metadata": {},
     "output_type": "execute_result"
    }
   ],
   "source": [
    "y[5:10]"
   ]
  },
  {
   "cell_type": "code",
   "execution_count": 98,
   "metadata": {
    "ExecuteTime": {
     "end_time": "2022-07-25T16:05:46.494402Z",
     "start_time": "2022-07-25T16:05:46.417469Z"
    }
   },
   "outputs": [
    {
     "data": {
      "text/plain": [
       "5    0.423106\n",
       "6    0.980764\n",
       "7    0.684830\n",
       "8    0.480932\n",
       "9    0.392118\n",
       "Name: y, dtype: float64"
      ]
     },
     "execution_count": 98,
     "metadata": {},
     "output_type": "execute_result"
    }
   ],
   "source": [
    "results =  transform_series(\n",
    "                    series = y_train,\n",
    "                    transformer = forecaster.transformer_y,\n",
    "                    fit = False,\n",
    "                    inverse_transform = True\n",
    "               )\n",
    "\n",
    "results[:5]"
   ]
  },
  {
   "cell_type": "code",
   "execution_count": 105,
   "metadata": {
    "ExecuteTime": {
     "end_time": "2022-07-25T16:07:32.180027Z",
     "start_time": "2022-07-25T16:07:32.100049Z"
    }
   },
   "outputs": [
    {
     "data": {
      "text/plain": [
       "0   -0.072355\n",
       "1    0.447800\n",
       "2    0.035605\n",
       "3    0.033479\n",
       "4   -0.108803\n",
       "dtype: float64"
      ]
     },
     "execution_count": 105,
     "metadata": {},
     "output_type": "execute_result"
    }
   ],
   "source": [
    "from skforecast.utils import transform_series\n",
    "\n",
    "predicts = pd.Series(forecaster.regressor.predict(X_train), name='y_pred')\n",
    "\n",
    "predicts_inverse =  transform_series(\n",
    "                    series = predicts,\n",
    "                    transformer = forecaster.transformer_y,\n",
    "                    fit = False,\n",
    "                    inverse_transform = True\n",
    "               )\n",
    "\n",
    "y_inverse =  transform_series(\n",
    "                    series = y_train,\n",
    "                    transformer = forecaster.transformer_y,\n",
    "                    fit = False,\n",
    "                    inverse_transform = True\n",
    "               )\n",
    "\n",
    "(y_inverse.reset_index(drop=True) - predicts_inverse)[:5]"
   ]
  },
  {
   "cell_type": "markdown",
   "metadata": {},
   "source": [
    "### Check y and y_inverse with exog"
   ]
  },
  {
   "cell_type": "code",
   "execution_count": 114,
   "metadata": {
    "ExecuteTime": {
     "end_time": "2022-07-25T16:12:52.814613Z",
     "start_time": "2022-07-25T16:12:52.541246Z"
    }
   },
   "outputs": [
    {
     "name": "stdout",
     "output_type": "stream",
     "text": [
      "50    0.716194\n",
      "51    0.411009\n",
      "52    0.382649\n",
      "53    0.490851\n",
      "54    0.491505\n",
      "Name: pred, dtype: float64\n"
     ]
    },
    {
     "data": {
      "text/html": [
       "<div>\n",
       "<style scoped>\n",
       "    .dataframe tbody tr th:only-of-type {\n",
       "        vertical-align: middle;\n",
       "    }\n",
       "\n",
       "    .dataframe tbody tr th {\n",
       "        vertical-align: top;\n",
       "    }\n",
       "\n",
       "    .dataframe thead th {\n",
       "        text-align: right;\n",
       "    }\n",
       "</style>\n",
       "<table border=\"1\" class=\"dataframe\">\n",
       "  <thead>\n",
       "    <tr style=\"text-align: right;\">\n",
       "      <th></th>\n",
       "      <th>pred</th>\n",
       "      <th>lower_bound</th>\n",
       "      <th>upper_bound</th>\n",
       "    </tr>\n",
       "  </thead>\n",
       "  <tbody>\n",
       "    <tr>\n",
       "      <th>50</th>\n",
       "      <td>0.716194</td>\n",
       "      <td>0.386877</td>\n",
       "      <td>1.142041</td>\n",
       "    </tr>\n",
       "    <tr>\n",
       "      <th>51</th>\n",
       "      <td>0.411009</td>\n",
       "      <td>0.048344</td>\n",
       "      <td>0.788701</td>\n",
       "    </tr>\n",
       "    <tr>\n",
       "      <th>52</th>\n",
       "      <td>0.382649</td>\n",
       "      <td>0.011079</td>\n",
       "      <td>0.778885</td>\n",
       "    </tr>\n",
       "    <tr>\n",
       "      <th>53</th>\n",
       "      <td>0.490851</td>\n",
       "      <td>0.127913</td>\n",
       "      <td>0.908201</td>\n",
       "    </tr>\n",
       "    <tr>\n",
       "      <th>54</th>\n",
       "      <td>0.491505</td>\n",
       "      <td>0.159317</td>\n",
       "      <td>0.884958</td>\n",
       "    </tr>\n",
       "  </tbody>\n",
       "</table>\n",
       "</div>"
      ],
      "text/plain": [
       "        pred  lower_bound  upper_bound\n",
       "50  0.716194     0.386877     1.142041\n",
       "51  0.411009     0.048344     0.788701\n",
       "52  0.382649     0.011079     0.778885\n",
       "53  0.490851     0.127913     0.908201\n",
       "54  0.491505     0.159317     0.884958"
      ]
     },
     "execution_count": 114,
     "metadata": {},
     "output_type": "execute_result"
    }
   ],
   "source": [
    "forecaster = ForecasterAutoreg(\n",
    "                regressor = LinearRegression(),\n",
    "                lags = 5,\n",
    "                transformer_y = None,\n",
    "                transformer_exog = None,\n",
    "            )\n",
    "\n",
    "forecaster.fit(y=y, exog=exog)\n",
    "predictions = forecaster.predict(steps=5, exog=exog)\n",
    "print(predictions)\n",
    "predictions = forecaster.predict_interval(steps=5, exog=exog)\n",
    "predictions"
   ]
  },
  {
   "cell_type": "code",
   "execution_count": 137,
   "metadata": {
    "ExecuteTime": {
     "end_time": "2022-07-25T17:17:45.408193Z",
     "start_time": "2022-07-25T17:17:45.291711Z"
    }
   },
   "outputs": [
    {
     "name": "stderr",
     "output_type": "stream",
     "text": [
      "C:\\Users\\jaesc2\\Miniconda3\\envs\\food_digital\\lib\\site-packages\\sklearn\\base.py:493: FutureWarning: The feature names should match those that were passed during fit. Starting version 1.2, an error will be raised.\n",
      "Feature names seen at fit time, yet now missing:\n",
      "- exog\n",
      "\n",
      "  warnings.warn(message, FutureWarning)\n"
     ]
    },
    {
     "ename": "ValueError",
     "evalue": "X has 5 features, but LinearRegression is expecting 6 features as input.",
     "output_type": "error",
     "traceback": [
      "\u001b[1;31m---------------------------------------------------------------------------\u001b[0m",
      "\u001b[1;31mValueError\u001b[0m                                Traceback (most recent call last)",
      "Input \u001b[1;32mIn [137]\u001b[0m, in \u001b[0;36m<cell line: 2>\u001b[1;34m()\u001b[0m\n\u001b[0;32m      1\u001b[0m X_train, y_train \u001b[38;5;241m=\u001b[39m forecaster\u001b[38;5;241m.\u001b[39mcreate_train_X_y(y\u001b[38;5;241m=\u001b[39my)\n\u001b[1;32m----> 2\u001b[0m residuals \u001b[38;5;241m=\u001b[39m y_train \u001b[38;5;241m-\u001b[39m \u001b[43mforecaster\u001b[49m\u001b[38;5;241;43m.\u001b[39;49m\u001b[43mregressor\u001b[49m\u001b[38;5;241;43m.\u001b[39;49m\u001b[43mpredict\u001b[49m\u001b[43m(\u001b[49m\u001b[43mX_train\u001b[49m\u001b[43m)\u001b[49m\n\u001b[0;32m      3\u001b[0m residuals[:\u001b[38;5;241m5\u001b[39m]\n",
      "File \u001b[1;32m~\\Miniconda3\\envs\\food_digital\\lib\\site-packages\\sklearn\\linear_model\\_base.py:386\u001b[0m, in \u001b[0;36mLinearModel.predict\u001b[1;34m(self, X)\u001b[0m\n\u001b[0;32m    372\u001b[0m \u001b[38;5;28;01mdef\u001b[39;00m \u001b[38;5;21mpredict\u001b[39m(\u001b[38;5;28mself\u001b[39m, X):\n\u001b[0;32m    373\u001b[0m     \u001b[38;5;124;03m\"\"\"\u001b[39;00m\n\u001b[0;32m    374\u001b[0m \u001b[38;5;124;03m    Predict using the linear model.\u001b[39;00m\n\u001b[0;32m    375\u001b[0m \n\u001b[1;32m   (...)\u001b[0m\n\u001b[0;32m    384\u001b[0m \u001b[38;5;124;03m        Returns predicted values.\u001b[39;00m\n\u001b[0;32m    385\u001b[0m \u001b[38;5;124;03m    \"\"\"\u001b[39;00m\n\u001b[1;32m--> 386\u001b[0m     \u001b[38;5;28;01mreturn\u001b[39;00m \u001b[38;5;28;43mself\u001b[39;49m\u001b[38;5;241;43m.\u001b[39;49m\u001b[43m_decision_function\u001b[49m\u001b[43m(\u001b[49m\u001b[43mX\u001b[49m\u001b[43m)\u001b[49m\n",
      "File \u001b[1;32m~\\Miniconda3\\envs\\food_digital\\lib\\site-packages\\sklearn\\linear_model\\_base.py:369\u001b[0m, in \u001b[0;36mLinearModel._decision_function\u001b[1;34m(self, X)\u001b[0m\n\u001b[0;32m    366\u001b[0m \u001b[38;5;28;01mdef\u001b[39;00m \u001b[38;5;21m_decision_function\u001b[39m(\u001b[38;5;28mself\u001b[39m, X):\n\u001b[0;32m    367\u001b[0m     check_is_fitted(\u001b[38;5;28mself\u001b[39m)\n\u001b[1;32m--> 369\u001b[0m     X \u001b[38;5;241m=\u001b[39m \u001b[38;5;28;43mself\u001b[39;49m\u001b[38;5;241;43m.\u001b[39;49m\u001b[43m_validate_data\u001b[49m\u001b[43m(\u001b[49m\u001b[43mX\u001b[49m\u001b[43m,\u001b[49m\u001b[43m \u001b[49m\u001b[43maccept_sparse\u001b[49m\u001b[38;5;241;43m=\u001b[39;49m\u001b[43m[\u001b[49m\u001b[38;5;124;43m\"\u001b[39;49m\u001b[38;5;124;43mcsr\u001b[39;49m\u001b[38;5;124;43m\"\u001b[39;49m\u001b[43m,\u001b[49m\u001b[43m \u001b[49m\u001b[38;5;124;43m\"\u001b[39;49m\u001b[38;5;124;43mcsc\u001b[39;49m\u001b[38;5;124;43m\"\u001b[39;49m\u001b[43m,\u001b[49m\u001b[43m \u001b[49m\u001b[38;5;124;43m\"\u001b[39;49m\u001b[38;5;124;43mcoo\u001b[39;49m\u001b[38;5;124;43m\"\u001b[39;49m\u001b[43m]\u001b[49m\u001b[43m,\u001b[49m\u001b[43m \u001b[49m\u001b[43mreset\u001b[49m\u001b[38;5;241;43m=\u001b[39;49m\u001b[38;5;28;43;01mFalse\u001b[39;49;00m\u001b[43m)\u001b[49m\n\u001b[0;32m    370\u001b[0m     \u001b[38;5;28;01mreturn\u001b[39;00m safe_sparse_dot(X, \u001b[38;5;28mself\u001b[39m\u001b[38;5;241m.\u001b[39mcoef_\u001b[38;5;241m.\u001b[39mT, dense_output\u001b[38;5;241m=\u001b[39m\u001b[38;5;28;01mTrue\u001b[39;00m) \u001b[38;5;241m+\u001b[39m \u001b[38;5;28mself\u001b[39m\u001b[38;5;241m.\u001b[39mintercept_\n",
      "File \u001b[1;32m~\\Miniconda3\\envs\\food_digital\\lib\\site-packages\\sklearn\\base.py:600\u001b[0m, in \u001b[0;36mBaseEstimator._validate_data\u001b[1;34m(self, X, y, reset, validate_separately, **check_params)\u001b[0m\n\u001b[0;32m    597\u001b[0m     out \u001b[38;5;241m=\u001b[39m X, y\n\u001b[0;32m    599\u001b[0m \u001b[38;5;28;01mif\u001b[39;00m \u001b[38;5;129;01mnot\u001b[39;00m no_val_X \u001b[38;5;129;01mand\u001b[39;00m check_params\u001b[38;5;241m.\u001b[39mget(\u001b[38;5;124m\"\u001b[39m\u001b[38;5;124mensure_2d\u001b[39m\u001b[38;5;124m\"\u001b[39m, \u001b[38;5;28;01mTrue\u001b[39;00m):\n\u001b[1;32m--> 600\u001b[0m     \u001b[38;5;28;43mself\u001b[39;49m\u001b[38;5;241;43m.\u001b[39;49m\u001b[43m_check_n_features\u001b[49m\u001b[43m(\u001b[49m\u001b[43mX\u001b[49m\u001b[43m,\u001b[49m\u001b[43m \u001b[49m\u001b[43mreset\u001b[49m\u001b[38;5;241;43m=\u001b[39;49m\u001b[43mreset\u001b[49m\u001b[43m)\u001b[49m\n\u001b[0;32m    602\u001b[0m \u001b[38;5;28;01mreturn\u001b[39;00m out\n",
      "File \u001b[1;32m~\\Miniconda3\\envs\\food_digital\\lib\\site-packages\\sklearn\\base.py:400\u001b[0m, in \u001b[0;36mBaseEstimator._check_n_features\u001b[1;34m(self, X, reset)\u001b[0m\n\u001b[0;32m    397\u001b[0m     \u001b[38;5;28;01mreturn\u001b[39;00m\n\u001b[0;32m    399\u001b[0m \u001b[38;5;28;01mif\u001b[39;00m n_features \u001b[38;5;241m!=\u001b[39m \u001b[38;5;28mself\u001b[39m\u001b[38;5;241m.\u001b[39mn_features_in_:\n\u001b[1;32m--> 400\u001b[0m     \u001b[38;5;28;01mraise\u001b[39;00m \u001b[38;5;167;01mValueError\u001b[39;00m(\n\u001b[0;32m    401\u001b[0m         \u001b[38;5;124mf\u001b[39m\u001b[38;5;124m\"\u001b[39m\u001b[38;5;124mX has \u001b[39m\u001b[38;5;132;01m{\u001b[39;00mn_features\u001b[38;5;132;01m}\u001b[39;00m\u001b[38;5;124m features, but \u001b[39m\u001b[38;5;132;01m{\u001b[39;00m\u001b[38;5;28mself\u001b[39m\u001b[38;5;241m.\u001b[39m\u001b[38;5;18m__class__\u001b[39m\u001b[38;5;241m.\u001b[39m\u001b[38;5;18m__name__\u001b[39m\u001b[38;5;132;01m}\u001b[39;00m\u001b[38;5;124m \u001b[39m\u001b[38;5;124m\"\u001b[39m\n\u001b[0;32m    402\u001b[0m         \u001b[38;5;124mf\u001b[39m\u001b[38;5;124m\"\u001b[39m\u001b[38;5;124mis expecting \u001b[39m\u001b[38;5;132;01m{\u001b[39;00m\u001b[38;5;28mself\u001b[39m\u001b[38;5;241m.\u001b[39mn_features_in_\u001b[38;5;132;01m}\u001b[39;00m\u001b[38;5;124m features as input.\u001b[39m\u001b[38;5;124m\"\u001b[39m\n\u001b[0;32m    403\u001b[0m     )\n",
      "\u001b[1;31mValueError\u001b[0m: X has 5 features, but LinearRegression is expecting 6 features as input."
     ]
    }
   ],
   "source": [
    "X_train, y_train = forecaster.create_train_X_y(y=y)\n",
    "residuals = y_train - forecaster.regressor.predict(X_train)\n",
    "residuals[:5]"
   ]
  },
  {
   "cell_type": "code",
   "execution_count": 116,
   "metadata": {
    "ExecuteTime": {
     "end_time": "2022-07-25T16:13:00.955304Z",
     "start_time": "2022-07-25T16:13:00.700353Z"
    }
   },
   "outputs": [
    {
     "name": "stdout",
     "output_type": "stream",
     "text": [
      "50    0.716194\n",
      "51    0.411009\n",
      "52    0.382649\n",
      "53    0.490851\n",
      "54    0.491505\n",
      "Name: pred, dtype: float64\n"
     ]
    },
    {
     "data": {
      "text/html": [
       "<div>\n",
       "<style scoped>\n",
       "    .dataframe tbody tr th:only-of-type {\n",
       "        vertical-align: middle;\n",
       "    }\n",
       "\n",
       "    .dataframe tbody tr th {\n",
       "        vertical-align: top;\n",
       "    }\n",
       "\n",
       "    .dataframe thead th {\n",
       "        text-align: right;\n",
       "    }\n",
       "</style>\n",
       "<table border=\"1\" class=\"dataframe\">\n",
       "  <thead>\n",
       "    <tr style=\"text-align: right;\">\n",
       "      <th></th>\n",
       "      <th>pred</th>\n",
       "      <th>lower_bound</th>\n",
       "      <th>upper_bound</th>\n",
       "    </tr>\n",
       "  </thead>\n",
       "  <tbody>\n",
       "    <tr>\n",
       "      <th>50</th>\n",
       "      <td>0.716194</td>\n",
       "      <td>0.386877</td>\n",
       "      <td>1.142041</td>\n",
       "    </tr>\n",
       "    <tr>\n",
       "      <th>51</th>\n",
       "      <td>0.411009</td>\n",
       "      <td>0.048344</td>\n",
       "      <td>0.788701</td>\n",
       "    </tr>\n",
       "    <tr>\n",
       "      <th>52</th>\n",
       "      <td>0.382649</td>\n",
       "      <td>0.011079</td>\n",
       "      <td>0.778885</td>\n",
       "    </tr>\n",
       "    <tr>\n",
       "      <th>53</th>\n",
       "      <td>0.490851</td>\n",
       "      <td>0.127913</td>\n",
       "      <td>0.908201</td>\n",
       "    </tr>\n",
       "    <tr>\n",
       "      <th>54</th>\n",
       "      <td>0.491505</td>\n",
       "      <td>0.159317</td>\n",
       "      <td>0.884958</td>\n",
       "    </tr>\n",
       "  </tbody>\n",
       "</table>\n",
       "</div>"
      ],
      "text/plain": [
       "        pred  lower_bound  upper_bound\n",
       "50  0.716194     0.386877     1.142041\n",
       "51  0.411009     0.048344     0.788701\n",
       "52  0.382649     0.011079     0.778885\n",
       "53  0.490851     0.127913     0.908201\n",
       "54  0.491505     0.159317     0.884958"
      ]
     },
     "execution_count": 116,
     "metadata": {},
     "output_type": "execute_result"
    }
   ],
   "source": [
    "forecaster = ForecasterAutoreg(\n",
    "                regressor = LinearRegression(),\n",
    "                lags = 5,\n",
    "                transformer_y = None,\n",
    "                transformer_exog = StandardScaler(),\n",
    "            )\n",
    "\n",
    "forecaster.fit(y=y, exog=exog)\n",
    "predictions = forecaster.predict(steps=5, exog=exog)\n",
    "print(predictions)\n",
    "predictions = forecaster.predict_interval(steps=5, exog=exog)\n",
    "predictions"
   ]
  },
  {
   "cell_type": "code",
   "execution_count": 117,
   "metadata": {
    "ExecuteTime": {
     "end_time": "2022-07-25T16:13:04.421653Z",
     "start_time": "2022-07-25T16:13:04.337526Z"
    }
   },
   "outputs": [
    {
     "data": {
      "text/plain": [
       "5   -0.118726\n",
       "6    0.425847\n",
       "7    0.053789\n",
       "8    0.114286\n",
       "9   -0.131428\n",
       "Name: y, dtype: float64"
      ]
     },
     "execution_count": 117,
     "metadata": {},
     "output_type": "execute_result"
    }
   ],
   "source": [
    "X_train, y_train = forecaster.create_train_X_y(y=y, exog=exog)\n",
    "residuals = y_train - forecaster.regressor.predict(X_train)\n",
    "residuals[:5]"
   ]
  },
  {
   "cell_type": "code",
   "execution_count": 113,
   "metadata": {
    "ExecuteTime": {
     "end_time": "2022-07-25T16:11:37.750152Z",
     "start_time": "2022-07-25T16:11:37.662669Z"
    }
   },
   "outputs": [
    {
     "data": {
      "text/plain": [
       "0   -0.118726\n",
       "1    0.425847\n",
       "2    0.053789\n",
       "3    0.114286\n",
       "4   -0.131428\n",
       "dtype: float64"
      ]
     },
     "execution_count": 113,
     "metadata": {},
     "output_type": "execute_result"
    }
   ],
   "source": [
    "from skforecast.utils import transform_series\n",
    "\n",
    "predicts = pd.Series(forecaster.regressor.predict(X_train), name='y_pred')\n",
    "\n",
    "predicts_inverse =  transform_series(\n",
    "                    series = predicts,\n",
    "                    transformer = forecaster.transformer_y,\n",
    "                    fit = False,\n",
    "                    inverse_transform = True\n",
    "               )\n",
    "\n",
    "y_inverse =  transform_series(\n",
    "                    series = y_train,\n",
    "                    transformer = forecaster.transformer_y,\n",
    "                    fit = False,\n",
    "                    inverse_transform = True\n",
    "               )\n",
    "\n",
    "(y_inverse.reset_index(drop=True) - predicts_inverse)[:5]"
   ]
  },
  {
   "cell_type": "markdown",
   "metadata": {},
   "source": [
    "## Multi series"
   ]
  },
  {
   "cell_type": "code",
   "execution_count": 32,
   "metadata": {
    "ExecuteTime": {
     "end_time": "2022-07-25T15:14:53.997531Z",
     "start_time": "2022-07-25T15:14:53.932833Z"
    }
   },
   "outputs": [],
   "source": [
    "from sklearn.base import clone"
   ]
  },
  {
   "cell_type": "code",
   "execution_count": 33,
   "metadata": {
    "ExecuteTime": {
     "end_time": "2022-07-25T15:14:54.813536Z",
     "start_time": "2022-07-25T15:14:54.747162Z"
    }
   },
   "outputs": [],
   "source": [
    "series_levels = ['1', '2']\n",
    "transformer_series = StandardScaler()"
   ]
  },
  {
   "cell_type": "code",
   "execution_count": 34,
   "metadata": {
    "ExecuteTime": {
     "end_time": "2022-07-25T15:14:55.404074Z",
     "start_time": "2022-07-25T15:14:55.324597Z"
    }
   },
   "outputs": [
    {
     "data": {
      "text/plain": [
       "{'1': StandardScaler(), '2': StandardScaler()}"
      ]
     },
     "execution_count": 34,
     "metadata": {},
     "output_type": "execute_result"
    }
   ],
   "source": [
    "dict_transformers = {level: clone(transformer_series) \n",
    "                     for level in series_levels}\n",
    "dict_transformers"
   ]
  },
  {
   "cell_type": "code",
   "execution_count": 40,
   "metadata": {
    "ExecuteTime": {
     "end_time": "2022-07-25T15:15:53.798424Z",
     "start_time": "2022-07-25T15:15:53.711384Z"
    }
   },
   "outputs": [
    {
     "data": {
      "text/html": [
       "<style>#sk-container-id-2 {color: black;background-color: white;}#sk-container-id-2 pre{padding: 0;}#sk-container-id-2 div.sk-toggleable {background-color: white;}#sk-container-id-2 label.sk-toggleable__label {cursor: pointer;display: block;width: 100%;margin-bottom: 0;padding: 0.3em;box-sizing: border-box;text-align: center;}#sk-container-id-2 label.sk-toggleable__label-arrow:before {content: \"▸\";float: left;margin-right: 0.25em;color: #696969;}#sk-container-id-2 label.sk-toggleable__label-arrow:hover:before {color: black;}#sk-container-id-2 div.sk-estimator:hover label.sk-toggleable__label-arrow:before {color: black;}#sk-container-id-2 div.sk-toggleable__content {max-height: 0;max-width: 0;overflow: hidden;text-align: left;background-color: #f0f8ff;}#sk-container-id-2 div.sk-toggleable__content pre {margin: 0.2em;color: black;border-radius: 0.25em;background-color: #f0f8ff;}#sk-container-id-2 input.sk-toggleable__control:checked~div.sk-toggleable__content {max-height: 200px;max-width: 100%;overflow: auto;}#sk-container-id-2 input.sk-toggleable__control:checked~label.sk-toggleable__label-arrow:before {content: \"▾\";}#sk-container-id-2 div.sk-estimator input.sk-toggleable__control:checked~label.sk-toggleable__label {background-color: #d4ebff;}#sk-container-id-2 div.sk-label input.sk-toggleable__control:checked~label.sk-toggleable__label {background-color: #d4ebff;}#sk-container-id-2 input.sk-hidden--visually {border: 0;clip: rect(1px 1px 1px 1px);clip: rect(1px, 1px, 1px, 1px);height: 1px;margin: -1px;overflow: hidden;padding: 0;position: absolute;width: 1px;}#sk-container-id-2 div.sk-estimator {font-family: monospace;background-color: #f0f8ff;border: 1px dotted black;border-radius: 0.25em;box-sizing: border-box;margin-bottom: 0.5em;}#sk-container-id-2 div.sk-estimator:hover {background-color: #d4ebff;}#sk-container-id-2 div.sk-parallel-item::after {content: \"\";width: 100%;border-bottom: 1px solid gray;flex-grow: 1;}#sk-container-id-2 div.sk-label:hover label.sk-toggleable__label {background-color: #d4ebff;}#sk-container-id-2 div.sk-serial::before {content: \"\";position: absolute;border-left: 1px solid gray;box-sizing: border-box;top: 0;bottom: 0;left: 50%;z-index: 0;}#sk-container-id-2 div.sk-serial {display: flex;flex-direction: column;align-items: center;background-color: white;padding-right: 0.2em;padding-left: 0.2em;position: relative;}#sk-container-id-2 div.sk-item {position: relative;z-index: 1;}#sk-container-id-2 div.sk-parallel {display: flex;align-items: stretch;justify-content: center;background-color: white;position: relative;}#sk-container-id-2 div.sk-item::before, #sk-container-id-2 div.sk-parallel-item::before {content: \"\";position: absolute;border-left: 1px solid gray;box-sizing: border-box;top: 0;bottom: 0;left: 50%;z-index: -1;}#sk-container-id-2 div.sk-parallel-item {display: flex;flex-direction: column;z-index: 1;position: relative;background-color: white;}#sk-container-id-2 div.sk-parallel-item:first-child::after {align-self: flex-end;width: 50%;}#sk-container-id-2 div.sk-parallel-item:last-child::after {align-self: flex-start;width: 50%;}#sk-container-id-2 div.sk-parallel-item:only-child::after {width: 0;}#sk-container-id-2 div.sk-dashed-wrapped {border: 1px dashed gray;margin: 0 0.4em 0.5em 0.4em;box-sizing: border-box;padding-bottom: 0.4em;background-color: white;}#sk-container-id-2 div.sk-label label {font-family: monospace;font-weight: bold;display: inline-block;line-height: 1.2em;}#sk-container-id-2 div.sk-label-container {text-align: center;}#sk-container-id-2 div.sk-container {/* jupyter's `normalize.less` sets `[hidden] { display: none; }` but bootstrap.min.css set `[hidden] { display: none !important; }` so we also need the `!important` here to be able to override the default hidden behavior on the sphinx rendered scikit-learn.org. See: https://github.com/scikit-learn/scikit-learn/issues/21755 */display: inline-block !important;position: relative;}#sk-container-id-2 div.sk-text-repr-fallback {display: none;}</style><div id=\"sk-container-id-2\" class=\"sk-top-container\"><div class=\"sk-text-repr-fallback\"><pre>StandardScaler()</pre><b>In a Jupyter environment, please rerun this cell to show the HTML representation or trust the notebook. <br />On GitHub, the HTML representation is unable to render, please try loading this page with nbviewer.org.</b></div><div class=\"sk-container\" hidden><div class=\"sk-item\"><div class=\"sk-estimator sk-toggleable\"><input class=\"sk-toggleable__control sk-hidden--visually\" id=\"sk-estimator-id-2\" type=\"checkbox\" checked><label for=\"sk-estimator-id-2\" class=\"sk-toggleable__label sk-toggleable__label-arrow\">StandardScaler</label><div class=\"sk-toggleable__content\"><pre>StandardScaler()</pre></div></div></div></div></div>"
      ],
      "text/plain": [
       "StandardScaler()"
      ]
     },
     "execution_count": 40,
     "metadata": {},
     "output_type": "execute_result"
    }
   ],
   "source": [
    "dict_transformers['1'].fit(y.to_frame())"
   ]
  },
  {
   "cell_type": "code",
   "execution_count": 134,
   "metadata": {
    "ExecuteTime": {
     "end_time": "2022-07-25T17:13:06.682423Z",
     "start_time": "2022-07-25T17:13:06.602413Z"
    }
   },
   "outputs": [
    {
     "data": {
      "text/plain": [
       "{'1': None, '2': None}"
      ]
     },
     "execution_count": 134,
     "metadata": {},
     "output_type": "execute_result"
    }
   ],
   "source": [
    "dict_transformers = {level: None for level in series_levels}"
   ]
  },
  {
   "cell_type": "code",
   "execution_count": 168,
   "metadata": {
    "ExecuteTime": {
     "end_time": "2022-07-25T18:16:12.147843Z",
     "start_time": "2022-07-25T18:16:11.978867Z"
    }
   },
   "outputs": [],
   "source": [
    "series_no_transform = pd.DataFrame({'1': pd.Series(np.array(\n",
    "                                [0.69646919, 0.28613933, 0.22685145, 0.55131477, 0.71946897,\n",
    "                                 0.42310646, 0.9807642 , 0.68482974, 0.4809319 , 0.39211752,\n",
    "                                 0.34317802, 0.72904971, 0.43857224, 0.0596779 , 0.39804426,\n",
    "                                 0.73799541, 0.18249173, 0.17545176, 0.53155137, 0.53182759,\n",
    "                                 0.63440096, 0.84943179, 0.72445532, 0.61102351, 0.72244338,\n",
    "                                 0.32295891, 0.36178866, 0.22826323, 0.29371405, 0.63097612,\n",
    "                                 0.09210494, 0.43370117, 0.43086276, 0.4936851 , 0.42583029,\n",
    "                                 0.31226122, 0.42635131, 0.89338916, 0.94416002, 0.50183668,\n",
    "                                 0.62395295, 0.1156184 , 0.31728548, 0.41482621, 0.86630916,\n",
    "                                 0.25045537, 0.48303426, 0.98555979, 0.51948512, 0.61289453]\n",
    "                                      )\n",
    "                            ), \n",
    "                       '2': pd.Series(np.array(\n",
    "                                [0.12062867, 0.8263408 , 0.60306013, 0.54506801, 0.34276383,\n",
    "                                 0.30412079, 0.41702221, 0.68130077, 0.87545684, 0.51042234,\n",
    "                                 0.66931378, 0.58593655, 0.6249035 , 0.67468905, 0.84234244,\n",
    "                                 0.08319499, 0.76368284, 0.24366637, 0.19422296, 0.57245696,\n",
    "                                 0.09571252, 0.88532683, 0.62724897, 0.72341636, 0.01612921,\n",
    "                                 0.59443188, 0.55678519, 0.15895964, 0.15307052, 0.69552953,\n",
    "                                 0.31876643, 0.6919703 , 0.55438325, 0.38895057, 0.92513249,\n",
    "                                 0.84167   , 0.35739757, 0.04359146, 0.30476807, 0.39818568,\n",
    "                                 0.70495883, 0.99535848, 0.35591487, 0.76254781, 0.59317692,\n",
    "                                 0.6917018 , 0.15112745, 0.39887629, 0.2408559 , 0.34345601]\n",
    "                                      )\n",
    "                            )\n",
    "                      }\n",
    "         )"
   ]
  },
  {
   "cell_type": "code",
   "execution_count": 169,
   "metadata": {
    "ExecuteTime": {
     "end_time": "2022-07-25T18:16:19.082400Z",
     "start_time": "2022-07-25T18:16:18.990401Z"
    }
   },
   "outputs": [
    {
     "data": {
      "text/plain": [
       "50    0.520636\n",
       "51    0.442313\n",
       "52    0.422261\n",
       "53    0.480834\n",
       "54    0.484054\n",
       "Name: pred, dtype: float64"
      ]
     },
     "execution_count": 169,
     "metadata": {},
     "output_type": "execute_result"
    }
   ],
   "source": [
    "from skforecast.ForecasterAutoregMultiSeries import ForecasterAutoregMultiSeries\n",
    "\n",
    "forecaster = ForecasterAutoregMultiSeries(\n",
    "                regressor = LinearRegression(),\n",
    "                lags = 5,\n",
    "                transformer_series = None,\n",
    "             )\n",
    "forecaster.fit(series = series_no_transform)\n",
    "predictions = forecaster.predict(steps=5, level='1')\n",
    "predictions"
   ]
  },
  {
   "cell_type": "code",
   "execution_count": 235,
   "metadata": {
    "ExecuteTime": {
     "end_time": "2022-07-25T19:08:15.674896Z",
     "start_time": "2022-07-25T19:08:15.295330Z"
    }
   },
   "outputs": [
    {
     "name": "stdout",
     "output_type": "stream",
     "text": [
      "50    0.527914\n",
      "51    0.445097\n",
      "52    0.421760\n",
      "53    0.480872\n",
      "54    0.482680\n",
      "Name: pred, dtype: float64\n"
     ]
    },
    {
     "data": {
      "text/html": [
       "<div>\n",
       "<style scoped>\n",
       "    .dataframe tbody tr th:only-of-type {\n",
       "        vertical-align: middle;\n",
       "    }\n",
       "\n",
       "    .dataframe tbody tr th {\n",
       "        vertical-align: top;\n",
       "    }\n",
       "\n",
       "    .dataframe thead th {\n",
       "        text-align: right;\n",
       "    }\n",
       "</style>\n",
       "<table border=\"1\" class=\"dataframe\">\n",
       "  <thead>\n",
       "    <tr style=\"text-align: right;\">\n",
       "      <th></th>\n",
       "      <th>pred</th>\n",
       "      <th>lower_bound</th>\n",
       "      <th>upper_bound</th>\n",
       "    </tr>\n",
       "  </thead>\n",
       "  <tbody>\n",
       "    <tr>\n",
       "      <th>50</th>\n",
       "      <td>0.527914</td>\n",
       "      <td>0.183963</td>\n",
       "      <td>0.957541</td>\n",
       "    </tr>\n",
       "    <tr>\n",
       "      <th>51</th>\n",
       "      <td>0.445097</td>\n",
       "      <td>0.012898</td>\n",
       "      <td>0.844171</td>\n",
       "    </tr>\n",
       "    <tr>\n",
       "      <th>52</th>\n",
       "      <td>0.421760</td>\n",
       "      <td>0.055388</td>\n",
       "      <td>0.828602</td>\n",
       "    </tr>\n",
       "    <tr>\n",
       "      <th>53</th>\n",
       "      <td>0.480872</td>\n",
       "      <td>0.138192</td>\n",
       "      <td>0.895578</td>\n",
       "    </tr>\n",
       "    <tr>\n",
       "      <th>54</th>\n",
       "      <td>0.482680</td>\n",
       "      <td>0.130911</td>\n",
       "      <td>0.905538</td>\n",
       "    </tr>\n",
       "  </tbody>\n",
       "</table>\n",
       "</div>"
      ],
      "text/plain": [
       "        pred  lower_bound  upper_bound\n",
       "50  0.527914     0.183963     0.957541\n",
       "51  0.445097     0.012898     0.844171\n",
       "52  0.421760     0.055388     0.828602\n",
       "53  0.480872     0.138192     0.895578\n",
       "54  0.482680     0.130911     0.905538"
      ]
     },
     "execution_count": 235,
     "metadata": {},
     "output_type": "execute_result"
    }
   ],
   "source": [
    "forecaster = ForecasterAutoregMultiSeries(\n",
    "                regressor = LinearRegression(),\n",
    "                lags = 5,\n",
    "                transformer_series = StandardScaler(),\n",
    "             )\n",
    "forecaster.fit(series = series_no_transform)\n",
    "predictions = forecaster.predict(steps=5, level='1')\n",
    "print(predictions)\n",
    "predictions = forecaster.predict_interval(steps=5, level='1')\n",
    "predictions"
   ]
  },
  {
   "cell_type": "code",
   "execution_count": 230,
   "metadata": {
    "ExecuteTime": {
     "end_time": "2022-07-25T19:04:09.812814Z",
     "start_time": "2022-07-25T19:04:09.700790Z"
    }
   },
   "outputs": [
    {
     "data": {
      "text/plain": [
       "array([0.52791431, 0.44509712, 0.42176045, 0.48087237, 0.48268008])"
      ]
     },
     "execution_count": 230,
     "metadata": {},
     "output_type": "execute_result"
    }
   ],
   "source": [
    "m = StandardScaler().fit(series_no_transform)\n",
    "series_transform = pd.DataFrame(m.transform(series_no_transform),\n",
    "                                columns = series_no_transform.columns)\n",
    "\n",
    "forecaster = ForecasterAutoregMultiSeries(\n",
    "                regressor = LinearRegression(),\n",
    "                lags = 5,\n",
    "                transformer_series = None,\n",
    "             )\n",
    "forecaster.fit(series = series_transform)\n",
    "predictions = forecaster.predict(steps=5, level='1')\n",
    "predictions = predictions.to_frame()\n",
    "predictions['naive'] = [1]*len(predictions)\n",
    "m.inverse_transform(predictions)[:, 0]"
   ]
  },
  {
   "cell_type": "code",
   "execution_count": 233,
   "metadata": {
    "ExecuteTime": {
     "end_time": "2022-07-25T19:05:42.315420Z",
     "start_time": "2022-07-25T19:05:41.966626Z"
    }
   },
   "outputs": [
    {
     "data": {
      "text/plain": [
       "50    0.112083\n",
       "51   -0.244159\n",
       "52   -0.344542\n",
       "53   -0.090270\n",
       "54   -0.082494\n",
       "Name: pred, dtype: float64"
      ]
     },
     "execution_count": 233,
     "metadata": {},
     "output_type": "execute_result"
    }
   ],
   "source": [
    "predictions = forecaster.predict_interval(steps=5, level='1')\n",
    "predictions['pred']"
   ]
  },
  {
   "cell_type": "code",
   "execution_count": 234,
   "metadata": {
    "ExecuteTime": {
     "end_time": "2022-07-25T19:07:43.780007Z",
     "start_time": "2022-07-25T19:07:43.377847Z"
    }
   },
   "outputs": [
    {
     "data": {
      "text/html": [
       "<div>\n",
       "<style scoped>\n",
       "    .dataframe tbody tr th:only-of-type {\n",
       "        vertical-align: middle;\n",
       "    }\n",
       "\n",
       "    .dataframe tbody tr th {\n",
       "        vertical-align: top;\n",
       "    }\n",
       "\n",
       "    .dataframe thead th {\n",
       "        text-align: right;\n",
       "    }\n",
       "</style>\n",
       "<table border=\"1\" class=\"dataframe\">\n",
       "  <thead>\n",
       "    <tr style=\"text-align: right;\">\n",
       "      <th></th>\n",
       "      <th>pred</th>\n",
       "      <th>lower_bound</th>\n",
       "      <th>upper_bound</th>\n",
       "    </tr>\n",
       "  </thead>\n",
       "  <tbody>\n",
       "    <tr>\n",
       "      <th>50</th>\n",
       "      <td>0.527914</td>\n",
       "      <td>0.183963</td>\n",
       "      <td>0.957541</td>\n",
       "    </tr>\n",
       "    <tr>\n",
       "      <th>51</th>\n",
       "      <td>0.445097</td>\n",
       "      <td>0.012898</td>\n",
       "      <td>0.844171</td>\n",
       "    </tr>\n",
       "    <tr>\n",
       "      <th>52</th>\n",
       "      <td>0.421760</td>\n",
       "      <td>0.055388</td>\n",
       "      <td>0.828602</td>\n",
       "    </tr>\n",
       "    <tr>\n",
       "      <th>53</th>\n",
       "      <td>0.480872</td>\n",
       "      <td>0.138192</td>\n",
       "      <td>0.895578</td>\n",
       "    </tr>\n",
       "    <tr>\n",
       "      <th>54</th>\n",
       "      <td>0.482680</td>\n",
       "      <td>0.130911</td>\n",
       "      <td>0.905538</td>\n",
       "    </tr>\n",
       "  </tbody>\n",
       "</table>\n",
       "</div>"
      ],
      "text/plain": [
       "        pred  lower_bound  upper_bound\n",
       "50  0.527914     0.183963     0.957541\n",
       "51  0.445097     0.012898     0.844171\n",
       "52  0.421760     0.055388     0.828602\n",
       "53  0.480872     0.138192     0.895578\n",
       "54  0.482680     0.130911     0.905538"
      ]
     },
     "execution_count": 234,
     "metadata": {},
     "output_type": "execute_result"
    }
   ],
   "source": [
    "predictions = forecaster.predict_interval(steps=5, level='1')\n",
    "for col in predictions.columns:\n",
    "    pred = predictions[col].to_frame()\n",
    "    pred['naive'] = [1]*len(pred)\n",
    "    predictions[col] = m.inverse_transform(pred)[:, 0]\n",
    "\n",
    "predictions"
   ]
  },
  {
   "cell_type": "code",
   "execution_count": 236,
   "metadata": {
    "ExecuteTime": {
     "end_time": "2022-07-25T19:08:55.023036Z",
     "start_time": "2022-07-25T19:08:54.923072Z"
    }
   },
   "outputs": [
    {
     "data": {
      "text/plain": [
       "array([[0.52791431, 0.18396317, 0.95754082],\n",
       "       [0.44509712, 0.0128976 , 0.84417134],\n",
       "       [0.42176045, 0.05538845, 0.82860157],\n",
       "       [0.48087237, 0.13819232, 0.89557796],\n",
       "       [0.48268008, 0.1309113 , 0.90553765]])"
      ]
     },
     "execution_count": 236,
     "metadata": {},
     "output_type": "execute_result"
    }
   ],
   "source": [
    "predictions.values"
   ]
  },
  {
   "cell_type": "code",
   "execution_count": null,
   "metadata": {},
   "outputs": [],
   "source": [
    "# using 2 diferent transformers"
   ]
  },
  {
   "cell_type": "code",
   "execution_count": 251,
   "metadata": {
    "ExecuteTime": {
     "end_time": "2022-07-25T19:13:28.026342Z",
     "start_time": "2022-07-25T19:13:27.930329Z"
    }
   },
   "outputs": [
    {
     "data": {
      "text/html": [
       "<div>\n",
       "<style scoped>\n",
       "    .dataframe tbody tr th:only-of-type {\n",
       "        vertical-align: middle;\n",
       "    }\n",
       "\n",
       "    .dataframe tbody tr th {\n",
       "        vertical-align: top;\n",
       "    }\n",
       "\n",
       "    .dataframe thead th {\n",
       "        text-align: right;\n",
       "    }\n",
       "</style>\n",
       "<table border=\"1\" class=\"dataframe\">\n",
       "  <thead>\n",
       "    <tr style=\"text-align: right;\">\n",
       "      <th></th>\n",
       "      <th>1</th>\n",
       "      <th>2</th>\n",
       "    </tr>\n",
       "  </thead>\n",
       "  <tbody>\n",
       "    <tr>\n",
       "      <th>0</th>\n",
       "      <td>0.837129</td>\n",
       "      <td>0.106716</td>\n",
       "    </tr>\n",
       "    <tr>\n",
       "      <th>1</th>\n",
       "      <td>-0.927922</td>\n",
       "      <td>0.827397</td>\n",
       "    </tr>\n",
       "    <tr>\n",
       "      <th>2</th>\n",
       "      <td>-1.182952</td>\n",
       "      <td>0.599380</td>\n",
       "    </tr>\n",
       "    <tr>\n",
       "      <th>3</th>\n",
       "      <td>0.212741</td>\n",
       "      <td>0.540158</td>\n",
       "    </tr>\n",
       "    <tr>\n",
       "      <th>4</th>\n",
       "      <td>0.936063</td>\n",
       "      <td>0.333563</td>\n",
       "    </tr>\n",
       "  </tbody>\n",
       "</table>\n",
       "</div>"
      ],
      "text/plain": [
       "          1         2\n",
       "0  0.837129  0.106716\n",
       "1 -0.927922  0.827397\n",
       "2 -1.182952  0.599380\n",
       "3  0.212741  0.540158\n",
       "4  0.936063  0.333563"
      ]
     },
     "execution_count": 251,
     "metadata": {},
     "output_type": "execute_result"
    }
   ],
   "source": [
    "from sklearn.preprocessing import MinMaxScaler\n",
    "\n",
    "m = StandardScaler()\n",
    "m.fit(series_no_transform['1'].values.reshape(-1, 1))\n",
    "series_transform_1 = m.transform(series_no_transform['1'].values.reshape(-1, 1))\n",
    "\n",
    "p = MinMaxScaler()\n",
    "p.fit(series_no_transform['2'].values.reshape(-1, 1))\n",
    "series_transform_2 =p.transform(series_no_transform['2'].values.reshape(-1, 1))\n",
    "\n",
    "df_transformed = pd.DataFrame({'1': series_transform_1.flatten(), '2': series_transform_2.flatten()})\n",
    "df_transformed.head()"
   ]
  },
  {
   "cell_type": "code",
   "execution_count": 252,
   "metadata": {
    "ExecuteTime": {
     "end_time": "2022-07-25T19:13:28.506140Z",
     "start_time": "2022-07-25T19:13:28.410154Z"
    }
   },
   "outputs": [
    {
     "data": {
      "text/plain": [
       "array([0.59619193, 0.46282914, 0.41738496, 0.48522676, 0.47525733])"
      ]
     },
     "execution_count": 252,
     "metadata": {},
     "output_type": "execute_result"
    }
   ],
   "source": [
    "forecaster = ForecasterAutoregMultiSeries(\n",
    "                regressor = LinearRegression(),\n",
    "                lags = 5,\n",
    "                transformer_series = None,\n",
    "             )\n",
    "\n",
    "forecaster.fit(series = df_transformed)\n",
    "predictions = forecaster.predict(steps=5, level='1')\n",
    "predictions = predictions.to_frame()\n",
    "predictions['naive'] = [1]*len(predictions)\n",
    "m.inverse_transform(predictions)[:, 0]"
   ]
  },
  {
   "cell_type": "code",
   "execution_count": 253,
   "metadata": {
    "ExecuteTime": {
     "end_time": "2022-07-25T19:13:29.666726Z",
     "start_time": "2022-07-25T19:13:29.328862Z"
    }
   },
   "outputs": [
    {
     "data": {
      "text/html": [
       "<div>\n",
       "<style scoped>\n",
       "    .dataframe tbody tr th:only-of-type {\n",
       "        vertical-align: middle;\n",
       "    }\n",
       "\n",
       "    .dataframe tbody tr th {\n",
       "        vertical-align: top;\n",
       "    }\n",
       "\n",
       "    .dataframe thead th {\n",
       "        text-align: right;\n",
       "    }\n",
       "</style>\n",
       "<table border=\"1\" class=\"dataframe\">\n",
       "  <thead>\n",
       "    <tr style=\"text-align: right;\">\n",
       "      <th></th>\n",
       "      <th>pred</th>\n",
       "      <th>lower_bound</th>\n",
       "      <th>upper_bound</th>\n",
       "    </tr>\n",
       "  </thead>\n",
       "  <tbody>\n",
       "    <tr>\n",
       "      <th>50</th>\n",
       "      <td>0.596192</td>\n",
       "      <td>0.183436</td>\n",
       "      <td>1.002393</td>\n",
       "    </tr>\n",
       "    <tr>\n",
       "      <th>51</th>\n",
       "      <td>0.462829</td>\n",
       "      <td>0.057461</td>\n",
       "      <td>0.852262</td>\n",
       "    </tr>\n",
       "    <tr>\n",
       "      <th>52</th>\n",
       "      <td>0.417385</td>\n",
       "      <td>0.017523</td>\n",
       "      <td>0.830049</td>\n",
       "    </tr>\n",
       "    <tr>\n",
       "      <th>53</th>\n",
       "      <td>0.485227</td>\n",
       "      <td>0.119487</td>\n",
       "      <td>0.908791</td>\n",
       "    </tr>\n",
       "    <tr>\n",
       "      <th>54</th>\n",
       "      <td>0.475257</td>\n",
       "      <td>0.117253</td>\n",
       "      <td>0.888860</td>\n",
       "    </tr>\n",
       "  </tbody>\n",
       "</table>\n",
       "</div>"
      ],
      "text/plain": [
       "        pred  lower_bound  upper_bound\n",
       "50  0.596192     0.183436     1.002393\n",
       "51  0.462829     0.057461     0.852262\n",
       "52  0.417385     0.017523     0.830049\n",
       "53  0.485227     0.119487     0.908791\n",
       "54  0.475257     0.117253     0.888860"
      ]
     },
     "execution_count": 253,
     "metadata": {},
     "output_type": "execute_result"
    }
   ],
   "source": [
    "predictions = forecaster.predict_interval(steps=5, level='1')\n",
    "for col in predictions.columns:\n",
    "    pred = predictions[col].to_frame()\n",
    "    pred['naive'] = [1]*len(pred)\n",
    "    predictions[col] = m.inverse_transform(pred)[:, 0]\n",
    "\n",
    "predictions"
   ]
  },
  {
   "cell_type": "code",
   "execution_count": 254,
   "metadata": {
    "ExecuteTime": {
     "end_time": "2022-07-25T19:13:30.961044Z",
     "start_time": "2022-07-25T19:13:30.864984Z"
    }
   },
   "outputs": [
    {
     "data": {
      "text/plain": [
       "array([[0.59619193, 0.18343628, 1.00239295],\n",
       "       [0.46282914, 0.05746129, 0.85226151],\n",
       "       [0.41738496, 0.01752287, 0.8300486 ],\n",
       "       [0.48522676, 0.11948742, 0.90879137],\n",
       "       [0.47525733, 0.117253  , 0.88886001]])"
      ]
     },
     "execution_count": 254,
     "metadata": {},
     "output_type": "execute_result"
    }
   ],
   "source": [
    "predictions.values"
   ]
  },
  {
   "cell_type": "code",
   "execution_count": 255,
   "metadata": {
    "ExecuteTime": {
     "end_time": "2022-07-25T19:13:31.912085Z",
     "start_time": "2022-07-25T19:13:31.548663Z"
    }
   },
   "outputs": [
    {
     "data": {
      "text/html": [
       "<div>\n",
       "<style scoped>\n",
       "    .dataframe tbody tr th:only-of-type {\n",
       "        vertical-align: middle;\n",
       "    }\n",
       "\n",
       "    .dataframe tbody tr th {\n",
       "        vertical-align: top;\n",
       "    }\n",
       "\n",
       "    .dataframe thead th {\n",
       "        text-align: right;\n",
       "    }\n",
       "</style>\n",
       "<table border=\"1\" class=\"dataframe\">\n",
       "  <thead>\n",
       "    <tr style=\"text-align: right;\">\n",
       "      <th></th>\n",
       "      <th>pred</th>\n",
       "      <th>lower_bound</th>\n",
       "      <th>upper_bound</th>\n",
       "    </tr>\n",
       "  </thead>\n",
       "  <tbody>\n",
       "    <tr>\n",
       "      <th>50</th>\n",
       "      <td>0.596192</td>\n",
       "      <td>0.183436</td>\n",
       "      <td>1.002393</td>\n",
       "    </tr>\n",
       "    <tr>\n",
       "      <th>51</th>\n",
       "      <td>0.462829</td>\n",
       "      <td>0.057461</td>\n",
       "      <td>0.852262</td>\n",
       "    </tr>\n",
       "    <tr>\n",
       "      <th>52</th>\n",
       "      <td>0.417385</td>\n",
       "      <td>0.017523</td>\n",
       "      <td>0.830049</td>\n",
       "    </tr>\n",
       "    <tr>\n",
       "      <th>53</th>\n",
       "      <td>0.485227</td>\n",
       "      <td>0.119487</td>\n",
       "      <td>0.908791</td>\n",
       "    </tr>\n",
       "    <tr>\n",
       "      <th>54</th>\n",
       "      <td>0.475257</td>\n",
       "      <td>0.117253</td>\n",
       "      <td>0.888860</td>\n",
       "    </tr>\n",
       "  </tbody>\n",
       "</table>\n",
       "</div>"
      ],
      "text/plain": [
       "        pred  lower_bound  upper_bound\n",
       "50  0.596192     0.183436     1.002393\n",
       "51  0.462829     0.057461     0.852262\n",
       "52  0.417385     0.017523     0.830049\n",
       "53  0.485227     0.119487     0.908791\n",
       "54  0.475257     0.117253     0.888860"
      ]
     },
     "execution_count": 255,
     "metadata": {},
     "output_type": "execute_result"
    }
   ],
   "source": [
    "forecaster = ForecasterAutoregMultiSeries(\n",
    "                regressor = LinearRegression(),\n",
    "                lags = 5,\n",
    "                transformer_series = {'1': StandardScaler(), '2': MinMaxScaler()},\n",
    "             )\n",
    "\n",
    "forecaster.fit(series = series)\n",
    "predictions = forecaster.predict_interval(steps=5, level='1')\n",
    "predictions"
   ]
  },
  {
   "cell_type": "code",
   "execution_count": 214,
   "metadata": {
    "ExecuteTime": {
     "end_time": "2022-07-25T18:46:48.953607Z",
     "start_time": "2022-07-25T18:46:48.873534Z"
    }
   },
   "outputs": [],
   "source": [
    "# Try with exog"
   ]
  },
  {
   "cell_type": "code",
   "execution_count": 256,
   "metadata": {
    "ExecuteTime": {
     "end_time": "2022-07-25T19:13:37.498899Z",
     "start_time": "2022-07-25T19:13:37.410927Z"
    }
   },
   "outputs": [],
   "source": [
    "exog = pd.DataFrame({'col_1': pd.Series(np.array(\n",
    "                                [0.51312815, 0.66662455, 0.10590849, 0.13089495, 0.32198061,\n",
    "                                 0.66156434, 0.84650623, 0.55325734, 0.85445249, 0.38483781,\n",
    "                                 0.3167879 , 0.35426468, 0.17108183, 0.82911263, 0.33867085,\n",
    "                                 0.55237008, 0.57855147, 0.52153306, 0.00268806, 0.98834542,\n",
    "                                 0.90534158, 0.20763586, 0.29248941, 0.52001015, 0.90191137,\n",
    "                                 0.98363088, 0.25754206, 0.56435904, 0.80696868, 0.39437005,\n",
    "                                 0.73107304, 0.16106901, 0.60069857, 0.86586446, 0.98352161,\n",
    "                                 0.07936579, 0.42834727, 0.20454286, 0.45063649, 0.54776357,\n",
    "                                 0.09332671, 0.29686078, 0.92758424, 0.56900373, 0.457412  ,\n",
    "                                 0.75352599, 0.74186215, 0.04857903, 0.7086974 , 0.83924335]\n",
    "                                )\n",
    "                              ),\n",
    "                     'col_2': ['a']*25 + ['b']*25}\n",
    "       )"
   ]
  },
  {
   "cell_type": "code",
   "execution_count": 259,
   "metadata": {
    "ExecuteTime": {
     "end_time": "2022-07-25T19:14:11.148815Z",
     "start_time": "2022-07-25T19:14:10.754616Z"
    }
   },
   "outputs": [
    {
     "name": "stdout",
     "output_type": "stream",
     "text": [
      "50    0.532673\n",
      "51    0.444780\n",
      "52    0.525796\n",
      "53    0.573911\n",
      "54    0.546336\n",
      "Name: pred, dtype: float64\n"
     ]
    },
    {
     "data": {
      "text/html": [
       "<div>\n",
       "<style scoped>\n",
       "    .dataframe tbody tr th:only-of-type {\n",
       "        vertical-align: middle;\n",
       "    }\n",
       "\n",
       "    .dataframe tbody tr th {\n",
       "        vertical-align: top;\n",
       "    }\n",
       "\n",
       "    .dataframe thead th {\n",
       "        text-align: right;\n",
       "    }\n",
       "</style>\n",
       "<table border=\"1\" class=\"dataframe\">\n",
       "  <thead>\n",
       "    <tr style=\"text-align: right;\">\n",
       "      <th></th>\n",
       "      <th>pred</th>\n",
       "      <th>lower_bound</th>\n",
       "      <th>upper_bound</th>\n",
       "    </tr>\n",
       "  </thead>\n",
       "  <tbody>\n",
       "    <tr>\n",
       "      <th>50</th>\n",
       "      <td>0.532673</td>\n",
       "      <td>0.176912</td>\n",
       "      <td>0.939949</td>\n",
       "    </tr>\n",
       "    <tr>\n",
       "      <th>51</th>\n",
       "      <td>0.444780</td>\n",
       "      <td>0.046415</td>\n",
       "      <td>0.832036</td>\n",
       "    </tr>\n",
       "    <tr>\n",
       "      <th>52</th>\n",
       "      <td>0.525796</td>\n",
       "      <td>0.136710</td>\n",
       "      <td>0.927653</td>\n",
       "    </tr>\n",
       "    <tr>\n",
       "      <th>53</th>\n",
       "      <td>0.573911</td>\n",
       "      <td>0.213735</td>\n",
       "      <td>0.977091</td>\n",
       "    </tr>\n",
       "    <tr>\n",
       "      <th>54</th>\n",
       "      <td>0.546336</td>\n",
       "      <td>0.172549</td>\n",
       "      <td>0.949960</td>\n",
       "    </tr>\n",
       "  </tbody>\n",
       "</table>\n",
       "</div>"
      ],
      "text/plain": [
       "        pred  lower_bound  upper_bound\n",
       "50  0.532673     0.176912     0.939949\n",
       "51  0.444780     0.046415     0.832036\n",
       "52  0.525796     0.136710     0.927653\n",
       "53  0.573911     0.213735     0.977091\n",
       "54  0.546336     0.172549     0.949960"
      ]
     },
     "execution_count": 259,
     "metadata": {},
     "output_type": "execute_result"
    }
   ],
   "source": [
    "transformer_exog = ColumnTransformer(\n",
    "                            [('scale', StandardScaler(), ['col_1']),\n",
    "                             ('onehot', OneHotEncoder(), ['col_2'])],\n",
    "                            remainder = 'passthrough',\n",
    "                            verbose_feature_names_out = False\n",
    "                       )\n",
    "forecaster = ForecasterAutoregMultiSeries(\n",
    "                regressor = LinearRegression(),\n",
    "                lags = 5,\n",
    "                transformer_series = StandardScaler(),\n",
    "                transformer_exog = transformer_exog,\n",
    "             )\n",
    "forecaster.fit(series=series, exog=exog)\n",
    "predictions = forecaster.predict(steps=5, level='1', exog=exog)\n",
    "print(predictions)\n",
    "predictions = forecaster.predict_interval(steps=5, level='1', exog=exog)\n",
    "predictions"
   ]
  },
  {
   "cell_type": "code",
   "execution_count": 260,
   "metadata": {
    "ExecuteTime": {
     "end_time": "2022-07-25T19:14:16.594480Z",
     "start_time": "2022-07-25T19:14:16.498474Z"
    }
   },
   "outputs": [
    {
     "data": {
      "text/html": [
       "<div>\n",
       "<style scoped>\n",
       "    .dataframe tbody tr th:only-of-type {\n",
       "        vertical-align: middle;\n",
       "    }\n",
       "\n",
       "    .dataframe tbody tr th {\n",
       "        vertical-align: top;\n",
       "    }\n",
       "\n",
       "    .dataframe thead th {\n",
       "        text-align: right;\n",
       "    }\n",
       "</style>\n",
       "<table border=\"1\" class=\"dataframe\">\n",
       "  <thead>\n",
       "    <tr style=\"text-align: right;\">\n",
       "      <th></th>\n",
       "      <th>1</th>\n",
       "      <th>2</th>\n",
       "      <th>col_1</th>\n",
       "      <th>col_2_a</th>\n",
       "      <th>col_2_b</th>\n",
       "    </tr>\n",
       "  </thead>\n",
       "  <tbody>\n",
       "    <tr>\n",
       "      <th>0</th>\n",
       "      <td>0.837129</td>\n",
       "      <td>-1.476364</td>\n",
       "      <td>-0.025511</td>\n",
       "      <td>1</td>\n",
       "      <td>0</td>\n",
       "    </tr>\n",
       "    <tr>\n",
       "      <th>1</th>\n",
       "      <td>-0.927922</td>\n",
       "      <td>1.262771</td>\n",
       "      <td>0.519274</td>\n",
       "      <td>1</td>\n",
       "      <td>0</td>\n",
       "    </tr>\n",
       "    <tr>\n",
       "      <th>2</th>\n",
       "      <td>-1.182952</td>\n",
       "      <td>0.396134</td>\n",
       "      <td>-1.470802</td>\n",
       "      <td>1</td>\n",
       "      <td>0</td>\n",
       "    </tr>\n",
       "    <tr>\n",
       "      <th>3</th>\n",
       "      <td>0.212741</td>\n",
       "      <td>0.171045</td>\n",
       "      <td>-1.382121</td>\n",
       "      <td>1</td>\n",
       "      <td>0</td>\n",
       "    </tr>\n",
       "    <tr>\n",
       "      <th>4</th>\n",
       "      <td>0.936063</td>\n",
       "      <td>-0.614174</td>\n",
       "      <td>-0.703926</td>\n",
       "      <td>1</td>\n",
       "      <td>0</td>\n",
       "    </tr>\n",
       "  </tbody>\n",
       "</table>\n",
       "</div>"
      ],
      "text/plain": [
       "          1         2     col_1  col_2_a  col_2_b\n",
       "0  0.837129 -1.476364 -0.025511        1        0\n",
       "1 -0.927922  1.262771  0.519274        1        0\n",
       "2 -1.182952  0.396134 -1.470802        1        0\n",
       "3  0.212741  0.171045 -1.382121        1        0\n",
       "4  0.936063 -0.614174 -0.703926        1        0"
      ]
     },
     "execution_count": 260,
     "metadata": {},
     "output_type": "execute_result"
    }
   ],
   "source": [
    "m = StandardScaler()\n",
    "m.fit(series_no_transform['1'].values.reshape(-1, 1))\n",
    "series_transform_1 = m.transform(series_no_transform['1'].values.reshape(-1, 1))\n",
    "\n",
    "p = StandardScaler()\n",
    "p.fit(series_no_transform['2'].values.reshape(-1, 1))\n",
    "series_transform_2 =p.transform(series_no_transform['2'].values.reshape(-1, 1))\n",
    "\n",
    "v = StandardScaler()\n",
    "v.fit(exog['col_1'].values.reshape(-1, 1))\n",
    "exog_transform_1 = v.transform(exog['col_1'].values.reshape(-1, 1))\n",
    "\n",
    "df_transformed = pd.DataFrame({'1': series_transform_1.flatten(), '2': series_transform_2.flatten(),\n",
    "                               'col_1': exog_transform_1.flatten(), 'col_2_a': [1]*25 + [0]*25,\n",
    "                               'col_2_b': [0]*25 + [1]*25})\n",
    "df_transformed.head()"
   ]
  },
  {
   "cell_type": "code",
   "execution_count": 261,
   "metadata": {
    "ExecuteTime": {
     "end_time": "2022-07-25T19:14:34.438220Z",
     "start_time": "2022-07-25T19:14:34.321686Z"
    }
   },
   "outputs": [
    {
     "data": {
      "text/plain": [
       "array([0.53267333, 0.44478046, 0.52579563, 0.57391142, 0.54633594])"
      ]
     },
     "execution_count": 261,
     "metadata": {},
     "output_type": "execute_result"
    }
   ],
   "source": [
    "forecaster = ForecasterAutoregMultiSeries(\n",
    "                regressor = LinearRegression(),\n",
    "                lags = 5,\n",
    "                transformer_series = None,\n",
    "             )\n",
    "\n",
    "forecaster.fit(series = df_transformed[['1', '2']], \n",
    "               exog = df_transformed[['col_1', 'col_2_a', 'col_2_b']])\n",
    "\n",
    "predictions = forecaster.predict(steps=5, level='1', exog = df_transformed[['col_1', 'col_2_a', 'col_2_b']])\n",
    "predictions = predictions.to_frame()\n",
    "predictions['naive'] = [1]*len(predictions)\n",
    "m.inverse_transform(predictions)[:, 0]"
   ]
  },
  {
   "cell_type": "code",
   "execution_count": 263,
   "metadata": {
    "ExecuteTime": {
     "end_time": "2022-07-25T19:15:09.313260Z",
     "start_time": "2022-07-25T19:15:08.932399Z"
    }
   },
   "outputs": [
    {
     "data": {
      "text/html": [
       "<div>\n",
       "<style scoped>\n",
       "    .dataframe tbody tr th:only-of-type {\n",
       "        vertical-align: middle;\n",
       "    }\n",
       "\n",
       "    .dataframe tbody tr th {\n",
       "        vertical-align: top;\n",
       "    }\n",
       "\n",
       "    .dataframe thead th {\n",
       "        text-align: right;\n",
       "    }\n",
       "</style>\n",
       "<table border=\"1\" class=\"dataframe\">\n",
       "  <thead>\n",
       "    <tr style=\"text-align: right;\">\n",
       "      <th></th>\n",
       "      <th>pred</th>\n",
       "      <th>lower_bound</th>\n",
       "      <th>upper_bound</th>\n",
       "    </tr>\n",
       "  </thead>\n",
       "  <tbody>\n",
       "    <tr>\n",
       "      <th>50</th>\n",
       "      <td>0.532673</td>\n",
       "      <td>0.176912</td>\n",
       "      <td>0.939949</td>\n",
       "    </tr>\n",
       "    <tr>\n",
       "      <th>51</th>\n",
       "      <td>0.444780</td>\n",
       "      <td>0.046415</td>\n",
       "      <td>0.832036</td>\n",
       "    </tr>\n",
       "    <tr>\n",
       "      <th>52</th>\n",
       "      <td>0.525796</td>\n",
       "      <td>0.136710</td>\n",
       "      <td>0.927653</td>\n",
       "    </tr>\n",
       "    <tr>\n",
       "      <th>53</th>\n",
       "      <td>0.573911</td>\n",
       "      <td>0.213735</td>\n",
       "      <td>0.977091</td>\n",
       "    </tr>\n",
       "    <tr>\n",
       "      <th>54</th>\n",
       "      <td>0.546336</td>\n",
       "      <td>0.172549</td>\n",
       "      <td>0.949960</td>\n",
       "    </tr>\n",
       "  </tbody>\n",
       "</table>\n",
       "</div>"
      ],
      "text/plain": [
       "        pred  lower_bound  upper_bound\n",
       "50  0.532673     0.176912     0.939949\n",
       "51  0.444780     0.046415     0.832036\n",
       "52  0.525796     0.136710     0.927653\n",
       "53  0.573911     0.213735     0.977091\n",
       "54  0.546336     0.172549     0.949960"
      ]
     },
     "execution_count": 263,
     "metadata": {},
     "output_type": "execute_result"
    }
   ],
   "source": [
    "predictions = forecaster.predict_interval(steps=5, level='1', exog = df_transformed[['col_1', 'col_2_a', 'col_2_b']])\n",
    "for col in predictions.columns:\n",
    "    pred = predictions[col].to_frame()\n",
    "    pred['naive'] = [1]*len(pred)\n",
    "    predictions[col] = m.inverse_transform(pred)[:, 0]\n",
    "\n",
    "predictions"
   ]
  },
  {
   "cell_type": "code",
   "execution_count": 264,
   "metadata": {
    "ExecuteTime": {
     "end_time": "2022-07-25T19:15:17.903932Z",
     "start_time": "2022-07-25T19:15:17.800019Z"
    }
   },
   "outputs": [
    {
     "data": {
      "text/plain": [
       "array([[0.53267333, 0.17691231, 0.9399491 ],\n",
       "       [0.44478046, 0.04641456, 0.83203647],\n",
       "       [0.52579563, 0.13671047, 0.92765308],\n",
       "       [0.57391142, 0.21373477, 0.97709097],\n",
       "       [0.54633594, 0.1725495 , 0.94995973]])"
      ]
     },
     "execution_count": 264,
     "metadata": {},
     "output_type": "execute_result"
    }
   ],
   "source": [
    "predictions.values"
   ]
  },
  {
   "cell_type": "markdown",
   "metadata": {},
   "source": [
    "## ForecasterDirect"
   ]
  },
  {
   "cell_type": "code",
   "execution_count": 3,
   "metadata": {
    "ExecuteTime": {
     "end_time": "2022-07-27T11:34:02.180177Z",
     "start_time": "2022-07-27T11:34:02.113173Z"
    }
   },
   "outputs": [],
   "source": [
    "from skforecast.ForecasterAutoregDirect import ForecasterAutoregDirect\n",
    "from sklearn.linear_model import Ridge\n",
    "from sklearn.metrics import mean_squared_error"
   ]
  },
  {
   "cell_type": "code",
   "execution_count": 4,
   "metadata": {
    "ExecuteTime": {
     "end_time": "2022-07-27T11:34:05.266524Z",
     "start_time": "2022-07-27T11:34:04.721402Z"
    }
   },
   "outputs": [
    {
     "data": {
      "image/png": "[encoded data removed]",
      "text/plain": [
       "<Figure size 648x288 with 1 Axes>"
      ]
     },
     "metadata": {
      "needs_background": "light"
     },
     "output_type": "display_data"
    }
   ],
   "source": [
    "# Download data\n",
    "# ==============================================================================\n",
    "url = ('https://raw.githubusercontent.com/JoaquinAmatRodrigo/skforecast/master/data/h2o.csv')\n",
    "data = pd.read_csv(url, sep=',', header=0, names=['y', 'datetime'])\n",
    "\n",
    "# Data preprocessing\n",
    "# ==============================================================================\n",
    "data['datetime'] = pd.to_datetime(data['datetime'], format='%Y/%m/%d')\n",
    "data = data.set_index('datetime')\n",
    "data = data.asfreq('MS')\n",
    "data = data['y']\n",
    "data = data.sort_index()\n",
    "\n",
    "# Split train-test\n",
    "# ==============================================================================\n",
    "steps = 36\n",
    "data_train = data[:-steps]\n",
    "data_test  = data[-steps:]\n",
    "\n",
    "# Plot\n",
    "# ==============================================================================\n",
    "fig, ax=plt.subplots(figsize=(9, 4))\n",
    "data_train.plot(ax=ax, label='train')\n",
    "data_test.plot(ax=ax, label='test')\n",
    "ax.legend();"
   ]
  },
  {
   "cell_type": "code",
   "execution_count": 5,
   "metadata": {
    "ExecuteTime": {
     "end_time": "2022-07-27T11:34:06.353167Z",
     "start_time": "2022-07-27T11:34:06.282524Z"
    }
   },
   "outputs": [
    {
     "data": {
      "text/plain": [
       "======================= \n",
       "ForecasterAutoregDirect \n",
       "======================= \n",
       "Regressor: Ridge() \n",
       "Lags: [1 2] \n",
       "Transformer for y: None \n",
       "Transformer for exog: None \n",
       "Window size: 2 \n",
       "Maximum steps predicted: 4 \n",
       "Included exogenous: False \n",
       "Type of exogenous variable: None \n",
       "Exogenous variables names: None \n",
       "Training range: [Timestamp('1991-07-01 00:00:00'), Timestamp('2005-06-01 00:00:00')] \n",
       "Training index type: DatetimeIndex \n",
       "Training index frequency: MS \n",
       "Regressor parameters: {'alpha': 1.0, 'copy_X': True, 'fit_intercept': True, 'max_iter': None, 'normalize': 'deprecated', 'positive': False, 'random_state': None, 'solver': 'auto', 'tol': 0.001} \n",
       "Creation date: 2022-07-27 13:34:06 \n",
       "Last fit date: 2022-07-27 13:34:06 \n",
       "Skforecast version: 0.5.dev1 "
      ]
     },
     "execution_count": 5,
     "metadata": {},
     "output_type": "execute_result"
    }
   ],
   "source": [
    "# Create and fit forecaster\n",
    "# ==============================================================================\n",
    "forecaster = ForecasterAutoregDirect(\n",
    "                    regressor = Ridge(),\n",
    "                    steps     = 4,\n",
    "                    lags      = 2\n",
    "             )\n",
    "\n",
    "forecaster.fit(y=data_train)\n",
    "forecaster"
   ]
  },
  {
   "cell_type": "code",
   "execution_count": 9,
   "metadata": {
    "ExecuteTime": {
     "end_time": "2022-07-27T11:34:27.266529Z",
     "start_time": "2022-07-27T11:34:27.205125Z"
    }
   },
   "outputs": [],
   "source": [
    "y = pd.Series(range(0,20), name='y')\n",
    "exog = pd.Series(range(0,20), name='exog')"
   ]
  },
  {
   "cell_type": "code",
   "execution_count": 10,
   "metadata": {
    "ExecuteTime": {
     "end_time": "2022-07-27T11:34:28.170546Z",
     "start_time": "2022-07-27T11:34:28.099089Z"
    }
   },
   "outputs": [
    {
     "data": {
      "text/html": [
       "<div>\n",
       "<style scoped>\n",
       "    .dataframe tbody tr th:only-of-type {\n",
       "        vertical-align: middle;\n",
       "    }\n",
       "\n",
       "    .dataframe tbody tr th {\n",
       "        vertical-align: top;\n",
       "    }\n",
       "\n",
       "    .dataframe thead th {\n",
       "        text-align: right;\n",
       "    }\n",
       "</style>\n",
       "<table border=\"1\" class=\"dataframe\">\n",
       "  <thead>\n",
       "    <tr style=\"text-align: right;\">\n",
       "      <th></th>\n",
       "      <th>lag_1</th>\n",
       "      <th>lag_2</th>\n",
       "      <th>exog_step_3</th>\n",
       "    </tr>\n",
       "  </thead>\n",
       "  <tbody>\n",
       "    <tr>\n",
       "      <th>5</th>\n",
       "      <td>1.0</td>\n",
       "      <td>0.0</td>\n",
       "      <td>4.0</td>\n",
       "    </tr>\n",
       "    <tr>\n",
       "      <th>6</th>\n",
       "      <td>2.0</td>\n",
       "      <td>1.0</td>\n",
       "      <td>5.0</td>\n",
       "    </tr>\n",
       "    <tr>\n",
       "      <th>7</th>\n",
       "      <td>3.0</td>\n",
       "      <td>2.0</td>\n",
       "      <td>6.0</td>\n",
       "    </tr>\n",
       "    <tr>\n",
       "      <th>8</th>\n",
       "      <td>4.0</td>\n",
       "      <td>3.0</td>\n",
       "      <td>7.0</td>\n",
       "    </tr>\n",
       "  </tbody>\n",
       "</table>\n",
       "</div>"
      ],
      "text/plain": [
       "   lag_1  lag_2  exog_step_3\n",
       "5    1.0    0.0          4.0\n",
       "6    2.0    1.0          5.0\n",
       "7    3.0    2.0          6.0\n",
       "8    4.0    3.0          7.0"
      ]
     },
     "execution_count": 10,
     "metadata": {},
     "output_type": "execute_result"
    }
   ],
   "source": [
    "X, y = forecaster.create_train_X_y(y=y, exog=exog)\n",
    "# X and y to train model for step 1\n",
    "X_1, y_1 = forecaster.filter_train_X_y_for_step(\n",
    "                step    = 2,\n",
    "                X_train = X,\n",
    "                y_train = y,\n",
    "           )\n",
    "\n",
    "X_1.head(4)"
   ]
  },
  {
   "cell_type": "code",
   "execution_count": 11,
   "metadata": {
    "ExecuteTime": {
     "end_time": "2022-07-27T11:34:33.564060Z",
     "start_time": "2022-07-27T11:34:33.468923Z"
    }
   },
   "outputs": [
    {
     "ename": "Exception",
     "evalue": "`y` must be a pandas Series.",
     "output_type": "error",
     "traceback": [
      "\u001b[1;31m---------------------------------------------------------------------------\u001b[0m",
      "\u001b[1;31mException\u001b[0m                                 Traceback (most recent call last)",
      "Input \u001b[1;32mIn [11]\u001b[0m, in \u001b[0;36m<cell line: 1>\u001b[1;34m()\u001b[0m\n\u001b[1;32m----> 1\u001b[0m \u001b[43mforecaster\u001b[49m\u001b[38;5;241;43m.\u001b[39;49m\u001b[43mfit\u001b[49m\u001b[43m(\u001b[49m\u001b[43my\u001b[49m\u001b[38;5;241;43m=\u001b[39;49m\u001b[43my\u001b[49m\u001b[43m,\u001b[49m\u001b[43m \u001b[49m\u001b[43mexog\u001b[49m\u001b[38;5;241;43m=\u001b[39;49m\u001b[43mexog\u001b[49m\u001b[43m)\u001b[49m\n\u001b[0;32m      2\u001b[0m forecaster\u001b[38;5;241m.\u001b[39mpredict(exog\u001b[38;5;241m=\u001b[39mexog)\n",
      "File \u001b[1;32m~\\GitHub\\skforecast\\skforecast\\ForecasterAutoregDirect\\ForecasterAutoregDirect.py:476\u001b[0m, in \u001b[0;36mForecasterAutoregDirect.fit\u001b[1;34m(self, y, exog)\u001b[0m\n\u001b[0;32m    472\u001b[0m     \u001b[38;5;28mself\u001b[39m\u001b[38;5;241m.\u001b[39mexog_type \u001b[38;5;241m=\u001b[39m \u001b[38;5;28mtype\u001b[39m(exog)\n\u001b[0;32m    473\u001b[0m     \u001b[38;5;28mself\u001b[39m\u001b[38;5;241m.\u001b[39mexog_col_names \u001b[38;5;241m=\u001b[39m \\\n\u001b[0;32m    474\u001b[0m          exog\u001b[38;5;241m.\u001b[39mcolumns\u001b[38;5;241m.\u001b[39mto_list() \u001b[38;5;28;01mif\u001b[39;00m \u001b[38;5;28misinstance\u001b[39m(exog, pd\u001b[38;5;241m.\u001b[39mDataFrame) \u001b[38;5;28;01melse\u001b[39;00m exog\u001b[38;5;241m.\u001b[39mname\n\u001b[1;32m--> 476\u001b[0m X_train, y_train \u001b[38;5;241m=\u001b[39m \u001b[38;5;28;43mself\u001b[39;49m\u001b[38;5;241;43m.\u001b[39;49m\u001b[43mcreate_train_X_y\u001b[49m\u001b[43m(\u001b[49m\u001b[43my\u001b[49m\u001b[38;5;241;43m=\u001b[39;49m\u001b[43my\u001b[49m\u001b[43m,\u001b[49m\u001b[43m \u001b[49m\u001b[43mexog\u001b[49m\u001b[38;5;241;43m=\u001b[39;49m\u001b[43mexog\u001b[49m\u001b[43m)\u001b[49m\n\u001b[0;32m    478\u001b[0m \u001b[38;5;66;03m# Train one regressor for each step \u001b[39;00m\n\u001b[0;32m    479\u001b[0m \u001b[38;5;28;01mfor\u001b[39;00m step \u001b[38;5;129;01min\u001b[39;00m \u001b[38;5;28mrange\u001b[39m(\u001b[38;5;28mself\u001b[39m\u001b[38;5;241m.\u001b[39msteps):\n",
      "File \u001b[1;32m~\\GitHub\\skforecast\\skforecast\\ForecasterAutoregDirect\\ForecasterAutoregDirect.py:310\u001b[0m, in \u001b[0;36mForecasterAutoregDirect.create_train_X_y\u001b[1;34m(self, y, exog)\u001b[0m\n\u001b[0;32m    279\u001b[0m \u001b[38;5;28;01mdef\u001b[39;00m \u001b[38;5;21mcreate_train_X_y\u001b[39m(\n\u001b[0;32m    280\u001b[0m     \u001b[38;5;28mself\u001b[39m,\n\u001b[0;32m    281\u001b[0m     y: pd\u001b[38;5;241m.\u001b[39mSeries,\n\u001b[0;32m    282\u001b[0m     exog: Optional[Union[pd\u001b[38;5;241m.\u001b[39mSeries, pd\u001b[38;5;241m.\u001b[39mDataFrame]]\u001b[38;5;241m=\u001b[39m\u001b[38;5;28;01mNone\u001b[39;00m\n\u001b[0;32m    283\u001b[0m ) \u001b[38;5;241m-\u001b[39m\u001b[38;5;241m>\u001b[39m Tuple[pd\u001b[38;5;241m.\u001b[39mDataFrame, pd\u001b[38;5;241m.\u001b[39mDataFrame]:\n\u001b[0;32m    284\u001b[0m     \u001b[38;5;124;03m\"\"\"\u001b[39;00m\n\u001b[0;32m    285\u001b[0m \u001b[38;5;124;03m    Create training matrices from univariate time series and exogenous\u001b[39;00m\n\u001b[0;32m    286\u001b[0m \u001b[38;5;124;03m    variables. The resulting matrices contain the target variable and predictors\u001b[39;00m\n\u001b[1;32m   (...)\u001b[0m\n\u001b[0;32m    307\u001b[0m \u001b[38;5;124;03m    \u001b[39;00m\n\u001b[0;32m    308\u001b[0m \u001b[38;5;124;03m    \"\"\"\u001b[39;00m\n\u001b[1;32m--> 310\u001b[0m     \u001b[43mcheck_y\u001b[49m\u001b[43m(\u001b[49m\u001b[43my\u001b[49m\u001b[38;5;241;43m=\u001b[39;49m\u001b[43my\u001b[49m\u001b[43m)\u001b[49m\n\u001b[0;32m    311\u001b[0m     y \u001b[38;5;241m=\u001b[39m transform_series(\n\u001b[0;32m    312\u001b[0m             series            \u001b[38;5;241m=\u001b[39m y,\n\u001b[0;32m    313\u001b[0m             transformer       \u001b[38;5;241m=\u001b[39m \u001b[38;5;28mself\u001b[39m\u001b[38;5;241m.\u001b[39mtransformer_y,\n\u001b[0;32m    314\u001b[0m             fit               \u001b[38;5;241m=\u001b[39m \u001b[38;5;28;01mTrue\u001b[39;00m,\n\u001b[0;32m    315\u001b[0m             inverse_transform \u001b[38;5;241m=\u001b[39m \u001b[38;5;28;01mFalse\u001b[39;00m\n\u001b[0;32m    316\u001b[0m         )\n\u001b[0;32m    317\u001b[0m     y_values, y_index \u001b[38;5;241m=\u001b[39m preprocess_y(y\u001b[38;5;241m=\u001b[39my)\n",
      "File \u001b[1;32m~\\GitHub\\skforecast\\skforecast\\utils\\utils.py:34\u001b[0m, in \u001b[0;36mcheck_y\u001b[1;34m(y)\u001b[0m\n\u001b[0;32m     19\u001b[0m \u001b[38;5;124;03m\"\"\"\u001b[39;00m\n\u001b[0;32m     20\u001b[0m \u001b[38;5;124;03mRaise Exception if `y` is not pandas Series or if it has missing values.\u001b[39;00m\n\u001b[0;32m     21\u001b[0m \u001b[38;5;124;03m\u001b[39;00m\n\u001b[1;32m   (...)\u001b[0m\n\u001b[0;32m     30\u001b[0m \u001b[38;5;124;03m\u001b[39;00m\n\u001b[0;32m     31\u001b[0m \u001b[38;5;124;03m\"\"\"\u001b[39;00m\n\u001b[0;32m     33\u001b[0m \u001b[38;5;28;01mif\u001b[39;00m \u001b[38;5;129;01mnot\u001b[39;00m \u001b[38;5;28misinstance\u001b[39m(y, pd\u001b[38;5;241m.\u001b[39mSeries):\n\u001b[1;32m---> 34\u001b[0m     \u001b[38;5;28;01mraise\u001b[39;00m \u001b[38;5;167;01mException\u001b[39;00m(\u001b[38;5;124m'\u001b[39m\u001b[38;5;124m`y` must be a pandas Series.\u001b[39m\u001b[38;5;124m'\u001b[39m)\n\u001b[0;32m     36\u001b[0m \u001b[38;5;28;01mif\u001b[39;00m y\u001b[38;5;241m.\u001b[39misnull()\u001b[38;5;241m.\u001b[39many():\n\u001b[0;32m     37\u001b[0m     \u001b[38;5;28;01mraise\u001b[39;00m \u001b[38;5;167;01mException\u001b[39;00m(\u001b[38;5;124m'\u001b[39m\u001b[38;5;124m`y` has missing values.\u001b[39m\u001b[38;5;124m'\u001b[39m)\n",
      "\u001b[1;31mException\u001b[0m: `y` must be a pandas Series."
     ]
    }
   ],
   "source": [
    "forecaster.fit(y=y, exog=exog)\n",
    "forecaster.predict(exog=exog)"
   ]
  },
  {
   "cell_type": "code",
   "execution_count": 82,
   "metadata": {
    "ExecuteTime": {
     "end_time": "2022-07-27T09:57:54.836701Z",
     "start_time": "2022-07-27T09:57:54.736773Z"
    }
   },
   "outputs": [
    {
     "data": {
      "text/plain": [
       "0    0\n",
       "1    1\n",
       "2    2\n",
       "3    3\n",
       "Name: exog, dtype: int64"
      ]
     },
     "execution_count": 82,
     "metadata": {},
     "output_type": "execute_result"
    }
   ],
   "source": [
    "exog.iloc[:4, ]"
   ]
  },
  {
   "cell_type": "code",
   "execution_count": 12,
   "metadata": {
    "ExecuteTime": {
     "end_time": "2022-07-27T11:35:16.397200Z",
     "start_time": "2022-07-27T11:35:16.327626Z"
    }
   },
   "outputs": [
    {
     "ename": "NameError",
     "evalue": "name 'preprocess_exog' is not defined",
     "output_type": "error",
     "traceback": [
      "\u001b[1;31m---------------------------------------------------------------------------\u001b[0m",
      "\u001b[1;31mNameError\u001b[0m                                 Traceback (most recent call last)",
      "Input \u001b[1;32mIn [12]\u001b[0m, in \u001b[0;36m<cell line: 2>\u001b[1;34m()\u001b[0m\n\u001b[0;32m      1\u001b[0m steps \u001b[38;5;241m=\u001b[39m \u001b[38;5;241m4\u001b[39m\n\u001b[1;32m----> 2\u001b[0m exog_values, _ \u001b[38;5;241m=\u001b[39m \u001b[43mpreprocess_exog\u001b[49m(\n\u001b[0;32m      3\u001b[0m                                 exog \u001b[38;5;241m=\u001b[39m exog\u001b[38;5;241m.\u001b[39miloc[:steps, ]\n\u001b[0;32m      4\u001b[0m                              )\n\u001b[0;32m      6\u001b[0m exog_values\n",
      "\u001b[1;31mNameError\u001b[0m: name 'preprocess_exog' is not defined"
     ]
    }
   ],
   "source": [
    "steps = 4\n",
    "exog_values, _ = preprocess_exog(\n",
    "                                exog = exog.iloc[:steps, ]\n",
    "                             )\n",
    "\n",
    "exog_values"
   ]
  },
  {
   "cell_type": "code",
   "execution_count": 21,
   "metadata": {
    "ExecuteTime": {
     "end_time": "2022-07-27T09:26:32.491090Z",
     "start_time": "2022-07-27T09:26:32.390237Z"
    }
   },
   "outputs": [
    {
     "data": {
      "text/html": [
       "<div>\n",
       "<style scoped>\n",
       "    .dataframe tbody tr th:only-of-type {\n",
       "        vertical-align: middle;\n",
       "    }\n",
       "\n",
       "    .dataframe tbody tr th {\n",
       "        vertical-align: top;\n",
       "    }\n",
       "\n",
       "    .dataframe thead th {\n",
       "        text-align: right;\n",
       "    }\n",
       "</style>\n",
       "<table border=\"1\" class=\"dataframe\">\n",
       "  <thead>\n",
       "    <tr style=\"text-align: right;\">\n",
       "      <th></th>\n",
       "      <th>lag_1</th>\n",
       "      <th>lag_2</th>\n",
       "      <th>lag_3</th>\n",
       "      <th>lag_4</th>\n",
       "      <th>lag_5</th>\n",
       "      <th>lag_6</th>\n",
       "      <th>lag_7</th>\n",
       "      <th>lag_8</th>\n",
       "      <th>lag_9</th>\n",
       "      <th>lag_10</th>\n",
       "      <th>...</th>\n",
       "      <th>lag_155</th>\n",
       "      <th>lag_156</th>\n",
       "      <th>lag_157</th>\n",
       "      <th>lag_158</th>\n",
       "      <th>lag_159</th>\n",
       "      <th>lag_160</th>\n",
       "      <th>lag_161</th>\n",
       "      <th>lag_162</th>\n",
       "      <th>lag_163</th>\n",
       "      <th>lag_164</th>\n",
       "    </tr>\n",
       "    <tr>\n",
       "      <th>datetime</th>\n",
       "      <th></th>\n",
       "      <th></th>\n",
       "      <th></th>\n",
       "      <th></th>\n",
       "      <th></th>\n",
       "      <th></th>\n",
       "      <th></th>\n",
       "      <th></th>\n",
       "      <th></th>\n",
       "      <th></th>\n",
       "      <th></th>\n",
       "      <th></th>\n",
       "      <th></th>\n",
       "      <th></th>\n",
       "      <th></th>\n",
       "      <th></th>\n",
       "      <th></th>\n",
       "      <th></th>\n",
       "      <th></th>\n",
       "      <th></th>\n",
       "      <th></th>\n",
       "    </tr>\n",
       "  </thead>\n",
       "  <tbody>\n",
       "    <tr>\n",
       "      <th>2005-06-01</th>\n",
       "      <td>0.597639</td>\n",
       "      <td>1.17069</td>\n",
       "      <td>1.257238</td>\n",
       "      <td>1.216037</td>\n",
       "      <td>1.181011</td>\n",
       "      <td>1.134432</td>\n",
       "      <td>0.994864</td>\n",
       "      <td>1.001593</td>\n",
       "      <td>0.856803</td>\n",
       "      <td>0.795129</td>\n",
       "      <td>...</td>\n",
       "      <td>0.379808</td>\n",
       "      <td>0.351348</td>\n",
       "      <td>0.33622</td>\n",
       "      <td>0.660119</td>\n",
       "      <td>0.602652</td>\n",
       "      <td>0.502369</td>\n",
       "      <td>0.492543</td>\n",
       "      <td>0.432159</td>\n",
       "      <td>0.400906</td>\n",
       "      <td>0.429795</td>\n",
       "    </tr>\n",
       "  </tbody>\n",
       "</table>\n",
       "<p>1 rows × 164 columns</p>\n",
       "</div>"
      ],
      "text/plain": [
       "               lag_1    lag_2     lag_3     lag_4     lag_5     lag_6  \\\n",
       "datetime                                                                \n",
       "2005-06-01  0.597639  1.17069  1.257238  1.216037  1.181011  1.134432   \n",
       "\n",
       "               lag_7     lag_8     lag_9    lag_10  ...   lag_155   lag_156  \\\n",
       "datetime                                            ...                       \n",
       "2005-06-01  0.994864  1.001593  0.856803  0.795129  ...  0.379808  0.351348   \n",
       "\n",
       "            lag_157   lag_158   lag_159   lag_160   lag_161   lag_162  \\\n",
       "datetime                                                                \n",
       "2005-06-01  0.33622  0.660119  0.602652  0.502369  0.492543  0.432159   \n",
       "\n",
       "             lag_163   lag_164  \n",
       "datetime                        \n",
       "2005-06-01  0.400906  0.429795  \n",
       "\n",
       "[1 rows x 164 columns]"
      ]
     },
     "execution_count": 21,
     "metadata": {},
     "output_type": "execute_result"
    }
   ],
   "source": [
    "X, y = forecaster.create_train_X_y(data_train)\n",
    "# X and y to train model for step 1\n",
    "X_1, y_1 = forecaster.filter_train_X_y_for_step(\n",
    "                step    = 1,\n",
    "                X_train = X,\n",
    "                y_train = y,\n",
    "           )\n",
    "\n",
    "X_1.head(4)"
   ]
  },
  {
   "cell_type": "code",
   "execution_count": 22,
   "metadata": {
    "ExecuteTime": {
     "end_time": "2022-07-27T09:26:34.204260Z",
     "start_time": "2022-07-27T09:26:34.111320Z"
    }
   },
   "outputs": [
    {
     "data": {
      "text/html": [
       "<div>\n",
       "<style scoped>\n",
       "    .dataframe tbody tr th:only-of-type {\n",
       "        vertical-align: middle;\n",
       "    }\n",
       "\n",
       "    .dataframe tbody tr th {\n",
       "        vertical-align: top;\n",
       "    }\n",
       "\n",
       "    .dataframe thead th {\n",
       "        text-align: right;\n",
       "    }\n",
       "</style>\n",
       "<table border=\"1\" class=\"dataframe\">\n",
       "  <thead>\n",
       "    <tr style=\"text-align: right;\">\n",
       "      <th></th>\n",
       "      <th>y_step_0</th>\n",
       "      <th>y_step_1</th>\n",
       "      <th>y_step_2</th>\n",
       "      <th>y_step_3</th>\n",
       "    </tr>\n",
       "    <tr>\n",
       "      <th>datetime</th>\n",
       "      <th></th>\n",
       "      <th></th>\n",
       "      <th></th>\n",
       "      <th></th>\n",
       "    </tr>\n",
       "  </thead>\n",
       "  <tbody>\n",
       "    <tr>\n",
       "      <th>2005-06-01</th>\n",
       "      <td>0.65259</td>\n",
       "      <td>0.670505</td>\n",
       "      <td>0.695248</td>\n",
       "      <td>0.842263</td>\n",
       "    </tr>\n",
       "  </tbody>\n",
       "</table>\n",
       "</div>"
      ],
      "text/plain": [
       "            y_step_0  y_step_1  y_step_2  y_step_3\n",
       "datetime                                          \n",
       "2005-06-01   0.65259  0.670505  0.695248  0.842263"
      ]
     },
     "execution_count": 22,
     "metadata": {},
     "output_type": "execute_result"
    }
   ],
   "source": [
    "y.head(4)"
   ]
  },
  {
   "cell_type": "code",
   "execution_count": 17,
   "metadata": {
    "ExecuteTime": {
     "end_time": "2022-07-27T09:24:40.302168Z",
     "start_time": "2022-07-27T09:24:40.202701Z"
    }
   },
   "outputs": [
    {
     "data": {
      "text/plain": [
       "datetime\n",
       "1991-07-01    0.429795\n",
       "1991-08-01    0.400906\n",
       "1991-09-01    0.432159\n",
       "1991-10-01    0.492543\n",
       "1991-11-01    0.502369\n",
       "                ...   \n",
       "2008-02-01    0.761822\n",
       "2008-03-01    0.649435\n",
       "2008-04-01    0.827887\n",
       "2008-05-01    0.816255\n",
       "2008-06-01    0.762137\n",
       "Freq: MS, Name: y, Length: 204, dtype: float64"
      ]
     },
     "execution_count": 17,
     "metadata": {},
     "output_type": "execute_result"
    }
   ],
   "source": [
    "data"
   ]
  },
  {
   "cell_type": "code",
   "execution_count": 23,
   "metadata": {
    "ExecuteTime": {
     "end_time": "2022-07-27T09:27:02.916154Z",
     "start_time": "2022-07-27T09:27:02.823119Z"
    }
   },
   "outputs": [
    {
     "data": {
      "text/plain": [
       "2005-07-01    0.652590\n",
       "2005-08-01    0.670505\n",
       "2005-09-01    0.695248\n",
       "2005-10-01    0.842263\n",
       "Freq: MS, Name: pred, dtype: float64"
      ]
     },
     "execution_count": 23,
     "metadata": {},
     "output_type": "execute_result"
    }
   ],
   "source": [
    "forecaster.predict()"
   ]
  },
  {
   "cell_type": "code",
   "execution_count": 25,
   "metadata": {
    "ExecuteTime": {
     "end_time": "2022-07-27T09:28:19.076444Z",
     "start_time": "2022-07-27T09:28:18.983563Z"
    }
   },
   "outputs": [],
   "source": [
    "# Test"
   ]
  },
  {
   "cell_type": "code",
   "execution_count": null,
   "metadata": {},
   "outputs": [],
   "source": []
  },
  {
   "cell_type": "code",
   "execution_count": 26,
   "metadata": {
    "ExecuteTime": {
     "end_time": "2022-07-27T09:29:05.365677Z",
     "start_time": "2022-07-27T09:29:05.274292Z"
    }
   },
   "outputs": [],
   "source": [
    "y = pd.Series(\n",
    "            np.array([-0.59,  0.02, -0.9 ,  1.09, -3.61,  0.72, -0.11, -0.4 ,  0.49,\n",
    "                       0.67,  0.54, -0.17,  0.54,  1.49, -2.26, -0.41, -0.64, -0.8 ,\n",
    "                      -0.61, -0.88])\n",
    "        )"
   ]
  },
  {
   "cell_type": "code",
   "execution_count": 28,
   "metadata": {
    "ExecuteTime": {
     "end_time": "2022-07-27T09:29:32.932365Z",
     "start_time": "2022-07-27T09:29:32.829550Z"
    }
   },
   "outputs": [
    {
     "name": "stdout",
     "output_type": "stream",
     "text": [
      "20    0.274988\n",
      "21    0.113467\n",
      "22    0.382425\n",
      "23    0.628522\n",
      "24    0.440017\n",
      "Name: pred, dtype: float64\n"
     ]
    }
   ],
   "source": [
    "forecaster = ForecasterAutoregDirect(\n",
    "                    regressor = LinearRegression(),\n",
    "                    lags = 5,\n",
    "                    steps = 5,\n",
    "                    transformer_y = StandardScaler(),\n",
    "                )\n",
    "forecaster.fit(y = y)\n",
    "predictions = forecaster.predict()\n",
    "print(predictions)"
   ]
  },
  {
   "cell_type": "code",
   "execution_count": 43,
   "metadata": {
    "ExecuteTime": {
     "end_time": "2022-07-27T09:34:16.145965Z",
     "start_time": "2022-07-27T09:34:16.036179Z"
    }
   },
   "outputs": [
    {
     "data": {
      "text/plain": [
       "array([0.27498792, 0.1134674 , 0.3824246 , 0.62852197, 0.44001725])"
      ]
     },
     "execution_count": 43,
     "metadata": {},
     "output_type": "execute_result"
    }
   ],
   "source": [
    "m = StandardScaler().fit(y.values.reshape(-1, 1))\n",
    "y_transform = m.transform(y.values.reshape(-1, 1))\n",
    "y_transform = pd.Series(y_transform.flatten())\n",
    "\n",
    "forecaster = ForecasterAutoregDirect(\n",
    "                    regressor = LinearRegression(),\n",
    "                    lags = 5,\n",
    "                    steps = 5,\n",
    "                    transformer_y = None,\n",
    "                )\n",
    "forecaster.fit(y = y_transform)\n",
    "predictions = forecaster.predict()\n",
    "predictions = m.inverse_transform(predictions.values.reshape(-1, 1))\n",
    "pd.Series(predictions.flatten()).values"
   ]
  },
  {
   "cell_type": "code",
   "execution_count": 13,
   "metadata": {
    "ExecuteTime": {
     "end_time": "2022-07-27T11:35:26.316088Z",
     "start_time": "2022-07-27T11:35:26.256822Z"
    }
   },
   "outputs": [],
   "source": [
    "y = pd.Series(\n",
    "            np.array([-0.59,  0.02, -0.9 ,  1.09, -3.61,  0.72, -0.11, -0.4 ,  0.49,\n",
    "                       0.67,  0.54, -0.17,  0.54,  1.49, -2.26, -0.41, -0.64, -0.8 ,\n",
    "                      -0.61, -0.88])\n",
    "        )\n",
    "exog = pd.DataFrame({\n",
    "            'col_1': [7.5, 24.4, 60.3, 57.3, 50.7, 41.4, 87.2, 47.4, 60.3, 87.2,\n",
    "                      7.5, 60.4, 50.3, 57.3, 24.7, 87.4, 87.2, 60.4, 50.7, 7.5],\n",
    "            'col_2': ['a']*10 + ['b']*10}\n",
    "       )"
   ]
  },
  {
   "cell_type": "code",
   "execution_count": 19,
   "metadata": {
    "ExecuteTime": {
     "end_time": "2022-07-27T11:36:50.770762Z",
     "start_time": "2022-07-27T11:36:50.700399Z"
    }
   },
   "outputs": [
    {
     "name": "stdout",
     "output_type": "stream",
     "text": [
      "[[7.5 'a']\n",
      " [24.4 'a']\n",
      " [60.3 'a']\n",
      " [57.3 'a']\n",
      " [50.7 'a']]\n",
      "[[7.5 24.4 60.3 57.3 50.7 'a' 'a' 'a' 'a' 'a']]\n"
     ]
    },
    {
     "data": {
      "text/plain": [
       "array([[7.5, 'a']], dtype=object)"
      ]
     },
     "execution_count": 19,
     "metadata": {},
     "output_type": "execute_result"
    }
   ],
   "source": [
    "from skforecast.utils import preprocess_exog\n",
    "from skforecast.utils import exog_to_multi_output\n",
    "steps = 5\n",
    "\n",
    "exog_values, _ = preprocess_exog(\n",
    "                                exog = exog.iloc[:steps, ]\n",
    "                             )\n",
    "\n",
    "print(exog_values)\n",
    "\n",
    "exog_values = exog_to_multi_output(exog=exog_values, steps=steps)\n",
    "\n",
    "print(exog_values)\n",
    "\n",
    "exog_values = exog_values[0][0::steps].reshape(1, -1)\n",
    "\n",
    "exog_values"
   ]
  },
  {
   "cell_type": "code",
   "execution_count": 20,
   "metadata": {
    "ExecuteTime": {
     "end_time": "2022-07-27T11:41:59.279756Z",
     "start_time": "2022-07-27T11:41:59.193828Z"
    }
   },
   "outputs": [
    {
     "name": "stdout",
     "output_type": "stream",
     "text": [
      "20    1.108551\n",
      "21   -0.834424\n",
      "22    0.943444\n",
      "23    0.667651\n",
      "24    0.586663\n",
      "Name: pred, dtype: float64\n"
     ]
    }
   ],
   "source": [
    "transformer_exog = ColumnTransformer(\n",
    "                            [('scale', StandardScaler(), ['col_1']),\n",
    "                             ('onehot', OneHotEncoder(), ['col_2'])],\n",
    "                            remainder = 'passthrough',\n",
    "                            verbose_feature_names_out = False\n",
    "                       )\n",
    "forecaster = ForecasterAutoregDirect(\n",
    "                    regressor = LinearRegression(),\n",
    "                    lags = 5,\n",
    "                    steps = 5,\n",
    "                    transformer_y = StandardScaler(),\n",
    "                    transformer_exog = transformer_exog\n",
    "             )\n",
    "forecaster.fit(y=y, exog=exog)\n",
    "predictions = forecaster.predict(exog=exog)\n",
    "print(predictions)"
   ]
  },
  {
   "cell_type": "code",
   "execution_count": 21,
   "metadata": {
    "ExecuteTime": {
     "end_time": "2022-07-27T11:59:37.755331Z",
     "start_time": "2022-07-27T11:59:37.678945Z"
    }
   },
   "outputs": [
    {
     "data": {
      "text/html": [
       "<div>\n",
       "<style scoped>\n",
       "    .dataframe tbody tr th:only-of-type {\n",
       "        vertical-align: middle;\n",
       "    }\n",
       "\n",
       "    .dataframe tbody tr th {\n",
       "        vertical-align: top;\n",
       "    }\n",
       "\n",
       "    .dataframe thead th {\n",
       "        text-align: right;\n",
       "    }\n",
       "</style>\n",
       "<table border=\"1\" class=\"dataframe\">\n",
       "  <thead>\n",
       "    <tr style=\"text-align: right;\">\n",
       "      <th></th>\n",
       "      <th>col_1</th>\n",
       "      <th>col_2_a</th>\n",
       "      <th>col_2_b</th>\n",
       "    </tr>\n",
       "  </thead>\n",
       "  <tbody>\n",
       "    <tr>\n",
       "      <th>0</th>\n",
       "      <td>-1.709307</td>\n",
       "      <td>1</td>\n",
       "      <td>0</td>\n",
       "    </tr>\n",
       "    <tr>\n",
       "      <th>1</th>\n",
       "      <td>-1.043010</td>\n",
       "      <td>1</td>\n",
       "      <td>0</td>\n",
       "    </tr>\n",
       "    <tr>\n",
       "      <th>2</th>\n",
       "      <td>0.372377</td>\n",
       "      <td>1</td>\n",
       "      <td>0</td>\n",
       "    </tr>\n",
       "    <tr>\n",
       "      <th>3</th>\n",
       "      <td>0.254100</td>\n",
       "      <td>1</td>\n",
       "      <td>0</td>\n",
       "    </tr>\n",
       "    <tr>\n",
       "      <th>4</th>\n",
       "      <td>-0.006111</td>\n",
       "      <td>1</td>\n",
       "      <td>0</td>\n",
       "    </tr>\n",
       "  </tbody>\n",
       "</table>\n",
       "</div>"
      ],
      "text/plain": [
       "      col_1  col_2_a  col_2_b\n",
       "0 -1.709307        1        0\n",
       "1 -1.043010        1        0\n",
       "2  0.372377        1        0\n",
       "3  0.254100        1        0\n",
       "4 -0.006111        1        0"
      ]
     },
     "execution_count": 21,
     "metadata": {},
     "output_type": "execute_result"
    }
   ],
   "source": [
    "m = StandardScaler().fit(y.values.reshape(-1, 1))\n",
    "y_transform = m.transform(y.values.reshape(-1, 1))\n",
    "y_transform = pd.Series(y_transform.flatten())\n",
    "\n",
    "v = StandardScaler()\n",
    "v.fit(exog['col_1'].values.reshape(-1, 1))\n",
    "exog_transform_1 = v.transform(exog['col_1'].values.reshape(-1, 1))\n",
    "\n",
    "df_transformed = pd.DataFrame({'col_1': exog_transform_1.flatten(), \n",
    "                               'col_2_a': [1]*10 + [0]*10,\n",
    "                               'col_2_b': [0]*10 + [1]*10})\n",
    "df_transformed.head()"
   ]
  },
  {
   "cell_type": "code",
   "execution_count": 22,
   "metadata": {
    "ExecuteTime": {
     "end_time": "2022-07-27T11:59:38.947718Z",
     "start_time": "2022-07-27T11:59:38.855409Z"
    }
   },
   "outputs": [
    {
     "data": {
      "text/plain": [
       "array([ 1.10855119, -0.83442443,  0.9434436 ,  0.6676508 ,  0.58666266])"
      ]
     },
     "execution_count": 22,
     "metadata": {},
     "output_type": "execute_result"
    }
   ],
   "source": [
    "forecaster = ForecasterAutoregDirect(\n",
    "                    regressor = LinearRegression(),\n",
    "                    lags = 5,\n",
    "                    steps = 5,\n",
    "                    transformer_y = None,\n",
    "                    transformer_exog = None\n",
    "             )\n",
    "\n",
    "forecaster.fit(y = y_transform, \n",
    "               exog = df_transformed[['col_1', 'col_2_a', 'col_2_b']])\n",
    "\n",
    "predictions = forecaster.predict(exog = df_transformed[['col_1', 'col_2_a', 'col_2_b']])\n",
    "predictions = m.inverse_transform(predictions.values.reshape(-1, 1))\n",
    "pd.Series(predictions.flatten()).values"
   ]
  },
  {
   "cell_type": "code",
   "execution_count": null,
   "metadata": {},
   "outputs": [],
   "source": []
  },
  {
   "cell_type": "code",
   "execution_count": null,
   "metadata": {},
   "outputs": [],
   "source": []
  },
  {
   "cell_type": "markdown",
   "metadata": {},
   "source": [
    "## Backtesting_multiple_metric"
   ]
  },
  {
   "cell_type": "code",
   "execution_count": 5,
   "metadata": {
    "ExecuteTime": {
     "end_time": "2022-07-28T14:54:11.814402Z",
     "start_time": "2022-07-28T14:54:11.740009Z"
    }
   },
   "outputs": [],
   "source": [
    "from skforecast.model_selection.model_selection import _get_metric\n",
    "\n",
    "from sklearn.metrics import mean_squared_error"
   ]
  },
  {
   "cell_type": "code",
   "execution_count": 4,
   "metadata": {
    "ExecuteTime": {
     "end_time": "2022-07-28T14:53:53.327028Z",
     "start_time": "2022-07-28T14:53:53.239270Z"
    }
   },
   "outputs": [
    {
     "data": {
      "text/plain": [
       "<function sklearn.metrics._regression.mean_squared_error(y_true, y_pred, *, sample_weight=None, multioutput='uniform_average', squared=True)>"
      ]
     },
     "execution_count": 4,
     "metadata": {},
     "output_type": "execute_result"
    }
   ],
   "source": [
    "_get_metric('mean_squared_error')"
   ]
  },
  {
   "cell_type": "code",
   "execution_count": 6,
   "metadata": {
    "ExecuteTime": {
     "end_time": "2022-07-28T14:54:14.501854Z",
     "start_time": "2022-07-28T14:54:14.428988Z"
    }
   },
   "outputs": [
    {
     "data": {
      "text/plain": [
       "<function sklearn.metrics._regression.mean_squared_error(y_true, y_pred, *, sample_weight=None, multioutput='uniform_average', squared=True)>"
      ]
     },
     "execution_count": 6,
     "metadata": {},
     "output_type": "execute_result"
    }
   ],
   "source": [
    "mean_squared_error"
   ]
  },
  {
   "cell_type": "code",
   "execution_count": 7,
   "metadata": {
    "ExecuteTime": {
     "end_time": "2022-07-28T14:54:36.743021Z",
     "start_time": "2022-07-28T14:54:36.663002Z"
    }
   },
   "outputs": [],
   "source": [
    "metric = ['mean_squared_error', mean_squared_error]"
   ]
  },
  {
   "cell_type": "code",
   "execution_count": 11,
   "metadata": {
    "ExecuteTime": {
     "end_time": "2022-07-28T14:55:04.630087Z",
     "start_time": "2022-07-28T14:55:04.565050Z"
    }
   },
   "outputs": [],
   "source": [
    "metrics = [_get_metric(metric=m) if isinstance(m, str) else m for m in metric]"
   ]
  },
  {
   "cell_type": "code",
   "execution_count": 13,
   "metadata": {
    "ExecuteTime": {
     "end_time": "2022-07-28T14:55:08.479084Z",
     "start_time": "2022-07-28T14:55:08.397679Z"
    }
   },
   "outputs": [
    {
     "data": {
      "text/plain": [
       "<function sklearn.metrics._regression.mean_squared_error(y_true, y_pred, *, sample_weight=None, multioutput='uniform_average', squared=True)>"
      ]
     },
     "execution_count": 13,
     "metadata": {},
     "output_type": "execute_result"
    }
   ],
   "source": [
    "metrics[0]"
   ]
  },
  {
   "cell_type": "code",
   "execution_count": 21,
   "metadata": {
    "ExecuteTime": {
     "end_time": "2022-07-29T15:55:56.480984Z",
     "start_time": "2022-07-29T15:55:56.419132Z"
    }
   },
   "outputs": [],
   "source": [
    "from skforecast.model_selection.model_selection import _evaluate_grid_hyperparameters\n",
    "from sklearn.linear_model import Ridge\n",
    "from sklearn.metrics import mean_absolute_error\n",
    "\n",
    "from sklearn.metrics import mean_absolute_percentage_error"
   ]
  },
  {
   "cell_type": "code",
   "execution_count": 4,
   "metadata": {
    "ExecuteTime": {
     "end_time": "2022-07-29T15:41:32.596425Z",
     "start_time": "2022-07-29T15:41:32.519445Z"
    }
   },
   "outputs": [],
   "source": [
    "y = pd.Series(\n",
    "    np.array([0.69646919, 0.28613933, 0.22685145, 0.55131477, 0.71946897,\n",
    "              0.42310646, 0.9807642 , 0.68482974, 0.4809319 , 0.39211752,\n",
    "              0.34317802, 0.72904971, 0.43857224, 0.0596779 , 0.39804426,\n",
    "              0.73799541, 0.18249173, 0.17545176, 0.53155137, 0.53182759,\n",
    "              0.63440096, 0.84943179, 0.72445532, 0.61102351, 0.72244338,\n",
    "              0.32295891, 0.36178866, 0.22826323, 0.29371405, 0.63097612,\n",
    "              0.09210494, 0.43370117, 0.43086276, 0.4936851 , 0.42583029,\n",
    "              0.31226122, 0.42635131, 0.89338916, 0.94416002, 0.50183668,\n",
    "              0.62395295, 0.1156184 , 0.31728548, 0.41482621, 0.86630916,\n",
    "              0.25045537, 0.48303426, 0.98555979, 0.51948512, 0.61289453]))"
   ]
  },
  {
   "cell_type": "code",
   "execution_count": 22,
   "metadata": {
    "ExecuteTime": {
     "end_time": "2022-07-29T15:56:00.463948Z",
     "start_time": "2022-07-29T15:56:00.351333Z"
    }
   },
   "outputs": [
    {
     "name": "stdout",
     "output_type": "stream",
     "text": [
      "Number of models compared: 6.\n"
     ]
    },
    {
     "name": "stderr",
     "output_type": "stream",
     "text": [
      "loop lags_grid:   0%|                                               | 0/2 [00:00<?, ?it/s]\n",
      "loop param_grid:   0%|                                              | 0/3 [00:00<?, ?it/s]\u001b[A\n",
      "                                                                                          \u001b[A\n",
      "loop param_grid:   0%|                                              | 0/3 [00:00<?, ?it/s]\u001b[A\n",
      "loop lags_grid: 100%|███████████████████████████████████████| 2/2 [00:00<00:00, 57.33it/s]\u001b[A\n"
     ]
    },
    {
     "data": {
      "text/html": [
       "<div>\n",
       "<style scoped>\n",
       "    .dataframe tbody tr th:only-of-type {\n",
       "        vertical-align: middle;\n",
       "    }\n",
       "\n",
       "    .dataframe tbody tr th {\n",
       "        vertical-align: top;\n",
       "    }\n",
       "\n",
       "    .dataframe thead th {\n",
       "        text-align: right;\n",
       "    }\n",
       "</style>\n",
       "<table border=\"1\" class=\"dataframe\">\n",
       "  <thead>\n",
       "    <tr style=\"text-align: right;\">\n",
       "      <th></th>\n",
       "      <th>lags</th>\n",
       "      <th>params</th>\n",
       "      <th>mean_squared_error</th>\n",
       "      <th>mean_absolute_percentage_error</th>\n",
       "      <th>alpha</th>\n",
       "    </tr>\n",
       "  </thead>\n",
       "  <tbody>\n",
       "    <tr>\n",
       "      <th>0</th>\n",
       "      <td>[1, 2]</td>\n",
       "      <td>{'alpha': 0.01}</td>\n",
       "      <td>0.064646</td>\n",
       "      <td>0.584517</td>\n",
       "      <td>0.01</td>\n",
       "    </tr>\n",
       "    <tr>\n",
       "      <th>1</th>\n",
       "      <td>[1, 2]</td>\n",
       "      <td>{'alpha': 0.1}</td>\n",
       "      <td>0.065024</td>\n",
       "      <td>0.583482</td>\n",
       "      <td>0.10</td>\n",
       "    </tr>\n",
       "    <tr>\n",
       "      <th>2</th>\n",
       "      <td>[1, 2]</td>\n",
       "      <td>{'alpha': 1}</td>\n",
       "      <td>0.067455</td>\n",
       "      <td>0.577341</td>\n",
       "      <td>1.00</td>\n",
       "    </tr>\n",
       "    <tr>\n",
       "      <th>3</th>\n",
       "      <td>[1, 2, 3, 4]</td>\n",
       "      <td>{'alpha': 0.01}</td>\n",
       "      <td>0.067793</td>\n",
       "      <td>0.627959</td>\n",
       "      <td>0.01</td>\n",
       "    </tr>\n",
       "    <tr>\n",
       "      <th>4</th>\n",
       "      <td>[1, 2, 3, 4]</td>\n",
       "      <td>{'alpha': 0.1}</td>\n",
       "      <td>0.068025</td>\n",
       "      <td>0.625030</td>\n",
       "      <td>0.10</td>\n",
       "    </tr>\n",
       "    <tr>\n",
       "      <th>5</th>\n",
       "      <td>[1, 2, 3, 4]</td>\n",
       "      <td>{'alpha': 1}</td>\n",
       "      <td>0.069486</td>\n",
       "      <td>0.606975</td>\n",
       "      <td>1.00</td>\n",
       "    </tr>\n",
       "  </tbody>\n",
       "</table>\n",
       "</div>"
      ],
      "text/plain": [
       "           lags           params  mean_squared_error  \\\n",
       "0        [1, 2]  {'alpha': 0.01}            0.064646   \n",
       "1        [1, 2]   {'alpha': 0.1}            0.065024   \n",
       "2        [1, 2]     {'alpha': 1}            0.067455   \n",
       "3  [1, 2, 3, 4]  {'alpha': 0.01}            0.067793   \n",
       "4  [1, 2, 3, 4]   {'alpha': 0.1}            0.068025   \n",
       "5  [1, 2, 3, 4]     {'alpha': 1}            0.069486   \n",
       "\n",
       "   mean_absolute_percentage_error  alpha  \n",
       "0                        0.584517   0.01  \n",
       "1                        0.583482   0.10  \n",
       "2                        0.577341   1.00  \n",
       "3                        0.627959   0.01  \n",
       "4                        0.625030   0.10  \n",
       "5                        0.606975   1.00  "
      ]
     },
     "execution_count": 22,
     "metadata": {},
     "output_type": "execute_result"
    }
   ],
   "source": [
    "forecaster = ForecasterAutoreg(\n",
    "                    regressor = Ridge(random_state=123),\n",
    "                    lags      = 2 # Placeholder, the value will be overwritten\n",
    "                 )\n",
    "\n",
    "steps = 3\n",
    "n_validation = 12\n",
    "y_train = y[:-n_validation]\n",
    "lags_grid = [2, 4]\n",
    "param_grid = [{'alpha': 0.01}, {'alpha': 0.1}, {'alpha': 1}]\n",
    "idx = len(lags_grid)*len(param_grid)\n",
    "\n",
    "results = _evaluate_grid_hyperparameters(\n",
    "                        forecaster  = forecaster,\n",
    "                        y           = y,\n",
    "                        lags_grid   = lags_grid,\n",
    "                        param_grid  = param_grid,\n",
    "                        steps       = steps,\n",
    "                        refit       = False,\n",
    "                        metric      = ['mean_squared_error', mean_absolute_percentage_error],\n",
    "                        initial_train_size = len(y_train),\n",
    "                        fixed_train_size   = False,\n",
    "                        return_best = False,\n",
    "                        verbose     = False\n",
    "          )\n",
    "\n",
    "results"
   ]
  },
  {
   "cell_type": "code",
   "execution_count": 23,
   "metadata": {
    "ExecuteTime": {
     "end_time": "2022-07-29T15:56:03.817628Z",
     "start_time": "2022-07-29T15:56:03.715416Z"
    }
   },
   "outputs": [
    {
     "data": {
      "text/html": [
       "<div>\n",
       "<style scoped>\n",
       "    .dataframe tbody tr th:only-of-type {\n",
       "        vertical-align: middle;\n",
       "    }\n",
       "\n",
       "    .dataframe tbody tr th {\n",
       "        vertical-align: top;\n",
       "    }\n",
       "\n",
       "    .dataframe thead th {\n",
       "        text-align: right;\n",
       "    }\n",
       "</style>\n",
       "<table border=\"1\" class=\"dataframe\">\n",
       "  <thead>\n",
       "    <tr style=\"text-align: right;\">\n",
       "      <th></th>\n",
       "      <th>lags</th>\n",
       "      <th>params</th>\n",
       "      <th>mean_squared_error</th>\n",
       "      <th>mean_absolute_percentage_error</th>\n",
       "      <th>alpha</th>\n",
       "    </tr>\n",
       "  </thead>\n",
       "  <tbody>\n",
       "    <tr>\n",
       "      <th>2</th>\n",
       "      <td>[1, 2]</td>\n",
       "      <td>{'alpha': 1}</td>\n",
       "      <td>0.067455</td>\n",
       "      <td>0.577341</td>\n",
       "      <td>1.00</td>\n",
       "    </tr>\n",
       "    <tr>\n",
       "      <th>1</th>\n",
       "      <td>[1, 2]</td>\n",
       "      <td>{'alpha': 0.1}</td>\n",
       "      <td>0.065024</td>\n",
       "      <td>0.583482</td>\n",
       "      <td>0.10</td>\n",
       "    </tr>\n",
       "    <tr>\n",
       "      <th>0</th>\n",
       "      <td>[1, 2]</td>\n",
       "      <td>{'alpha': 0.01}</td>\n",
       "      <td>0.064646</td>\n",
       "      <td>0.584517</td>\n",
       "      <td>0.01</td>\n",
       "    </tr>\n",
       "    <tr>\n",
       "      <th>5</th>\n",
       "      <td>[1, 2, 3, 4]</td>\n",
       "      <td>{'alpha': 1}</td>\n",
       "      <td>0.069486</td>\n",
       "      <td>0.606975</td>\n",
       "      <td>1.00</td>\n",
       "    </tr>\n",
       "    <tr>\n",
       "      <th>4</th>\n",
       "      <td>[1, 2, 3, 4]</td>\n",
       "      <td>{'alpha': 0.1}</td>\n",
       "      <td>0.068025</td>\n",
       "      <td>0.625030</td>\n",
       "      <td>0.10</td>\n",
       "    </tr>\n",
       "    <tr>\n",
       "      <th>3</th>\n",
       "      <td>[1, 2, 3, 4]</td>\n",
       "      <td>{'alpha': 0.01}</td>\n",
       "      <td>0.067793</td>\n",
       "      <td>0.627959</td>\n",
       "      <td>0.01</td>\n",
       "    </tr>\n",
       "  </tbody>\n",
       "</table>\n",
       "</div>"
      ],
      "text/plain": [
       "           lags           params  mean_squared_error  \\\n",
       "2        [1, 2]     {'alpha': 1}            0.067455   \n",
       "1        [1, 2]   {'alpha': 0.1}            0.065024   \n",
       "0        [1, 2]  {'alpha': 0.01}            0.064646   \n",
       "5  [1, 2, 3, 4]     {'alpha': 1}            0.069486   \n",
       "4  [1, 2, 3, 4]   {'alpha': 0.1}            0.068025   \n",
       "3  [1, 2, 3, 4]  {'alpha': 0.01}            0.067793   \n",
       "\n",
       "   mean_absolute_percentage_error  alpha  \n",
       "2                        0.577341   1.00  \n",
       "1                        0.583482   0.10  \n",
       "0                        0.584517   0.01  \n",
       "5                        0.606975   1.00  \n",
       "4                        0.625030   0.10  \n",
       "3                        0.627959   0.01  "
      ]
     },
     "execution_count": 23,
     "metadata": {},
     "output_type": "execute_result"
    }
   ],
   "source": [
    "results.sort_values(by='mean_absolute_percentage_error')"
   ]
  },
  {
   "cell_type": "code",
   "execution_count": 37,
   "metadata": {
    "ExecuteTime": {
     "end_time": "2022-07-29T16:15:32.100452Z",
     "start_time": "2022-07-29T16:15:31.991767Z"
    }
   },
   "outputs": [
    {
     "ename": "ValueError",
     "evalue": "When `metrics` is a `list`, each metric name must be unique.",
     "output_type": "error",
     "traceback": [
      "\u001b[1;31m---------------------------------------------------------------------------\u001b[0m",
      "\u001b[1;31mValueError\u001b[0m                                Traceback (most recent call last)",
      "Input \u001b[1;32mIn [37]\u001b[0m, in \u001b[0;36m<cell line: 12>\u001b[1;34m()\u001b[0m\n\u001b[0;32m      9\u001b[0m lags_grid \u001b[38;5;241m=\u001b[39m [\u001b[38;5;241m2\u001b[39m, \u001b[38;5;241m4\u001b[39m]\n\u001b[0;32m     10\u001b[0m param_grid \u001b[38;5;241m=\u001b[39m [{\u001b[38;5;124m'\u001b[39m\u001b[38;5;124malpha\u001b[39m\u001b[38;5;124m'\u001b[39m: \u001b[38;5;241m0.01\u001b[39m}, {\u001b[38;5;124m'\u001b[39m\u001b[38;5;124malpha\u001b[39m\u001b[38;5;124m'\u001b[39m: \u001b[38;5;241m0.1\u001b[39m}, {\u001b[38;5;124m'\u001b[39m\u001b[38;5;124malpha\u001b[39m\u001b[38;5;124m'\u001b[39m: \u001b[38;5;241m1\u001b[39m}]\n\u001b[1;32m---> 12\u001b[0m r \u001b[38;5;241m=\u001b[39m\u001b[43m_evaluate_grid_hyperparameters\u001b[49m\u001b[43m(\u001b[49m\n\u001b[0;32m     13\u001b[0m \u001b[43m        \u001b[49m\u001b[43mforecaster\u001b[49m\u001b[43m  \u001b[49m\u001b[38;5;241;43m=\u001b[39;49m\u001b[43m \u001b[49m\u001b[43mforecaster\u001b[49m\u001b[43m,\u001b[49m\n\u001b[0;32m     14\u001b[0m \u001b[43m        \u001b[49m\u001b[43my\u001b[49m\u001b[43m           \u001b[49m\u001b[38;5;241;43m=\u001b[39;49m\u001b[43m \u001b[49m\u001b[43my\u001b[49m\u001b[43m,\u001b[49m\n\u001b[0;32m     15\u001b[0m \u001b[43m        \u001b[49m\u001b[43mlags_grid\u001b[49m\u001b[43m   \u001b[49m\u001b[38;5;241;43m=\u001b[39;49m\u001b[43m \u001b[49m\u001b[43mlags_grid\u001b[49m\u001b[43m,\u001b[49m\n\u001b[0;32m     16\u001b[0m \u001b[43m        \u001b[49m\u001b[43mparam_grid\u001b[49m\u001b[43m  \u001b[49m\u001b[38;5;241;43m=\u001b[39;49m\u001b[43m \u001b[49m\u001b[43mparam_grid\u001b[49m\u001b[43m,\u001b[49m\n\u001b[0;32m     17\u001b[0m \u001b[43m        \u001b[49m\u001b[43msteps\u001b[49m\u001b[43m       \u001b[49m\u001b[38;5;241;43m=\u001b[39;49m\u001b[43m \u001b[49m\u001b[43msteps\u001b[49m\u001b[43m,\u001b[49m\n\u001b[0;32m     18\u001b[0m \u001b[43m        \u001b[49m\u001b[43mrefit\u001b[49m\u001b[43m       \u001b[49m\u001b[38;5;241;43m=\u001b[39;49m\u001b[43m \u001b[49m\u001b[38;5;28;43;01mFalse\u001b[39;49;00m\u001b[43m,\u001b[49m\n\u001b[0;32m     19\u001b[0m \u001b[43m        \u001b[49m\u001b[43mmetric\u001b[49m\u001b[43m      \u001b[49m\u001b[38;5;241;43m=\u001b[39;49m\u001b[43m \u001b[49m\u001b[43m[\u001b[49m\u001b[43mmean_squared_error\u001b[49m\u001b[43m,\u001b[49m\u001b[43m \u001b[49m\u001b[38;5;124;43m'\u001b[39;49m\u001b[38;5;124;43mmean_squared_error\u001b[39;49m\u001b[38;5;124;43m'\u001b[39;49m\u001b[43m]\u001b[49m\u001b[43m,\u001b[49m\n\u001b[0;32m     20\u001b[0m \u001b[43m        \u001b[49m\u001b[43minitial_train_size\u001b[49m\u001b[43m \u001b[49m\u001b[38;5;241;43m=\u001b[39;49m\u001b[43m \u001b[49m\u001b[38;5;28;43mlen\u001b[39;49m\u001b[43m(\u001b[49m\u001b[43my_train\u001b[49m\u001b[43m)\u001b[49m\u001b[43m,\u001b[49m\n\u001b[0;32m     21\u001b[0m \u001b[43m        \u001b[49m\u001b[43mfixed_train_size\u001b[49m\u001b[43m   \u001b[49m\u001b[38;5;241;43m=\u001b[39;49m\u001b[43m \u001b[49m\u001b[38;5;28;43;01mFalse\u001b[39;49;00m\u001b[43m,\u001b[49m\n\u001b[0;32m     22\u001b[0m \u001b[43m        \u001b[49m\u001b[43mreturn_best\u001b[49m\u001b[43m \u001b[49m\u001b[38;5;241;43m=\u001b[39;49m\u001b[43m \u001b[49m\u001b[38;5;28;43;01mTrue\u001b[39;49;00m\u001b[43m,\u001b[49m\n\u001b[0;32m     23\u001b[0m \u001b[43m        \u001b[49m\u001b[43mverbose\u001b[49m\u001b[43m     \u001b[49m\u001b[38;5;241;43m=\u001b[39;49m\u001b[43m \u001b[49m\u001b[38;5;28;43;01mFalse\u001b[39;49;00m\n\u001b[0;32m     24\u001b[0m \u001b[43m)\u001b[49m\n\u001b[0;32m     26\u001b[0m expected_lags \u001b[38;5;241m=\u001b[39m np\u001b[38;5;241m.\u001b[39marray([\u001b[38;5;241m1\u001b[39m, \u001b[38;5;241m2\u001b[39m])\n\u001b[0;32m     27\u001b[0m expected_alpha \u001b[38;5;241m=\u001b[39m \u001b[38;5;241m1.\u001b[39m\n",
      "File \u001b[1;32m~\\GitHub\\skforecast\\skforecast\\model_selection\\model_selection.py:1412\u001b[0m, in \u001b[0;36m_evaluate_grid_hyperparameters\u001b[1;34m(forecaster, y, param_grid, steps, metric, initial_train_size, fixed_train_size, exog, lags_grid, refit, return_best, verbose)\u001b[0m\n\u001b[0;32m   1408\u001b[0m \u001b[38;5;28;01melse\u001b[39;00m: \n\u001b[0;32m   1409\u001b[0m     metric_list \u001b[38;5;241m=\u001b[39m {(m \u001b[38;5;28;01mif\u001b[39;00m \u001b[38;5;28misinstance\u001b[39m(m, \u001b[38;5;28mstr\u001b[39m) \u001b[38;5;28;01melse\u001b[39;00m m\u001b[38;5;241m.\u001b[39m\u001b[38;5;18m__name__\u001b[39m): [] \u001b[38;5;28;01mfor\u001b[39;00m m \u001b[38;5;129;01min\u001b[39;00m metric}\n\u001b[0;32m   1411\u001b[0m \u001b[38;5;28mprint\u001b[39m(\n\u001b[1;32m-> 1412\u001b[0m     \u001b[38;5;124mf\u001b[39m\u001b[38;5;124m\"\u001b[39m\u001b[38;5;124mNumber of models compared: \u001b[39m\u001b[38;5;132;01m{\u001b[39;00m\u001b[38;5;28mlen\u001b[39m(param_grid)\u001b[38;5;241m*\u001b[39m\u001b[38;5;28mlen\u001b[39m(lags_grid)\u001b[38;5;132;01m}\u001b[39;00m\u001b[38;5;124m.\u001b[39m\u001b[38;5;124m\"\u001b[39m\n\u001b[0;32m   1413\u001b[0m )\n\u001b[0;32m   1415\u001b[0m \u001b[38;5;28;01mfor\u001b[39;00m lags \u001b[38;5;129;01min\u001b[39;00m tqdm(lags_grid, desc\u001b[38;5;241m=\u001b[39m\u001b[38;5;124m'\u001b[39m\u001b[38;5;124mloop lags_grid\u001b[39m\u001b[38;5;124m'\u001b[39m, position\u001b[38;5;241m=\u001b[39m\u001b[38;5;241m0\u001b[39m, ncols\u001b[38;5;241m=\u001b[39m\u001b[38;5;241m90\u001b[39m):\n\u001b[0;32m   1417\u001b[0m     \u001b[38;5;28;01mif\u001b[39;00m \u001b[38;5;28misinstance\u001b[39m(forecaster, (ForecasterAutoreg, ForecasterAutoregDirect, \n\u001b[0;32m   1418\u001b[0m     ForecasterAutoregMultiOutput)):\n",
      "\u001b[1;31mValueError\u001b[0m: When `metrics` is a `list`, each metric name must be unique."
     ]
    }
   ],
   "source": [
    "forecaster = ForecasterAutoreg(\n",
    "                    regressor = Ridge(random_state=123),\n",
    "                    lags      = 2 # Placeholder, the value will be overwritten\n",
    "                 )\n",
    "\n",
    "steps = 3\n",
    "n_validation = 12\n",
    "y_train = y[:-n_validation]\n",
    "lags_grid = [2, 4]\n",
    "param_grid = [{'alpha': 0.01}, {'alpha': 0.1}, {'alpha': 1}]\n",
    "\n",
    "r =_evaluate_grid_hyperparameters(\n",
    "        forecaster  = forecaster,\n",
    "        y           = y,\n",
    "        lags_grid   = lags_grid,\n",
    "        param_grid  = param_grid,\n",
    "        steps       = steps,\n",
    "        refit       = False,\n",
    "        metric      = [mean_squared_error, 'mean_squared_error'],\n",
    "        initial_train_size = len(y_train),\n",
    "        fixed_train_size   = False,\n",
    "        return_best = True,\n",
    "        verbose     = False\n",
    ")\n",
    "\n",
    "expected_lags = np.array([1, 2])\n",
    "expected_alpha = 1.\n",
    "\n",
    "assert (expected_lags == forecaster.lags).all()\n",
    "assert expected_alpha == forecaster.regressor.alpha"
   ]
  },
  {
   "cell_type": "code",
   "execution_count": 36,
   "metadata": {
    "ExecuteTime": {
     "end_time": "2022-07-29T16:04:10.981915Z",
     "start_time": "2022-07-29T16:04:10.900963Z"
    }
   },
   "outputs": [
    {
     "data": {
      "text/html": [
       "<div>\n",
       "<style scoped>\n",
       "    .dataframe tbody tr th:only-of-type {\n",
       "        vertical-align: middle;\n",
       "    }\n",
       "\n",
       "    .dataframe tbody tr th {\n",
       "        vertical-align: top;\n",
       "    }\n",
       "\n",
       "    .dataframe thead th {\n",
       "        text-align: right;\n",
       "    }\n",
       "</style>\n",
       "<table border=\"1\" class=\"dataframe\">\n",
       "  <thead>\n",
       "    <tr style=\"text-align: right;\">\n",
       "      <th></th>\n",
       "      <th>lags</th>\n",
       "      <th>params</th>\n",
       "      <th>mean_absolute_percentage_error</th>\n",
       "      <th>mean_squared_error</th>\n",
       "      <th>alpha</th>\n",
       "    </tr>\n",
       "  </thead>\n",
       "  <tbody>\n",
       "    <tr>\n",
       "      <th>2</th>\n",
       "      <td>[1, 2]</td>\n",
       "      <td>{'alpha': 1}</td>\n",
       "      <td>0.577341</td>\n",
       "      <td>0.067455</td>\n",
       "      <td>1.00</td>\n",
       "    </tr>\n",
       "    <tr>\n",
       "      <th>1</th>\n",
       "      <td>[1, 2]</td>\n",
       "      <td>{'alpha': 0.1}</td>\n",
       "      <td>0.583482</td>\n",
       "      <td>0.065024</td>\n",
       "      <td>0.10</td>\n",
       "    </tr>\n",
       "    <tr>\n",
       "      <th>0</th>\n",
       "      <td>[1, 2]</td>\n",
       "      <td>{'alpha': 0.01}</td>\n",
       "      <td>0.584517</td>\n",
       "      <td>0.064646</td>\n",
       "      <td>0.01</td>\n",
       "    </tr>\n",
       "    <tr>\n",
       "      <th>5</th>\n",
       "      <td>[1, 2, 3, 4]</td>\n",
       "      <td>{'alpha': 1}</td>\n",
       "      <td>0.606975</td>\n",
       "      <td>0.069486</td>\n",
       "      <td>1.00</td>\n",
       "    </tr>\n",
       "    <tr>\n",
       "      <th>4</th>\n",
       "      <td>[1, 2, 3, 4]</td>\n",
       "      <td>{'alpha': 0.1}</td>\n",
       "      <td>0.625030</td>\n",
       "      <td>0.068025</td>\n",
       "      <td>0.10</td>\n",
       "    </tr>\n",
       "    <tr>\n",
       "      <th>3</th>\n",
       "      <td>[1, 2, 3, 4]</td>\n",
       "      <td>{'alpha': 0.01}</td>\n",
       "      <td>0.627959</td>\n",
       "      <td>0.067793</td>\n",
       "      <td>0.01</td>\n",
       "    </tr>\n",
       "  </tbody>\n",
       "</table>\n",
       "</div>"
      ],
      "text/plain": [
       "           lags           params  mean_absolute_percentage_error  \\\n",
       "2        [1, 2]     {'alpha': 1}                        0.577341   \n",
       "1        [1, 2]   {'alpha': 0.1}                        0.583482   \n",
       "0        [1, 2]  {'alpha': 0.01}                        0.584517   \n",
       "5  [1, 2, 3, 4]     {'alpha': 1}                        0.606975   \n",
       "4  [1, 2, 3, 4]   {'alpha': 0.1}                        0.625030   \n",
       "3  [1, 2, 3, 4]  {'alpha': 0.01}                        0.627959   \n",
       "\n",
       "   mean_squared_error  alpha  \n",
       "2            0.067455   1.00  \n",
       "1            0.065024   0.10  \n",
       "0            0.064646   0.01  \n",
       "5            0.069486   1.00  \n",
       "4            0.068025   0.10  \n",
       "3            0.067793   0.01  "
      ]
     },
     "execution_count": 36,
     "metadata": {},
     "output_type": "execute_result"
    }
   ],
   "source": [
    "r"
   ]
  },
  {
   "cell_type": "code",
   "execution_count": 31,
   "metadata": {
    "ExecuteTime": {
     "end_time": "2022-07-29T16:03:36.726890Z",
     "start_time": "2022-07-29T16:03:36.605452Z"
    }
   },
   "outputs": [
    {
     "name": "stdout",
     "output_type": "stream",
     "text": [
      "Number of models compared: 6.\n"
     ]
    },
    {
     "name": "stderr",
     "output_type": "stream",
     "text": [
      "loop lags_grid:   0%|                                               | 0/2 [00:00<?, ?it/s]\n",
      "loop param_grid:   0%|                                              | 0/3 [00:00<?, ?it/s]\u001b[A\n",
      "                                                                                          \u001b[A\n",
      "loop param_grid:   0%|                                              | 0/3 [00:00<?, ?it/s]\u001b[A\n",
      "loop lags_grid: 100%|███████████████████████████████████████| 2/2 [00:00<00:00, 57.34it/s]\u001b[A"
     ]
    },
    {
     "name": "stdout",
     "output_type": "stream",
     "text": [
      "`Forecaster` refitted using the best-found lags and parameters, and the whole data set: \n",
      "  Lags: [1 2] \n",
      "  Parameters: {'alpha': 0.01}\n",
      "  Backtesting metric: 0.06464646415433532\n",
      "\n"
     ]
    },
    {
     "name": "stderr",
     "output_type": "stream",
     "text": [
      "\n"
     ]
    }
   ],
   "source": [
    "forecaster = ForecasterAutoreg(\n",
    "                    regressor = Ridge(random_state=123),\n",
    "                    lags      = 2 # Placeholder, the value will be overwritten\n",
    "                 )\n",
    "\n",
    "steps = 3\n",
    "n_validation = 12\n",
    "y_train = y[:-n_validation]\n",
    "lags_grid = [2, 4]\n",
    "param_grid = [{'alpha': 0.01}, {'alpha': 0.1}, {'alpha': 1}]\n",
    "\n",
    "r = _evaluate_grid_hyperparameters(\n",
    "        forecaster  = forecaster,\n",
    "        y           = y,\n",
    "        lags_grid   = lags_grid,\n",
    "        param_grid  = param_grid,\n",
    "        steps       = steps,\n",
    "        refit       = False,\n",
    "        metric      = 'mean_squared_error',\n",
    "        initial_train_size = len(y_train),\n",
    "        fixed_train_size   = False,\n",
    "        return_best = True,\n",
    "        verbose     = False\n",
    ")\n",
    "\n",
    "expected_lags = np.array([1, 2])\n",
    "expected_alpha = 0.01\n",
    "\n",
    "assert (expected_lags == forecaster.lags).all()\n",
    "assert expected_alpha == forecaster.regressor.alpha"
   ]
  },
  {
   "cell_type": "code",
   "execution_count": 32,
   "metadata": {
    "ExecuteTime": {
     "end_time": "2022-07-29T16:03:39.222742Z",
     "start_time": "2022-07-29T16:03:39.141466Z"
    }
   },
   "outputs": [
    {
     "data": {
      "text/html": [
       "<div>\n",
       "<style scoped>\n",
       "    .dataframe tbody tr th:only-of-type {\n",
       "        vertical-align: middle;\n",
       "    }\n",
       "\n",
       "    .dataframe tbody tr th {\n",
       "        vertical-align: top;\n",
       "    }\n",
       "\n",
       "    .dataframe thead th {\n",
       "        text-align: right;\n",
       "    }\n",
       "</style>\n",
       "<table border=\"1\" class=\"dataframe\">\n",
       "  <thead>\n",
       "    <tr style=\"text-align: right;\">\n",
       "      <th></th>\n",
       "      <th>lags</th>\n",
       "      <th>params</th>\n",
       "      <th>metric</th>\n",
       "      <th>alpha</th>\n",
       "    </tr>\n",
       "  </thead>\n",
       "  <tbody>\n",
       "    <tr>\n",
       "      <th>0</th>\n",
       "      <td>[1, 2]</td>\n",
       "      <td>{'alpha': 0.01}</td>\n",
       "      <td>0.064646</td>\n",
       "      <td>0.01</td>\n",
       "    </tr>\n",
       "    <tr>\n",
       "      <th>1</th>\n",
       "      <td>[1, 2]</td>\n",
       "      <td>{'alpha': 0.1}</td>\n",
       "      <td>0.065024</td>\n",
       "      <td>0.10</td>\n",
       "    </tr>\n",
       "    <tr>\n",
       "      <th>2</th>\n",
       "      <td>[1, 2]</td>\n",
       "      <td>{'alpha': 1}</td>\n",
       "      <td>0.067455</td>\n",
       "      <td>1.00</td>\n",
       "    </tr>\n",
       "    <tr>\n",
       "      <th>3</th>\n",
       "      <td>[1, 2, 3, 4]</td>\n",
       "      <td>{'alpha': 0.01}</td>\n",
       "      <td>0.067793</td>\n",
       "      <td>0.01</td>\n",
       "    </tr>\n",
       "    <tr>\n",
       "      <th>4</th>\n",
       "      <td>[1, 2, 3, 4]</td>\n",
       "      <td>{'alpha': 0.1}</td>\n",
       "      <td>0.068025</td>\n",
       "      <td>0.10</td>\n",
       "    </tr>\n",
       "    <tr>\n",
       "      <th>5</th>\n",
       "      <td>[1, 2, 3, 4]</td>\n",
       "      <td>{'alpha': 1}</td>\n",
       "      <td>0.069486</td>\n",
       "      <td>1.00</td>\n",
       "    </tr>\n",
       "  </tbody>\n",
       "</table>\n",
       "</div>"
      ],
      "text/plain": [
       "           lags           params    metric  alpha\n",
       "0        [1, 2]  {'alpha': 0.01}  0.064646   0.01\n",
       "1        [1, 2]   {'alpha': 0.1}  0.065024   0.10\n",
       "2        [1, 2]     {'alpha': 1}  0.067455   1.00\n",
       "3  [1, 2, 3, 4]  {'alpha': 0.01}  0.067793   0.01\n",
       "4  [1, 2, 3, 4]   {'alpha': 0.1}  0.068025   0.10\n",
       "5  [1, 2, 3, 4]     {'alpha': 1}  0.069486   1.00"
      ]
     },
     "execution_count": 32,
     "metadata": {},
     "output_type": "execute_result"
    }
   ],
   "source": [
    "r"
   ]
  },
  {
   "cell_type": "code",
   "execution_count": 38,
   "metadata": {
    "ExecuteTime": {
     "end_time": "2022-07-29T16:25:32.220095Z",
     "start_time": "2022-07-29T16:25:32.053352Z"
    }
   },
   "outputs": [],
   "source": [
    "import pytest\n",
    "import numpy as np\n",
    "import pandas as pd\n",
    "from sklearn.linear_model import Ridge\n",
    "from skforecast.ForecasterAutoregMultiSeries import ForecasterAutoregMultiSeries\n",
    "from skforecast.model_selection_multiseries.model_selection_multiseries import _evaluate_grid_hyperparameters_multiseries\n",
    "\n",
    "from tqdm import tqdm\n",
    "from functools import partialmethod\n",
    "tqdm.__init__ = partialmethod(tqdm.__init__, disable=True) # hide progress bar\n",
    "\n",
    "# Fixtures\n",
    "# np.random.seed(123)\n",
    "# series_1 = np.random.rand(50)\n",
    "# series_2 = np.random.rand(50)\n",
    "series = pd.DataFrame({'1': pd.Series(np.array(\n",
    "                                [0.69646919, 0.28613933, 0.22685145, 0.55131477, 0.71946897,\n",
    "                                 0.42310646, 0.9807642 , 0.68482974, 0.4809319 , 0.39211752,\n",
    "                                 0.34317802, 0.72904971, 0.43857224, 0.0596779 , 0.39804426,\n",
    "                                 0.73799541, 0.18249173, 0.17545176, 0.53155137, 0.53182759,\n",
    "                                 0.63440096, 0.84943179, 0.72445532, 0.61102351, 0.72244338,\n",
    "                                 0.32295891, 0.36178866, 0.22826323, 0.29371405, 0.63097612,\n",
    "                                 0.09210494, 0.43370117, 0.43086276, 0.4936851 , 0.42583029,\n",
    "                                 0.31226122, 0.42635131, 0.89338916, 0.94416002, 0.50183668,\n",
    "                                 0.62395295, 0.1156184 , 0.31728548, 0.41482621, 0.86630916,\n",
    "                                 0.25045537, 0.48303426, 0.98555979, 0.51948512, 0.61289453]\n",
    "                                      )\n",
    "                            ), \n",
    "                       '2': pd.Series(np.array(\n",
    "                                [0.12062867, 0.8263408 , 0.60306013, 0.54506801, 0.34276383,\n",
    "                                 0.30412079, 0.41702221, 0.68130077, 0.87545684, 0.51042234,\n",
    "                                 0.66931378, 0.58593655, 0.6249035 , 0.67468905, 0.84234244,\n",
    "                                 0.08319499, 0.76368284, 0.24366637, 0.19422296, 0.57245696,\n",
    "                                 0.09571252, 0.88532683, 0.62724897, 0.72341636, 0.01612921,\n",
    "                                 0.59443188, 0.55678519, 0.15895964, 0.15307052, 0.69552953,\n",
    "                                 0.31876643, 0.6919703 , 0.55438325, 0.38895057, 0.92513249,\n",
    "                                 0.84167   , 0.35739757, 0.04359146, 0.30476807, 0.39818568,\n",
    "                                 0.70495883, 0.99535848, 0.35591487, 0.76254781, 0.59317692,\n",
    "                                 0.6917018 , 0.15112745, 0.39887629, 0.2408559 , 0.34345601]\n",
    "                                      )\n",
    "                            )\n",
    "                      }\n",
    "         )"
   ]
  },
  {
   "cell_type": "code",
   "execution_count": 41,
   "metadata": {
    "ExecuteTime": {
     "end_time": "2022-07-29T16:25:58.966455Z",
     "start_time": "2022-07-29T16:25:58.780635Z"
    }
   },
   "outputs": [
    {
     "name": "stdout",
     "output_type": "stream",
     "text": [
      "6 models compared for 1 level(s). Number of iterations: 6.\n"
     ]
    },
    {
     "ename": "TypeError",
     "evalue": "can't multiply sequence by non-int of type 'float'",
     "output_type": "error",
     "traceback": [
      "\u001b[1;31m---------------------------------------------------------------------------\u001b[0m",
      "\u001b[1;31mTypeError\u001b[0m                                 Traceback (most recent call last)",
      "Input \u001b[1;32mIn [41]\u001b[0m, in \u001b[0;36m<cell line: 7>\u001b[1;34m()\u001b[0m\n\u001b[0;32m      1\u001b[0m forecaster \u001b[38;5;241m=\u001b[39m ForecasterAutoregMultiSeries(\n\u001b[0;32m      2\u001b[0m                     regressor \u001b[38;5;241m=\u001b[39m Ridge(random_state\u001b[38;5;241m=\u001b[39m\u001b[38;5;241m123\u001b[39m),\n\u001b[0;32m      3\u001b[0m                     lags      \u001b[38;5;241m=\u001b[39m \u001b[38;5;241m3\u001b[39m\n\u001b[0;32m      4\u001b[0m                  )\n\u001b[0;32m      6\u001b[0m levels_list \u001b[38;5;241m=\u001b[39m \u001b[38;5;124m'\u001b[39m\u001b[38;5;124m1\u001b[39m\u001b[38;5;124m'\u001b[39m\n\u001b[1;32m----> 7\u001b[0m r \u001b[38;5;241m=\u001b[39m\u001b[43m_evaluate_grid_hyperparameters_multiseries\u001b[49m\u001b[43m(\u001b[49m\n\u001b[0;32m      8\u001b[0m \u001b[43m    \u001b[49m\u001b[43mforecaster\u001b[49m\u001b[43m          \u001b[49m\u001b[38;5;241;43m=\u001b[39;49m\u001b[43m \u001b[49m\u001b[43mforecaster\u001b[49m\u001b[43m,\u001b[49m\n\u001b[0;32m      9\u001b[0m \u001b[43m    \u001b[49m\u001b[43mseries\u001b[49m\u001b[43m              \u001b[49m\u001b[38;5;241;43m=\u001b[39;49m\u001b[43m \u001b[49m\u001b[43mseries\u001b[49m\u001b[43m,\u001b[49m\n\u001b[0;32m     10\u001b[0m \u001b[43m    \u001b[49m\u001b[43mparam_grid\u001b[49m\u001b[43m          \u001b[49m\u001b[38;5;241;43m=\u001b[39;49m\u001b[43m \u001b[49m\u001b[43m[\u001b[49m\u001b[43m{\u001b[49m\u001b[38;5;124;43m'\u001b[39;49m\u001b[38;5;124;43malpha\u001b[39;49m\u001b[38;5;124;43m'\u001b[39;49m\u001b[43m:\u001b[49m\u001b[43m \u001b[49m\u001b[38;5;241;43m0.01\u001b[39;49m\u001b[43m}\u001b[49m\u001b[43m,\u001b[49m\u001b[43m \u001b[49m\u001b[43m{\u001b[49m\u001b[38;5;124;43m'\u001b[39;49m\u001b[38;5;124;43malpha\u001b[39;49m\u001b[38;5;124;43m'\u001b[39;49m\u001b[43m:\u001b[49m\u001b[43m \u001b[49m\u001b[38;5;241;43m0.1\u001b[39;49m\u001b[43m}\u001b[49m\u001b[43m,\u001b[49m\u001b[43m \u001b[49m\u001b[43m{\u001b[49m\u001b[38;5;124;43m'\u001b[39;49m\u001b[38;5;124;43malpha\u001b[39;49m\u001b[38;5;124;43m'\u001b[39;49m\u001b[43m:\u001b[49m\u001b[43m \u001b[49m\u001b[38;5;241;43m1\u001b[39;49m\u001b[43m}\u001b[49m\u001b[43m]\u001b[49m\u001b[43m,\u001b[49m\n\u001b[0;32m     11\u001b[0m \u001b[43m    \u001b[49m\u001b[43msteps\u001b[49m\u001b[43m               \u001b[49m\u001b[38;5;241;43m=\u001b[39;49m\u001b[43m \u001b[49m\u001b[38;5;241;43m4\u001b[39;49m\u001b[43m,\u001b[49m\n\u001b[0;32m     12\u001b[0m \u001b[43m    \u001b[49m\u001b[43mmetric\u001b[49m\u001b[43m              \u001b[49m\u001b[38;5;241;43m=\u001b[39;49m\u001b[43m \u001b[49m\u001b[43m[\u001b[49m\u001b[38;5;124;43m'\u001b[39;49m\u001b[38;5;124;43mmean_absolute_error\u001b[39;49m\u001b[38;5;124;43m'\u001b[39;49m\u001b[43m,\u001b[49m\u001b[43m \u001b[49m\u001b[43mmean_absolute_error\u001b[49m\u001b[43m]\u001b[49m\u001b[43m,\u001b[49m\n\u001b[0;32m     13\u001b[0m \u001b[43m    \u001b[49m\u001b[43minitial_train_size\u001b[49m\u001b[43m  \u001b[49m\u001b[38;5;241;43m=\u001b[39;49m\u001b[43m \u001b[49m\u001b[38;5;241;43m12\u001b[39;49m\u001b[43m,\u001b[49m\n\u001b[0;32m     14\u001b[0m \u001b[43m    \u001b[49m\u001b[43mfixed_train_size\u001b[49m\u001b[43m    \u001b[49m\u001b[38;5;241;43m=\u001b[39;49m\u001b[43m \u001b[49m\u001b[38;5;28;43;01mFalse\u001b[39;49;00m\u001b[43m,\u001b[49m\n\u001b[0;32m     15\u001b[0m \u001b[43m    \u001b[49m\u001b[43mlevels_list\u001b[49m\u001b[43m         \u001b[49m\u001b[38;5;241;43m=\u001b[39;49m\u001b[43m \u001b[49m\u001b[43mlevels_list\u001b[49m\u001b[43m,\u001b[49m\n\u001b[0;32m     16\u001b[0m \u001b[43m    \u001b[49m\u001b[43mlevels_weights\u001b[49m\u001b[43m      \u001b[49m\u001b[38;5;241;43m=\u001b[39;49m\u001b[43m \u001b[49m\u001b[38;5;28;43;01mNone\u001b[39;49;00m\u001b[43m,\u001b[49m\n\u001b[0;32m     17\u001b[0m \u001b[43m    \u001b[49m\u001b[43mexog\u001b[49m\u001b[43m                \u001b[49m\u001b[38;5;241;43m=\u001b[39;49m\u001b[43m \u001b[49m\u001b[38;5;28;43;01mNone\u001b[39;49;00m\u001b[43m,\u001b[49m\n\u001b[0;32m     18\u001b[0m \u001b[43m    \u001b[49m\u001b[43mlags_grid\u001b[49m\u001b[43m           \u001b[49m\u001b[38;5;241;43m=\u001b[39;49m\u001b[43m \u001b[49m\u001b[43m[\u001b[49m\u001b[38;5;241;43m2\u001b[39;49m\u001b[43m,\u001b[49m\u001b[43m \u001b[49m\u001b[38;5;241;43m4\u001b[39;49m\u001b[43m]\u001b[49m\u001b[43m,\u001b[49m\n\u001b[0;32m     19\u001b[0m \u001b[43m    \u001b[49m\u001b[43mrefit\u001b[49m\u001b[43m               \u001b[49m\u001b[38;5;241;43m=\u001b[39;49m\u001b[43m \u001b[49m\u001b[38;5;28;43;01mFalse\u001b[39;49;00m\u001b[43m,\u001b[49m\n\u001b[0;32m     20\u001b[0m \u001b[43m    \u001b[49m\u001b[43mreturn_best\u001b[49m\u001b[43m         \u001b[49m\u001b[38;5;241;43m=\u001b[39;49m\u001b[43m \u001b[49m\u001b[38;5;28;43;01mFalse\u001b[39;49;00m\u001b[43m,\u001b[49m\n\u001b[0;32m     21\u001b[0m \u001b[43m    \u001b[49m\u001b[43mverbose\u001b[49m\u001b[43m             \u001b[49m\u001b[38;5;241;43m=\u001b[39;49m\u001b[43m \u001b[49m\u001b[38;5;28;43;01mFalse\u001b[39;49;00m\n\u001b[0;32m     22\u001b[0m \u001b[43m)\u001b[49m\n",
      "File \u001b[1;32m~\\GitHub\\skforecast\\skforecast\\model_selection_multiseries\\model_selection_multiseries.py:1199\u001b[0m, in \u001b[0;36m_evaluate_grid_hyperparameters_multiseries\u001b[1;34m(forecaster, series, param_grid, steps, metric, initial_train_size, fixed_train_size, levels_list, levels_weights, exog, lags_grid, refit, return_best, verbose)\u001b[0m\n\u001b[0;32m   1183\u001b[0m \u001b[38;5;28;01mfor\u001b[39;00m level \u001b[38;5;129;01min\u001b[39;00m levels_list:\n\u001b[0;32m   1185\u001b[0m     metric_level \u001b[38;5;241m=\u001b[39m backtesting_forecaster_multiseries(\n\u001b[0;32m   1186\u001b[0m                         forecaster         \u001b[38;5;241m=\u001b[39m forecaster,\n\u001b[0;32m   1187\u001b[0m                         series             \u001b[38;5;241m=\u001b[39m series,\n\u001b[1;32m   (...)\u001b[0m\n\u001b[0;32m   1196\u001b[0m                         verbose            \u001b[38;5;241m=\u001b[39m verbose\n\u001b[0;32m   1197\u001b[0m                    )[\u001b[38;5;241m0\u001b[39m]\n\u001b[1;32m-> 1199\u001b[0m     metric_level_list\u001b[38;5;241m.\u001b[39mappend(\u001b[43mmetric_level\u001b[49m\u001b[38;5;241;43m*\u001b[39;49m\u001b[43mlevels_weights\u001b[49m\u001b[43m[\u001b[49m\u001b[43mlevel\u001b[49m\u001b[43m]\u001b[49m)\n\u001b[0;32m   1201\u001b[0m lags_list\u001b[38;5;241m.\u001b[39mappend(lags)\n\u001b[0;32m   1202\u001b[0m params_list\u001b[38;5;241m.\u001b[39mappend(params)\n",
      "\u001b[1;31mTypeError\u001b[0m: can't multiply sequence by non-int of type 'float'"
     ]
    }
   ],
   "source": [
    "forecaster = ForecasterAutoregMultiSeries(\n",
    "                    regressor = Ridge(random_state=123),\n",
    "                    lags      = 3\n",
    "                 )\n",
    "\n",
    "levels_list = '1'\n",
    "r =_evaluate_grid_hyperparameters_multiseries(\n",
    "    forecaster          = forecaster,\n",
    "    series              = series,\n",
    "    param_grid          = [{'alpha': 0.01}, {'alpha': 0.1}, {'alpha': 1}],\n",
    "    steps               = 4,\n",
    "    metric              = ['mean_absolute_error', mean_absolute_error],\n",
    "    initial_train_size  = 12,\n",
    "    fixed_train_size    = False,\n",
    "    levels_list         = levels_list,\n",
    "    levels_weights      = None,\n",
    "    exog                = None,\n",
    "    lags_grid           = [2, 4],\n",
    "    refit               = False,\n",
    "    return_best         = False,\n",
    "    verbose             = False\n",
    ")"
   ]
  },
  {
   "cell_type": "code",
   "execution_count": 40,
   "metadata": {
    "ExecuteTime": {
     "end_time": "2022-07-29T16:25:42.194831Z",
     "start_time": "2022-07-29T16:25:42.124254Z"
    }
   },
   "outputs": [
    {
     "data": {
      "text/html": [
       "<div>\n",
       "<style scoped>\n",
       "    .dataframe tbody tr th:only-of-type {\n",
       "        vertical-align: middle;\n",
       "    }\n",
       "\n",
       "    .dataframe tbody tr th {\n",
       "        vertical-align: top;\n",
       "    }\n",
       "\n",
       "    .dataframe thead th {\n",
       "        text-align: right;\n",
       "    }\n",
       "</style>\n",
       "<table border=\"1\" class=\"dataframe\">\n",
       "  <thead>\n",
       "    <tr style=\"text-align: right;\">\n",
       "      <th></th>\n",
       "      <th>levels</th>\n",
       "      <th>lags</th>\n",
       "      <th>params</th>\n",
       "      <th>metric</th>\n",
       "      <th>alpha</th>\n",
       "    </tr>\n",
       "  </thead>\n",
       "  <tbody>\n",
       "    <tr>\n",
       "      <th>2</th>\n",
       "      <td>[1]</td>\n",
       "      <td>[1, 2]</td>\n",
       "      <td>{'alpha': 1}</td>\n",
       "      <td>0.207948</td>\n",
       "      <td>1.00</td>\n",
       "    </tr>\n",
       "    <tr>\n",
       "      <th>1</th>\n",
       "      <td>[1]</td>\n",
       "      <td>[1, 2]</td>\n",
       "      <td>{'alpha': 0.1}</td>\n",
       "      <td>0.212652</td>\n",
       "      <td>0.10</td>\n",
       "    </tr>\n",
       "    <tr>\n",
       "      <th>0</th>\n",
       "      <td>[1]</td>\n",
       "      <td>[1, 2]</td>\n",
       "      <td>{'alpha': 0.01}</td>\n",
       "      <td>0.213753</td>\n",
       "      <td>0.01</td>\n",
       "    </tr>\n",
       "    <tr>\n",
       "      <th>5</th>\n",
       "      <td>[1]</td>\n",
       "      <td>[1, 2, 3, 4]</td>\n",
       "      <td>{'alpha': 1}</td>\n",
       "      <td>0.225484</td>\n",
       "      <td>1.00</td>\n",
       "    </tr>\n",
       "    <tr>\n",
       "      <th>4</th>\n",
       "      <td>[1]</td>\n",
       "      <td>[1, 2, 3, 4]</td>\n",
       "      <td>{'alpha': 0.1}</td>\n",
       "      <td>0.245119</td>\n",
       "      <td>0.10</td>\n",
       "    </tr>\n",
       "    <tr>\n",
       "      <th>3</th>\n",
       "      <td>[1]</td>\n",
       "      <td>[1, 2, 3, 4]</td>\n",
       "      <td>{'alpha': 0.01}</td>\n",
       "      <td>0.250007</td>\n",
       "      <td>0.01</td>\n",
       "    </tr>\n",
       "  </tbody>\n",
       "</table>\n",
       "</div>"
      ],
      "text/plain": [
       "  levels          lags           params    metric  alpha\n",
       "2    [1]        [1, 2]     {'alpha': 1}  0.207948   1.00\n",
       "1    [1]        [1, 2]   {'alpha': 0.1}  0.212652   0.10\n",
       "0    [1]        [1, 2]  {'alpha': 0.01}  0.213753   0.01\n",
       "5    [1]  [1, 2, 3, 4]     {'alpha': 1}  0.225484   1.00\n",
       "4    [1]  [1, 2, 3, 4]   {'alpha': 0.1}  0.245119   0.10\n",
       "3    [1]  [1, 2, 3, 4]  {'alpha': 0.01}  0.250007   0.01"
      ]
     },
     "execution_count": 40,
     "metadata": {},
     "output_type": "execute_result"
    }
   ],
   "source": [
    "r"
   ]
  },
  {
   "cell_type": "code",
   "execution_count": 42,
   "metadata": {
    "ExecuteTime": {
     "end_time": "2022-07-29T16:42:17.298961Z",
     "start_time": "2022-07-29T16:42:17.210651Z"
    }
   },
   "outputs": [
    {
     "name": "stdout",
     "output_type": "stream",
     "text": [
      "Information of backtesting process\n",
      "----------------------------------\n",
      "Number of observations used for initial training: 5\n",
      "Number of observations used for backtesting: 14\n",
      "    Number of folds: 5\n",
      "    Number of steps per fold: 3\n",
      "    Last fold only includes 2 observations.\n",
      "\n",
      "Data partition in fold: 0\n",
      "    Training:   2022-01-01 00:00:00 -- 2022-01-05 00:00:00  (n=5)\n",
      "    Validation: 2022-01-06 00:00:00 -- 2022-01-08 00:00:00  (n=3)\n",
      "Data partition in fold: 1\n",
      "    Training:   2022-01-01 00:00:00 -- 2022-01-05 00:00:00  (n=5)\n",
      "    Validation: 2022-01-09 00:00:00 -- 2022-01-11 00:00:00  (n=3)\n",
      "Data partition in fold: 2\n",
      "    Training:   2022-01-01 00:00:00 -- 2022-01-05 00:00:00  (n=5)\n",
      "    Validation: 2022-01-12 00:00:00 -- 2022-01-14 00:00:00  (n=3)\n",
      "Data partition in fold: 3\n",
      "    Training:   2022-01-01 00:00:00 -- 2022-01-05 00:00:00  (n=5)\n",
      "    Validation: 2022-01-15 00:00:00 -- 2022-01-17 00:00:00  (n=3)\n",
      "Data partition in fold: 4\n",
      "    Training:   2022-01-01 00:00:00 -- 2022-01-05 00:00:00  (n=5)\n",
      "    Validation: 2022-01-18 00:00:00 -- 2022-01-19 00:00:00  (n=2)\n",
      "\n"
     ]
    },
    {
     "ename": "NameError",
     "evalue": "name 'capfd' is not defined",
     "output_type": "error",
     "traceback": [
      "\u001b[1;31m---------------------------------------------------------------------------\u001b[0m",
      "\u001b[1;31mNameError\u001b[0m                                 Traceback (most recent call last)",
      "Input \u001b[1;32mIn [42]\u001b[0m, in \u001b[0;36m<cell line: 27>\u001b[1;34m()\u001b[0m\n\u001b[0;32m     15\u001b[0m remainder \u001b[38;5;241m=\u001b[39m (\u001b[38;5;28mlen\u001b[39m(index_values) \u001b[38;5;241m-\u001b[39m initial_train_size) \u001b[38;5;241m%\u001b[39m steps\n\u001b[0;32m     17\u001b[0m _backtesting_forecaster_verbose(\n\u001b[0;32m     18\u001b[0m     index_values       \u001b[38;5;241m=\u001b[39m index_values,\n\u001b[0;32m     19\u001b[0m     steps              \u001b[38;5;241m=\u001b[39m steps,\n\u001b[1;32m   (...)\u001b[0m\n\u001b[0;32m     24\u001b[0m     remainder          \u001b[38;5;241m=\u001b[39m remainder\n\u001b[0;32m     25\u001b[0m )\n\u001b[1;32m---> 27\u001b[0m out, _ \u001b[38;5;241m=\u001b[39m \u001b[43mcapfd\u001b[49m\u001b[38;5;241m.\u001b[39mreadouterr()\n",
      "\u001b[1;31mNameError\u001b[0m: name 'capfd' is not defined"
     ]
    }
   ],
   "source": [
    "from skforecast.model_selection.model_selection import _backtesting_forecaster_verbose\n",
    "\n",
    "index_values = pd.DatetimeIndex(['2022-01-01', '2022-01-02', '2022-01-03', '2022-01-04',\n",
    "                                 '2022-01-05', '2022-01-06', '2022-01-07', '2022-01-08',\n",
    "                                 '2022-01-09', '2022-01-10', '2022-01-11', '2022-01-12',\n",
    "                                 '2022-01-13', '2022-01-14', '2022-01-15', '2022-01-16',\n",
    "                                 '2022-01-17', '2022-01-18', '2022-01-19'],\n",
    "                                 dtype='datetime64[ns]', name='date', freq='D')\n",
    "\n",
    "steps = 3\n",
    "refit = False\n",
    "initial_train_size = 5\n",
    "fixed_train_size = False\n",
    "folds = int(np.ceil((len(index_values) - initial_train_size) / steps))\n",
    "remainder = (len(index_values) - initial_train_size) % steps\n",
    "\n",
    "_backtesting_forecaster_verbose(\n",
    "    index_values       = index_values,\n",
    "    steps              = steps,\n",
    "    refit              = refit,\n",
    "    initial_train_size = initial_train_size,\n",
    "    fixed_train_size   = fixed_train_size,\n",
    "    folds              = folds,\n",
    "    remainder          = remainder\n",
    ")\n",
    "\n",
    "out, _ = capfd.readouterr()"
   ]
  },
  {
   "cell_type": "code",
   "execution_count": 50,
   "metadata": {
    "ExecuteTime": {
     "end_time": "2022-07-29T16:56:31.817915Z",
     "start_time": "2022-07-29T16:56:31.737972Z"
    }
   },
   "outputs": [],
   "source": [
    "series = pd.DataFrame({'1': pd.Series(np.array(\n",
    "                                [0.69646919, 0.28613933, 0.22685145, 0.55131477, 0.71946897,\n",
    "                                 0.42310646, 0.9807642 , 0.68482974, 0.4809319 , 0.39211752,\n",
    "                                 0.34317802, 0.72904971, 0.43857224, 0.0596779 , 0.39804426,\n",
    "                                 0.73799541, 0.18249173, 0.17545176, 0.53155137, 0.53182759,\n",
    "                                 0.63440096, 0.84943179, 0.72445532, 0.61102351, 0.72244338,\n",
    "                                 0.32295891, 0.36178866, 0.22826323, 0.29371405, 0.63097612,\n",
    "                                 0.09210494, 0.43370117, 0.43086276, 0.4936851 , 0.42583029,\n",
    "                                 0.31226122, 0.42635131, 0.89338916, 0.94416002, 0.50183668,\n",
    "                                 0.62395295, 0.1156184 , 0.31728548, 0.41482621, 0.86630916,\n",
    "                                 0.25045537, 0.48303426, 0.98555979, 0.51948512, 0.61289453]\n",
    "                                      )\n",
    "                            ), \n",
    "                       '2': pd.Series(np.array(\n",
    "                                [0.12062867, 0.8263408 , 0.60306013, 0.54506801, 0.34276383,\n",
    "                                 0.30412079, 0.41702221, 0.68130077, 0.87545684, 0.51042234,\n",
    "                                 0.66931378, 0.58593655, 0.6249035 , 0.67468905, 0.84234244,\n",
    "                                 0.08319499, 0.76368284, 0.24366637, 0.19422296, 0.57245696,\n",
    "                                 0.09571252, 0.88532683, 0.62724897, 0.72341636, 0.01612921,\n",
    "                                 0.59443188, 0.55678519, 0.15895964, 0.15307052, 0.69552953,\n",
    "                                 0.31876643, 0.6919703 , 0.55438325, 0.38895057, 0.92513249,\n",
    "                                 0.84167   , 0.35739757, 0.04359146, 0.30476807, 0.39818568,\n",
    "                                 0.70495883, 0.99535848, 0.35591487, 0.76254781, 0.59317692,\n",
    "                                 0.6917018 , 0.15112745, 0.39887629, 0.2408559 , 0.34345601]\n",
    "                                      )\n",
    "                            )\n",
    "                      }\n",
    "         )"
   ]
  },
  {
   "cell_type": "code",
   "execution_count": 51,
   "metadata": {
    "ExecuteTime": {
     "end_time": "2022-07-29T16:56:33.037242Z",
     "start_time": "2022-07-29T16:56:32.871596Z"
    }
   },
   "outputs": [
    {
     "name": "stdout",
     "output_type": "stream",
     "text": [
      "6 models compared for 2 level(s). Number of iterations: 12.\n",
      "Level weights for metric evaluation: {'1': 0.5, '2': 0.5}\n",
      "`Forecaster` refitted using the best-found lags and parameters, and the whole data set: \n",
      "  Lags: [1 2 3 4] \n",
      "  Parameters: {'alpha': 0.01}\n",
      "  Backtesting metric: 0.20968100547390045\n",
      "  Levels: ['1', '2'] \n",
      "  Levels weights: {'1': 0.5, '2': 0.5} \n",
      "\n"
     ]
    },
    {
     "name": "stderr",
     "output_type": "stream",
     "text": [
      "C:\\Users\\jaesc2\\AppData\\Local\\Temp\\ipykernel_25240\\643335328.py:32: DeprecationWarning: elementwise comparison failed; this will raise an error in the future.\n",
      "  assert (expected_lags == forecaster.lags).all()\n"
     ]
    },
    {
     "ename": "AttributeError",
     "evalue": "'bool' object has no attribute 'all'",
     "output_type": "error",
     "traceback": [
      "\u001b[1;31m---------------------------------------------------------------------------\u001b[0m",
      "\u001b[1;31mAttributeError\u001b[0m                            Traceback (most recent call last)",
      "Input \u001b[1;32mIn [51]\u001b[0m, in \u001b[0;36m<cell line: 32>\u001b[1;34m()\u001b[0m\n\u001b[0;32m     29\u001b[0m expected_alpha \u001b[38;5;241m=\u001b[39m \u001b[38;5;241m0.01\u001b[39m\n\u001b[0;32m     30\u001b[0m expected_series_levels \u001b[38;5;241m=\u001b[39m [\u001b[38;5;124m'\u001b[39m\u001b[38;5;124m1\u001b[39m\u001b[38;5;124m'\u001b[39m, \u001b[38;5;124m'\u001b[39m\u001b[38;5;124m2\u001b[39m\u001b[38;5;124m'\u001b[39m]\n\u001b[1;32m---> 32\u001b[0m \u001b[38;5;28;01massert\u001b[39;00m \u001b[43m(\u001b[49m\u001b[43mexpected_lags\u001b[49m\u001b[43m \u001b[49m\u001b[38;5;241;43m==\u001b[39;49m\u001b[43m \u001b[49m\u001b[43mforecaster\u001b[49m\u001b[38;5;241;43m.\u001b[39;49m\u001b[43mlags\u001b[49m\u001b[43m)\u001b[49m\u001b[38;5;241;43m.\u001b[39;49m\u001b[43mall\u001b[49m()\n\u001b[0;32m     33\u001b[0m \u001b[38;5;28;01massert\u001b[39;00m expected_alpha \u001b[38;5;241m==\u001b[39m forecaster\u001b[38;5;241m.\u001b[39mregressor\u001b[38;5;241m.\u001b[39malpha\n\u001b[0;32m     34\u001b[0m \u001b[38;5;28;01massert\u001b[39;00m expected_series_levels \u001b[38;5;241m==\u001b[39m  forecaster\u001b[38;5;241m.\u001b[39mseries_levels\n",
      "\u001b[1;31mAttributeError\u001b[0m: 'bool' object has no attribute 'all'"
     ]
    }
   ],
   "source": [
    "forecaster = ForecasterAutoregMultiSeries(\n",
    "                    regressor = Ridge(random_state=123),\n",
    "                    lags      = 2 # Placeholder, the value will be overwritten\n",
    "                 )\n",
    "\n",
    "steps = 3\n",
    "n_validation = 12\n",
    "lags_grid = [2, 4]\n",
    "param_grid = [{'alpha': 0.01}, {'alpha': 0.1}, {'alpha': 1}]\n",
    "\n",
    "_evaluate_grid_hyperparameters_multiseries(\n",
    "    forecaster          = forecaster,\n",
    "    series              = series,\n",
    "    param_grid          = param_grid,\n",
    "    steps               = steps,\n",
    "    metric              = 'mean_absolute_error',\n",
    "    initial_train_size  = len(series) - n_validation,\n",
    "    fixed_train_size    = False,\n",
    "    levels_list         = None,\n",
    "    levels_weights      = None,\n",
    "    exog                = None,\n",
    "    lags_grid           = lags_grid,\n",
    "    refit               = False,\n",
    "    return_best         = True,\n",
    "    verbose             = False\n",
    ")\n",
    "\n",
    "expected_lags = np.array([1, 2])\n",
    "expected_alpha = 0.01\n",
    "expected_series_levels = ['1', '2']\n",
    "\n",
    "assert (expected_lags == forecaster.lags).all()\n",
    "assert expected_alpha == forecaster.regressor.alpha\n",
    "assert expected_series_levels ==  forecaster.series_levels"
   ]
  },
  {
   "cell_type": "code",
   "execution_count": 53,
   "metadata": {
    "ExecuteTime": {
     "end_time": "2022-07-29T16:56:48.331151Z",
     "start_time": "2022-07-29T16:56:48.264437Z"
    }
   },
   "outputs": [
    {
     "data": {
      "text/plain": [
       "array([1, 2, 3, 4])"
      ]
     },
     "execution_count": 53,
     "metadata": {},
     "output_type": "execute_result"
    }
   ],
   "source": [
    "forecaster.lags"
   ]
  },
  {
   "cell_type": "code",
   "execution_count": 49,
   "metadata": {
    "ExecuteTime": {
     "end_time": "2022-07-29T16:53:33.774542Z",
     "start_time": "2022-07-29T16:53:33.695942Z"
    }
   },
   "outputs": [
    {
     "data": {
      "text/plain": [
       "True"
      ]
     },
     "execution_count": 49,
     "metadata": {},
     "output_type": "execute_result"
    }
   ],
   "source": [
    "(np.array([1, 2, 3, 4]) == forecaster.lags).all()"
   ]
  },
  {
   "cell_type": "code",
   "execution_count": 11,
   "metadata": {
    "ExecuteTime": {
     "end_time": "2022-08-01T10:08:42.630419Z",
     "start_time": "2022-08-01T10:08:42.556146Z"
    }
   },
   "outputs": [],
   "source": [
    "import pytest\n",
    "import re\n",
    "import pandas as pd\n",
    "from sklearn.pipeline import Pipeline\n",
    "from sklearn.compose import ColumnTransformer\n",
    "from sklearn.preprocessing import StandardScaler\n",
    "from sklearn.preprocessing import OneHotEncoder\n",
    "from skforecast.utils import transform_series\n",
    "from skforecast.utils import transform_dataframe"
   ]
  },
  {
   "cell_type": "code",
   "execution_count": 4,
   "metadata": {
    "ExecuteTime": {
     "end_time": "2022-08-01T10:01:35.685340Z",
     "start_time": "2022-08-01T10:01:34.973335Z"
    }
   },
   "outputs": [
    {
     "ename": "AttributeError",
     "evalue": "index not found",
     "output_type": "error",
     "traceback": [
      "\u001b[1;31m---------------------------------------------------------------------------\u001b[0m",
      "\u001b[1;31mAttributeError\u001b[0m                            Traceback (most recent call last)",
      "Input \u001b[1;32mIn [4]\u001b[0m, in \u001b[0;36m<cell line: 9>\u001b[1;34m()\u001b[0m\n\u001b[0;32m      6\u001b[0m transformer\u001b[38;5;241m.\u001b[39mfit(df_input)\n\u001b[0;32m      7\u001b[0m df_input_2 \u001b[38;5;241m=\u001b[39m transformer\u001b[38;5;241m.\u001b[39mtransform(df_input)\n\u001b[1;32m----> 9\u001b[0m results \u001b[38;5;241m=\u001b[39m  \u001b[43mtransform_dataframe\u001b[49m\u001b[43m(\u001b[49m\n\u001b[0;32m     10\u001b[0m \u001b[43m                \u001b[49m\u001b[43mdf\u001b[49m\u001b[43m \u001b[49m\u001b[38;5;241;43m=\u001b[39;49m\u001b[43m \u001b[49m\u001b[43mdf_input_2\u001b[49m\u001b[43m,\u001b[49m\n\u001b[0;32m     11\u001b[0m \u001b[43m                \u001b[49m\u001b[43mtransformer\u001b[49m\u001b[43m \u001b[49m\u001b[38;5;241;43m=\u001b[39;49m\u001b[43m \u001b[49m\u001b[43mtransformer\u001b[49m\u001b[43m,\u001b[49m\n\u001b[0;32m     12\u001b[0m \u001b[43m                \u001b[49m\u001b[43mfit\u001b[49m\u001b[43m \u001b[49m\u001b[38;5;241;43m=\u001b[39;49m\u001b[43m \u001b[49m\u001b[38;5;28;43;01mFalse\u001b[39;49;00m\u001b[43m,\u001b[49m\n\u001b[0;32m     13\u001b[0m \u001b[43m                \u001b[49m\u001b[43minverse_transform\u001b[49m\u001b[43m \u001b[49m\u001b[38;5;241;43m=\u001b[39;49m\u001b[43m \u001b[49m\u001b[38;5;28;43;01mTrue\u001b[39;49;00m\n\u001b[0;32m     14\u001b[0m \u001b[43m           \u001b[49m\u001b[43m)\u001b[49m\n",
      "File \u001b[1;32m~\\GitHub\\skforecast\\skforecast\\utils\\utils.py:681\u001b[0m, in \u001b[0;36mtransform_dataframe\u001b[1;34m(df, transformer, fit, inverse_transform)\u001b[0m\n\u001b[0;32m    676\u001b[0m \u001b[38;5;28;01melse\u001b[39;00m:\n\u001b[0;32m    677\u001b[0m     feature_names_out \u001b[38;5;241m=\u001b[39m df\u001b[38;5;241m.\u001b[39mcolumns\n\u001b[0;32m    679\u001b[0m df_transformed \u001b[38;5;241m=\u001b[39m pd\u001b[38;5;241m.\u001b[39mDataFrame(\n\u001b[0;32m    680\u001b[0m                     data \u001b[38;5;241m=\u001b[39m values_transformed,\n\u001b[1;32m--> 681\u001b[0m                     index \u001b[38;5;241m=\u001b[39m \u001b[43mdf\u001b[49m\u001b[38;5;241;43m.\u001b[39;49m\u001b[43mindex\u001b[49m,\n\u001b[0;32m    682\u001b[0m                     columns \u001b[38;5;241m=\u001b[39m feature_names_out\n\u001b[0;32m    683\u001b[0m                   )\n\u001b[0;32m    685\u001b[0m \u001b[38;5;28;01mreturn\u001b[39;00m df_transformed\n",
      "File \u001b[1;32m~\\Miniconda3\\envs\\food_digital\\lib\\site-packages\\scipy\\sparse\\_base.py:764\u001b[0m, in \u001b[0;36mspmatrix.__getattr__\u001b[1;34m(self, attr)\u001b[0m\n\u001b[0;32m    762\u001b[0m     \u001b[38;5;28;01mreturn\u001b[39;00m \u001b[38;5;28mself\u001b[39m\u001b[38;5;241m.\u001b[39mgetnnz()\n\u001b[0;32m    763\u001b[0m \u001b[38;5;28;01melse\u001b[39;00m:\n\u001b[1;32m--> 764\u001b[0m     \u001b[38;5;28;01mraise\u001b[39;00m \u001b[38;5;167;01mAttributeError\u001b[39;00m(attr \u001b[38;5;241m+\u001b[39m \u001b[38;5;124m\"\u001b[39m\u001b[38;5;124m not found\u001b[39m\u001b[38;5;124m\"\u001b[39m)\n",
      "\u001b[1;31mAttributeError\u001b[0m: index not found"
     ]
    }
   ],
   "source": [
    "df_input = pd.DataFrame({\n",
    "                'col_1': ['a', 'a', 'a', 'a', 'b', 'b', 'b', 'b'],\n",
    "                'col_2': ['a', 'a', 'a', 'a', 'b', 'b', 'b', 'b']\n",
    "            })\n",
    "transformer = OneHotEncoder()\n",
    "transformer.fit(df_input)\n",
    "df_input_2 = transformer.transform(df_input)\n",
    "\n",
    "results =  transform_dataframe(\n",
    "                df = df_input_2,\n",
    "                transformer = transformer,\n",
    "                fit = False,\n",
    "                inverse_transform = True\n",
    "           )"
   ]
  },
  {
   "cell_type": "code",
   "execution_count": 12,
   "metadata": {
    "ExecuteTime": {
     "end_time": "2022-08-01T10:08:56.379830Z",
     "start_time": "2022-08-01T10:08:56.293121Z"
    }
   },
   "outputs": [
    {
     "ename": "AttributeError",
     "evalue": "flatten not found",
     "output_type": "error",
     "traceback": [
      "\u001b[1;31m---------------------------------------------------------------------------\u001b[0m",
      "\u001b[1;31mAttributeError\u001b[0m                            Traceback (most recent call last)",
      "Input \u001b[1;32mIn [12]\u001b[0m, in \u001b[0;36m<cell line: 8>\u001b[1;34m()\u001b[0m\n\u001b[0;32m      3\u001b[0m transformer \u001b[38;5;241m=\u001b[39m OneHotEncoder()\n\u001b[0;32m      4\u001b[0m \u001b[38;5;66;03m# transformer.fit(df_input)\u001b[39;00m\n\u001b[0;32m      5\u001b[0m \n\u001b[0;32m      6\u001b[0m \u001b[38;5;66;03m# df_input_2 = transformer.transform(df_input)\u001b[39;00m\n\u001b[1;32m----> 8\u001b[0m results \u001b[38;5;241m=\u001b[39m  \u001b[43mtransform_series\u001b[49m\u001b[43m(\u001b[49m\n\u001b[0;32m      9\u001b[0m \u001b[43m                \u001b[49m\u001b[43mseries\u001b[49m\u001b[43m \u001b[49m\u001b[38;5;241;43m=\u001b[39;49m\u001b[43m \u001b[49m\u001b[43mdf_input\u001b[49m\u001b[43m,\u001b[49m\n\u001b[0;32m     10\u001b[0m \u001b[43m                \u001b[49m\u001b[43mtransformer\u001b[49m\u001b[43m \u001b[49m\u001b[38;5;241;43m=\u001b[39;49m\u001b[43m \u001b[49m\u001b[43mtransformer\u001b[49m\u001b[43m,\u001b[49m\n\u001b[0;32m     11\u001b[0m \u001b[43m                \u001b[49m\u001b[43mfit\u001b[49m\u001b[43m \u001b[49m\u001b[38;5;241;43m=\u001b[39;49m\u001b[43m \u001b[49m\u001b[38;5;28;43;01mTrue\u001b[39;49;00m\u001b[43m,\u001b[49m\n\u001b[0;32m     12\u001b[0m \u001b[43m                \u001b[49m\u001b[43minverse_transform\u001b[49m\u001b[43m \u001b[49m\u001b[38;5;241;43m=\u001b[39;49m\u001b[43m \u001b[49m\u001b[38;5;28;43;01mFalse\u001b[39;49;00m\n\u001b[0;32m     13\u001b[0m \u001b[43m           \u001b[49m\u001b[43m)\u001b[49m\n",
      "File \u001b[1;32m~\\GitHub\\skforecast\\skforecast\\utils\\utils.py:611\u001b[0m, in \u001b[0;36mtransform_series\u001b[1;34m(series, transformer, fit, inverse_transform)\u001b[0m\n\u001b[0;32m    607\u001b[0m \u001b[38;5;28;01melse\u001b[39;00m:\n\u001b[0;32m    608\u001b[0m     values_transformed \u001b[38;5;241m=\u001b[39m transformer\u001b[38;5;241m.\u001b[39minverse_transform(series)\n\u001b[0;32m    610\u001b[0m series_transformed \u001b[38;5;241m=\u001b[39m pd\u001b[38;5;241m.\u001b[39mSeries(\n\u001b[1;32m--> 611\u001b[0m                         data  \u001b[38;5;241m=\u001b[39m \u001b[43mvalues_transformed\u001b[49m\u001b[38;5;241;43m.\u001b[39;49m\u001b[43mflatten\u001b[49m(),\n\u001b[0;32m    612\u001b[0m                         index \u001b[38;5;241m=\u001b[39m series\u001b[38;5;241m.\u001b[39mindex,\n\u001b[0;32m    613\u001b[0m                         name  \u001b[38;5;241m=\u001b[39m series\u001b[38;5;241m.\u001b[39mcolumns[\u001b[38;5;241m0\u001b[39m]\n\u001b[0;32m    614\u001b[0m                       )\n\u001b[0;32m    616\u001b[0m \u001b[38;5;28;01mreturn\u001b[39;00m series_transformed\n",
      "File \u001b[1;32m~\\Miniconda3\\envs\\food_digital\\lib\\site-packages\\scipy\\sparse\\_base.py:764\u001b[0m, in \u001b[0;36mspmatrix.__getattr__\u001b[1;34m(self, attr)\u001b[0m\n\u001b[0;32m    762\u001b[0m     \u001b[38;5;28;01mreturn\u001b[39;00m \u001b[38;5;28mself\u001b[39m\u001b[38;5;241m.\u001b[39mgetnnz()\n\u001b[0;32m    763\u001b[0m \u001b[38;5;28;01melse\u001b[39;00m:\n\u001b[1;32m--> 764\u001b[0m     \u001b[38;5;28;01mraise\u001b[39;00m \u001b[38;5;167;01mAttributeError\u001b[39;00m(attr \u001b[38;5;241m+\u001b[39m \u001b[38;5;124m\"\u001b[39m\u001b[38;5;124m not found\u001b[39m\u001b[38;5;124m\"\u001b[39m)\n",
      "\u001b[1;31mAttributeError\u001b[0m: flatten not found"
     ]
    }
   ],
   "source": [
    "df_input = pd.Series(['a', 'a', 'a', 'a', 'b', 'b', 'b', 'b'], name= 'col_1')\n",
    "\n",
    "transformer = OneHotEncoder()\n",
    "# transformer.fit(df_input)\n",
    "\n",
    "# df_input_2 = transformer.transform(df_input)\n",
    "\n",
    "results =  transform_series(\n",
    "                series = df_input,\n",
    "                transformer = transformer,\n",
    "                fit = True,\n",
    "                inverse_transform = False\n",
    "           )"
   ]
  },
  {
   "cell_type": "code",
   "execution_count": 5,
   "metadata": {
    "ExecuteTime": {
     "end_time": "2022-08-01T10:02:25.065495Z",
     "start_time": "2022-08-01T10:02:24.982771Z"
    }
   },
   "outputs": [
    {
     "data": {
      "text/plain": [
       "array([['a', 'a'],\n",
       "       ['a', 'a'],\n",
       "       ['a', 'a'],\n",
       "       ['a', 'a'],\n",
       "       ['b', 'b'],\n",
       "       ['b', 'b'],\n",
       "       ['b', 'b'],\n",
       "       ['b', 'b']], dtype=object)"
      ]
     },
     "execution_count": 5,
     "metadata": {},
     "output_type": "execute_result"
    }
   ],
   "source": [
    "transformer.inverse_transform(df_input_2)"
   ]
  },
  {
   "cell_type": "code",
   "execution_count": 10,
   "metadata": {
    "ExecuteTime": {
     "end_time": "2022-08-01T10:05:54.980858Z",
     "start_time": "2022-08-01T10:05:54.917638Z"
    }
   },
   "outputs": [
    {
     "data": {
      "text/plain": [
       "array(['col_1_a', 'col_1_b', 'col_2_a', 'col_2_b'], dtype=object)"
      ]
     },
     "execution_count": 10,
     "metadata": {},
     "output_type": "execute_result"
    }
   ],
   "source": [
    "transformer.get_feature_names_out()"
   ]
  },
  {
   "cell_type": "code",
   "execution_count": 7,
   "metadata": {
    "ExecuteTime": {
     "end_time": "2022-08-01T10:03:03.735129Z",
     "start_time": "2022-08-01T10:03:03.677775Z"
    }
   },
   "outputs": [
    {
     "data": {
      "text/plain": [
       "array(['col_1_a', 'col_1_b', 'col_2_a', 'col_2_b'], dtype=object)"
      ]
     },
     "execution_count": 7,
     "metadata": {},
     "output_type": "execute_result"
    }
   ],
   "source": [
    "transformer.get_feature_names_out()"
   ]
  },
  {
   "cell_type": "code",
   "execution_count": 9,
   "metadata": {
    "ExecuteTime": {
     "end_time": "2022-08-01T10:03:24.799783Z",
     "start_time": "2022-08-01T10:03:24.732006Z"
    }
   },
   "outputs": [
    {
     "data": {
      "text/plain": [
       "array(['col_1', 'col_2'], dtype=object)"
      ]
     },
     "execution_count": 9,
     "metadata": {},
     "output_type": "execute_result"
    }
   ],
   "source": [
    "transformer.feature_names_in_"
   ]
  },
  {
   "cell_type": "code",
   "execution_count": null,
   "metadata": {},
   "outputs": [],
   "source": []
  }
 ],
 "metadata": {
  "kernelspec": {
   "display_name": "food_digital",
   "language": "python",
   "name": "food_digital"
  },
  "language_info": {
   "codemirror_mode": {
    "name": "ipython",
    "version": 3
   },
   "file_extension": ".py",
   "mimetype": "text/x-python",
   "name": "python",
   "nbconvert_exporter": "python",
   "pygments_lexer": "ipython3",
   "version": "3.8.13"
  },
  "toc": {
   "base_numbering": 1,
   "nav_menu": {},
   "number_sections": false,
   "sideBar": true,
   "skip_h1_title": true,
   "title_cell": "Tabla de contenidos",
   "title_sidebar": "Tabla de contenidos",
   "toc_cell": false,
   "toc_position": {
    "height": "calc(100% - 180px)",
    "left": "10px",
    "top": "150px",
    "width": "165px"
   },
   "toc_section_display": true,
   "toc_window_display": false
  },
  "varInspector": {
   "cols": {
    "lenName": 16,
    "lenType": 16,
    "lenVar": 40
   },
   "kernels_config": {
    "python": {
     "delete_cmd_postfix": "",
     "delete_cmd_prefix": "del ",
     "library": "var_list.py",
     "varRefreshCmd": "print(var_dic_list())"
    },
    "r": {
     "delete_cmd_postfix": ") ",
     "delete_cmd_prefix": "rm(",
     "library": "var_list.r",
     "varRefreshCmd": "cat(var_dic_list()) "
    }
   },
   "position": {
    "height": "144.391px",
    "left": "1478px",
    "right": "20px",
    "top": "126px",
    "width": "350px"
   },
   "types_to_exclude": [
    "module",
    "function",
    "builtin_function_or_method",
    "instance",
    "_Feature"
   ],
   "window_display": false
  },
  "vscode": {
   "interpreter": {
    "hash": "6ea9a7bd5acac7ef50d998c0248a4db17b38ee2b9d85779465a12782ddc26457"
   }
  }
 },
 "nbformat": 4,
 "nbformat_minor": 4
}
