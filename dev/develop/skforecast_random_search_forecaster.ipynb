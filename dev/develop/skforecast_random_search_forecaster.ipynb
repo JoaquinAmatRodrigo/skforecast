{
 "cells": [
  {
   "cell_type": "code",
   "execution_count": 1,
   "id": "df7c8824",
   "metadata": {
    "ExecuteTime": {
     "end_time": "2022-04-14T15:24:21.287123Z",
     "start_time": "2022-04-14T15:24:21.265791Z"
    }
   },
   "outputs": [],
   "source": [
    "%load_ext autoreload\n",
    "%autoreload 2\n",
    "import sys\n",
    "from pathlib import Path\n",
    "sys.path.insert(1, str(Path.cwd().parent.parent))\n",
    "%config Completer.use_jedi = False"
   ]
  },
  {
   "cell_type": "markdown",
   "id": "b6f9a85a",
   "metadata": {},
   "source": [
    "## Librerias"
   ]
  },
  {
   "cell_type": "code",
   "execution_count": 2,
   "id": "58184bff",
   "metadata": {
    "ExecuteTime": {
     "end_time": "2022-04-14T15:24:23.165175Z",
     "start_time": "2022-04-14T15:24:22.494521Z"
    }
   },
   "outputs": [],
   "source": [
    "# random search forecaster\n",
    "# ==============================================================================\n",
    "import numpy as np\n",
    "import pandas as pd\n",
    "\n",
    "from sklearn.metrics import mean_squared_error\n",
    "from sklearn.ensemble import RandomForestRegressor\n",
    "\n",
    "from skforecast.model_selection.model_selection import random_search_forecaster\n",
    "from skforecast.ForecasterAutoreg import ForecasterAutoreg\n",
    "from skforecast.ForecasterAutoregCustom import ForecasterAutoregCustom"
   ]
  },
  {
   "cell_type": "code",
   "execution_count": 17,
   "id": "abf0dc2c",
   "metadata": {
    "ExecuteTime": {
     "end_time": "2022-04-14T09:39:15.051038Z",
     "start_time": "2022-04-14T09:39:15.028518Z"
    }
   },
   "outputs": [
    {
     "name": "stdout",
     "output_type": "stream",
     "text": [
      "[{'a': 1, 'b': 0.8985603929935616}, {'a': 1, 'b': 0.9232231458040688}, {'a': 2, 'b': 1.8789640641973517}, {'a': 2, 'b': 1.0381592949436094}]\n"
     ]
    },
    {
     "data": {
      "text/plain": [
       "True"
      ]
     },
     "execution_count": 17,
     "metadata": {},
     "output_type": "execute_result"
    }
   ],
   "source": [
    "from sklearn.model_selection import ParameterSampler\n",
    "from scipy.stats.distributions import expon\n",
    "\n",
    "rng = np.random.RandomState(0)\n",
    "param_grid = {'a':[1, 2], 'b': expon()}\n",
    "# param_grid = {'a':[1, 2], 'b': [3, 4]}\n",
    "param_list = list(ParameterSampler(param_grid, n_iter=4,\n",
    "                                 random_state=rng))\n",
    "\n",
    "print(param_list)\n",
    "\n",
    "rounded_list = [dict((k, round(v, 6)) for (k, v) in d.items())\n",
    "                for d in param_list]\n",
    "\n",
    "\n",
    "rounded_list == [{'b': 0.89856, 'a': 1},\n",
    "                 {'b': 0.923223, 'a': 1},\n",
    "                 {'b': 1.878964, 'a': 2},\n",
    "                 {'b': 1.038159, 'a': 2}]"
   ]
  },
  {
   "cell_type": "code",
   "execution_count": 15,
   "id": "e5a3a5a5",
   "metadata": {
    "ExecuteTime": {
     "end_time": "2022-04-14T09:34:09.068598Z",
     "start_time": "2022-04-14T09:34:09.047253Z"
    }
   },
   "outputs": [
    {
     "name": "stdout",
     "output_type": "stream",
     "text": [
      "[{'b': 3, 'a': 1}, {'b': 4, 'a': 1}, {'b': 3, 'a': 2}, {'b': 4, 'a': 2}]\n",
      "dict_keys(['b', 'a'])\n",
      "\n",
      "{'b': [3, 4], 'a': [1, 2]}\n"
     ]
    }
   ],
   "source": [
    "from sklearn.model_selection import ParameterSampler\n",
    "from scipy.stats.distributions import expon\n",
    "\n",
    "rng = np.random.RandomState(0)\n",
    "param_grid = {'a':[1, 2], 'b': expon()}\n",
    "param_grid = {'a':[1, 2], 'b': [3, 4]}\n",
    "param_list = ParameterSampler(param_grid, n_iter=4,\n",
    "                                 random_state=rng)\n",
    "\n",
    "param_list = list(param_list)\n",
    "print(param_list)\n",
    "\n",
    "keys = param_list[0].keys()\n",
    "print(keys)\n",
    "\n",
    "{'b': [3,4]}\n",
    "\n",
    "dic_final = {}\n",
    "\n",
    "for key in keys:\n",
    "    values = []\n",
    "    for dic in param_list:\n",
    "        values.append(dic[key])\n",
    "        \n",
    "    dic_final[key] = list(set(values))\n",
    "\n",
    "print(\"\")\n",
    "print(dic_final)\n",
    "\n",
    "\n",
    "\n",
    "# b = set(val for dic in a for val in dic.values())\n",
    "# b"
   ]
  },
  {
   "cell_type": "code",
   "execution_count": 16,
   "id": "80da3afd",
   "metadata": {
    "ExecuteTime": {
     "end_time": "2022-04-14T09:37:50.287477Z",
     "start_time": "2022-04-14T09:37:50.257641Z"
    }
   },
   "outputs": [
    {
     "name": "stdout",
     "output_type": "stream",
     "text": [
      "\n",
      "{'a': [1, 2], 'b': [0.8985603929935616, 0.9232231458040688, 1.0381592949436094, 1.8789640641973517]}\n"
     ]
    }
   ],
   "source": [
    "from sklearn.model_selection import ParameterSampler\n",
    "from scipy.stats.distributions import expon\n",
    "\n",
    "rng = np.random.RandomState(0)\n",
    "\n",
    "param_distributions = {'a':[1, 2], 'b': expon()}\n",
    "n_iter = 4\n",
    "\n",
    "param_distributions = list(ParameterSampler(param_distributions, n_iter=n_iter, random_state=rng))\n",
    "\n",
    "param_grid = {}\n",
    "\n",
    "for key in param_distributions[0].keys():\n",
    "    values = []\n",
    "    for dic in param_distributions:\n",
    "        values.append(dic[key])\n",
    "        \n",
    "    param_grid[key] = list(set(values))\n",
    "\n",
    "print(\"\")\n",
    "print(param_grid)"
   ]
  },
  {
   "cell_type": "code",
   "execution_count": null,
   "id": "54fca4a4",
   "metadata": {},
   "outputs": [],
   "source": []
  },
  {
   "cell_type": "code",
   "execution_count": null,
   "id": "e46680c5",
   "metadata": {},
   "outputs": [],
   "source": []
  },
  {
   "cell_type": "code",
   "execution_count": 2,
   "id": "c20cfd53",
   "metadata": {
    "ExecuteTime": {
     "end_time": "2022-04-07T17:36:48.091441Z",
     "start_time": "2022-04-07T17:36:48.088610Z"
    }
   },
   "outputs": [],
   "source": [
    "param_grid = {'a':[1, 2], 'b': range(10)}"
   ]
  },
  {
   "cell_type": "code",
   "execution_count": 4,
   "id": "b9936033",
   "metadata": {
    "ExecuteTime": {
     "end_time": "2022-04-07T17:37:03.545199Z",
     "start_time": "2022-04-07T17:37:03.533072Z"
    }
   },
   "outputs": [
    {
     "data": {
      "text/plain": [
       "[{'b': 8, 'a': 2}, {'b': 1, 'a': 1}, {'b': 9, 'a': 2}, {'b': 8, 'a': 1}]"
      ]
     },
     "execution_count": 4,
     "metadata": {},
     "output_type": "execute_result"
    }
   ],
   "source": [
    "param_list = list(ParameterSampler(param_grid, n_iter=4,\n",
    "                                   random_state=0))\n",
    "\n",
    "param_list"
   ]
  },
  {
   "cell_type": "markdown",
   "id": "6b9db66c",
   "metadata": {},
   "source": [
    "## Random search forecaster"
   ]
  },
  {
   "cell_type": "code",
   "execution_count": 3,
   "id": "360794f3",
   "metadata": {
    "ExecuteTime": {
     "end_time": "2022-04-14T15:24:25.448031Z",
     "start_time": "2022-04-14T15:24:25.134042Z"
    }
   },
   "outputs": [
    {
     "name": "stdout",
     "output_type": "stream",
     "text": [
      "Train dates      : 1991-07-01 00:00:00 --- 2001-01-01 00:00:00  (n=115)\n",
      "Validation dates : 2001-02-01 00:00:00 --- 2006-01-01 00:00:00  (n=60)\n",
      "Test dates       : 2006-02-01 00:00:00 --- 2008-06-01 00:00:00  (n=29)\n"
     ]
    }
   ],
   "source": [
    "# Download data\n",
    "# ==============================================================================\n",
    "url = ('https://raw.githubusercontent.com/JoaquinAmatRodrigo/skforecast/master/data/h2o.csv')\n",
    "data = pd.read_csv(url, sep=',', header=0, names=['y', 'datetime'])\n",
    "\n",
    "# Data preprocessing\n",
    "# ==============================================================================\n",
    "data['datetime'] = pd.to_datetime(data['datetime'], format='%Y/%m/%d')\n",
    "data = data.set_index('datetime')\n",
    "data = data.asfreq('MS')\n",
    "data = data[['y']]\n",
    "data = data.sort_index()\n",
    "\n",
    "# Train-val-test dates\n",
    "# ==============================================================================\n",
    "end_train = '2001-01-01 23:59:00'\n",
    "end_val = '2006-01-01 23:59:00'\n",
    "\n",
    "print(f\"Train dates      : {data.index.min()} --- {data.loc[:end_train].index.max()}  (n={len(data.loc[:end_train])})\")\n",
    "print(f\"Validation dates : {data.loc[end_train:].index.min()} --- {data.loc[:end_val].index.max()}  (n={len(data.loc[end_train:end_val])})\")\n",
    "print(f\"Test dates       : {data.loc[end_val:].index.min()} --- {data.index.max()}  (n={len(data.loc[end_val:])})\")\n"
   ]
  },
  {
   "cell_type": "code",
   "execution_count": 5,
   "id": "8067937e",
   "metadata": {
    "ExecuteTime": {
     "end_time": "2022-04-14T15:24:50.072930Z",
     "start_time": "2022-04-14T15:24:46.469070Z"
    },
    "scrolled": false
   },
   "outputs": [
    {
     "name": "stdout",
     "output_type": "stream",
     "text": [
      "Number of models compared: 10\n"
     ]
    },
    {
     "name": "stderr",
     "output_type": "stream",
     "text": [
      "loop lags_grid:   0%|                                               | 0/2 [00:00<?, ?it/s]\n",
      "loop param_grid:   0%|                                              | 0/5 [00:00<?, ?it/s]\u001b[A"
     ]
    },
    {
     "name": "stdout",
     "output_type": "stream",
     "text": [
      "Information of backtesting process\n",
      "----------------------------------\n",
      "Number of observations used for initial training or as initial window: 115\n",
      "Number of observations used for backtesting: 60\n",
      "    Number of folds: 6\n",
      "    Number of steps per fold: 11\n",
      "    Last fold only includes 5 observations\n",
      "\n",
      "Data partition in fold: 0\n",
      "    Training:   1991-07-01 00:00:00 -- 2001-01-01 00:00:00  (n=115)\n",
      "    Validation: 2001-02-01 00:00:00 -- 2001-12-01 00:00:00  (n=11)\n",
      "Data partition in fold: 1\n",
      "    Training:   1991-07-01 00:00:00 -- 2001-01-01 00:00:00  (n=115)\n",
      "    Validation: 2002-01-01 00:00:00 -- 2002-11-01 00:00:00  (n=11)\n",
      "Data partition in fold: 2\n",
      "    Training:   1991-07-01 00:00:00 -- 2001-01-01 00:00:00  (n=115)\n",
      "    Validation: 2002-12-01 00:00:00 -- 2003-10-01 00:00:00  (n=11)\n",
      "Data partition in fold: 3\n",
      "    Training:   1991-07-01 00:00:00 -- 2001-01-01 00:00:00  (n=115)\n",
      "    Validation: 2003-11-01 00:00:00 -- 2004-09-01 00:00:00  (n=11)\n",
      "Data partition in fold: 4\n",
      "    Training:   1991-07-01 00:00:00 -- 2001-01-01 00:00:00  (n=115)\n",
      "    Validation: 2004-10-01 00:00:00 -- 2005-08-01 00:00:00  (n=11)\n",
      "Data partition in fold: 5\n",
      "    Training:   1991-07-01 00:00:00 -- 2001-01-01 00:00:00  (n=115)\n",
      "    Validation: 2005-09-01 00:00:00 -- 2006-01-01 00:00:00  (n=5)\n",
      "\n"
     ]
    },
    {
     "name": "stderr",
     "output_type": "stream",
     "text": [
      "\n",
      "loop param_grid:  20%|███████▌                              | 1/5 [00:00<00:01,  2.20it/s]\u001b[A"
     ]
    },
    {
     "name": "stdout",
     "output_type": "stream",
     "text": [
      "Information of backtesting process\n",
      "----------------------------------\n",
      "Number of observations used for initial training or as initial window: 115\n",
      "Number of observations used for backtesting: 60\n",
      "    Number of folds: 6\n",
      "    Number of steps per fold: 11\n",
      "    Last fold only includes 5 observations\n",
      "\n",
      "Data partition in fold: 0\n",
      "    Training:   1991-07-01 00:00:00 -- 2001-01-01 00:00:00  (n=115)\n",
      "    Validation: 2001-02-01 00:00:00 -- 2001-12-01 00:00:00  (n=11)\n",
      "Data partition in fold: 1\n",
      "    Training:   1991-07-01 00:00:00 -- 2001-01-01 00:00:00  (n=115)\n",
      "    Validation: 2002-01-01 00:00:00 -- 2002-11-01 00:00:00  (n=11)\n",
      "Data partition in fold: 2\n",
      "    Training:   1991-07-01 00:00:00 -- 2001-01-01 00:00:00  (n=115)\n",
      "    Validation: 2002-12-01 00:00:00 -- 2003-10-01 00:00:00  (n=11)\n",
      "Data partition in fold: 3\n",
      "    Training:   1991-07-01 00:00:00 -- 2001-01-01 00:00:00  (n=115)\n",
      "    Validation: 2003-11-01 00:00:00 -- 2004-09-01 00:00:00  (n=11)\n",
      "Data partition in fold: 4\n",
      "    Training:   1991-07-01 00:00:00 -- 2001-01-01 00:00:00  (n=115)\n",
      "    Validation: 2004-10-01 00:00:00 -- 2005-08-01 00:00:00  (n=11)\n",
      "Data partition in fold: 5\n",
      "    Training:   1991-07-01 00:00:00 -- 2001-01-01 00:00:00  (n=115)\n",
      "    Validation: 2005-09-01 00:00:00 -- 2006-01-01 00:00:00  (n=5)\n",
      "\n"
     ]
    },
    {
     "name": "stderr",
     "output_type": "stream",
     "text": [
      "\n",
      "loop param_grid:  40%|███████████████▏                      | 2/5 [00:00<00:01,  2.17it/s]\u001b[A"
     ]
    },
    {
     "name": "stdout",
     "output_type": "stream",
     "text": [
      "Information of backtesting process\n",
      "----------------------------------\n",
      "Number of observations used for initial training or as initial window: 115\n",
      "Number of observations used for backtesting: 60\n",
      "    Number of folds: 6\n",
      "    Number of steps per fold: 11\n",
      "    Last fold only includes 5 observations\n",
      "\n",
      "Data partition in fold: 0\n",
      "    Training:   1991-07-01 00:00:00 -- 2001-01-01 00:00:00  (n=115)\n",
      "    Validation: 2001-02-01 00:00:00 -- 2001-12-01 00:00:00  (n=11)\n",
      "Data partition in fold: 1\n",
      "    Training:   1991-07-01 00:00:00 -- 2001-01-01 00:00:00  (n=115)\n",
      "    Validation: 2002-01-01 00:00:00 -- 2002-11-01 00:00:00  (n=11)\n",
      "Data partition in fold: 2\n",
      "    Training:   1991-07-01 00:00:00 -- 2001-01-01 00:00:00  (n=115)\n",
      "    Validation: 2002-12-01 00:00:00 -- 2003-10-01 00:00:00  (n=11)\n",
      "Data partition in fold: 3\n",
      "    Training:   1991-07-01 00:00:00 -- 2001-01-01 00:00:00  (n=115)\n",
      "    Validation: 2003-11-01 00:00:00 -- 2004-09-01 00:00:00  (n=11)\n",
      "Data partition in fold: 4\n",
      "    Training:   1991-07-01 00:00:00 -- 2001-01-01 00:00:00  (n=115)\n",
      "    Validation: 2004-10-01 00:00:00 -- 2005-08-01 00:00:00  (n=11)\n",
      "Data partition in fold: 5\n",
      "    Training:   1991-07-01 00:00:00 -- 2001-01-01 00:00:00  (n=115)\n",
      "    Validation: 2005-09-01 00:00:00 -- 2006-01-01 00:00:00  (n=5)\n",
      "\n"
     ]
    },
    {
     "name": "stderr",
     "output_type": "stream",
     "text": [
      "\n",
      "loop param_grid:  60%|██████████████████████▊               | 3/5 [00:01<00:00,  2.16it/s]\u001b[A\n",
      "loop param_grid:  80%|██████████████████████████████▍       | 4/5 [00:01<00:00,  2.71it/s]\u001b[A"
     ]
    },
    {
     "name": "stdout",
     "output_type": "stream",
     "text": [
      "Information of backtesting process\n",
      "----------------------------------\n",
      "Number of observations used for initial training or as initial window: 115\n",
      "Number of observations used for backtesting: 60\n",
      "    Number of folds: 6\n",
      "    Number of steps per fold: 11\n",
      "    Last fold only includes 5 observations\n",
      "\n",
      "Data partition in fold: 0\n",
      "    Training:   1991-07-01 00:00:00 -- 2001-01-01 00:00:00  (n=115)\n",
      "    Validation: 2001-02-01 00:00:00 -- 2001-12-01 00:00:00  (n=11)\n",
      "Data partition in fold: 1\n",
      "    Training:   1991-07-01 00:00:00 -- 2001-01-01 00:00:00  (n=115)\n",
      "    Validation: 2002-01-01 00:00:00 -- 2002-11-01 00:00:00  (n=11)\n",
      "Data partition in fold: 2\n",
      "    Training:   1991-07-01 00:00:00 -- 2001-01-01 00:00:00  (n=115)\n",
      "    Validation: 2002-12-01 00:00:00 -- 2003-10-01 00:00:00  (n=11)\n",
      "Data partition in fold: 3\n",
      "    Training:   1991-07-01 00:00:00 -- 2001-01-01 00:00:00  (n=115)\n",
      "    Validation: 2003-11-01 00:00:00 -- 2004-09-01 00:00:00  (n=11)\n",
      "Data partition in fold: 4\n",
      "    Training:   1991-07-01 00:00:00 -- 2001-01-01 00:00:00  (n=115)\n",
      "    Validation: 2004-10-01 00:00:00 -- 2005-08-01 00:00:00  (n=11)\n",
      "Data partition in fold: 5\n",
      "    Training:   1991-07-01 00:00:00 -- 2001-01-01 00:00:00  (n=115)\n",
      "    Validation: 2005-09-01 00:00:00 -- 2006-01-01 00:00:00  (n=5)\n",
      "\n"
     ]
    },
    {
     "name": "stderr",
     "output_type": "stream",
     "text": [
      "\n",
      "loop param_grid: 100%|██████████████████████████████████████| 5/5 [00:01<00:00,  3.47it/s]\u001b[A\n",
      "loop lags_grid:  50%|███████████████████▌                   | 1/2 [00:01<00:01,  1.76s/it]\u001b[A"
     ]
    },
    {
     "name": "stdout",
     "output_type": "stream",
     "text": [
      "Information of backtesting process\n",
      "----------------------------------\n",
      "Number of observations used for initial training or as initial window: 115\n",
      "Number of observations used for backtesting: 60\n",
      "    Number of folds: 6\n",
      "    Number of steps per fold: 11\n",
      "    Last fold only includes 5 observations\n",
      "\n",
      "Data partition in fold: 0\n",
      "    Training:   1991-07-01 00:00:00 -- 2001-01-01 00:00:00  (n=115)\n",
      "    Validation: 2001-02-01 00:00:00 -- 2001-12-01 00:00:00  (n=11)\n",
      "Data partition in fold: 1\n",
      "    Training:   1991-07-01 00:00:00 -- 2001-01-01 00:00:00  (n=115)\n",
      "    Validation: 2002-01-01 00:00:00 -- 2002-11-01 00:00:00  (n=11)\n",
      "Data partition in fold: 2\n",
      "    Training:   1991-07-01 00:00:00 -- 2001-01-01 00:00:00  (n=115)\n",
      "    Validation: 2002-12-01 00:00:00 -- 2003-10-01 00:00:00  (n=11)\n",
      "Data partition in fold: 3\n",
      "    Training:   1991-07-01 00:00:00 -- 2001-01-01 00:00:00  (n=115)\n",
      "    Validation: 2003-11-01 00:00:00 -- 2004-09-01 00:00:00  (n=11)\n",
      "Data partition in fold: 4\n",
      "    Training:   1991-07-01 00:00:00 -- 2001-01-01 00:00:00  (n=115)\n",
      "    Validation: 2004-10-01 00:00:00 -- 2005-08-01 00:00:00  (n=11)\n",
      "Data partition in fold: 5\n",
      "    Training:   1991-07-01 00:00:00 -- 2001-01-01 00:00:00  (n=115)\n",
      "    Validation: 2005-09-01 00:00:00 -- 2006-01-01 00:00:00  (n=5)\n",
      "\n"
     ]
    },
    {
     "name": "stderr",
     "output_type": "stream",
     "text": [
      "\n",
      "loop param_grid:   0%|                                              | 0/5 [00:00<?, ?it/s]\u001b[A"
     ]
    },
    {
     "name": "stdout",
     "output_type": "stream",
     "text": [
      "Information of backtesting process\n",
      "----------------------------------\n",
      "Number of observations used for initial training or as initial window: 115\n",
      "Number of observations used for backtesting: 60\n",
      "    Number of folds: 6\n",
      "    Number of steps per fold: 11\n",
      "    Last fold only includes 5 observations\n",
      "\n",
      "Data partition in fold: 0\n",
      "    Training:   1991-07-01 00:00:00 -- 2001-01-01 00:00:00  (n=115)\n",
      "    Validation: 2001-02-01 00:00:00 -- 2001-12-01 00:00:00  (n=11)\n",
      "Data partition in fold: 1\n",
      "    Training:   1991-07-01 00:00:00 -- 2001-01-01 00:00:00  (n=115)\n",
      "    Validation: 2002-01-01 00:00:00 -- 2002-11-01 00:00:00  (n=11)\n",
      "Data partition in fold: 2\n",
      "    Training:   1991-07-01 00:00:00 -- 2001-01-01 00:00:00  (n=115)\n",
      "    Validation: 2002-12-01 00:00:00 -- 2003-10-01 00:00:00  (n=11)\n",
      "Data partition in fold: 3\n",
      "    Training:   1991-07-01 00:00:00 -- 2001-01-01 00:00:00  (n=115)\n",
      "    Validation: 2003-11-01 00:00:00 -- 2004-09-01 00:00:00  (n=11)\n",
      "Data partition in fold: 4\n",
      "    Training:   1991-07-01 00:00:00 -- 2001-01-01 00:00:00  (n=115)\n",
      "    Validation: 2004-10-01 00:00:00 -- 2005-08-01 00:00:00  (n=11)\n",
      "Data partition in fold: 5\n",
      "    Training:   1991-07-01 00:00:00 -- 2001-01-01 00:00:00  (n=115)\n",
      "    Validation: 2005-09-01 00:00:00 -- 2006-01-01 00:00:00  (n=5)\n",
      "\n"
     ]
    },
    {
     "name": "stderr",
     "output_type": "stream",
     "text": [
      "\n",
      "loop param_grid:  20%|███████▌                              | 1/5 [00:00<00:01,  2.22it/s]\u001b[A"
     ]
    },
    {
     "name": "stdout",
     "output_type": "stream",
     "text": [
      "Information of backtesting process\n",
      "----------------------------------\n",
      "Number of observations used for initial training or as initial window: 115\n",
      "Number of observations used for backtesting: 60\n",
      "    Number of folds: 6\n",
      "    Number of steps per fold: 11\n",
      "    Last fold only includes 5 observations\n",
      "\n",
      "Data partition in fold: 0\n",
      "    Training:   1991-07-01 00:00:00 -- 2001-01-01 00:00:00  (n=115)\n",
      "    Validation: 2001-02-01 00:00:00 -- 2001-12-01 00:00:00  (n=11)\n",
      "Data partition in fold: 1\n",
      "    Training:   1991-07-01 00:00:00 -- 2001-01-01 00:00:00  (n=115)\n",
      "    Validation: 2002-01-01 00:00:00 -- 2002-11-01 00:00:00  (n=11)\n",
      "Data partition in fold: 2\n",
      "    Training:   1991-07-01 00:00:00 -- 2001-01-01 00:00:00  (n=115)\n",
      "    Validation: 2002-12-01 00:00:00 -- 2003-10-01 00:00:00  (n=11)\n",
      "Data partition in fold: 3\n",
      "    Training:   1991-07-01 00:00:00 -- 2001-01-01 00:00:00  (n=115)\n",
      "    Validation: 2003-11-01 00:00:00 -- 2004-09-01 00:00:00  (n=11)\n",
      "Data partition in fold: 4\n",
      "    Training:   1991-07-01 00:00:00 -- 2001-01-01 00:00:00  (n=115)\n",
      "    Validation: 2004-10-01 00:00:00 -- 2005-08-01 00:00:00  (n=11)\n",
      "Data partition in fold: 5\n",
      "    Training:   1991-07-01 00:00:00 -- 2001-01-01 00:00:00  (n=115)\n",
      "    Validation: 2005-09-01 00:00:00 -- 2006-01-01 00:00:00  (n=5)\n",
      "\n"
     ]
    },
    {
     "name": "stderr",
     "output_type": "stream",
     "text": [
      "\n",
      "loop param_grid:  40%|███████████████▏                      | 2/5 [00:00<00:01,  2.18it/s]\u001b[A"
     ]
    },
    {
     "name": "stdout",
     "output_type": "stream",
     "text": [
      "Information of backtesting process\n",
      "----------------------------------\n",
      "Number of observations used for initial training or as initial window: 115\n",
      "Number of observations used for backtesting: 60\n",
      "    Number of folds: 6\n",
      "    Number of steps per fold: 11\n",
      "    Last fold only includes 5 observations\n",
      "\n",
      "Data partition in fold: 0\n",
      "    Training:   1991-07-01 00:00:00 -- 2001-01-01 00:00:00  (n=115)\n",
      "    Validation: 2001-02-01 00:00:00 -- 2001-12-01 00:00:00  (n=11)\n",
      "Data partition in fold: 1\n",
      "    Training:   1991-07-01 00:00:00 -- 2001-01-01 00:00:00  (n=115)\n",
      "    Validation: 2002-01-01 00:00:00 -- 2002-11-01 00:00:00  (n=11)\n",
      "Data partition in fold: 2\n",
      "    Training:   1991-07-01 00:00:00 -- 2001-01-01 00:00:00  (n=115)\n",
      "    Validation: 2002-12-01 00:00:00 -- 2003-10-01 00:00:00  (n=11)\n",
      "Data partition in fold: 3\n",
      "    Training:   1991-07-01 00:00:00 -- 2001-01-01 00:00:00  (n=115)\n",
      "    Validation: 2003-11-01 00:00:00 -- 2004-09-01 00:00:00  (n=11)\n",
      "Data partition in fold: 4\n",
      "    Training:   1991-07-01 00:00:00 -- 2001-01-01 00:00:00  (n=115)\n",
      "    Validation: 2004-10-01 00:00:00 -- 2005-08-01 00:00:00  (n=11)\n",
      "Data partition in fold: 5\n",
      "    Training:   1991-07-01 00:00:00 -- 2001-01-01 00:00:00  (n=115)\n",
      "    Validation: 2005-09-01 00:00:00 -- 2006-01-01 00:00:00  (n=5)\n",
      "\n"
     ]
    },
    {
     "name": "stderr",
     "output_type": "stream",
     "text": [
      "\n",
      "loop param_grid:  60%|██████████████████████▊               | 3/5 [00:01<00:00,  2.23it/s]\u001b[A\n",
      "loop param_grid:  80%|██████████████████████████████▍       | 4/5 [00:01<00:00,  2.81it/s]\u001b[A"
     ]
    },
    {
     "name": "stdout",
     "output_type": "stream",
     "text": [
      "Information of backtesting process\n",
      "----------------------------------\n",
      "Number of observations used for initial training or as initial window: 115\n",
      "Number of observations used for backtesting: 60\n",
      "    Number of folds: 6\n",
      "    Number of steps per fold: 11\n",
      "    Last fold only includes 5 observations\n",
      "\n",
      "Data partition in fold: 0\n",
      "    Training:   1991-07-01 00:00:00 -- 2001-01-01 00:00:00  (n=115)\n",
      "    Validation: 2001-02-01 00:00:00 -- 2001-12-01 00:00:00  (n=11)\n",
      "Data partition in fold: 1\n",
      "    Training:   1991-07-01 00:00:00 -- 2001-01-01 00:00:00  (n=115)\n",
      "    Validation: 2002-01-01 00:00:00 -- 2002-11-01 00:00:00  (n=11)\n",
      "Data partition in fold: 2\n",
      "    Training:   1991-07-01 00:00:00 -- 2001-01-01 00:00:00  (n=115)\n",
      "    Validation: 2002-12-01 00:00:00 -- 2003-10-01 00:00:00  (n=11)\n",
      "Data partition in fold: 3\n",
      "    Training:   1991-07-01 00:00:00 -- 2001-01-01 00:00:00  (n=115)\n",
      "    Validation: 2003-11-01 00:00:00 -- 2004-09-01 00:00:00  (n=11)\n",
      "Data partition in fold: 4\n",
      "    Training:   1991-07-01 00:00:00 -- 2001-01-01 00:00:00  (n=115)\n",
      "    Validation: 2004-10-01 00:00:00 -- 2005-08-01 00:00:00  (n=11)\n",
      "Data partition in fold: 5\n",
      "    Training:   1991-07-01 00:00:00 -- 2001-01-01 00:00:00  (n=115)\n",
      "    Validation: 2005-09-01 00:00:00 -- 2006-01-01 00:00:00  (n=5)\n",
      "\n",
      "Information of backtesting process\n",
      "----------------------------------\n",
      "Number of observations used for initial training or as initial window: 115\n",
      "Number of observations used for backtesting: 60\n",
      "    Number of folds: 6\n",
      "    Number of steps per fold: 11\n",
      "    Last fold only includes 5 observations\n",
      "\n",
      "Data partition in fold: 0\n",
      "    Training:   1991-07-01 00:00:00 -- 2001-01-01 00:00:00  (n=115)\n",
      "    Validation: 2001-02-01 00:00:00 -- 2001-12-01 00:00:00  (n=11)\n",
      "Data partition in fold: 1\n",
      "    Training:   1991-07-01 00:00:00 -- 2001-01-01 00:00:00  (n=115)\n",
      "    Validation: 2002-01-01 00:00:00 -- 2002-11-01 00:00:00  (n=11)\n",
      "Data partition in fold: 2\n",
      "    Training:   1991-07-01 00:00:00 -- 2001-01-01 00:00:00  (n=115)\n",
      "    Validation: 2002-12-01 00:00:00 -- 2003-10-01 00:00:00  (n=11)\n",
      "Data partition in fold: 3\n",
      "    Training:   1991-07-01 00:00:00 -- 2001-01-01 00:00:00  (n=115)\n",
      "    Validation: 2003-11-01 00:00:00 -- 2004-09-01 00:00:00  (n=11)\n",
      "Data partition in fold: 4\n",
      "    Training:   1991-07-01 00:00:00 -- 2001-01-01 00:00:00  (n=115)\n",
      "    Validation: 2004-10-01 00:00:00 -- 2005-08-01 00:00:00  (n=11)\n",
      "Data partition in fold: 5\n",
      "    Training:   1991-07-01 00:00:00 -- 2001-01-01 00:00:00  (n=115)\n",
      "    Validation: 2005-09-01 00:00:00 -- 2006-01-01 00:00:00  (n=5)\n",
      "\n"
     ]
    },
    {
     "name": "stderr",
     "output_type": "stream",
     "text": [
      "\n",
      "loop param_grid: 100%|██████████████████████████████████████| 5/5 [00:01<00:00,  3.64it/s]\u001b[A\n",
      "loop lags_grid: 100%|███████████████████████████████████████| 2/2 [00:03<00:00,  1.73s/it]\u001b[A\n"
     ]
    },
    {
     "name": "stdout",
     "output_type": "stream",
     "text": [
      "`Forecaster` refitted using the best-found lags and parameters, and the whole data set: \n",
      "  Lags: [1 2 3] \n",
      "  Parameters: {'n_estimators': 77, 'max_depth': 25}\n",
      "  Backtesting metric: 0.06590698227625151\n",
      "\n"
     ]
    },
    {
     "data": {
      "text/html": [
       "<div>\n",
       "<style scoped>\n",
       "    .dataframe tbody tr th:only-of-type {\n",
       "        vertical-align: middle;\n",
       "    }\n",
       "\n",
       "    .dataframe tbody tr th {\n",
       "        vertical-align: top;\n",
       "    }\n",
       "\n",
       "    .dataframe thead th {\n",
       "        text-align: right;\n",
       "    }\n",
       "</style>\n",
       "<table border=\"1\" class=\"dataframe\">\n",
       "  <thead>\n",
       "    <tr style=\"text-align: right;\">\n",
       "      <th></th>\n",
       "      <th>lags</th>\n",
       "      <th>params</th>\n",
       "      <th>metric</th>\n",
       "      <th>n_estimators</th>\n",
       "      <th>max_depth</th>\n",
       "    </tr>\n",
       "  </thead>\n",
       "  <tbody>\n",
       "    <tr>\n",
       "      <th>0</th>\n",
       "      <td>[1, 2, 3]</td>\n",
       "      <td>{'n_estimators': 77, 'max_depth': 25}</td>\n",
       "      <td>0.065907</td>\n",
       "      <td>77</td>\n",
       "      <td>25</td>\n",
       "    </tr>\n",
       "    <tr>\n",
       "      <th>2</th>\n",
       "      <td>[1, 2, 3]</td>\n",
       "      <td>{'n_estimators': 74, 'max_depth': 20}</td>\n",
       "      <td>0.072082</td>\n",
       "      <td>74</td>\n",
       "      <td>20</td>\n",
       "    </tr>\n",
       "    <tr>\n",
       "      <th>8</th>\n",
       "      <td>[1, 2, 3, 4, 5]</td>\n",
       "      <td>{'n_estimators': 33, 'max_depth': 19}</td>\n",
       "      <td>0.073652</td>\n",
       "      <td>33</td>\n",
       "      <td>19</td>\n",
       "    </tr>\n",
       "    <tr>\n",
       "      <th>3</th>\n",
       "      <td>[1, 2, 3]</td>\n",
       "      <td>{'n_estimators': 33, 'max_depth': 19}</td>\n",
       "      <td>0.074437</td>\n",
       "      <td>33</td>\n",
       "      <td>19</td>\n",
       "    </tr>\n",
       "    <tr>\n",
       "      <th>5</th>\n",
       "      <td>[1, 2, 3, 4, 5]</td>\n",
       "      <td>{'n_estimators': 77, 'max_depth': 25}</td>\n",
       "      <td>0.075426</td>\n",
       "      <td>77</td>\n",
       "      <td>25</td>\n",
       "    </tr>\n",
       "    <tr>\n",
       "      <th>1</th>\n",
       "      <td>[1, 2, 3]</td>\n",
       "      <td>{'n_estimators': 81, 'max_depth': 23}</td>\n",
       "      <td>0.075779</td>\n",
       "      <td>81</td>\n",
       "      <td>23</td>\n",
       "    </tr>\n",
       "    <tr>\n",
       "      <th>9</th>\n",
       "      <td>[1, 2, 3, 4, 5]</td>\n",
       "      <td>{'n_estimators': 17, 'max_depth': 27}</td>\n",
       "      <td>0.080211</td>\n",
       "      <td>17</td>\n",
       "      <td>27</td>\n",
       "    </tr>\n",
       "    <tr>\n",
       "      <th>6</th>\n",
       "      <td>[1, 2, 3, 4, 5]</td>\n",
       "      <td>{'n_estimators': 81, 'max_depth': 23}</td>\n",
       "      <td>0.082055</td>\n",
       "      <td>81</td>\n",
       "      <td>23</td>\n",
       "    </tr>\n",
       "    <tr>\n",
       "      <th>7</th>\n",
       "      <td>[1, 2, 3, 4, 5]</td>\n",
       "      <td>{'n_estimators': 74, 'max_depth': 20}</td>\n",
       "      <td>0.082560</td>\n",
       "      <td>74</td>\n",
       "      <td>20</td>\n",
       "    </tr>\n",
       "    <tr>\n",
       "      <th>4</th>\n",
       "      <td>[1, 2, 3]</td>\n",
       "      <td>{'n_estimators': 17, 'max_depth': 27}</td>\n",
       "      <td>0.084555</td>\n",
       "      <td>17</td>\n",
       "      <td>27</td>\n",
       "    </tr>\n",
       "  </tbody>\n",
       "</table>\n",
       "</div>"
      ],
      "text/plain": [
       "              lags                                 params    metric  \\\n",
       "0        [1, 2, 3]  {'n_estimators': 77, 'max_depth': 25}  0.065907   \n",
       "2        [1, 2, 3]  {'n_estimators': 74, 'max_depth': 20}  0.072082   \n",
       "8  [1, 2, 3, 4, 5]  {'n_estimators': 33, 'max_depth': 19}  0.073652   \n",
       "3        [1, 2, 3]  {'n_estimators': 33, 'max_depth': 19}  0.074437   \n",
       "5  [1, 2, 3, 4, 5]  {'n_estimators': 77, 'max_depth': 25}  0.075426   \n",
       "1        [1, 2, 3]  {'n_estimators': 81, 'max_depth': 23}  0.075779   \n",
       "9  [1, 2, 3, 4, 5]  {'n_estimators': 17, 'max_depth': 27}  0.080211   \n",
       "6  [1, 2, 3, 4, 5]  {'n_estimators': 81, 'max_depth': 23}  0.082055   \n",
       "7  [1, 2, 3, 4, 5]  {'n_estimators': 74, 'max_depth': 20}  0.082560   \n",
       "4        [1, 2, 3]  {'n_estimators': 17, 'max_depth': 27}  0.084555   \n",
       "\n",
       "   n_estimators  max_depth  \n",
       "0            77         25  \n",
       "2            74         20  \n",
       "8            33         19  \n",
       "3            33         19  \n",
       "5            77         25  \n",
       "1            81         23  \n",
       "9            17         27  \n",
       "6            81         23  \n",
       "7            74         20  \n",
       "4            17         27  "
      ]
     },
     "execution_count": 5,
     "metadata": {},
     "output_type": "execute_result"
    }
   ],
   "source": [
    "# Random search hyperparameter and lags\n",
    "# ==============================================================================\n",
    "forecaster = ForecasterAutoreg(\n",
    "                regressor = RandomForestRegressor(random_state=123),\n",
    "                lags      = 10 # Placeholder, the value will be overwritten\n",
    "             )\n",
    "\n",
    "# Lags used as predictors\n",
    "lags_grid = [3, 5]\n",
    "\n",
    "# Regressor hyperparameters\n",
    "param_distributions = {'n_estimators': np.arange(start=10, stop=100, step=1, dtype=int),\n",
    "                       'max_depth': np.arange(start=5, stop=30, step=1, dtype=int)}\n",
    "\n",
    "results_random = random_search_forecaster(\n",
    "                        forecaster  = forecaster,\n",
    "                        y           = data.loc[:end_val, 'y'],\n",
    "                        steps       = 12,\n",
    "                        lags_grid   = lags_grid,\n",
    "                        param_distributions  = param_distributions,\n",
    "                        n_iter      = 5,\n",
    "                        metric      = 'mean_squared_error',\n",
    "                        refit       = True,\n",
    "                        initial_train_size = len(data.loc[:end_train]),\n",
    "                        fixed_train_size   = False,\n",
    "                        return_best = True,\n",
    "                        random_state = 12,\n",
    "                        verbose     = True\n",
    "                 )\n",
    "\n",
    "results_random"
   ]
  },
  {
   "cell_type": "code",
   "execution_count": 5,
   "id": "f5b0de7f",
   "metadata": {
    "ExecuteTime": {
     "end_time": "2022-04-14T11:32:52.242257Z",
     "start_time": "2022-04-14T11:32:47.990856Z"
    }
   },
   "outputs": [
    {
     "name": "stderr",
     "output_type": "stream",
     "text": [
      "/home/javi/Documents/GitHub/skforecast/skforecast/model_selection/model_selection.py:1280: UserWarning: `lags_grid` ignored if forecaster is an instance of `ForecasterAutoregCustom`.\n",
      "  warnings.warn(\n"
     ]
    },
    {
     "name": "stdout",
     "output_type": "stream",
     "text": [
      "Number of models compared: 5\n"
     ]
    },
    {
     "name": "stderr",
     "output_type": "stream",
     "text": [
      "loop lags_grid:   0%|                                               | 0/1 [00:00<?, ?it/s]\n",
      "loop param_grid:   0%|                                              | 0/5 [00:00<?, ?it/s]\u001b[A\n",
      "loop param_grid:  20%|███████▌                              | 1/5 [00:01<00:04,  1.01s/it]\u001b[A\n",
      "loop param_grid:  40%|███████████████▏                      | 2/5 [00:01<00:02,  1.31it/s]\u001b[A\n",
      "loop param_grid:  60%|██████████████████████▊               | 3/5 [00:02<00:01,  1.36it/s]\u001b[A\n",
      "loop param_grid:  80%|██████████████████████████████▍       | 4/5 [00:03<00:00,  1.20it/s]\u001b[A\n",
      "loop param_grid: 100%|██████████████████████████████████████| 5/5 [00:04<00:00,  1.22it/s]\u001b[A\n",
      "loop lags_grid: 100%|███████████████████████████████████████| 1/1 [00:04<00:00,  4.10s/it]\u001b[A"
     ]
    },
    {
     "name": "stdout",
     "output_type": "stream",
     "text": [
      "`Forecaster` refitted using the best-found lags and parameters, and the whole data set: \n",
      "  Lags: custom predictors \n",
      "  Parameters: {'n_estimators': 77, 'max_depth': 17}\n",
      "  Backtesting metric: 0.03147248676391345\n",
      "\n"
     ]
    },
    {
     "name": "stderr",
     "output_type": "stream",
     "text": [
      "\n"
     ]
    },
    {
     "data": {
      "text/html": [
       "<div>\n",
       "<style scoped>\n",
       "    .dataframe tbody tr th:only-of-type {\n",
       "        vertical-align: middle;\n",
       "    }\n",
       "\n",
       "    .dataframe tbody tr th {\n",
       "        vertical-align: top;\n",
       "    }\n",
       "\n",
       "    .dataframe thead th {\n",
       "        text-align: right;\n",
       "    }\n",
       "</style>\n",
       "<table border=\"1\" class=\"dataframe\">\n",
       "  <thead>\n",
       "    <tr style=\"text-align: right;\">\n",
       "      <th></th>\n",
       "      <th>lags</th>\n",
       "      <th>params</th>\n",
       "      <th>metric</th>\n",
       "      <th>n_estimators</th>\n",
       "      <th>max_depth</th>\n",
       "    </tr>\n",
       "  </thead>\n",
       "  <tbody>\n",
       "    <tr>\n",
       "      <th>4</th>\n",
       "      <td>custom predictors</td>\n",
       "      <td>{'n_estimators': 77, 'max_depth': 17}</td>\n",
       "      <td>0.031472</td>\n",
       "      <td>77</td>\n",
       "      <td>17</td>\n",
       "    </tr>\n",
       "    <tr>\n",
       "      <th>2</th>\n",
       "      <td>custom predictors</td>\n",
       "      <td>{'n_estimators': 66, 'max_depth': 24}</td>\n",
       "      <td>0.033616</td>\n",
       "      <td>66</td>\n",
       "      <td>24</td>\n",
       "    </tr>\n",
       "    <tr>\n",
       "      <th>0</th>\n",
       "      <td>custom predictors</td>\n",
       "      <td>{'n_estimators': 96, 'max_depth': 19}</td>\n",
       "      <td>0.033761</td>\n",
       "      <td>96</td>\n",
       "      <td>19</td>\n",
       "    </tr>\n",
       "    <tr>\n",
       "      <th>1</th>\n",
       "      <td>custom predictors</td>\n",
       "      <td>{'n_estimators': 52, 'max_depth': 17}</td>\n",
       "      <td>0.040640</td>\n",
       "      <td>52</td>\n",
       "      <td>17</td>\n",
       "    </tr>\n",
       "    <tr>\n",
       "      <th>3</th>\n",
       "      <td>custom predictors</td>\n",
       "      <td>{'n_estimators': 94, 'max_depth': 28}</td>\n",
       "      <td>0.044071</td>\n",
       "      <td>94</td>\n",
       "      <td>28</td>\n",
       "    </tr>\n",
       "  </tbody>\n",
       "</table>\n",
       "</div>"
      ],
      "text/plain": [
       "                lags                                 params    metric  \\\n",
       "4  custom predictors  {'n_estimators': 77, 'max_depth': 17}  0.031472   \n",
       "2  custom predictors  {'n_estimators': 66, 'max_depth': 24}  0.033616   \n",
       "0  custom predictors  {'n_estimators': 96, 'max_depth': 19}  0.033761   \n",
       "1  custom predictors  {'n_estimators': 52, 'max_depth': 17}  0.040640   \n",
       "3  custom predictors  {'n_estimators': 94, 'max_depth': 28}  0.044071   \n",
       "\n",
       "   n_estimators  max_depth  \n",
       "4            77         17  \n",
       "2            66         24  \n",
       "0            96         19  \n",
       "1            52         17  \n",
       "3            94         28  "
      ]
     },
     "execution_count": 5,
     "metadata": {},
     "output_type": "execute_result"
    }
   ],
   "source": [
    "# Random search hyperparameter and lags\n",
    "# ==============================================================================\n",
    "def create_predictors(y):\n",
    "    '''\n",
    "    Create first 5 lags of a time series.\n",
    "    '''\n",
    "    \n",
    "    lags = y[-1:-6:-1]\n",
    "    \n",
    "    return lags \n",
    "\n",
    "forecaster = ForecasterAutoregCustom(\n",
    "                    regressor      = RandomForestRegressor(random_state=123),\n",
    "                    fun_predictors = create_predictors,\n",
    "                    window_size    = 5\n",
    "                )\n",
    "\n",
    "# Lags used as predictors\n",
    "lags_grid = [3, 5]\n",
    "\n",
    "# Regressor hyperparameters\n",
    "param_distributions = {'n_estimators': np.arange(start=10, stop=100, step=1, dtype=int),\n",
    "                       'max_depth': np.arange(start=5, stop=30, step=1, dtype=int)}\n",
    "\n",
    "results_random = random_search_forecaster(\n",
    "                        forecaster  = forecaster,\n",
    "                        y           = data.loc[:end_val, 'y'],\n",
    "                        steps       = 12,\n",
    "                        lags_grid   = lags_grid,\n",
    "                        param_distributions  = param_distributions,\n",
    "                        n_iter      = 5,\n",
    "                        metric      = 'mean_squared_error',\n",
    "                        refit       = True,\n",
    "                        initial_train_size = len(data.loc[:end_train]),\n",
    "                        fixed_train_size   = False,\n",
    "                        return_best = True,\n",
    "                        random_state = 123,\n",
    "                        verbose     = False\n",
    "                 )\n",
    "\n",
    "results_random"
   ]
  },
  {
   "cell_type": "markdown",
   "id": "7c3545bd",
   "metadata": {},
   "source": [
    "## test mocked 0.4.3"
   ]
  },
  {
   "cell_type": "code",
   "execution_count": 1,
   "id": "f67cbd1a",
   "metadata": {
    "ExecuteTime": {
     "end_time": "2022-04-14T12:50:45.967371Z",
     "start_time": "2022-04-14T12:50:45.389760Z"
    }
   },
   "outputs": [],
   "source": [
    "# random search forecaster\n",
    "# ==============================================================================\n",
    "import numpy as np\n",
    "import pandas as pd\n",
    "\n",
    "from sklearn.metrics import mean_squared_error\n",
    "from sklearn.linear_model import Ridge\n",
    "\n",
    "from skforecast.model_selection.model_selection import grid_search_forecaster\n",
    "from skforecast.ForecasterAutoreg import ForecasterAutoreg\n",
    "from skforecast.ForecasterAutoregCustom import ForecasterAutoregCustom\n",
    "\n",
    "import warnings\n",
    "from tqdm import tqdm\n",
    "from functools import partialmethod"
   ]
  },
  {
   "cell_type": "code",
   "execution_count": 2,
   "id": "4699ff87",
   "metadata": {
    "ExecuteTime": {
     "end_time": "2022-04-14T12:50:47.540848Z",
     "start_time": "2022-04-14T12:50:47.536461Z"
    }
   },
   "outputs": [],
   "source": [
    "y = pd.Series(\n",
    "        np.array([0.69646919, 0.28613933, 0.22685145, 0.55131477, 0.71946897,\n",
    "                  0.42310646, 0.9807642 , 0.68482974, 0.4809319 , 0.39211752,\n",
    "                  0.34317802, 0.72904971, 0.43857224, 0.0596779 , 0.39804426,\n",
    "                  0.73799541, 0.18249173, 0.17545176, 0.53155137, 0.53182759,\n",
    "                  0.63440096, 0.84943179, 0.72445532, 0.61102351, 0.72244338,\n",
    "                  0.32295891, 0.36178866, 0.22826323, 0.29371405, 0.63097612,\n",
    "                  0.09210494, 0.43370117, 0.43086276, 0.4936851 , 0.42583029,\n",
    "                  0.31226122, 0.42635131, 0.89338916, 0.94416002, 0.50183668,\n",
    "                  0.62395295, 0.1156184 , 0.31728548, 0.41482621, 0.86630916,\n",
    "                  0.25045537, 0.48303426, 0.98555979, 0.51948512, 0.61289453]))"
   ]
  },
  {
   "cell_type": "code",
   "execution_count": 3,
   "id": "8255e796",
   "metadata": {
    "ExecuteTime": {
     "end_time": "2022-04-14T12:50:48.959687Z",
     "start_time": "2022-04-14T12:50:48.859479Z"
    }
   },
   "outputs": [
    {
     "name": "stdout",
     "output_type": "stream",
     "text": [
      "Number of models compared: 6\n"
     ]
    },
    {
     "name": "stderr",
     "output_type": "stream",
     "text": [
      "loop lags_grid:   0%|                                               | 0/2 [00:00<?, ?it/s]\n",
      "loop param_grid:   0%|                                              | 0/3 [00:00<?, ?it/s]\u001b[A\n",
      "                                                                                          \u001b[A\n",
      "loop param_grid:   0%|                                              | 0/3 [00:00<?, ?it/s]\u001b[A\n",
      "loop lags_grid: 100%|███████████████████████████████████████| 2/2 [00:00<00:00, 38.92it/s]\u001b[A"
     ]
    },
    {
     "name": "stdout",
     "output_type": "stream",
     "text": [
      "`Forecaster` refitted using the best-found lags and parameters, and the whole data set: \n",
      "  Lags: [1 2] \n",
      "  Parameters: {'alpha': 0.01}\n",
      "  Backtesting metric: 0.06464646415433532\n",
      "\n"
     ]
    },
    {
     "name": "stderr",
     "output_type": "stream",
     "text": [
      "\n"
     ]
    },
    {
     "data": {
      "text/html": [
       "<div>\n",
       "<style scoped>\n",
       "    .dataframe tbody tr th:only-of-type {\n",
       "        vertical-align: middle;\n",
       "    }\n",
       "\n",
       "    .dataframe tbody tr th {\n",
       "        vertical-align: top;\n",
       "    }\n",
       "\n",
       "    .dataframe thead th {\n",
       "        text-align: right;\n",
       "    }\n",
       "</style>\n",
       "<table border=\"1\" class=\"dataframe\">\n",
       "  <thead>\n",
       "    <tr style=\"text-align: right;\">\n",
       "      <th></th>\n",
       "      <th>lags</th>\n",
       "      <th>params</th>\n",
       "      <th>metric</th>\n",
       "      <th>alpha</th>\n",
       "    </tr>\n",
       "  </thead>\n",
       "  <tbody>\n",
       "    <tr>\n",
       "      <th>0</th>\n",
       "      <td>[1, 2]</td>\n",
       "      <td>{'alpha': 0.01}</td>\n",
       "      <td>0.064646</td>\n",
       "      <td>0.01</td>\n",
       "    </tr>\n",
       "    <tr>\n",
       "      <th>1</th>\n",
       "      <td>[1, 2]</td>\n",
       "      <td>{'alpha': 0.1}</td>\n",
       "      <td>0.065024</td>\n",
       "      <td>0.10</td>\n",
       "    </tr>\n",
       "    <tr>\n",
       "      <th>2</th>\n",
       "      <td>[1, 2]</td>\n",
       "      <td>{'alpha': 1}</td>\n",
       "      <td>0.067455</td>\n",
       "      <td>1.00</td>\n",
       "    </tr>\n",
       "    <tr>\n",
       "      <th>3</th>\n",
       "      <td>[1, 2, 3, 4]</td>\n",
       "      <td>{'alpha': 0.01}</td>\n",
       "      <td>0.067793</td>\n",
       "      <td>0.01</td>\n",
       "    </tr>\n",
       "    <tr>\n",
       "      <th>4</th>\n",
       "      <td>[1, 2, 3, 4]</td>\n",
       "      <td>{'alpha': 0.1}</td>\n",
       "      <td>0.068025</td>\n",
       "      <td>0.10</td>\n",
       "    </tr>\n",
       "    <tr>\n",
       "      <th>5</th>\n",
       "      <td>[1, 2, 3, 4]</td>\n",
       "      <td>{'alpha': 1}</td>\n",
       "      <td>0.069486</td>\n",
       "      <td>1.00</td>\n",
       "    </tr>\n",
       "  </tbody>\n",
       "</table>\n",
       "</div>"
      ],
      "text/plain": [
       "           lags           params    metric  alpha\n",
       "0        [1, 2]  {'alpha': 0.01}  0.064646   0.01\n",
       "1        [1, 2]   {'alpha': 0.1}  0.065024   0.10\n",
       "2        [1, 2]     {'alpha': 1}  0.067455   1.00\n",
       "3  [1, 2, 3, 4]  {'alpha': 0.01}  0.067793   0.01\n",
       "4  [1, 2, 3, 4]   {'alpha': 0.1}  0.068025   0.10\n",
       "5  [1, 2, 3, 4]     {'alpha': 1}  0.069486   1.00"
      ]
     },
     "metadata": {},
     "output_type": "display_data"
    },
    {
     "data": {
      "text/plain": [
       "array([array([1, 2]), array([1, 2]), array([1, 2]), array([1, 2, 3, 4]),\n",
       "       array([1, 2, 3, 4]), array([1, 2, 3, 4])], dtype=object)"
      ]
     },
     "metadata": {},
     "output_type": "display_data"
    },
    {
     "data": {
      "text/plain": [
       "array([{'alpha': 0.01}, {'alpha': 0.1}, {'alpha': 1}, {'alpha': 0.01},\n",
       "       {'alpha': 0.1}, {'alpha': 1}], dtype=object)"
      ]
     },
     "metadata": {},
     "output_type": "display_data"
    },
    {
     "data": {
      "text/plain": [
       "array([0.06464646, 0.06502362, 0.06745534, 0.06779272, 0.06802481,\n",
       "       0.06948609])"
      ]
     },
     "metadata": {},
     "output_type": "display_data"
    },
    {
     "data": {
      "text/plain": [
       "array([0.01, 0.1 , 1.  , 0.01, 0.1 , 1.  ])"
      ]
     },
     "metadata": {},
     "output_type": "display_data"
    }
   ],
   "source": [
    "# Grid search hyperparameter and lags\n",
    "# ==============================================================================\n",
    "forecaster = ForecasterAutoreg(\n",
    "                regressor = Ridge(random_state=123),\n",
    "                lags      = 2 # Placeholder, the value will be overwritten\n",
    "             )\n",
    "\n",
    "steps = 3\n",
    "n_validation = 12\n",
    "y_train = y[:-n_validation]\n",
    "lags_grid = [2, 4]\n",
    "param_grid = {'alpha': [0.01, 0.1, 1]}\n",
    "\n",
    "results = grid_search_forecaster(\n",
    "                        forecaster  = forecaster,\n",
    "                        y           = y,\n",
    "                        lags_grid   = lags_grid,\n",
    "                        param_grid  = param_grid,\n",
    "                        steps       = steps,\n",
    "                        refit       = False,\n",
    "                        metric      = 'mean_squared_error',\n",
    "                        initial_train_size = len(y_train),\n",
    "                        fixed_train_size   = False,\n",
    "                        return_best = True,\n",
    "                        verbose     = False\n",
    "               )\n",
    "display(results)\n",
    "\n",
    "display(results.lags.values)\n",
    "display(results.params.values)\n",
    "display(results.metric.values)\n",
    "display(results.alpha.values)"
   ]
  },
  {
   "cell_type": "code",
   "execution_count": 4,
   "id": "5fd3320f",
   "metadata": {
    "ExecuteTime": {
     "end_time": "2022-04-14T12:50:56.210928Z",
     "start_time": "2022-04-14T12:50:56.153134Z"
    }
   },
   "outputs": [
    {
     "name": "stderr",
     "output_type": "stream",
     "text": [
      "/home/javi/anaconda3/envs/skforecast/lib/python3.8/site-packages/skforecast/model_selection/model_selection.py:1085: UserWarning: `lags_grid` ignored if forecaster is an instance of `ForecasterAutoregCustom`.\n",
      "  warnings.warn(\n"
     ]
    },
    {
     "name": "stdout",
     "output_type": "stream",
     "text": [
      "Number of models compared: 3\n"
     ]
    },
    {
     "name": "stderr",
     "output_type": "stream",
     "text": [
      "loop lags_grid:   0%|                                               | 0/1 [00:00<?, ?it/s]\n",
      "loop param_grid:   0%|                                              | 0/3 [00:00<?, ?it/s]\u001b[A\n",
      "loop lags_grid: 100%|███████████████████████████████████████| 1/1 [00:00<00:00, 31.41it/s]\u001b[A"
     ]
    },
    {
     "name": "stdout",
     "output_type": "stream",
     "text": [
      "`Forecaster` refitted using the best-found lags and parameters, and the whole data set: \n",
      "  Lags: custom predictors \n",
      "  Parameters: {'alpha': 0.01}\n",
      "  Backtesting metric: 0.06779271738965444\n",
      "\n"
     ]
    },
    {
     "name": "stderr",
     "output_type": "stream",
     "text": [
      "\n"
     ]
    },
    {
     "data": {
      "text/html": [
       "<div>\n",
       "<style scoped>\n",
       "    .dataframe tbody tr th:only-of-type {\n",
       "        vertical-align: middle;\n",
       "    }\n",
       "\n",
       "    .dataframe tbody tr th {\n",
       "        vertical-align: top;\n",
       "    }\n",
       "\n",
       "    .dataframe thead th {\n",
       "        text-align: right;\n",
       "    }\n",
       "</style>\n",
       "<table border=\"1\" class=\"dataframe\">\n",
       "  <thead>\n",
       "    <tr style=\"text-align: right;\">\n",
       "      <th></th>\n",
       "      <th>lags</th>\n",
       "      <th>params</th>\n",
       "      <th>metric</th>\n",
       "      <th>alpha</th>\n",
       "    </tr>\n",
       "  </thead>\n",
       "  <tbody>\n",
       "    <tr>\n",
       "      <th>0</th>\n",
       "      <td>custom predictors</td>\n",
       "      <td>{'alpha': 0.01}</td>\n",
       "      <td>0.067793</td>\n",
       "      <td>0.01</td>\n",
       "    </tr>\n",
       "    <tr>\n",
       "      <th>1</th>\n",
       "      <td>custom predictors</td>\n",
       "      <td>{'alpha': 0.1}</td>\n",
       "      <td>0.068025</td>\n",
       "      <td>0.10</td>\n",
       "    </tr>\n",
       "    <tr>\n",
       "      <th>2</th>\n",
       "      <td>custom predictors</td>\n",
       "      <td>{'alpha': 1}</td>\n",
       "      <td>0.069486</td>\n",
       "      <td>1.00</td>\n",
       "    </tr>\n",
       "  </tbody>\n",
       "</table>\n",
       "</div>"
      ],
      "text/plain": [
       "                lags           params    metric  alpha\n",
       "0  custom predictors  {'alpha': 0.01}  0.067793   0.01\n",
       "1  custom predictors   {'alpha': 0.1}  0.068025   0.10\n",
       "2  custom predictors     {'alpha': 1}  0.069486   1.00"
      ]
     },
     "metadata": {},
     "output_type": "display_data"
    },
    {
     "data": {
      "text/plain": [
       "array(['custom predictors', 'custom predictors', 'custom predictors'],\n",
       "      dtype=object)"
      ]
     },
     "metadata": {},
     "output_type": "display_data"
    },
    {
     "data": {
      "text/plain": [
       "array([{'alpha': 0.01}, {'alpha': 0.1}, {'alpha': 1}], dtype=object)"
      ]
     },
     "metadata": {},
     "output_type": "display_data"
    },
    {
     "data": {
      "text/plain": [
       "array([0.06779272, 0.06802481, 0.06948609])"
      ]
     },
     "metadata": {},
     "output_type": "display_data"
    },
    {
     "data": {
      "text/plain": [
       "array([0.01, 0.1 , 1.  ])"
      ]
     },
     "metadata": {},
     "output_type": "display_data"
    }
   ],
   "source": [
    "# Grid search hyperparameter and lags\n",
    "# ==============================================================================\n",
    "def create_predictors(y):\n",
    "    '''\n",
    "    Create first 4 lags of a time series.\n",
    "    '''\n",
    "    \n",
    "    lags = y[-1:-5:-1]\n",
    "    \n",
    "    return lags \n",
    "\n",
    "forecaster = ForecasterAutoregCustom(\n",
    "                    regressor      = Ridge(random_state=123),\n",
    "                    fun_predictors = create_predictors,\n",
    "                    window_size    = 4\n",
    "                )\n",
    "\n",
    "steps = 3\n",
    "n_validation = 12\n",
    "y_train = y[:-n_validation]\n",
    "param_grid = {'alpha': [0.01, 0.1, 1]}\n",
    "\n",
    "results = grid_search_forecaster(\n",
    "                        forecaster  = forecaster,\n",
    "                        y           = y,\n",
    "                        lags_grid   = lags_grid,\n",
    "                        param_grid  = param_grid,\n",
    "                        steps       = steps,\n",
    "                        refit       = False,\n",
    "                        metric      = 'mean_squared_error',\n",
    "                        initial_train_size = len(y_train),\n",
    "                        fixed_train_size   = False,\n",
    "                        return_best = True,\n",
    "                        verbose     = False\n",
    "               )\n",
    "display(results)\n",
    "\n",
    "display(results.lags.values)\n",
    "display(results.params.values)\n",
    "display(results.metric.values)\n",
    "display(results.alpha.values)"
   ]
  },
  {
   "cell_type": "code",
   "execution_count": 37,
   "id": "9288e71c",
   "metadata": {
    "ExecuteTime": {
     "end_time": "2022-04-14T14:37:08.680462Z",
     "start_time": "2022-04-14T14:37:08.676050Z"
    }
   },
   "outputs": [
    {
     "data": {
      "text/plain": [
       "[{'alpha': 0.01}, {'alpha': 0.1}, {'alpha': 1}]"
      ]
     },
     "execution_count": 37,
     "metadata": {},
     "output_type": "execute_result"
    }
   ],
   "source": [
    "from sklearn.model_selection import ParameterGrid\n",
    "\n",
    "param_grid = {'alpha': [0.01, 0.1, 1]}\n",
    "list(ParameterGrid(param_grid))"
   ]
  },
  {
   "cell_type": "code",
   "execution_count": 35,
   "id": "70f0a0b2",
   "metadata": {
    "ExecuteTime": {
     "end_time": "2022-04-14T14:34:03.387492Z",
     "start_time": "2022-04-14T14:34:03.373348Z"
    }
   },
   "outputs": [],
   "source": [
    "# test\n",
    "# ==============================================================================\n",
    "import numpy as np\n",
    "import pandas as pd\n",
    "\n",
    "from sklearn.metrics import mean_squared_error\n",
    "from sklearn.linear_model import Ridge\n",
    "\n",
    "from skforecast.ForecasterAutoreg import ForecasterAutoreg\n",
    "from skforecast.ForecasterAutoregCustom import ForecasterAutoregCustom\n",
    "from skforecast.model_selection.model_selection import grid_search_forecaster\n",
    "\n",
    "from tqdm import tqdm\n",
    "from functools import partialmethod\n",
    "tqdm.__init__ = partialmethod(tqdm.__init__, disable=True) # hide progress bar\n",
    "\n",
    "\n",
    "def test_output_evaluate_grid_hyperparameters_ForecasterAutoreg_with_mocked():\n",
    "    '''\n",
    "    Test output of _evaluate_grid_hyperparameters in ForecasterAutoreg with mocked\n",
    "    (mocked done in Skforecast v0.4.3)\n",
    "    '''\n",
    "    forecaster = ForecasterAutoreg(\n",
    "                    regressor = Ridge(random_state=123),\n",
    "                    lags      = 2 # Placeholder, the value will be overwritten\n",
    "                 )\n",
    "\n",
    "    steps = 3\n",
    "    n_validation = 12\n",
    "    y_train = y[:-n_validation]\n",
    "    lags_grid = [2, 4]\n",
    "    param_grid = {'alpha': [0.01, 0.1, 1]}\n",
    "    idx = len(lags_grid)*len(param_grid['alpha'])\n",
    "\n",
    "    results = grid_search_forecaster(\n",
    "                            forecaster  = forecaster,\n",
    "                            y           = y,\n",
    "                            lags_grid   = lags_grid,\n",
    "                            param_grid  = param_grid,\n",
    "                            steps       = steps,\n",
    "                            refit       = False,\n",
    "                            metric      = 'mean_squared_error',\n",
    "                            initial_train_size = len(y_train),\n",
    "                            fixed_train_size   = False,\n",
    "                            return_best = False,\n",
    "                            verbose     = False\n",
    "                   )\n",
    "    \n",
    "    expected_results = pd.DataFrame({\n",
    "            'lags'  :[[1, 2], [1, 2], [1, 2], [1, 2, 3, 4], [1, 2, 3, 4], [1, 2, 3, 4]],\n",
    "            'params':[{'alpha': 0.01}, {'alpha': 0.1}, {'alpha': 1}, {'alpha': 0.01}, {'alpha': 0.1}, {'alpha': 1}],\n",
    "            'metric':np.array([0.06464646, 0.06502362, 0.06745534, 0.06779272, 0.06802481, 0.06948609]),                                                               \n",
    "            'alpha' :np.array([0.01, 0.1 , 1.  , 0.01, 0.1 , 1.  ])\n",
    "                                     },\n",
    "            index=np.arange(idx)\n",
    "                                   )\n",
    "\n",
    "    pd.testing.assert_frame_equal(results, expected_results)\n",
    "    \n",
    "    \n",
    "def test_output_evaluate_grid_hyperparameters_ForecasterAutoregCustom_with_mocked():\n",
    "    '''\n",
    "    Test output of _evaluate_grid_hyperparameters in ForecasterAutoregCustom with mocked\n",
    "    (mocked done in Skforecast v0.4.3)\n",
    "    '''\n",
    "    def create_predictors(y):\n",
    "        '''\n",
    "        Create first 4 lags of a time series, used in ForecasterAutoregCustom.\n",
    "        '''\n",
    "\n",
    "        lags = y[-1:-5:-1]\n",
    "\n",
    "        return lags\n",
    "    \n",
    "    forecaster = ForecasterAutoregCustom(\n",
    "                        regressor      = Ridge(random_state=123),\n",
    "                        fun_predictors = create_predictors,\n",
    "                        window_size    = 4\n",
    "                    )\n",
    "\n",
    "    steps = 3\n",
    "    n_validation = 12\n",
    "    y_train = y[:-n_validation]\n",
    "    param_grid = {'alpha': [0.01, 0.1, 1]}\n",
    "    idx = len(param_grid['alpha'])\n",
    "\n",
    "    results = grid_search_forecaster(\n",
    "                            forecaster  = forecaster,\n",
    "                            y           = y,\n",
    "                            param_grid  = param_grid,\n",
    "                            steps       = steps,\n",
    "                            refit       = False,\n",
    "                            metric      = 'mean_squared_error',\n",
    "                            initial_train_size = len(y_train),\n",
    "                            fixed_train_size   = False,\n",
    "                            return_best = False,\n",
    "                            verbose     = False\n",
    "                   )\n",
    "    \n",
    "    expected_results = pd.DataFrame({\n",
    "            'lags'  :['custom predictors', 'custom predictors', 'custom predictors'],\n",
    "            'params':[{'alpha': 0.01}, {'alpha': 0.1}, {'alpha': 1}],\n",
    "            'metric':np.array([0.06779272, 0.06802481, 0.06948609]),                                                               \n",
    "            'alpha' :np.array([0.01, 0.1 , 1.])\n",
    "                                     },\n",
    "            index=np.arange(idx)\n",
    "                                   )\n",
    "    \n",
    "    pd.testing.assert_frame_equal(results, expected_results)\n",
    "    \n",
    "\n",
    "def test_evaluate_grid_hyperparameters_when_return_best():\n",
    "    '''\n",
    "    Test forecaster is refited when return_best=True in _evaluate_grid_hyperparameters\n",
    "    '''\n",
    "    forecaster = ForecasterAutoreg(\n",
    "                    regressor = Ridge(random_state=123),\n",
    "                    lags      = 2 # Placeholder, the value will be overwritten\n",
    "                 )\n",
    "\n",
    "    steps = 3\n",
    "    n_validation = 12\n",
    "    y_train = y[:-n_validation]\n",
    "    lags_grid = [2, 4]\n",
    "    param_grid = {'alpha': [0.01, 0.1, 1]}    \n",
    "\n",
    "    grid_search_forecaster(\n",
    "                            forecaster  = forecaster,\n",
    "                            y           = y,\n",
    "                            lags_grid   = lags_grid,\n",
    "                            param_grid  = param_grid,\n",
    "                            steps       = steps,\n",
    "                            refit       = False,\n",
    "                            metric      = 'mean_squared_error',\n",
    "                            initial_train_size = len(y_train),\n",
    "                            fixed_train_size   = False,\n",
    "                            return_best = True,\n",
    "                            verbose     = False\n",
    "                   )\n",
    "    \n",
    "    expected_lags = np.array([1, 2])\n",
    "    expected_alpha = 0.01\n",
    "    \n",
    "    assert (expected_lags == forecaster.lags).all()\n",
    "    assert expected_alpha == forecaster.regressor.alpha"
   ]
  },
  {
   "cell_type": "code",
   "execution_count": 36,
   "id": "6e61cd6d",
   "metadata": {
    "ExecuteTime": {
     "end_time": "2022-04-14T14:34:03.796486Z",
     "start_time": "2022-04-14T14:34:03.659242Z"
    }
   },
   "outputs": [
    {
     "name": "stdout",
     "output_type": "stream",
     "text": [
      "Number of models compared: 6\n",
      "Number of models compared: 3\n",
      "Number of models compared: 6\n",
      "`Forecaster` refitted using the best-found lags and parameters, and the whole data set: \n",
      "  Lags: [1 2] \n",
      "  Parameters: {'alpha': 0.01}\n",
      "  Backtesting metric: 0.06464646415433532\n",
      "\n"
     ]
    }
   ],
   "source": [
    "test_output_evaluate_grid_hyperparameters_ForecasterAutoreg_with_mocked()\n",
    "test_output_evaluate_grid_hyperparameters_ForecasterAutoregCustom_with_mocked()\n",
    "test_evaluate_grid_hyperparameters_when_return_best()"
   ]
  },
  {
   "cell_type": "markdown",
   "id": "765ece8c",
   "metadata": {},
   "source": [
    "## test new functions 0.5.0"
   ]
  },
  {
   "cell_type": "markdown",
   "id": "4a1cf786",
   "metadata": {},
   "source": [
    "### _evaluate_grid_hyperparameters"
   ]
  },
  {
   "cell_type": "code",
   "execution_count": null,
   "id": "c5833101",
   "metadata": {},
   "outputs": [],
   "source": [
    "# Unit test _evaluate_grid_hyperparameters\n",
    "# ==============================================================================\n",
    "import numpy as np\n",
    "import pandas as pd\n",
    "from sklearn.metrics import mean_squared_error\n",
    "from sklearn.linear_model import Ridge\n",
    "from skforecast.ForecasterAutoreg import ForecasterAutoreg\n",
    "from skforecast.ForecasterAutoregCustom import ForecasterAutoregCustom\n",
    "from skforecast.model_selection.model_selection import _evaluate_grid_hyperparameters\n",
    "\n",
    "from tqdm import tqdm\n",
    "from functools import partialmethod\n",
    "tqdm.__init__ = partialmethod(tqdm.__init__, disable=True) # hide progress bar\n",
    "\n",
    "# Fixtures _backtesting_forecaster_refit Series (skforecast==0.4.2)\n",
    "# np.random.seed(123)\n",
    "# y = np.random.rand(50)\n",
    "\n",
    "y = pd.Series(\n",
    "    np.array([0.69646919, 0.28613933, 0.22685145, 0.55131477, 0.71946897,\n",
    "              0.42310646, 0.9807642 , 0.68482974, 0.4809319 , 0.39211752,\n",
    "              0.34317802, 0.72904971, 0.43857224, 0.0596779 , 0.39804426,\n",
    "              0.73799541, 0.18249173, 0.17545176, 0.53155137, 0.53182759,\n",
    "              0.63440096, 0.84943179, 0.72445532, 0.61102351, 0.72244338,\n",
    "              0.32295891, 0.36178866, 0.22826323, 0.29371405, 0.63097612,\n",
    "              0.09210494, 0.43370117, 0.43086276, 0.4936851 , 0.42583029,\n",
    "              0.31226122, 0.42635131, 0.89338916, 0.94416002, 0.50183668,\n",
    "              0.62395295, 0.1156184 , 0.31728548, 0.41482621, 0.86630916,\n",
    "              0.25045537, 0.48303426, 0.98555979, 0.51948512, 0.61289453]))\n",
    "\n",
    "\n",
    "def test_output_evaluate_grid_hyperparameters_ForecasterAutoreg_with_mocked():\n",
    "    '''\n",
    "    Test output of _evaluate_grid_hyperparameters in ForecasterAutoreg with mocked\n",
    "    (mocked done in Skforecast v0.4.3)\n",
    "    '''\n",
    "    forecaster = ForecasterAutoreg(\n",
    "                    regressor = Ridge(random_state=123),\n",
    "                    lags      = 2 # Placeholder, the value will be overwritten\n",
    "                 )\n",
    "\n",
    "    steps = 3\n",
    "    n_validation = 12\n",
    "    y_train = y[:-n_validation]\n",
    "    lags_grid = [2, 4]\n",
    "    param_grid = [{'alpha': 0.01}, {'alpha': 0.1}, {'alpha': 1}]\n",
    "    idx = len(lags_grid)*len(param_grid)\n",
    "\n",
    "    results = _evaluate_grid_hyperparameters(\n",
    "                            forecaster  = forecaster,\n",
    "                            y           = y,\n",
    "                            lags_grid   = lags_grid,\n",
    "                            param_grid  = param_grid,\n",
    "                            steps       = steps,\n",
    "                            refit       = False,\n",
    "                            metric      = 'mean_squared_error',\n",
    "                            initial_train_size = len(y_train),\n",
    "                            fixed_train_size   = False,\n",
    "                            return_best = False,\n",
    "                            verbose     = False\n",
    "                             )\n",
    "    \n",
    "    expected_results = pd.DataFrame({\n",
    "            'lags'  :[[1, 2], [1, 2], [1, 2], [1, 2, 3, 4], [1, 2, 3, 4], [1, 2, 3, 4]],\n",
    "            'params':[{'alpha': 0.01}, {'alpha': 0.1}, {'alpha': 1}, {'alpha': 0.01}, {'alpha': 0.1}, {'alpha': 1}],\n",
    "            'metric':np.array([0.06464646, 0.06502362, 0.06745534, 0.06779272, 0.06802481, 0.06948609]),                                                               \n",
    "            'alpha' :np.array([0.01, 0.1 , 1.  , 0.01, 0.1 , 1.  ])\n",
    "                                     },\n",
    "            index=np.arange(idx)\n",
    "                                   )\n",
    "\n",
    "    pd.testing.assert_frame_equal(results, expected_results)\n",
    "    \n",
    "    \n",
    "def test_output_evaluate_grid_hyperparameters_ForecasterAutoregCustom_with_mocked():\n",
    "    '''\n",
    "    Test output of _evaluate_grid_hyperparameters in ForecasterAutoregCustom with mocked\n",
    "    (mocked done in Skforecast v0.4.3)\n",
    "    '''\n",
    "    def create_predictors(y):\n",
    "        '''\n",
    "        Create first 4 lags of a time series, used in ForecasterAutoregCustom.\n",
    "        '''\n",
    "\n",
    "        lags = y[-1:-5:-1]\n",
    "\n",
    "        return lags\n",
    "    \n",
    "    forecaster = ForecasterAutoregCustom(\n",
    "                        regressor      = Ridge(random_state=123),\n",
    "                        fun_predictors = create_predictors,\n",
    "                        window_size    = 4\n",
    "                    )\n",
    "\n",
    "    steps = 3\n",
    "    n_validation = 12\n",
    "    y_train = y[:-n_validation]\n",
    "    param_grid = [{'alpha': 0.01}, {'alpha': 0.1}, {'alpha': 1}]\n",
    "    idx = len(param_grid)\n",
    "\n",
    "    results = _evaluate_grid_hyperparameters(\n",
    "                            forecaster  = forecaster,\n",
    "                            y           = y,\n",
    "                            param_grid  = param_grid,\n",
    "                            steps       = steps,\n",
    "                            refit       = False,\n",
    "                            metric      = 'mean_squared_error',\n",
    "                            initial_train_size = len(y_train),\n",
    "                            fixed_train_size   = False,\n",
    "                            return_best = False,\n",
    "                            verbose     = False\n",
    "                            )\n",
    "    \n",
    "    expected_results = pd.DataFrame({\n",
    "            'lags'  :['custom predictors', 'custom predictors', 'custom predictors'],\n",
    "            'params':[{'alpha': 0.01}, {'alpha': 0.1}, {'alpha': 1}],\n",
    "            'metric':np.array([0.06779272, 0.06802481, 0.06948609]),                                                               \n",
    "            'alpha' :np.array([0.01, 0.1 , 1.])\n",
    "                                     },\n",
    "            index=np.arange(idx)\n",
    "                                   )\n",
    "    \n",
    "    pd.testing.assert_frame_equal(results, expected_results)\n",
    "    \n",
    "\n",
    "def test_evaluate_grid_hyperparameters_when_return_best():\n",
    "    '''\n",
    "    Test forecaster is refited when return_best=True in _evaluate_grid_hyperparameters\n",
    "    '''\n",
    "    forecaster = ForecasterAutoreg(\n",
    "                    regressor = Ridge(random_state=123),\n",
    "                    lags      = 2 # Placeholder, the value will be overwritten\n",
    "                 )\n",
    "\n",
    "    steps = 3\n",
    "    n_validation = 12\n",
    "    y_train = y[:-n_validation]\n",
    "    lags_grid = [2, 4]\n",
    "    param_grid = [{'alpha': 0.01}, {'alpha': 0.1}, {'alpha': 1}]\n",
    "\n",
    "    _evaluate_grid_hyperparameters(\n",
    "            forecaster  = forecaster,\n",
    "            y           = y,\n",
    "            lags_grid   = lags_grid,\n",
    "            param_grid  = param_grid,\n",
    "            steps       = steps,\n",
    "            refit       = False,\n",
    "            metric      = 'mean_squared_error',\n",
    "            initial_train_size = len(y_train),\n",
    "            fixed_train_size   = False,\n",
    "            return_best = True,\n",
    "            verbose     = False\n",
    "            )\n",
    "    \n",
    "    expected_lags = np.array([1, 2])\n",
    "    expected_alpha = 0.01\n",
    "    \n",
    "    assert (expected_lags == forecaster.lags).all()\n",
    "    assert expected_alpha == forecaster.regressor.alpha"
   ]
  },
  {
   "cell_type": "markdown",
   "id": "e6d2c5b9",
   "metadata": {},
   "source": [
    "### grid_search_forecaster"
   ]
  },
  {
   "cell_type": "code",
   "execution_count": 2,
   "id": "0eba1d53",
   "metadata": {
    "ExecuteTime": {
     "end_time": "2022-04-14T14:43:59.206956Z",
     "start_time": "2022-04-14T14:43:58.866205Z"
    }
   },
   "outputs": [
    {
     "data": {
      "text/plain": [
       "[{'alpha': 0.01}, {'alpha': 0.1}, {'alpha': 1}]"
      ]
     },
     "execution_count": 2,
     "metadata": {},
     "output_type": "execute_result"
    }
   ],
   "source": [
    "from sklearn.model_selection import ParameterGrid\n",
    "\n",
    "param_grid = {'alpha': [0.01, 0.1, 1]}\n",
    "list(ParameterGrid(param_grid))"
   ]
  },
  {
   "cell_type": "code",
   "execution_count": 12,
   "id": "069523ae",
   "metadata": {
    "ExecuteTime": {
     "end_time": "2022-04-14T15:00:37.161839Z",
     "start_time": "2022-04-14T15:00:37.140640Z"
    }
   },
   "outputs": [],
   "source": [
    "# Unit test grid_search_forecaster\n",
    "# ==============================================================================\n",
    "import numpy as np\n",
    "import pandas as pd\n",
    "from sklearn.metrics import mean_squared_error\n",
    "from sklearn.linear_model import Ridge\n",
    "from skforecast.ForecasterAutoreg import ForecasterAutoreg\n",
    "from skforecast.model_selection import grid_search_forecaster\n",
    "\n",
    "from tqdm import tqdm\n",
    "from functools import partialmethod\n",
    "tqdm.__init__ = partialmethod(tqdm.__init__, disable=True) # hide progress bar\n",
    "\n",
    "# Fixtures _backtesting_forecaster_refit Series (skforecast==0.4.2)\n",
    "# np.random.seed(123)\n",
    "# y = np.random.rand(50)\n",
    "\n",
    "y = pd.Series(\n",
    "    np.array([0.69646919, 0.28613933, 0.22685145, 0.55131477, 0.71946897,\n",
    "              0.42310646, 0.9807642 , 0.68482974, 0.4809319 , 0.39211752,\n",
    "              0.34317802, 0.72904971, 0.43857224, 0.0596779 , 0.39804426,\n",
    "              0.73799541, 0.18249173, 0.17545176, 0.53155137, 0.53182759,\n",
    "              0.63440096, 0.84943179, 0.72445532, 0.61102351, 0.72244338,\n",
    "              0.32295891, 0.36178866, 0.22826323, 0.29371405, 0.63097612,\n",
    "              0.09210494, 0.43370117, 0.43086276, 0.4936851 , 0.42583029,\n",
    "              0.31226122, 0.42635131, 0.89338916, 0.94416002, 0.50183668,\n",
    "              0.62395295, 0.1156184 , 0.31728548, 0.41482621, 0.86630916,\n",
    "              0.25045537, 0.48303426, 0.98555979, 0.51948512, 0.61289453]))\n",
    "\n",
    "def test_output_grid_search_forecaster_ForecasterAutoreg_with_mocked():\n",
    "    '''\n",
    "    Test output of grid_search_forecaster in ForecasterAutoreg with mocked\n",
    "    (mocked done in Skforecast v0.4.3)\n",
    "    '''\n",
    "    forecaster = ForecasterAutoreg(\n",
    "                    regressor = Ridge(random_state=123),\n",
    "                    lags      = 2 # Placeholder, the value will be overwritten\n",
    "                 )\n",
    "\n",
    "    steps = 3\n",
    "    n_validation = 12\n",
    "    y_train = y[:-n_validation]\n",
    "    lags_grid = [2, 4]\n",
    "    param_grid = {'alpha': [0.01, 0.1, 1]}\n",
    "    idx = len(lags_grid)*len(param_grid['alpha'])\n",
    "\n",
    "    results = grid_search_forecaster(\n",
    "                            forecaster  = forecaster,\n",
    "                            y           = y,\n",
    "                            lags_grid   = lags_grid,\n",
    "                            param_grid  = param_grid,\n",
    "                            steps       = steps,\n",
    "                            refit       = False,\n",
    "                            metric      = 'mean_squared_error',\n",
    "                            initial_train_size = len(y_train),\n",
    "                            fixed_train_size   = False,\n",
    "                            return_best = False,\n",
    "                            verbose     = False\n",
    "                            )\n",
    "    \n",
    "    expected_results = pd.DataFrame({\n",
    "            'lags'  :[[1, 2], [1, 2], [1, 2], [1, 2, 3, 4], [1, 2, 3, 4], [1, 2, 3, 4]],\n",
    "            'params':[{'alpha': 0.01}, {'alpha': 0.1}, {'alpha': 1}, {'alpha': 0.01}, {'alpha': 0.1}, {'alpha': 1}],\n",
    "            'metric':np.array([0.06464646, 0.06502362, 0.06745534, 0.06779272, 0.06802481, 0.06948609]),                                                               \n",
    "            'alpha' :np.array([0.01, 0.1 , 1.  , 0.01, 0.1 , 1.  ])\n",
    "                                     },\n",
    "            index=np.arange(idx)\n",
    "                                   )\n",
    "\n",
    "    pd.testing.assert_frame_equal(results, expected_results)"
   ]
  },
  {
   "cell_type": "code",
   "execution_count": 13,
   "id": "7a393141",
   "metadata": {
    "ExecuteTime": {
     "end_time": "2022-04-14T15:00:38.232320Z",
     "start_time": "2022-04-14T15:00:38.167314Z"
    }
   },
   "outputs": [
    {
     "name": "stdout",
     "output_type": "stream",
     "text": [
      "Number of models compared: 6\n"
     ]
    }
   ],
   "source": [
    "test_output_grid_search_forecaster_ForecasterAutoreg_with_mocked()"
   ]
  },
  {
   "cell_type": "markdown",
   "id": "d72d14cb",
   "metadata": {},
   "source": [
    "### random_search_forecaster"
   ]
  },
  {
   "cell_type": "code",
   "execution_count": 9,
   "id": "fe0617d0",
   "metadata": {
    "ExecuteTime": {
     "end_time": "2022-04-14T14:54:48.102091Z",
     "start_time": "2022-04-14T14:54:48.087306Z"
    }
   },
   "outputs": [
    {
     "name": "stdout",
     "output_type": "stream",
     "text": [
      "[{'alpha': 0.03593813663804626}, {'alpha': 1e-05}, {'alpha': 16.681005372000556}]\n"
     ]
    }
   ],
   "source": [
    "from sklearn.model_selection import ParameterSampler\n",
    "\n",
    "\n",
    "param_grid = {'alpha':np.logspace(-5, 3, 10)}\n",
    "param_list = list(ParameterSampler(param_grid, n_iter=3, random_state=123))\n",
    "\n",
    "print(param_list)"
   ]
  },
  {
   "cell_type": "code",
   "execution_count": 11,
   "id": "9c892c6c",
   "metadata": {
    "ExecuteTime": {
     "end_time": "2022-04-14T14:55:34.212059Z",
     "start_time": "2022-04-14T14:55:34.136260Z"
    }
   },
   "outputs": [
    {
     "name": "stdout",
     "output_type": "stream",
     "text": [
      "Number of models compared: 6\n"
     ]
    },
    {
     "data": {
      "text/html": [
       "<div>\n",
       "<style scoped>\n",
       "    .dataframe tbody tr th:only-of-type {\n",
       "        vertical-align: middle;\n",
       "    }\n",
       "\n",
       "    .dataframe tbody tr th {\n",
       "        vertical-align: top;\n",
       "    }\n",
       "\n",
       "    .dataframe thead th {\n",
       "        text-align: right;\n",
       "    }\n",
       "</style>\n",
       "<table border=\"1\" class=\"dataframe\">\n",
       "  <thead>\n",
       "    <tr style=\"text-align: right;\">\n",
       "      <th></th>\n",
       "      <th>lags</th>\n",
       "      <th>params</th>\n",
       "      <th>metric</th>\n",
       "      <th>alpha</th>\n",
       "    </tr>\n",
       "  </thead>\n",
       "  <tbody>\n",
       "    <tr>\n",
       "      <th>1</th>\n",
       "      <td>[1, 2]</td>\n",
       "      <td>{'alpha': 1e-05}</td>\n",
       "      <td>0.064602</td>\n",
       "      <td>0.000010</td>\n",
       "    </tr>\n",
       "    <tr>\n",
       "      <th>0</th>\n",
       "      <td>[1, 2]</td>\n",
       "      <td>{'alpha': 0.03593813663804626}</td>\n",
       "      <td>0.064759</td>\n",
       "      <td>0.035938</td>\n",
       "    </tr>\n",
       "    <tr>\n",
       "      <th>4</th>\n",
       "      <td>[1, 2, 3, 4]</td>\n",
       "      <td>{'alpha': 1e-05}</td>\n",
       "      <td>0.067766</td>\n",
       "      <td>0.000010</td>\n",
       "    </tr>\n",
       "    <tr>\n",
       "      <th>3</th>\n",
       "      <td>[1, 2, 3, 4]</td>\n",
       "      <td>{'alpha': 0.03593813663804626}</td>\n",
       "      <td>0.067861</td>\n",
       "      <td>0.035938</td>\n",
       "    </tr>\n",
       "    <tr>\n",
       "      <th>5</th>\n",
       "      <td>[1, 2, 3, 4]</td>\n",
       "      <td>{'alpha': 16.681005372000556}</td>\n",
       "      <td>0.071348</td>\n",
       "      <td>16.681005</td>\n",
       "    </tr>\n",
       "    <tr>\n",
       "      <th>2</th>\n",
       "      <td>[1, 2]</td>\n",
       "      <td>{'alpha': 16.681005372000556}</td>\n",
       "      <td>0.071610</td>\n",
       "      <td>16.681005</td>\n",
       "    </tr>\n",
       "  </tbody>\n",
       "</table>\n",
       "</div>"
      ],
      "text/plain": [
       "           lags                          params    metric      alpha\n",
       "1        [1, 2]                {'alpha': 1e-05}  0.064602   0.000010\n",
       "0        [1, 2]  {'alpha': 0.03593813663804626}  0.064759   0.035938\n",
       "4  [1, 2, 3, 4]                {'alpha': 1e-05}  0.067766   0.000010\n",
       "3  [1, 2, 3, 4]  {'alpha': 0.03593813663804626}  0.067861   0.035938\n",
       "5  [1, 2, 3, 4]   {'alpha': 16.681005372000556}  0.071348  16.681005\n",
       "2        [1, 2]   {'alpha': 16.681005372000556}  0.071610  16.681005"
      ]
     },
     "metadata": {},
     "output_type": "display_data"
    },
    {
     "data": {
      "text/plain": [
       "array([array([1, 2]), array([1, 2]), array([1, 2, 3, 4]),\n",
       "       array([1, 2, 3, 4]), array([1, 2, 3, 4]), array([1, 2])],\n",
       "      dtype=object)"
      ]
     },
     "metadata": {},
     "output_type": "display_data"
    },
    {
     "data": {
      "text/plain": [
       "array([{'alpha': 1e-05}, {'alpha': 0.03593813663804626}, {'alpha': 1e-05},\n",
       "       {'alpha': 0.03593813663804626}, {'alpha': 16.681005372000556},\n",
       "       {'alpha': 16.681005372000556}], dtype=object)"
      ]
     },
     "metadata": {},
     "output_type": "display_data"
    },
    {
     "data": {
      "text/plain": [
       "array([0.06460234, 0.06475887, 0.06776596, 0.06786132, 0.0713478 ,\n",
       "       0.07161   ])"
      ]
     },
     "metadata": {},
     "output_type": "display_data"
    },
    {
     "data": {
      "text/plain": [
       "array([1.00000000e-05, 3.59381366e-02, 1.00000000e-05, 3.59381366e-02,\n",
       "       1.66810054e+01, 1.66810054e+01])"
      ]
     },
     "metadata": {},
     "output_type": "display_data"
    }
   ],
   "source": [
    "# Grid search hyperparameter and lags mocked random search\n",
    "# ==============================================================================\n",
    "forecaster = ForecasterAutoreg(\n",
    "                regressor = Ridge(random_state=123),\n",
    "                lags      = 2 # Placeholder, the value will be overwritten\n",
    "             )\n",
    "\n",
    "steps = 3\n",
    "n_validation = 12\n",
    "y_train = y[:-n_validation]\n",
    "lags_grid = [2, 4]\n",
    "param_grid = {'alpha': [0.03593813663804626, 1e-05, 16.681005372000556]}\n",
    "\n",
    "results = grid_search_forecaster(\n",
    "                        forecaster  = forecaster,\n",
    "                        y           = y,\n",
    "                        lags_grid   = lags_grid,\n",
    "                        param_grid  = param_grid,\n",
    "                        steps       = steps,\n",
    "                        refit       = False,\n",
    "                        metric      = 'mean_squared_error',\n",
    "                        initial_train_size = len(y_train),\n",
    "                        fixed_train_size   = False,\n",
    "                        return_best = False,\n",
    "                        verbose     = False\n",
    "                        )\n",
    "display(results)\n",
    "\n",
    "display(results.lags.values)\n",
    "display(results.params.values)\n",
    "display(results.metric.values)\n",
    "display(results.alpha.values)"
   ]
  },
  {
   "cell_type": "code",
   "execution_count": 20,
   "id": "a47a9b60",
   "metadata": {
    "ExecuteTime": {
     "end_time": "2022-04-14T15:02:40.775020Z",
     "start_time": "2022-04-14T15:02:40.754702Z"
    }
   },
   "outputs": [],
   "source": [
    "# Unit test random_search_forecaster\n",
    "# ==============================================================================\n",
    "import numpy as np\n",
    "import pandas as pd\n",
    "from sklearn.metrics import mean_squared_error\n",
    "from sklearn.linear_model import Ridge\n",
    "from skforecast.ForecasterAutoreg import ForecasterAutoreg\n",
    "from skforecast.model_selection import random_search_forecaster\n",
    "\n",
    "from tqdm import tqdm\n",
    "from functools import partialmethod\n",
    "tqdm.__init__ = partialmethod(tqdm.__init__, disable=True) # hide progress bar\n",
    "\n",
    "# Fixtures _backtesting_forecaster_refit Series (skforecast==0.4.2)\n",
    "# np.random.seed(123)\n",
    "# y = np.random.rand(50)\n",
    "\n",
    "y = pd.Series(\n",
    "    np.array([0.69646919, 0.28613933, 0.22685145, 0.55131477, 0.71946897,\n",
    "              0.42310646, 0.9807642 , 0.68482974, 0.4809319 , 0.39211752,\n",
    "              0.34317802, 0.72904971, 0.43857224, 0.0596779 , 0.39804426,\n",
    "              0.73799541, 0.18249173, 0.17545176, 0.53155137, 0.53182759,\n",
    "              0.63440096, 0.84943179, 0.72445532, 0.61102351, 0.72244338,\n",
    "              0.32295891, 0.36178866, 0.22826323, 0.29371405, 0.63097612,\n",
    "              0.09210494, 0.43370117, 0.43086276, 0.4936851 , 0.42583029,\n",
    "              0.31226122, 0.42635131, 0.89338916, 0.94416002, 0.50183668,\n",
    "              0.62395295, 0.1156184 , 0.31728548, 0.41482621, 0.86630916,\n",
    "              0.25045537, 0.48303426, 0.98555979, 0.51948512, 0.61289453]))\n",
    "\n",
    "def test_output_random_search_forecaster_ForecasterAutoreg_with_mocked():\n",
    "    '''\n",
    "    Test output of random_search_forecaster in ForecasterAutoreg with mocked\n",
    "    (mocked done in Skforecast v0.4.3)\n",
    "    '''\n",
    "    forecaster = ForecasterAutoreg(\n",
    "                    regressor = Ridge(random_state=123),\n",
    "                    lags      = 2 # Placeholder, the value will be overwritten\n",
    "                 )\n",
    "\n",
    "    steps = 3\n",
    "    n_validation = 12\n",
    "    y_train = y[:-n_validation]\n",
    "    lags_grid = [2, 4]\n",
    "    param_distributions = {'alpha':np.logspace(-5, 3, 10)}\n",
    "    n_iter = 3\n",
    "\n",
    "    results = random_search_forecaster(\n",
    "                        forecaster   = forecaster,\n",
    "                        y            = y,\n",
    "                        lags_grid    = lags_grid,\n",
    "                        param_distributions  = param_distributions,\n",
    "                        steps        = steps,\n",
    "                        refit        = False,\n",
    "                        metric       = 'mean_squared_error',\n",
    "                        initial_train_size = len(y_train),\n",
    "                        fixed_train_size   = False,\n",
    "                        n_iter       = n_iter,\n",
    "                        random_state = 123,\n",
    "                        return_best  = False,\n",
    "                        verbose      = False\n",
    "                        )\n",
    "    \n",
    "    expected_results = pd.DataFrame({\n",
    "            'lags'  :[[1, 2], [1, 2], [1, 2, 3, 4], [1, 2, 3, 4], [1, 2, 3, 4], [1, 2]],\n",
    "            'params':[{'alpha': 1e-05}, {'alpha': 0.03593813663804626}, {'alpha': 1e-05},\n",
    "                      {'alpha': 0.03593813663804626}, {'alpha': 16.681005372000556}, {'alpha': 16.681005372000556}],\n",
    "            'metric':np.array([0.06460234, 0.06475887, 0.06776596, \n",
    "                               0.06786132, 0.0713478, 0.07161]),                                                               \n",
    "            'alpha' :np.array([1.00000000e-05, 3.59381366e-02, 1.00000000e-05, \n",
    "                               3.59381366e-02, 1.66810054e+01, 1.66810054e+01])\n",
    "                                     },\n",
    "            index=[1, 0, 4, 3, 5, 2]\n",
    "                                   )\n",
    "\n",
    "    pd.testing.assert_frame_equal(results, expected_results)"
   ]
  },
  {
   "cell_type": "code",
   "execution_count": 21,
   "id": "8936e47b",
   "metadata": {
    "ExecuteTime": {
     "end_time": "2022-04-14T15:02:41.480005Z",
     "start_time": "2022-04-14T15:02:41.414832Z"
    }
   },
   "outputs": [
    {
     "name": "stdout",
     "output_type": "stream",
     "text": [
      "Number of models compared: 6\n"
     ]
    }
   ],
   "source": [
    "test_output_random_search_forecaster_ForecasterAutoreg_with_mocked()"
   ]
  },
  {
   "cell_type": "code",
   "execution_count": null,
   "id": "ba2dbf89",
   "metadata": {},
   "outputs": [],
   "source": []
  }
 ],
 "metadata": {
  "kernelspec": {
   "display_name": "skforecast",
   "language": "python",
   "name": "skforecast"
  },
  "language_info": {
   "codemirror_mode": {
    "name": "ipython",
    "version": 3
   },
   "file_extension": ".py",
   "mimetype": "text/x-python",
   "name": "python",
   "nbconvert_exporter": "python",
   "pygments_lexer": "ipython3",
   "version": "3.8.0"
  },
  "toc": {
   "base_numbering": 1,
   "nav_menu": {},
   "number_sections": true,
   "sideBar": true,
   "skip_h1_title": false,
   "title_cell": "Table of Contents",
   "title_sidebar": "Contents",
   "toc_cell": false,
   "toc_position": {
    "height": "calc(100% - 180px)",
    "left": "10px",
    "top": "150px",
    "width": "369.6px"
   },
   "toc_section_display": true,
   "toc_window_display": false
  },
  "varInspector": {
   "cols": {
    "lenName": 16,
    "lenType": 16,
    "lenVar": 40
   },
   "kernels_config": {
    "python": {
     "delete_cmd_postfix": "",
     "delete_cmd_prefix": "del ",
     "library": "var_list.py",
     "varRefreshCmd": "print(var_dic_list())"
    },
    "r": {
     "delete_cmd_postfix": ") ",
     "delete_cmd_prefix": "rm(",
     "library": "var_list.r",
     "varRefreshCmd": "cat(var_dic_list()) "
    }
   },
   "types_to_exclude": [
    "module",
    "function",
    "builtin_function_or_method",
    "instance",
    "_Feature"
   ],
   "window_display": false
  }
 },
 "nbformat": 4,
 "nbformat_minor": 5
}
