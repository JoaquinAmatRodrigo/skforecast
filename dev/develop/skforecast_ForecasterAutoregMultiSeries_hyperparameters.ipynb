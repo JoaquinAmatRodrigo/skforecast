{
 "cells": [
  {
   "cell_type": "code",
   "execution_count": 1,
   "id": "db23d0e2",
   "metadata": {
    "ExecuteTime": {
     "end_time": "2022-06-06T13:37:45.852800Z",
     "start_time": "2022-06-06T13:37:45.806963Z"
    }
   },
   "outputs": [],
   "source": [
    "%load_ext autoreload\n",
    "%autoreload 2\n",
    "import sys\n",
    "from pathlib import Path\n",
    "sys.path.insert(1, str(Path.cwd().parent.parent))\n",
    "%config Completer.use_jedi = False"
   ]
  },
  {
   "cell_type": "code",
   "execution_count": 11,
   "id": "920eb698",
   "metadata": {
    "ExecuteTime": {
     "end_time": "2022-06-06T13:40:25.747424Z",
     "start_time": "2022-06-06T13:40:25.676809Z"
    }
   },
   "outputs": [],
   "source": [
    "## ForecasterAutoregMultiSeries\n",
    "# ==============================================================================\n",
    "import numpy as np\n",
    "import pandas as pd\n",
    "\n",
    "from skforecast.ForecasterAutoregMultiSeries import ForecasterAutoregMultiSeries\n",
    "from skforecast.model_selection_multiseries import backtesting_forecaster_multiseries\n",
    "from skforecast.model_selection_multiseries.model_selection_multiseries import _evaluate_grid_hyperparameters_multiseries\n",
    "\n",
    "from sklearn.model_selection import ParameterGrid\n",
    "from sklearn.linear_model import LinearRegression\n",
    "from sklearn.ensemble import RandomForestRegressor"
   ]
  },
  {
   "cell_type": "markdown",
   "id": "3c4ece95",
   "metadata": {},
   "source": [
    "## ForecasterAutoregMultiSeries"
   ]
  },
  {
   "cell_type": "code",
   "execution_count": 15,
   "id": "cd38c4f4",
   "metadata": {
    "ExecuteTime": {
     "end_time": "2022-06-06T13:46:16.334064Z",
     "start_time": "2022-06-06T13:46:16.265919Z"
    }
   },
   "outputs": [
    {
     "name": "stdout",
     "output_type": "stream",
     "text": [
      "(20, 4)\n"
     ]
    },
    {
     "data": {
      "text/html": [
       "<div>\n",
       "<style scoped>\n",
       "    .dataframe tbody tr th:only-of-type {\n",
       "        vertical-align: middle;\n",
       "    }\n",
       "\n",
       "    .dataframe tbody tr th {\n",
       "        vertical-align: top;\n",
       "    }\n",
       "\n",
       "    .dataframe thead th {\n",
       "        text-align: right;\n",
       "    }\n",
       "</style>\n",
       "<table border=\"1\" class=\"dataframe\">\n",
       "  <thead>\n",
       "    <tr style=\"text-align: right;\">\n",
       "      <th></th>\n",
       "      <th>s1</th>\n",
       "      <th>s2</th>\n",
       "      <th>exog_1</th>\n",
       "      <th>exog_2</th>\n",
       "    </tr>\n",
       "    <tr>\n",
       "      <th>date</th>\n",
       "      <th></th>\n",
       "      <th></th>\n",
       "      <th></th>\n",
       "      <th></th>\n",
       "    </tr>\n",
       "  </thead>\n",
       "  <tbody>\n",
       "    <tr>\n",
       "      <th>2022-01-18</th>\n",
       "      <td>0.553970</td>\n",
       "      <td>0.635592</td>\n",
       "      <td>0.107618</td>\n",
       "      <td>0.835754</td>\n",
       "    </tr>\n",
       "    <tr>\n",
       "      <th>2022-01-19</th>\n",
       "      <td>0.951948</td>\n",
       "      <td>0.809366</td>\n",
       "      <td>0.780165</td>\n",
       "      <td>0.643191</td>\n",
       "    </tr>\n",
       "    <tr>\n",
       "      <th>2022-01-20</th>\n",
       "      <td>0.947452</td>\n",
       "      <td>0.868955</td>\n",
       "      <td>0.750736</td>\n",
       "      <td>0.155978</td>\n",
       "    </tr>\n",
       "  </tbody>\n",
       "</table>\n",
       "</div>"
      ],
      "text/plain": [
       "                  s1        s2    exog_1    exog_2\n",
       "date                                              \n",
       "2022-01-18  0.553970  0.635592  0.107618  0.835754\n",
       "2022-01-19  0.951948  0.809366  0.780165  0.643191\n",
       "2022-01-20  0.947452  0.868955  0.750736  0.155978"
      ]
     },
     "execution_count": 15,
     "metadata": {},
     "output_type": "execute_result"
    }
   ],
   "source": [
    "y_1 = pd.Series(np.random.rand(20))\n",
    "y_2 = pd.Series(np.random.rand(20))\n",
    "exog_1 = pd.Series(np.random.rand(20))\n",
    "exog_2 = pd.Series(np.random.rand(20))\n",
    "\n",
    "df = pd.DataFrame({'s1': y_1, 's2': y_2, 'exog_1': exog_1, 'exog_2': exog_2,\n",
    "                   'date':pd.date_range(start='2022-01-01', periods=20, freq='1D')})\n",
    "\n",
    "df = df.set_index('date')\n",
    "df = df.asfreq('1D')\n",
    "df = df.sort_index()\n",
    "\n",
    "max_lag=3\n",
    "lags=np.array([1,2,3])\n",
    "\n",
    "print(df.shape)\n",
    "df.tail(3)"
   ]
  },
  {
   "cell_type": "code",
   "execution_count": 16,
   "id": "7bdb6e3f",
   "metadata": {
    "ExecuteTime": {
     "end_time": "2022-06-06T13:46:17.046760Z",
     "start_time": "2022-06-06T13:46:16.976722Z"
    }
   },
   "outputs": [
    {
     "data": {
      "text/plain": [
       "============================ \n",
       "ForecasterAutoregMultiSeries \n",
       "============================ \n",
       "Regressor: LinearRegression() \n",
       "Lags: [1 2 3] \n",
       "Window size: 3 \n",
       "Included exogenous: True \n",
       "Type of exogenous variable: <class 'pandas.core.frame.DataFrame'> \n",
       "Exogenous variables names: ['exog_1', 'exog_2'] \n",
       "Training range: [Timestamp('2022-01-01 00:00:00'), Timestamp('2022-01-20 00:00:00')] \n",
       "Training index type: DatetimeIndex \n",
       "Training index frequency: D \n",
       "Regressor parameters: {'copy_X': True, 'fit_intercept': True, 'n_jobs': None, 'normalize': 'deprecated', 'positive': False} \n",
       "Creation date: 2022-06-06 15:46:17 \n",
       "Last fit date: 2022-06-06 15:46:17 \n",
       "Skforecast version: 0.5.dev1 "
      ]
     },
     "execution_count": 16,
     "metadata": {},
     "output_type": "execute_result"
    }
   ],
   "source": [
    "# Create and fit forecaster\n",
    "# ==============================================================================\n",
    "forecaster = ForecasterAutoregMultiSeries(\n",
    "                    regressor = LinearRegression(),\n",
    "                    lags      = 3\n",
    "             )\n",
    "\n",
    "forecaster.fit(\n",
    "    series = df[['s1', 's2']],\n",
    "    exog   = df[['exog_1', 'exog_2']]\n",
    ")\n",
    "\n",
    "forecaster"
   ]
  },
  {
   "cell_type": "code",
   "execution_count": 17,
   "id": "7fdf929a",
   "metadata": {
    "ExecuteTime": {
     "end_time": "2022-06-06T13:46:17.433568Z",
     "start_time": "2022-06-06T13:46:17.372160Z"
    }
   },
   "outputs": [
    {
     "name": "stdout",
     "output_type": "stream",
     "text": [
      "s2\n"
     ]
    },
    {
     "data": {
      "text/plain": [
       "2022-01-21    0.438949\n",
       "2022-01-22    0.565801\n",
       "2022-01-23    0.561593\n",
       "Freq: D, Name: pred, dtype: float64"
      ]
     },
     "execution_count": 17,
     "metadata": {},
     "output_type": "execute_result"
    }
   ],
   "source": [
    "# Predict\n",
    "# ==============================================================================\n",
    "steps = 3\n",
    "exog_1_test = pd.Series(np.random.rand(steps))\n",
    "exog_2_test = pd.Series(np.random.rand(steps))\n",
    "\n",
    "df_test = pd.DataFrame({'exog_1': exog_1_test, 'exog_2': exog_2_test,\n",
    "                        'date':pd.date_range(start=df.index[-1], periods=steps, freq='1D')})\n",
    "\n",
    "df_test = df_test.set_index('date')\n",
    "df_test = df_test.asfreq('1D')\n",
    "df_test = df_test.sort_index()\n",
    "\n",
    "predictions = forecaster.predict(\n",
    "                steps = steps,\n",
    "                level = 's2',\n",
    "                exog = df_test[['exog_1', 'exog_2']]\n",
    "              )\n",
    "\n",
    "print(forecaster.level)\n",
    "predictions"
   ]
  },
  {
   "cell_type": "code",
   "execution_count": 18,
   "id": "41f5a437",
   "metadata": {
    "ExecuteTime": {
     "end_time": "2022-06-06T13:46:18.760172Z",
     "start_time": "2022-06-06T13:46:18.567672Z"
    }
   },
   "outputs": [
    {
     "name": "stdout",
     "output_type": "stream",
     "text": [
      "s2\n"
     ]
    },
    {
     "data": {
      "text/html": [
       "<div>\n",
       "<style scoped>\n",
       "    .dataframe tbody tr th:only-of-type {\n",
       "        vertical-align: middle;\n",
       "    }\n",
       "\n",
       "    .dataframe tbody tr th {\n",
       "        vertical-align: top;\n",
       "    }\n",
       "\n",
       "    .dataframe thead th {\n",
       "        text-align: right;\n",
       "    }\n",
       "</style>\n",
       "<table border=\"1\" class=\"dataframe\">\n",
       "  <thead>\n",
       "    <tr style=\"text-align: right;\">\n",
       "      <th></th>\n",
       "      <th>pred</th>\n",
       "      <th>lower_bound</th>\n",
       "      <th>upper_bound</th>\n",
       "    </tr>\n",
       "  </thead>\n",
       "  <tbody>\n",
       "    <tr>\n",
       "      <th>2022-01-21</th>\n",
       "      <td>0.438949</td>\n",
       "      <td>0.041156</td>\n",
       "      <td>0.837512</td>\n",
       "    </tr>\n",
       "    <tr>\n",
       "      <th>2022-01-22</th>\n",
       "      <td>0.565801</td>\n",
       "      <td>0.173634</td>\n",
       "      <td>0.946079</td>\n",
       "    </tr>\n",
       "    <tr>\n",
       "      <th>2022-01-23</th>\n",
       "      <td>0.561593</td>\n",
       "      <td>0.167460</td>\n",
       "      <td>0.948181</td>\n",
       "    </tr>\n",
       "  </tbody>\n",
       "</table>\n",
       "</div>"
      ],
      "text/plain": [
       "                pred  lower_bound  upper_bound\n",
       "2022-01-21  0.438949     0.041156     0.837512\n",
       "2022-01-22  0.565801     0.173634     0.946079\n",
       "2022-01-23  0.561593     0.167460     0.948181"
      ]
     },
     "execution_count": 18,
     "metadata": {},
     "output_type": "execute_result"
    }
   ],
   "source": [
    "# Predict interval\n",
    "# ==============================================================================\n",
    "predictions = forecaster.predict_interval(\n",
    "                steps = steps,\n",
    "                level = 's2',\n",
    "                exog = df_test[['exog_1', 'exog_2']]\n",
    "              )\n",
    "\n",
    "print(forecaster.level)\n",
    "predictions"
   ]
  },
  {
   "cell_type": "code",
   "execution_count": 19,
   "id": "578e5024",
   "metadata": {
    "ExecuteTime": {
     "end_time": "2022-06-06T13:46:20.290463Z",
     "start_time": "2022-06-06T13:46:20.217123Z"
    }
   },
   "outputs": [
    {
     "name": "stdout",
     "output_type": "stream",
     "text": [
      "Information of backtesting process\n",
      "----------------------------------\n",
      "Number of observations used for initial training: 12\n",
      "Number of observations used for backtesting: 8\n",
      "    Number of folds: 2\n",
      "    Number of steps per fold: 4\n",
      "\n",
      "Data partition in fold: 0\n",
      "    Training:   2022-01-01 00:00:00 -- 2022-01-12 00:00:00  (n=12)\n",
      "    Validation: 2022-01-13 00:00:00 -- 2022-01-16 00:00:00  (n=4)\n",
      "Data partition in fold: 1\n",
      "    Training:   2022-01-05 00:00:00 -- 2022-01-16 00:00:00  (n=12)\n",
      "    Validation: 2022-01-17 00:00:00 -- 2022-01-20 00:00:00  (n=4)\n",
      "\n"
     ]
    },
    {
     "data": {
      "text/plain": [
       "(0.11641854659291993,\n",
       "                 pred\n",
       " 2022-01-13  0.452132\n",
       " 2022-01-14  0.265883\n",
       " 2022-01-15  0.296377\n",
       " 2022-01-16  0.371779\n",
       " 2022-01-17  0.377557\n",
       " 2022-01-18  0.375606\n",
       " 2022-01-19  0.396852\n",
       " 2022-01-20  0.394283)"
      ]
     },
     "execution_count": 19,
     "metadata": {},
     "output_type": "execute_result"
    }
   ],
   "source": [
    "# Backtest forecaster refit True, fixed_train_size True\n",
    "# ==============================================================================\n",
    "metric, predictions_backtest = backtesting_forecaster_multiseries(\n",
    "                                    forecaster = forecaster,\n",
    "                                    series     = df[['s1', 's2']],\n",
    "                                    level      = 's1',\n",
    "                                    refit      = True,\n",
    "                                    initial_train_size = 12,\n",
    "                                    fixed_train_size   = True,\n",
    "                                    steps      = 4,\n",
    "                                    metric     = 'mean_squared_error',\n",
    "                                    verbose    = True\n",
    "                               )\n",
    "\n",
    "metric, predictions_backtest"
   ]
  },
  {
   "cell_type": "code",
   "execution_count": 20,
   "id": "67c2d199",
   "metadata": {
    "ExecuteTime": {
     "end_time": "2022-06-06T13:46:39.678059Z",
     "start_time": "2022-06-06T13:46:39.611457Z"
    }
   },
   "outputs": [
    {
     "name": "stdout",
     "output_type": "stream",
     "text": [
      "Information of backtesting process\n",
      "----------------------------------\n",
      "Number of observations used for initial training: 12\n",
      "Number of observations used for backtesting: 8\n",
      "    Number of folds: 2\n",
      "    Number of steps per fold: 4\n",
      "\n",
      "Data partition in fold: 0\n",
      "    Training:   2022-01-01 00:00:00 -- 2022-01-12 00:00:00  (n=12)\n",
      "    Validation: 2022-01-13 00:00:00 -- 2022-01-16 00:00:00  (n=4)\n",
      "Data partition in fold: 1\n",
      "    Training:   2022-01-01 00:00:00 -- 2022-01-16 00:00:00  (n=16)\n",
      "    Validation: 2022-01-17 00:00:00 -- 2022-01-20 00:00:00  (n=4)\n",
      "\n"
     ]
    },
    {
     "data": {
      "text/plain": [
       "(0.10939179494350493,\n",
       "                 pred\n",
       " 2022-01-13  0.452132\n",
       " 2022-01-14  0.265883\n",
       " 2022-01-15  0.296377\n",
       " 2022-01-16  0.371779\n",
       " 2022-01-17  0.471189\n",
       " 2022-01-18  0.400364\n",
       " 2022-01-19  0.452489\n",
       " 2022-01-20  0.442104)"
      ]
     },
     "execution_count": 20,
     "metadata": {},
     "output_type": "execute_result"
    }
   ],
   "source": [
    "# Backtest forecaster refit True, fixed_train_size False\n",
    "# ==============================================================================\n",
    "metric, predictions_backtest = backtesting_forecaster_multiseries(\n",
    "                                    forecaster = forecaster,\n",
    "                                    series     = df[['s1', 's2']],\n",
    "                                    level      = 's1',\n",
    "                                    refit      = True,\n",
    "                                    initial_train_size = 12,\n",
    "                                    fixed_train_size   = False,\n",
    "                                    steps      = 4,\n",
    "                                    metric     = 'mean_squared_error',\n",
    "                                    verbose    = True\n",
    "                               )\n",
    "\n",
    "metric, predictions_backtest"
   ]
  },
  {
   "cell_type": "code",
   "execution_count": 21,
   "id": "47cc489a",
   "metadata": {
    "ExecuteTime": {
     "end_time": "2022-06-06T13:46:42.179971Z",
     "start_time": "2022-06-06T13:46:42.108103Z"
    }
   },
   "outputs": [
    {
     "name": "stdout",
     "output_type": "stream",
     "text": [
      "Information of backtesting process\n",
      "----------------------------------\n",
      "Number of observations used for initial training: 12\n",
      "Number of observations used for backtesting: 8\n",
      "    Number of folds: 2\n",
      "    Number of steps per fold: 4\n",
      "\n",
      "Data partition in fold: 0\n",
      "    Training:   2022-01-01 00:00:00 -- 2022-01-12 00:00:00  (n=12)\n",
      "    Validation: 2022-01-13 00:00:00 -- 2022-01-16 00:00:00  (n=4)\n",
      "Data partition in fold: 1\n",
      "    Training:   2022-01-01 00:00:00 -- 2022-01-12 00:00:00  (n=12)\n",
      "    Validation: 2022-01-17 00:00:00 -- 2022-01-20 00:00:00  (n=4)\n",
      "\n"
     ]
    },
    {
     "data": {
      "text/plain": [
       "(0.12193079896247457,\n",
       "                 pred\n",
       " 2022-01-13  0.452132\n",
       " 2022-01-14  0.265883\n",
       " 2022-01-15  0.296377\n",
       " 2022-01-16  0.371779\n",
       " 2022-01-17  0.402262\n",
       " 2022-01-18  0.349748\n",
       " 2022-01-19  0.407087\n",
       " 2022-01-20  0.366944)"
      ]
     },
     "execution_count": 21,
     "metadata": {},
     "output_type": "execute_result"
    }
   ],
   "source": [
    "# Backtest forecaster refit False\n",
    "# ==============================================================================\n",
    "metric, predictions_backtest = backtesting_forecaster_multiseries(\n",
    "                                    forecaster = forecaster,\n",
    "                                    series     = df[['s1', 's2']],\n",
    "                                    level      = 's1',\n",
    "                                    refit      = False,\n",
    "                                    initial_train_size = 12,\n",
    "                                    steps      = 4,\n",
    "                                    metric     = 'mean_squared_error',\n",
    "                                    verbose    = True\n",
    "                               )\n",
    "\n",
    "metric, predictions_backtest"
   ]
  },
  {
   "cell_type": "markdown",
   "id": "0780f125",
   "metadata": {},
   "source": [
    "## Hyperparameter optimization"
   ]
  },
  {
   "cell_type": "code",
   "execution_count": 52,
   "id": "56044904",
   "metadata": {
    "ExecuteTime": {
     "end_time": "2022-06-06T14:25:31.594529Z",
     "start_time": "2022-06-06T14:25:31.068134Z"
    }
   },
   "outputs": [
    {
     "name": "stdout",
     "output_type": "stream",
     "text": [
      "Number of models compared: 16.\n"
     ]
    },
    {
     "name": "stderr",
     "output_type": "stream",
     "text": [
      "loop lags_grid:   0%|                                               | 0/2 [00:00<?, ?it/s]\n",
      "loop param_grid:   0%|                                              | 0/4 [00:00<?, ?it/s]\u001b[A\n",
      "loop param_grid:  75%|████████████████████████████▌         | 3/4 [00:00<00:00, 20.76it/s]\u001b[A\n",
      "loop lags_grid:  50%|███████████████████▌                   | 1/2 [00:00<00:00,  4.91it/s]\u001b[A\n",
      "loop param_grid:   0%|                                              | 0/4 [00:00<?, ?it/s]\u001b[A\n",
      "loop param_grid:  50%|███████████████████                   | 2/4 [00:00<00:00, 17.38it/s]\u001b[A\n",
      "loop param_grid: 100%|██████████████████████████████████████| 4/4 [00:00<00:00, 18.76it/s]\u001b[A\n",
      "loop lags_grid: 100%|███████████████████████████████████████| 2/2 [00:00<00:00,  4.69it/s]\u001b[A"
     ]
    },
    {
     "name": "stdout",
     "output_type": "stream",
     "text": [
      "`Forecaster` refitted using the best-found lags and parameters, and the whole data set: \n",
      "  Lags: [1 2] \n",
      "  Parameters: {'max_depth': 3, 'n_estimators': 10}\n",
      "  Backtesting metric: 0.08568393805096622\n",
      "  Levels: ['s1', 's2'] \n",
      "  Levels weights: {'s1': 0.5, 's2': 0.5} \n",
      "\n"
     ]
    },
    {
     "name": "stderr",
     "output_type": "stream",
     "text": [
      "\n"
     ]
    }
   ],
   "source": [
    "forecaster = ForecasterAutoregMultiSeries(\n",
    "                regressor = RandomForestRegressor(random_state=123),\n",
    "                lags      = 3 # Placeholder, the value will be overwritten\n",
    "             )\n",
    "\n",
    "# Lags used as predictors\n",
    "lags_grid = [2, 3]\n",
    "\n",
    "# Regressor hyperparameters\n",
    "param_grid = {'n_estimators': [10, 12],\n",
    "              'max_depth': [3, 5]}\n",
    "\n",
    "param_grid = list(ParameterGrid(param_grid))\n",
    "\n",
    "results_grid = _evaluate_grid_hyperparameters_multiseries(\n",
    "                        forecaster  = forecaster,\n",
    "                        series      = df[['s1', 's2']],\n",
    "                        param_grid  = param_grid,\n",
    "                        lags_grid   = lags_grid,\n",
    "                        steps       = 4,\n",
    "                        refit       = True,\n",
    "                        metric      = 'mean_squared_error',\n",
    "                        initial_train_size = 12,\n",
    "                        fixed_train_size   = True,\n",
    "                        return_best = True,\n",
    "                        verbose     = False\n",
    "               )"
   ]
  },
  {
   "cell_type": "code",
   "execution_count": 53,
   "id": "5906ad7f",
   "metadata": {
    "ExecuteTime": {
     "end_time": "2022-06-06T14:25:39.205384Z",
     "start_time": "2022-06-06T14:25:39.140430Z"
    }
   },
   "outputs": [
    {
     "data": {
      "text/html": [
       "<div>\n",
       "<style scoped>\n",
       "    .dataframe tbody tr th:only-of-type {\n",
       "        vertical-align: middle;\n",
       "    }\n",
       "\n",
       "    .dataframe tbody tr th {\n",
       "        vertical-align: top;\n",
       "    }\n",
       "\n",
       "    .dataframe thead th {\n",
       "        text-align: right;\n",
       "    }\n",
       "</style>\n",
       "<table border=\"1\" class=\"dataframe\">\n",
       "  <thead>\n",
       "    <tr style=\"text-align: right;\">\n",
       "      <th></th>\n",
       "      <th>levels</th>\n",
       "      <th>lags</th>\n",
       "      <th>params</th>\n",
       "      <th>metric</th>\n",
       "      <th>max_depth</th>\n",
       "      <th>n_estimators</th>\n",
       "    </tr>\n",
       "  </thead>\n",
       "  <tbody>\n",
       "    <tr>\n",
       "      <th>0</th>\n",
       "      <td>[s1, s2]</td>\n",
       "      <td>[1, 2]</td>\n",
       "      <td>{'max_depth': 3, 'n_estimators': 10}</td>\n",
       "      <td>0.085684</td>\n",
       "      <td>3</td>\n",
       "      <td>10</td>\n",
       "    </tr>\n",
       "    <tr>\n",
       "      <th>1</th>\n",
       "      <td>[s1, s2]</td>\n",
       "      <td>[1, 2]</td>\n",
       "      <td>{'max_depth': 3, 'n_estimators': 12}</td>\n",
       "      <td>0.087410</td>\n",
       "      <td>3</td>\n",
       "      <td>12</td>\n",
       "    </tr>\n",
       "    <tr>\n",
       "      <th>2</th>\n",
       "      <td>[s1, s2]</td>\n",
       "      <td>[1, 2]</td>\n",
       "      <td>{'max_depth': 5, 'n_estimators': 10}</td>\n",
       "      <td>0.094286</td>\n",
       "      <td>5</td>\n",
       "      <td>10</td>\n",
       "    </tr>\n",
       "    <tr>\n",
       "      <th>3</th>\n",
       "      <td>[s1, s2]</td>\n",
       "      <td>[1, 2]</td>\n",
       "      <td>{'max_depth': 5, 'n_estimators': 12}</td>\n",
       "      <td>0.097078</td>\n",
       "      <td>5</td>\n",
       "      <td>12</td>\n",
       "    </tr>\n",
       "    <tr>\n",
       "      <th>4</th>\n",
       "      <td>[s1, s2]</td>\n",
       "      <td>[1, 2, 3]</td>\n",
       "      <td>{'max_depth': 3, 'n_estimators': 10}</td>\n",
       "      <td>0.105619</td>\n",
       "      <td>3</td>\n",
       "      <td>10</td>\n",
       "    </tr>\n",
       "    <tr>\n",
       "      <th>6</th>\n",
       "      <td>[s1, s2]</td>\n",
       "      <td>[1, 2, 3]</td>\n",
       "      <td>{'max_depth': 5, 'n_estimators': 10}</td>\n",
       "      <td>0.109143</td>\n",
       "      <td>5</td>\n",
       "      <td>10</td>\n",
       "    </tr>\n",
       "    <tr>\n",
       "      <th>7</th>\n",
       "      <td>[s1, s2]</td>\n",
       "      <td>[1, 2, 3]</td>\n",
       "      <td>{'max_depth': 5, 'n_estimators': 12}</td>\n",
       "      <td>0.112304</td>\n",
       "      <td>5</td>\n",
       "      <td>12</td>\n",
       "    </tr>\n",
       "    <tr>\n",
       "      <th>5</th>\n",
       "      <td>[s1, s2]</td>\n",
       "      <td>[1, 2, 3]</td>\n",
       "      <td>{'max_depth': 3, 'n_estimators': 12}</td>\n",
       "      <td>0.117046</td>\n",
       "      <td>3</td>\n",
       "      <td>12</td>\n",
       "    </tr>\n",
       "  </tbody>\n",
       "</table>\n",
       "</div>"
      ],
      "text/plain": [
       "     levels       lags                                params    metric  \\\n",
       "0  [s1, s2]     [1, 2]  {'max_depth': 3, 'n_estimators': 10}  0.085684   \n",
       "1  [s1, s2]     [1, 2]  {'max_depth': 3, 'n_estimators': 12}  0.087410   \n",
       "2  [s1, s2]     [1, 2]  {'max_depth': 5, 'n_estimators': 10}  0.094286   \n",
       "3  [s1, s2]     [1, 2]  {'max_depth': 5, 'n_estimators': 12}  0.097078   \n",
       "4  [s1, s2]  [1, 2, 3]  {'max_depth': 3, 'n_estimators': 10}  0.105619   \n",
       "6  [s1, s2]  [1, 2, 3]  {'max_depth': 5, 'n_estimators': 10}  0.109143   \n",
       "7  [s1, s2]  [1, 2, 3]  {'max_depth': 5, 'n_estimators': 12}  0.112304   \n",
       "5  [s1, s2]  [1, 2, 3]  {'max_depth': 3, 'n_estimators': 12}  0.117046   \n",
       "\n",
       "   max_depth  n_estimators  \n",
       "0          3            10  \n",
       "1          3            12  \n",
       "2          5            10  \n",
       "3          5            12  \n",
       "4          3            10  \n",
       "6          5            10  \n",
       "7          5            12  \n",
       "5          3            12  "
      ]
     },
     "execution_count": 53,
     "metadata": {},
     "output_type": "execute_result"
    }
   ],
   "source": [
    "results_grid"
   ]
  },
  {
   "cell_type": "code",
   "execution_count": 25,
   "id": "ca1ce4b0",
   "metadata": {
    "ExecuteTime": {
     "end_time": "2022-06-06T13:47:34.810285Z",
     "start_time": "2022-06-06T13:47:34.741668Z"
    }
   },
   "outputs": [
    {
     "data": {
      "text/html": [
       "<div>\n",
       "<style scoped>\n",
       "    .dataframe tbody tr th:only-of-type {\n",
       "        vertical-align: middle;\n",
       "    }\n",
       "\n",
       "    .dataframe tbody tr th {\n",
       "        vertical-align: top;\n",
       "    }\n",
       "\n",
       "    .dataframe thead th {\n",
       "        text-align: right;\n",
       "    }\n",
       "</style>\n",
       "<table border=\"1\" class=\"dataframe\">\n",
       "  <thead>\n",
       "    <tr style=\"text-align: right;\">\n",
       "      <th></th>\n",
       "      <th>levels</th>\n",
       "      <th>lags</th>\n",
       "      <th>params</th>\n",
       "      <th>metric</th>\n",
       "      <th>max_depth</th>\n",
       "      <th>n_estimators</th>\n",
       "    </tr>\n",
       "  </thead>\n",
       "  <tbody>\n",
       "    <tr>\n",
       "      <th>4</th>\n",
       "      <td>[s2]</td>\n",
       "      <td>[1, 2, 3]</td>\n",
       "      <td>{'max_depth': 3, 'n_estimators': 10}</td>\n",
       "      <td>0.085284</td>\n",
       "      <td>3</td>\n",
       "      <td>10</td>\n",
       "    </tr>\n",
       "    <tr>\n",
       "      <th>5</th>\n",
       "      <td>[s2]</td>\n",
       "      <td>[1, 2, 3]</td>\n",
       "      <td>{'max_depth': 3, 'n_estimators': 12}</td>\n",
       "      <td>0.085913</td>\n",
       "      <td>3</td>\n",
       "      <td>12</td>\n",
       "    </tr>\n",
       "    <tr>\n",
       "      <th>7</th>\n",
       "      <td>[s2]</td>\n",
       "      <td>[1, 2, 3]</td>\n",
       "      <td>{'max_depth': 5, 'n_estimators': 12}</td>\n",
       "      <td>0.088803</td>\n",
       "      <td>5</td>\n",
       "      <td>12</td>\n",
       "    </tr>\n",
       "    <tr>\n",
       "      <th>6</th>\n",
       "      <td>[s2]</td>\n",
       "      <td>[1, 2, 3]</td>\n",
       "      <td>{'max_depth': 5, 'n_estimators': 10}</td>\n",
       "      <td>0.093848</td>\n",
       "      <td>5</td>\n",
       "      <td>10</td>\n",
       "    </tr>\n",
       "    <tr>\n",
       "      <th>0</th>\n",
       "      <td>[s2]</td>\n",
       "      <td>[1, 2]</td>\n",
       "      <td>{'max_depth': 3, 'n_estimators': 10}</td>\n",
       "      <td>0.099212</td>\n",
       "      <td>3</td>\n",
       "      <td>10</td>\n",
       "    </tr>\n",
       "    <tr>\n",
       "      <th>1</th>\n",
       "      <td>[s2]</td>\n",
       "      <td>[1, 2]</td>\n",
       "      <td>{'max_depth': 3, 'n_estimators': 12}</td>\n",
       "      <td>0.106265</td>\n",
       "      <td>3</td>\n",
       "      <td>12</td>\n",
       "    </tr>\n",
       "    <tr>\n",
       "      <th>2</th>\n",
       "      <td>[s2]</td>\n",
       "      <td>[1, 2]</td>\n",
       "      <td>{'max_depth': 5, 'n_estimators': 10}</td>\n",
       "      <td>0.108759</td>\n",
       "      <td>5</td>\n",
       "      <td>10</td>\n",
       "    </tr>\n",
       "    <tr>\n",
       "      <th>3</th>\n",
       "      <td>[s2]</td>\n",
       "      <td>[1, 2]</td>\n",
       "      <td>{'max_depth': 5, 'n_estimators': 12}</td>\n",
       "      <td>0.111977</td>\n",
       "      <td>5</td>\n",
       "      <td>12</td>\n",
       "    </tr>\n",
       "  </tbody>\n",
       "</table>\n",
       "</div>"
      ],
      "text/plain": [
       "  levels       lags                                params    metric  \\\n",
       "4   [s2]  [1, 2, 3]  {'max_depth': 3, 'n_estimators': 10}  0.085284   \n",
       "5   [s2]  [1, 2, 3]  {'max_depth': 3, 'n_estimators': 12}  0.085913   \n",
       "7   [s2]  [1, 2, 3]  {'max_depth': 5, 'n_estimators': 12}  0.088803   \n",
       "6   [s2]  [1, 2, 3]  {'max_depth': 5, 'n_estimators': 10}  0.093848   \n",
       "0   [s2]     [1, 2]  {'max_depth': 3, 'n_estimators': 10}  0.099212   \n",
       "1   [s2]     [1, 2]  {'max_depth': 3, 'n_estimators': 12}  0.106265   \n",
       "2   [s2]     [1, 2]  {'max_depth': 5, 'n_estimators': 10}  0.108759   \n",
       "3   [s2]     [1, 2]  {'max_depth': 5, 'n_estimators': 12}  0.111977   \n",
       "\n",
       "   max_depth  n_estimators  \n",
       "4          3            10  \n",
       "5          3            12  \n",
       "7          5            12  \n",
       "6          5            10  \n",
       "0          3            10  \n",
       "1          3            12  \n",
       "2          5            10  \n",
       "3          5            12  "
      ]
     },
     "execution_count": 25,
     "metadata": {},
     "output_type": "execute_result"
    }
   ],
   "source": [
    "results_grid"
   ]
  },
  {
   "cell_type": "code",
   "execution_count": 33,
   "id": "91e56397",
   "metadata": {
    "ExecuteTime": {
     "end_time": "2022-06-06T13:50:11.128914Z",
     "start_time": "2022-06-06T13:50:11.067860Z"
    }
   },
   "outputs": [
    {
     "data": {
      "text/plain": [
       "0.09234300000000001"
      ]
     },
     "execution_count": 33,
     "metadata": {},
     "output_type": "execute_result"
    }
   ],
   "source": [
    "(0.078421 + 0.106265)/2"
   ]
  },
  {
   "cell_type": "code",
   "execution_count": 28,
   "id": "691871d4",
   "metadata": {
    "ExecuteTime": {
     "end_time": "2022-06-06T13:48:11.023228Z",
     "start_time": "2022-06-06T13:48:10.953646Z"
    }
   },
   "outputs": [
    {
     "data": {
      "text/html": [
       "<div>\n",
       "<style scoped>\n",
       "    .dataframe tbody tr th:only-of-type {\n",
       "        vertical-align: middle;\n",
       "    }\n",
       "\n",
       "    .dataframe tbody tr th {\n",
       "        vertical-align: top;\n",
       "    }\n",
       "\n",
       "    .dataframe thead th {\n",
       "        text-align: right;\n",
       "    }\n",
       "</style>\n",
       "<table border=\"1\" class=\"dataframe\">\n",
       "  <thead>\n",
       "    <tr style=\"text-align: right;\">\n",
       "      <th></th>\n",
       "      <th>levels</th>\n",
       "      <th>lags</th>\n",
       "      <th>params</th>\n",
       "      <th>metric</th>\n",
       "      <th>max_depth</th>\n",
       "      <th>n_estimators</th>\n",
       "    </tr>\n",
       "  </thead>\n",
       "  <tbody>\n",
       "    <tr>\n",
       "      <th>1</th>\n",
       "      <td>[s1, s2]</td>\n",
       "      <td>[1, 2]</td>\n",
       "      <td>{'max_depth': 3, 'n_estimators': 12}</td>\n",
       "      <td>0.092343</td>\n",
       "      <td>3</td>\n",
       "      <td>12</td>\n",
       "    </tr>\n",
       "    <tr>\n",
       "      <th>0</th>\n",
       "      <td>[s1, s2]</td>\n",
       "      <td>[1, 2]</td>\n",
       "      <td>{'max_depth': 3, 'n_estimators': 10}</td>\n",
       "      <td>0.101738</td>\n",
       "      <td>3</td>\n",
       "      <td>10</td>\n",
       "    </tr>\n",
       "    <tr>\n",
       "      <th>5</th>\n",
       "      <td>[s1, s2]</td>\n",
       "      <td>[1, 2, 3]</td>\n",
       "      <td>{'max_depth': 3, 'n_estimators': 12}</td>\n",
       "      <td>0.106701</td>\n",
       "      <td>3</td>\n",
       "      <td>12</td>\n",
       "    </tr>\n",
       "    <tr>\n",
       "      <th>7</th>\n",
       "      <td>[s1, s2]</td>\n",
       "      <td>[1, 2, 3]</td>\n",
       "      <td>{'max_depth': 5, 'n_estimators': 12}</td>\n",
       "      <td>0.108936</td>\n",
       "      <td>5</td>\n",
       "      <td>12</td>\n",
       "    </tr>\n",
       "    <tr>\n",
       "      <th>2</th>\n",
       "      <td>[s1, s2]</td>\n",
       "      <td>[1, 2]</td>\n",
       "      <td>{'max_depth': 5, 'n_estimators': 10}</td>\n",
       "      <td>0.109556</td>\n",
       "      <td>5</td>\n",
       "      <td>10</td>\n",
       "    </tr>\n",
       "    <tr>\n",
       "      <th>4</th>\n",
       "      <td>[s1, s2]</td>\n",
       "      <td>[1, 2, 3]</td>\n",
       "      <td>{'max_depth': 3, 'n_estimators': 10}</td>\n",
       "      <td>0.112275</td>\n",
       "      <td>3</td>\n",
       "      <td>10</td>\n",
       "    </tr>\n",
       "    <tr>\n",
       "      <th>6</th>\n",
       "      <td>[s1, s2]</td>\n",
       "      <td>[1, 2, 3]</td>\n",
       "      <td>{'max_depth': 5, 'n_estimators': 10}</td>\n",
       "      <td>0.116062</td>\n",
       "      <td>5</td>\n",
       "      <td>10</td>\n",
       "    </tr>\n",
       "    <tr>\n",
       "      <th>3</th>\n",
       "      <td>[s1, s2]</td>\n",
       "      <td>[1, 2]</td>\n",
       "      <td>{'max_depth': 5, 'n_estimators': 12}</td>\n",
       "      <td>0.122368</td>\n",
       "      <td>5</td>\n",
       "      <td>12</td>\n",
       "    </tr>\n",
       "  </tbody>\n",
       "</table>\n",
       "</div>"
      ],
      "text/plain": [
       "     levels       lags                                params    metric  \\\n",
       "1  [s1, s2]     [1, 2]  {'max_depth': 3, 'n_estimators': 12}  0.092343   \n",
       "0  [s1, s2]     [1, 2]  {'max_depth': 3, 'n_estimators': 10}  0.101738   \n",
       "5  [s1, s2]  [1, 2, 3]  {'max_depth': 3, 'n_estimators': 12}  0.106701   \n",
       "7  [s1, s2]  [1, 2, 3]  {'max_depth': 5, 'n_estimators': 12}  0.108936   \n",
       "2  [s1, s2]     [1, 2]  {'max_depth': 5, 'n_estimators': 10}  0.109556   \n",
       "4  [s1, s2]  [1, 2, 3]  {'max_depth': 3, 'n_estimators': 10}  0.112275   \n",
       "6  [s1, s2]  [1, 2, 3]  {'max_depth': 5, 'n_estimators': 10}  0.116062   \n",
       "3  [s1, s2]     [1, 2]  {'max_depth': 5, 'n_estimators': 12}  0.122368   \n",
       "\n",
       "   max_depth  n_estimators  \n",
       "1          3            12  \n",
       "0          3            10  \n",
       "5          3            12  \n",
       "7          5            12  \n",
       "2          5            10  \n",
       "4          3            10  \n",
       "6          5            10  \n",
       "3          5            12  "
      ]
     },
     "execution_count": 28,
     "metadata": {},
     "output_type": "execute_result"
    }
   ],
   "source": [
    "results_grid"
   ]
  },
  {
   "cell_type": "code",
   "execution_count": 37,
   "id": "95f1a12d",
   "metadata": {
    "ExecuteTime": {
     "end_time": "2022-06-06T13:51:16.184940Z",
     "start_time": "2022-06-06T13:51:16.122450Z"
    }
   },
   "outputs": [
    {
     "data": {
      "text/plain": [
       "0.08343292"
      ]
     },
     "execution_count": 37,
     "metadata": {},
     "output_type": "execute_result"
    }
   ],
   "source": [
    "0.078421*0.82 + 0.106265*0.18"
   ]
  },
  {
   "cell_type": "code",
   "execution_count": 36,
   "id": "d8b08f51",
   "metadata": {
    "ExecuteTime": {
     "end_time": "2022-06-06T13:51:03.107367Z",
     "start_time": "2022-06-06T13:51:03.042576Z"
    }
   },
   "outputs": [
    {
     "data": {
      "text/html": [
       "<div>\n",
       "<style scoped>\n",
       "    .dataframe tbody tr th:only-of-type {\n",
       "        vertical-align: middle;\n",
       "    }\n",
       "\n",
       "    .dataframe tbody tr th {\n",
       "        vertical-align: top;\n",
       "    }\n",
       "\n",
       "    .dataframe thead th {\n",
       "        text-align: right;\n",
       "    }\n",
       "</style>\n",
       "<table border=\"1\" class=\"dataframe\">\n",
       "  <thead>\n",
       "    <tr style=\"text-align: right;\">\n",
       "      <th></th>\n",
       "      <th>levels</th>\n",
       "      <th>lags</th>\n",
       "      <th>params</th>\n",
       "      <th>metric</th>\n",
       "      <th>max_depth</th>\n",
       "      <th>n_estimators</th>\n",
       "    </tr>\n",
       "  </thead>\n",
       "  <tbody>\n",
       "    <tr>\n",
       "      <th>1</th>\n",
       "      <td>[s1, s2]</td>\n",
       "      <td>[1, 2]</td>\n",
       "      <td>{'max_depth': 3, 'n_estimators': 12}</td>\n",
       "      <td>0.083433</td>\n",
       "      <td>3</td>\n",
       "      <td>12</td>\n",
       "    </tr>\n",
       "    <tr>\n",
       "      <th>0</th>\n",
       "      <td>[s1, s2]</td>\n",
       "      <td>[1, 2]</td>\n",
       "      <td>{'max_depth': 3, 'n_estimators': 10}</td>\n",
       "      <td>0.103354</td>\n",
       "      <td>3</td>\n",
       "      <td>10</td>\n",
       "    </tr>\n",
       "    <tr>\n",
       "      <th>2</th>\n",
       "      <td>[s1, s2]</td>\n",
       "      <td>[1, 2]</td>\n",
       "      <td>{'max_depth': 5, 'n_estimators': 10}</td>\n",
       "      <td>0.110067</td>\n",
       "      <td>5</td>\n",
       "      <td>10</td>\n",
       "    </tr>\n",
       "    <tr>\n",
       "      <th>5</th>\n",
       "      <td>[s1, s2]</td>\n",
       "      <td>[1, 2, 3]</td>\n",
       "      <td>{'max_depth': 3, 'n_estimators': 12}</td>\n",
       "      <td>0.120005</td>\n",
       "      <td>3</td>\n",
       "      <td>12</td>\n",
       "    </tr>\n",
       "    <tr>\n",
       "      <th>7</th>\n",
       "      <td>[s1, s2]</td>\n",
       "      <td>[1, 2, 3]</td>\n",
       "      <td>{'max_depth': 5, 'n_estimators': 12}</td>\n",
       "      <td>0.121821</td>\n",
       "      <td>5</td>\n",
       "      <td>12</td>\n",
       "    </tr>\n",
       "    <tr>\n",
       "      <th>3</th>\n",
       "      <td>[s1, s2]</td>\n",
       "      <td>[1, 2]</td>\n",
       "      <td>{'max_depth': 5, 'n_estimators': 12}</td>\n",
       "      <td>0.129018</td>\n",
       "      <td>5</td>\n",
       "      <td>12</td>\n",
       "    </tr>\n",
       "    <tr>\n",
       "      <th>4</th>\n",
       "      <td>[s1, s2]</td>\n",
       "      <td>[1, 2, 3]</td>\n",
       "      <td>{'max_depth': 3, 'n_estimators': 10}</td>\n",
       "      <td>0.129549</td>\n",
       "      <td>3</td>\n",
       "      <td>10</td>\n",
       "    </tr>\n",
       "    <tr>\n",
       "      <th>6</th>\n",
       "      <td>[s1, s2]</td>\n",
       "      <td>[1, 2, 3]</td>\n",
       "      <td>{'max_depth': 5, 'n_estimators': 10}</td>\n",
       "      <td>0.130279</td>\n",
       "      <td>5</td>\n",
       "      <td>10</td>\n",
       "    </tr>\n",
       "  </tbody>\n",
       "</table>\n",
       "</div>"
      ],
      "text/plain": [
       "     levels       lags                                params    metric  \\\n",
       "1  [s1, s2]     [1, 2]  {'max_depth': 3, 'n_estimators': 12}  0.083433   \n",
       "0  [s1, s2]     [1, 2]  {'max_depth': 3, 'n_estimators': 10}  0.103354   \n",
       "2  [s1, s2]     [1, 2]  {'max_depth': 5, 'n_estimators': 10}  0.110067   \n",
       "5  [s1, s2]  [1, 2, 3]  {'max_depth': 3, 'n_estimators': 12}  0.120005   \n",
       "7  [s1, s2]  [1, 2, 3]  {'max_depth': 5, 'n_estimators': 12}  0.121821   \n",
       "3  [s1, s2]     [1, 2]  {'max_depth': 5, 'n_estimators': 12}  0.129018   \n",
       "4  [s1, s2]  [1, 2, 3]  {'max_depth': 3, 'n_estimators': 10}  0.129549   \n",
       "6  [s1, s2]  [1, 2, 3]  {'max_depth': 5, 'n_estimators': 10}  0.130279   \n",
       "\n",
       "   max_depth  n_estimators  \n",
       "1          3            12  \n",
       "0          3            10  \n",
       "2          5            10  \n",
       "5          3            12  \n",
       "7          5            12  \n",
       "3          5            12  \n",
       "4          3            10  \n",
       "6          5            10  "
      ]
     },
     "execution_count": 36,
     "metadata": {},
     "output_type": "execute_result"
    }
   ],
   "source": [
    "results_grid"
   ]
  },
  {
   "cell_type": "code",
   "execution_count": 47,
   "id": "4560166f",
   "metadata": {
    "ExecuteTime": {
     "end_time": "2022-06-06T13:57:16.081920Z",
     "start_time": "2022-06-06T13:57:16.015570Z"
    }
   },
   "outputs": [],
   "source": [
    "cols = list(df[['s1', 's2']].columns)"
   ]
  },
  {
   "cell_type": "code",
   "execution_count": 43,
   "id": "4523d0cc",
   "metadata": {
    "ExecuteTime": {
     "end_time": "2022-06-06T13:54:55.980619Z",
     "start_time": "2022-06-06T13:54:55.917344Z"
    }
   },
   "outputs": [],
   "source": [
    "levels_weights= {'s1': 0.82, 's2': 0.18} "
   ]
  },
  {
   "cell_type": "code",
   "execution_count": 50,
   "id": "06d5d654",
   "metadata": {
    "ExecuteTime": {
     "end_time": "2022-06-06T13:57:50.406288Z",
     "start_time": "2022-06-06T13:57:50.351077Z"
    }
   },
   "outputs": [],
   "source": [
    "if cols != list(levels_weights.keys()):\n",
    "    print(1)"
   ]
  },
  {
   "cell_type": "code",
   "execution_count": null,
   "id": "0ee41c7e",
   "metadata": {},
   "outputs": [],
   "source": []
  }
 ],
 "metadata": {
  "kernelspec": {
   "display_name": "food_digital",
   "language": "python",
   "name": "food_digital"
  },
  "language_info": {
   "codemirror_mode": {
    "name": "ipython",
    "version": 3
   },
   "file_extension": ".py",
   "mimetype": "text/x-python",
   "name": "python",
   "nbconvert_exporter": "python",
   "pygments_lexer": "ipython3",
   "version": "3.8.13"
  },
  "toc": {
   "base_numbering": 1,
   "nav_menu": {},
   "number_sections": true,
   "sideBar": true,
   "skip_h1_title": false,
   "title_cell": "Table of Contents",
   "title_sidebar": "Contents",
   "toc_cell": false,
   "toc_position": {
    "height": "calc(100% - 180px)",
    "left": "10px",
    "top": "150px",
    "width": "177.825px"
   },
   "toc_section_display": true,
   "toc_window_display": true
  }
 },
 "nbformat": 4,
 "nbformat_minor": 5
}
