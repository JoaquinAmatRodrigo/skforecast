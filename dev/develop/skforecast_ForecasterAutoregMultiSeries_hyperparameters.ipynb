{
 "cells": [
  {
   "cell_type": "code",
   "execution_count": 1,
   "id": "db23d0e2",
   "metadata": {
    "ExecuteTime": {
     "end_time": "2022-06-08T15:45:02.173690Z",
     "start_time": "2022-06-08T15:45:02.135493Z"
    }
   },
   "outputs": [],
   "source": [
    "%load_ext autoreload\n",
    "%autoreload 2\n",
    "import sys\n",
    "from pathlib import Path\n",
    "sys.path.insert(1, str(Path.cwd().parent.parent))\n",
    "%config Completer.use_jedi = False"
   ]
  },
  {
   "cell_type": "code",
   "execution_count": 2,
   "id": "920eb698",
   "metadata": {
    "ExecuteTime": {
     "end_time": "2022-06-08T15:45:04.936201Z",
     "start_time": "2022-06-08T15:45:02.836952Z"
    }
   },
   "outputs": [],
   "source": [
    "## ForecasterAutoregMultiSeries\n",
    "# ==============================================================================\n",
    "import numpy as np\n",
    "import pandas as pd\n",
    "\n",
    "from skforecast.ForecasterAutoregMultiSeries import ForecasterAutoregMultiSeries\n",
    "from skforecast.model_selection_multiseries import backtesting_forecaster_multiseries\n",
    "from skforecast.model_selection_multiseries.model_selection_multiseries import _evaluate_grid_hyperparameters_multiseries\n",
    "\n",
    "from sklearn.model_selection import ParameterGrid\n",
    "from sklearn.linear_model import LinearRegression\n",
    "from sklearn.ensemble import RandomForestRegressor"
   ]
  },
  {
   "cell_type": "markdown",
   "id": "3c4ece95",
   "metadata": {},
   "source": [
    "## ForecasterAutoregMultiSeries"
   ]
  },
  {
   "cell_type": "code",
   "execution_count": 15,
   "id": "cd38c4f4",
   "metadata": {
    "ExecuteTime": {
     "end_time": "2022-06-06T13:46:16.334064Z",
     "start_time": "2022-06-06T13:46:16.265919Z"
    }
   },
   "outputs": [
    {
     "name": "stdout",
     "output_type": "stream",
     "text": [
      "(20, 4)\n"
     ]
    },
    {
     "data": {
      "text/html": [
       "<div>\n",
       "<style scoped>\n",
       "    .dataframe tbody tr th:only-of-type {\n",
       "        vertical-align: middle;\n",
       "    }\n",
       "\n",
       "    .dataframe tbody tr th {\n",
       "        vertical-align: top;\n",
       "    }\n",
       "\n",
       "    .dataframe thead th {\n",
       "        text-align: right;\n",
       "    }\n",
       "</style>\n",
       "<table border=\"1\" class=\"dataframe\">\n",
       "  <thead>\n",
       "    <tr style=\"text-align: right;\">\n",
       "      <th></th>\n",
       "      <th>s1</th>\n",
       "      <th>s2</th>\n",
       "      <th>exog_1</th>\n",
       "      <th>exog_2</th>\n",
       "    </tr>\n",
       "    <tr>\n",
       "      <th>date</th>\n",
       "      <th></th>\n",
       "      <th></th>\n",
       "      <th></th>\n",
       "      <th></th>\n",
       "    </tr>\n",
       "  </thead>\n",
       "  <tbody>\n",
       "    <tr>\n",
       "      <th>2022-01-18</th>\n",
       "      <td>0.553970</td>\n",
       "      <td>0.635592</td>\n",
       "      <td>0.107618</td>\n",
       "      <td>0.835754</td>\n",
       "    </tr>\n",
       "    <tr>\n",
       "      <th>2022-01-19</th>\n",
       "      <td>0.951948</td>\n",
       "      <td>0.809366</td>\n",
       "      <td>0.780165</td>\n",
       "      <td>0.643191</td>\n",
       "    </tr>\n",
       "    <tr>\n",
       "      <th>2022-01-20</th>\n",
       "      <td>0.947452</td>\n",
       "      <td>0.868955</td>\n",
       "      <td>0.750736</td>\n",
       "      <td>0.155978</td>\n",
       "    </tr>\n",
       "  </tbody>\n",
       "</table>\n",
       "</div>"
      ],
      "text/plain": [
       "                  s1        s2    exog_1    exog_2\n",
       "date                                              \n",
       "2022-01-18  0.553970  0.635592  0.107618  0.835754\n",
       "2022-01-19  0.951948  0.809366  0.780165  0.643191\n",
       "2022-01-20  0.947452  0.868955  0.750736  0.155978"
      ]
     },
     "execution_count": 15,
     "metadata": {},
     "output_type": "execute_result"
    }
   ],
   "source": [
    "y_1 = pd.Series(np.random.rand(20))\n",
    "y_2 = pd.Series(np.random.rand(20))\n",
    "exog_1 = pd.Series(np.random.rand(20))\n",
    "exog_2 = pd.Series(np.random.rand(20))\n",
    "\n",
    "df = pd.DataFrame({'s1': y_1, 's2': y_2, 'exog_1': exog_1, 'exog_2': exog_2,\n",
    "                   'date':pd.date_range(start='2022-01-01', periods=20, freq='1D')})\n",
    "\n",
    "df = df.set_index('date')\n",
    "df = df.asfreq('1D')\n",
    "df = df.sort_index()\n",
    "\n",
    "max_lag=3\n",
    "lags=np.array([1,2,3])\n",
    "\n",
    "print(df.shape)\n",
    "df.tail(3)"
   ]
  },
  {
   "cell_type": "code",
   "execution_count": 16,
   "id": "7bdb6e3f",
   "metadata": {
    "ExecuteTime": {
     "end_time": "2022-06-06T13:46:17.046760Z",
     "start_time": "2022-06-06T13:46:16.976722Z"
    }
   },
   "outputs": [
    {
     "data": {
      "text/plain": [
       "============================ \n",
       "ForecasterAutoregMultiSeries \n",
       "============================ \n",
       "Regressor: LinearRegression() \n",
       "Lags: [1 2 3] \n",
       "Window size: 3 \n",
       "Included exogenous: True \n",
       "Type of exogenous variable: <class 'pandas.core.frame.DataFrame'> \n",
       "Exogenous variables names: ['exog_1', 'exog_2'] \n",
       "Training range: [Timestamp('2022-01-01 00:00:00'), Timestamp('2022-01-20 00:00:00')] \n",
       "Training index type: DatetimeIndex \n",
       "Training index frequency: D \n",
       "Regressor parameters: {'copy_X': True, 'fit_intercept': True, 'n_jobs': None, 'normalize': 'deprecated', 'positive': False} \n",
       "Creation date: 2022-06-06 15:46:17 \n",
       "Last fit date: 2022-06-06 15:46:17 \n",
       "Skforecast version: 0.5.dev1 "
      ]
     },
     "execution_count": 16,
     "metadata": {},
     "output_type": "execute_result"
    }
   ],
   "source": [
    "# Create and fit forecaster\n",
    "# ==============================================================================\n",
    "forecaster = ForecasterAutoregMultiSeries(\n",
    "                    regressor = LinearRegression(),\n",
    "                    lags      = 3\n",
    "             )\n",
    "\n",
    "forecaster.fit(\n",
    "    series = df[['s1', 's2']],\n",
    "    exog   = df[['exog_1', 'exog_2']]\n",
    ")\n",
    "\n",
    "forecaster"
   ]
  },
  {
   "cell_type": "code",
   "execution_count": 17,
   "id": "7fdf929a",
   "metadata": {
    "ExecuteTime": {
     "end_time": "2022-06-06T13:46:17.433568Z",
     "start_time": "2022-06-06T13:46:17.372160Z"
    }
   },
   "outputs": [
    {
     "name": "stdout",
     "output_type": "stream",
     "text": [
      "s2\n"
     ]
    },
    {
     "data": {
      "text/plain": [
       "2022-01-21    0.438949\n",
       "2022-01-22    0.565801\n",
       "2022-01-23    0.561593\n",
       "Freq: D, Name: pred, dtype: float64"
      ]
     },
     "execution_count": 17,
     "metadata": {},
     "output_type": "execute_result"
    }
   ],
   "source": [
    "# Predict\n",
    "# ==============================================================================\n",
    "steps = 3\n",
    "exog_1_test = pd.Series(np.random.rand(steps))\n",
    "exog_2_test = pd.Series(np.random.rand(steps))\n",
    "\n",
    "df_test = pd.DataFrame({'exog_1': exog_1_test, 'exog_2': exog_2_test,\n",
    "                        'date':pd.date_range(start=df.index[-1], periods=steps, freq='1D')})\n",
    "\n",
    "df_test = df_test.set_index('date')\n",
    "df_test = df_test.asfreq('1D')\n",
    "df_test = df_test.sort_index()\n",
    "\n",
    "predictions = forecaster.predict(\n",
    "                steps = steps,\n",
    "                level = 's2',\n",
    "                exog = df_test[['exog_1', 'exog_2']]\n",
    "              )\n",
    "\n",
    "print(forecaster.level)\n",
    "predictions"
   ]
  },
  {
   "cell_type": "code",
   "execution_count": 18,
   "id": "41f5a437",
   "metadata": {
    "ExecuteTime": {
     "end_time": "2022-06-06T13:46:18.760172Z",
     "start_time": "2022-06-06T13:46:18.567672Z"
    }
   },
   "outputs": [
    {
     "name": "stdout",
     "output_type": "stream",
     "text": [
      "s2\n"
     ]
    },
    {
     "data": {
      "text/html": [
       "<div>\n",
       "<style scoped>\n",
       "    .dataframe tbody tr th:only-of-type {\n",
       "        vertical-align: middle;\n",
       "    }\n",
       "\n",
       "    .dataframe tbody tr th {\n",
       "        vertical-align: top;\n",
       "    }\n",
       "\n",
       "    .dataframe thead th {\n",
       "        text-align: right;\n",
       "    }\n",
       "</style>\n",
       "<table border=\"1\" class=\"dataframe\">\n",
       "  <thead>\n",
       "    <tr style=\"text-align: right;\">\n",
       "      <th></th>\n",
       "      <th>pred</th>\n",
       "      <th>lower_bound</th>\n",
       "      <th>upper_bound</th>\n",
       "    </tr>\n",
       "  </thead>\n",
       "  <tbody>\n",
       "    <tr>\n",
       "      <th>2022-01-21</th>\n",
       "      <td>0.438949</td>\n",
       "      <td>0.041156</td>\n",
       "      <td>0.837512</td>\n",
       "    </tr>\n",
       "    <tr>\n",
       "      <th>2022-01-22</th>\n",
       "      <td>0.565801</td>\n",
       "      <td>0.173634</td>\n",
       "      <td>0.946079</td>\n",
       "    </tr>\n",
       "    <tr>\n",
       "      <th>2022-01-23</th>\n",
       "      <td>0.561593</td>\n",
       "      <td>0.167460</td>\n",
       "      <td>0.948181</td>\n",
       "    </tr>\n",
       "  </tbody>\n",
       "</table>\n",
       "</div>"
      ],
      "text/plain": [
       "                pred  lower_bound  upper_bound\n",
       "2022-01-21  0.438949     0.041156     0.837512\n",
       "2022-01-22  0.565801     0.173634     0.946079\n",
       "2022-01-23  0.561593     0.167460     0.948181"
      ]
     },
     "execution_count": 18,
     "metadata": {},
     "output_type": "execute_result"
    }
   ],
   "source": [
    "# Predict interval\n",
    "# ==============================================================================\n",
    "predictions = forecaster.predict_interval(\n",
    "                steps = steps,\n",
    "                level = 's2',\n",
    "                exog = df_test[['exog_1', 'exog_2']]\n",
    "              )\n",
    "\n",
    "print(forecaster.level)\n",
    "predictions"
   ]
  },
  {
   "cell_type": "code",
   "execution_count": 19,
   "id": "578e5024",
   "metadata": {
    "ExecuteTime": {
     "end_time": "2022-06-06T13:46:20.290463Z",
     "start_time": "2022-06-06T13:46:20.217123Z"
    }
   },
   "outputs": [
    {
     "name": "stdout",
     "output_type": "stream",
     "text": [
      "Information of backtesting process\n",
      "----------------------------------\n",
      "Number of observations used for initial training: 12\n",
      "Number of observations used for backtesting: 8\n",
      "    Number of folds: 2\n",
      "    Number of steps per fold: 4\n",
      "\n",
      "Data partition in fold: 0\n",
      "    Training:   2022-01-01 00:00:00 -- 2022-01-12 00:00:00  (n=12)\n",
      "    Validation: 2022-01-13 00:00:00 -- 2022-01-16 00:00:00  (n=4)\n",
      "Data partition in fold: 1\n",
      "    Training:   2022-01-05 00:00:00 -- 2022-01-16 00:00:00  (n=12)\n",
      "    Validation: 2022-01-17 00:00:00 -- 2022-01-20 00:00:00  (n=4)\n",
      "\n"
     ]
    },
    {
     "data": {
      "text/plain": [
       "(0.11641854659291993,\n",
       "                 pred\n",
       " 2022-01-13  0.452132\n",
       " 2022-01-14  0.265883\n",
       " 2022-01-15  0.296377\n",
       " 2022-01-16  0.371779\n",
       " 2022-01-17  0.377557\n",
       " 2022-01-18  0.375606\n",
       " 2022-01-19  0.396852\n",
       " 2022-01-20  0.394283)"
      ]
     },
     "execution_count": 19,
     "metadata": {},
     "output_type": "execute_result"
    }
   ],
   "source": [
    "# Backtest forecaster refit True, fixed_train_size True\n",
    "# ==============================================================================\n",
    "metric, predictions_backtest = backtesting_forecaster_multiseries(\n",
    "                                    forecaster = forecaster,\n",
    "                                    series     = df[['s1', 's2']],\n",
    "                                    level      = 's1',\n",
    "                                    refit      = True,\n",
    "                                    initial_train_size = 12,\n",
    "                                    fixed_train_size   = True,\n",
    "                                    steps      = 4,\n",
    "                                    metric     = 'mean_squared_error',\n",
    "                                    verbose    = True\n",
    "                               )\n",
    "\n",
    "metric, predictions_backtest"
   ]
  },
  {
   "cell_type": "code",
   "execution_count": 20,
   "id": "67c2d199",
   "metadata": {
    "ExecuteTime": {
     "end_time": "2022-06-06T13:46:39.678059Z",
     "start_time": "2022-06-06T13:46:39.611457Z"
    }
   },
   "outputs": [
    {
     "name": "stdout",
     "output_type": "stream",
     "text": [
      "Information of backtesting process\n",
      "----------------------------------\n",
      "Number of observations used for initial training: 12\n",
      "Number of observations used for backtesting: 8\n",
      "    Number of folds: 2\n",
      "    Number of steps per fold: 4\n",
      "\n",
      "Data partition in fold: 0\n",
      "    Training:   2022-01-01 00:00:00 -- 2022-01-12 00:00:00  (n=12)\n",
      "    Validation: 2022-01-13 00:00:00 -- 2022-01-16 00:00:00  (n=4)\n",
      "Data partition in fold: 1\n",
      "    Training:   2022-01-01 00:00:00 -- 2022-01-16 00:00:00  (n=16)\n",
      "    Validation: 2022-01-17 00:00:00 -- 2022-01-20 00:00:00  (n=4)\n",
      "\n"
     ]
    },
    {
     "data": {
      "text/plain": [
       "(0.10939179494350493,\n",
       "                 pred\n",
       " 2022-01-13  0.452132\n",
       " 2022-01-14  0.265883\n",
       " 2022-01-15  0.296377\n",
       " 2022-01-16  0.371779\n",
       " 2022-01-17  0.471189\n",
       " 2022-01-18  0.400364\n",
       " 2022-01-19  0.452489\n",
       " 2022-01-20  0.442104)"
      ]
     },
     "execution_count": 20,
     "metadata": {},
     "output_type": "execute_result"
    }
   ],
   "source": [
    "# Backtest forecaster refit True, fixed_train_size False\n",
    "# ==============================================================================\n",
    "metric, predictions_backtest = backtesting_forecaster_multiseries(\n",
    "                                    forecaster = forecaster,\n",
    "                                    series     = df[['s1', 's2']],\n",
    "                                    level      = 's1',\n",
    "                                    refit      = True,\n",
    "                                    initial_train_size = 12,\n",
    "                                    fixed_train_size   = False,\n",
    "                                    steps      = 4,\n",
    "                                    metric     = 'mean_squared_error',\n",
    "                                    verbose    = True\n",
    "                               )\n",
    "\n",
    "metric, predictions_backtest"
   ]
  },
  {
   "cell_type": "code",
   "execution_count": 21,
   "id": "47cc489a",
   "metadata": {
    "ExecuteTime": {
     "end_time": "2022-06-06T13:46:42.179971Z",
     "start_time": "2022-06-06T13:46:42.108103Z"
    }
   },
   "outputs": [
    {
     "name": "stdout",
     "output_type": "stream",
     "text": [
      "Information of backtesting process\n",
      "----------------------------------\n",
      "Number of observations used for initial training: 12\n",
      "Number of observations used for backtesting: 8\n",
      "    Number of folds: 2\n",
      "    Number of steps per fold: 4\n",
      "\n",
      "Data partition in fold: 0\n",
      "    Training:   2022-01-01 00:00:00 -- 2022-01-12 00:00:00  (n=12)\n",
      "    Validation: 2022-01-13 00:00:00 -- 2022-01-16 00:00:00  (n=4)\n",
      "Data partition in fold: 1\n",
      "    Training:   2022-01-01 00:00:00 -- 2022-01-12 00:00:00  (n=12)\n",
      "    Validation: 2022-01-17 00:00:00 -- 2022-01-20 00:00:00  (n=4)\n",
      "\n"
     ]
    },
    {
     "data": {
      "text/plain": [
       "(0.12193079896247457,\n",
       "                 pred\n",
       " 2022-01-13  0.452132\n",
       " 2022-01-14  0.265883\n",
       " 2022-01-15  0.296377\n",
       " 2022-01-16  0.371779\n",
       " 2022-01-17  0.402262\n",
       " 2022-01-18  0.349748\n",
       " 2022-01-19  0.407087\n",
       " 2022-01-20  0.366944)"
      ]
     },
     "execution_count": 21,
     "metadata": {},
     "output_type": "execute_result"
    }
   ],
   "source": [
    "# Backtest forecaster refit False\n",
    "# ==============================================================================\n",
    "metric, predictions_backtest = backtesting_forecaster_multiseries(\n",
    "                                    forecaster = forecaster,\n",
    "                                    series     = df[['s1', 's2']],\n",
    "                                    level      = 's1',\n",
    "                                    refit      = False,\n",
    "                                    initial_train_size = 12,\n",
    "                                    steps      = 4,\n",
    "                                    metric     = 'mean_squared_error',\n",
    "                                    verbose    = True\n",
    "                               )\n",
    "\n",
    "metric, predictions_backtest"
   ]
  },
  {
   "cell_type": "markdown",
   "id": "0780f125",
   "metadata": {},
   "source": [
    "## Hyperparameter optimization"
   ]
  },
  {
   "cell_type": "code",
   "execution_count": 52,
   "id": "56044904",
   "metadata": {
    "ExecuteTime": {
     "end_time": "2022-06-06T14:25:31.594529Z",
     "start_time": "2022-06-06T14:25:31.068134Z"
    }
   },
   "outputs": [
    {
     "name": "stdout",
     "output_type": "stream",
     "text": [
      "Number of models compared: 16.\n"
     ]
    },
    {
     "name": "stderr",
     "output_type": "stream",
     "text": [
      "loop lags_grid:   0%|                                               | 0/2 [00:00<?, ?it/s]\n",
      "loop param_grid:   0%|                                              | 0/4 [00:00<?, ?it/s]\u001b[A\n",
      "loop param_grid:  75%|████████████████████████████▌         | 3/4 [00:00<00:00, 20.76it/s]\u001b[A\n",
      "loop lags_grid:  50%|███████████████████▌                   | 1/2 [00:00<00:00,  4.91it/s]\u001b[A\n",
      "loop param_grid:   0%|                                              | 0/4 [00:00<?, ?it/s]\u001b[A\n",
      "loop param_grid:  50%|███████████████████                   | 2/4 [00:00<00:00, 17.38it/s]\u001b[A\n",
      "loop param_grid: 100%|██████████████████████████████████████| 4/4 [00:00<00:00, 18.76it/s]\u001b[A\n",
      "loop lags_grid: 100%|███████████████████████████████████████| 2/2 [00:00<00:00,  4.69it/s]\u001b[A"
     ]
    },
    {
     "name": "stdout",
     "output_type": "stream",
     "text": [
      "`Forecaster` refitted using the best-found lags and parameters, and the whole data set: \n",
      "  Lags: [1 2] \n",
      "  Parameters: {'max_depth': 3, 'n_estimators': 10}\n",
      "  Backtesting metric: 0.08568393805096622\n",
      "  Levels: ['s1', 's2'] \n",
      "  Levels weights: {'s1': 0.5, 's2': 0.5} \n",
      "\n"
     ]
    },
    {
     "name": "stderr",
     "output_type": "stream",
     "text": [
      "\n"
     ]
    }
   ],
   "source": [
    "forecaster = ForecasterAutoregMultiSeries(\n",
    "                regressor = RandomForestRegressor(random_state=123),\n",
    "                lags      = 3 # Placeholder, the value will be overwritten\n",
    "             )\n",
    "\n",
    "# Lags used as predictors\n",
    "lags_grid = [2, 3]\n",
    "\n",
    "# Regressor hyperparameters\n",
    "param_grid = {'n_estimators': [10, 12],\n",
    "              'max_depth': [3, 5]}\n",
    "\n",
    "param_grid = list(ParameterGrid(param_grid))\n",
    "\n",
    "results_grid = _evaluate_grid_hyperparameters_multiseries(\n",
    "                        forecaster  = forecaster,\n",
    "                        series      = df[['s1', 's2']],\n",
    "                        param_grid  = param_grid,\n",
    "                        lags_grid   = lags_grid,\n",
    "                        steps       = 4,\n",
    "                        refit       = True,\n",
    "                        metric      = 'mean_squared_error',\n",
    "                        initial_train_size = 12,\n",
    "                        fixed_train_size   = True,\n",
    "                        return_best = True,\n",
    "                        verbose     = False\n",
    "               )"
   ]
  },
  {
   "cell_type": "code",
   "execution_count": 53,
   "id": "5906ad7f",
   "metadata": {
    "ExecuteTime": {
     "end_time": "2022-06-06T14:25:39.205384Z",
     "start_time": "2022-06-06T14:25:39.140430Z"
    }
   },
   "outputs": [
    {
     "data": {
      "text/html": [
       "<div>\n",
       "<style scoped>\n",
       "    .dataframe tbody tr th:only-of-type {\n",
       "        vertical-align: middle;\n",
       "    }\n",
       "\n",
       "    .dataframe tbody tr th {\n",
       "        vertical-align: top;\n",
       "    }\n",
       "\n",
       "    .dataframe thead th {\n",
       "        text-align: right;\n",
       "    }\n",
       "</style>\n",
       "<table border=\"1\" class=\"dataframe\">\n",
       "  <thead>\n",
       "    <tr style=\"text-align: right;\">\n",
       "      <th></th>\n",
       "      <th>levels</th>\n",
       "      <th>lags</th>\n",
       "      <th>params</th>\n",
       "      <th>metric</th>\n",
       "      <th>max_depth</th>\n",
       "      <th>n_estimators</th>\n",
       "    </tr>\n",
       "  </thead>\n",
       "  <tbody>\n",
       "    <tr>\n",
       "      <th>0</th>\n",
       "      <td>[s1, s2]</td>\n",
       "      <td>[1, 2]</td>\n",
       "      <td>{'max_depth': 3, 'n_estimators': 10}</td>\n",
       "      <td>0.085684</td>\n",
       "      <td>3</td>\n",
       "      <td>10</td>\n",
       "    </tr>\n",
       "    <tr>\n",
       "      <th>1</th>\n",
       "      <td>[s1, s2]</td>\n",
       "      <td>[1, 2]</td>\n",
       "      <td>{'max_depth': 3, 'n_estimators': 12}</td>\n",
       "      <td>0.087410</td>\n",
       "      <td>3</td>\n",
       "      <td>12</td>\n",
       "    </tr>\n",
       "    <tr>\n",
       "      <th>2</th>\n",
       "      <td>[s1, s2]</td>\n",
       "      <td>[1, 2]</td>\n",
       "      <td>{'max_depth': 5, 'n_estimators': 10}</td>\n",
       "      <td>0.094286</td>\n",
       "      <td>5</td>\n",
       "      <td>10</td>\n",
       "    </tr>\n",
       "    <tr>\n",
       "      <th>3</th>\n",
       "      <td>[s1, s2]</td>\n",
       "      <td>[1, 2]</td>\n",
       "      <td>{'max_depth': 5, 'n_estimators': 12}</td>\n",
       "      <td>0.097078</td>\n",
       "      <td>5</td>\n",
       "      <td>12</td>\n",
       "    </tr>\n",
       "    <tr>\n",
       "      <th>4</th>\n",
       "      <td>[s1, s2]</td>\n",
       "      <td>[1, 2, 3]</td>\n",
       "      <td>{'max_depth': 3, 'n_estimators': 10}</td>\n",
       "      <td>0.105619</td>\n",
       "      <td>3</td>\n",
       "      <td>10</td>\n",
       "    </tr>\n",
       "    <tr>\n",
       "      <th>6</th>\n",
       "      <td>[s1, s2]</td>\n",
       "      <td>[1, 2, 3]</td>\n",
       "      <td>{'max_depth': 5, 'n_estimators': 10}</td>\n",
       "      <td>0.109143</td>\n",
       "      <td>5</td>\n",
       "      <td>10</td>\n",
       "    </tr>\n",
       "    <tr>\n",
       "      <th>7</th>\n",
       "      <td>[s1, s2]</td>\n",
       "      <td>[1, 2, 3]</td>\n",
       "      <td>{'max_depth': 5, 'n_estimators': 12}</td>\n",
       "      <td>0.112304</td>\n",
       "      <td>5</td>\n",
       "      <td>12</td>\n",
       "    </tr>\n",
       "    <tr>\n",
       "      <th>5</th>\n",
       "      <td>[s1, s2]</td>\n",
       "      <td>[1, 2, 3]</td>\n",
       "      <td>{'max_depth': 3, 'n_estimators': 12}</td>\n",
       "      <td>0.117046</td>\n",
       "      <td>3</td>\n",
       "      <td>12</td>\n",
       "    </tr>\n",
       "  </tbody>\n",
       "</table>\n",
       "</div>"
      ],
      "text/plain": [
       "     levels       lags                                params    metric  \\\n",
       "0  [s1, s2]     [1, 2]  {'max_depth': 3, 'n_estimators': 10}  0.085684   \n",
       "1  [s1, s2]     [1, 2]  {'max_depth': 3, 'n_estimators': 12}  0.087410   \n",
       "2  [s1, s2]     [1, 2]  {'max_depth': 5, 'n_estimators': 10}  0.094286   \n",
       "3  [s1, s2]     [1, 2]  {'max_depth': 5, 'n_estimators': 12}  0.097078   \n",
       "4  [s1, s2]  [1, 2, 3]  {'max_depth': 3, 'n_estimators': 10}  0.105619   \n",
       "6  [s1, s2]  [1, 2, 3]  {'max_depth': 5, 'n_estimators': 10}  0.109143   \n",
       "7  [s1, s2]  [1, 2, 3]  {'max_depth': 5, 'n_estimators': 12}  0.112304   \n",
       "5  [s1, s2]  [1, 2, 3]  {'max_depth': 3, 'n_estimators': 12}  0.117046   \n",
       "\n",
       "   max_depth  n_estimators  \n",
       "0          3            10  \n",
       "1          3            12  \n",
       "2          5            10  \n",
       "3          5            12  \n",
       "4          3            10  \n",
       "6          5            10  \n",
       "7          5            12  \n",
       "5          3            12  "
      ]
     },
     "execution_count": 53,
     "metadata": {},
     "output_type": "execute_result"
    }
   ],
   "source": [
    "results_grid"
   ]
  },
  {
   "cell_type": "code",
   "execution_count": 25,
   "id": "ca1ce4b0",
   "metadata": {
    "ExecuteTime": {
     "end_time": "2022-06-06T13:47:34.810285Z",
     "start_time": "2022-06-06T13:47:34.741668Z"
    }
   },
   "outputs": [
    {
     "data": {
      "text/html": [
       "<div>\n",
       "<style scoped>\n",
       "    .dataframe tbody tr th:only-of-type {\n",
       "        vertical-align: middle;\n",
       "    }\n",
       "\n",
       "    .dataframe tbody tr th {\n",
       "        vertical-align: top;\n",
       "    }\n",
       "\n",
       "    .dataframe thead th {\n",
       "        text-align: right;\n",
       "    }\n",
       "</style>\n",
       "<table border=\"1\" class=\"dataframe\">\n",
       "  <thead>\n",
       "    <tr style=\"text-align: right;\">\n",
       "      <th></th>\n",
       "      <th>levels</th>\n",
       "      <th>lags</th>\n",
       "      <th>params</th>\n",
       "      <th>metric</th>\n",
       "      <th>max_depth</th>\n",
       "      <th>n_estimators</th>\n",
       "    </tr>\n",
       "  </thead>\n",
       "  <tbody>\n",
       "    <tr>\n",
       "      <th>4</th>\n",
       "      <td>[s2]</td>\n",
       "      <td>[1, 2, 3]</td>\n",
       "      <td>{'max_depth': 3, 'n_estimators': 10}</td>\n",
       "      <td>0.085284</td>\n",
       "      <td>3</td>\n",
       "      <td>10</td>\n",
       "    </tr>\n",
       "    <tr>\n",
       "      <th>5</th>\n",
       "      <td>[s2]</td>\n",
       "      <td>[1, 2, 3]</td>\n",
       "      <td>{'max_depth': 3, 'n_estimators': 12}</td>\n",
       "      <td>0.085913</td>\n",
       "      <td>3</td>\n",
       "      <td>12</td>\n",
       "    </tr>\n",
       "    <tr>\n",
       "      <th>7</th>\n",
       "      <td>[s2]</td>\n",
       "      <td>[1, 2, 3]</td>\n",
       "      <td>{'max_depth': 5, 'n_estimators': 12}</td>\n",
       "      <td>0.088803</td>\n",
       "      <td>5</td>\n",
       "      <td>12</td>\n",
       "    </tr>\n",
       "    <tr>\n",
       "      <th>6</th>\n",
       "      <td>[s2]</td>\n",
       "      <td>[1, 2, 3]</td>\n",
       "      <td>{'max_depth': 5, 'n_estimators': 10}</td>\n",
       "      <td>0.093848</td>\n",
       "      <td>5</td>\n",
       "      <td>10</td>\n",
       "    </tr>\n",
       "    <tr>\n",
       "      <th>0</th>\n",
       "      <td>[s2]</td>\n",
       "      <td>[1, 2]</td>\n",
       "      <td>{'max_depth': 3, 'n_estimators': 10}</td>\n",
       "      <td>0.099212</td>\n",
       "      <td>3</td>\n",
       "      <td>10</td>\n",
       "    </tr>\n",
       "    <tr>\n",
       "      <th>1</th>\n",
       "      <td>[s2]</td>\n",
       "      <td>[1, 2]</td>\n",
       "      <td>{'max_depth': 3, 'n_estimators': 12}</td>\n",
       "      <td>0.106265</td>\n",
       "      <td>3</td>\n",
       "      <td>12</td>\n",
       "    </tr>\n",
       "    <tr>\n",
       "      <th>2</th>\n",
       "      <td>[s2]</td>\n",
       "      <td>[1, 2]</td>\n",
       "      <td>{'max_depth': 5, 'n_estimators': 10}</td>\n",
       "      <td>0.108759</td>\n",
       "      <td>5</td>\n",
       "      <td>10</td>\n",
       "    </tr>\n",
       "    <tr>\n",
       "      <th>3</th>\n",
       "      <td>[s2]</td>\n",
       "      <td>[1, 2]</td>\n",
       "      <td>{'max_depth': 5, 'n_estimators': 12}</td>\n",
       "      <td>0.111977</td>\n",
       "      <td>5</td>\n",
       "      <td>12</td>\n",
       "    </tr>\n",
       "  </tbody>\n",
       "</table>\n",
       "</div>"
      ],
      "text/plain": [
       "  levels       lags                                params    metric  \\\n",
       "4   [s2]  [1, 2, 3]  {'max_depth': 3, 'n_estimators': 10}  0.085284   \n",
       "5   [s2]  [1, 2, 3]  {'max_depth': 3, 'n_estimators': 12}  0.085913   \n",
       "7   [s2]  [1, 2, 3]  {'max_depth': 5, 'n_estimators': 12}  0.088803   \n",
       "6   [s2]  [1, 2, 3]  {'max_depth': 5, 'n_estimators': 10}  0.093848   \n",
       "0   [s2]     [1, 2]  {'max_depth': 3, 'n_estimators': 10}  0.099212   \n",
       "1   [s2]     [1, 2]  {'max_depth': 3, 'n_estimators': 12}  0.106265   \n",
       "2   [s2]     [1, 2]  {'max_depth': 5, 'n_estimators': 10}  0.108759   \n",
       "3   [s2]     [1, 2]  {'max_depth': 5, 'n_estimators': 12}  0.111977   \n",
       "\n",
       "   max_depth  n_estimators  \n",
       "4          3            10  \n",
       "5          3            12  \n",
       "7          5            12  \n",
       "6          5            10  \n",
       "0          3            10  \n",
       "1          3            12  \n",
       "2          5            10  \n",
       "3          5            12  "
      ]
     },
     "execution_count": 25,
     "metadata": {},
     "output_type": "execute_result"
    }
   ],
   "source": [
    "results_grid"
   ]
  },
  {
   "cell_type": "code",
   "execution_count": 33,
   "id": "91e56397",
   "metadata": {
    "ExecuteTime": {
     "end_time": "2022-06-06T13:50:11.128914Z",
     "start_time": "2022-06-06T13:50:11.067860Z"
    }
   },
   "outputs": [
    {
     "data": {
      "text/plain": [
       "0.09234300000000001"
      ]
     },
     "execution_count": 33,
     "metadata": {},
     "output_type": "execute_result"
    }
   ],
   "source": [
    "(0.078421 + 0.106265)/2"
   ]
  },
  {
   "cell_type": "code",
   "execution_count": 28,
   "id": "691871d4",
   "metadata": {
    "ExecuteTime": {
     "end_time": "2022-06-06T13:48:11.023228Z",
     "start_time": "2022-06-06T13:48:10.953646Z"
    }
   },
   "outputs": [
    {
     "data": {
      "text/html": [
       "<div>\n",
       "<style scoped>\n",
       "    .dataframe tbody tr th:only-of-type {\n",
       "        vertical-align: middle;\n",
       "    }\n",
       "\n",
       "    .dataframe tbody tr th {\n",
       "        vertical-align: top;\n",
       "    }\n",
       "\n",
       "    .dataframe thead th {\n",
       "        text-align: right;\n",
       "    }\n",
       "</style>\n",
       "<table border=\"1\" class=\"dataframe\">\n",
       "  <thead>\n",
       "    <tr style=\"text-align: right;\">\n",
       "      <th></th>\n",
       "      <th>levels</th>\n",
       "      <th>lags</th>\n",
       "      <th>params</th>\n",
       "      <th>metric</th>\n",
       "      <th>max_depth</th>\n",
       "      <th>n_estimators</th>\n",
       "    </tr>\n",
       "  </thead>\n",
       "  <tbody>\n",
       "    <tr>\n",
       "      <th>1</th>\n",
       "      <td>[s1, s2]</td>\n",
       "      <td>[1, 2]</td>\n",
       "      <td>{'max_depth': 3, 'n_estimators': 12}</td>\n",
       "      <td>0.092343</td>\n",
       "      <td>3</td>\n",
       "      <td>12</td>\n",
       "    </tr>\n",
       "    <tr>\n",
       "      <th>0</th>\n",
       "      <td>[s1, s2]</td>\n",
       "      <td>[1, 2]</td>\n",
       "      <td>{'max_depth': 3, 'n_estimators': 10}</td>\n",
       "      <td>0.101738</td>\n",
       "      <td>3</td>\n",
       "      <td>10</td>\n",
       "    </tr>\n",
       "    <tr>\n",
       "      <th>5</th>\n",
       "      <td>[s1, s2]</td>\n",
       "      <td>[1, 2, 3]</td>\n",
       "      <td>{'max_depth': 3, 'n_estimators': 12}</td>\n",
       "      <td>0.106701</td>\n",
       "      <td>3</td>\n",
       "      <td>12</td>\n",
       "    </tr>\n",
       "    <tr>\n",
       "      <th>7</th>\n",
       "      <td>[s1, s2]</td>\n",
       "      <td>[1, 2, 3]</td>\n",
       "      <td>{'max_depth': 5, 'n_estimators': 12}</td>\n",
       "      <td>0.108936</td>\n",
       "      <td>5</td>\n",
       "      <td>12</td>\n",
       "    </tr>\n",
       "    <tr>\n",
       "      <th>2</th>\n",
       "      <td>[s1, s2]</td>\n",
       "      <td>[1, 2]</td>\n",
       "      <td>{'max_depth': 5, 'n_estimators': 10}</td>\n",
       "      <td>0.109556</td>\n",
       "      <td>5</td>\n",
       "      <td>10</td>\n",
       "    </tr>\n",
       "    <tr>\n",
       "      <th>4</th>\n",
       "      <td>[s1, s2]</td>\n",
       "      <td>[1, 2, 3]</td>\n",
       "      <td>{'max_depth': 3, 'n_estimators': 10}</td>\n",
       "      <td>0.112275</td>\n",
       "      <td>3</td>\n",
       "      <td>10</td>\n",
       "    </tr>\n",
       "    <tr>\n",
       "      <th>6</th>\n",
       "      <td>[s1, s2]</td>\n",
       "      <td>[1, 2, 3]</td>\n",
       "      <td>{'max_depth': 5, 'n_estimators': 10}</td>\n",
       "      <td>0.116062</td>\n",
       "      <td>5</td>\n",
       "      <td>10</td>\n",
       "    </tr>\n",
       "    <tr>\n",
       "      <th>3</th>\n",
       "      <td>[s1, s2]</td>\n",
       "      <td>[1, 2]</td>\n",
       "      <td>{'max_depth': 5, 'n_estimators': 12}</td>\n",
       "      <td>0.122368</td>\n",
       "      <td>5</td>\n",
       "      <td>12</td>\n",
       "    </tr>\n",
       "  </tbody>\n",
       "</table>\n",
       "</div>"
      ],
      "text/plain": [
       "     levels       lags                                params    metric  \\\n",
       "1  [s1, s2]     [1, 2]  {'max_depth': 3, 'n_estimators': 12}  0.092343   \n",
       "0  [s1, s2]     [1, 2]  {'max_depth': 3, 'n_estimators': 10}  0.101738   \n",
       "5  [s1, s2]  [1, 2, 3]  {'max_depth': 3, 'n_estimators': 12}  0.106701   \n",
       "7  [s1, s2]  [1, 2, 3]  {'max_depth': 5, 'n_estimators': 12}  0.108936   \n",
       "2  [s1, s2]     [1, 2]  {'max_depth': 5, 'n_estimators': 10}  0.109556   \n",
       "4  [s1, s2]  [1, 2, 3]  {'max_depth': 3, 'n_estimators': 10}  0.112275   \n",
       "6  [s1, s2]  [1, 2, 3]  {'max_depth': 5, 'n_estimators': 10}  0.116062   \n",
       "3  [s1, s2]     [1, 2]  {'max_depth': 5, 'n_estimators': 12}  0.122368   \n",
       "\n",
       "   max_depth  n_estimators  \n",
       "1          3            12  \n",
       "0          3            10  \n",
       "5          3            12  \n",
       "7          5            12  \n",
       "2          5            10  \n",
       "4          3            10  \n",
       "6          5            10  \n",
       "3          5            12  "
      ]
     },
     "execution_count": 28,
     "metadata": {},
     "output_type": "execute_result"
    }
   ],
   "source": [
    "results_grid"
   ]
  },
  {
   "cell_type": "code",
   "execution_count": 37,
   "id": "95f1a12d",
   "metadata": {
    "ExecuteTime": {
     "end_time": "2022-06-06T13:51:16.184940Z",
     "start_time": "2022-06-06T13:51:16.122450Z"
    }
   },
   "outputs": [
    {
     "data": {
      "text/plain": [
       "0.08343292"
      ]
     },
     "execution_count": 37,
     "metadata": {},
     "output_type": "execute_result"
    }
   ],
   "source": [
    "0.078421*0.82 + 0.106265*0.18"
   ]
  },
  {
   "cell_type": "code",
   "execution_count": 36,
   "id": "d8b08f51",
   "metadata": {
    "ExecuteTime": {
     "end_time": "2022-06-06T13:51:03.107367Z",
     "start_time": "2022-06-06T13:51:03.042576Z"
    }
   },
   "outputs": [
    {
     "data": {
      "text/html": [
       "<div>\n",
       "<style scoped>\n",
       "    .dataframe tbody tr th:only-of-type {\n",
       "        vertical-align: middle;\n",
       "    }\n",
       "\n",
       "    .dataframe tbody tr th {\n",
       "        vertical-align: top;\n",
       "    }\n",
       "\n",
       "    .dataframe thead th {\n",
       "        text-align: right;\n",
       "    }\n",
       "</style>\n",
       "<table border=\"1\" class=\"dataframe\">\n",
       "  <thead>\n",
       "    <tr style=\"text-align: right;\">\n",
       "      <th></th>\n",
       "      <th>levels</th>\n",
       "      <th>lags</th>\n",
       "      <th>params</th>\n",
       "      <th>metric</th>\n",
       "      <th>max_depth</th>\n",
       "      <th>n_estimators</th>\n",
       "    </tr>\n",
       "  </thead>\n",
       "  <tbody>\n",
       "    <tr>\n",
       "      <th>1</th>\n",
       "      <td>[s1, s2]</td>\n",
       "      <td>[1, 2]</td>\n",
       "      <td>{'max_depth': 3, 'n_estimators': 12}</td>\n",
       "      <td>0.083433</td>\n",
       "      <td>3</td>\n",
       "      <td>12</td>\n",
       "    </tr>\n",
       "    <tr>\n",
       "      <th>0</th>\n",
       "      <td>[s1, s2]</td>\n",
       "      <td>[1, 2]</td>\n",
       "      <td>{'max_depth': 3, 'n_estimators': 10}</td>\n",
       "      <td>0.103354</td>\n",
       "      <td>3</td>\n",
       "      <td>10</td>\n",
       "    </tr>\n",
       "    <tr>\n",
       "      <th>2</th>\n",
       "      <td>[s1, s2]</td>\n",
       "      <td>[1, 2]</td>\n",
       "      <td>{'max_depth': 5, 'n_estimators': 10}</td>\n",
       "      <td>0.110067</td>\n",
       "      <td>5</td>\n",
       "      <td>10</td>\n",
       "    </tr>\n",
       "    <tr>\n",
       "      <th>5</th>\n",
       "      <td>[s1, s2]</td>\n",
       "      <td>[1, 2, 3]</td>\n",
       "      <td>{'max_depth': 3, 'n_estimators': 12}</td>\n",
       "      <td>0.120005</td>\n",
       "      <td>3</td>\n",
       "      <td>12</td>\n",
       "    </tr>\n",
       "    <tr>\n",
       "      <th>7</th>\n",
       "      <td>[s1, s2]</td>\n",
       "      <td>[1, 2, 3]</td>\n",
       "      <td>{'max_depth': 5, 'n_estimators': 12}</td>\n",
       "      <td>0.121821</td>\n",
       "      <td>5</td>\n",
       "      <td>12</td>\n",
       "    </tr>\n",
       "    <tr>\n",
       "      <th>3</th>\n",
       "      <td>[s1, s2]</td>\n",
       "      <td>[1, 2]</td>\n",
       "      <td>{'max_depth': 5, 'n_estimators': 12}</td>\n",
       "      <td>0.129018</td>\n",
       "      <td>5</td>\n",
       "      <td>12</td>\n",
       "    </tr>\n",
       "    <tr>\n",
       "      <th>4</th>\n",
       "      <td>[s1, s2]</td>\n",
       "      <td>[1, 2, 3]</td>\n",
       "      <td>{'max_depth': 3, 'n_estimators': 10}</td>\n",
       "      <td>0.129549</td>\n",
       "      <td>3</td>\n",
       "      <td>10</td>\n",
       "    </tr>\n",
       "    <tr>\n",
       "      <th>6</th>\n",
       "      <td>[s1, s2]</td>\n",
       "      <td>[1, 2, 3]</td>\n",
       "      <td>{'max_depth': 5, 'n_estimators': 10}</td>\n",
       "      <td>0.130279</td>\n",
       "      <td>5</td>\n",
       "      <td>10</td>\n",
       "    </tr>\n",
       "  </tbody>\n",
       "</table>\n",
       "</div>"
      ],
      "text/plain": [
       "     levels       lags                                params    metric  \\\n",
       "1  [s1, s2]     [1, 2]  {'max_depth': 3, 'n_estimators': 12}  0.083433   \n",
       "0  [s1, s2]     [1, 2]  {'max_depth': 3, 'n_estimators': 10}  0.103354   \n",
       "2  [s1, s2]     [1, 2]  {'max_depth': 5, 'n_estimators': 10}  0.110067   \n",
       "5  [s1, s2]  [1, 2, 3]  {'max_depth': 3, 'n_estimators': 12}  0.120005   \n",
       "7  [s1, s2]  [1, 2, 3]  {'max_depth': 5, 'n_estimators': 12}  0.121821   \n",
       "3  [s1, s2]     [1, 2]  {'max_depth': 5, 'n_estimators': 12}  0.129018   \n",
       "4  [s1, s2]  [1, 2, 3]  {'max_depth': 3, 'n_estimators': 10}  0.129549   \n",
       "6  [s1, s2]  [1, 2, 3]  {'max_depth': 5, 'n_estimators': 10}  0.130279   \n",
       "\n",
       "   max_depth  n_estimators  \n",
       "1          3            12  \n",
       "0          3            10  \n",
       "2          5            10  \n",
       "5          3            12  \n",
       "7          5            12  \n",
       "3          5            12  \n",
       "4          3            10  \n",
       "6          5            10  "
      ]
     },
     "execution_count": 36,
     "metadata": {},
     "output_type": "execute_result"
    }
   ],
   "source": [
    "results_grid"
   ]
  },
  {
   "cell_type": "code",
   "execution_count": 47,
   "id": "4560166f",
   "metadata": {
    "ExecuteTime": {
     "end_time": "2022-06-06T13:57:16.081920Z",
     "start_time": "2022-06-06T13:57:16.015570Z"
    }
   },
   "outputs": [],
   "source": [
    "cols = list(df[['s1', 's2']].columns)"
   ]
  },
  {
   "cell_type": "code",
   "execution_count": 43,
   "id": "4523d0cc",
   "metadata": {
    "ExecuteTime": {
     "end_time": "2022-06-06T13:54:55.980619Z",
     "start_time": "2022-06-06T13:54:55.917344Z"
    }
   },
   "outputs": [],
   "source": [
    "levels_weights= {'s1': 0.82, 's2': 0.18} "
   ]
  },
  {
   "cell_type": "code",
   "execution_count": 50,
   "id": "06d5d654",
   "metadata": {
    "ExecuteTime": {
     "end_time": "2022-06-06T13:57:50.406288Z",
     "start_time": "2022-06-06T13:57:50.351077Z"
    }
   },
   "outputs": [],
   "source": [
    "if cols != list(levels_weights.keys()):\n",
    "    print(1)"
   ]
  },
  {
   "cell_type": "markdown",
   "id": "cfc23325",
   "metadata": {},
   "source": [
    "## Example"
   ]
  },
  {
   "cell_type": "markdown",
   "id": "177b159d",
   "metadata": {},
   "source": [
    "https://www.mariofilho.com/how-to-predict-multiple-time-series-with-scikit-learn-with-sales-forecasting-example/"
   ]
  },
  {
   "cell_type": "code",
   "execution_count": 31,
   "id": "264aa909",
   "metadata": {
    "ExecuteTime": {
     "end_time": "2022-06-08T15:54:25.078349Z",
     "start_time": "2022-06-08T15:54:25.006585Z"
    }
   },
   "outputs": [
    {
     "name": "stdout",
     "output_type": "stream",
     "text": [
      "The autoreload extension is already loaded. To reload it, use:\n",
      "  %reload_ext autoreload\n"
     ]
    }
   ],
   "source": [
    "%load_ext autoreload\n",
    "%autoreload 2\n",
    "import sys\n",
    "from pathlib import Path\n",
    "sys.path.insert(1, str(Path.cwd().parent.parent))\n",
    "%config Completer.use_jedi = False"
   ]
  },
  {
   "cell_type": "code",
   "execution_count": 54,
   "id": "bb025894",
   "metadata": {
    "ExecuteTime": {
     "end_time": "2022-06-08T16:01:30.985183Z",
     "start_time": "2022-06-08T16:01:30.906541Z"
    }
   },
   "outputs": [],
   "source": [
    "import numpy as np\n",
    "import pandas as pd\n",
    "import matplotlib.pyplot as plt\n",
    "\n",
    "from skforecast.ForecasterAutoreg import ForecasterAutoreg\n",
    "from skforecast.ForecasterAutoregMultiSeries import ForecasterAutoregMultiSeries\n",
    "from skforecast.model_selection import backtesting_forecaster\n",
    "from skforecast.model_selection import grid_search_forecaster\n",
    "from skforecast.model_selection_multiseries import backtesting_forecaster_multiseries\n",
    "from skforecast.model_selection_multiseries.model_selection_multiseries import _evaluate_grid_hyperparameters_multiseries\n",
    "\n",
    "from sklearn.model_selection import ParameterGrid\n",
    "from sklearn.linear_model import LinearRegression\n",
    "from sklearn.ensemble import RandomForestRegressor\n",
    "from sklearn.metrics import mean_squared_error"
   ]
  },
  {
   "cell_type": "code",
   "execution_count": 38,
   "id": "4d540720",
   "metadata": {
    "ExecuteTime": {
     "end_time": "2022-06-08T15:55:51.750276Z",
     "start_time": "2022-06-08T15:55:51.669875Z"
    }
   },
   "outputs": [
    {
     "data": {
      "text/html": [
       "<div>\n",
       "<style scoped>\n",
       "    .dataframe tbody tr th:only-of-type {\n",
       "        vertical-align: middle;\n",
       "    }\n",
       "\n",
       "    .dataframe tbody tr th {\n",
       "        vertical-align: top;\n",
       "    }\n",
       "\n",
       "    .dataframe thead th {\n",
       "        text-align: right;\n",
       "    }\n",
       "</style>\n",
       "<table border=\"1\" class=\"dataframe\">\n",
       "  <thead>\n",
       "    <tr style=\"text-align: right;\">\n",
       "      <th></th>\n",
       "      <th>P1</th>\n",
       "      <th>P2</th>\n",
       "      <th>P3</th>\n",
       "      <th>P4</th>\n",
       "      <th>Week</th>\n",
       "    </tr>\n",
       "  </thead>\n",
       "  <tbody>\n",
       "    <tr>\n",
       "      <th>2022-01-02</th>\n",
       "      <td>11</td>\n",
       "      <td>7</td>\n",
       "      <td>7</td>\n",
       "      <td>12</td>\n",
       "      <td>0</td>\n",
       "    </tr>\n",
       "    <tr>\n",
       "      <th>2022-01-09</th>\n",
       "      <td>12</td>\n",
       "      <td>6</td>\n",
       "      <td>11</td>\n",
       "      <td>8</td>\n",
       "      <td>1</td>\n",
       "    </tr>\n",
       "    <tr>\n",
       "      <th>2022-01-16</th>\n",
       "      <td>10</td>\n",
       "      <td>3</td>\n",
       "      <td>8</td>\n",
       "      <td>13</td>\n",
       "      <td>2</td>\n",
       "    </tr>\n",
       "  </tbody>\n",
       "</table>\n",
       "</div>"
      ],
      "text/plain": [
       "            P1  P2  P3  P4  Week\n",
       "2022-01-02  11   7   7  12     0\n",
       "2022-01-09  12   6  11   8     1\n",
       "2022-01-16  10   3   8  13     2"
      ]
     },
     "execution_count": 38,
     "metadata": {},
     "output_type": "execute_result"
    }
   ],
   "source": [
    "data = pd.read_csv(r'C:\\Users\\jaesc2\\Downloads\\Sales_Transactions_Dataset_Weekly.csv')\n",
    "data = data.filter(regex=r'Product|W')\n",
    "items = ['P1', 'P2', 'P3', 'P4']\n",
    "data = data[data['Product_Code'].isin(items)]\n",
    "data = data.set_index('Product_Code')\n",
    "data = data.T\n",
    "data = data.reset_index()\n",
    "data['Week'] = data['index'].str.extract('(\\d+)', expand=False).astype(int)\n",
    "data = data.rename_axis(None, axis=1)\n",
    "data = data.drop(columns=['index'])\n",
    "data.index = pd.date_range(start='2022-01-01', periods=52, freq='1W')\n",
    "data.head(3)"
   ]
  },
  {
   "cell_type": "code",
   "execution_count": 40,
   "id": "8db59d38",
   "metadata": {
    "ExecuteTime": {
     "end_time": "2022-06-08T15:56:27.124603Z",
     "start_time": "2022-06-08T15:56:26.874206Z"
    }
   },
   "outputs": [
    {
     "name": "stdout",
     "output_type": "stream",
     "text": [
      "Train dates : 2022-01-02 00:00:00 --- 2022-09-25 00:00:00  (n=39)\n",
      "Test dates  : 2022-10-02 00:00:00 --- 2022-12-25 00:00:00  (n=13)\n"
     ]
    },
    {
     "data": {
      "image/png": "[encoded data removed]",
      "text/plain": [
       "<Figure size 648x288 with 1 Axes>"
      ]
     },
     "metadata": {
      "needs_background": "light"
     },
     "output_type": "display_data"
    }
   ],
   "source": [
    "# Train-test dates\n",
    "# ==============================================================================\n",
    "end_train = '2022-09-30 23:59:00'\n",
    "\n",
    "print(f\"Train dates : {data.index.min()} --- {data.loc[:end_train].index.max()}  (n={len(data.loc[:end_train])})\")\n",
    "print(f\"Test dates  : {data.loc[end_train:].index.min()} --- {data.index.max()}  (n={len(data.loc[end_train:])})\")\n",
    "\n",
    "# Plot\n",
    "# ==============================================================================\n",
    "fig, ax=plt.subplots(figsize=(9, 4))\n",
    "data[items].loc[:end_train].plot(ax=ax, label='train')\n",
    "data[items].loc[end_train:].plot(ax=ax, label='test')\n",
    "ax.legend();"
   ]
  },
  {
   "cell_type": "markdown",
   "id": "4eed65b3",
   "metadata": {},
   "source": [
    "### ForecasterAutoreg P1"
   ]
  },
  {
   "cell_type": "code",
   "execution_count": 72,
   "id": "ee886f73",
   "metadata": {
    "ExecuteTime": {
     "end_time": "2022-06-08T16:07:56.904349Z",
     "start_time": "2022-06-08T16:07:56.746283Z"
    }
   },
   "outputs": [
    {
     "data": {
      "text/plain": [
       "================= \n",
       "ForecasterAutoreg \n",
       "================= \n",
       "Regressor: RandomForestRegressor(random_state=123) \n",
       "Lags: [1 2 3 4] \n",
       "Window size: 4 \n",
       "Included exogenous: True \n",
       "Type of exogenous variable: <class 'pandas.core.series.Series'> \n",
       "Exogenous variables names: Week \n",
       "Training range: [Timestamp('2022-01-02 00:00:00'), Timestamp('2022-09-25 00:00:00')] \n",
       "Training index type: DatetimeIndex \n",
       "Training index frequency: W-SUN \n",
       "Regressor parameters: {'bootstrap': True, 'ccp_alpha': 0.0, 'criterion': 'squared_error', 'max_depth': None, 'max_features': 1.0, 'max_leaf_nodes': None, 'max_samples': None, 'min_impurity_decrease': 0.0, 'min_samples_leaf': 1, 'min_samples_split': 2, 'min_weight_fraction_leaf': 0.0, 'n_estimators': 100, 'n_jobs': None, 'oob_score': False, 'random_state': 123, 'verbose': 0, 'warm_start': False} \n",
       "Creation date: 2022-06-08 18:07:56 \n",
       "Last fit date: 2022-06-08 18:07:56 \n",
       "Skforecast version: 0.5.dev1 "
      ]
     },
     "execution_count": 72,
     "metadata": {},
     "output_type": "execute_result"
    }
   ],
   "source": [
    "# Create and fit Recursive multi-step forecaster (ForecasterAutoreg)\n",
    "# ==============================================================================\n",
    "forecaster = ForecasterAutoreg(\n",
    "                    regressor = RandomForestRegressor(random_state=123),\n",
    "                    lags      = 4\n",
    "             )\n",
    "\n",
    "forecaster.fit(y=data.loc[:end_train, 'P1'], exog=data.loc[:end_train, 'Week'])\n",
    "forecaster"
   ]
  },
  {
   "cell_type": "code",
   "execution_count": 73,
   "id": "d38f6cc9",
   "metadata": {
    "ExecuteTime": {
     "end_time": "2022-06-08T16:07:57.599718Z",
     "start_time": "2022-06-08T16:07:57.286246Z"
    }
   },
   "outputs": [
    {
     "data": {
      "image/png": "[encoded data removed]",
      "text/plain": [
       "<Figure size 648x288 with 1 Axes>"
      ]
     },
     "metadata": {
      "needs_background": "light"
     },
     "output_type": "display_data"
    }
   ],
   "source": [
    "# Predict\n",
    "# ==============================================================================\n",
    "predictions = forecaster.predict(steps=len(data.loc[end_train:]), exog=data.loc[end_train:, 'Week'])\n",
    "predictions.head(3)\n",
    "\n",
    "# Plot predictions\n",
    "# ==============================================================================\n",
    "fig, ax=plt.subplots(figsize=(9, 4))\n",
    "data['P1'].loc[:end_train].plot(ax=ax, label='train')\n",
    "data['P1'].loc[end_train:].plot(ax=ax, label='test')\n",
    "predictions.plot(ax=ax, label='predictions')\n",
    "ax.legend();"
   ]
  },
  {
   "cell_type": "code",
   "execution_count": 74,
   "id": "3e3825a7",
   "metadata": {
    "ExecuteTime": {
     "end_time": "2022-06-08T16:07:58.017227Z",
     "start_time": "2022-06-08T16:07:57.949549Z"
    }
   },
   "outputs": [
    {
     "name": "stdout",
     "output_type": "stream",
     "text": [
      "Test error (mse): 14.450769230769229\n"
     ]
    }
   ],
   "source": [
    "# Prediction error\n",
    "# ==============================================================================\n",
    "error_mse = mean_squared_error(\n",
    "                y_true = data['P1'].loc[end_train:],\n",
    "                y_pred = predictions\n",
    "            )\n",
    "print(f\"Test error (mse): {error_mse}\")"
   ]
  },
  {
   "cell_type": "code",
   "execution_count": 75,
   "id": "8a075fc8",
   "metadata": {
    "ExecuteTime": {
     "end_time": "2022-06-08T16:07:58.973340Z",
     "start_time": "2022-06-08T16:07:58.512145Z"
    }
   },
   "outputs": [
    {
     "name": "stdout",
     "output_type": "stream",
     "text": [
      "Backtest error: 17.774153846153848\n"
     ]
    }
   ],
   "source": [
    "# Backtesting\n",
    "# ==============================================================================\n",
    "metric, predictions_backtest = backtesting_forecaster(\n",
    "                                    forecaster = forecaster,\n",
    "                                    y          = data['P1'],\n",
    "                                    initial_train_size = len(data['P1'].loc[:end_train]),\n",
    "                                    fixed_train_size   = False,\n",
    "                                    steps      = 3,\n",
    "                                    exog       = data['Week'],\n",
    "                                    metric     = 'mean_squared_error',\n",
    "                                    refit      = True,\n",
    "                                    verbose    = False\n",
    "                               )\n",
    "\n",
    "print(f\"Backtest error: {metric}\")"
   ]
  },
  {
   "cell_type": "code",
   "execution_count": 76,
   "id": "4eb84272",
   "metadata": {
    "ExecuteTime": {
     "end_time": "2022-06-08T16:08:01.446613Z",
     "start_time": "2022-06-08T16:07:59.837883Z"
    }
   },
   "outputs": [
    {
     "name": "stdout",
     "output_type": "stream",
     "text": [
      "Number of models compared: 18.\n"
     ]
    },
    {
     "name": "stderr",
     "output_type": "stream",
     "text": [
      "loop lags_grid:   0%|                                               | 0/3 [00:00<?, ?it/s]\n",
      "loop param_grid:   0%|                                              | 0/6 [00:00<?, ?it/s]\u001b[A\n",
      "loop param_grid:  33%|████████████▋                         | 2/6 [00:00<00:00, 12.30it/s]\u001b[A\n",
      "loop param_grid:  67%|█████████████████████████▎            | 4/6 [00:00<00:00, 12.15it/s]\u001b[A\n",
      "loop param_grid: 100%|██████████████████████████████████████| 6/6 [00:00<00:00, 12.06it/s]\u001b[A\n",
      "loop lags_grid:  33%|█████████████                          | 1/3 [00:00<00:00,  2.00it/s]\u001b[A\n",
      "loop param_grid:   0%|                                              | 0/6 [00:00<?, ?it/s]\u001b[A\n",
      "loop param_grid:  33%|████████████▋                         | 2/6 [00:00<00:00, 12.96it/s]\u001b[A\n",
      "loop param_grid:  67%|█████████████████████████▎            | 4/6 [00:00<00:00, 12.25it/s]\u001b[A\n",
      "loop param_grid: 100%|██████████████████████████████████████| 6/6 [00:00<00:00, 12.07it/s]\u001b[A\n",
      "loop lags_grid:  67%|██████████████████████████             | 2/3 [00:01<00:00,  1.97it/s]\u001b[A\n",
      "loop param_grid:   0%|                                              | 0/6 [00:00<?, ?it/s]\u001b[A\n",
      "loop param_grid:  33%|████████████▋                         | 2/6 [00:00<00:00, 12.00it/s]\u001b[A\n",
      "loop param_grid:  67%|█████████████████████████▎            | 4/6 [00:00<00:00, 13.54it/s]\u001b[A\n",
      "loop param_grid: 100%|██████████████████████████████████████| 6/6 [00:00<00:00, 11.94it/s]\u001b[A\n",
      "loop lags_grid: 100%|███████████████████████████████████████| 3/3 [00:01<00:00,  1.98it/s]\u001b[A\n"
     ]
    },
    {
     "data": {
      "text/html": [
       "<div>\n",
       "<style scoped>\n",
       "    .dataframe tbody tr th:only-of-type {\n",
       "        vertical-align: middle;\n",
       "    }\n",
       "\n",
       "    .dataframe tbody tr th {\n",
       "        vertical-align: top;\n",
       "    }\n",
       "\n",
       "    .dataframe thead th {\n",
       "        text-align: right;\n",
       "    }\n",
       "</style>\n",
       "<table border=\"1\" class=\"dataframe\">\n",
       "  <thead>\n",
       "    <tr style=\"text-align: right;\">\n",
       "      <th></th>\n",
       "      <th>lags</th>\n",
       "      <th>params</th>\n",
       "      <th>metric</th>\n",
       "      <th>max_depth</th>\n",
       "      <th>n_estimators</th>\n",
       "    </tr>\n",
       "  </thead>\n",
       "  <tbody>\n",
       "    <tr>\n",
       "      <th>13</th>\n",
       "      <td>[1, 2, 3, 4, 5]</td>\n",
       "      <td>{'max_depth': 5, 'n_estimators': 20}</td>\n",
       "      <td>17.929058</td>\n",
       "      <td>5</td>\n",
       "      <td>20</td>\n",
       "    </tr>\n",
       "    <tr>\n",
       "      <th>8</th>\n",
       "      <td>[1, 2, 3, 4]</td>\n",
       "      <td>{'max_depth': 7, 'n_estimators': 10}</td>\n",
       "      <td>18.227009</td>\n",
       "      <td>7</td>\n",
       "      <td>10</td>\n",
       "    </tr>\n",
       "    <tr>\n",
       "      <th>11</th>\n",
       "      <td>[1, 2, 3, 4]</td>\n",
       "      <td>{'max_depth': 10, 'n_estimators': 20}</td>\n",
       "      <td>18.253462</td>\n",
       "      <td>10</td>\n",
       "      <td>20</td>\n",
       "    </tr>\n",
       "    <tr>\n",
       "      <th>14</th>\n",
       "      <td>[1, 2, 3, 4, 5]</td>\n",
       "      <td>{'max_depth': 7, 'n_estimators': 10}</td>\n",
       "      <td>18.264666</td>\n",
       "      <td>7</td>\n",
       "      <td>10</td>\n",
       "    </tr>\n",
       "    <tr>\n",
       "      <th>9</th>\n",
       "      <td>[1, 2, 3, 4]</td>\n",
       "      <td>{'max_depth': 7, 'n_estimators': 20}</td>\n",
       "      <td>18.498871</td>\n",
       "      <td>7</td>\n",
       "      <td>20</td>\n",
       "    </tr>\n",
       "    <tr>\n",
       "      <th>6</th>\n",
       "      <td>[1, 2, 3, 4]</td>\n",
       "      <td>{'max_depth': 5, 'n_estimators': 10}</td>\n",
       "      <td>18.499416</td>\n",
       "      <td>5</td>\n",
       "      <td>10</td>\n",
       "    </tr>\n",
       "    <tr>\n",
       "      <th>7</th>\n",
       "      <td>[1, 2, 3, 4]</td>\n",
       "      <td>{'max_depth': 5, 'n_estimators': 20}</td>\n",
       "      <td>18.598506</td>\n",
       "      <td>5</td>\n",
       "      <td>20</td>\n",
       "    </tr>\n",
       "    <tr>\n",
       "      <th>12</th>\n",
       "      <td>[1, 2, 3, 4, 5]</td>\n",
       "      <td>{'max_depth': 5, 'n_estimators': 10}</td>\n",
       "      <td>18.600161</td>\n",
       "      <td>5</td>\n",
       "      <td>10</td>\n",
       "    </tr>\n",
       "    <tr>\n",
       "      <th>10</th>\n",
       "      <td>[1, 2, 3, 4]</td>\n",
       "      <td>{'max_depth': 10, 'n_estimators': 10}</td>\n",
       "      <td>18.813077</td>\n",
       "      <td>10</td>\n",
       "      <td>10</td>\n",
       "    </tr>\n",
       "    <tr>\n",
       "      <th>15</th>\n",
       "      <td>[1, 2, 3, 4, 5]</td>\n",
       "      <td>{'max_depth': 7, 'n_estimators': 20}</td>\n",
       "      <td>19.295880</td>\n",
       "      <td>7</td>\n",
       "      <td>20</td>\n",
       "    </tr>\n",
       "    <tr>\n",
       "      <th>17</th>\n",
       "      <td>[1, 2, 3, 4, 5]</td>\n",
       "      <td>{'max_depth': 10, 'n_estimators': 20}</td>\n",
       "      <td>19.899231</td>\n",
       "      <td>10</td>\n",
       "      <td>20</td>\n",
       "    </tr>\n",
       "    <tr>\n",
       "      <th>16</th>\n",
       "      <td>[1, 2, 3, 4, 5]</td>\n",
       "      <td>{'max_depth': 10, 'n_estimators': 10}</td>\n",
       "      <td>20.344615</td>\n",
       "      <td>10</td>\n",
       "      <td>10</td>\n",
       "    </tr>\n",
       "    <tr>\n",
       "      <th>5</th>\n",
       "      <td>[1, 2, 3]</td>\n",
       "      <td>{'max_depth': 10, 'n_estimators': 20}</td>\n",
       "      <td>20.914038</td>\n",
       "      <td>10</td>\n",
       "      <td>20</td>\n",
       "    </tr>\n",
       "    <tr>\n",
       "      <th>3</th>\n",
       "      <td>[1, 2, 3]</td>\n",
       "      <td>{'max_depth': 7, 'n_estimators': 20}</td>\n",
       "      <td>21.191067</td>\n",
       "      <td>7</td>\n",
       "      <td>20</td>\n",
       "    </tr>\n",
       "    <tr>\n",
       "      <th>1</th>\n",
       "      <td>[1, 2, 3]</td>\n",
       "      <td>{'max_depth': 5, 'n_estimators': 20}</td>\n",
       "      <td>22.169745</td>\n",
       "      <td>5</td>\n",
       "      <td>20</td>\n",
       "    </tr>\n",
       "    <tr>\n",
       "      <th>4</th>\n",
       "      <td>[1, 2, 3]</td>\n",
       "      <td>{'max_depth': 10, 'n_estimators': 10}</td>\n",
       "      <td>23.383077</td>\n",
       "      <td>10</td>\n",
       "      <td>10</td>\n",
       "    </tr>\n",
       "    <tr>\n",
       "      <th>2</th>\n",
       "      <td>[1, 2, 3]</td>\n",
       "      <td>{'max_depth': 7, 'n_estimators': 10}</td>\n",
       "      <td>23.955089</td>\n",
       "      <td>7</td>\n",
       "      <td>10</td>\n",
       "    </tr>\n",
       "    <tr>\n",
       "      <th>0</th>\n",
       "      <td>[1, 2, 3]</td>\n",
       "      <td>{'max_depth': 5, 'n_estimators': 10}</td>\n",
       "      <td>27.355877</td>\n",
       "      <td>5</td>\n",
       "      <td>10</td>\n",
       "    </tr>\n",
       "  </tbody>\n",
       "</table>\n",
       "</div>"
      ],
      "text/plain": [
       "               lags                                 params     metric  \\\n",
       "13  [1, 2, 3, 4, 5]   {'max_depth': 5, 'n_estimators': 20}  17.929058   \n",
       "8      [1, 2, 3, 4]   {'max_depth': 7, 'n_estimators': 10}  18.227009   \n",
       "11     [1, 2, 3, 4]  {'max_depth': 10, 'n_estimators': 20}  18.253462   \n",
       "14  [1, 2, 3, 4, 5]   {'max_depth': 7, 'n_estimators': 10}  18.264666   \n",
       "9      [1, 2, 3, 4]   {'max_depth': 7, 'n_estimators': 20}  18.498871   \n",
       "6      [1, 2, 3, 4]   {'max_depth': 5, 'n_estimators': 10}  18.499416   \n",
       "7      [1, 2, 3, 4]   {'max_depth': 5, 'n_estimators': 20}  18.598506   \n",
       "12  [1, 2, 3, 4, 5]   {'max_depth': 5, 'n_estimators': 10}  18.600161   \n",
       "10     [1, 2, 3, 4]  {'max_depth': 10, 'n_estimators': 10}  18.813077   \n",
       "15  [1, 2, 3, 4, 5]   {'max_depth': 7, 'n_estimators': 20}  19.295880   \n",
       "17  [1, 2, 3, 4, 5]  {'max_depth': 10, 'n_estimators': 20}  19.899231   \n",
       "16  [1, 2, 3, 4, 5]  {'max_depth': 10, 'n_estimators': 10}  20.344615   \n",
       "5         [1, 2, 3]  {'max_depth': 10, 'n_estimators': 20}  20.914038   \n",
       "3         [1, 2, 3]   {'max_depth': 7, 'n_estimators': 20}  21.191067   \n",
       "1         [1, 2, 3]   {'max_depth': 5, 'n_estimators': 20}  22.169745   \n",
       "4         [1, 2, 3]  {'max_depth': 10, 'n_estimators': 10}  23.383077   \n",
       "2         [1, 2, 3]   {'max_depth': 7, 'n_estimators': 10}  23.955089   \n",
       "0         [1, 2, 3]   {'max_depth': 5, 'n_estimators': 10}  27.355877   \n",
       "\n",
       "    max_depth  n_estimators  \n",
       "13          5            20  \n",
       "8           7            10  \n",
       "11         10            20  \n",
       "14          7            10  \n",
       "9           7            20  \n",
       "6           5            10  \n",
       "7           5            20  \n",
       "12          5            10  \n",
       "10         10            10  \n",
       "15          7            20  \n",
       "17         10            20  \n",
       "16         10            10  \n",
       "5          10            20  \n",
       "3           7            20  \n",
       "1           5            20  \n",
       "4          10            10  \n",
       "2           7            10  \n",
       "0           5            10  "
      ]
     },
     "execution_count": 76,
     "metadata": {},
     "output_type": "execute_result"
    }
   ],
   "source": [
    "# Grid search hyperparameter and lags\n",
    "# ==============================================================================\n",
    "\n",
    "# Regressor hyperparameters\n",
    "param_grid = {'n_estimators': [10, 20],\n",
    "              'max_depth': [5, 7, 10]}\n",
    "\n",
    "# Lags used as predictors\n",
    "lags_grid = [3, 4, 5]\n",
    "\n",
    "results_grid = grid_search_forecaster(\n",
    "                        forecaster  = forecaster,\n",
    "                        y           = data['P1'],\n",
    "                        param_grid  = param_grid,\n",
    "                        lags_grid   = lags_grid,\n",
    "                        steps       = 3,\n",
    "                        refit       = True,\n",
    "                        metric      = 'mean_squared_error',\n",
    "                        initial_train_size = len(data['P1'].loc[:end_train]),\n",
    "                        fixed_train_size   = False,\n",
    "                        exog       = data['Week'],\n",
    "                        return_best = False,\n",
    "                        verbose     = False\n",
    "               )\n",
    "\n",
    "results_grid"
   ]
  },
  {
   "cell_type": "markdown",
   "id": "3d36963b",
   "metadata": {},
   "source": [
    "### ForecasterAutoregMultiSeries"
   ]
  },
  {
   "cell_type": "code",
   "execution_count": 77,
   "id": "86c1cb59",
   "metadata": {
    "ExecuteTime": {
     "end_time": "2022-06-08T16:08:07.662165Z",
     "start_time": "2022-06-08T16:08:07.484548Z"
    }
   },
   "outputs": [
    {
     "data": {
      "text/plain": [
       "============================ \n",
       "ForecasterAutoregMultiSeries \n",
       "============================ \n",
       "Regressor: RandomForestRegressor(random_state=123) \n",
       "Lags: [1 2 3 4] \n",
       "Window size: 4 \n",
       "Included exogenous: True \n",
       "Type of exogenous variable: <class 'pandas.core.series.Series'> \n",
       "Exogenous variables names: Week \n",
       "Training range: [Timestamp('2022-01-02 00:00:00'), Timestamp('2022-09-25 00:00:00')] \n",
       "Training index type: DatetimeIndex \n",
       "Training index frequency: W-SUN \n",
       "Regressor parameters: {'bootstrap': True, 'ccp_alpha': 0.0, 'criterion': 'squared_error', 'max_depth': None, 'max_features': 1.0, 'max_leaf_nodes': None, 'max_samples': None, 'min_impurity_decrease': 0.0, 'min_samples_leaf': 1, 'min_samples_split': 2, 'min_weight_fraction_leaf': 0.0, 'n_estimators': 100, 'n_jobs': None, 'oob_score': False, 'random_state': 123, 'verbose': 0, 'warm_start': False} \n",
       "Creation date: 2022-06-08 18:08:07 \n",
       "Last fit date: 2022-06-08 18:08:07 \n",
       "Skforecast version: 0.5.dev1 "
      ]
     },
     "execution_count": 77,
     "metadata": {},
     "output_type": "execute_result"
    }
   ],
   "source": [
    "# Create and fit Recursive multi-step forecaster (ForecasterAutoreg)\n",
    "# ==============================================================================\n",
    "forecaster = ForecasterAutoregMultiSeries(\n",
    "                    regressor = RandomForestRegressor(random_state=123),\n",
    "                    lags      = 4\n",
    "             )\n",
    "\n",
    "forecaster.fit(series=data.loc[:end_train, items], exog=data.loc[:end_train, 'Week'])\n",
    "forecaster"
   ]
  },
  {
   "cell_type": "code",
   "execution_count": 78,
   "id": "84851eb7",
   "metadata": {
    "ExecuteTime": {
     "end_time": "2022-06-08T16:08:08.882472Z",
     "start_time": "2022-06-08T16:08:08.551764Z"
    }
   },
   "outputs": [
    {
     "data": {
      "image/png": "[encoded data removed]",
      "text/plain": [
       "<Figure size 648x288 with 1 Axes>"
      ]
     },
     "metadata": {
      "needs_background": "light"
     },
     "output_type": "display_data"
    }
   ],
   "source": [
    "# Predict\n",
    "# ==============================================================================\n",
    "predictions = forecaster.predict(steps=len(data.loc[end_train:]),\n",
    "                                 level='P1',\n",
    "                                 exog=data.loc[end_train:, 'Week'])\n",
    "predictions.head(3)\n",
    "\n",
    "# Plot predictions\n",
    "# ==============================================================================\n",
    "fig, ax=plt.subplots(figsize=(9, 4))\n",
    "data.loc[:end_train, items].plot(ax=ax, label='train')\n",
    "data.loc[end_train:, 'P1'].plot(ax=ax, label='test')\n",
    "predictions.plot(ax=ax, label='predictions')\n",
    "ax.legend();"
   ]
  },
  {
   "cell_type": "code",
   "execution_count": 79,
   "id": "9a28a817",
   "metadata": {
    "ExecuteTime": {
     "end_time": "2022-06-08T16:08:10.614193Z",
     "start_time": "2022-06-08T16:08:10.536627Z"
    }
   },
   "outputs": [
    {
     "name": "stdout",
     "output_type": "stream",
     "text": [
      "Test error (mse): 15.017638461538464\n"
     ]
    }
   ],
   "source": [
    "# Prediction error\n",
    "# ==============================================================================\n",
    "error_mse = mean_squared_error(\n",
    "                y_true = data['P1'].loc[end_train:],\n",
    "                y_pred = predictions\n",
    "            )\n",
    "print(f\"Test error (mse): {error_mse}\")"
   ]
  },
  {
   "cell_type": "code",
   "execution_count": 80,
   "id": "5a3db3b5",
   "metadata": {
    "ExecuteTime": {
     "end_time": "2022-06-08T16:08:12.866845Z",
     "start_time": "2022-06-08T16:08:12.291640Z"
    }
   },
   "outputs": [
    {
     "name": "stdout",
     "output_type": "stream",
     "text": [
      "Backtest error: 16.923238461538464\n"
     ]
    }
   ],
   "source": [
    "# Backtesting\n",
    "# ==============================================================================\n",
    "metric, predictions_backtest = backtesting_forecaster_multiseries(\n",
    "                                    forecaster = forecaster,\n",
    "                                    series     = data[items],\n",
    "                                    level      = 'P1',\n",
    "                                    initial_train_size = len(data['P1'].loc[:end_train]),\n",
    "                                    fixed_train_size   = False,\n",
    "                                    steps      = 3,\n",
    "                                    exog       = data['Week'],\n",
    "                                    metric     = 'mean_squared_error',\n",
    "                                    refit      = True,\n",
    "                                    verbose    = False\n",
    "                               )\n",
    "\n",
    "print(f\"Backtest error: {metric}\")"
   ]
  },
  {
   "cell_type": "code",
   "execution_count": null,
   "id": "26d8251d",
   "metadata": {},
   "outputs": [],
   "source": [
    "# Grid search hyperparameter and lags\n",
    "# ==============================================================================\n",
    "\n",
    "# Regressor hyperparameters\n",
    "param_grid = {'n_estimators': [10, 20],\n",
    "              'max_depth': [5, 7, 10]}\n",
    "\n",
    "# Lags used as predictors\n",
    "lags_grid = [3, 4, 5]\n",
    "\n",
    "results_grid = grid_search_forecaster(\n",
    "                        forecaster  = forecaster,\n",
    "                        y           = data['P1'],\n",
    "                        param_grid  = param_grid,\n",
    "                        lags_grid   = lags_grid,\n",
    "                        steps       = 3,\n",
    "                        refit       = True,\n",
    "                        metric      = 'mean_squared_error',\n",
    "                        initial_train_size = len(data['P1'].loc[:end_train]),\n",
    "                        fixed_train_size   = False,\n",
    "                        exog       = data['Week'],\n",
    "                        return_best = False,\n",
    "                        verbose     = False\n",
    "               )\n",
    "\n",
    "results_grid"
   ]
  },
  {
   "cell_type": "code",
   "execution_count": 85,
   "id": "6aa6f9fc",
   "metadata": {
    "ExecuteTime": {
     "end_time": "2022-06-08T16:10:48.290116Z",
     "start_time": "2022-06-08T16:10:40.923072Z"
    }
   },
   "outputs": [
    {
     "name": "stdout",
     "output_type": "stream",
     "text": [
      "Number of models compared: 72.\n"
     ]
    },
    {
     "name": "stderr",
     "output_type": "stream",
     "text": [
      "loop lags_grid:   0%|                                               | 0/3 [00:00<?, ?it/s]\n",
      "loop param_grid:   0%|                                              | 0/6 [00:00<?, ?it/s]\u001b[A\n",
      "loop param_grid:  17%|██████▎                               | 1/6 [00:00<00:01,  3.73it/s]\u001b[A\n",
      "loop param_grid:  33%|████████████▋                         | 2/6 [00:00<00:01,  2.37it/s]\u001b[A\n",
      "loop param_grid:  50%|███████████████████                   | 3/6 [00:01<00:01,  2.65it/s]\u001b[A\n",
      "loop param_grid:  67%|█████████████████████████▎            | 4/6 [00:01<00:00,  2.46it/s]\u001b[A\n",
      "loop param_grid:  83%|███████████████████████████████▋      | 5/6 [00:01<00:00,  2.69it/s]\u001b[A\n",
      "loop param_grid: 100%|██████████████████████████████████████| 6/6 [00:02<00:00,  2.38it/s]\u001b[A\n",
      "loop lags_grid:  33%|█████████████                          | 1/3 [00:02<00:04,  2.40s/it]\u001b[A\n",
      "loop param_grid:   0%|                                              | 0/6 [00:00<?, ?it/s]\u001b[A\n",
      "loop param_grid:  17%|██████▎                               | 1/6 [00:00<00:01,  3.36it/s]\u001b[A\n",
      "loop param_grid:  33%|████████████▋                         | 2/6 [00:00<00:01,  2.49it/s]\u001b[A\n",
      "loop param_grid:  50%|███████████████████                   | 3/6 [00:01<00:01,  2.83it/s]\u001b[A\n",
      "loop param_grid:  67%|█████████████████████████▎            | 4/6 [00:01<00:00,  2.46it/s]\u001b[A\n",
      "loop param_grid:  83%|███████████████████████████████▋      | 5/6 [00:01<00:00,  2.64it/s]\u001b[A\n",
      "loop param_grid: 100%|██████████████████████████████████████| 6/6 [00:02<00:00,  2.37it/s]\u001b[A\n",
      "loop lags_grid:  67%|██████████████████████████             | 2/3 [00:04<00:02,  2.40s/it]\u001b[A\n",
      "loop param_grid:   0%|                                              | 0/6 [00:00<?, ?it/s]\u001b[A\n",
      "loop param_grid:  17%|██████▎                               | 1/6 [00:00<00:01,  3.52it/s]\u001b[A\n",
      "loop param_grid:  33%|████████████▋                         | 2/6 [00:00<00:01,  2.55it/s]\u001b[A\n",
      "loop param_grid:  50%|███████████████████                   | 3/6 [00:01<00:01,  2.82it/s]\u001b[A\n",
      "loop param_grid:  67%|█████████████████████████▎            | 4/6 [00:01<00:00,  2.48it/s]\u001b[A\n",
      "loop param_grid:  83%|███████████████████████████████▋      | 5/6 [00:01<00:00,  2.63it/s]\u001b[A\n",
      "loop param_grid: 100%|██████████████████████████████████████| 6/6 [00:02<00:00,  2.33it/s]\u001b[A\n",
      "loop lags_grid: 100%|███████████████████████████████████████| 3/3 [00:07<00:00,  2.41s/it]\u001b[A"
     ]
    },
    {
     "name": "stdout",
     "output_type": "stream",
     "text": [
      "`Forecaster` refitted using the best-found lags and parameters, and the whole data set: \n",
      "  Lags: [1 2 3 4 5] \n",
      "  Parameters: {'max_depth': 10, 'n_estimators': 20}\n",
      "  Backtesting metric: 9.996191733262911\n",
      "  Levels: ['P1', 'P2', 'P3', 'P4'] \n",
      "  Levels weights: {'P1': 0.25, 'P2': 0.25, 'P3': 0.25, 'P4': 0.25} \n",
      "\n"
     ]
    },
    {
     "name": "stderr",
     "output_type": "stream",
     "text": [
      "\n"
     ]
    },
    {
     "data": {
      "text/html": [
       "<div>\n",
       "<style scoped>\n",
       "    .dataframe tbody tr th:only-of-type {\n",
       "        vertical-align: middle;\n",
       "    }\n",
       "\n",
       "    .dataframe tbody tr th {\n",
       "        vertical-align: top;\n",
       "    }\n",
       "\n",
       "    .dataframe thead th {\n",
       "        text-align: right;\n",
       "    }\n",
       "</style>\n",
       "<table border=\"1\" class=\"dataframe\">\n",
       "  <thead>\n",
       "    <tr style=\"text-align: right;\">\n",
       "      <th></th>\n",
       "      <th>levels</th>\n",
       "      <th>lags</th>\n",
       "      <th>params</th>\n",
       "      <th>metric</th>\n",
       "      <th>max_depth</th>\n",
       "      <th>n_estimators</th>\n",
       "    </tr>\n",
       "  </thead>\n",
       "  <tbody>\n",
       "    <tr>\n",
       "      <th>17</th>\n",
       "      <td>[P1, P2, P3, P4]</td>\n",
       "      <td>[1, 2, 3, 4, 5]</td>\n",
       "      <td>{'max_depth': 10, 'n_estimators': 20}</td>\n",
       "      <td>9.996192</td>\n",
       "      <td>10</td>\n",
       "      <td>20</td>\n",
       "    </tr>\n",
       "    <tr>\n",
       "      <th>15</th>\n",
       "      <td>[P1, P2, P3, P4]</td>\n",
       "      <td>[1, 2, 3, 4, 5]</td>\n",
       "      <td>{'max_depth': 7, 'n_estimators': 20}</td>\n",
       "      <td>10.389692</td>\n",
       "      <td>7</td>\n",
       "      <td>20</td>\n",
       "    </tr>\n",
       "    <tr>\n",
       "      <th>6</th>\n",
       "      <td>[P1, P2, P3, P4]</td>\n",
       "      <td>[1, 2, 3, 4]</td>\n",
       "      <td>{'max_depth': 5, 'n_estimators': 10}</td>\n",
       "      <td>10.432557</td>\n",
       "      <td>5</td>\n",
       "      <td>10</td>\n",
       "    </tr>\n",
       "    <tr>\n",
       "      <th>13</th>\n",
       "      <td>[P1, P2, P3, P4]</td>\n",
       "      <td>[1, 2, 3, 4, 5]</td>\n",
       "      <td>{'max_depth': 5, 'n_estimators': 20}</td>\n",
       "      <td>10.544319</td>\n",
       "      <td>5</td>\n",
       "      <td>20</td>\n",
       "    </tr>\n",
       "    <tr>\n",
       "      <th>1</th>\n",
       "      <td>[P1, P2, P3, P4]</td>\n",
       "      <td>[1, 2, 3]</td>\n",
       "      <td>{'max_depth': 5, 'n_estimators': 20}</td>\n",
       "      <td>10.726509</td>\n",
       "      <td>5</td>\n",
       "      <td>20</td>\n",
       "    </tr>\n",
       "    <tr>\n",
       "      <th>7</th>\n",
       "      <td>[P1, P2, P3, P4]</td>\n",
       "      <td>[1, 2, 3, 4]</td>\n",
       "      <td>{'max_depth': 5, 'n_estimators': 20}</td>\n",
       "      <td>10.930787</td>\n",
       "      <td>5</td>\n",
       "      <td>20</td>\n",
       "    </tr>\n",
       "    <tr>\n",
       "      <th>9</th>\n",
       "      <td>[P1, P2, P3, P4]</td>\n",
       "      <td>[1, 2, 3, 4]</td>\n",
       "      <td>{'max_depth': 7, 'n_estimators': 20}</td>\n",
       "      <td>10.948408</td>\n",
       "      <td>7</td>\n",
       "      <td>20</td>\n",
       "    </tr>\n",
       "    <tr>\n",
       "      <th>8</th>\n",
       "      <td>[P1, P2, P3, P4]</td>\n",
       "      <td>[1, 2, 3, 4]</td>\n",
       "      <td>{'max_depth': 7, 'n_estimators': 10}</td>\n",
       "      <td>11.008187</td>\n",
       "      <td>7</td>\n",
       "      <td>10</td>\n",
       "    </tr>\n",
       "    <tr>\n",
       "      <th>10</th>\n",
       "      <td>[P1, P2, P3, P4]</td>\n",
       "      <td>[1, 2, 3, 4]</td>\n",
       "      <td>{'max_depth': 10, 'n_estimators': 10}</td>\n",
       "      <td>11.063157</td>\n",
       "      <td>10</td>\n",
       "      <td>10</td>\n",
       "    </tr>\n",
       "    <tr>\n",
       "      <th>11</th>\n",
       "      <td>[P1, P2, P3, P4]</td>\n",
       "      <td>[1, 2, 3, 4]</td>\n",
       "      <td>{'max_depth': 10, 'n_estimators': 20}</td>\n",
       "      <td>11.301189</td>\n",
       "      <td>10</td>\n",
       "      <td>20</td>\n",
       "    </tr>\n",
       "    <tr>\n",
       "      <th>3</th>\n",
       "      <td>[P1, P2, P3, P4]</td>\n",
       "      <td>[1, 2, 3]</td>\n",
       "      <td>{'max_depth': 7, 'n_estimators': 20}</td>\n",
       "      <td>11.370360</td>\n",
       "      <td>7</td>\n",
       "      <td>20</td>\n",
       "    </tr>\n",
       "    <tr>\n",
       "      <th>12</th>\n",
       "      <td>[P1, P2, P3, P4]</td>\n",
       "      <td>[1, 2, 3, 4, 5]</td>\n",
       "      <td>{'max_depth': 5, 'n_estimators': 10}</td>\n",
       "      <td>11.376258</td>\n",
       "      <td>5</td>\n",
       "      <td>10</td>\n",
       "    </tr>\n",
       "    <tr>\n",
       "      <th>0</th>\n",
       "      <td>[P1, P2, P3, P4]</td>\n",
       "      <td>[1, 2, 3]</td>\n",
       "      <td>{'max_depth': 5, 'n_estimators': 10}</td>\n",
       "      <td>11.468863</td>\n",
       "      <td>5</td>\n",
       "      <td>10</td>\n",
       "    </tr>\n",
       "    <tr>\n",
       "      <th>14</th>\n",
       "      <td>[P1, P2, P3, P4]</td>\n",
       "      <td>[1, 2, 3, 4, 5]</td>\n",
       "      <td>{'max_depth': 7, 'n_estimators': 10}</td>\n",
       "      <td>11.563329</td>\n",
       "      <td>7</td>\n",
       "      <td>10</td>\n",
       "    </tr>\n",
       "    <tr>\n",
       "      <th>5</th>\n",
       "      <td>[P1, P2, P3, P4]</td>\n",
       "      <td>[1, 2, 3]</td>\n",
       "      <td>{'max_depth': 10, 'n_estimators': 20}</td>\n",
       "      <td>11.658985</td>\n",
       "      <td>10</td>\n",
       "      <td>20</td>\n",
       "    </tr>\n",
       "    <tr>\n",
       "      <th>16</th>\n",
       "      <td>[P1, P2, P3, P4]</td>\n",
       "      <td>[1, 2, 3, 4, 5]</td>\n",
       "      <td>{'max_depth': 10, 'n_estimators': 10}</td>\n",
       "      <td>11.691130</td>\n",
       "      <td>10</td>\n",
       "      <td>10</td>\n",
       "    </tr>\n",
       "    <tr>\n",
       "      <th>2</th>\n",
       "      <td>[P1, P2, P3, P4]</td>\n",
       "      <td>[1, 2, 3]</td>\n",
       "      <td>{'max_depth': 7, 'n_estimators': 10}</td>\n",
       "      <td>12.262075</td>\n",
       "      <td>7</td>\n",
       "      <td>10</td>\n",
       "    </tr>\n",
       "    <tr>\n",
       "      <th>4</th>\n",
       "      <td>[P1, P2, P3, P4]</td>\n",
       "      <td>[1, 2, 3]</td>\n",
       "      <td>{'max_depth': 10, 'n_estimators': 10}</td>\n",
       "      <td>12.946032</td>\n",
       "      <td>10</td>\n",
       "      <td>10</td>\n",
       "    </tr>\n",
       "  </tbody>\n",
       "</table>\n",
       "</div>"
      ],
      "text/plain": [
       "              levels             lags                                 params  \\\n",
       "17  [P1, P2, P3, P4]  [1, 2, 3, 4, 5]  {'max_depth': 10, 'n_estimators': 20}   \n",
       "15  [P1, P2, P3, P4]  [1, 2, 3, 4, 5]   {'max_depth': 7, 'n_estimators': 20}   \n",
       "6   [P1, P2, P3, P4]     [1, 2, 3, 4]   {'max_depth': 5, 'n_estimators': 10}   \n",
       "13  [P1, P2, P3, P4]  [1, 2, 3, 4, 5]   {'max_depth': 5, 'n_estimators': 20}   \n",
       "1   [P1, P2, P3, P4]        [1, 2, 3]   {'max_depth': 5, 'n_estimators': 20}   \n",
       "7   [P1, P2, P3, P4]     [1, 2, 3, 4]   {'max_depth': 5, 'n_estimators': 20}   \n",
       "9   [P1, P2, P3, P4]     [1, 2, 3, 4]   {'max_depth': 7, 'n_estimators': 20}   \n",
       "8   [P1, P2, P3, P4]     [1, 2, 3, 4]   {'max_depth': 7, 'n_estimators': 10}   \n",
       "10  [P1, P2, P3, P4]     [1, 2, 3, 4]  {'max_depth': 10, 'n_estimators': 10}   \n",
       "11  [P1, P2, P3, P4]     [1, 2, 3, 4]  {'max_depth': 10, 'n_estimators': 20}   \n",
       "3   [P1, P2, P3, P4]        [1, 2, 3]   {'max_depth': 7, 'n_estimators': 20}   \n",
       "12  [P1, P2, P3, P4]  [1, 2, 3, 4, 5]   {'max_depth': 5, 'n_estimators': 10}   \n",
       "0   [P1, P2, P3, P4]        [1, 2, 3]   {'max_depth': 5, 'n_estimators': 10}   \n",
       "14  [P1, P2, P3, P4]  [1, 2, 3, 4, 5]   {'max_depth': 7, 'n_estimators': 10}   \n",
       "5   [P1, P2, P3, P4]        [1, 2, 3]  {'max_depth': 10, 'n_estimators': 20}   \n",
       "16  [P1, P2, P3, P4]  [1, 2, 3, 4, 5]  {'max_depth': 10, 'n_estimators': 10}   \n",
       "2   [P1, P2, P3, P4]        [1, 2, 3]   {'max_depth': 7, 'n_estimators': 10}   \n",
       "4   [P1, P2, P3, P4]        [1, 2, 3]  {'max_depth': 10, 'n_estimators': 10}   \n",
       "\n",
       "       metric  max_depth  n_estimators  \n",
       "17   9.996192         10            20  \n",
       "15  10.389692          7            20  \n",
       "6   10.432557          5            10  \n",
       "13  10.544319          5            20  \n",
       "1   10.726509          5            20  \n",
       "7   10.930787          5            20  \n",
       "9   10.948408          7            20  \n",
       "8   11.008187          7            10  \n",
       "10  11.063157         10            10  \n",
       "11  11.301189         10            20  \n",
       "3   11.370360          7            20  \n",
       "12  11.376258          5            10  \n",
       "0   11.468863          5            10  \n",
       "14  11.563329          7            10  \n",
       "5   11.658985         10            20  \n",
       "16  11.691130         10            10  \n",
       "2   12.262075          7            10  \n",
       "4   12.946032         10            10  "
      ]
     },
     "execution_count": 85,
     "metadata": {},
     "output_type": "execute_result"
    }
   ],
   "source": [
    "# Lags used as predictors\n",
    "lags_grid = [3, 4, 5]\n",
    "\n",
    "# Regressor hyperparameters\n",
    "param_grid = {'n_estimators': [10, 20],\n",
    "              'max_depth': [5, 7, 10]}\n",
    "\n",
    "param_grid = list(ParameterGrid(param_grid))\n",
    "\n",
    "results_grid = _evaluate_grid_hyperparameters_multiseries(\n",
    "                        forecaster  = forecaster,\n",
    "                        series      = data[items],\n",
    "                        param_grid  = param_grid,\n",
    "                        lags_grid   = lags_grid,\n",
    "                        steps       = 3,\n",
    "                        levels_list = None,\n",
    "                        refit       = True,\n",
    "                        metric      = 'mean_squared_error',\n",
    "                        initial_train_size = len(data['P1'].loc[:end_train]),\n",
    "                        fixed_train_size   = False,\n",
    "                        exog        = data['Week'],\n",
    "                        return_best = True,\n",
    "                        verbose     = False\n",
    "               )\n",
    "\n",
    "results_grid"
   ]
  },
  {
   "cell_type": "code",
   "execution_count": 87,
   "id": "b7434999",
   "metadata": {
    "ExecuteTime": {
     "end_time": "2022-06-08T16:11:28.147622Z",
     "start_time": "2022-06-08T16:11:27.817151Z"
    }
   },
   "outputs": [
    {
     "data": {
      "image/png": "[encoded data removed]",
      "text/plain": [
       "<Figure size 648x288 with 1 Axes>"
      ]
     },
     "metadata": {
      "needs_background": "light"
     },
     "output_type": "display_data"
    }
   ],
   "source": [
    "# Predict\n",
    "# ==============================================================================\n",
    "forecaster.fit(series=data.loc[:end_train, items], exog=data.loc[:end_train, 'Week'])\n",
    "predictions = forecaster.predict(steps=len(data.loc[end_train:]),\n",
    "                                 level='P1',\n",
    "                                 exog=data.loc[end_train:, 'Week'])\n",
    "predictions.head(3)\n",
    "\n",
    "# Plot predictions\n",
    "# ==============================================================================\n",
    "fig, ax=plt.subplots(figsize=(9, 4))\n",
    "data.loc[:end_train, items].plot(ax=ax, label='train')\n",
    "data.loc[end_train:, 'P1'].plot(ax=ax, label='test')\n",
    "predictions.plot(ax=ax, label='predictions')\n",
    "ax.legend();"
   ]
  },
  {
   "cell_type": "code",
   "execution_count": null,
   "id": "1ce86219",
   "metadata": {},
   "outputs": [],
   "source": []
  }
 ],
 "metadata": {
  "kernelspec": {
   "display_name": "food_digital",
   "language": "python",
   "name": "food_digital"
  },
  "language_info": {
   "codemirror_mode": {
    "name": "ipython",
    "version": 3
   },
   "file_extension": ".py",
   "mimetype": "text/x-python",
   "name": "python",
   "nbconvert_exporter": "python",
   "pygments_lexer": "ipython3",
   "version": "3.8.13"
  },
  "toc": {
   "base_numbering": 1,
   "nav_menu": {},
   "number_sections": true,
   "sideBar": true,
   "skip_h1_title": false,
   "title_cell": "Table of Contents",
   "title_sidebar": "Contents",
   "toc_cell": false,
   "toc_position": {
    "height": "calc(100% - 180px)",
    "left": "10px",
    "top": "150px",
    "width": "228.825px"
   },
   "toc_section_display": true,
   "toc_window_display": true
  }
 },
 "nbformat": 4,
 "nbformat_minor": 5
}
