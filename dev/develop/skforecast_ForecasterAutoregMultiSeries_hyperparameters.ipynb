{
 "cells": [
  {
   "cell_type": "code",
   "execution_count": 1,
   "id": "db23d0e2",
   "metadata": {
    "ExecuteTime": {
     "end_time": "2022-06-08T15:45:02.173690Z",
     "start_time": "2022-06-08T15:45:02.135493Z"
    }
   },
   "outputs": [],
   "source": [
    "%load_ext autoreload\n",
    "%autoreload 2\n",
    "import sys\n",
    "from pathlib import Path\n",
    "sys.path.insert(1, str(Path.cwd().parent.parent))\n",
    "%config Completer.use_jedi = False"
   ]
  },
  {
   "cell_type": "code",
   "execution_count": 2,
   "id": "920eb698",
   "metadata": {
    "ExecuteTime": {
     "end_time": "2022-06-08T15:45:04.936201Z",
     "start_time": "2022-06-08T15:45:02.836952Z"
    }
   },
   "outputs": [],
   "source": [
    "## ForecasterAutoregMultiSeries\n",
    "# ==============================================================================\n",
    "import numpy as np\n",
    "import pandas as pd\n",
    "\n",
    "from skforecast.ForecasterAutoregMultiSeries import ForecasterAutoregMultiSeries\n",
    "from skforecast.model_selection_multiseries import backtesting_forecaster_multiseries\n",
    "from skforecast.model_selection_multiseries.model_selection_multiseries import _evaluate_grid_hyperparameters_multiseries\n",
    "\n",
    "from sklearn.model_selection import ParameterGrid\n",
    "from sklearn.linear_model import LinearRegression\n",
    "from sklearn.ensemble import RandomForestRegressor"
   ]
  },
  {
   "cell_type": "markdown",
   "id": "3c4ece95",
   "metadata": {},
   "source": [
    "## ForecasterAutoregMultiSeries"
   ]
  },
  {
   "cell_type": "code",
   "execution_count": 15,
   "id": "cd38c4f4",
   "metadata": {
    "ExecuteTime": {
     "end_time": "2022-06-06T13:46:16.334064Z",
     "start_time": "2022-06-06T13:46:16.265919Z"
    }
   },
   "outputs": [
    {
     "name": "stdout",
     "output_type": "stream",
     "text": [
      "(20, 4)\n"
     ]
    },
    {
     "data": {
      "text/html": [
       "<div>\n",
       "<style scoped>\n",
       "    .dataframe tbody tr th:only-of-type {\n",
       "        vertical-align: middle;\n",
       "    }\n",
       "\n",
       "    .dataframe tbody tr th {\n",
       "        vertical-align: top;\n",
       "    }\n",
       "\n",
       "    .dataframe thead th {\n",
       "        text-align: right;\n",
       "    }\n",
       "</style>\n",
       "<table border=\"1\" class=\"dataframe\">\n",
       "  <thead>\n",
       "    <tr style=\"text-align: right;\">\n",
       "      <th></th>\n",
       "      <th>s1</th>\n",
       "      <th>s2</th>\n",
       "      <th>exog_1</th>\n",
       "      <th>exog_2</th>\n",
       "    </tr>\n",
       "    <tr>\n",
       "      <th>date</th>\n",
       "      <th></th>\n",
       "      <th></th>\n",
       "      <th></th>\n",
       "      <th></th>\n",
       "    </tr>\n",
       "  </thead>\n",
       "  <tbody>\n",
       "    <tr>\n",
       "      <th>2022-01-18</th>\n",
       "      <td>0.553970</td>\n",
       "      <td>0.635592</td>\n",
       "      <td>0.107618</td>\n",
       "      <td>0.835754</td>\n",
       "    </tr>\n",
       "    <tr>\n",
       "      <th>2022-01-19</th>\n",
       "      <td>0.951948</td>\n",
       "      <td>0.809366</td>\n",
       "      <td>0.780165</td>\n",
       "      <td>0.643191</td>\n",
       "    </tr>\n",
       "    <tr>\n",
       "      <th>2022-01-20</th>\n",
       "      <td>0.947452</td>\n",
       "      <td>0.868955</td>\n",
       "      <td>0.750736</td>\n",
       "      <td>0.155978</td>\n",
       "    </tr>\n",
       "  </tbody>\n",
       "</table>\n",
       "</div>"
      ],
      "text/plain": [
       "                  s1        s2    exog_1    exog_2\n",
       "date                                              \n",
       "2022-01-18  0.553970  0.635592  0.107618  0.835754\n",
       "2022-01-19  0.951948  0.809366  0.780165  0.643191\n",
       "2022-01-20  0.947452  0.868955  0.750736  0.155978"
      ]
     },
     "execution_count": 15,
     "metadata": {},
     "output_type": "execute_result"
    }
   ],
   "source": [
    "y_1 = pd.Series(np.random.rand(20))\n",
    "y_2 = pd.Series(np.random.rand(20))\n",
    "exog_1 = pd.Series(np.random.rand(20))\n",
    "exog_2 = pd.Series(np.random.rand(20))\n",
    "\n",
    "df = pd.DataFrame({'s1': y_1, 's2': y_2, 'exog_1': exog_1, 'exog_2': exog_2,\n",
    "                   'date':pd.date_range(start='2022-01-01', periods=20, freq='1D')})\n",
    "\n",
    "df = df.set_index('date')\n",
    "df = df.asfreq('1D')\n",
    "df = df.sort_index()\n",
    "\n",
    "max_lag=3\n",
    "lags=np.array([1,2,3])\n",
    "\n",
    "print(df.shape)\n",
    "df.tail(3)"
   ]
  },
  {
   "cell_type": "code",
   "execution_count": 16,
   "id": "7bdb6e3f",
   "metadata": {
    "ExecuteTime": {
     "end_time": "2022-06-06T13:46:17.046760Z",
     "start_time": "2022-06-06T13:46:16.976722Z"
    }
   },
   "outputs": [
    {
     "data": {
      "text/plain": [
       "============================ \n",
       "ForecasterAutoregMultiSeries \n",
       "============================ \n",
       "Regressor: LinearRegression() \n",
       "Lags: [1 2 3] \n",
       "Window size: 3 \n",
       "Included exogenous: True \n",
       "Type of exogenous variable: <class 'pandas.core.frame.DataFrame'> \n",
       "Exogenous variables names: ['exog_1', 'exog_2'] \n",
       "Training range: [Timestamp('2022-01-01 00:00:00'), Timestamp('2022-01-20 00:00:00')] \n",
       "Training index type: DatetimeIndex \n",
       "Training index frequency: D \n",
       "Regressor parameters: {'copy_X': True, 'fit_intercept': True, 'n_jobs': None, 'normalize': 'deprecated', 'positive': False} \n",
       "Creation date: 2022-06-06 15:46:17 \n",
       "Last fit date: 2022-06-06 15:46:17 \n",
       "Skforecast version: 0.5.dev1 "
      ]
     },
     "execution_count": 16,
     "metadata": {},
     "output_type": "execute_result"
    }
   ],
   "source": [
    "# Create and fit forecaster\n",
    "# ==============================================================================\n",
    "forecaster = ForecasterAutoregMultiSeries(\n",
    "                    regressor = LinearRegression(),\n",
    "                    lags      = 3\n",
    "             )\n",
    "\n",
    "forecaster.fit(\n",
    "    series = df[['s1', 's2']],\n",
    "    exog   = df[['exog_1', 'exog_2']]\n",
    ")\n",
    "\n",
    "forecaster"
   ]
  },
  {
   "cell_type": "code",
   "execution_count": 17,
   "id": "7fdf929a",
   "metadata": {
    "ExecuteTime": {
     "end_time": "2022-06-06T13:46:17.433568Z",
     "start_time": "2022-06-06T13:46:17.372160Z"
    }
   },
   "outputs": [
    {
     "name": "stdout",
     "output_type": "stream",
     "text": [
      "s2\n"
     ]
    },
    {
     "data": {
      "text/plain": [
       "2022-01-21    0.438949\n",
       "2022-01-22    0.565801\n",
       "2022-01-23    0.561593\n",
       "Freq: D, Name: pred, dtype: float64"
      ]
     },
     "execution_count": 17,
     "metadata": {},
     "output_type": "execute_result"
    }
   ],
   "source": [
    "# Predict\n",
    "# ==============================================================================\n",
    "steps = 3\n",
    "exog_1_test = pd.Series(np.random.rand(steps))\n",
    "exog_2_test = pd.Series(np.random.rand(steps))\n",
    "\n",
    "df_test = pd.DataFrame({'exog_1': exog_1_test, 'exog_2': exog_2_test,\n",
    "                        'date':pd.date_range(start=df.index[-1], periods=steps, freq='1D')})\n",
    "\n",
    "df_test = df_test.set_index('date')\n",
    "df_test = df_test.asfreq('1D')\n",
    "df_test = df_test.sort_index()\n",
    "\n",
    "predictions = forecaster.predict(\n",
    "                steps = steps,\n",
    "                level = 's2',\n",
    "                exog = df_test[['exog_1', 'exog_2']]\n",
    "              )\n",
    "\n",
    "print(forecaster.level)\n",
    "predictions"
   ]
  },
  {
   "cell_type": "code",
   "execution_count": 18,
   "id": "41f5a437",
   "metadata": {
    "ExecuteTime": {
     "end_time": "2022-06-06T13:46:18.760172Z",
     "start_time": "2022-06-06T13:46:18.567672Z"
    }
   },
   "outputs": [
    {
     "name": "stdout",
     "output_type": "stream",
     "text": [
      "s2\n"
     ]
    },
    {
     "data": {
      "text/html": [
       "<div>\n",
       "<style scoped>\n",
       "    .dataframe tbody tr th:only-of-type {\n",
       "        vertical-align: middle;\n",
       "    }\n",
       "\n",
       "    .dataframe tbody tr th {\n",
       "        vertical-align: top;\n",
       "    }\n",
       "\n",
       "    .dataframe thead th {\n",
       "        text-align: right;\n",
       "    }\n",
       "</style>\n",
       "<table border=\"1\" class=\"dataframe\">\n",
       "  <thead>\n",
       "    <tr style=\"text-align: right;\">\n",
       "      <th></th>\n",
       "      <th>pred</th>\n",
       "      <th>lower_bound</th>\n",
       "      <th>upper_bound</th>\n",
       "    </tr>\n",
       "  </thead>\n",
       "  <tbody>\n",
       "    <tr>\n",
       "      <th>2022-01-21</th>\n",
       "      <td>0.438949</td>\n",
       "      <td>0.041156</td>\n",
       "      <td>0.837512</td>\n",
       "    </tr>\n",
       "    <tr>\n",
       "      <th>2022-01-22</th>\n",
       "      <td>0.565801</td>\n",
       "      <td>0.173634</td>\n",
       "      <td>0.946079</td>\n",
       "    </tr>\n",
       "    <tr>\n",
       "      <th>2022-01-23</th>\n",
       "      <td>0.561593</td>\n",
       "      <td>0.167460</td>\n",
       "      <td>0.948181</td>\n",
       "    </tr>\n",
       "  </tbody>\n",
       "</table>\n",
       "</div>"
      ],
      "text/plain": [
       "                pred  lower_bound  upper_bound\n",
       "2022-01-21  0.438949     0.041156     0.837512\n",
       "2022-01-22  0.565801     0.173634     0.946079\n",
       "2022-01-23  0.561593     0.167460     0.948181"
      ]
     },
     "execution_count": 18,
     "metadata": {},
     "output_type": "execute_result"
    }
   ],
   "source": [
    "# Predict interval\n",
    "# ==============================================================================\n",
    "predictions = forecaster.predict_interval(\n",
    "                steps = steps,\n",
    "                level = 's2',\n",
    "                exog = df_test[['exog_1', 'exog_2']]\n",
    "              )\n",
    "\n",
    "print(forecaster.level)\n",
    "predictions"
   ]
  },
  {
   "cell_type": "code",
   "execution_count": 19,
   "id": "578e5024",
   "metadata": {
    "ExecuteTime": {
     "end_time": "2022-06-06T13:46:20.290463Z",
     "start_time": "2022-06-06T13:46:20.217123Z"
    }
   },
   "outputs": [
    {
     "name": "stdout",
     "output_type": "stream",
     "text": [
      "Information of backtesting process\n",
      "----------------------------------\n",
      "Number of observations used for initial training: 12\n",
      "Number of observations used for backtesting: 8\n",
      "    Number of folds: 2\n",
      "    Number of steps per fold: 4\n",
      "\n",
      "Data partition in fold: 0\n",
      "    Training:   2022-01-01 00:00:00 -- 2022-01-12 00:00:00  (n=12)\n",
      "    Validation: 2022-01-13 00:00:00 -- 2022-01-16 00:00:00  (n=4)\n",
      "Data partition in fold: 1\n",
      "    Training:   2022-01-05 00:00:00 -- 2022-01-16 00:00:00  (n=12)\n",
      "    Validation: 2022-01-17 00:00:00 -- 2022-01-20 00:00:00  (n=4)\n",
      "\n"
     ]
    },
    {
     "data": {
      "text/plain": [
       "(0.11641854659291993,\n",
       "                 pred\n",
       " 2022-01-13  0.452132\n",
       " 2022-01-14  0.265883\n",
       " 2022-01-15  0.296377\n",
       " 2022-01-16  0.371779\n",
       " 2022-01-17  0.377557\n",
       " 2022-01-18  0.375606\n",
       " 2022-01-19  0.396852\n",
       " 2022-01-20  0.394283)"
      ]
     },
     "execution_count": 19,
     "metadata": {},
     "output_type": "execute_result"
    }
   ],
   "source": [
    "# Backtest forecaster refit True, fixed_train_size True\n",
    "# ==============================================================================\n",
    "metric, predictions_backtest = backtesting_forecaster_multiseries(\n",
    "                                    forecaster = forecaster,\n",
    "                                    series     = df[['s1', 's2']],\n",
    "                                    level      = 's1',\n",
    "                                    refit      = True,\n",
    "                                    initial_train_size = 12,\n",
    "                                    fixed_train_size   = True,\n",
    "                                    steps      = 4,\n",
    "                                    metric     = 'mean_squared_error',\n",
    "                                    verbose    = True\n",
    "                               )\n",
    "\n",
    "metric, predictions_backtest"
   ]
  },
  {
   "cell_type": "code",
   "execution_count": 20,
   "id": "67c2d199",
   "metadata": {
    "ExecuteTime": {
     "end_time": "2022-06-06T13:46:39.678059Z",
     "start_time": "2022-06-06T13:46:39.611457Z"
    }
   },
   "outputs": [
    {
     "name": "stdout",
     "output_type": "stream",
     "text": [
      "Information of backtesting process\n",
      "----------------------------------\n",
      "Number of observations used for initial training: 12\n",
      "Number of observations used for backtesting: 8\n",
      "    Number of folds: 2\n",
      "    Number of steps per fold: 4\n",
      "\n",
      "Data partition in fold: 0\n",
      "    Training:   2022-01-01 00:00:00 -- 2022-01-12 00:00:00  (n=12)\n",
      "    Validation: 2022-01-13 00:00:00 -- 2022-01-16 00:00:00  (n=4)\n",
      "Data partition in fold: 1\n",
      "    Training:   2022-01-01 00:00:00 -- 2022-01-16 00:00:00  (n=16)\n",
      "    Validation: 2022-01-17 00:00:00 -- 2022-01-20 00:00:00  (n=4)\n",
      "\n"
     ]
    },
    {
     "data": {
      "text/plain": [
       "(0.10939179494350493,\n",
       "                 pred\n",
       " 2022-01-13  0.452132\n",
       " 2022-01-14  0.265883\n",
       " 2022-01-15  0.296377\n",
       " 2022-01-16  0.371779\n",
       " 2022-01-17  0.471189\n",
       " 2022-01-18  0.400364\n",
       " 2022-01-19  0.452489\n",
       " 2022-01-20  0.442104)"
      ]
     },
     "execution_count": 20,
     "metadata": {},
     "output_type": "execute_result"
    }
   ],
   "source": [
    "# Backtest forecaster refit True, fixed_train_size False\n",
    "# ==============================================================================\n",
    "metric, predictions_backtest = backtesting_forecaster_multiseries(\n",
    "                                    forecaster = forecaster,\n",
    "                                    series     = df[['s1', 's2']],\n",
    "                                    level      = 's1',\n",
    "                                    refit      = True,\n",
    "                                    initial_train_size = 12,\n",
    "                                    fixed_train_size   = False,\n",
    "                                    steps      = 4,\n",
    "                                    metric     = 'mean_squared_error',\n",
    "                                    verbose    = True\n",
    "                               )\n",
    "\n",
    "metric, predictions_backtest"
   ]
  },
  {
   "cell_type": "code",
   "execution_count": 21,
   "id": "47cc489a",
   "metadata": {
    "ExecuteTime": {
     "end_time": "2022-06-06T13:46:42.179971Z",
     "start_time": "2022-06-06T13:46:42.108103Z"
    }
   },
   "outputs": [
    {
     "name": "stdout",
     "output_type": "stream",
     "text": [
      "Information of backtesting process\n",
      "----------------------------------\n",
      "Number of observations used for initial training: 12\n",
      "Number of observations used for backtesting: 8\n",
      "    Number of folds: 2\n",
      "    Number of steps per fold: 4\n",
      "\n",
      "Data partition in fold: 0\n",
      "    Training:   2022-01-01 00:00:00 -- 2022-01-12 00:00:00  (n=12)\n",
      "    Validation: 2022-01-13 00:00:00 -- 2022-01-16 00:00:00  (n=4)\n",
      "Data partition in fold: 1\n",
      "    Training:   2022-01-01 00:00:00 -- 2022-01-12 00:00:00  (n=12)\n",
      "    Validation: 2022-01-17 00:00:00 -- 2022-01-20 00:00:00  (n=4)\n",
      "\n"
     ]
    },
    {
     "data": {
      "text/plain": [
       "(0.12193079896247457,\n",
       "                 pred\n",
       " 2022-01-13  0.452132\n",
       " 2022-01-14  0.265883\n",
       " 2022-01-15  0.296377\n",
       " 2022-01-16  0.371779\n",
       " 2022-01-17  0.402262\n",
       " 2022-01-18  0.349748\n",
       " 2022-01-19  0.407087\n",
       " 2022-01-20  0.366944)"
      ]
     },
     "execution_count": 21,
     "metadata": {},
     "output_type": "execute_result"
    }
   ],
   "source": [
    "# Backtest forecaster refit False\n",
    "# ==============================================================================\n",
    "metric, predictions_backtest = backtesting_forecaster_multiseries(\n",
    "                                    forecaster = forecaster,\n",
    "                                    series     = df[['s1', 's2']],\n",
    "                                    level      = 's1',\n",
    "                                    refit      = False,\n",
    "                                    initial_train_size = 12,\n",
    "                                    steps      = 4,\n",
    "                                    metric     = 'mean_squared_error',\n",
    "                                    verbose    = True\n",
    "                               )\n",
    "\n",
    "metric, predictions_backtest"
   ]
  },
  {
   "cell_type": "markdown",
   "id": "0780f125",
   "metadata": {},
   "source": [
    "## Hyperparameter optimization"
   ]
  },
  {
   "cell_type": "code",
   "execution_count": 52,
   "id": "56044904",
   "metadata": {
    "ExecuteTime": {
     "end_time": "2022-06-06T14:25:31.594529Z",
     "start_time": "2022-06-06T14:25:31.068134Z"
    }
   },
   "outputs": [
    {
     "name": "stdout",
     "output_type": "stream",
     "text": [
      "Number of models compared: 16.\n"
     ]
    },
    {
     "name": "stderr",
     "output_type": "stream",
     "text": [
      "loop lags_grid:   0%|                                               | 0/2 [00:00<?, ?it/s]\n",
      "loop param_grid:   0%|                                              | 0/4 [00:00<?, ?it/s]\u001b[A\n",
      "loop param_grid:  75%|████████████████████████████▌         | 3/4 [00:00<00:00, 20.76it/s]\u001b[A\n",
      "loop lags_grid:  50%|███████████████████▌                   | 1/2 [00:00<00:00,  4.91it/s]\u001b[A\n",
      "loop param_grid:   0%|                                              | 0/4 [00:00<?, ?it/s]\u001b[A\n",
      "loop param_grid:  50%|███████████████████                   | 2/4 [00:00<00:00, 17.38it/s]\u001b[A\n",
      "loop param_grid: 100%|██████████████████████████████████████| 4/4 [00:00<00:00, 18.76it/s]\u001b[A\n",
      "loop lags_grid: 100%|███████████████████████████████████████| 2/2 [00:00<00:00,  4.69it/s]\u001b[A"
     ]
    },
    {
     "name": "stdout",
     "output_type": "stream",
     "text": [
      "`Forecaster` refitted using the best-found lags and parameters, and the whole data set: \n",
      "  Lags: [1 2] \n",
      "  Parameters: {'max_depth': 3, 'n_estimators': 10}\n",
      "  Backtesting metric: 0.08568393805096622\n",
      "  Levels: ['s1', 's2'] \n",
      "  Levels weights: {'s1': 0.5, 's2': 0.5} \n",
      "\n"
     ]
    },
    {
     "name": "stderr",
     "output_type": "stream",
     "text": [
      "\n"
     ]
    }
   ],
   "source": [
    "forecaster = ForecasterAutoregMultiSeries(\n",
    "                regressor = RandomForestRegressor(random_state=123),\n",
    "                lags      = 3 # Placeholder, the value will be overwritten\n",
    "             )\n",
    "\n",
    "# Lags used as predictors\n",
    "lags_grid = [2, 3]\n",
    "\n",
    "# Regressor hyperparameters\n",
    "param_grid = {'n_estimators': [10, 12],\n",
    "              'max_depth': [3, 5]}\n",
    "\n",
    "param_grid = list(ParameterGrid(param_grid))\n",
    "\n",
    "results_grid = _evaluate_grid_hyperparameters_multiseries(\n",
    "                        forecaster  = forecaster,\n",
    "                        series      = df[['s1', 's2']],\n",
    "                        param_grid  = param_grid,\n",
    "                        lags_grid   = lags_grid,\n",
    "                        steps       = 4,\n",
    "                        refit       = True,\n",
    "                        metric      = 'mean_squared_error',\n",
    "                        initial_train_size = 12,\n",
    "                        fixed_train_size   = True,\n",
    "                        return_best = True,\n",
    "                        verbose     = False\n",
    "               )"
   ]
  },
  {
   "cell_type": "code",
   "execution_count": 53,
   "id": "5906ad7f",
   "metadata": {
    "ExecuteTime": {
     "end_time": "2022-06-06T14:25:39.205384Z",
     "start_time": "2022-06-06T14:25:39.140430Z"
    }
   },
   "outputs": [
    {
     "data": {
      "text/html": [
       "<div>\n",
       "<style scoped>\n",
       "    .dataframe tbody tr th:only-of-type {\n",
       "        vertical-align: middle;\n",
       "    }\n",
       "\n",
       "    .dataframe tbody tr th {\n",
       "        vertical-align: top;\n",
       "    }\n",
       "\n",
       "    .dataframe thead th {\n",
       "        text-align: right;\n",
       "    }\n",
       "</style>\n",
       "<table border=\"1\" class=\"dataframe\">\n",
       "  <thead>\n",
       "    <tr style=\"text-align: right;\">\n",
       "      <th></th>\n",
       "      <th>levels</th>\n",
       "      <th>lags</th>\n",
       "      <th>params</th>\n",
       "      <th>metric</th>\n",
       "      <th>max_depth</th>\n",
       "      <th>n_estimators</th>\n",
       "    </tr>\n",
       "  </thead>\n",
       "  <tbody>\n",
       "    <tr>\n",
       "      <th>0</th>\n",
       "      <td>[s1, s2]</td>\n",
       "      <td>[1, 2]</td>\n",
       "      <td>{'max_depth': 3, 'n_estimators': 10}</td>\n",
       "      <td>0.085684</td>\n",
       "      <td>3</td>\n",
       "      <td>10</td>\n",
       "    </tr>\n",
       "    <tr>\n",
       "      <th>1</th>\n",
       "      <td>[s1, s2]</td>\n",
       "      <td>[1, 2]</td>\n",
       "      <td>{'max_depth': 3, 'n_estimators': 12}</td>\n",
       "      <td>0.087410</td>\n",
       "      <td>3</td>\n",
       "      <td>12</td>\n",
       "    </tr>\n",
       "    <tr>\n",
       "      <th>2</th>\n",
       "      <td>[s1, s2]</td>\n",
       "      <td>[1, 2]</td>\n",
       "      <td>{'max_depth': 5, 'n_estimators': 10}</td>\n",
       "      <td>0.094286</td>\n",
       "      <td>5</td>\n",
       "      <td>10</td>\n",
       "    </tr>\n",
       "    <tr>\n",
       "      <th>3</th>\n",
       "      <td>[s1, s2]</td>\n",
       "      <td>[1, 2]</td>\n",
       "      <td>{'max_depth': 5, 'n_estimators': 12}</td>\n",
       "      <td>0.097078</td>\n",
       "      <td>5</td>\n",
       "      <td>12</td>\n",
       "    </tr>\n",
       "    <tr>\n",
       "      <th>4</th>\n",
       "      <td>[s1, s2]</td>\n",
       "      <td>[1, 2, 3]</td>\n",
       "      <td>{'max_depth': 3, 'n_estimators': 10}</td>\n",
       "      <td>0.105619</td>\n",
       "      <td>3</td>\n",
       "      <td>10</td>\n",
       "    </tr>\n",
       "    <tr>\n",
       "      <th>6</th>\n",
       "      <td>[s1, s2]</td>\n",
       "      <td>[1, 2, 3]</td>\n",
       "      <td>{'max_depth': 5, 'n_estimators': 10}</td>\n",
       "      <td>0.109143</td>\n",
       "      <td>5</td>\n",
       "      <td>10</td>\n",
       "    </tr>\n",
       "    <tr>\n",
       "      <th>7</th>\n",
       "      <td>[s1, s2]</td>\n",
       "      <td>[1, 2, 3]</td>\n",
       "      <td>{'max_depth': 5, 'n_estimators': 12}</td>\n",
       "      <td>0.112304</td>\n",
       "      <td>5</td>\n",
       "      <td>12</td>\n",
       "    </tr>\n",
       "    <tr>\n",
       "      <th>5</th>\n",
       "      <td>[s1, s2]</td>\n",
       "      <td>[1, 2, 3]</td>\n",
       "      <td>{'max_depth': 3, 'n_estimators': 12}</td>\n",
       "      <td>0.117046</td>\n",
       "      <td>3</td>\n",
       "      <td>12</td>\n",
       "    </tr>\n",
       "  </tbody>\n",
       "</table>\n",
       "</div>"
      ],
      "text/plain": [
       "     levels       lags                                params    metric  \\\n",
       "0  [s1, s2]     [1, 2]  {'max_depth': 3, 'n_estimators': 10}  0.085684   \n",
       "1  [s1, s2]     [1, 2]  {'max_depth': 3, 'n_estimators': 12}  0.087410   \n",
       "2  [s1, s2]     [1, 2]  {'max_depth': 5, 'n_estimators': 10}  0.094286   \n",
       "3  [s1, s2]     [1, 2]  {'max_depth': 5, 'n_estimators': 12}  0.097078   \n",
       "4  [s1, s2]  [1, 2, 3]  {'max_depth': 3, 'n_estimators': 10}  0.105619   \n",
       "6  [s1, s2]  [1, 2, 3]  {'max_depth': 5, 'n_estimators': 10}  0.109143   \n",
       "7  [s1, s2]  [1, 2, 3]  {'max_depth': 5, 'n_estimators': 12}  0.112304   \n",
       "5  [s1, s2]  [1, 2, 3]  {'max_depth': 3, 'n_estimators': 12}  0.117046   \n",
       "\n",
       "   max_depth  n_estimators  \n",
       "0          3            10  \n",
       "1          3            12  \n",
       "2          5            10  \n",
       "3          5            12  \n",
       "4          3            10  \n",
       "6          5            10  \n",
       "7          5            12  \n",
       "5          3            12  "
      ]
     },
     "execution_count": 53,
     "metadata": {},
     "output_type": "execute_result"
    }
   ],
   "source": [
    "results_grid"
   ]
  },
  {
   "cell_type": "code",
   "execution_count": 25,
   "id": "ca1ce4b0",
   "metadata": {
    "ExecuteTime": {
     "end_time": "2022-06-06T13:47:34.810285Z",
     "start_time": "2022-06-06T13:47:34.741668Z"
    }
   },
   "outputs": [
    {
     "data": {
      "text/html": [
       "<div>\n",
       "<style scoped>\n",
       "    .dataframe tbody tr th:only-of-type {\n",
       "        vertical-align: middle;\n",
       "    }\n",
       "\n",
       "    .dataframe tbody tr th {\n",
       "        vertical-align: top;\n",
       "    }\n",
       "\n",
       "    .dataframe thead th {\n",
       "        text-align: right;\n",
       "    }\n",
       "</style>\n",
       "<table border=\"1\" class=\"dataframe\">\n",
       "  <thead>\n",
       "    <tr style=\"text-align: right;\">\n",
       "      <th></th>\n",
       "      <th>levels</th>\n",
       "      <th>lags</th>\n",
       "      <th>params</th>\n",
       "      <th>metric</th>\n",
       "      <th>max_depth</th>\n",
       "      <th>n_estimators</th>\n",
       "    </tr>\n",
       "  </thead>\n",
       "  <tbody>\n",
       "    <tr>\n",
       "      <th>4</th>\n",
       "      <td>[s2]</td>\n",
       "      <td>[1, 2, 3]</td>\n",
       "      <td>{'max_depth': 3, 'n_estimators': 10}</td>\n",
       "      <td>0.085284</td>\n",
       "      <td>3</td>\n",
       "      <td>10</td>\n",
       "    </tr>\n",
       "    <tr>\n",
       "      <th>5</th>\n",
       "      <td>[s2]</td>\n",
       "      <td>[1, 2, 3]</td>\n",
       "      <td>{'max_depth': 3, 'n_estimators': 12}</td>\n",
       "      <td>0.085913</td>\n",
       "      <td>3</td>\n",
       "      <td>12</td>\n",
       "    </tr>\n",
       "    <tr>\n",
       "      <th>7</th>\n",
       "      <td>[s2]</td>\n",
       "      <td>[1, 2, 3]</td>\n",
       "      <td>{'max_depth': 5, 'n_estimators': 12}</td>\n",
       "      <td>0.088803</td>\n",
       "      <td>5</td>\n",
       "      <td>12</td>\n",
       "    </tr>\n",
       "    <tr>\n",
       "      <th>6</th>\n",
       "      <td>[s2]</td>\n",
       "      <td>[1, 2, 3]</td>\n",
       "      <td>{'max_depth': 5, 'n_estimators': 10}</td>\n",
       "      <td>0.093848</td>\n",
       "      <td>5</td>\n",
       "      <td>10</td>\n",
       "    </tr>\n",
       "    <tr>\n",
       "      <th>0</th>\n",
       "      <td>[s2]</td>\n",
       "      <td>[1, 2]</td>\n",
       "      <td>{'max_depth': 3, 'n_estimators': 10}</td>\n",
       "      <td>0.099212</td>\n",
       "      <td>3</td>\n",
       "      <td>10</td>\n",
       "    </tr>\n",
       "    <tr>\n",
       "      <th>1</th>\n",
       "      <td>[s2]</td>\n",
       "      <td>[1, 2]</td>\n",
       "      <td>{'max_depth': 3, 'n_estimators': 12}</td>\n",
       "      <td>0.106265</td>\n",
       "      <td>3</td>\n",
       "      <td>12</td>\n",
       "    </tr>\n",
       "    <tr>\n",
       "      <th>2</th>\n",
       "      <td>[s2]</td>\n",
       "      <td>[1, 2]</td>\n",
       "      <td>{'max_depth': 5, 'n_estimators': 10}</td>\n",
       "      <td>0.108759</td>\n",
       "      <td>5</td>\n",
       "      <td>10</td>\n",
       "    </tr>\n",
       "    <tr>\n",
       "      <th>3</th>\n",
       "      <td>[s2]</td>\n",
       "      <td>[1, 2]</td>\n",
       "      <td>{'max_depth': 5, 'n_estimators': 12}</td>\n",
       "      <td>0.111977</td>\n",
       "      <td>5</td>\n",
       "      <td>12</td>\n",
       "    </tr>\n",
       "  </tbody>\n",
       "</table>\n",
       "</div>"
      ],
      "text/plain": [
       "  levels       lags                                params    metric  \\\n",
       "4   [s2]  [1, 2, 3]  {'max_depth': 3, 'n_estimators': 10}  0.085284   \n",
       "5   [s2]  [1, 2, 3]  {'max_depth': 3, 'n_estimators': 12}  0.085913   \n",
       "7   [s2]  [1, 2, 3]  {'max_depth': 5, 'n_estimators': 12}  0.088803   \n",
       "6   [s2]  [1, 2, 3]  {'max_depth': 5, 'n_estimators': 10}  0.093848   \n",
       "0   [s2]     [1, 2]  {'max_depth': 3, 'n_estimators': 10}  0.099212   \n",
       "1   [s2]     [1, 2]  {'max_depth': 3, 'n_estimators': 12}  0.106265   \n",
       "2   [s2]     [1, 2]  {'max_depth': 5, 'n_estimators': 10}  0.108759   \n",
       "3   [s2]     [1, 2]  {'max_depth': 5, 'n_estimators': 12}  0.111977   \n",
       "\n",
       "   max_depth  n_estimators  \n",
       "4          3            10  \n",
       "5          3            12  \n",
       "7          5            12  \n",
       "6          5            10  \n",
       "0          3            10  \n",
       "1          3            12  \n",
       "2          5            10  \n",
       "3          5            12  "
      ]
     },
     "execution_count": 25,
     "metadata": {},
     "output_type": "execute_result"
    }
   ],
   "source": [
    "results_grid"
   ]
  },
  {
   "cell_type": "code",
   "execution_count": 33,
   "id": "91e56397",
   "metadata": {
    "ExecuteTime": {
     "end_time": "2022-06-06T13:50:11.128914Z",
     "start_time": "2022-06-06T13:50:11.067860Z"
    }
   },
   "outputs": [
    {
     "data": {
      "text/plain": [
       "0.09234300000000001"
      ]
     },
     "execution_count": 33,
     "metadata": {},
     "output_type": "execute_result"
    }
   ],
   "source": [
    "(0.078421 + 0.106265)/2"
   ]
  },
  {
   "cell_type": "code",
   "execution_count": 28,
   "id": "691871d4",
   "metadata": {
    "ExecuteTime": {
     "end_time": "2022-06-06T13:48:11.023228Z",
     "start_time": "2022-06-06T13:48:10.953646Z"
    }
   },
   "outputs": [
    {
     "data": {
      "text/html": [
       "<div>\n",
       "<style scoped>\n",
       "    .dataframe tbody tr th:only-of-type {\n",
       "        vertical-align: middle;\n",
       "    }\n",
       "\n",
       "    .dataframe tbody tr th {\n",
       "        vertical-align: top;\n",
       "    }\n",
       "\n",
       "    .dataframe thead th {\n",
       "        text-align: right;\n",
       "    }\n",
       "</style>\n",
       "<table border=\"1\" class=\"dataframe\">\n",
       "  <thead>\n",
       "    <tr style=\"text-align: right;\">\n",
       "      <th></th>\n",
       "      <th>levels</th>\n",
       "      <th>lags</th>\n",
       "      <th>params</th>\n",
       "      <th>metric</th>\n",
       "      <th>max_depth</th>\n",
       "      <th>n_estimators</th>\n",
       "    </tr>\n",
       "  </thead>\n",
       "  <tbody>\n",
       "    <tr>\n",
       "      <th>1</th>\n",
       "      <td>[s1, s2]</td>\n",
       "      <td>[1, 2]</td>\n",
       "      <td>{'max_depth': 3, 'n_estimators': 12}</td>\n",
       "      <td>0.092343</td>\n",
       "      <td>3</td>\n",
       "      <td>12</td>\n",
       "    </tr>\n",
       "    <tr>\n",
       "      <th>0</th>\n",
       "      <td>[s1, s2]</td>\n",
       "      <td>[1, 2]</td>\n",
       "      <td>{'max_depth': 3, 'n_estimators': 10}</td>\n",
       "      <td>0.101738</td>\n",
       "      <td>3</td>\n",
       "      <td>10</td>\n",
       "    </tr>\n",
       "    <tr>\n",
       "      <th>5</th>\n",
       "      <td>[s1, s2]</td>\n",
       "      <td>[1, 2, 3]</td>\n",
       "      <td>{'max_depth': 3, 'n_estimators': 12}</td>\n",
       "      <td>0.106701</td>\n",
       "      <td>3</td>\n",
       "      <td>12</td>\n",
       "    </tr>\n",
       "    <tr>\n",
       "      <th>7</th>\n",
       "      <td>[s1, s2]</td>\n",
       "      <td>[1, 2, 3]</td>\n",
       "      <td>{'max_depth': 5, 'n_estimators': 12}</td>\n",
       "      <td>0.108936</td>\n",
       "      <td>5</td>\n",
       "      <td>12</td>\n",
       "    </tr>\n",
       "    <tr>\n",
       "      <th>2</th>\n",
       "      <td>[s1, s2]</td>\n",
       "      <td>[1, 2]</td>\n",
       "      <td>{'max_depth': 5, 'n_estimators': 10}</td>\n",
       "      <td>0.109556</td>\n",
       "      <td>5</td>\n",
       "      <td>10</td>\n",
       "    </tr>\n",
       "    <tr>\n",
       "      <th>4</th>\n",
       "      <td>[s1, s2]</td>\n",
       "      <td>[1, 2, 3]</td>\n",
       "      <td>{'max_depth': 3, 'n_estimators': 10}</td>\n",
       "      <td>0.112275</td>\n",
       "      <td>3</td>\n",
       "      <td>10</td>\n",
       "    </tr>\n",
       "    <tr>\n",
       "      <th>6</th>\n",
       "      <td>[s1, s2]</td>\n",
       "      <td>[1, 2, 3]</td>\n",
       "      <td>{'max_depth': 5, 'n_estimators': 10}</td>\n",
       "      <td>0.116062</td>\n",
       "      <td>5</td>\n",
       "      <td>10</td>\n",
       "    </tr>\n",
       "    <tr>\n",
       "      <th>3</th>\n",
       "      <td>[s1, s2]</td>\n",
       "      <td>[1, 2]</td>\n",
       "      <td>{'max_depth': 5, 'n_estimators': 12}</td>\n",
       "      <td>0.122368</td>\n",
       "      <td>5</td>\n",
       "      <td>12</td>\n",
       "    </tr>\n",
       "  </tbody>\n",
       "</table>\n",
       "</div>"
      ],
      "text/plain": [
       "     levels       lags                                params    metric  \\\n",
       "1  [s1, s2]     [1, 2]  {'max_depth': 3, 'n_estimators': 12}  0.092343   \n",
       "0  [s1, s2]     [1, 2]  {'max_depth': 3, 'n_estimators': 10}  0.101738   \n",
       "5  [s1, s2]  [1, 2, 3]  {'max_depth': 3, 'n_estimators': 12}  0.106701   \n",
       "7  [s1, s2]  [1, 2, 3]  {'max_depth': 5, 'n_estimators': 12}  0.108936   \n",
       "2  [s1, s2]     [1, 2]  {'max_depth': 5, 'n_estimators': 10}  0.109556   \n",
       "4  [s1, s2]  [1, 2, 3]  {'max_depth': 3, 'n_estimators': 10}  0.112275   \n",
       "6  [s1, s2]  [1, 2, 3]  {'max_depth': 5, 'n_estimators': 10}  0.116062   \n",
       "3  [s1, s2]     [1, 2]  {'max_depth': 5, 'n_estimators': 12}  0.122368   \n",
       "\n",
       "   max_depth  n_estimators  \n",
       "1          3            12  \n",
       "0          3            10  \n",
       "5          3            12  \n",
       "7          5            12  \n",
       "2          5            10  \n",
       "4          3            10  \n",
       "6          5            10  \n",
       "3          5            12  "
      ]
     },
     "execution_count": 28,
     "metadata": {},
     "output_type": "execute_result"
    }
   ],
   "source": [
    "results_grid"
   ]
  },
  {
   "cell_type": "code",
   "execution_count": 37,
   "id": "95f1a12d",
   "metadata": {
    "ExecuteTime": {
     "end_time": "2022-06-06T13:51:16.184940Z",
     "start_time": "2022-06-06T13:51:16.122450Z"
    }
   },
   "outputs": [
    {
     "data": {
      "text/plain": [
       "0.08343292"
      ]
     },
     "execution_count": 37,
     "metadata": {},
     "output_type": "execute_result"
    }
   ],
   "source": [
    "0.078421*0.82 + 0.106265*0.18"
   ]
  },
  {
   "cell_type": "code",
   "execution_count": 36,
   "id": "d8b08f51",
   "metadata": {
    "ExecuteTime": {
     "end_time": "2022-06-06T13:51:03.107367Z",
     "start_time": "2022-06-06T13:51:03.042576Z"
    }
   },
   "outputs": [
    {
     "data": {
      "text/html": [
       "<div>\n",
       "<style scoped>\n",
       "    .dataframe tbody tr th:only-of-type {\n",
       "        vertical-align: middle;\n",
       "    }\n",
       "\n",
       "    .dataframe tbody tr th {\n",
       "        vertical-align: top;\n",
       "    }\n",
       "\n",
       "    .dataframe thead th {\n",
       "        text-align: right;\n",
       "    }\n",
       "</style>\n",
       "<table border=\"1\" class=\"dataframe\">\n",
       "  <thead>\n",
       "    <tr style=\"text-align: right;\">\n",
       "      <th></th>\n",
       "      <th>levels</th>\n",
       "      <th>lags</th>\n",
       "      <th>params</th>\n",
       "      <th>metric</th>\n",
       "      <th>max_depth</th>\n",
       "      <th>n_estimators</th>\n",
       "    </tr>\n",
       "  </thead>\n",
       "  <tbody>\n",
       "    <tr>\n",
       "      <th>1</th>\n",
       "      <td>[s1, s2]</td>\n",
       "      <td>[1, 2]</td>\n",
       "      <td>{'max_depth': 3, 'n_estimators': 12}</td>\n",
       "      <td>0.083433</td>\n",
       "      <td>3</td>\n",
       "      <td>12</td>\n",
       "    </tr>\n",
       "    <tr>\n",
       "      <th>0</th>\n",
       "      <td>[s1, s2]</td>\n",
       "      <td>[1, 2]</td>\n",
       "      <td>{'max_depth': 3, 'n_estimators': 10}</td>\n",
       "      <td>0.103354</td>\n",
       "      <td>3</td>\n",
       "      <td>10</td>\n",
       "    </tr>\n",
       "    <tr>\n",
       "      <th>2</th>\n",
       "      <td>[s1, s2]</td>\n",
       "      <td>[1, 2]</td>\n",
       "      <td>{'max_depth': 5, 'n_estimators': 10}</td>\n",
       "      <td>0.110067</td>\n",
       "      <td>5</td>\n",
       "      <td>10</td>\n",
       "    </tr>\n",
       "    <tr>\n",
       "      <th>5</th>\n",
       "      <td>[s1, s2]</td>\n",
       "      <td>[1, 2, 3]</td>\n",
       "      <td>{'max_depth': 3, 'n_estimators': 12}</td>\n",
       "      <td>0.120005</td>\n",
       "      <td>3</td>\n",
       "      <td>12</td>\n",
       "    </tr>\n",
       "    <tr>\n",
       "      <th>7</th>\n",
       "      <td>[s1, s2]</td>\n",
       "      <td>[1, 2, 3]</td>\n",
       "      <td>{'max_depth': 5, 'n_estimators': 12}</td>\n",
       "      <td>0.121821</td>\n",
       "      <td>5</td>\n",
       "      <td>12</td>\n",
       "    </tr>\n",
       "    <tr>\n",
       "      <th>3</th>\n",
       "      <td>[s1, s2]</td>\n",
       "      <td>[1, 2]</td>\n",
       "      <td>{'max_depth': 5, 'n_estimators': 12}</td>\n",
       "      <td>0.129018</td>\n",
       "      <td>5</td>\n",
       "      <td>12</td>\n",
       "    </tr>\n",
       "    <tr>\n",
       "      <th>4</th>\n",
       "      <td>[s1, s2]</td>\n",
       "      <td>[1, 2, 3]</td>\n",
       "      <td>{'max_depth': 3, 'n_estimators': 10}</td>\n",
       "      <td>0.129549</td>\n",
       "      <td>3</td>\n",
       "      <td>10</td>\n",
       "    </tr>\n",
       "    <tr>\n",
       "      <th>6</th>\n",
       "      <td>[s1, s2]</td>\n",
       "      <td>[1, 2, 3]</td>\n",
       "      <td>{'max_depth': 5, 'n_estimators': 10}</td>\n",
       "      <td>0.130279</td>\n",
       "      <td>5</td>\n",
       "      <td>10</td>\n",
       "    </tr>\n",
       "  </tbody>\n",
       "</table>\n",
       "</div>"
      ],
      "text/plain": [
       "     levels       lags                                params    metric  \\\n",
       "1  [s1, s2]     [1, 2]  {'max_depth': 3, 'n_estimators': 12}  0.083433   \n",
       "0  [s1, s2]     [1, 2]  {'max_depth': 3, 'n_estimators': 10}  0.103354   \n",
       "2  [s1, s2]     [1, 2]  {'max_depth': 5, 'n_estimators': 10}  0.110067   \n",
       "5  [s1, s2]  [1, 2, 3]  {'max_depth': 3, 'n_estimators': 12}  0.120005   \n",
       "7  [s1, s2]  [1, 2, 3]  {'max_depth': 5, 'n_estimators': 12}  0.121821   \n",
       "3  [s1, s2]     [1, 2]  {'max_depth': 5, 'n_estimators': 12}  0.129018   \n",
       "4  [s1, s2]  [1, 2, 3]  {'max_depth': 3, 'n_estimators': 10}  0.129549   \n",
       "6  [s1, s2]  [1, 2, 3]  {'max_depth': 5, 'n_estimators': 10}  0.130279   \n",
       "\n",
       "   max_depth  n_estimators  \n",
       "1          3            12  \n",
       "0          3            10  \n",
       "2          5            10  \n",
       "5          3            12  \n",
       "7          5            12  \n",
       "3          5            12  \n",
       "4          3            10  \n",
       "6          5            10  "
      ]
     },
     "execution_count": 36,
     "metadata": {},
     "output_type": "execute_result"
    }
   ],
   "source": [
    "results_grid"
   ]
  },
  {
   "cell_type": "code",
   "execution_count": 47,
   "id": "4560166f",
   "metadata": {
    "ExecuteTime": {
     "end_time": "2022-06-06T13:57:16.081920Z",
     "start_time": "2022-06-06T13:57:16.015570Z"
    }
   },
   "outputs": [],
   "source": [
    "cols = list(df[['s1', 's2']].columns)"
   ]
  },
  {
   "cell_type": "code",
   "execution_count": 43,
   "id": "4523d0cc",
   "metadata": {
    "ExecuteTime": {
     "end_time": "2022-06-06T13:54:55.980619Z",
     "start_time": "2022-06-06T13:54:55.917344Z"
    }
   },
   "outputs": [],
   "source": [
    "levels_weights= {'s1': 0.82, 's2': 0.18} "
   ]
  },
  {
   "cell_type": "code",
   "execution_count": 50,
   "id": "06d5d654",
   "metadata": {
    "ExecuteTime": {
     "end_time": "2022-06-06T13:57:50.406288Z",
     "start_time": "2022-06-06T13:57:50.351077Z"
    }
   },
   "outputs": [],
   "source": [
    "if cols != list(levels_weights.keys()):\n",
    "    print(1)"
   ]
  },
  {
   "cell_type": "markdown",
   "id": "2bf313f9",
   "metadata": {},
   "source": [
    "## Tests"
   ]
  },
  {
   "cell_type": "code",
   "execution_count": 74,
   "id": "c3920a93",
   "metadata": {
    "ExecuteTime": {
     "end_time": "2022-06-09T14:48:53.935232Z",
     "start_time": "2022-06-09T14:48:53.692506Z"
    }
   },
   "outputs": [],
   "source": [
    "import pytest\n",
    "import numpy as np\n",
    "import pandas as pd\n",
    "from sklearn.linear_model import Ridge\n",
    "from skforecast.ForecasterAutoregMultiSeries import ForecasterAutoregMultiSeries\n",
    "from skforecast.model_selection_multiseries.model_selection_multiseries import _evaluate_grid_hyperparameters_multiseries"
   ]
  },
  {
   "cell_type": "code",
   "execution_count": 72,
   "id": "7f2b746a",
   "metadata": {
    "ExecuteTime": {
     "end_time": "2022-06-09T14:48:40.622806Z",
     "start_time": "2022-06-09T14:48:40.501939Z"
    }
   },
   "outputs": [],
   "source": [
    "series = pd.DataFrame({'1': pd.Series(np.arange(20)), \n",
    "                       '2': pd.Series(np.arange(20))\n",
    "                      })"
   ]
  },
  {
   "cell_type": "code",
   "execution_count": 78,
   "id": "35acaf6a",
   "metadata": {
    "ExecuteTime": {
     "end_time": "2022-06-09T14:49:44.576694Z",
     "start_time": "2022-06-09T14:49:44.494004Z"
    }
   },
   "outputs": [],
   "source": [
    "forecaster = ForecasterAutoregMultiSeries(\n",
    "                    regressor = Ridge(random_state=123),\n",
    "                    lags      = 3\n",
    "                 )\n",
    "\n",
    "levels_list = 'not_a_list'\n",
    "\n",
    "with pytest.raises(Exception):\n",
    "    _evaluate_grid_hyperparameters_multiseries(\n",
    "        forecaster          = forecaster,\n",
    "        series              = series,\n",
    "        param_grid          = [{'alpha': 0.01}, {'alpha': 0.1}, {'alpha': 1}],\n",
    "        steps               = 4,\n",
    "        metric              = 'mean_absolute_error',\n",
    "        initial_train_size  = 12,\n",
    "        fixed_train_size    = False,\n",
    "        levels_list         = levels_list,\n",
    "        levels_weights      = None,\n",
    "        exog                = None,\n",
    "        lags_grid           = [2, 4],\n",
    "        refit               = False,\n",
    "        return_best         = False,\n",
    "        verbose             = False\n",
    "    )"
   ]
  },
  {
   "cell_type": "code",
   "execution_count": 81,
   "id": "a91dc962",
   "metadata": {
    "ExecuteTime": {
     "end_time": "2022-06-09T14:50:06.597748Z",
     "start_time": "2022-06-09T14:50:06.493181Z"
    }
   },
   "outputs": [
    {
     "ename": "Exception",
     "evalue": "`levels_weights` must be a dict or `None`.",
     "output_type": "error",
     "traceback": [
      "\u001b[1;31m---------------------------------------------------------------------------\u001b[0m",
      "\u001b[1;31mException\u001b[0m                                 Traceback (most recent call last)",
      "Input \u001b[1;32mIn [81]\u001b[0m, in \u001b[0;36m<cell line: 4>\u001b[1;34m()\u001b[0m\n\u001b[0;32m      1\u001b[0m levels_weights \u001b[38;5;241m=\u001b[39m \u001b[38;5;124m'\u001b[39m\u001b[38;5;124mnot_a_dict\u001b[39m\u001b[38;5;124m'\u001b[39m\n\u001b[0;32m      3\u001b[0m \u001b[38;5;66;03m# with pytest.raises(Exception):\u001b[39;00m\n\u001b[1;32m----> 4\u001b[0m \u001b[43m_evaluate_grid_hyperparameters_multiseries\u001b[49m\u001b[43m(\u001b[49m\n\u001b[0;32m      5\u001b[0m \u001b[43m    \u001b[49m\u001b[43mforecaster\u001b[49m\u001b[43m          \u001b[49m\u001b[38;5;241;43m=\u001b[39;49m\u001b[43m \u001b[49m\u001b[43mforecaster\u001b[49m\u001b[43m,\u001b[49m\n\u001b[0;32m      6\u001b[0m \u001b[43m    \u001b[49m\u001b[43mseries\u001b[49m\u001b[43m              \u001b[49m\u001b[38;5;241;43m=\u001b[39;49m\u001b[43m \u001b[49m\u001b[43mseries\u001b[49m\u001b[43m,\u001b[49m\n\u001b[0;32m      7\u001b[0m \u001b[43m    \u001b[49m\u001b[43mparam_grid\u001b[49m\u001b[43m          \u001b[49m\u001b[38;5;241;43m=\u001b[39;49m\u001b[43m \u001b[49m\u001b[43m[\u001b[49m\u001b[43m{\u001b[49m\u001b[38;5;124;43m'\u001b[39;49m\u001b[38;5;124;43malpha\u001b[39;49m\u001b[38;5;124;43m'\u001b[39;49m\u001b[43m:\u001b[49m\u001b[43m \u001b[49m\u001b[38;5;241;43m0.01\u001b[39;49m\u001b[43m}\u001b[49m\u001b[43m,\u001b[49m\u001b[43m \u001b[49m\u001b[43m{\u001b[49m\u001b[38;5;124;43m'\u001b[39;49m\u001b[38;5;124;43malpha\u001b[39;49m\u001b[38;5;124;43m'\u001b[39;49m\u001b[43m:\u001b[49m\u001b[43m \u001b[49m\u001b[38;5;241;43m0.1\u001b[39;49m\u001b[43m}\u001b[49m\u001b[43m,\u001b[49m\u001b[43m \u001b[49m\u001b[43m{\u001b[49m\u001b[38;5;124;43m'\u001b[39;49m\u001b[38;5;124;43malpha\u001b[39;49m\u001b[38;5;124;43m'\u001b[39;49m\u001b[43m:\u001b[49m\u001b[43m \u001b[49m\u001b[38;5;241;43m1\u001b[39;49m\u001b[43m}\u001b[49m\u001b[43m]\u001b[49m\u001b[43m,\u001b[49m\n\u001b[0;32m      8\u001b[0m \u001b[43m    \u001b[49m\u001b[43msteps\u001b[49m\u001b[43m               \u001b[49m\u001b[38;5;241;43m=\u001b[39;49m\u001b[43m \u001b[49m\u001b[38;5;241;43m4\u001b[39;49m\u001b[43m,\u001b[49m\n\u001b[0;32m      9\u001b[0m \u001b[43m    \u001b[49m\u001b[43mmetric\u001b[49m\u001b[43m              \u001b[49m\u001b[38;5;241;43m=\u001b[39;49m\u001b[43m \u001b[49m\u001b[38;5;124;43m'\u001b[39;49m\u001b[38;5;124;43mmean_absolute_error\u001b[39;49m\u001b[38;5;124;43m'\u001b[39;49m\u001b[43m,\u001b[49m\n\u001b[0;32m     10\u001b[0m \u001b[43m    \u001b[49m\u001b[43minitial_train_size\u001b[49m\u001b[43m  \u001b[49m\u001b[38;5;241;43m=\u001b[39;49m\u001b[43m \u001b[49m\u001b[38;5;241;43m12\u001b[39;49m\u001b[43m,\u001b[49m\n\u001b[0;32m     11\u001b[0m \u001b[43m    \u001b[49m\u001b[43mfixed_train_size\u001b[49m\u001b[43m    \u001b[49m\u001b[38;5;241;43m=\u001b[39;49m\u001b[43m \u001b[49m\u001b[38;5;28;43;01mFalse\u001b[39;49;00m\u001b[43m,\u001b[49m\n\u001b[0;32m     12\u001b[0m \u001b[43m    \u001b[49m\u001b[43mlevels_list\u001b[49m\u001b[43m         \u001b[49m\u001b[38;5;241;43m=\u001b[39;49m\u001b[43m \u001b[49m\u001b[38;5;28;43;01mNone\u001b[39;49;00m\u001b[43m,\u001b[49m\n\u001b[0;32m     13\u001b[0m \u001b[43m    \u001b[49m\u001b[43mlevels_weights\u001b[49m\u001b[43m      \u001b[49m\u001b[38;5;241;43m=\u001b[39;49m\u001b[43m \u001b[49m\u001b[43mlevels_weights\u001b[49m\u001b[43m,\u001b[49m\n\u001b[0;32m     14\u001b[0m \u001b[43m    \u001b[49m\u001b[43mexog\u001b[49m\u001b[43m                \u001b[49m\u001b[38;5;241;43m=\u001b[39;49m\u001b[43m \u001b[49m\u001b[38;5;28;43;01mNone\u001b[39;49;00m\u001b[43m,\u001b[49m\n\u001b[0;32m     15\u001b[0m \u001b[43m    \u001b[49m\u001b[43mlags_grid\u001b[49m\u001b[43m           \u001b[49m\u001b[38;5;241;43m=\u001b[39;49m\u001b[43m \u001b[49m\u001b[43m[\u001b[49m\u001b[38;5;241;43m2\u001b[39;49m\u001b[43m,\u001b[49m\u001b[43m \u001b[49m\u001b[38;5;241;43m4\u001b[39;49m\u001b[43m]\u001b[49m\u001b[43m,\u001b[49m\n\u001b[0;32m     16\u001b[0m \u001b[43m    \u001b[49m\u001b[43mrefit\u001b[49m\u001b[43m               \u001b[49m\u001b[38;5;241;43m=\u001b[39;49m\u001b[43m \u001b[49m\u001b[38;5;28;43;01mFalse\u001b[39;49;00m\u001b[43m,\u001b[49m\n\u001b[0;32m     17\u001b[0m \u001b[43m    \u001b[49m\u001b[43mreturn_best\u001b[49m\u001b[43m         \u001b[49m\u001b[38;5;241;43m=\u001b[39;49m\u001b[43m \u001b[49m\u001b[38;5;28;43;01mFalse\u001b[39;49;00m\u001b[43m,\u001b[49m\n\u001b[0;32m     18\u001b[0m \u001b[43m    \u001b[49m\u001b[43mverbose\u001b[49m\u001b[43m             \u001b[49m\u001b[38;5;241;43m=\u001b[39;49m\u001b[43m \u001b[49m\u001b[38;5;28;43;01mFalse\u001b[39;49;00m\n\u001b[0;32m     19\u001b[0m \u001b[43m)\u001b[49m\n",
      "File \u001b[1;32m~\\GitHub\\skforecast\\skforecast\\model_selection_multiseries\\model_selection_multiseries.py:1059\u001b[0m, in \u001b[0;36m_evaluate_grid_hyperparameters_multiseries\u001b[1;34m(forecaster, series, param_grid, steps, metric, initial_train_size, fixed_train_size, levels_list, levels_weights, exog, lags_grid, refit, return_best, verbose)\u001b[0m\n\u001b[0;32m   1054\u001b[0m     \u001b[38;5;28;01mraise\u001b[39;00m \u001b[38;5;167;01mException\u001b[39;00m(\n\u001b[0;32m   1055\u001b[0m         \u001b[38;5;124mf\u001b[39m\u001b[38;5;124m'\u001b[39m\u001b[38;5;124m`levels_list` must be a list of column names or `None`.\u001b[39m\u001b[38;5;124m'\u001b[39m\n\u001b[0;32m   1056\u001b[0m     )\n\u001b[0;32m   1058\u001b[0m \u001b[38;5;28;01mif\u001b[39;00m levels_weights \u001b[38;5;129;01mis\u001b[39;00m \u001b[38;5;129;01mnot\u001b[39;00m \u001b[38;5;28;01mNone\u001b[39;00m \u001b[38;5;129;01mand\u001b[39;00m \u001b[38;5;129;01mnot\u001b[39;00m \u001b[38;5;28misinstance\u001b[39m(levels_weights, \u001b[38;5;28mdict\u001b[39m):\n\u001b[1;32m-> 1059\u001b[0m     \u001b[38;5;28;01mraise\u001b[39;00m \u001b[38;5;167;01mException\u001b[39;00m(\n\u001b[0;32m   1060\u001b[0m         \u001b[38;5;124mf\u001b[39m\u001b[38;5;124m'\u001b[39m\u001b[38;5;124m`levels_weights` must be a dict or `None`.\u001b[39m\u001b[38;5;124m'\u001b[39m\n\u001b[0;32m   1061\u001b[0m     )\n\u001b[0;32m   1063\u001b[0m \u001b[38;5;28;01mif\u001b[39;00m levels_list \u001b[38;5;129;01mis\u001b[39;00m \u001b[38;5;28;01mNone\u001b[39;00m:\n\u001b[0;32m   1064\u001b[0m     levels_list \u001b[38;5;241m=\u001b[39m \u001b[38;5;28mlist\u001b[39m(series\u001b[38;5;241m.\u001b[39mcolumns)\n",
      "\u001b[1;31mException\u001b[0m: `levels_weights` must be a dict or `None`."
     ]
    }
   ],
   "source": [
    "levels_weights = 'not_a_dict'\n",
    "    \n",
    "# with pytest.raises(Exception):\n",
    "_evaluate_grid_hyperparameters_multiseries(\n",
    "    forecaster          = forecaster,\n",
    "    series              = series,\n",
    "    param_grid          = [{'alpha': 0.01}, {'alpha': 0.1}, {'alpha': 1}],\n",
    "    steps               = 4,\n",
    "    metric              = 'mean_absolute_error',\n",
    "    initial_train_size  = 12,\n",
    "    fixed_train_size    = False,\n",
    "    levels_list         = None,\n",
    "    levels_weights      = levels_weights,\n",
    "    exog                = None,\n",
    "    lags_grid           = [2, 4],\n",
    "    refit               = False,\n",
    "    return_best         = False,\n",
    "    verbose             = False\n",
    ")"
   ]
  },
  {
   "cell_type": "code",
   "execution_count": 82,
   "id": "4246d981",
   "metadata": {
    "ExecuteTime": {
     "end_time": "2022-06-09T14:50:19.660489Z",
     "start_time": "2022-06-09T14:50:19.565671Z"
    }
   },
   "outputs": [
    {
     "ename": "Exception",
     "evalue": "`levels_weights` keys must be the same as the column names of series, `levels_list`.",
     "output_type": "error",
     "traceback": [
      "\u001b[1;31m---------------------------------------------------------------------------\u001b[0m",
      "\u001b[1;31mException\u001b[0m                                 Traceback (most recent call last)",
      "Input \u001b[1;32mIn [82]\u001b[0m, in \u001b[0;36m<cell line: 10>\u001b[1;34m()\u001b[0m\n\u001b[0;32m      7\u001b[0m levels_weights \u001b[38;5;241m=\u001b[39m {\u001b[38;5;124m'\u001b[39m\u001b[38;5;124m1\u001b[39m\u001b[38;5;124m'\u001b[39m: \u001b[38;5;241m0.5\u001b[39m, \u001b[38;5;124m'\u001b[39m\u001b[38;5;124mnot_2\u001b[39m\u001b[38;5;124m'\u001b[39m: \u001b[38;5;241m0.5\u001b[39m}\n\u001b[0;32m      9\u001b[0m \u001b[38;5;66;03m# with pytest.raises(Exception):\u001b[39;00m\n\u001b[1;32m---> 10\u001b[0m \u001b[43m_evaluate_grid_hyperparameters_multiseries\u001b[49m\u001b[43m(\u001b[49m\n\u001b[0;32m     11\u001b[0m \u001b[43m    \u001b[49m\u001b[43mforecaster\u001b[49m\u001b[43m          \u001b[49m\u001b[38;5;241;43m=\u001b[39;49m\u001b[43m \u001b[49m\u001b[43mforecaster\u001b[49m\u001b[43m,\u001b[49m\n\u001b[0;32m     12\u001b[0m \u001b[43m    \u001b[49m\u001b[43mseries\u001b[49m\u001b[43m              \u001b[49m\u001b[38;5;241;43m=\u001b[39;49m\u001b[43m \u001b[49m\u001b[43mseries\u001b[49m\u001b[43m,\u001b[49m\n\u001b[0;32m     13\u001b[0m \u001b[43m    \u001b[49m\u001b[43mparam_grid\u001b[49m\u001b[43m          \u001b[49m\u001b[38;5;241;43m=\u001b[39;49m\u001b[43m \u001b[49m\u001b[43m[\u001b[49m\u001b[43m{\u001b[49m\u001b[38;5;124;43m'\u001b[39;49m\u001b[38;5;124;43malpha\u001b[39;49m\u001b[38;5;124;43m'\u001b[39;49m\u001b[43m:\u001b[49m\u001b[43m \u001b[49m\u001b[38;5;241;43m0.01\u001b[39;49m\u001b[43m}\u001b[49m\u001b[43m,\u001b[49m\u001b[43m \u001b[49m\u001b[43m{\u001b[49m\u001b[38;5;124;43m'\u001b[39;49m\u001b[38;5;124;43malpha\u001b[39;49m\u001b[38;5;124;43m'\u001b[39;49m\u001b[43m:\u001b[49m\u001b[43m \u001b[49m\u001b[38;5;241;43m0.1\u001b[39;49m\u001b[43m}\u001b[49m\u001b[43m,\u001b[49m\u001b[43m \u001b[49m\u001b[43m{\u001b[49m\u001b[38;5;124;43m'\u001b[39;49m\u001b[38;5;124;43malpha\u001b[39;49m\u001b[38;5;124;43m'\u001b[39;49m\u001b[43m:\u001b[49m\u001b[43m \u001b[49m\u001b[38;5;241;43m1\u001b[39;49m\u001b[43m}\u001b[49m\u001b[43m]\u001b[49m\u001b[43m,\u001b[49m\n\u001b[0;32m     14\u001b[0m \u001b[43m    \u001b[49m\u001b[43msteps\u001b[49m\u001b[43m               \u001b[49m\u001b[38;5;241;43m=\u001b[39;49m\u001b[43m \u001b[49m\u001b[38;5;241;43m4\u001b[39;49m\u001b[43m,\u001b[49m\n\u001b[0;32m     15\u001b[0m \u001b[43m    \u001b[49m\u001b[43mmetric\u001b[49m\u001b[43m              \u001b[49m\u001b[38;5;241;43m=\u001b[39;49m\u001b[43m \u001b[49m\u001b[38;5;124;43m'\u001b[39;49m\u001b[38;5;124;43mmean_absolute_error\u001b[39;49m\u001b[38;5;124;43m'\u001b[39;49m\u001b[43m,\u001b[49m\n\u001b[0;32m     16\u001b[0m \u001b[43m    \u001b[49m\u001b[43minitial_train_size\u001b[49m\u001b[43m  \u001b[49m\u001b[38;5;241;43m=\u001b[39;49m\u001b[43m \u001b[49m\u001b[38;5;241;43m12\u001b[39;49m\u001b[43m,\u001b[49m\n\u001b[0;32m     17\u001b[0m \u001b[43m    \u001b[49m\u001b[43mfixed_train_size\u001b[49m\u001b[43m    \u001b[49m\u001b[38;5;241;43m=\u001b[39;49m\u001b[43m \u001b[49m\u001b[38;5;28;43;01mFalse\u001b[39;49;00m\u001b[43m,\u001b[49m\n\u001b[0;32m     18\u001b[0m \u001b[43m    \u001b[49m\u001b[43mlevels_list\u001b[49m\u001b[43m         \u001b[49m\u001b[38;5;241;43m=\u001b[39;49m\u001b[43m \u001b[49m\u001b[43mlevels_list\u001b[49m\u001b[43m,\u001b[49m\n\u001b[0;32m     19\u001b[0m \u001b[43m    \u001b[49m\u001b[43mlevels_weights\u001b[49m\u001b[43m      \u001b[49m\u001b[38;5;241;43m=\u001b[39;49m\u001b[43m \u001b[49m\u001b[43mlevels_weights\u001b[49m\u001b[43m,\u001b[49m\n\u001b[0;32m     20\u001b[0m \u001b[43m    \u001b[49m\u001b[43mexog\u001b[49m\u001b[43m                \u001b[49m\u001b[38;5;241;43m=\u001b[39;49m\u001b[43m \u001b[49m\u001b[38;5;28;43;01mNone\u001b[39;49;00m\u001b[43m,\u001b[49m\n\u001b[0;32m     21\u001b[0m \u001b[43m    \u001b[49m\u001b[43mlags_grid\u001b[49m\u001b[43m           \u001b[49m\u001b[38;5;241;43m=\u001b[39;49m\u001b[43m \u001b[49m\u001b[43m[\u001b[49m\u001b[38;5;241;43m2\u001b[39;49m\u001b[43m,\u001b[49m\u001b[43m \u001b[49m\u001b[38;5;241;43m4\u001b[39;49m\u001b[43m]\u001b[49m\u001b[43m,\u001b[49m\n\u001b[0;32m     22\u001b[0m \u001b[43m    \u001b[49m\u001b[43mrefit\u001b[49m\u001b[43m               \u001b[49m\u001b[38;5;241;43m=\u001b[39;49m\u001b[43m \u001b[49m\u001b[38;5;28;43;01mFalse\u001b[39;49;00m\u001b[43m,\u001b[49m\n\u001b[0;32m     23\u001b[0m \u001b[43m    \u001b[49m\u001b[43mreturn_best\u001b[49m\u001b[43m         \u001b[49m\u001b[38;5;241;43m=\u001b[39;49m\u001b[43m \u001b[49m\u001b[38;5;28;43;01mFalse\u001b[39;49;00m\u001b[43m,\u001b[49m\n\u001b[0;32m     24\u001b[0m \u001b[43m    \u001b[49m\u001b[43mverbose\u001b[49m\u001b[43m             \u001b[49m\u001b[38;5;241;43m=\u001b[39;49m\u001b[43m \u001b[49m\u001b[38;5;28;43;01mFalse\u001b[39;49;00m\n\u001b[0;32m     25\u001b[0m \u001b[43m)\u001b[49m\n",
      "File \u001b[1;32m~\\GitHub\\skforecast\\skforecast\\model_selection_multiseries\\model_selection_multiseries.py:1070\u001b[0m, in \u001b[0;36m_evaluate_grid_hyperparameters_multiseries\u001b[1;34m(forecaster, series, param_grid, steps, metric, initial_train_size, fixed_train_size, levels_list, levels_weights, exog, lags_grid, refit, return_best, verbose)\u001b[0m\n\u001b[0;32m   1067\u001b[0m     levels_weights \u001b[38;5;241m=\u001b[39m {col: \u001b[38;5;241m1.\u001b[39m\u001b[38;5;241m/\u001b[39m\u001b[38;5;28mlen\u001b[39m(levels_list) \u001b[38;5;28;01mfor\u001b[39;00m col \u001b[38;5;129;01min\u001b[39;00m levels_list}\n\u001b[0;32m   1069\u001b[0m \u001b[38;5;28;01mif\u001b[39;00m levels_list \u001b[38;5;241m!=\u001b[39m \u001b[38;5;28mlist\u001b[39m(levels_weights\u001b[38;5;241m.\u001b[39mkeys()):\n\u001b[1;32m-> 1070\u001b[0m     \u001b[38;5;28;01mraise\u001b[39;00m \u001b[38;5;167;01mException\u001b[39;00m(\n\u001b[0;32m   1071\u001b[0m         \u001b[38;5;124mf\u001b[39m\u001b[38;5;124m'\u001b[39m\u001b[38;5;124m`levels_weights` keys must be the same as the column names of series, `levels_list`.\u001b[39m\u001b[38;5;124m'\u001b[39m\n\u001b[0;32m   1072\u001b[0m     )\n\u001b[0;32m   1074\u001b[0m \u001b[38;5;28;01mif\u001b[39;00m \u001b[38;5;28msum\u001b[39m(levels_weights\u001b[38;5;241m.\u001b[39mvalues()) \u001b[38;5;241m!=\u001b[39m \u001b[38;5;241m1.0\u001b[39m:\n\u001b[0;32m   1075\u001b[0m     \u001b[38;5;28;01mraise\u001b[39;00m \u001b[38;5;167;01mException\u001b[39;00m(\n\u001b[0;32m   1076\u001b[0m         \u001b[38;5;124mf\u001b[39m\u001b[38;5;124m'\u001b[39m\u001b[38;5;124mWeights in `levels_weights` must add up to 1.0.\u001b[39m\u001b[38;5;124m'\u001b[39m\n\u001b[0;32m   1077\u001b[0m     )\n",
      "\u001b[1;31mException\u001b[0m: `levels_weights` keys must be the same as the column names of series, `levels_list`."
     ]
    }
   ],
   "source": [
    "forecaster = ForecasterAutoregMultiSeries(\n",
    "                    regressor = Ridge(random_state=123),\n",
    "                    lags      = 3\n",
    "                 )\n",
    "\n",
    "levels_list = ['1', '2']\n",
    "levels_weights = {'1': 0.5, 'not_2': 0.5}\n",
    "\n",
    "# with pytest.raises(Exception):\n",
    "_evaluate_grid_hyperparameters_multiseries(\n",
    "    forecaster          = forecaster,\n",
    "    series              = series,\n",
    "    param_grid          = [{'alpha': 0.01}, {'alpha': 0.1}, {'alpha': 1}],\n",
    "    steps               = 4,\n",
    "    metric              = 'mean_absolute_error',\n",
    "    initial_train_size  = 12,\n",
    "    fixed_train_size    = False,\n",
    "    levels_list         = levels_list,\n",
    "    levels_weights      = levels_weights,\n",
    "    exog                = None,\n",
    "    lags_grid           = [2, 4],\n",
    "    refit               = False,\n",
    "    return_best         = False,\n",
    "    verbose             = False\n",
    ")"
   ]
  },
  {
   "cell_type": "code",
   "execution_count": 83,
   "id": "73c27651",
   "metadata": {
    "ExecuteTime": {
     "end_time": "2022-06-09T14:50:36.365498Z",
     "start_time": "2022-06-09T14:50:36.261083Z"
    }
   },
   "outputs": [
    {
     "ename": "Exception",
     "evalue": "Weights in `levels_weights` must add up to 1.0.",
     "output_type": "error",
     "traceback": [
      "\u001b[1;31m---------------------------------------------------------------------------\u001b[0m",
      "\u001b[1;31mException\u001b[0m                                 Traceback (most recent call last)",
      "Input \u001b[1;32mIn [83]\u001b[0m, in \u001b[0;36m<cell line: 9>\u001b[1;34m()\u001b[0m\n\u001b[0;32m      6\u001b[0m levels_weights \u001b[38;5;241m=\u001b[39m {\u001b[38;5;124m'\u001b[39m\u001b[38;5;124m1\u001b[39m\u001b[38;5;124m'\u001b[39m: \u001b[38;5;241m0.5\u001b[39m, \u001b[38;5;124m'\u001b[39m\u001b[38;5;124m2\u001b[39m\u001b[38;5;124m'\u001b[39m: \u001b[38;5;241m0.6\u001b[39m}\n\u001b[0;32m      8\u001b[0m \u001b[38;5;66;03m# with pytest.raises(Exception):\u001b[39;00m\n\u001b[1;32m----> 9\u001b[0m \u001b[43m_evaluate_grid_hyperparameters_multiseries\u001b[49m\u001b[43m(\u001b[49m\n\u001b[0;32m     10\u001b[0m \u001b[43m    \u001b[49m\u001b[43mforecaster\u001b[49m\u001b[43m          \u001b[49m\u001b[38;5;241;43m=\u001b[39;49m\u001b[43m \u001b[49m\u001b[43mforecaster\u001b[49m\u001b[43m,\u001b[49m\n\u001b[0;32m     11\u001b[0m \u001b[43m    \u001b[49m\u001b[43mseries\u001b[49m\u001b[43m              \u001b[49m\u001b[38;5;241;43m=\u001b[39;49m\u001b[43m \u001b[49m\u001b[43mseries\u001b[49m\u001b[43m,\u001b[49m\n\u001b[0;32m     12\u001b[0m \u001b[43m    \u001b[49m\u001b[43mparam_grid\u001b[49m\u001b[43m          \u001b[49m\u001b[38;5;241;43m=\u001b[39;49m\u001b[43m \u001b[49m\u001b[43m[\u001b[49m\u001b[43m{\u001b[49m\u001b[38;5;124;43m'\u001b[39;49m\u001b[38;5;124;43malpha\u001b[39;49m\u001b[38;5;124;43m'\u001b[39;49m\u001b[43m:\u001b[49m\u001b[43m \u001b[49m\u001b[38;5;241;43m0.01\u001b[39;49m\u001b[43m}\u001b[49m\u001b[43m,\u001b[49m\u001b[43m \u001b[49m\u001b[43m{\u001b[49m\u001b[38;5;124;43m'\u001b[39;49m\u001b[38;5;124;43malpha\u001b[39;49m\u001b[38;5;124;43m'\u001b[39;49m\u001b[43m:\u001b[49m\u001b[43m \u001b[49m\u001b[38;5;241;43m0.1\u001b[39;49m\u001b[43m}\u001b[49m\u001b[43m,\u001b[49m\u001b[43m \u001b[49m\u001b[43m{\u001b[49m\u001b[38;5;124;43m'\u001b[39;49m\u001b[38;5;124;43malpha\u001b[39;49m\u001b[38;5;124;43m'\u001b[39;49m\u001b[43m:\u001b[49m\u001b[43m \u001b[49m\u001b[38;5;241;43m1\u001b[39;49m\u001b[43m}\u001b[49m\u001b[43m]\u001b[49m\u001b[43m,\u001b[49m\n\u001b[0;32m     13\u001b[0m \u001b[43m    \u001b[49m\u001b[43msteps\u001b[49m\u001b[43m               \u001b[49m\u001b[38;5;241;43m=\u001b[39;49m\u001b[43m \u001b[49m\u001b[38;5;241;43m4\u001b[39;49m\u001b[43m,\u001b[49m\n\u001b[0;32m     14\u001b[0m \u001b[43m    \u001b[49m\u001b[43mmetric\u001b[49m\u001b[43m              \u001b[49m\u001b[38;5;241;43m=\u001b[39;49m\u001b[43m \u001b[49m\u001b[38;5;124;43m'\u001b[39;49m\u001b[38;5;124;43mmean_absolute_error\u001b[39;49m\u001b[38;5;124;43m'\u001b[39;49m\u001b[43m,\u001b[49m\n\u001b[0;32m     15\u001b[0m \u001b[43m    \u001b[49m\u001b[43minitial_train_size\u001b[49m\u001b[43m  \u001b[49m\u001b[38;5;241;43m=\u001b[39;49m\u001b[43m \u001b[49m\u001b[38;5;241;43m12\u001b[39;49m\u001b[43m,\u001b[49m\n\u001b[0;32m     16\u001b[0m \u001b[43m    \u001b[49m\u001b[43mfixed_train_size\u001b[49m\u001b[43m    \u001b[49m\u001b[38;5;241;43m=\u001b[39;49m\u001b[43m \u001b[49m\u001b[38;5;28;43;01mFalse\u001b[39;49;00m\u001b[43m,\u001b[49m\n\u001b[0;32m     17\u001b[0m \u001b[43m    \u001b[49m\u001b[43mlevels_list\u001b[49m\u001b[43m         \u001b[49m\u001b[38;5;241;43m=\u001b[39;49m\u001b[43m \u001b[49m\u001b[38;5;28;43;01mNone\u001b[39;49;00m\u001b[43m,\u001b[49m\n\u001b[0;32m     18\u001b[0m \u001b[43m    \u001b[49m\u001b[43mlevels_weights\u001b[49m\u001b[43m      \u001b[49m\u001b[38;5;241;43m=\u001b[39;49m\u001b[43m \u001b[49m\u001b[43mlevels_weights\u001b[49m\u001b[43m,\u001b[49m\n\u001b[0;32m     19\u001b[0m \u001b[43m    \u001b[49m\u001b[43mexog\u001b[49m\u001b[43m                \u001b[49m\u001b[38;5;241;43m=\u001b[39;49m\u001b[43m \u001b[49m\u001b[38;5;28;43;01mNone\u001b[39;49;00m\u001b[43m,\u001b[49m\n\u001b[0;32m     20\u001b[0m \u001b[43m    \u001b[49m\u001b[43mlags_grid\u001b[49m\u001b[43m           \u001b[49m\u001b[38;5;241;43m=\u001b[39;49m\u001b[43m \u001b[49m\u001b[43m[\u001b[49m\u001b[38;5;241;43m2\u001b[39;49m\u001b[43m,\u001b[49m\u001b[43m \u001b[49m\u001b[38;5;241;43m4\u001b[39;49m\u001b[43m]\u001b[49m\u001b[43m,\u001b[49m\n\u001b[0;32m     21\u001b[0m \u001b[43m    \u001b[49m\u001b[43mrefit\u001b[49m\u001b[43m               \u001b[49m\u001b[38;5;241;43m=\u001b[39;49m\u001b[43m \u001b[49m\u001b[38;5;28;43;01mFalse\u001b[39;49;00m\u001b[43m,\u001b[49m\n\u001b[0;32m     22\u001b[0m \u001b[43m    \u001b[49m\u001b[43mreturn_best\u001b[49m\u001b[43m         \u001b[49m\u001b[38;5;241;43m=\u001b[39;49m\u001b[43m \u001b[49m\u001b[38;5;28;43;01mFalse\u001b[39;49;00m\u001b[43m,\u001b[49m\n\u001b[0;32m     23\u001b[0m \u001b[43m    \u001b[49m\u001b[43mverbose\u001b[49m\u001b[43m             \u001b[49m\u001b[38;5;241;43m=\u001b[39;49m\u001b[43m \u001b[49m\u001b[38;5;28;43;01mFalse\u001b[39;49;00m\n\u001b[0;32m     24\u001b[0m \u001b[43m)\u001b[49m\n",
      "File \u001b[1;32m~\\GitHub\\skforecast\\skforecast\\model_selection_multiseries\\model_selection_multiseries.py:1075\u001b[0m, in \u001b[0;36m_evaluate_grid_hyperparameters_multiseries\u001b[1;34m(forecaster, series, param_grid, steps, metric, initial_train_size, fixed_train_size, levels_list, levels_weights, exog, lags_grid, refit, return_best, verbose)\u001b[0m\n\u001b[0;32m   1070\u001b[0m     \u001b[38;5;28;01mraise\u001b[39;00m \u001b[38;5;167;01mException\u001b[39;00m(\n\u001b[0;32m   1071\u001b[0m         \u001b[38;5;124mf\u001b[39m\u001b[38;5;124m'\u001b[39m\u001b[38;5;124m`levels_weights` keys must be the same as the column names of series, `levels_list`.\u001b[39m\u001b[38;5;124m'\u001b[39m\n\u001b[0;32m   1072\u001b[0m     )\n\u001b[0;32m   1074\u001b[0m \u001b[38;5;28;01mif\u001b[39;00m \u001b[38;5;28msum\u001b[39m(levels_weights\u001b[38;5;241m.\u001b[39mvalues()) \u001b[38;5;241m!=\u001b[39m \u001b[38;5;241m1.0\u001b[39m:\n\u001b[1;32m-> 1075\u001b[0m     \u001b[38;5;28;01mraise\u001b[39;00m \u001b[38;5;167;01mException\u001b[39;00m(\n\u001b[0;32m   1076\u001b[0m         \u001b[38;5;124mf\u001b[39m\u001b[38;5;124m'\u001b[39m\u001b[38;5;124mWeights in `levels_weights` must add up to 1.0.\u001b[39m\u001b[38;5;124m'\u001b[39m\n\u001b[0;32m   1077\u001b[0m     )\n\u001b[0;32m   1079\u001b[0m \u001b[38;5;28;01mif\u001b[39;00m lags_grid \u001b[38;5;129;01mis\u001b[39;00m \u001b[38;5;28;01mNone\u001b[39;00m:\n\u001b[0;32m   1080\u001b[0m     lags_grid \u001b[38;5;241m=\u001b[39m [forecaster\u001b[38;5;241m.\u001b[39mlags]\n",
      "\u001b[1;31mException\u001b[0m: Weights in `levels_weights` must add up to 1.0."
     ]
    }
   ],
   "source": [
    "forecaster = ForecasterAutoregMultiSeries(\n",
    "                    regressor = Ridge(random_state=123),\n",
    "                    lags      = 3\n",
    "                 )\n",
    "\n",
    "levels_weights = {'1': 0.5, '2': 0.6}\n",
    "\n",
    "# with pytest.raises(Exception):\n",
    "_evaluate_grid_hyperparameters_multiseries(\n",
    "    forecaster          = forecaster,\n",
    "    series              = series,\n",
    "    param_grid          = [{'alpha': 0.01}, {'alpha': 0.1}, {'alpha': 1}],\n",
    "    steps               = 4,\n",
    "    metric              = 'mean_absolute_error',\n",
    "    initial_train_size  = 12,\n",
    "    fixed_train_size    = False,\n",
    "    levels_list         = None,\n",
    "    levels_weights      = levels_weights,\n",
    "    exog                = None,\n",
    "    lags_grid           = [2, 4],\n",
    "    refit               = False,\n",
    "    return_best         = False,\n",
    "    verbose             = False\n",
    ")"
   ]
  },
  {
   "cell_type": "code",
   "execution_count": null,
   "id": "974f54c5",
   "metadata": {},
   "outputs": [],
   "source": []
  },
  {
   "cell_type": "markdown",
   "id": "b6ddc58f",
   "metadata": {},
   "source": [
    "## Example"
   ]
  },
  {
   "cell_type": "code",
   "execution_count": 64,
   "id": "456a048e",
   "metadata": {
    "ExecuteTime": {
     "end_time": "2022-06-09T13:16:10.148990Z",
     "start_time": "2022-06-09T13:16:09.906454Z"
    }
   },
   "outputs": [
    {
     "name": "stdout",
     "output_type": "stream",
     "text": [
      "Train dates : 1991-07-01 00:00:00 --- 2005-06-01 00:00:00  (n=168)\n",
      "Test dates  : 2005-07-01 00:00:00 --- 2008-06-01 00:00:00  (n=36)\n"
     ]
    },
    {
     "data": {
      "image/png": "[encoded data removed]",
      "text/plain": [
       "<Figure size 648x288 with 1 Axes>"
      ]
     },
     "metadata": {
      "needs_background": "light"
     },
     "output_type": "display_data"
    }
   ],
   "source": [
    "# Download data\n",
    "# ==============================================================================\n",
    "url = ('https://raw.githubusercontent.com/JoaquinAmatRodrigo/skforecast/master/data/h2o.csv')\n",
    "data = pd.read_csv(url, sep=',', header=0, names=['y', 'datetime'])\n",
    "\n",
    "# Data preprocessing\n",
    "# ==============================================================================\n",
    "data['datetime'] = pd.to_datetime(data['datetime'], format='%Y/%m/%d')\n",
    "data = data.set_index('datetime')\n",
    "data = data.asfreq('MS')\n",
    "data = data['y']\n",
    "data = data.sort_index()\n",
    "\n",
    "# Train-test dates\n",
    "# ==============================================================================\n",
    "end_train = '2005-06-01 23:59:00'\n",
    "\n",
    "print(f\"Train dates : {data.index.min()} --- {data.loc[:end_train].index.max()}  (n={len(data.loc[:end_train])})\")\n",
    "print(f\"Test dates  : {data.loc[end_train:].index.min()} --- {data.index.max()}  (n={len(data.loc[end_train:])})\")\n",
    "\n",
    "# Plot\n",
    "# ==============================================================================\n",
    "fig, ax=plt.subplots(figsize=(9, 4))\n",
    "data.loc[:end_train].plot(ax=ax, label='train')\n",
    "data.loc[end_train:].plot(ax=ax, label='test')\n",
    "ax.legend();"
   ]
  },
  {
   "cell_type": "markdown",
   "id": "e380bd4b",
   "metadata": {},
   "source": [
    "### ForecasterAutoreg"
   ]
  },
  {
   "cell_type": "code",
   "execution_count": 42,
   "id": "0f655164",
   "metadata": {
    "ExecuteTime": {
     "end_time": "2022-06-09T13:12:48.471545Z",
     "start_time": "2022-06-09T13:12:48.298197Z"
    }
   },
   "outputs": [
    {
     "data": {
      "text/plain": [
       "================= \n",
       "ForecasterAutoreg \n",
       "================= \n",
       "Regressor: RandomForestRegressor(random_state=123) \n",
       "Lags: [1 2 3 4 5 6] \n",
       "Window size: 6 \n",
       "Included exogenous: False \n",
       "Type of exogenous variable: None \n",
       "Exogenous variables names: None \n",
       "Training range: [Timestamp('1991-07-01 00:00:00'), Timestamp('2005-06-01 00:00:00')] \n",
       "Training index type: DatetimeIndex \n",
       "Training index frequency: MS \n",
       "Regressor parameters: {'bootstrap': True, 'ccp_alpha': 0.0, 'criterion': 'squared_error', 'max_depth': None, 'max_features': 1.0, 'max_leaf_nodes': None, 'max_samples': None, 'min_impurity_decrease': 0.0, 'min_samples_leaf': 1, 'min_samples_split': 2, 'min_weight_fraction_leaf': 0.0, 'n_estimators': 100, 'n_jobs': None, 'oob_score': False, 'random_state': 123, 'verbose': 0, 'warm_start': False} \n",
       "Creation date: 2022-06-09 15:12:48 \n",
       "Last fit date: 2022-06-09 15:12:48 \n",
       "Skforecast version: 0.5.dev1 "
      ]
     },
     "execution_count": 42,
     "metadata": {},
     "output_type": "execute_result"
    }
   ],
   "source": [
    "# Create and fit Recursive multi-step forecaster (ForecasterAutoreg)\n",
    "# ==============================================================================\n",
    "forecaster = ForecasterAutoreg(\n",
    "                    regressor = RandomForestRegressor(random_state=123),\n",
    "                    lags      = 6\n",
    "             )\n",
    "\n",
    "forecaster.fit(y=data.loc[:end_train])\n",
    "forecaster"
   ]
  },
  {
   "cell_type": "code",
   "execution_count": 43,
   "id": "f5e62609",
   "metadata": {
    "ExecuteTime": {
     "end_time": "2022-06-09T13:12:49.649392Z",
     "start_time": "2022-06-09T13:12:49.242041Z"
    }
   },
   "outputs": [
    {
     "name": "stdout",
     "output_type": "stream",
     "text": [
      "2005-07-01    0.866263\n",
      "2005-08-01    0.874688\n",
      "2005-09-01    0.951697\n",
      "Freq: MS, Name: pred, dtype: float64\n",
      "Test error (mse): 0.0665147739321922\n"
     ]
    },
    {
     "data": {
      "image/png": "[encoded data removed]",
      "text/plain": [
       "<Figure size 648x288 with 1 Axes>"
      ]
     },
     "metadata": {
      "needs_background": "light"
     },
     "output_type": "display_data"
    }
   ],
   "source": [
    "# Predict\n",
    "# ==============================================================================\n",
    "predictions = forecaster.predict(steps=len(data.loc[end_train:]))\n",
    "print(predictions.head(3))\n",
    "\n",
    "# Plot predictions\n",
    "# ==============================================================================\n",
    "fig, ax=plt.subplots(figsize=(9, 4))\n",
    "data.loc[:end_train].plot(ax=ax, label='train')\n",
    "data.loc[end_train:].plot(ax=ax, label='test')\n",
    "predictions.plot(ax=ax, label='predictions')\n",
    "ax.legend();\n",
    "\n",
    "# Prediction error\n",
    "# ==============================================================================\n",
    "error_mse = mean_squared_error(\n",
    "                y_true = data.loc[end_train:],\n",
    "                y_pred = predictions\n",
    "            )\n",
    "print(f\"Test error (mse): {error_mse}\")"
   ]
  },
  {
   "cell_type": "code",
   "execution_count": 44,
   "id": "c2c2b3be",
   "metadata": {
    "ExecuteTime": {
     "end_time": "2022-06-09T13:12:59.714577Z",
     "start_time": "2022-06-09T13:12:51.045162Z"
    }
   },
   "outputs": [
    {
     "name": "stdout",
     "output_type": "stream",
     "text": [
      "Number of models compared: 18.\n"
     ]
    },
    {
     "name": "stderr",
     "output_type": "stream",
     "text": [
      "loop lags_grid:   0%|                                               | 0/3 [00:00<?, ?it/s]\n",
      "loop param_grid:   0%|                                              | 0/6 [00:00<?, ?it/s]\u001b[A\n",
      "loop param_grid:  17%|██████▎                               | 1/6 [00:00<00:01,  3.40it/s]\u001b[A\n",
      "loop param_grid:  33%|████████████▋                         | 2/6 [00:00<00:01,  2.41it/s]\u001b[A\n",
      "loop param_grid:  50%|███████████████████                   | 3/6 [00:01<00:01,  2.42it/s]\u001b[A\n",
      "loop param_grid:  67%|█████████████████████████▎            | 4/6 [00:01<00:01,  1.91it/s]\u001b[A\n",
      "loop param_grid:  83%|███████████████████████████████▋      | 5/6 [00:02<00:00,  2.23it/s]\u001b[A\n",
      "loop param_grid: 100%|██████████████████████████████████████| 6/6 [00:02<00:00,  1.94it/s]\u001b[A\n",
      "loop lags_grid:  33%|█████████████                          | 1/3 [00:02<00:05,  2.87s/it]\u001b[A\n",
      "loop param_grid:   0%|                                              | 0/6 [00:00<?, ?it/s]\u001b[A\n",
      "loop param_grid:  17%|██████▎                               | 1/6 [00:00<00:01,  2.92it/s]\u001b[A\n",
      "loop param_grid:  33%|████████████▋                         | 2/6 [00:00<00:02,  1.95it/s]\u001b[A\n",
      "loop param_grid:  50%|███████████████████                   | 3/6 [00:01<00:01,  2.29it/s]\u001b[A\n",
      "loop param_grid:  67%|█████████████████████████▎            | 4/6 [00:01<00:01,  1.92it/s]\u001b[A\n",
      "loop param_grid:  83%|███████████████████████████████▋      | 5/6 [00:02<00:00,  2.16it/s]\u001b[A\n",
      "loop param_grid: 100%|██████████████████████████████████████| 6/6 [00:02<00:00,  1.90it/s]\u001b[A\n",
      "loop lags_grid:  67%|██████████████████████████             | 2/3 [00:05<00:02,  2.94s/it]\u001b[A\n",
      "loop param_grid:   0%|                                              | 0/6 [00:00<?, ?it/s]\u001b[A\n",
      "loop param_grid:  17%|██████▎                               | 1/6 [00:00<00:01,  3.02it/s]\u001b[A\n",
      "loop param_grid:  33%|████████████▋                         | 2/6 [00:00<00:01,  2.24it/s]\u001b[A\n",
      "loop param_grid:  50%|███████████████████                   | 3/6 [00:01<00:01,  2.59it/s]\u001b[A\n",
      "loop param_grid:  67%|█████████████████████████▎            | 4/6 [00:01<00:00,  2.17it/s]\u001b[A\n",
      "loop param_grid:  83%|███████████████████████████████▋      | 5/6 [00:02<00:00,  2.46it/s]\u001b[A\n",
      "loop param_grid: 100%|██████████████████████████████████████| 6/6 [00:02<00:00,  2.23it/s]\u001b[A\n",
      "loop lags_grid: 100%|███████████████████████████████████████| 3/3 [00:08<00:00,  2.82s/it]\u001b[A"
     ]
    },
    {
     "name": "stdout",
     "output_type": "stream",
     "text": [
      "`Forecaster` refitted using the best-found lags and parameters, and the whole data set: \n",
      "  Lags: [ 1  2  3  4  5  6  7  8  9 10] \n",
      "  Parameters: {'max_depth': 10, 'n_estimators': 100}\n",
      "  Backtesting metric: 0.015161925563451037\n",
      "\n"
     ]
    },
    {
     "name": "stderr",
     "output_type": "stream",
     "text": [
      "\n"
     ]
    },
    {
     "data": {
      "text/html": [
       "<div>\n",
       "<style scoped>\n",
       "    .dataframe tbody tr th:only-of-type {\n",
       "        vertical-align: middle;\n",
       "    }\n",
       "\n",
       "    .dataframe tbody tr th {\n",
       "        vertical-align: top;\n",
       "    }\n",
       "\n",
       "    .dataframe thead th {\n",
       "        text-align: right;\n",
       "    }\n",
       "</style>\n",
       "<table border=\"1\" class=\"dataframe\">\n",
       "  <thead>\n",
       "    <tr style=\"text-align: right;\">\n",
       "      <th></th>\n",
       "      <th>lags</th>\n",
       "      <th>params</th>\n",
       "      <th>metric</th>\n",
       "      <th>max_depth</th>\n",
       "      <th>n_estimators</th>\n",
       "    </tr>\n",
       "  </thead>\n",
       "  <tbody>\n",
       "    <tr>\n",
       "      <th>11</th>\n",
       "      <td>[1, 2, 3, 4, 5, 6, 7, 8, 9, 10, 11, 12, 13, 14...</td>\n",
       "      <td>{'max_depth': 10, 'n_estimators': 500}</td>\n",
       "      <td>0.013019</td>\n",
       "      <td>10</td>\n",
       "      <td>500</td>\n",
       "    </tr>\n",
       "    <tr>\n",
       "      <th>9</th>\n",
       "      <td>[1, 2, 3, 4, 5, 6, 7, 8, 9, 10, 11, 12, 13, 14...</td>\n",
       "      <td>{'max_depth': 5, 'n_estimators': 500}</td>\n",
       "      <td>0.013120</td>\n",
       "      <td>5</td>\n",
       "      <td>500</td>\n",
       "    </tr>\n",
       "    <tr>\n",
       "      <th>10</th>\n",
       "      <td>[1, 2, 3, 4, 5, 6, 7, 8, 9, 10, 11, 12, 13, 14...</td>\n",
       "      <td>{'max_depth': 10, 'n_estimators': 100}</td>\n",
       "      <td>0.013136</td>\n",
       "      <td>10</td>\n",
       "      <td>100</td>\n",
       "    </tr>\n",
       "    <tr>\n",
       "      <th>7</th>\n",
       "      <td>[1, 2, 3, 4, 5, 6, 7, 8, 9, 10, 11, 12, 13, 14...</td>\n",
       "      <td>{'max_depth': 3, 'n_estimators': 500}</td>\n",
       "      <td>0.013186</td>\n",
       "      <td>3</td>\n",
       "      <td>500</td>\n",
       "    </tr>\n",
       "    <tr>\n",
       "      <th>6</th>\n",
       "      <td>[1, 2, 3, 4, 5, 6, 7, 8, 9, 10, 11, 12, 13, 14...</td>\n",
       "      <td>{'max_depth': 3, 'n_estimators': 100}</td>\n",
       "      <td>0.013351</td>\n",
       "      <td>3</td>\n",
       "      <td>100</td>\n",
       "    </tr>\n",
       "    <tr>\n",
       "      <th>8</th>\n",
       "      <td>[1, 2, 3, 4, 5, 6, 7, 8, 9, 10, 11, 12, 13, 14...</td>\n",
       "      <td>{'max_depth': 5, 'n_estimators': 100}</td>\n",
       "      <td>0.013875</td>\n",
       "      <td>5</td>\n",
       "      <td>100</td>\n",
       "    </tr>\n",
       "    <tr>\n",
       "      <th>5</th>\n",
       "      <td>[1, 2, 3, 4, 5, 6, 7, 8, 9, 10]</td>\n",
       "      <td>{'max_depth': 10, 'n_estimators': 500}</td>\n",
       "      <td>0.030406</td>\n",
       "      <td>10</td>\n",
       "      <td>500</td>\n",
       "    </tr>\n",
       "    <tr>\n",
       "      <th>1</th>\n",
       "      <td>[1, 2, 3, 4, 5, 6, 7, 8, 9, 10]</td>\n",
       "      <td>{'max_depth': 3, 'n_estimators': 500}</td>\n",
       "      <td>0.032088</td>\n",
       "      <td>3</td>\n",
       "      <td>500</td>\n",
       "    </tr>\n",
       "    <tr>\n",
       "      <th>4</th>\n",
       "      <td>[1, 2, 3, 4, 5, 6, 7, 8, 9, 10]</td>\n",
       "      <td>{'max_depth': 10, 'n_estimators': 100}</td>\n",
       "      <td>0.032151</td>\n",
       "      <td>10</td>\n",
       "      <td>100</td>\n",
       "    </tr>\n",
       "    <tr>\n",
       "      <th>3</th>\n",
       "      <td>[1, 2, 3, 4, 5, 6, 7, 8, 9, 10]</td>\n",
       "      <td>{'max_depth': 5, 'n_estimators': 500}</td>\n",
       "      <td>0.033148</td>\n",
       "      <td>5</td>\n",
       "      <td>500</td>\n",
       "    </tr>\n",
       "    <tr>\n",
       "      <th>0</th>\n",
       "      <td>[1, 2, 3, 4, 5, 6, 7, 8, 9, 10]</td>\n",
       "      <td>{'max_depth': 3, 'n_estimators': 100}</td>\n",
       "      <td>0.034695</td>\n",
       "      <td>3</td>\n",
       "      <td>100</td>\n",
       "    </tr>\n",
       "    <tr>\n",
       "      <th>2</th>\n",
       "      <td>[1, 2, 3, 4, 5, 6, 7, 8, 9, 10]</td>\n",
       "      <td>{'max_depth': 5, 'n_estimators': 100}</td>\n",
       "      <td>0.040880</td>\n",
       "      <td>5</td>\n",
       "      <td>100</td>\n",
       "    </tr>\n",
       "  </tbody>\n",
       "</table>\n",
       "</div>"
      ],
      "text/plain": [
       "                                                 lags  \\\n",
       "11  [1, 2, 3, 4, 5, 6, 7, 8, 9, 10, 11, 12, 13, 14...   \n",
       "9   [1, 2, 3, 4, 5, 6, 7, 8, 9, 10, 11, 12, 13, 14...   \n",
       "10  [1, 2, 3, 4, 5, 6, 7, 8, 9, 10, 11, 12, 13, 14...   \n",
       "7   [1, 2, 3, 4, 5, 6, 7, 8, 9, 10, 11, 12, 13, 14...   \n",
       "6   [1, 2, 3, 4, 5, 6, 7, 8, 9, 10, 11, 12, 13, 14...   \n",
       "8   [1, 2, 3, 4, 5, 6, 7, 8, 9, 10, 11, 12, 13, 14...   \n",
       "5                     [1, 2, 3, 4, 5, 6, 7, 8, 9, 10]   \n",
       "1                     [1, 2, 3, 4, 5, 6, 7, 8, 9, 10]   \n",
       "4                     [1, 2, 3, 4, 5, 6, 7, 8, 9, 10]   \n",
       "3                     [1, 2, 3, 4, 5, 6, 7, 8, 9, 10]   \n",
       "0                     [1, 2, 3, 4, 5, 6, 7, 8, 9, 10]   \n",
       "2                     [1, 2, 3, 4, 5, 6, 7, 8, 9, 10]   \n",
       "\n",
       "                                    params    metric  max_depth  n_estimators  \n",
       "11  {'max_depth': 10, 'n_estimators': 500}  0.013019         10           500  \n",
       "9    {'max_depth': 5, 'n_estimators': 500}  0.013120          5           500  \n",
       "10  {'max_depth': 10, 'n_estimators': 100}  0.013136         10           100  \n",
       "7    {'max_depth': 3, 'n_estimators': 500}  0.013186          3           500  \n",
       "6    {'max_depth': 3, 'n_estimators': 100}  0.013351          3           100  \n",
       "8    {'max_depth': 5, 'n_estimators': 100}  0.013875          5           100  \n",
       "5   {'max_depth': 10, 'n_estimators': 500}  0.030406         10           500  \n",
       "1    {'max_depth': 3, 'n_estimators': 500}  0.032088          3           500  \n",
       "4   {'max_depth': 10, 'n_estimators': 100}  0.032151         10           100  \n",
       "3    {'max_depth': 5, 'n_estimators': 500}  0.033148          5           500  \n",
       "0    {'max_depth': 3, 'n_estimators': 100}  0.034695          3           100  \n",
       "2    {'max_depth': 5, 'n_estimators': 100}  0.040880          5           100  "
      ]
     },
     "execution_count": 44,
     "metadata": {},
     "output_type": "execute_result"
    }
   ],
   "source": [
    "# Grid search de hiperparámetros\n",
    "# ==============================================================================\n",
    "steps = 10\n",
    "forecaster = ForecasterAutoreg(\n",
    "                regressor = RandomForestRegressor(random_state=123),\n",
    "                lags      = 12 # Este valor será remplazado en el grid search\n",
    "             )\n",
    "\n",
    "# Lags used as predictors\n",
    "lags_grid = [3, 10, [1, 2, 3, 20]]\n",
    "\n",
    "# Regressor hyperparameters\n",
    "param_grid = {'n_estimators': [50, 100],\n",
    "              'max_depth': [5, 10, 15]}\n",
    "\n",
    "results_grid = grid_search_forecaster(\n",
    "                        forecaster  = forecaster,\n",
    "                        y           = data,\n",
    "                        param_grid  = param_grid,\n",
    "                        lags_grid   = lags_grid,\n",
    "                        steps       = 10,\n",
    "                        refit       = True,\n",
    "                        metric      = 'mean_squared_error',\n",
    "                        initial_train_size = len(data.loc[:end_train]),\n",
    "                        fixed_train_size   = False,\n",
    "                        return_best = True,\n",
    "                        verbose     = False\n",
    "               )\n",
    "\n",
    "resultados_grid"
   ]
  },
  {
   "cell_type": "code",
   "execution_count": 45,
   "id": "75599c5d",
   "metadata": {
    "ExecuteTime": {
     "end_time": "2022-06-09T13:13:11.132751Z",
     "start_time": "2022-06-09T13:13:10.345910Z"
    }
   },
   "outputs": [
    {
     "name": "stdout",
     "output_type": "stream",
     "text": [
      "Backtest error: 0.015161925563451037\n"
     ]
    }
   ],
   "source": [
    "# Backtesting\n",
    "# ==============================================================================\n",
    "metric, predictions_backtest = backtesting_forecaster(\n",
    "                                    forecaster = forecaster,\n",
    "                                    y          = data,\n",
    "                                    initial_train_size = len(data.loc[:end_train]),\n",
    "                                    fixed_train_size   = False,\n",
    "                                    steps      = 10,\n",
    "                                    metric     = 'mean_squared_error',\n",
    "                                    refit      = True,\n",
    "                                    verbose    = False\n",
    "                               )\n",
    "\n",
    "print(f\"Backtest error: {metric}\")"
   ]
  },
  {
   "cell_type": "code",
   "execution_count": null,
   "id": "6f00025b",
   "metadata": {},
   "outputs": [],
   "source": []
  },
  {
   "cell_type": "markdown",
   "id": "9da0dbce",
   "metadata": {},
   "source": [
    "### ForecasterAutoregMultiSeries"
   ]
  },
  {
   "cell_type": "code",
   "execution_count": 65,
   "id": "3e6fb1d1",
   "metadata": {
    "ExecuteTime": {
     "end_time": "2022-06-09T13:16:36.156409Z",
     "start_time": "2022-06-09T13:16:35.961763Z"
    }
   },
   "outputs": [
    {
     "name": "stdout",
     "output_type": "stream",
     "text": [
      "Train dates : 1991-07-01 00:00:00 --- 2005-06-01 00:00:00  (n=168)\n",
      "Test dates  : 2005-07-01 00:00:00 --- 2008-06-01 00:00:00  (n=36)\n"
     ]
    },
    {
     "data": {
      "image/png": "[encoded data removed]",
      "text/plain": [
       "<Figure size 648x288 with 1 Axes>"
      ]
     },
     "metadata": {
      "needs_background": "light"
     },
     "output_type": "display_data"
    }
   ],
   "source": [
    "series = pd.DataFrame(data)\n",
    "series['y_reverse'] = list(series.y)[::-1]\n",
    "series.head(3)\n",
    "\n",
    "# Train-test dates\n",
    "# ==============================================================================\n",
    "end_train = '2005-06-01 23:59:00'\n",
    "\n",
    "print(f\"Train dates : {series.index.min()} --- {series.loc[:end_train].index.max()}  (n={len(series.loc[:end_train])})\")\n",
    "print(f\"Test dates  : {series.loc[end_train:].index.min()} --- {series.index.max()}  (n={len(series.loc[end_train:])})\")\n",
    "\n",
    "# Plot\n",
    "# ==============================================================================\n",
    "fig, ax=plt.subplots(figsize=(9, 4))\n",
    "series.loc[:end_train].plot(ax=ax, label='train')\n",
    "series.loc[end_train:].plot(ax=ax, label='test')\n",
    "ax.legend();"
   ]
  },
  {
   "cell_type": "code",
   "execution_count": 67,
   "id": "9a3580e0",
   "metadata": {
    "ExecuteTime": {
     "end_time": "2022-06-09T13:17:16.599503Z",
     "start_time": "2022-06-09T13:17:16.331082Z"
    }
   },
   "outputs": [
    {
     "data": {
      "text/plain": [
       "============================ \n",
       "ForecasterAutoregMultiSeries \n",
       "============================ \n",
       "Regressor: RandomForestRegressor(random_state=123) \n",
       "Lags: [1 2 3 4 5 6] \n",
       "Window size: 6 \n",
       "Included exogenous: False \n",
       "Type of exogenous variable: None \n",
       "Exogenous variables names: None \n",
       "Training range: [Timestamp('1991-07-01 00:00:00'), Timestamp('2005-06-01 00:00:00')] \n",
       "Training index type: DatetimeIndex \n",
       "Training index frequency: MS \n",
       "Regressor parameters: {'bootstrap': True, 'ccp_alpha': 0.0, 'criterion': 'squared_error', 'max_depth': None, 'max_features': 1.0, 'max_leaf_nodes': None, 'max_samples': None, 'min_impurity_decrease': 0.0, 'min_samples_leaf': 1, 'min_samples_split': 2, 'min_weight_fraction_leaf': 0.0, 'n_estimators': 100, 'n_jobs': None, 'oob_score': False, 'random_state': 123, 'verbose': 0, 'warm_start': False} \n",
       "Creation date: 2022-06-09 15:17:16 \n",
       "Last fit date: 2022-06-09 15:17:16 \n",
       "Skforecast version: 0.5.dev1 "
      ]
     },
     "execution_count": 67,
     "metadata": {},
     "output_type": "execute_result"
    }
   ],
   "source": [
    "# Create and fit forecaster\n",
    "# ==============================================================================\n",
    "forecaster = ForecasterAutoregMultiSeries(\n",
    "                    regressor = RandomForestRegressor(random_state=123),\n",
    "                    lags      = 6\n",
    "             )\n",
    "\n",
    "forecaster.fit(series=series.loc[:end_train, ])\n",
    "forecaster"
   ]
  },
  {
   "cell_type": "code",
   "execution_count": 69,
   "id": "17e8128b",
   "metadata": {
    "ExecuteTime": {
     "end_time": "2022-06-09T13:18:12.584836Z",
     "start_time": "2022-06-09T13:18:12.156755Z"
    }
   },
   "outputs": [
    {
     "name": "stdout",
     "output_type": "stream",
     "text": [
      "2005-07-01    0.850413\n",
      "2005-08-01    0.839125\n",
      "2005-09-01    0.896212\n",
      "Freq: MS, Name: pred, dtype: float64\n",
      "Test error (mse): 0.07994915989343487\n"
     ]
    },
    {
     "data": {
      "image/png": "[encoded data removed]",
      "text/plain": [
       "<Figure size 648x288 with 1 Axes>"
      ]
     },
     "metadata": {
      "needs_background": "light"
     },
     "output_type": "display_data"
    }
   ],
   "source": [
    "# Predict\n",
    "# ==============================================================================\n",
    "predictions = forecaster.predict(steps=len(series.loc[end_train:]),\n",
    "                                 level='y')\n",
    "print(predictions.head(3))\n",
    "\n",
    "# Plot predictions\n",
    "# ==============================================================================\n",
    "fig, ax=plt.subplots(figsize=(9, 4))\n",
    "series.loc[:end_train].plot(ax=ax, label='train')\n",
    "series.loc[end_train:].plot(ax=ax, label='test')\n",
    "predictions.plot(ax=ax, label='predictions')\n",
    "ax.legend();\n",
    "\n",
    "# Prediction error\n",
    "# ==============================================================================\n",
    "error_mse = mean_squared_error(\n",
    "                y_true = series.loc[end_train:, 'y'],\n",
    "                y_pred = predictions\n",
    "            )\n",
    "print(f\"Test error (mse): {error_mse}\")"
   ]
  },
  {
   "cell_type": "code",
   "execution_count": 71,
   "id": "feb24b0b",
   "metadata": {
    "ExecuteTime": {
     "end_time": "2022-06-09T13:22:26.904420Z",
     "start_time": "2022-06-09T13:22:16.395152Z"
    }
   },
   "outputs": [
    {
     "name": "stdout",
     "output_type": "stream",
     "text": [
      "Number of models compared: 18.\n"
     ]
    },
    {
     "name": "stderr",
     "output_type": "stream",
     "text": [
      "loop lags_grid:   0%|                                               | 0/3 [00:00<?, ?it/s]\n",
      "loop param_grid:   0%|                                              | 0/6 [00:00<?, ?it/s]\u001b[A\n",
      "loop param_grid:  17%|██████▎                               | 1/6 [00:00<00:01,  3.08it/s]\u001b[A\n",
      "loop param_grid:  33%|████████████▋                         | 2/6 [00:00<00:01,  2.01it/s]\u001b[A\n",
      "loop param_grid:  50%|███████████████████                   | 3/6 [00:01<00:01,  2.34it/s]\u001b[A\n",
      "loop param_grid:  67%|█████████████████████████▎            | 4/6 [00:01<00:01,  1.97it/s]\u001b[A\n",
      "loop param_grid:  83%|███████████████████████████████▋      | 5/6 [00:02<00:00,  2.18it/s]\u001b[A\n",
      "loop param_grid: 100%|██████████████████████████████████████| 6/6 [00:02<00:00,  1.87it/s]\u001b[A\n",
      "loop lags_grid:  33%|█████████████                          | 1/3 [00:02<00:05,  2.98s/it]\u001b[A\n",
      "loop param_grid:   0%|                                              | 0/6 [00:00<?, ?it/s]\u001b[A\n",
      "loop param_grid:  17%|██████▎                               | 1/6 [00:00<00:02,  2.47it/s]\u001b[A\n",
      "loop param_grid:  33%|████████████▋                         | 2/6 [00:01<00:02,  1.74it/s]\u001b[A\n",
      "loop param_grid:  50%|███████████████████                   | 3/6 [00:01<00:01,  1.96it/s]\u001b[A\n",
      "loop param_grid:  67%|█████████████████████████▎            | 4/6 [00:02<00:01,  1.53it/s]\u001b[A\n",
      "loop param_grid:  83%|███████████████████████████████▋      | 5/6 [00:02<00:00,  1.73it/s]\u001b[A\n",
      "loop param_grid: 100%|██████████████████████████████████████| 6/6 [00:03<00:00,  1.37it/s]\u001b[A\n",
      "loop lags_grid:  67%|██████████████████████████             | 2/3 [00:06<00:03,  3.51s/it]\u001b[A\n",
      "loop param_grid:   0%|                                              | 0/6 [00:00<?, ?it/s]\u001b[A\n",
      "loop param_grid:  17%|██████▎                               | 1/6 [00:00<00:01,  2.62it/s]\u001b[A\n",
      "loop param_grid:  33%|████████████▋                         | 2/6 [00:01<00:02,  1.70it/s]\u001b[A\n",
      "loop param_grid:  50%|███████████████████                   | 3/6 [00:01<00:01,  1.97it/s]\u001b[A\n",
      "loop param_grid:  67%|█████████████████████████▎            | 4/6 [00:02<00:01,  1.72it/s]\u001b[A\n",
      "loop param_grid:  83%|███████████████████████████████▋      | 5/6 [00:02<00:00,  1.96it/s]\u001b[A\n",
      "loop param_grid: 100%|██████████████████████████████████████| 6/6 [00:03<00:00,  1.71it/s]\u001b[A\n",
      "loop lags_grid: 100%|███████████████████████████████████████| 3/3 [00:10<00:00,  3.40s/it]\u001b[A\n"
     ]
    },
    {
     "name": "stdout",
     "output_type": "stream",
     "text": [
      "`Forecaster` refitted using the best-found lags and parameters, and the whole data set: \n",
      "  Lags: [ 1  2  3  4  5  6  7  8  9 10] \n",
      "  Parameters: {'max_depth': 10, 'n_estimators': 100}\n",
      "  Backtesting metric: 0.014695253840809004\n",
      "  Levels: ['y'] \n",
      "  Levels weights: {'y': 1.0} \n",
      "\n"
     ]
    },
    {
     "data": {
      "text/html": [
       "<div>\n",
       "<style scoped>\n",
       "    .dataframe tbody tr th:only-of-type {\n",
       "        vertical-align: middle;\n",
       "    }\n",
       "\n",
       "    .dataframe tbody tr th {\n",
       "        vertical-align: top;\n",
       "    }\n",
       "\n",
       "    .dataframe thead th {\n",
       "        text-align: right;\n",
       "    }\n",
       "</style>\n",
       "<table border=\"1\" class=\"dataframe\">\n",
       "  <thead>\n",
       "    <tr style=\"text-align: right;\">\n",
       "      <th></th>\n",
       "      <th>levels</th>\n",
       "      <th>lags</th>\n",
       "      <th>params</th>\n",
       "      <th>metric</th>\n",
       "      <th>max_depth</th>\n",
       "      <th>n_estimators</th>\n",
       "    </tr>\n",
       "  </thead>\n",
       "  <tbody>\n",
       "    <tr>\n",
       "      <th>9</th>\n",
       "      <td>[y]</td>\n",
       "      <td>[1, 2, 3, 4, 5, 6, 7, 8, 9, 10]</td>\n",
       "      <td>{'max_depth': 10, 'n_estimators': 100}</td>\n",
       "      <td>0.014695</td>\n",
       "      <td>10</td>\n",
       "      <td>100</td>\n",
       "    </tr>\n",
       "    <tr>\n",
       "      <th>11</th>\n",
       "      <td>[y]</td>\n",
       "      <td>[1, 2, 3, 4, 5, 6, 7, 8, 9, 10]</td>\n",
       "      <td>{'max_depth': 15, 'n_estimators': 100}</td>\n",
       "      <td>0.014785</td>\n",
       "      <td>15</td>\n",
       "      <td>100</td>\n",
       "    </tr>\n",
       "    <tr>\n",
       "      <th>8</th>\n",
       "      <td>[y]</td>\n",
       "      <td>[1, 2, 3, 4, 5, 6, 7, 8, 9, 10]</td>\n",
       "      <td>{'max_depth': 10, 'n_estimators': 50}</td>\n",
       "      <td>0.016110</td>\n",
       "      <td>10</td>\n",
       "      <td>50</td>\n",
       "    </tr>\n",
       "    <tr>\n",
       "      <th>10</th>\n",
       "      <td>[y]</td>\n",
       "      <td>[1, 2, 3, 4, 5, 6, 7, 8, 9, 10]</td>\n",
       "      <td>{'max_depth': 15, 'n_estimators': 50}</td>\n",
       "      <td>0.016267</td>\n",
       "      <td>15</td>\n",
       "      <td>50</td>\n",
       "    </tr>\n",
       "    <tr>\n",
       "      <th>7</th>\n",
       "      <td>[y]</td>\n",
       "      <td>[1, 2, 3, 4, 5, 6, 7, 8, 9, 10]</td>\n",
       "      <td>{'max_depth': 5, 'n_estimators': 100}</td>\n",
       "      <td>0.019048</td>\n",
       "      <td>5</td>\n",
       "      <td>100</td>\n",
       "    </tr>\n",
       "    <tr>\n",
       "      <th>6</th>\n",
       "      <td>[y]</td>\n",
       "      <td>[1, 2, 3, 4, 5, 6, 7, 8, 9, 10]</td>\n",
       "      <td>{'max_depth': 5, 'n_estimators': 50}</td>\n",
       "      <td>0.019101</td>\n",
       "      <td>5</td>\n",
       "      <td>50</td>\n",
       "    </tr>\n",
       "    <tr>\n",
       "      <th>5</th>\n",
       "      <td>[y]</td>\n",
       "      <td>[1, 2, 3]</td>\n",
       "      <td>{'max_depth': 15, 'n_estimators': 100}</td>\n",
       "      <td>0.040554</td>\n",
       "      <td>15</td>\n",
       "      <td>100</td>\n",
       "    </tr>\n",
       "    <tr>\n",
       "      <th>16</th>\n",
       "      <td>[y]</td>\n",
       "      <td>[1, 2, 3, 20]</td>\n",
       "      <td>{'max_depth': 15, 'n_estimators': 50}</td>\n",
       "      <td>0.042731</td>\n",
       "      <td>15</td>\n",
       "      <td>50</td>\n",
       "    </tr>\n",
       "    <tr>\n",
       "      <th>15</th>\n",
       "      <td>[y]</td>\n",
       "      <td>[1, 2, 3, 20]</td>\n",
       "      <td>{'max_depth': 10, 'n_estimators': 100}</td>\n",
       "      <td>0.043301</td>\n",
       "      <td>10</td>\n",
       "      <td>100</td>\n",
       "    </tr>\n",
       "    <tr>\n",
       "      <th>17</th>\n",
       "      <td>[y]</td>\n",
       "      <td>[1, 2, 3, 20]</td>\n",
       "      <td>{'max_depth': 15, 'n_estimators': 100}</td>\n",
       "      <td>0.046339</td>\n",
       "      <td>15</td>\n",
       "      <td>100</td>\n",
       "    </tr>\n",
       "    <tr>\n",
       "      <th>14</th>\n",
       "      <td>[y]</td>\n",
       "      <td>[1, 2, 3, 20]</td>\n",
       "      <td>{'max_depth': 10, 'n_estimators': 50}</td>\n",
       "      <td>0.046897</td>\n",
       "      <td>10</td>\n",
       "      <td>50</td>\n",
       "    </tr>\n",
       "    <tr>\n",
       "      <th>4</th>\n",
       "      <td>[y]</td>\n",
       "      <td>[1, 2, 3]</td>\n",
       "      <td>{'max_depth': 15, 'n_estimators': 50}</td>\n",
       "      <td>0.049929</td>\n",
       "      <td>15</td>\n",
       "      <td>50</td>\n",
       "    </tr>\n",
       "    <tr>\n",
       "      <th>13</th>\n",
       "      <td>[y]</td>\n",
       "      <td>[1, 2, 3, 20]</td>\n",
       "      <td>{'max_depth': 5, 'n_estimators': 100}</td>\n",
       "      <td>0.051813</td>\n",
       "      <td>5</td>\n",
       "      <td>100</td>\n",
       "    </tr>\n",
       "    <tr>\n",
       "      <th>12</th>\n",
       "      <td>[y]</td>\n",
       "      <td>[1, 2, 3, 20]</td>\n",
       "      <td>{'max_depth': 5, 'n_estimators': 50}</td>\n",
       "      <td>0.053636</td>\n",
       "      <td>5</td>\n",
       "      <td>50</td>\n",
       "    </tr>\n",
       "    <tr>\n",
       "      <th>2</th>\n",
       "      <td>[y]</td>\n",
       "      <td>[1, 2, 3]</td>\n",
       "      <td>{'max_depth': 10, 'n_estimators': 50}</td>\n",
       "      <td>0.054673</td>\n",
       "      <td>10</td>\n",
       "      <td>50</td>\n",
       "    </tr>\n",
       "    <tr>\n",
       "      <th>3</th>\n",
       "      <td>[y]</td>\n",
       "      <td>[1, 2, 3]</td>\n",
       "      <td>{'max_depth': 10, 'n_estimators': 100}</td>\n",
       "      <td>0.054918</td>\n",
       "      <td>10</td>\n",
       "      <td>100</td>\n",
       "    </tr>\n",
       "    <tr>\n",
       "      <th>0</th>\n",
       "      <td>[y]</td>\n",
       "      <td>[1, 2, 3]</td>\n",
       "      <td>{'max_depth': 5, 'n_estimators': 50}</td>\n",
       "      <td>0.055085</td>\n",
       "      <td>5</td>\n",
       "      <td>50</td>\n",
       "    </tr>\n",
       "    <tr>\n",
       "      <th>1</th>\n",
       "      <td>[y]</td>\n",
       "      <td>[1, 2, 3]</td>\n",
       "      <td>{'max_depth': 5, 'n_estimators': 100}</td>\n",
       "      <td>0.062859</td>\n",
       "      <td>5</td>\n",
       "      <td>100</td>\n",
       "    </tr>\n",
       "  </tbody>\n",
       "</table>\n",
       "</div>"
      ],
      "text/plain": [
       "   levels                             lags  \\\n",
       "9     [y]  [1, 2, 3, 4, 5, 6, 7, 8, 9, 10]   \n",
       "11    [y]  [1, 2, 3, 4, 5, 6, 7, 8, 9, 10]   \n",
       "8     [y]  [1, 2, 3, 4, 5, 6, 7, 8, 9, 10]   \n",
       "10    [y]  [1, 2, 3, 4, 5, 6, 7, 8, 9, 10]   \n",
       "7     [y]  [1, 2, 3, 4, 5, 6, 7, 8, 9, 10]   \n",
       "6     [y]  [1, 2, 3, 4, 5, 6, 7, 8, 9, 10]   \n",
       "5     [y]                        [1, 2, 3]   \n",
       "16    [y]                    [1, 2, 3, 20]   \n",
       "15    [y]                    [1, 2, 3, 20]   \n",
       "17    [y]                    [1, 2, 3, 20]   \n",
       "14    [y]                    [1, 2, 3, 20]   \n",
       "4     [y]                        [1, 2, 3]   \n",
       "13    [y]                    [1, 2, 3, 20]   \n",
       "12    [y]                    [1, 2, 3, 20]   \n",
       "2     [y]                        [1, 2, 3]   \n",
       "3     [y]                        [1, 2, 3]   \n",
       "0     [y]                        [1, 2, 3]   \n",
       "1     [y]                        [1, 2, 3]   \n",
       "\n",
       "                                    params    metric  max_depth  n_estimators  \n",
       "9   {'max_depth': 10, 'n_estimators': 100}  0.014695         10           100  \n",
       "11  {'max_depth': 15, 'n_estimators': 100}  0.014785         15           100  \n",
       "8    {'max_depth': 10, 'n_estimators': 50}  0.016110         10            50  \n",
       "10   {'max_depth': 15, 'n_estimators': 50}  0.016267         15            50  \n",
       "7    {'max_depth': 5, 'n_estimators': 100}  0.019048          5           100  \n",
       "6     {'max_depth': 5, 'n_estimators': 50}  0.019101          5            50  \n",
       "5   {'max_depth': 15, 'n_estimators': 100}  0.040554         15           100  \n",
       "16   {'max_depth': 15, 'n_estimators': 50}  0.042731         15            50  \n",
       "15  {'max_depth': 10, 'n_estimators': 100}  0.043301         10           100  \n",
       "17  {'max_depth': 15, 'n_estimators': 100}  0.046339         15           100  \n",
       "14   {'max_depth': 10, 'n_estimators': 50}  0.046897         10            50  \n",
       "4    {'max_depth': 15, 'n_estimators': 50}  0.049929         15            50  \n",
       "13   {'max_depth': 5, 'n_estimators': 100}  0.051813          5           100  \n",
       "12    {'max_depth': 5, 'n_estimators': 50}  0.053636          5            50  \n",
       "2    {'max_depth': 10, 'n_estimators': 50}  0.054673         10            50  \n",
       "3   {'max_depth': 10, 'n_estimators': 100}  0.054918         10           100  \n",
       "0     {'max_depth': 5, 'n_estimators': 50}  0.055085          5            50  \n",
       "1    {'max_depth': 5, 'n_estimators': 100}  0.062859          5           100  "
      ]
     },
     "execution_count": 71,
     "metadata": {},
     "output_type": "execute_result"
    }
   ],
   "source": [
    "steps = 10\n",
    "forecaster = ForecasterAutoregMultiSeries(\n",
    "                regressor = RandomForestRegressor(random_state=123),\n",
    "                lags      = 12 # Este valor será remplazado en el grid search\n",
    "             )\n",
    "\n",
    "# Lags used as predictors\n",
    "lags_grid = [3, 10, [1, 2, 3, 20]]\n",
    "\n",
    "# Regressor hyperparameters\n",
    "param_grid = {'n_estimators': [50, 100],\n",
    "              'max_depth': [5, 10, 15]}\n",
    "\n",
    "param_grid = list(ParameterGrid(param_grid))\n",
    "\n",
    "results_grid = _evaluate_grid_hyperparameters_multiseries(\n",
    "                        forecaster  = forecaster,\n",
    "                        series      = series,\n",
    "                        param_grid  = param_grid,\n",
    "                        lags_grid   = lags_grid,\n",
    "                        steps       = steps,\n",
    "                        levels_list = ['y'],\n",
    "                        refit       = True,\n",
    "                        metric      = 'mean_squared_error',\n",
    "                        initial_train_size = len(series.loc[:end_train, ]),\n",
    "                        fixed_train_size   = False,\n",
    "                        return_best = True,\n",
    "                        verbose     = False\n",
    "               )\n",
    "\n",
    "results_grid"
   ]
  },
  {
   "cell_type": "code",
   "execution_count": null,
   "id": "cae8ec1c",
   "metadata": {},
   "outputs": [],
   "source": [
    "# Backtesting\n",
    "# ==============================================================================\n",
    "metric, predictions_backtest = backtesting_forecaster(\n",
    "                                    forecaster = forecaster,\n",
    "                                    y          = data,\n",
    "                                    initial_train_size = len(data.loc[:end_train]),\n",
    "                                    fixed_train_size   = False,\n",
    "                                    steps      = 10,\n",
    "                                    metric     = 'mean_squared_error',\n",
    "                                    refit      = True,\n",
    "                                    verbose    = False\n",
    "                               )\n",
    "\n",
    "print(f\"Backtest error: {metric}\")"
   ]
  },
  {
   "cell_type": "code",
   "execution_count": null,
   "id": "661eeb92",
   "metadata": {},
   "outputs": [],
   "source": []
  },
  {
   "cell_type": "code",
   "execution_count": null,
   "id": "bf515dd7",
   "metadata": {},
   "outputs": [],
   "source": []
  },
  {
   "cell_type": "code",
   "execution_count": null,
   "id": "e710c146",
   "metadata": {},
   "outputs": [],
   "source": []
  },
  {
   "cell_type": "code",
   "execution_count": null,
   "id": "5e3dc5e6",
   "metadata": {},
   "outputs": [],
   "source": []
  },
  {
   "cell_type": "code",
   "execution_count": null,
   "id": "a8ce35cb",
   "metadata": {},
   "outputs": [],
   "source": []
  },
  {
   "cell_type": "markdown",
   "id": "cfc23325",
   "metadata": {},
   "source": [
    "## Example Product Sales"
   ]
  },
  {
   "cell_type": "markdown",
   "id": "177b159d",
   "metadata": {},
   "source": [
    "https://www.mariofilho.com/how-to-predict-multiple-time-series-with-scikit-learn-with-sales-forecasting-example/"
   ]
  },
  {
   "cell_type": "code",
   "execution_count": 46,
   "id": "264aa909",
   "metadata": {
    "ExecuteTime": {
     "end_time": "2022-06-09T13:13:41.906096Z",
     "start_time": "2022-06-09T13:13:41.819203Z"
    }
   },
   "outputs": [
    {
     "name": "stdout",
     "output_type": "stream",
     "text": [
      "The autoreload extension is already loaded. To reload it, use:\n",
      "  %reload_ext autoreload\n"
     ]
    }
   ],
   "source": [
    "%load_ext autoreload\n",
    "%autoreload 2\n",
    "import sys\n",
    "from pathlib import Path\n",
    "sys.path.insert(1, str(Path.cwd().parent.parent))\n",
    "%config Completer.use_jedi = False"
   ]
  },
  {
   "cell_type": "code",
   "execution_count": 2,
   "id": "bb025894",
   "metadata": {
    "ExecuteTime": {
     "end_time": "2022-06-09T08:48:32.148677Z",
     "start_time": "2022-06-09T08:48:28.203774Z"
    }
   },
   "outputs": [],
   "source": [
    "import numpy as np\n",
    "import pandas as pd\n",
    "import matplotlib.pyplot as plt\n",
    "\n",
    "from skforecast.ForecasterAutoreg import ForecasterAutoreg\n",
    "from skforecast.ForecasterAutoregMultiSeries import ForecasterAutoregMultiSeries\n",
    "from skforecast.model_selection import backtesting_forecaster\n",
    "from skforecast.model_selection import grid_search_forecaster\n",
    "from skforecast.model_selection_multiseries import backtesting_forecaster_multiseries\n",
    "from skforecast.model_selection_multiseries.model_selection_multiseries import _evaluate_grid_hyperparameters_multiseries\n",
    "\n",
    "from sklearn.model_selection import ParameterGrid\n",
    "from sklearn.linear_model import LinearRegression\n",
    "from sklearn.ensemble import RandomForestRegressor\n",
    "from sklearn.metrics import mean_squared_error"
   ]
  },
  {
   "cell_type": "code",
   "execution_count": 6,
   "id": "4d540720",
   "metadata": {
    "ExecuteTime": {
     "end_time": "2022-06-09T08:52:07.589755Z",
     "start_time": "2022-06-09T08:52:07.466538Z"
    }
   },
   "outputs": [
    {
     "data": {
      "text/html": [
       "<div>\n",
       "<style scoped>\n",
       "    .dataframe tbody tr th:only-of-type {\n",
       "        vertical-align: middle;\n",
       "    }\n",
       "\n",
       "    .dataframe tbody tr th {\n",
       "        vertical-align: top;\n",
       "    }\n",
       "\n",
       "    .dataframe thead th {\n",
       "        text-align: right;\n",
       "    }\n",
       "</style>\n",
       "<table border=\"1\" class=\"dataframe\">\n",
       "  <thead>\n",
       "    <tr style=\"text-align: right;\">\n",
       "      <th></th>\n",
       "      <th>P1</th>\n",
       "      <th>P2</th>\n",
       "      <th>P3</th>\n",
       "      <th>P4</th>\n",
       "      <th>Week</th>\n",
       "    </tr>\n",
       "  </thead>\n",
       "  <tbody>\n",
       "    <tr>\n",
       "      <th>2022-01-02</th>\n",
       "      <td>11</td>\n",
       "      <td>7</td>\n",
       "      <td>7</td>\n",
       "      <td>12</td>\n",
       "      <td>0</td>\n",
       "    </tr>\n",
       "    <tr>\n",
       "      <th>2022-01-09</th>\n",
       "      <td>12</td>\n",
       "      <td>6</td>\n",
       "      <td>11</td>\n",
       "      <td>8</td>\n",
       "      <td>1</td>\n",
       "    </tr>\n",
       "    <tr>\n",
       "      <th>2022-01-16</th>\n",
       "      <td>10</td>\n",
       "      <td>3</td>\n",
       "      <td>8</td>\n",
       "      <td>13</td>\n",
       "      <td>2</td>\n",
       "    </tr>\n",
       "    <tr>\n",
       "      <th>2022-01-23</th>\n",
       "      <td>8</td>\n",
       "      <td>2</td>\n",
       "      <td>9</td>\n",
       "      <td>5</td>\n",
       "      <td>3</td>\n",
       "    </tr>\n",
       "    <tr>\n",
       "      <th>2022-01-30</th>\n",
       "      <td>13</td>\n",
       "      <td>7</td>\n",
       "      <td>10</td>\n",
       "      <td>9</td>\n",
       "      <td>4</td>\n",
       "    </tr>\n",
       "    <tr>\n",
       "      <th>2022-02-06</th>\n",
       "      <td>12</td>\n",
       "      <td>1</td>\n",
       "      <td>8</td>\n",
       "      <td>6</td>\n",
       "      <td>5</td>\n",
       "    </tr>\n",
       "    <tr>\n",
       "      <th>2022-02-13</th>\n",
       "      <td>14</td>\n",
       "      <td>6</td>\n",
       "      <td>7</td>\n",
       "      <td>9</td>\n",
       "      <td>6</td>\n",
       "    </tr>\n",
       "    <tr>\n",
       "      <th>2022-02-20</th>\n",
       "      <td>21</td>\n",
       "      <td>3</td>\n",
       "      <td>13</td>\n",
       "      <td>13</td>\n",
       "      <td>7</td>\n",
       "    </tr>\n",
       "    <tr>\n",
       "      <th>2022-02-27</th>\n",
       "      <td>6</td>\n",
       "      <td>3</td>\n",
       "      <td>12</td>\n",
       "      <td>13</td>\n",
       "      <td>8</td>\n",
       "    </tr>\n",
       "    <tr>\n",
       "      <th>2022-03-06</th>\n",
       "      <td>14</td>\n",
       "      <td>3</td>\n",
       "      <td>6</td>\n",
       "      <td>11</td>\n",
       "      <td>9</td>\n",
       "    </tr>\n",
       "    <tr>\n",
       "      <th>2022-03-13</th>\n",
       "      <td>11</td>\n",
       "      <td>2</td>\n",
       "      <td>14</td>\n",
       "      <td>8</td>\n",
       "      <td>10</td>\n",
       "    </tr>\n",
       "    <tr>\n",
       "      <th>2022-03-20</th>\n",
       "      <td>14</td>\n",
       "      <td>2</td>\n",
       "      <td>9</td>\n",
       "      <td>4</td>\n",
       "      <td>11</td>\n",
       "    </tr>\n",
       "    <tr>\n",
       "      <th>2022-03-27</th>\n",
       "      <td>16</td>\n",
       "      <td>6</td>\n",
       "      <td>4</td>\n",
       "      <td>5</td>\n",
       "      <td>12</td>\n",
       "    </tr>\n",
       "    <tr>\n",
       "      <th>2022-04-03</th>\n",
       "      <td>9</td>\n",
       "      <td>2</td>\n",
       "      <td>7</td>\n",
       "      <td>4</td>\n",
       "      <td>13</td>\n",
       "    </tr>\n",
       "    <tr>\n",
       "      <th>2022-04-10</th>\n",
       "      <td>9</td>\n",
       "      <td>0</td>\n",
       "      <td>12</td>\n",
       "      <td>15</td>\n",
       "      <td>14</td>\n",
       "    </tr>\n",
       "    <tr>\n",
       "      <th>2022-04-17</th>\n",
       "      <td>9</td>\n",
       "      <td>6</td>\n",
       "      <td>8</td>\n",
       "      <td>7</td>\n",
       "      <td>15</td>\n",
       "    </tr>\n",
       "    <tr>\n",
       "      <th>2022-04-24</th>\n",
       "      <td>14</td>\n",
       "      <td>2</td>\n",
       "      <td>7</td>\n",
       "      <td>11</td>\n",
       "      <td>16</td>\n",
       "    </tr>\n",
       "    <tr>\n",
       "      <th>2022-05-01</th>\n",
       "      <td>9</td>\n",
       "      <td>7</td>\n",
       "      <td>11</td>\n",
       "      <td>9</td>\n",
       "      <td>17</td>\n",
       "    </tr>\n",
       "    <tr>\n",
       "      <th>2022-05-08</th>\n",
       "      <td>3</td>\n",
       "      <td>7</td>\n",
       "      <td>10</td>\n",
       "      <td>15</td>\n",
       "      <td>18</td>\n",
       "    </tr>\n",
       "    <tr>\n",
       "      <th>2022-05-15</th>\n",
       "      <td>12</td>\n",
       "      <td>9</td>\n",
       "      <td>7</td>\n",
       "      <td>4</td>\n",
       "      <td>19</td>\n",
       "    </tr>\n",
       "    <tr>\n",
       "      <th>2022-05-22</th>\n",
       "      <td>5</td>\n",
       "      <td>4</td>\n",
       "      <td>7</td>\n",
       "      <td>6</td>\n",
       "      <td>20</td>\n",
       "    </tr>\n",
       "    <tr>\n",
       "      <th>2022-05-29</th>\n",
       "      <td>11</td>\n",
       "      <td>7</td>\n",
       "      <td>13</td>\n",
       "      <td>7</td>\n",
       "      <td>21</td>\n",
       "    </tr>\n",
       "    <tr>\n",
       "      <th>2022-06-05</th>\n",
       "      <td>7</td>\n",
       "      <td>2</td>\n",
       "      <td>11</td>\n",
       "      <td>11</td>\n",
       "      <td>22</td>\n",
       "    </tr>\n",
       "    <tr>\n",
       "      <th>2022-06-12</th>\n",
       "      <td>12</td>\n",
       "      <td>4</td>\n",
       "      <td>8</td>\n",
       "      <td>7</td>\n",
       "      <td>23</td>\n",
       "    </tr>\n",
       "    <tr>\n",
       "      <th>2022-06-19</th>\n",
       "      <td>5</td>\n",
       "      <td>5</td>\n",
       "      <td>10</td>\n",
       "      <td>9</td>\n",
       "      <td>24</td>\n",
       "    </tr>\n",
       "    <tr>\n",
       "      <th>2022-06-26</th>\n",
       "      <td>9</td>\n",
       "      <td>3</td>\n",
       "      <td>8</td>\n",
       "      <td>6</td>\n",
       "      <td>25</td>\n",
       "    </tr>\n",
       "    <tr>\n",
       "      <th>2022-07-03</th>\n",
       "      <td>7</td>\n",
       "      <td>5</td>\n",
       "      <td>14</td>\n",
       "      <td>10</td>\n",
       "      <td>26</td>\n",
       "    </tr>\n",
       "    <tr>\n",
       "      <th>2022-07-10</th>\n",
       "      <td>10</td>\n",
       "      <td>8</td>\n",
       "      <td>5</td>\n",
       "      <td>10</td>\n",
       "      <td>27</td>\n",
       "    </tr>\n",
       "    <tr>\n",
       "      <th>2022-07-17</th>\n",
       "      <td>5</td>\n",
       "      <td>5</td>\n",
       "      <td>3</td>\n",
       "      <td>2</td>\n",
       "      <td>28</td>\n",
       "    </tr>\n",
       "    <tr>\n",
       "      <th>2022-07-24</th>\n",
       "      <td>11</td>\n",
       "      <td>5</td>\n",
       "      <td>13</td>\n",
       "      <td>6</td>\n",
       "      <td>29</td>\n",
       "    </tr>\n",
       "    <tr>\n",
       "      <th>2022-07-31</th>\n",
       "      <td>7</td>\n",
       "      <td>3</td>\n",
       "      <td>11</td>\n",
       "      <td>7</td>\n",
       "      <td>30</td>\n",
       "    </tr>\n",
       "    <tr>\n",
       "      <th>2022-08-07</th>\n",
       "      <td>10</td>\n",
       "      <td>1</td>\n",
       "      <td>9</td>\n",
       "      <td>2</td>\n",
       "      <td>31</td>\n",
       "    </tr>\n",
       "    <tr>\n",
       "      <th>2022-08-14</th>\n",
       "      <td>12</td>\n",
       "      <td>3</td>\n",
       "      <td>7</td>\n",
       "      <td>5</td>\n",
       "      <td>32</td>\n",
       "    </tr>\n",
       "    <tr>\n",
       "      <th>2022-08-21</th>\n",
       "      <td>6</td>\n",
       "      <td>2</td>\n",
       "      <td>8</td>\n",
       "      <td>12</td>\n",
       "      <td>33</td>\n",
       "    </tr>\n",
       "    <tr>\n",
       "      <th>2022-08-28</th>\n",
       "      <td>5</td>\n",
       "      <td>3</td>\n",
       "      <td>7</td>\n",
       "      <td>5</td>\n",
       "      <td>34</td>\n",
       "    </tr>\n",
       "    <tr>\n",
       "      <th>2022-09-04</th>\n",
       "      <td>14</td>\n",
       "      <td>10</td>\n",
       "      <td>9</td>\n",
       "      <td>19</td>\n",
       "      <td>35</td>\n",
       "    </tr>\n",
       "    <tr>\n",
       "      <th>2022-09-11</th>\n",
       "      <td>10</td>\n",
       "      <td>5</td>\n",
       "      <td>6</td>\n",
       "      <td>8</td>\n",
       "      <td>36</td>\n",
       "    </tr>\n",
       "    <tr>\n",
       "      <th>2022-09-18</th>\n",
       "      <td>9</td>\n",
       "      <td>2</td>\n",
       "      <td>12</td>\n",
       "      <td>6</td>\n",
       "      <td>37</td>\n",
       "    </tr>\n",
       "    <tr>\n",
       "      <th>2022-09-25</th>\n",
       "      <td>12</td>\n",
       "      <td>7</td>\n",
       "      <td>12</td>\n",
       "      <td>8</td>\n",
       "      <td>38</td>\n",
       "    </tr>\n",
       "    <tr>\n",
       "      <th>2022-10-02</th>\n",
       "      <td>17</td>\n",
       "      <td>3</td>\n",
       "      <td>9</td>\n",
       "      <td>8</td>\n",
       "      <td>39</td>\n",
       "    </tr>\n",
       "    <tr>\n",
       "      <th>2022-10-09</th>\n",
       "      <td>7</td>\n",
       "      <td>2</td>\n",
       "      <td>3</td>\n",
       "      <td>12</td>\n",
       "      <td>40</td>\n",
       "    </tr>\n",
       "    <tr>\n",
       "      <th>2022-10-16</th>\n",
       "      <td>11</td>\n",
       "      <td>5</td>\n",
       "      <td>5</td>\n",
       "      <td>6</td>\n",
       "      <td>41</td>\n",
       "    </tr>\n",
       "    <tr>\n",
       "      <th>2022-10-23</th>\n",
       "      <td>4</td>\n",
       "      <td>2</td>\n",
       "      <td>6</td>\n",
       "      <td>9</td>\n",
       "      <td>42</td>\n",
       "    </tr>\n",
       "    <tr>\n",
       "      <th>2022-10-30</th>\n",
       "      <td>7</td>\n",
       "      <td>4</td>\n",
       "      <td>14</td>\n",
       "      <td>10</td>\n",
       "      <td>43</td>\n",
       "    </tr>\n",
       "    <tr>\n",
       "      <th>2022-11-06</th>\n",
       "      <td>8</td>\n",
       "      <td>5</td>\n",
       "      <td>5</td>\n",
       "      <td>3</td>\n",
       "      <td>44</td>\n",
       "    </tr>\n",
       "    <tr>\n",
       "      <th>2022-11-13</th>\n",
       "      <td>10</td>\n",
       "      <td>1</td>\n",
       "      <td>5</td>\n",
       "      <td>4</td>\n",
       "      <td>45</td>\n",
       "    </tr>\n",
       "    <tr>\n",
       "      <th>2022-11-20</th>\n",
       "      <td>12</td>\n",
       "      <td>1</td>\n",
       "      <td>7</td>\n",
       "      <td>6</td>\n",
       "      <td>46</td>\n",
       "    </tr>\n",
       "    <tr>\n",
       "      <th>2022-11-27</th>\n",
       "      <td>3</td>\n",
       "      <td>4</td>\n",
       "      <td>8</td>\n",
       "      <td>8</td>\n",
       "      <td>47</td>\n",
       "    </tr>\n",
       "    <tr>\n",
       "      <th>2022-12-04</th>\n",
       "      <td>7</td>\n",
       "      <td>5</td>\n",
       "      <td>14</td>\n",
       "      <td>14</td>\n",
       "      <td>48</td>\n",
       "    </tr>\n",
       "    <tr>\n",
       "      <th>2022-12-11</th>\n",
       "      <td>6</td>\n",
       "      <td>1</td>\n",
       "      <td>8</td>\n",
       "      <td>8</td>\n",
       "      <td>49</td>\n",
       "    </tr>\n",
       "    <tr>\n",
       "      <th>2022-12-18</th>\n",
       "      <td>5</td>\n",
       "      <td>6</td>\n",
       "      <td>8</td>\n",
       "      <td>7</td>\n",
       "      <td>50</td>\n",
       "    </tr>\n",
       "    <tr>\n",
       "      <th>2022-12-25</th>\n",
       "      <td>10</td>\n",
       "      <td>0</td>\n",
       "      <td>7</td>\n",
       "      <td>8</td>\n",
       "      <td>51</td>\n",
       "    </tr>\n",
       "  </tbody>\n",
       "</table>\n",
       "</div>"
      ],
      "text/plain": [
       "            P1  P2  P3  P4  Week\n",
       "2022-01-02  11   7   7  12     0\n",
       "2022-01-09  12   6  11   8     1\n",
       "2022-01-16  10   3   8  13     2\n",
       "2022-01-23   8   2   9   5     3\n",
       "2022-01-30  13   7  10   9     4\n",
       "2022-02-06  12   1   8   6     5\n",
       "2022-02-13  14   6   7   9     6\n",
       "2022-02-20  21   3  13  13     7\n",
       "2022-02-27   6   3  12  13     8\n",
       "2022-03-06  14   3   6  11     9\n",
       "2022-03-13  11   2  14   8    10\n",
       "2022-03-20  14   2   9   4    11\n",
       "2022-03-27  16   6   4   5    12\n",
       "2022-04-03   9   2   7   4    13\n",
       "2022-04-10   9   0  12  15    14\n",
       "2022-04-17   9   6   8   7    15\n",
       "2022-04-24  14   2   7  11    16\n",
       "2022-05-01   9   7  11   9    17\n",
       "2022-05-08   3   7  10  15    18\n",
       "2022-05-15  12   9   7   4    19\n",
       "2022-05-22   5   4   7   6    20\n",
       "2022-05-29  11   7  13   7    21\n",
       "2022-06-05   7   2  11  11    22\n",
       "2022-06-12  12   4   8   7    23\n",
       "2022-06-19   5   5  10   9    24\n",
       "2022-06-26   9   3   8   6    25\n",
       "2022-07-03   7   5  14  10    26\n",
       "2022-07-10  10   8   5  10    27\n",
       "2022-07-17   5   5   3   2    28\n",
       "2022-07-24  11   5  13   6    29\n",
       "2022-07-31   7   3  11   7    30\n",
       "2022-08-07  10   1   9   2    31\n",
       "2022-08-14  12   3   7   5    32\n",
       "2022-08-21   6   2   8  12    33\n",
       "2022-08-28   5   3   7   5    34\n",
       "2022-09-04  14  10   9  19    35\n",
       "2022-09-11  10   5   6   8    36\n",
       "2022-09-18   9   2  12   6    37\n",
       "2022-09-25  12   7  12   8    38\n",
       "2022-10-02  17   3   9   8    39\n",
       "2022-10-09   7   2   3  12    40\n",
       "2022-10-16  11   5   5   6    41\n",
       "2022-10-23   4   2   6   9    42\n",
       "2022-10-30   7   4  14  10    43\n",
       "2022-11-06   8   5   5   3    44\n",
       "2022-11-13  10   1   5   4    45\n",
       "2022-11-20  12   1   7   6    46\n",
       "2022-11-27   3   4   8   8    47\n",
       "2022-12-04   7   5  14  14    48\n",
       "2022-12-11   6   1   8   8    49\n",
       "2022-12-18   5   6   8   7    50\n",
       "2022-12-25  10   0   7   8    51"
      ]
     },
     "execution_count": 6,
     "metadata": {},
     "output_type": "execute_result"
    }
   ],
   "source": [
    "data = pd.read_csv(r'C:\\Users\\jaesc2\\Downloads\\Sales_Transactions_Dataset_Weekly.csv')\n",
    "data = data.filter(regex=r'Product|W')\n",
    "items = ['P1', 'P2', 'P3', 'P4']\n",
    "data = data[data['Product_Code'].isin(items)]\n",
    "data = data.set_index('Product_Code')\n",
    "data = data.T\n",
    "data = data.reset_index()\n",
    "data['Week'] = data['index'].str.extract('(\\d+)', expand=False).astype(int)\n",
    "data = data.rename_axis(None, axis=1)\n",
    "data = data.drop(columns=['index'])\n",
    "data.index = pd.date_range(start='2022-01-01', periods=52, freq='1W')\n",
    "data"
   ]
  },
  {
   "cell_type": "code",
   "execution_count": 40,
   "id": "8db59d38",
   "metadata": {
    "ExecuteTime": {
     "end_time": "2022-06-08T15:56:27.124603Z",
     "start_time": "2022-06-08T15:56:26.874206Z"
    }
   },
   "outputs": [
    {
     "name": "stdout",
     "output_type": "stream",
     "text": [
      "Train dates : 2022-01-02 00:00:00 --- 2022-09-25 00:00:00  (n=39)\n",
      "Test dates  : 2022-10-02 00:00:00 --- 2022-12-25 00:00:00  (n=13)\n"
     ]
    },
    {
     "data": {
      "image/png": "[encoded data removed]",
      "text/plain": [
       "<Figure size 648x288 with 1 Axes>"
      ]
     },
     "metadata": {
      "needs_background": "light"
     },
     "output_type": "display_data"
    }
   ],
   "source": [
    "# Train-test dates\n",
    "# ==============================================================================\n",
    "end_train = '2022-09-30 23:59:00'\n",
    "\n",
    "print(f\"Train dates : {data.index.min()} --- {data.loc[:end_train].index.max()}  (n={len(data.loc[:end_train])})\")\n",
    "print(f\"Test dates  : {data.loc[end_train:].index.min()} --- {data.index.max()}  (n={len(data.loc[end_train:])})\")\n",
    "\n",
    "# Plot\n",
    "# ==============================================================================\n",
    "fig, ax=plt.subplots(figsize=(9, 4))\n",
    "data[items].loc[:end_train].plot(ax=ax, label='train')\n",
    "data[items].loc[end_train:].plot(ax=ax, label='test')\n",
    "ax.legend();"
   ]
  },
  {
   "cell_type": "markdown",
   "id": "4eed65b3",
   "metadata": {},
   "source": [
    "### ForecasterAutoreg P1"
   ]
  },
  {
   "cell_type": "code",
   "execution_count": 72,
   "id": "ee886f73",
   "metadata": {
    "ExecuteTime": {
     "end_time": "2022-06-08T16:07:56.904349Z",
     "start_time": "2022-06-08T16:07:56.746283Z"
    }
   },
   "outputs": [
    {
     "data": {
      "text/plain": [
       "================= \n",
       "ForecasterAutoreg \n",
       "================= \n",
       "Regressor: RandomForestRegressor(random_state=123) \n",
       "Lags: [1 2 3 4] \n",
       "Window size: 4 \n",
       "Included exogenous: True \n",
       "Type of exogenous variable: <class 'pandas.core.series.Series'> \n",
       "Exogenous variables names: Week \n",
       "Training range: [Timestamp('2022-01-02 00:00:00'), Timestamp('2022-09-25 00:00:00')] \n",
       "Training index type: DatetimeIndex \n",
       "Training index frequency: W-SUN \n",
       "Regressor parameters: {'bootstrap': True, 'ccp_alpha': 0.0, 'criterion': 'squared_error', 'max_depth': None, 'max_features': 1.0, 'max_leaf_nodes': None, 'max_samples': None, 'min_impurity_decrease': 0.0, 'min_samples_leaf': 1, 'min_samples_split': 2, 'min_weight_fraction_leaf': 0.0, 'n_estimators': 100, 'n_jobs': None, 'oob_score': False, 'random_state': 123, 'verbose': 0, 'warm_start': False} \n",
       "Creation date: 2022-06-08 18:07:56 \n",
       "Last fit date: 2022-06-08 18:07:56 \n",
       "Skforecast version: 0.5.dev1 "
      ]
     },
     "execution_count": 72,
     "metadata": {},
     "output_type": "execute_result"
    }
   ],
   "source": [
    "# Create and fit Recursive multi-step forecaster (ForecasterAutoreg)\n",
    "# ==============================================================================\n",
    "forecaster = ForecasterAutoreg(\n",
    "                    regressor = RandomForestRegressor(random_state=123),\n",
    "                    lags      = 4\n",
    "             )\n",
    "\n",
    "forecaster.fit(y=data.loc[:end_train, 'P1'], exog=data.loc[:end_train, 'Week'])\n",
    "forecaster"
   ]
  },
  {
   "cell_type": "code",
   "execution_count": 73,
   "id": "d38f6cc9",
   "metadata": {
    "ExecuteTime": {
     "end_time": "2022-06-08T16:07:57.599718Z",
     "start_time": "2022-06-08T16:07:57.286246Z"
    }
   },
   "outputs": [
    {
     "data": {
      "image/png": "[encoded data removed]",
      "text/plain": [
       "<Figure size 648x288 with 1 Axes>"
      ]
     },
     "metadata": {
      "needs_background": "light"
     },
     "output_type": "display_data"
    }
   ],
   "source": [
    "# Predict\n",
    "# ==============================================================================\n",
    "predictions = forecaster.predict(steps=len(data.loc[end_train:]), exog=data.loc[end_train:, 'Week'])\n",
    "predictions.head(3)\n",
    "\n",
    "# Plot predictions\n",
    "# ==============================================================================\n",
    "fig, ax=plt.subplots(figsize=(9, 4))\n",
    "data['P1'].loc[:end_train].plot(ax=ax, label='train')\n",
    "data['P1'].loc[end_train:].plot(ax=ax, label='test')\n",
    "predictions.plot(ax=ax, label='predictions')\n",
    "ax.legend();"
   ]
  },
  {
   "cell_type": "code",
   "execution_count": 74,
   "id": "3e3825a7",
   "metadata": {
    "ExecuteTime": {
     "end_time": "2022-06-08T16:07:58.017227Z",
     "start_time": "2022-06-08T16:07:57.949549Z"
    }
   },
   "outputs": [
    {
     "name": "stdout",
     "output_type": "stream",
     "text": [
      "Test error (mse): 14.450769230769229\n"
     ]
    }
   ],
   "source": [
    "# Prediction error\n",
    "# ==============================================================================\n",
    "error_mse = mean_squared_error(\n",
    "                y_true = data['P1'].loc[end_train:],\n",
    "                y_pred = predictions\n",
    "            )\n",
    "print(f\"Test error (mse): {error_mse}\")"
   ]
  },
  {
   "cell_type": "code",
   "execution_count": 75,
   "id": "8a075fc8",
   "metadata": {
    "ExecuteTime": {
     "end_time": "2022-06-08T16:07:58.973340Z",
     "start_time": "2022-06-08T16:07:58.512145Z"
    }
   },
   "outputs": [
    {
     "name": "stdout",
     "output_type": "stream",
     "text": [
      "Backtest error: 17.774153846153848\n"
     ]
    }
   ],
   "source": [
    "# Backtesting\n",
    "# ==============================================================================\n",
    "metric, predictions_backtest = backtesting_forecaster(\n",
    "                                    forecaster = forecaster,\n",
    "                                    y          = data['P1'],\n",
    "                                    initial_train_size = len(data['P1'].loc[:end_train]),\n",
    "                                    fixed_train_size   = False,\n",
    "                                    steps      = 3,\n",
    "                                    exog       = data['Week'],\n",
    "                                    metric     = 'mean_squared_error',\n",
    "                                    refit      = True,\n",
    "                                    verbose    = False\n",
    "                               )\n",
    "\n",
    "print(f\"Backtest error: {metric}\")"
   ]
  },
  {
   "cell_type": "code",
   "execution_count": 76,
   "id": "4eb84272",
   "metadata": {
    "ExecuteTime": {
     "end_time": "2022-06-08T16:08:01.446613Z",
     "start_time": "2022-06-08T16:07:59.837883Z"
    }
   },
   "outputs": [
    {
     "name": "stdout",
     "output_type": "stream",
     "text": [
      "Number of models compared: 18.\n"
     ]
    },
    {
     "name": "stderr",
     "output_type": "stream",
     "text": [
      "loop lags_grid:   0%|                                               | 0/3 [00:00<?, ?it/s]\n",
      "loop param_grid:   0%|                                              | 0/6 [00:00<?, ?it/s]\u001b[A\n",
      "loop param_grid:  33%|████████████▋                         | 2/6 [00:00<00:00, 12.30it/s]\u001b[A\n",
      "loop param_grid:  67%|█████████████████████████▎            | 4/6 [00:00<00:00, 12.15it/s]\u001b[A\n",
      "loop param_grid: 100%|██████████████████████████████████████| 6/6 [00:00<00:00, 12.06it/s]\u001b[A\n",
      "loop lags_grid:  33%|█████████████                          | 1/3 [00:00<00:00,  2.00it/s]\u001b[A\n",
      "loop param_grid:   0%|                                              | 0/6 [00:00<?, ?it/s]\u001b[A\n",
      "loop param_grid:  33%|████████████▋                         | 2/6 [00:00<00:00, 12.96it/s]\u001b[A\n",
      "loop param_grid:  67%|█████████████████████████▎            | 4/6 [00:00<00:00, 12.25it/s]\u001b[A\n",
      "loop param_grid: 100%|██████████████████████████████████████| 6/6 [00:00<00:00, 12.07it/s]\u001b[A\n",
      "loop lags_grid:  67%|██████████████████████████             | 2/3 [00:01<00:00,  1.97it/s]\u001b[A\n",
      "loop param_grid:   0%|                                              | 0/6 [00:00<?, ?it/s]\u001b[A\n",
      "loop param_grid:  33%|████████████▋                         | 2/6 [00:00<00:00, 12.00it/s]\u001b[A\n",
      "loop param_grid:  67%|█████████████████████████▎            | 4/6 [00:00<00:00, 13.54it/s]\u001b[A\n",
      "loop param_grid: 100%|██████████████████████████████████████| 6/6 [00:00<00:00, 11.94it/s]\u001b[A\n",
      "loop lags_grid: 100%|███████████████████████████████████████| 3/3 [00:01<00:00,  1.98it/s]\u001b[A\n"
     ]
    },
    {
     "data": {
      "text/html": [
       "<div>\n",
       "<style scoped>\n",
       "    .dataframe tbody tr th:only-of-type {\n",
       "        vertical-align: middle;\n",
       "    }\n",
       "\n",
       "    .dataframe tbody tr th {\n",
       "        vertical-align: top;\n",
       "    }\n",
       "\n",
       "    .dataframe thead th {\n",
       "        text-align: right;\n",
       "    }\n",
       "</style>\n",
       "<table border=\"1\" class=\"dataframe\">\n",
       "  <thead>\n",
       "    <tr style=\"text-align: right;\">\n",
       "      <th></th>\n",
       "      <th>lags</th>\n",
       "      <th>params</th>\n",
       "      <th>metric</th>\n",
       "      <th>max_depth</th>\n",
       "      <th>n_estimators</th>\n",
       "    </tr>\n",
       "  </thead>\n",
       "  <tbody>\n",
       "    <tr>\n",
       "      <th>13</th>\n",
       "      <td>[1, 2, 3, 4, 5]</td>\n",
       "      <td>{'max_depth': 5, 'n_estimators': 20}</td>\n",
       "      <td>17.929058</td>\n",
       "      <td>5</td>\n",
       "      <td>20</td>\n",
       "    </tr>\n",
       "    <tr>\n",
       "      <th>8</th>\n",
       "      <td>[1, 2, 3, 4]</td>\n",
       "      <td>{'max_depth': 7, 'n_estimators': 10}</td>\n",
       "      <td>18.227009</td>\n",
       "      <td>7</td>\n",
       "      <td>10</td>\n",
       "    </tr>\n",
       "    <tr>\n",
       "      <th>11</th>\n",
       "      <td>[1, 2, 3, 4]</td>\n",
       "      <td>{'max_depth': 10, 'n_estimators': 20}</td>\n",
       "      <td>18.253462</td>\n",
       "      <td>10</td>\n",
       "      <td>20</td>\n",
       "    </tr>\n",
       "    <tr>\n",
       "      <th>14</th>\n",
       "      <td>[1, 2, 3, 4, 5]</td>\n",
       "      <td>{'max_depth': 7, 'n_estimators': 10}</td>\n",
       "      <td>18.264666</td>\n",
       "      <td>7</td>\n",
       "      <td>10</td>\n",
       "    </tr>\n",
       "    <tr>\n",
       "      <th>9</th>\n",
       "      <td>[1, 2, 3, 4]</td>\n",
       "      <td>{'max_depth': 7, 'n_estimators': 20}</td>\n",
       "      <td>18.498871</td>\n",
       "      <td>7</td>\n",
       "      <td>20</td>\n",
       "    </tr>\n",
       "    <tr>\n",
       "      <th>6</th>\n",
       "      <td>[1, 2, 3, 4]</td>\n",
       "      <td>{'max_depth': 5, 'n_estimators': 10}</td>\n",
       "      <td>18.499416</td>\n",
       "      <td>5</td>\n",
       "      <td>10</td>\n",
       "    </tr>\n",
       "    <tr>\n",
       "      <th>7</th>\n",
       "      <td>[1, 2, 3, 4]</td>\n",
       "      <td>{'max_depth': 5, 'n_estimators': 20}</td>\n",
       "      <td>18.598506</td>\n",
       "      <td>5</td>\n",
       "      <td>20</td>\n",
       "    </tr>\n",
       "    <tr>\n",
       "      <th>12</th>\n",
       "      <td>[1, 2, 3, 4, 5]</td>\n",
       "      <td>{'max_depth': 5, 'n_estimators': 10}</td>\n",
       "      <td>18.600161</td>\n",
       "      <td>5</td>\n",
       "      <td>10</td>\n",
       "    </tr>\n",
       "    <tr>\n",
       "      <th>10</th>\n",
       "      <td>[1, 2, 3, 4]</td>\n",
       "      <td>{'max_depth': 10, 'n_estimators': 10}</td>\n",
       "      <td>18.813077</td>\n",
       "      <td>10</td>\n",
       "      <td>10</td>\n",
       "    </tr>\n",
       "    <tr>\n",
       "      <th>15</th>\n",
       "      <td>[1, 2, 3, 4, 5]</td>\n",
       "      <td>{'max_depth': 7, 'n_estimators': 20}</td>\n",
       "      <td>19.295880</td>\n",
       "      <td>7</td>\n",
       "      <td>20</td>\n",
       "    </tr>\n",
       "    <tr>\n",
       "      <th>17</th>\n",
       "      <td>[1, 2, 3, 4, 5]</td>\n",
       "      <td>{'max_depth': 10, 'n_estimators': 20}</td>\n",
       "      <td>19.899231</td>\n",
       "      <td>10</td>\n",
       "      <td>20</td>\n",
       "    </tr>\n",
       "    <tr>\n",
       "      <th>16</th>\n",
       "      <td>[1, 2, 3, 4, 5]</td>\n",
       "      <td>{'max_depth': 10, 'n_estimators': 10}</td>\n",
       "      <td>20.344615</td>\n",
       "      <td>10</td>\n",
       "      <td>10</td>\n",
       "    </tr>\n",
       "    <tr>\n",
       "      <th>5</th>\n",
       "      <td>[1, 2, 3]</td>\n",
       "      <td>{'max_depth': 10, 'n_estimators': 20}</td>\n",
       "      <td>20.914038</td>\n",
       "      <td>10</td>\n",
       "      <td>20</td>\n",
       "    </tr>\n",
       "    <tr>\n",
       "      <th>3</th>\n",
       "      <td>[1, 2, 3]</td>\n",
       "      <td>{'max_depth': 7, 'n_estimators': 20}</td>\n",
       "      <td>21.191067</td>\n",
       "      <td>7</td>\n",
       "      <td>20</td>\n",
       "    </tr>\n",
       "    <tr>\n",
       "      <th>1</th>\n",
       "      <td>[1, 2, 3]</td>\n",
       "      <td>{'max_depth': 5, 'n_estimators': 20}</td>\n",
       "      <td>22.169745</td>\n",
       "      <td>5</td>\n",
       "      <td>20</td>\n",
       "    </tr>\n",
       "    <tr>\n",
       "      <th>4</th>\n",
       "      <td>[1, 2, 3]</td>\n",
       "      <td>{'max_depth': 10, 'n_estimators': 10}</td>\n",
       "      <td>23.383077</td>\n",
       "      <td>10</td>\n",
       "      <td>10</td>\n",
       "    </tr>\n",
       "    <tr>\n",
       "      <th>2</th>\n",
       "      <td>[1, 2, 3]</td>\n",
       "      <td>{'max_depth': 7, 'n_estimators': 10}</td>\n",
       "      <td>23.955089</td>\n",
       "      <td>7</td>\n",
       "      <td>10</td>\n",
       "    </tr>\n",
       "    <tr>\n",
       "      <th>0</th>\n",
       "      <td>[1, 2, 3]</td>\n",
       "      <td>{'max_depth': 5, 'n_estimators': 10}</td>\n",
       "      <td>27.355877</td>\n",
       "      <td>5</td>\n",
       "      <td>10</td>\n",
       "    </tr>\n",
       "  </tbody>\n",
       "</table>\n",
       "</div>"
      ],
      "text/plain": [
       "               lags                                 params     metric  \\\n",
       "13  [1, 2, 3, 4, 5]   {'max_depth': 5, 'n_estimators': 20}  17.929058   \n",
       "8      [1, 2, 3, 4]   {'max_depth': 7, 'n_estimators': 10}  18.227009   \n",
       "11     [1, 2, 3, 4]  {'max_depth': 10, 'n_estimators': 20}  18.253462   \n",
       "14  [1, 2, 3, 4, 5]   {'max_depth': 7, 'n_estimators': 10}  18.264666   \n",
       "9      [1, 2, 3, 4]   {'max_depth': 7, 'n_estimators': 20}  18.498871   \n",
       "6      [1, 2, 3, 4]   {'max_depth': 5, 'n_estimators': 10}  18.499416   \n",
       "7      [1, 2, 3, 4]   {'max_depth': 5, 'n_estimators': 20}  18.598506   \n",
       "12  [1, 2, 3, 4, 5]   {'max_depth': 5, 'n_estimators': 10}  18.600161   \n",
       "10     [1, 2, 3, 4]  {'max_depth': 10, 'n_estimators': 10}  18.813077   \n",
       "15  [1, 2, 3, 4, 5]   {'max_depth': 7, 'n_estimators': 20}  19.295880   \n",
       "17  [1, 2, 3, 4, 5]  {'max_depth': 10, 'n_estimators': 20}  19.899231   \n",
       "16  [1, 2, 3, 4, 5]  {'max_depth': 10, 'n_estimators': 10}  20.344615   \n",
       "5         [1, 2, 3]  {'max_depth': 10, 'n_estimators': 20}  20.914038   \n",
       "3         [1, 2, 3]   {'max_depth': 7, 'n_estimators': 20}  21.191067   \n",
       "1         [1, 2, 3]   {'max_depth': 5, 'n_estimators': 20}  22.169745   \n",
       "4         [1, 2, 3]  {'max_depth': 10, 'n_estimators': 10}  23.383077   \n",
       "2         [1, 2, 3]   {'max_depth': 7, 'n_estimators': 10}  23.955089   \n",
       "0         [1, 2, 3]   {'max_depth': 5, 'n_estimators': 10}  27.355877   \n",
       "\n",
       "    max_depth  n_estimators  \n",
       "13          5            20  \n",
       "8           7            10  \n",
       "11         10            20  \n",
       "14          7            10  \n",
       "9           7            20  \n",
       "6           5            10  \n",
       "7           5            20  \n",
       "12          5            10  \n",
       "10         10            10  \n",
       "15          7            20  \n",
       "17         10            20  \n",
       "16         10            10  \n",
       "5          10            20  \n",
       "3           7            20  \n",
       "1           5            20  \n",
       "4          10            10  \n",
       "2           7            10  \n",
       "0           5            10  "
      ]
     },
     "execution_count": 76,
     "metadata": {},
     "output_type": "execute_result"
    }
   ],
   "source": [
    "# Grid search hyperparameter and lags\n",
    "# ==============================================================================\n",
    "\n",
    "# Regressor hyperparameters\n",
    "param_grid = {'n_estimators': [10, 20],\n",
    "              'max_depth': [5, 7, 10]}\n",
    "\n",
    "# Lags used as predictors\n",
    "lags_grid = [3, 4, 5]\n",
    "\n",
    "results_grid = grid_search_forecaster(\n",
    "                        forecaster  = forecaster,\n",
    "                        y           = data['P1'],\n",
    "                        param_grid  = param_grid,\n",
    "                        lags_grid   = lags_grid,\n",
    "                        steps       = 3,\n",
    "                        refit       = True,\n",
    "                        metric      = 'mean_squared_error',\n",
    "                        initial_train_size = len(data['P1'].loc[:end_train]),\n",
    "                        fixed_train_size   = False,\n",
    "                        exog       = data['Week'],\n",
    "                        return_best = False,\n",
    "                        verbose     = False\n",
    "               )\n",
    "\n",
    "results_grid"
   ]
  },
  {
   "cell_type": "markdown",
   "id": "3d36963b",
   "metadata": {},
   "source": [
    "### ForecasterAutoregMultiSeries"
   ]
  },
  {
   "cell_type": "code",
   "execution_count": 77,
   "id": "86c1cb59",
   "metadata": {
    "ExecuteTime": {
     "end_time": "2022-06-08T16:08:07.662165Z",
     "start_time": "2022-06-08T16:08:07.484548Z"
    }
   },
   "outputs": [
    {
     "data": {
      "text/plain": [
       "============================ \n",
       "ForecasterAutoregMultiSeries \n",
       "============================ \n",
       "Regressor: RandomForestRegressor(random_state=123) \n",
       "Lags: [1 2 3 4] \n",
       "Window size: 4 \n",
       "Included exogenous: True \n",
       "Type of exogenous variable: <class 'pandas.core.series.Series'> \n",
       "Exogenous variables names: Week \n",
       "Training range: [Timestamp('2022-01-02 00:00:00'), Timestamp('2022-09-25 00:00:00')] \n",
       "Training index type: DatetimeIndex \n",
       "Training index frequency: W-SUN \n",
       "Regressor parameters: {'bootstrap': True, 'ccp_alpha': 0.0, 'criterion': 'squared_error', 'max_depth': None, 'max_features': 1.0, 'max_leaf_nodes': None, 'max_samples': None, 'min_impurity_decrease': 0.0, 'min_samples_leaf': 1, 'min_samples_split': 2, 'min_weight_fraction_leaf': 0.0, 'n_estimators': 100, 'n_jobs': None, 'oob_score': False, 'random_state': 123, 'verbose': 0, 'warm_start': False} \n",
       "Creation date: 2022-06-08 18:08:07 \n",
       "Last fit date: 2022-06-08 18:08:07 \n",
       "Skforecast version: 0.5.dev1 "
      ]
     },
     "execution_count": 77,
     "metadata": {},
     "output_type": "execute_result"
    }
   ],
   "source": [
    "# Create and fit Recursive multi-step forecaster (ForecasterAutoreg)\n",
    "# ==============================================================================\n",
    "forecaster = ForecasterAutoregMultiSeries(\n",
    "                    regressor = RandomForestRegressor(random_state=123),\n",
    "                    lags      = 4\n",
    "             )\n",
    "\n",
    "forecaster.fit(series=data.loc[:end_train, items], exog=data.loc[:end_train, 'Week'])\n",
    "forecaster"
   ]
  },
  {
   "cell_type": "code",
   "execution_count": 78,
   "id": "84851eb7",
   "metadata": {
    "ExecuteTime": {
     "end_time": "2022-06-08T16:08:08.882472Z",
     "start_time": "2022-06-08T16:08:08.551764Z"
    }
   },
   "outputs": [
    {
     "data": {
      "image/png": "[encoded data removed]",
      "text/plain": [
       "<Figure size 648x288 with 1 Axes>"
      ]
     },
     "metadata": {
      "needs_background": "light"
     },
     "output_type": "display_data"
    }
   ],
   "source": [
    "# Predict\n",
    "# ==============================================================================\n",
    "predictions = forecaster.predict(steps=len(data.loc[end_train:]),\n",
    "                                 level='P1',\n",
    "                                 exog=data.loc[end_train:, 'Week'])\n",
    "predictions.head(3)\n",
    "\n",
    "# Plot predictions\n",
    "# ==============================================================================\n",
    "fig, ax=plt.subplots(figsize=(9, 4))\n",
    "data.loc[:end_train, items].plot(ax=ax, label='train')\n",
    "data.loc[end_train:, 'P1'].plot(ax=ax, label='test')\n",
    "predictions.plot(ax=ax, label='predictions')\n",
    "ax.legend();"
   ]
  },
  {
   "cell_type": "code",
   "execution_count": 79,
   "id": "9a28a817",
   "metadata": {
    "ExecuteTime": {
     "end_time": "2022-06-08T16:08:10.614193Z",
     "start_time": "2022-06-08T16:08:10.536627Z"
    }
   },
   "outputs": [
    {
     "name": "stdout",
     "output_type": "stream",
     "text": [
      "Test error (mse): 15.017638461538464\n"
     ]
    }
   ],
   "source": [
    "# Prediction error\n",
    "# ==============================================================================\n",
    "error_mse = mean_squared_error(\n",
    "                y_true = data['P1'].loc[end_train:],\n",
    "                y_pred = predictions\n",
    "            )\n",
    "print(f\"Test error (mse): {error_mse}\")"
   ]
  },
  {
   "cell_type": "code",
   "execution_count": 80,
   "id": "5a3db3b5",
   "metadata": {
    "ExecuteTime": {
     "end_time": "2022-06-08T16:08:12.866845Z",
     "start_time": "2022-06-08T16:08:12.291640Z"
    }
   },
   "outputs": [
    {
     "name": "stdout",
     "output_type": "stream",
     "text": [
      "Backtest error: 16.923238461538464\n"
     ]
    }
   ],
   "source": [
    "# Backtesting\n",
    "# ==============================================================================\n",
    "metric, predictions_backtest = backtesting_forecaster_multiseries(\n",
    "                                    forecaster = forecaster,\n",
    "                                    series     = data[items],\n",
    "                                    level      = 'P1',\n",
    "                                    initial_train_size = len(data['P1'].loc[:end_train]),\n",
    "                                    fixed_train_size   = False,\n",
    "                                    steps      = 3,\n",
    "                                    exog       = data['Week'],\n",
    "                                    metric     = 'mean_squared_error',\n",
    "                                    refit      = True,\n",
    "                                    verbose    = False\n",
    "                               )\n",
    "\n",
    "print(f\"Backtest error: {metric}\")"
   ]
  },
  {
   "cell_type": "code",
   "execution_count": 85,
   "id": "6aa6f9fc",
   "metadata": {
    "ExecuteTime": {
     "end_time": "2022-06-08T16:10:48.290116Z",
     "start_time": "2022-06-08T16:10:40.923072Z"
    }
   },
   "outputs": [
    {
     "name": "stdout",
     "output_type": "stream",
     "text": [
      "Number of models compared: 72.\n"
     ]
    },
    {
     "name": "stderr",
     "output_type": "stream",
     "text": [
      "loop lags_grid:   0%|                                               | 0/3 [00:00<?, ?it/s]\n",
      "loop param_grid:   0%|                                              | 0/6 [00:00<?, ?it/s]\u001b[A\n",
      "loop param_grid:  17%|██████▎                               | 1/6 [00:00<00:01,  3.73it/s]\u001b[A\n",
      "loop param_grid:  33%|████████████▋                         | 2/6 [00:00<00:01,  2.37it/s]\u001b[A\n",
      "loop param_grid:  50%|███████████████████                   | 3/6 [00:01<00:01,  2.65it/s]\u001b[A\n",
      "loop param_grid:  67%|█████████████████████████▎            | 4/6 [00:01<00:00,  2.46it/s]\u001b[A\n",
      "loop param_grid:  83%|███████████████████████████████▋      | 5/6 [00:01<00:00,  2.69it/s]\u001b[A\n",
      "loop param_grid: 100%|██████████████████████████████████████| 6/6 [00:02<00:00,  2.38it/s]\u001b[A\n",
      "loop lags_grid:  33%|█████████████                          | 1/3 [00:02<00:04,  2.40s/it]\u001b[A\n",
      "loop param_grid:   0%|                                              | 0/6 [00:00<?, ?it/s]\u001b[A\n",
      "loop param_grid:  17%|██████▎                               | 1/6 [00:00<00:01,  3.36it/s]\u001b[A\n",
      "loop param_grid:  33%|████████████▋                         | 2/6 [00:00<00:01,  2.49it/s]\u001b[A\n",
      "loop param_grid:  50%|███████████████████                   | 3/6 [00:01<00:01,  2.83it/s]\u001b[A\n",
      "loop param_grid:  67%|█████████████████████████▎            | 4/6 [00:01<00:00,  2.46it/s]\u001b[A\n",
      "loop param_grid:  83%|███████████████████████████████▋      | 5/6 [00:01<00:00,  2.64it/s]\u001b[A\n",
      "loop param_grid: 100%|██████████████████████████████████████| 6/6 [00:02<00:00,  2.37it/s]\u001b[A\n",
      "loop lags_grid:  67%|██████████████████████████             | 2/3 [00:04<00:02,  2.40s/it]\u001b[A\n",
      "loop param_grid:   0%|                                              | 0/6 [00:00<?, ?it/s]\u001b[A\n",
      "loop param_grid:  17%|██████▎                               | 1/6 [00:00<00:01,  3.52it/s]\u001b[A\n",
      "loop param_grid:  33%|████████████▋                         | 2/6 [00:00<00:01,  2.55it/s]\u001b[A\n",
      "loop param_grid:  50%|███████████████████                   | 3/6 [00:01<00:01,  2.82it/s]\u001b[A\n",
      "loop param_grid:  67%|█████████████████████████▎            | 4/6 [00:01<00:00,  2.48it/s]\u001b[A\n",
      "loop param_grid:  83%|███████████████████████████████▋      | 5/6 [00:01<00:00,  2.63it/s]\u001b[A\n",
      "loop param_grid: 100%|██████████████████████████████████████| 6/6 [00:02<00:00,  2.33it/s]\u001b[A\n",
      "loop lags_grid: 100%|███████████████████████████████████████| 3/3 [00:07<00:00,  2.41s/it]\u001b[A"
     ]
    },
    {
     "name": "stdout",
     "output_type": "stream",
     "text": [
      "`Forecaster` refitted using the best-found lags and parameters, and the whole data set: \n",
      "  Lags: [1 2 3 4 5] \n",
      "  Parameters: {'max_depth': 10, 'n_estimators': 20}\n",
      "  Backtesting metric: 9.996191733262911\n",
      "  Levels: ['P1', 'P2', 'P3', 'P4'] \n",
      "  Levels weights: {'P1': 0.25, 'P2': 0.25, 'P3': 0.25, 'P4': 0.25} \n",
      "\n"
     ]
    },
    {
     "name": "stderr",
     "output_type": "stream",
     "text": [
      "\n"
     ]
    },
    {
     "data": {
      "text/html": [
       "<div>\n",
       "<style scoped>\n",
       "    .dataframe tbody tr th:only-of-type {\n",
       "        vertical-align: middle;\n",
       "    }\n",
       "\n",
       "    .dataframe tbody tr th {\n",
       "        vertical-align: top;\n",
       "    }\n",
       "\n",
       "    .dataframe thead th {\n",
       "        text-align: right;\n",
       "    }\n",
       "</style>\n",
       "<table border=\"1\" class=\"dataframe\">\n",
       "  <thead>\n",
       "    <tr style=\"text-align: right;\">\n",
       "      <th></th>\n",
       "      <th>levels</th>\n",
       "      <th>lags</th>\n",
       "      <th>params</th>\n",
       "      <th>metric</th>\n",
       "      <th>max_depth</th>\n",
       "      <th>n_estimators</th>\n",
       "    </tr>\n",
       "  </thead>\n",
       "  <tbody>\n",
       "    <tr>\n",
       "      <th>17</th>\n",
       "      <td>[P1, P2, P3, P4]</td>\n",
       "      <td>[1, 2, 3, 4, 5]</td>\n",
       "      <td>{'max_depth': 10, 'n_estimators': 20}</td>\n",
       "      <td>9.996192</td>\n",
       "      <td>10</td>\n",
       "      <td>20</td>\n",
       "    </tr>\n",
       "    <tr>\n",
       "      <th>15</th>\n",
       "      <td>[P1, P2, P3, P4]</td>\n",
       "      <td>[1, 2, 3, 4, 5]</td>\n",
       "      <td>{'max_depth': 7, 'n_estimators': 20}</td>\n",
       "      <td>10.389692</td>\n",
       "      <td>7</td>\n",
       "      <td>20</td>\n",
       "    </tr>\n",
       "    <tr>\n",
       "      <th>6</th>\n",
       "      <td>[P1, P2, P3, P4]</td>\n",
       "      <td>[1, 2, 3, 4]</td>\n",
       "      <td>{'max_depth': 5, 'n_estimators': 10}</td>\n",
       "      <td>10.432557</td>\n",
       "      <td>5</td>\n",
       "      <td>10</td>\n",
       "    </tr>\n",
       "    <tr>\n",
       "      <th>13</th>\n",
       "      <td>[P1, P2, P3, P4]</td>\n",
       "      <td>[1, 2, 3, 4, 5]</td>\n",
       "      <td>{'max_depth': 5, 'n_estimators': 20}</td>\n",
       "      <td>10.544319</td>\n",
       "      <td>5</td>\n",
       "      <td>20</td>\n",
       "    </tr>\n",
       "    <tr>\n",
       "      <th>1</th>\n",
       "      <td>[P1, P2, P3, P4]</td>\n",
       "      <td>[1, 2, 3]</td>\n",
       "      <td>{'max_depth': 5, 'n_estimators': 20}</td>\n",
       "      <td>10.726509</td>\n",
       "      <td>5</td>\n",
       "      <td>20</td>\n",
       "    </tr>\n",
       "    <tr>\n",
       "      <th>7</th>\n",
       "      <td>[P1, P2, P3, P4]</td>\n",
       "      <td>[1, 2, 3, 4]</td>\n",
       "      <td>{'max_depth': 5, 'n_estimators': 20}</td>\n",
       "      <td>10.930787</td>\n",
       "      <td>5</td>\n",
       "      <td>20</td>\n",
       "    </tr>\n",
       "    <tr>\n",
       "      <th>9</th>\n",
       "      <td>[P1, P2, P3, P4]</td>\n",
       "      <td>[1, 2, 3, 4]</td>\n",
       "      <td>{'max_depth': 7, 'n_estimators': 20}</td>\n",
       "      <td>10.948408</td>\n",
       "      <td>7</td>\n",
       "      <td>20</td>\n",
       "    </tr>\n",
       "    <tr>\n",
       "      <th>8</th>\n",
       "      <td>[P1, P2, P3, P4]</td>\n",
       "      <td>[1, 2, 3, 4]</td>\n",
       "      <td>{'max_depth': 7, 'n_estimators': 10}</td>\n",
       "      <td>11.008187</td>\n",
       "      <td>7</td>\n",
       "      <td>10</td>\n",
       "    </tr>\n",
       "    <tr>\n",
       "      <th>10</th>\n",
       "      <td>[P1, P2, P3, P4]</td>\n",
       "      <td>[1, 2, 3, 4]</td>\n",
       "      <td>{'max_depth': 10, 'n_estimators': 10}</td>\n",
       "      <td>11.063157</td>\n",
       "      <td>10</td>\n",
       "      <td>10</td>\n",
       "    </tr>\n",
       "    <tr>\n",
       "      <th>11</th>\n",
       "      <td>[P1, P2, P3, P4]</td>\n",
       "      <td>[1, 2, 3, 4]</td>\n",
       "      <td>{'max_depth': 10, 'n_estimators': 20}</td>\n",
       "      <td>11.301189</td>\n",
       "      <td>10</td>\n",
       "      <td>20</td>\n",
       "    </tr>\n",
       "    <tr>\n",
       "      <th>3</th>\n",
       "      <td>[P1, P2, P3, P4]</td>\n",
       "      <td>[1, 2, 3]</td>\n",
       "      <td>{'max_depth': 7, 'n_estimators': 20}</td>\n",
       "      <td>11.370360</td>\n",
       "      <td>7</td>\n",
       "      <td>20</td>\n",
       "    </tr>\n",
       "    <tr>\n",
       "      <th>12</th>\n",
       "      <td>[P1, P2, P3, P4]</td>\n",
       "      <td>[1, 2, 3, 4, 5]</td>\n",
       "      <td>{'max_depth': 5, 'n_estimators': 10}</td>\n",
       "      <td>11.376258</td>\n",
       "      <td>5</td>\n",
       "      <td>10</td>\n",
       "    </tr>\n",
       "    <tr>\n",
       "      <th>0</th>\n",
       "      <td>[P1, P2, P3, P4]</td>\n",
       "      <td>[1, 2, 3]</td>\n",
       "      <td>{'max_depth': 5, 'n_estimators': 10}</td>\n",
       "      <td>11.468863</td>\n",
       "      <td>5</td>\n",
       "      <td>10</td>\n",
       "    </tr>\n",
       "    <tr>\n",
       "      <th>14</th>\n",
       "      <td>[P1, P2, P3, P4]</td>\n",
       "      <td>[1, 2, 3, 4, 5]</td>\n",
       "      <td>{'max_depth': 7, 'n_estimators': 10}</td>\n",
       "      <td>11.563329</td>\n",
       "      <td>7</td>\n",
       "      <td>10</td>\n",
       "    </tr>\n",
       "    <tr>\n",
       "      <th>5</th>\n",
       "      <td>[P1, P2, P3, P4]</td>\n",
       "      <td>[1, 2, 3]</td>\n",
       "      <td>{'max_depth': 10, 'n_estimators': 20}</td>\n",
       "      <td>11.658985</td>\n",
       "      <td>10</td>\n",
       "      <td>20</td>\n",
       "    </tr>\n",
       "    <tr>\n",
       "      <th>16</th>\n",
       "      <td>[P1, P2, P3, P4]</td>\n",
       "      <td>[1, 2, 3, 4, 5]</td>\n",
       "      <td>{'max_depth': 10, 'n_estimators': 10}</td>\n",
       "      <td>11.691130</td>\n",
       "      <td>10</td>\n",
       "      <td>10</td>\n",
       "    </tr>\n",
       "    <tr>\n",
       "      <th>2</th>\n",
       "      <td>[P1, P2, P3, P4]</td>\n",
       "      <td>[1, 2, 3]</td>\n",
       "      <td>{'max_depth': 7, 'n_estimators': 10}</td>\n",
       "      <td>12.262075</td>\n",
       "      <td>7</td>\n",
       "      <td>10</td>\n",
       "    </tr>\n",
       "    <tr>\n",
       "      <th>4</th>\n",
       "      <td>[P1, P2, P3, P4]</td>\n",
       "      <td>[1, 2, 3]</td>\n",
       "      <td>{'max_depth': 10, 'n_estimators': 10}</td>\n",
       "      <td>12.946032</td>\n",
       "      <td>10</td>\n",
       "      <td>10</td>\n",
       "    </tr>\n",
       "  </tbody>\n",
       "</table>\n",
       "</div>"
      ],
      "text/plain": [
       "              levels             lags                                 params  \\\n",
       "17  [P1, P2, P3, P4]  [1, 2, 3, 4, 5]  {'max_depth': 10, 'n_estimators': 20}   \n",
       "15  [P1, P2, P3, P4]  [1, 2, 3, 4, 5]   {'max_depth': 7, 'n_estimators': 20}   \n",
       "6   [P1, P2, P3, P4]     [1, 2, 3, 4]   {'max_depth': 5, 'n_estimators': 10}   \n",
       "13  [P1, P2, P3, P4]  [1, 2, 3, 4, 5]   {'max_depth': 5, 'n_estimators': 20}   \n",
       "1   [P1, P2, P3, P4]        [1, 2, 3]   {'max_depth': 5, 'n_estimators': 20}   \n",
       "7   [P1, P2, P3, P4]     [1, 2, 3, 4]   {'max_depth': 5, 'n_estimators': 20}   \n",
       "9   [P1, P2, P3, P4]     [1, 2, 3, 4]   {'max_depth': 7, 'n_estimators': 20}   \n",
       "8   [P1, P2, P3, P4]     [1, 2, 3, 4]   {'max_depth': 7, 'n_estimators': 10}   \n",
       "10  [P1, P2, P3, P4]     [1, 2, 3, 4]  {'max_depth': 10, 'n_estimators': 10}   \n",
       "11  [P1, P2, P3, P4]     [1, 2, 3, 4]  {'max_depth': 10, 'n_estimators': 20}   \n",
       "3   [P1, P2, P3, P4]        [1, 2, 3]   {'max_depth': 7, 'n_estimators': 20}   \n",
       "12  [P1, P2, P3, P4]  [1, 2, 3, 4, 5]   {'max_depth': 5, 'n_estimators': 10}   \n",
       "0   [P1, P2, P3, P4]        [1, 2, 3]   {'max_depth': 5, 'n_estimators': 10}   \n",
       "14  [P1, P2, P3, P4]  [1, 2, 3, 4, 5]   {'max_depth': 7, 'n_estimators': 10}   \n",
       "5   [P1, P2, P3, P4]        [1, 2, 3]  {'max_depth': 10, 'n_estimators': 20}   \n",
       "16  [P1, P2, P3, P4]  [1, 2, 3, 4, 5]  {'max_depth': 10, 'n_estimators': 10}   \n",
       "2   [P1, P2, P3, P4]        [1, 2, 3]   {'max_depth': 7, 'n_estimators': 10}   \n",
       "4   [P1, P2, P3, P4]        [1, 2, 3]  {'max_depth': 10, 'n_estimators': 10}   \n",
       "\n",
       "       metric  max_depth  n_estimators  \n",
       "17   9.996192         10            20  \n",
       "15  10.389692          7            20  \n",
       "6   10.432557          5            10  \n",
       "13  10.544319          5            20  \n",
       "1   10.726509          5            20  \n",
       "7   10.930787          5            20  \n",
       "9   10.948408          7            20  \n",
       "8   11.008187          7            10  \n",
       "10  11.063157         10            10  \n",
       "11  11.301189         10            20  \n",
       "3   11.370360          7            20  \n",
       "12  11.376258          5            10  \n",
       "0   11.468863          5            10  \n",
       "14  11.563329          7            10  \n",
       "5   11.658985         10            20  \n",
       "16  11.691130         10            10  \n",
       "2   12.262075          7            10  \n",
       "4   12.946032         10            10  "
      ]
     },
     "execution_count": 85,
     "metadata": {},
     "output_type": "execute_result"
    }
   ],
   "source": [
    "# Lags used as predictors\n",
    "lags_grid = [3, 4, 5]\n",
    "\n",
    "# Regressor hyperparameters\n",
    "param_grid = {'n_estimators': [10, 20],\n",
    "              'max_depth': [5, 7, 10]}\n",
    "\n",
    "param_grid = list(ParameterGrid(param_grid))\n",
    "\n",
    "results_grid = _evaluate_grid_hyperparameters_multiseries(\n",
    "                        forecaster  = forecaster,\n",
    "                        series      = data[items],\n",
    "                        param_grid  = param_grid,\n",
    "                        lags_grid   = lags_grid,\n",
    "                        steps       = 3,\n",
    "                        levels_list = None,\n",
    "                        refit       = True,\n",
    "                        metric      = 'mean_squared_error',\n",
    "                        initial_train_size = len(data['P1'].loc[:end_train]),\n",
    "                        fixed_train_size   = False,\n",
    "                        exog        = data['Week'],\n",
    "                        return_best = True,\n",
    "                        verbose     = False\n",
    "               )\n",
    "\n",
    "results_grid"
   ]
  },
  {
   "cell_type": "code",
   "execution_count": 87,
   "id": "b7434999",
   "metadata": {
    "ExecuteTime": {
     "end_time": "2022-06-08T16:11:28.147622Z",
     "start_time": "2022-06-08T16:11:27.817151Z"
    }
   },
   "outputs": [
    {
     "data": {
      "image/png": "[encoded data removed]",
      "text/plain": [
       "<Figure size 648x288 with 1 Axes>"
      ]
     },
     "metadata": {
      "needs_background": "light"
     },
     "output_type": "display_data"
    }
   ],
   "source": [
    "# Predict\n",
    "# ==============================================================================\n",
    "forecaster.fit(series=data.loc[:end_train, items], exog=data.loc[:end_train, 'Week'])\n",
    "predictions = forecaster.predict(steps=len(data.loc[end_train:]),\n",
    "                                 level='P1',\n",
    "                                 exog=data.loc[end_train:, 'Week'])\n",
    "predictions.head(3)\n",
    "\n",
    "# Plot predictions\n",
    "# ==============================================================================\n",
    "fig, ax=plt.subplots(figsize=(9, 4))\n",
    "data.loc[:end_train, items].plot(ax=ax, label='train')\n",
    "data.loc[end_train:, 'P1'].plot(ax=ax, label='test')\n",
    "predictions.plot(ax=ax, label='predictions')\n",
    "ax.legend();"
   ]
  },
  {
   "cell_type": "markdown",
   "id": "e1c080c0",
   "metadata": {},
   "source": [
    "## Example AirQuality"
   ]
  },
  {
   "cell_type": "markdown",
   "id": "26e687f7",
   "metadata": {},
   "source": [
    "Web con muchos datasets:\n",
    "https://archive.ics.uci.edu/ml/datasets.php?format=&task=&att=&area=&numAtt=&numIns=&type=ts&sort=taskUp&view=table\n",
    "\n",
    "Dataset:\n",
    "https://archive.ics.uci.edu/ml/datasets/Beijing+Multi-Site+Air-Quality+Data"
   ]
  },
  {
   "cell_type": "code",
   "execution_count": 1,
   "id": "39fe9556",
   "metadata": {
    "ExecuteTime": {
     "end_time": "2022-06-09T12:17:18.736859Z",
     "start_time": "2022-06-09T12:17:18.693758Z"
    }
   },
   "outputs": [],
   "source": [
    "%load_ext autoreload\n",
    "%autoreload 2\n",
    "import sys\n",
    "from pathlib import Path\n",
    "sys.path.insert(1, str(Path.cwd().parent.parent))\n",
    "%config Completer.use_jedi = False"
   ]
  },
  {
   "cell_type": "code",
   "execution_count": 2,
   "id": "5728aadb",
   "metadata": {
    "ExecuteTime": {
     "end_time": "2022-06-09T12:17:21.986636Z",
     "start_time": "2022-06-09T12:17:19.206340Z"
    }
   },
   "outputs": [],
   "source": [
    "import numpy as np\n",
    "import pandas as pd\n",
    "import matplotlib.pyplot as plt\n",
    "\n",
    "from skforecast.ForecasterAutoreg import ForecasterAutoreg\n",
    "from skforecast.ForecasterAutoregMultiSeries import ForecasterAutoregMultiSeries\n",
    "from skforecast.model_selection import backtesting_forecaster\n",
    "from skforecast.model_selection import grid_search_forecaster\n",
    "from skforecast.model_selection_multiseries import backtesting_forecaster_multiseries\n",
    "from skforecast.model_selection_multiseries.model_selection_multiseries import _evaluate_grid_hyperparameters_multiseries\n",
    "\n",
    "from sklearn.model_selection import ParameterGrid\n",
    "from sklearn.linear_model import LinearRegression\n",
    "from sklearn.ensemble import RandomForestRegressor\n",
    "from sklearn.metrics import mean_squared_error"
   ]
  },
  {
   "cell_type": "code",
   "execution_count": 21,
   "id": "f260bb3d",
   "metadata": {
    "ExecuteTime": {
     "end_time": "2022-06-09T12:24:58.629819Z",
     "start_time": "2022-06-09T12:24:58.471346Z"
    },
    "scrolled": true
   },
   "outputs": [
    {
     "data": {
      "text/html": [
       "<div>\n",
       "<style scoped>\n",
       "    .dataframe tbody tr th:only-of-type {\n",
       "        vertical-align: middle;\n",
       "    }\n",
       "\n",
       "    .dataframe tbody tr th {\n",
       "        vertical-align: top;\n",
       "    }\n",
       "\n",
       "    .dataframe thead th {\n",
       "        text-align: right;\n",
       "    }\n",
       "</style>\n",
       "<table border=\"1\" class=\"dataframe\">\n",
       "  <thead>\n",
       "    <tr style=\"text-align: right;\">\n",
       "      <th></th>\n",
       "      <th>PM2.5</th>\n",
       "      <th>PM10</th>\n",
       "      <th>SO2</th>\n",
       "      <th>NO2</th>\n",
       "      <th>CO</th>\n",
       "      <th>O3</th>\n",
       "      <th>TEMP</th>\n",
       "      <th>PRES</th>\n",
       "      <th>DEWP</th>\n",
       "      <th>RAIN</th>\n",
       "      <th>WSPM</th>\n",
       "      <th>month</th>\n",
       "    </tr>\n",
       "    <tr>\n",
       "      <th>date</th>\n",
       "      <th></th>\n",
       "      <th></th>\n",
       "      <th></th>\n",
       "      <th></th>\n",
       "      <th></th>\n",
       "      <th></th>\n",
       "      <th></th>\n",
       "      <th></th>\n",
       "      <th></th>\n",
       "      <th></th>\n",
       "      <th></th>\n",
       "      <th></th>\n",
       "    </tr>\n",
       "  </thead>\n",
       "  <tbody>\n",
       "    <tr>\n",
       "      <th>2013-03-01</th>\n",
       "      <td>181.0</td>\n",
       "      <td>280.0</td>\n",
       "      <td>204.0</td>\n",
       "      <td>684.0</td>\n",
       "      <td>9600.0</td>\n",
       "      <td>1516.0</td>\n",
       "      <td>1.391667</td>\n",
       "      <td>1026.875000</td>\n",
       "      <td>-18.745833</td>\n",
       "      <td>0.0</td>\n",
       "      <td>3.254167</td>\n",
       "      <td>3</td>\n",
       "    </tr>\n",
       "    <tr>\n",
       "      <th>2013-03-02</th>\n",
       "      <td>633.0</td>\n",
       "      <td>837.0</td>\n",
       "      <td>674.0</td>\n",
       "      <td>1495.0</td>\n",
       "      <td>20198.0</td>\n",
       "      <td>844.0</td>\n",
       "      <td>0.616667</td>\n",
       "      <td>1026.850000</td>\n",
       "      <td>-15.937500</td>\n",
       "      <td>0.0</td>\n",
       "      <td>1.479167</td>\n",
       "      <td>3</td>\n",
       "    </tr>\n",
       "    <tr>\n",
       "      <th>2013-03-03</th>\n",
       "      <td>1956.0</td>\n",
       "      <td>2858.0</td>\n",
       "      <td>1661.0</td>\n",
       "      <td>2315.0</td>\n",
       "      <td>47195.0</td>\n",
       "      <td>396.0</td>\n",
       "      <td>5.566667</td>\n",
       "      <td>1014.608333</td>\n",
       "      <td>-12.316667</td>\n",
       "      <td>0.0</td>\n",
       "      <td>1.658333</td>\n",
       "      <td>3</td>\n",
       "    </tr>\n",
       "    <tr>\n",
       "      <th>2013-03-04</th>\n",
       "      <td>438.0</td>\n",
       "      <td>1007.0</td>\n",
       "      <td>485.0</td>\n",
       "      <td>1232.0</td>\n",
       "      <td>15000.0</td>\n",
       "      <td>1308.0</td>\n",
       "      <td>9.962500</td>\n",
       "      <td>1017.650000</td>\n",
       "      <td>-11.683333</td>\n",
       "      <td>0.0</td>\n",
       "      <td>2.404167</td>\n",
       "      <td>3</td>\n",
       "    </tr>\n",
       "    <tr>\n",
       "      <th>2013-03-05</th>\n",
       "      <td>3388.0</td>\n",
       "      <td>3929.0</td>\n",
       "      <td>2001.0</td>\n",
       "      <td>3234.0</td>\n",
       "      <td>59594.0</td>\n",
       "      <td>1891.0</td>\n",
       "      <td>6.291667</td>\n",
       "      <td>1010.900000</td>\n",
       "      <td>-7.525000</td>\n",
       "      <td>0.0</td>\n",
       "      <td>1.129167</td>\n",
       "      <td>3</td>\n",
       "    </tr>\n",
       "    <tr>\n",
       "      <th>...</th>\n",
       "      <td>...</td>\n",
       "      <td>...</td>\n",
       "      <td>...</td>\n",
       "      <td>...</td>\n",
       "      <td>...</td>\n",
       "      <td>...</td>\n",
       "      <td>...</td>\n",
       "      <td>...</td>\n",
       "      <td>...</td>\n",
       "      <td>...</td>\n",
       "      <td>...</td>\n",
       "      <td>...</td>\n",
       "    </tr>\n",
       "    <tr>\n",
       "      <th>2017-02-24</th>\n",
       "      <td>719.0</td>\n",
       "      <td>1031.0</td>\n",
       "      <td>206.0</td>\n",
       "      <td>1278.0</td>\n",
       "      <td>17500.0</td>\n",
       "      <td>812.0</td>\n",
       "      <td>5.166667</td>\n",
       "      <td>1021.012500</td>\n",
       "      <td>-11.141667</td>\n",
       "      <td>0.0</td>\n",
       "      <td>1.595833</td>\n",
       "      <td>2</td>\n",
       "    </tr>\n",
       "    <tr>\n",
       "      <th>2017-02-25</th>\n",
       "      <td>236.0</td>\n",
       "      <td>471.0</td>\n",
       "      <td>89.0</td>\n",
       "      <td>799.0</td>\n",
       "      <td>9600.0</td>\n",
       "      <td>1277.0</td>\n",
       "      <td>7.245833</td>\n",
       "      <td>1018.812500</td>\n",
       "      <td>-10.754167</td>\n",
       "      <td>0.0</td>\n",
       "      <td>1.825000</td>\n",
       "      <td>2</td>\n",
       "    </tr>\n",
       "    <tr>\n",
       "      <th>2017-02-26</th>\n",
       "      <td>681.0</td>\n",
       "      <td>1092.0</td>\n",
       "      <td>264.0</td>\n",
       "      <td>1514.0</td>\n",
       "      <td>18700.0</td>\n",
       "      <td>707.0</td>\n",
       "      <td>7.208333</td>\n",
       "      <td>1020.337500</td>\n",
       "      <td>-8.258333</td>\n",
       "      <td>0.0</td>\n",
       "      <td>1.566667</td>\n",
       "      <td>2</td>\n",
       "    </tr>\n",
       "    <tr>\n",
       "      <th>2017-02-27</th>\n",
       "      <td>1805.0</td>\n",
       "      <td>2293.0</td>\n",
       "      <td>451.0</td>\n",
       "      <td>1850.0</td>\n",
       "      <td>29700.0</td>\n",
       "      <td>774.0</td>\n",
       "      <td>8.337500</td>\n",
       "      <td>1017.141667</td>\n",
       "      <td>-7.145833</td>\n",
       "      <td>0.0</td>\n",
       "      <td>1.516667</td>\n",
       "      <td>2</td>\n",
       "    </tr>\n",
       "    <tr>\n",
       "      <th>2017-02-28</th>\n",
       "      <td>702.0</td>\n",
       "      <td>1095.0</td>\n",
       "      <td>162.0</td>\n",
       "      <td>913.0</td>\n",
       "      <td>13200.0</td>\n",
       "      <td>1602.0</td>\n",
       "      <td>10.958333</td>\n",
       "      <td>1014.887500</td>\n",
       "      <td>-12.783333</td>\n",
       "      <td>0.0</td>\n",
       "      <td>2.058333</td>\n",
       "      <td>2</td>\n",
       "    </tr>\n",
       "  </tbody>\n",
       "</table>\n",
       "<p>1461 rows × 12 columns</p>\n",
       "</div>"
      ],
      "text/plain": [
       "             PM2.5    PM10     SO2     NO2       CO      O3       TEMP  \\\n",
       "date                                                                     \n",
       "2013-03-01   181.0   280.0   204.0   684.0   9600.0  1516.0   1.391667   \n",
       "2013-03-02   633.0   837.0   674.0  1495.0  20198.0   844.0   0.616667   \n",
       "2013-03-03  1956.0  2858.0  1661.0  2315.0  47195.0   396.0   5.566667   \n",
       "2013-03-04   438.0  1007.0   485.0  1232.0  15000.0  1308.0   9.962500   \n",
       "2013-03-05  3388.0  3929.0  2001.0  3234.0  59594.0  1891.0   6.291667   \n",
       "...            ...     ...     ...     ...      ...     ...        ...   \n",
       "2017-02-24   719.0  1031.0   206.0  1278.0  17500.0   812.0   5.166667   \n",
       "2017-02-25   236.0   471.0    89.0   799.0   9600.0  1277.0   7.245833   \n",
       "2017-02-26   681.0  1092.0   264.0  1514.0  18700.0   707.0   7.208333   \n",
       "2017-02-27  1805.0  2293.0   451.0  1850.0  29700.0   774.0   8.337500   \n",
       "2017-02-28   702.0  1095.0   162.0   913.0  13200.0  1602.0  10.958333   \n",
       "\n",
       "                   PRES       DEWP  RAIN      WSPM  month  \n",
       "date                                                       \n",
       "2013-03-01  1026.875000 -18.745833   0.0  3.254167      3  \n",
       "2013-03-02  1026.850000 -15.937500   0.0  1.479167      3  \n",
       "2013-03-03  1014.608333 -12.316667   0.0  1.658333      3  \n",
       "2013-03-04  1017.650000 -11.683333   0.0  2.404167      3  \n",
       "2013-03-05  1010.900000  -7.525000   0.0  1.129167      3  \n",
       "...                 ...        ...   ...       ...    ...  \n",
       "2017-02-24  1021.012500 -11.141667   0.0  1.595833      2  \n",
       "2017-02-25  1018.812500 -10.754167   0.0  1.825000      2  \n",
       "2017-02-26  1020.337500  -8.258333   0.0  1.566667      2  \n",
       "2017-02-27  1017.141667  -7.145833   0.0  1.516667      2  \n",
       "2017-02-28  1014.887500 -12.783333   0.0  2.058333      2  \n",
       "\n",
       "[1461 rows x 12 columns]"
      ]
     },
     "execution_count": 21,
     "metadata": {},
     "output_type": "execute_result"
    }
   ],
   "source": [
    "data = pd.read_csv(r'C:\\Users\\jaesc2\\Downloads\\PRSA_Data_Guanyuan_20130301-20170228.csv')\n",
    "data['date'] = pd.to_datetime(data[[\"year\", \"month\", \"day\", 'hour']])\n",
    "data = data.drop(columns=['No', 'station', \"year\", 'month', \"day\", 'hour', 'wd'])\n",
    "data = data.fillna(method='ffill')\n",
    "data = data.set_index('date')\n",
    "data = data.asfreq('1H')\n",
    "data = data.sort_index()\n",
    "data = data.resample(rule='D', closed='left', label ='left').agg({\n",
    "            'PM2.5':'sum','PM10':'sum','SO2':'sum',\n",
    "            'NO2':'sum','CO':'sum','O3':'sum',\n",
    "            'TEMP':'mean','PRES':'mean','DEWP':'mean',\n",
    "            'RAIN': 'mean', 'WSPM': 'mean'\n",
    "             })\n",
    "\n",
    "data['month'] = data.index.month\n",
    "data"
   ]
  },
  {
   "cell_type": "code",
   "execution_count": 32,
   "id": "7fa83970",
   "metadata": {
    "ExecuteTime": {
     "end_time": "2022-06-09T12:51:54.917619Z",
     "start_time": "2022-06-09T12:51:54.645871Z"
    }
   },
   "outputs": [
    {
     "name": "stdout",
     "output_type": "stream",
     "text": [
      "Train dates : 2013-03-01 00:00:00 --- 2016-05-31 00:00:00  (n=1188)\n",
      "Test dates  : 2016-06-01 00:00:00 --- 2017-02-28 00:00:00  (n=273)\n",
      "% test: 0.2297979797979798\n"
     ]
    },
    {
     "data": {
      "image/png": "[encoded data removed]",
      "text/plain": [
       "<Figure size 1296x288 with 1 Axes>"
      ]
     },
     "metadata": {
      "needs_background": "light"
     },
     "output_type": "display_data"
    }
   ],
   "source": [
    "# Train-test dates\n",
    "# ==============================================================================\n",
    "level = 'NO2'\n",
    "\n",
    "end_train = '2016-05-31 23:59:00'\n",
    "\n",
    "print(f\"Train dates : {data.index.min()} --- {data.loc[:end_train].index.max()}  (n={len(data.loc[:end_train])})\")\n",
    "print(f\"Test dates  : {data.loc[end_train:].index.min()} --- {data.index.max()}  (n={len(data.loc[end_train:])})\")\n",
    "print(f'% test: {len(data.loc[end_train:])/len(data.loc[:end_train])}')\n",
    "\n",
    "# Plot\n",
    "# ==============================================================================\n",
    "fig, ax=plt.subplots(figsize=(18, 4))\n",
    "data[level].loc[:end_train].plot(ax=ax, label='train')\n",
    "data[level].loc[end_train:].plot(ax=ax, label='test')\n",
    "ax.legend();"
   ]
  },
  {
   "cell_type": "markdown",
   "id": "19e424ee",
   "metadata": {
    "ExecuteTime": {
     "end_time": "2022-06-09T09:32:40.120419Z",
     "start_time": "2022-06-09T09:32:40.015656Z"
    }
   },
   "source": [
    "### ForecasterAutoreg TEMP"
   ]
  },
  {
   "cell_type": "code",
   "execution_count": 16,
   "id": "d92a8ad4",
   "metadata": {
    "ExecuteTime": {
     "end_time": "2022-06-09T12:23:54.102613Z",
     "start_time": "2022-06-09T12:23:53.430859Z"
    }
   },
   "outputs": [
    {
     "data": {
      "text/plain": [
       "================= \n",
       "ForecasterAutoreg \n",
       "================= \n",
       "Regressor: RandomForestRegressor(n_estimators=300, n_jobs=-1, random_state=123) \n",
       "Lags: [ 1  2  3  4  5  6  7  8  9 10 11 12 13 14] \n",
       "Window size: 14 \n",
       "Included exogenous: False \n",
       "Type of exogenous variable: None \n",
       "Exogenous variables names: None \n",
       "Training range: [Timestamp('2013-03-01 00:00:00'), Timestamp('2016-05-31 00:00:00')] \n",
       "Training index type: DatetimeIndex \n",
       "Training index frequency: D \n",
       "Regressor parameters: {'bootstrap': True, 'ccp_alpha': 0.0, 'criterion': 'squared_error', 'max_depth': None, 'max_features': 1.0, 'max_leaf_nodes': None, 'max_samples': None, 'min_impurity_decrease': 0.0, 'min_samples_leaf': 1, 'min_samples_split': 2, 'min_weight_fraction_leaf': 0.0, 'n_estimators': 300, 'n_jobs': -1, 'oob_score': False, 'random_state': 123, 'verbose': 0, 'warm_start': False} \n",
       "Creation date: 2022-06-09 14:23:53 \n",
       "Last fit date: 2022-06-09 14:23:54 \n",
       "Skforecast version: 0.5.dev1 "
      ]
     },
     "execution_count": 16,
     "metadata": {},
     "output_type": "execute_result"
    }
   ],
   "source": [
    "# Create and fit Recursive multi-step forecaster (ForecasterAutoreg)\n",
    "# ==============================================================================\n",
    "forecaster = ForecasterAutoreg(\n",
    "                    regressor = RandomForestRegressor(n_estimators=500, max_depth=5, random_state=123, n_jobs=-1),\n",
    "                    lags      = 7\n",
    "             )\n",
    "\n",
    "forecaster.fit(y=data.loc[:end_train, level], exog=data.loc[:end_train, 'CO', 'month'])\n",
    "forecaster"
   ]
  },
  {
   "cell_type": "code",
   "execution_count": 19,
   "id": "988e0fa2",
   "metadata": {
    "ExecuteTime": {
     "end_time": "2022-06-09T12:24:19.054863Z",
     "start_time": "2022-06-09T12:24:18.639330Z"
    }
   },
   "outputs": [
    {
     "data": {
      "image/png": "[encoded data removed]",
      "text/plain": [
       "<Figure size 648x288 with 1 Axes>"
      ]
     },
     "metadata": {
      "needs_background": "light"
     },
     "output_type": "display_data"
    }
   ],
   "source": [
    "# Predict\n",
    "# ==============================================================================\n",
    "predictions = forecaster.predict(steps=7)\n",
    "predictions.head(3)\n",
    "\n",
    "# Plot predictions\n",
    "# ==============================================================================\n",
    "fig, ax=plt.subplots(figsize=(9, 4))\n",
    "data[level].loc[predictions.index].plot(ax=ax, label='test')\n",
    "predictions.plot(ax=ax, label='predictions')\n",
    "ax.legend();"
   ]
  },
  {
   "cell_type": "code",
   "execution_count": 24,
   "id": "2c25bbec",
   "metadata": {
    "ExecuteTime": {
     "end_time": "2022-06-09T12:25:51.179363Z",
     "start_time": "2022-06-09T12:25:51.095060Z"
    }
   },
   "outputs": [
    {
     "ename": "TypeError",
     "evalue": "can only concatenate str (not \"int\") to str",
     "output_type": "error",
     "traceback": [
      "\u001b[1;31m---------------------------------------------------------------------------\u001b[0m",
      "\u001b[1;31mTypeError\u001b[0m                                 Traceback (most recent call last)",
      "Input \u001b[1;32mIn [24]\u001b[0m, in \u001b[0;36m<cell line: 3>\u001b[1;34m()\u001b[0m\n\u001b[0;32m      1\u001b[0m \u001b[38;5;66;03m# Prediction error\u001b[39;00m\n\u001b[0;32m      2\u001b[0m \u001b[38;5;66;03m# ==============================================================================\u001b[39;00m\n\u001b[0;32m      3\u001b[0m error_mse \u001b[38;5;241m=\u001b[39m mean_squared_error(\n\u001b[1;32m----> 4\u001b[0m                 y_true \u001b[38;5;241m=\u001b[39m data[level]\u001b[38;5;241m.\u001b[39mloc[end_train:\u001b[43mend_train\u001b[49m\u001b[38;5;241;43m+\u001b[39;49m\u001b[38;5;241;43m8\u001b[39;49m],\n\u001b[0;32m      5\u001b[0m                 y_pred \u001b[38;5;241m=\u001b[39m predictions\n\u001b[0;32m      6\u001b[0m             )\n\u001b[0;32m      7\u001b[0m \u001b[38;5;28mprint\u001b[39m(\u001b[38;5;124mf\u001b[39m\u001b[38;5;124m\"\u001b[39m\u001b[38;5;124mTest error (mse): \u001b[39m\u001b[38;5;132;01m{\u001b[39;00merror_mse\u001b[38;5;132;01m}\u001b[39;00m\u001b[38;5;124m\"\u001b[39m)\n",
      "\u001b[1;31mTypeError\u001b[0m: can only concatenate str (not \"int\") to str"
     ]
    }
   ],
   "source": [
    "# Prediction error\n",
    "# ==============================================================================\n",
    "error_mse = mean_squared_error(\n",
    "                y_true = data[level].loc[end_train:],\n",
    "                y_pred = predictions\n",
    "            )\n",
    "print(f\"Test error (mse): {error_mse}\")"
   ]
  },
  {
   "cell_type": "code",
   "execution_count": 26,
   "id": "a81adabe",
   "metadata": {
    "ExecuteTime": {
     "end_time": "2022-06-09T12:27:44.578685Z",
     "start_time": "2022-06-09T12:26:44.607443Z"
    }
   },
   "outputs": [
    {
     "name": "stdout",
     "output_type": "stream",
     "text": [
      "Forecaster will be fit 91 times. This can take substantial amounts of time. If not feasible, try with `refit = False`. \n",
      "\n",
      "Backtest error: 5.955522906781658\n"
     ]
    }
   ],
   "source": [
    "# Backtesting\n",
    "# ==============================================================================\n",
    "metric, predictions_backtest = backtesting_forecaster(\n",
    "                                    forecaster = forecaster,\n",
    "                                    y          = data[level],\n",
    "                                    initial_train_size = len(data[level].loc[:end_train]),\n",
    "                                    fixed_train_size   = False,\n",
    "                                    steps      = 3,\n",
    "                                    metric     = 'mean_squared_error',\n",
    "                                    refit      = True,\n",
    "                                    verbose    = False\n",
    "                               )\n",
    "\n",
    "print(f\"Backtest error: {metric}\")"
   ]
  },
  {
   "cell_type": "code",
   "execution_count": 28,
   "id": "37879396",
   "metadata": {
    "ExecuteTime": {
     "end_time": "2022-06-09T12:28:17.061902Z",
     "start_time": "2022-06-09T12:28:16.796285Z"
    }
   },
   "outputs": [
    {
     "data": {
      "image/png": "[encoded data removed]",
      "text/plain": [
       "<Figure size 792x288 with 1 Axes>"
      ]
     },
     "metadata": {
      "needs_background": "light"
     },
     "output_type": "display_data"
    }
   ],
   "source": [
    "# Gráfico estatico predicciones test\n",
    "# ==============================================================================\n",
    "fig, ax = plt.subplots(figsize=(11, 4))\n",
    "data[level].loc[end_train:].plot(ax=ax, label='test')\n",
    "predictions_backtest['pred'].plot(ax=ax, label='pred')\n",
    "ax.legend();"
   ]
  },
  {
   "cell_type": "code",
   "execution_count": 30,
   "id": "67c6717c",
   "metadata": {
    "ExecuteTime": {
     "end_time": "2022-06-09T12:36:03.744221Z",
     "start_time": "2022-06-09T12:31:28.134168Z"
    }
   },
   "outputs": [
    {
     "name": "stdout",
     "output_type": "stream",
     "text": [
      "Number of models compared: 8.\n"
     ]
    },
    {
     "name": "stderr",
     "output_type": "stream",
     "text": [
      "loop lags_grid:   0%|                                               | 0/2 [00:00<?, ?it/s]\n",
      "loop param_grid:   0%|                                              | 0/4 [00:00<?, ?it/s]\u001b[A\n",
      "loop param_grid:  25%|█████████▌                            | 1/4 [00:26<01:19, 26.61s/it]\u001b[A\n",
      "loop param_grid:  50%|███████████████████                   | 2/4 [01:06<01:09, 34.67s/it]\u001b[A\n",
      "loop param_grid:  75%|████████████████████████████▌         | 3/4 [01:34<00:31, 31.56s/it]\u001b[A\n",
      "loop param_grid: 100%|██████████████████████████████████████| 4/4 [02:20<00:00, 37.11s/it]\u001b[A\n",
      "loop lags_grid:  50%|███████████████████                   | 1/2 [02:20<02:20, 140.40s/it]\u001b[A\n",
      "loop param_grid:   0%|                                              | 0/4 [00:00<?, ?it/s]\u001b[A\n",
      "loop param_grid:  25%|█████████▌                            | 1/4 [00:26<01:19, 26.54s/it]\u001b[A\n",
      "loop param_grid:  50%|███████████████████                   | 2/4 [01:08<01:10, 35.43s/it]\u001b[A\n",
      "loop param_grid:  75%|████████████████████████████▌         | 3/4 [01:34<00:31, 31.23s/it]\u001b[A\n",
      "loop param_grid: 100%|██████████████████████████████████████| 4/4 [02:15<00:00, 34.96s/it]\u001b[A\n",
      "loop lags_grid: 100%|██████████████████████████████████████| 2/2 [04:35<00:00, 137.76s/it]\u001b[A\n"
     ]
    },
    {
     "data": {
      "text/html": [
       "<div>\n",
       "<style scoped>\n",
       "    .dataframe tbody tr th:only-of-type {\n",
       "        vertical-align: middle;\n",
       "    }\n",
       "\n",
       "    .dataframe tbody tr th {\n",
       "        vertical-align: top;\n",
       "    }\n",
       "\n",
       "    .dataframe thead th {\n",
       "        text-align: right;\n",
       "    }\n",
       "</style>\n",
       "<table border=\"1\" class=\"dataframe\">\n",
       "  <thead>\n",
       "    <tr style=\"text-align: right;\">\n",
       "      <th></th>\n",
       "      <th>lags</th>\n",
       "      <th>params</th>\n",
       "      <th>metric</th>\n",
       "      <th>max_depth</th>\n",
       "      <th>n_estimators</th>\n",
       "    </tr>\n",
       "  </thead>\n",
       "  <tbody>\n",
       "    <tr>\n",
       "      <th>1</th>\n",
       "      <td>[1, 2, 3, 4, 5, 6, 7]</td>\n",
       "      <td>{'max_depth': 5, 'n_estimators': 500}</td>\n",
       "      <td>8.702637</td>\n",
       "      <td>5</td>\n",
       "      <td>500</td>\n",
       "    </tr>\n",
       "    <tr>\n",
       "      <th>5</th>\n",
       "      <td>[1, 2, 3, 4, 5, 6, 7, 8, 9, 10, 11, 12, 13, 14]</td>\n",
       "      <td>{'max_depth': 5, 'n_estimators': 500}</td>\n",
       "      <td>8.714303</td>\n",
       "      <td>5</td>\n",
       "      <td>500</td>\n",
       "    </tr>\n",
       "    <tr>\n",
       "      <th>0</th>\n",
       "      <td>[1, 2, 3, 4, 5, 6, 7]</td>\n",
       "      <td>{'max_depth': 5, 'n_estimators': 300}</td>\n",
       "      <td>8.735642</td>\n",
       "      <td>5</td>\n",
       "      <td>300</td>\n",
       "    </tr>\n",
       "    <tr>\n",
       "      <th>3</th>\n",
       "      <td>[1, 2, 3, 4, 5, 6, 7]</td>\n",
       "      <td>{'max_depth': 10, 'n_estimators': 500}</td>\n",
       "      <td>8.784227</td>\n",
       "      <td>10</td>\n",
       "      <td>500</td>\n",
       "    </tr>\n",
       "    <tr>\n",
       "      <th>4</th>\n",
       "      <td>[1, 2, 3, 4, 5, 6, 7, 8, 9, 10, 11, 12, 13, 14]</td>\n",
       "      <td>{'max_depth': 5, 'n_estimators': 300}</td>\n",
       "      <td>8.787482</td>\n",
       "      <td>5</td>\n",
       "      <td>300</td>\n",
       "    </tr>\n",
       "    <tr>\n",
       "      <th>2</th>\n",
       "      <td>[1, 2, 3, 4, 5, 6, 7]</td>\n",
       "      <td>{'max_depth': 10, 'n_estimators': 300}</td>\n",
       "      <td>8.831389</td>\n",
       "      <td>10</td>\n",
       "      <td>300</td>\n",
       "    </tr>\n",
       "    <tr>\n",
       "      <th>7</th>\n",
       "      <td>[1, 2, 3, 4, 5, 6, 7, 8, 9, 10, 11, 12, 13, 14]</td>\n",
       "      <td>{'max_depth': 10, 'n_estimators': 500}</td>\n",
       "      <td>8.975597</td>\n",
       "      <td>10</td>\n",
       "      <td>500</td>\n",
       "    </tr>\n",
       "    <tr>\n",
       "      <th>6</th>\n",
       "      <td>[1, 2, 3, 4, 5, 6, 7, 8, 9, 10, 11, 12, 13, 14]</td>\n",
       "      <td>{'max_depth': 10, 'n_estimators': 300}</td>\n",
       "      <td>9.049124</td>\n",
       "      <td>10</td>\n",
       "      <td>300</td>\n",
       "    </tr>\n",
       "  </tbody>\n",
       "</table>\n",
       "</div>"
      ],
      "text/plain": [
       "                                              lags  \\\n",
       "1                            [1, 2, 3, 4, 5, 6, 7]   \n",
       "5  [1, 2, 3, 4, 5, 6, 7, 8, 9, 10, 11, 12, 13, 14]   \n",
       "0                            [1, 2, 3, 4, 5, 6, 7]   \n",
       "3                            [1, 2, 3, 4, 5, 6, 7]   \n",
       "4  [1, 2, 3, 4, 5, 6, 7, 8, 9, 10, 11, 12, 13, 14]   \n",
       "2                            [1, 2, 3, 4, 5, 6, 7]   \n",
       "7  [1, 2, 3, 4, 5, 6, 7, 8, 9, 10, 11, 12, 13, 14]   \n",
       "6  [1, 2, 3, 4, 5, 6, 7, 8, 9, 10, 11, 12, 13, 14]   \n",
       "\n",
       "                                   params    metric  max_depth  n_estimators  \n",
       "1   {'max_depth': 5, 'n_estimators': 500}  8.702637          5           500  \n",
       "5   {'max_depth': 5, 'n_estimators': 500}  8.714303          5           500  \n",
       "0   {'max_depth': 5, 'n_estimators': 300}  8.735642          5           300  \n",
       "3  {'max_depth': 10, 'n_estimators': 500}  8.784227         10           500  \n",
       "4   {'max_depth': 5, 'n_estimators': 300}  8.787482          5           300  \n",
       "2  {'max_depth': 10, 'n_estimators': 300}  8.831389         10           300  \n",
       "7  {'max_depth': 10, 'n_estimators': 500}  8.975597         10           500  \n",
       "6  {'max_depth': 10, 'n_estimators': 300}  9.049124         10           300  "
      ]
     },
     "execution_count": 30,
     "metadata": {},
     "output_type": "execute_result"
    }
   ],
   "source": [
    "# Grid search hyperparameter and lags\n",
    "# ==============================================================================\n",
    "\n",
    "# Regressor hyperparameters\n",
    "param_grid = {'n_estimators': [300, 500],\n",
    "              'max_depth': [5, 10]\n",
    "             }\n",
    "\n",
    "# Lags used as predictors\n",
    "lags_grid = [7, 14]\n",
    "\n",
    "results_grid = grid_search_forecaster(\n",
    "                        forecaster  = forecaster,\n",
    "                        y           = data[level],\n",
    "                        param_grid  = param_grid,\n",
    "                        lags_grid   = lags_grid,\n",
    "                        steps       = 7,\n",
    "                        refit       = True,\n",
    "                        metric      = 'mean_squared_error',\n",
    "                        initial_train_size = len(data[level].loc[:end_train]),\n",
    "                        fixed_train_size   = True,\n",
    "                        return_best = False,\n",
    "                        verbose     = False\n",
    "               )\n",
    "\n",
    "results_grid"
   ]
  },
  {
   "cell_type": "code",
   "execution_count": null,
   "id": "34163f02",
   "metadata": {},
   "outputs": [],
   "source": []
  },
  {
   "cell_type": "code",
   "execution_count": null,
   "id": "2a16bcbc",
   "metadata": {},
   "outputs": [],
   "source": []
  }
 ],
 "metadata": {
  "kernelspec": {
   "display_name": "food_digital",
   "language": "python",
   "name": "food_digital"
  },
  "language_info": {
   "codemirror_mode": {
    "name": "ipython",
    "version": 3
   },
   "file_extension": ".py",
   "mimetype": "text/x-python",
   "name": "python",
   "nbconvert_exporter": "python",
   "pygments_lexer": "ipython3",
   "version": "3.8.13"
  },
  "toc": {
   "base_numbering": 1,
   "nav_menu": {},
   "number_sections": true,
   "sideBar": true,
   "skip_h1_title": false,
   "title_cell": "Table of Contents",
   "title_sidebar": "Contents",
   "toc_cell": false,
   "toc_position": {
    "height": "calc(100% - 180px)",
    "left": "10px",
    "top": "150px",
    "width": "228.82px"
   },
   "toc_section_display": true,
   "toc_window_display": true
  }
 },
 "nbformat": 4,
 "nbformat_minor": 5
}
