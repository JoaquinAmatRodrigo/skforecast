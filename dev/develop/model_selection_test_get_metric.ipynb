{
 "cells": [
  {
   "cell_type": "code",
   "execution_count": 1,
   "id": "1b969fe6",
   "metadata": {},
   "outputs": [],
   "source": [
    "# %load_ext autoreload\n",
    "# %autoreload 2\n",
    "# import sys\n",
    "# sys.path.insert(1, 'home/Documents/GitHub/skforecast')\n",
    "# %config Completer.use_jedi = False"
   ]
  },
  {
   "cell_type": "code",
   "execution_count": 6,
   "id": "f8c1bb8b",
   "metadata": {
    "ExecuteTime": {
     "end_time": "2022-02-18T09:37:08.384839Z",
     "start_time": "2022-02-18T09:37:07.825759Z"
    },
    "tags": []
   },
   "outputs": [],
   "source": [
    "# Unit test _get_metric\n",
    "# ==============================================================================\n",
    "import pytest\n",
    "from pytest import approx\n",
    "import numpy as np\n",
    "import pandas as pd\n",
    "from skforecast.ForecasterAutoreg import ForecasterAutoreg\n",
    "from skforecast.model_selection.model_selection import _get_metric\n",
    "from sklearn.metrics import mean_squared_error \n",
    "from sklearn.metrics import mean_absolute_error\n",
    "from sklearn.metrics import mean_absolute_percentage_error\n",
    "\n",
    "def test_get_metric_exception_when_metric_not_in_metrics_allowed():\n",
    "    '''\n",
    "    Test exception is raised when metric is not in metrics allowed\n",
    "    '''\n",
    "    metric = 'not_a_metric'\n",
    "    with pytest.raises(Exception):\n",
    "        _get_metric(metric)\n",
    "        \n",
    "def test_get_metric_import_and_calculate_mean_squared_error_correctly():\n",
    "    '''\n",
    "    Test get_metric import and calculate mean_squared_error correctly\n",
    "    '''\n",
    "    metric_str = 'mean_squared_error'\n",
    "    metric = _get_metric(metric_str)\n",
    "    y_true = [3, -0.5, 2, 7]\n",
    "    y_pred = [2.5, 0.0, 2, 8]\n",
    "    expected = mean_squared_error(y_true=y_true, y_pred=y_pred)\n",
    "    assert metric(y_true=y_true, y_pred=y_pred) == expected\n",
    "    \n",
    "def test_get_metric_import_and_calculate_mean_absolute_error_correctly():\n",
    "    '''\n",
    "    Test get_metric import and calculate mean_absolute_error correctly\n",
    "    '''\n",
    "    metric_str = 'mean_absolute_error'\n",
    "    metric = _get_metric(metric_str)\n",
    "    y_true = [3, -0.5, 2, 7]\n",
    "    y_pred = [2.5, 0.0, 2, 8]\n",
    "    expected = mean_absolute_error(y_true=y_true, y_pred=y_pred)\n",
    "    assert metric(y_true=y_true, y_pred=y_pred) == expected\n",
    "    \n",
    "def test_get_metric_import_and_calculate_mean_absolute_percentage_error_correctly():\n",
    "    '''\n",
    "    Test get_metric import and calculate mean_absolute_percentage_error correctly\n",
    "    '''\n",
    "    metric_str = 'mean_absolute_percentage_error'\n",
    "    metric = _get_metric(metric_str)\n",
    "    y_true = [3, -0.5, 2, 7]\n",
    "    y_pred = [2.5, 0.0, 2, 8]\n",
    "    expected = mean_absolute_percentage_error(y_true=y_true, y_pred=y_pred)\n",
    "    assert metric(y_true=y_true, y_pred=y_pred) == expected"
   ]
  },
  {
   "cell_type": "code",
   "execution_count": 7,
   "id": "6d5cf670",
   "metadata": {
    "ExecuteTime": {
     "end_time": "2022-02-18T09:37:26.753884Z",
     "start_time": "2022-02-18T09:37:26.748600Z"
    }
   },
   "outputs": [],
   "source": [
    "test_get_metric_exception_when_metric_not_in_metrics_allowed()\n",
    "test_get_metric_import_and_calculate_mean_squared_error_correctly()\n",
    "test_get_metric_import_and_calculate_mean_absolute_error_correctly()\n",
    "test_get_metric_import_and_calculate_mean_absolute_percentage_error_correctly()"
   ]
  },
  {
   "cell_type": "code",
   "execution_count": null,
   "id": "17295563-6d1b-4f71-b9df-43bc43c2dddd",
   "metadata": {},
   "outputs": [],
   "source": []
  }
 ],
 "metadata": {
  "kernelspec": {
   "display_name": "skforecast",
   "language": "python",
   "name": "skforecast"
  },
  "language_info": {
   "codemirror_mode": {
    "name": "ipython",
    "version": 3
   },
   "file_extension": ".py",
   "mimetype": "text/x-python",
   "name": "python",
   "nbconvert_exporter": "python",
   "pygments_lexer": "ipython3",
   "version": "3.8.0"
  },
  "toc": {
   "base_numbering": 1,
   "nav_menu": {},
   "number_sections": true,
   "sideBar": true,
   "skip_h1_title": false,
   "title_cell": "Table of Contents",
   "title_sidebar": "Contents",
   "toc_cell": false,
   "toc_position": {},
   "toc_section_display": true,
   "toc_window_display": false
  },
  "varInspector": {
   "cols": {
    "lenName": 16,
    "lenType": 16,
    "lenVar": 40
   },
   "kernels_config": {
    "python": {
     "delete_cmd_postfix": "",
     "delete_cmd_prefix": "del ",
     "library": "var_list.py",
     "varRefreshCmd": "print(var_dic_list())"
    },
    "r": {
     "delete_cmd_postfix": ") ",
     "delete_cmd_prefix": "rm(",
     "library": "var_list.r",
     "varRefreshCmd": "cat(var_dic_list()) "
    }
   },
   "types_to_exclude": [
    "module",
    "function",
    "builtin_function_or_method",
    "instance",
    "_Feature"
   ],
   "window_display": false
  }
 },
 "nbformat": 4,
 "nbformat_minor": 5
}
