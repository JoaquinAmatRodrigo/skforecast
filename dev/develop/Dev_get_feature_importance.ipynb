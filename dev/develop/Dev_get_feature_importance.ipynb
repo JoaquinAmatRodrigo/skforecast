{
 "cells": [
  {
   "cell_type": "markdown",
   "id": "b3ad12fe",
   "metadata": {
    "ExecuteTime": {
     "end_time": "2022-02-22T10:33:31.967668Z",
     "start_time": "2022-02-22T10:33:31.965379Z"
    }
   },
   "source": [
    "# Join get_coef and get_feature_importance into get_feature_importance"
   ]
  },
  {
   "cell_type": "code",
   "execution_count": 14,
   "id": "8319fdb3",
   "metadata": {
    "ExecuteTime": {
     "end_time": "2022-02-22T19:53:39.888432Z",
     "start_time": "2022-02-22T19:53:39.879399Z"
    }
   },
   "outputs": [
    {
     "data": {
      "text/plain": [
       "PosixPath('/home/javi/Documents/GitHub/skforecast/dev/develop')"
      ]
     },
     "execution_count": 14,
     "metadata": {},
     "output_type": "execute_result"
    }
   ],
   "source": [
    "from pathlib import Path\n",
    "Path.cwd()"
   ]
  },
  {
   "cell_type": "code",
   "execution_count": 15,
   "id": "7c69f06a",
   "metadata": {
    "ExecuteTime": {
     "end_time": "2022-02-22T19:53:40.117721Z",
     "start_time": "2022-02-22T19:53:40.093948Z"
    }
   },
   "outputs": [
    {
     "name": "stdout",
     "output_type": "stream",
     "text": [
      "The autoreload extension is already loaded. To reload it, use:\n",
      "  %reload_ext autoreload\n"
     ]
    }
   ],
   "source": [
    "%load_ext autoreload\n",
    "%autoreload 2\n",
    "import sys\n",
    "sys.path.insert(1, '/home/javi/Documents/GitHub/skforecast')\n",
    "%config Completer.use_jedi = False"
   ]
  },
  {
   "cell_type": "code",
   "execution_count": 16,
   "id": "5f64eeb2",
   "metadata": {
    "ExecuteTime": {
     "end_time": "2022-02-22T19:53:40.656879Z",
     "start_time": "2022-02-22T19:53:40.647802Z"
    }
   },
   "outputs": [],
   "source": [
    "# !pip uninstall skforecast -y"
   ]
  },
  {
   "cell_type": "code",
   "execution_count": 17,
   "id": "548b6eb0",
   "metadata": {
    "ExecuteTime": {
     "end_time": "2022-02-22T19:53:41.639545Z",
     "start_time": "2022-02-22T19:53:41.006875Z"
    }
   },
   "outputs": [],
   "source": [
    "# Unit test __init__\n",
    "# ==============================================================================\n",
    "import pytest\n",
    "from pytest import approx\n",
    "import numpy as np\n",
    "import pandas as pd\n",
    "import sklearn\n",
    "from sklearn.pipeline import make_pipeline\n",
    "from sklearn.preprocessing import StandardScaler\n",
    "from sklearn.ensemble import RandomForestRegressor\n",
    "from sklearn.linear_model import LinearRegression\n",
    "from sklearn.linear_model import Ridge\n",
    "from sklearn.linear_model import Lasso\n",
    "from sklearn.neural_network import MLPRegressor\n",
    "from skforecast.ForecasterAutoreg import ForecasterAutoreg\n",
    "from skforecast.ForecasterAutoregCustom import ForecasterAutoregCustom\n",
    "from skforecast.ForecasterAutoregMultiOutput import ForecasterAutoregMultiOutput\n",
    "import warnings"
   ]
  },
  {
   "cell_type": "markdown",
   "id": "de7273f7",
   "metadata": {},
   "source": [
    "# ForecasterAutoreg"
   ]
  },
  {
   "cell_type": "markdown",
   "id": "55164755",
   "metadata": {},
   "source": [
    "## Original"
   ]
  },
  {
   "cell_type": "code",
   "execution_count": null,
   "id": "b35e5fb1",
   "metadata": {},
   "outputs": [],
   "source": [
    "def get_coef(self) -> pd.DataFrame:\n",
    "        '''      \n",
    "        Return estimated coefficients for the regressor stored in the forecaster.\n",
    "        Only valid when regressor stores internally the feature coefficients in\n",
    "        the attribute `coef_`.\n",
    "        \n",
    "        Parameters\n",
    "        ----------\n",
    "        self\n",
    "\n",
    "        Returns \n",
    "        -------\n",
    "        coef : pandas DataFrame\n",
    "            Value of the coefficients associated with each predictor.\n",
    "        \n",
    "        '''\n",
    "        \n",
    "        if isinstance(self.regressor, sklearn.pipeline.Pipeline):\n",
    "            estimator = self.regressor[-1]\n",
    "        else:\n",
    "            estimator = self.regressor\n",
    "\n",
    "        try:\n",
    "            coef = pd.DataFrame({\n",
    "                        'feature': self.X_train_col_names,\n",
    "                        'coef' : estimator.coef_\n",
    "                   })\n",
    "        except:\n",
    "            warnings.warn(\n",
    "                f\"Impossible to access feature coefficients for regressor of type {type(estimator)}. \"\n",
    "                f\"This method is only valid when the regressor stores internally \"\n",
    "                f\" the coefficients in the attribute `coef_`.\"\n",
    "            )\n",
    "\n",
    "            coef = None\n",
    "            \n",
    "        return coef\n",
    "\n",
    "    \n",
    "def get_feature_importance(self) -> pd.DataFrame:\n",
    "    '''      \n",
    "    Return feature importance of the regressor stored in the\n",
    "    forecaster. Only valid when regressor stores internally the feature\n",
    "    importance in the attribute `feature_importances_`.\n",
    "\n",
    "    Parameters\n",
    "    ----------\n",
    "    self\n",
    "\n",
    "    Returns \n",
    "    -------\n",
    "    feature_importance : pandas DataFrame\n",
    "        Feature importance associated with each predictor.\n",
    "    '''\n",
    "\n",
    "    if isinstance(self.regressor, sklearn.pipeline.Pipeline):\n",
    "        estimator = self.regressor[-1]\n",
    "    else:\n",
    "        estimator = self.regressor\n",
    "\n",
    "    try:\n",
    "        feature_importance = pd.DataFrame({\n",
    "                                'feature': self.X_train_col_names,\n",
    "                                'importance' : estimator.feature_importances_\n",
    "                            })\n",
    "    except:\n",
    "        warnings.warn(\n",
    "            f\"Impossible to access feature importance for regressor of type {type(estimator)}. \"\n",
    "            f\"This method is only valid when the regressor stores internally \"\n",
    "            f\" the feature importance in the attribute `feature_importances_`.\"\n",
    "        )\n",
    "\n",
    "        feature_importance = None\n",
    "\n",
    "    return feature_importance"
   ]
  },
  {
   "cell_type": "markdown",
   "id": "c5fd7157",
   "metadata": {},
   "source": [
    "### Test Originales"
   ]
  },
  {
   "cell_type": "code",
   "execution_count": null,
   "id": "e1b65577",
   "metadata": {},
   "outputs": [],
   "source": [
    "def test_output_get_feature_importance_when_regressor_is_RandomForest():\n",
    "    '''\n",
    "    '''\n",
    "    forecaster = ForecasterAutoreg(RandomForestRegressor(n_estimators=1, max_depth=2, random_state=123), lags=3)\n",
    "    forecaster.fit(y=pd.Series(np.arange(10)))\n",
    "    expected = pd.DataFrame({\n",
    "                    'feature': ['lag_1', 'lag_2', 'lag_3'],\n",
    "                    'importance': np.array([0.94766355, 0., 0.05233645])\n",
    "                })\n",
    "    results = forecaster.get_feature_importance()\n",
    "    assert (results['feature'] == expected['feature']).all()\n",
    "    assert results['importance'].values == approx(expected['importance'].values)\n",
    "    \n",
    "    \n",
    "def test_output_get_feature_importance_when_regressor_is_linear_model():\n",
    "    '''\n",
    "    '''\n",
    "    forecaster = ForecasterAutoreg(Lasso(), lags=3)\n",
    "    forecaster.fit(y=pd.Series(np.arange(5)))\n",
    "    expected = None\n",
    "    results = forecaster.get_feature_importance()\n",
    "    assert results is expected\n",
    "    \n",
    "def test_output_get_coef_when_regressor_is_LinearRegression():\n",
    "    '''\n",
    "    Test output of get_coef when regressor is LinearRegression with lags=3\n",
    "    and it is trained with y=pd.Series(np.arange(5)).\n",
    "    '''\n",
    "    forecaster = ForecasterAutoreg(LinearRegression(), lags=3)\n",
    "    forecaster.fit(y=pd.Series(np.arange(5)))\n",
    "    expected = pd.DataFrame({\n",
    "                    'feature': ['lag_1', 'lag_2', 'lag_3'],\n",
    "                    'coef': np.array([0.33333333, 0.33333333, 0.33333333])\n",
    "                })\n",
    "    results = forecaster.get_coef()\n",
    "    assert (results['feature'] == expected['feature']).all()\n",
    "    assert results['coef'].values == approx(expected['coef'].values)\n",
    "    \n",
    "def test_output_get_coef_when_regressor_is_RandomForest():\n",
    "    '''\n",
    "    Test output of get_coef when regressor is RandomForestRegressor with lags=3\n",
    "    and it is trained with y=pd.Series(np.arange(5)).\n",
    "    '''\n",
    "    forecaster = ForecasterAutoreg(RandomForestRegressor(n_estimators=1, max_depth=2), lags=3)\n",
    "    forecaster.fit(y=pd.Series(np.arange(5)))\n",
    "    expected = None\n",
    "    results = forecaster.get_coef()\n",
    "    assert results is expected"
   ]
  },
  {
   "cell_type": "code",
   "execution_count": null,
   "id": "306a9727",
   "metadata": {},
   "outputs": [],
   "source": [
    "test_output_get_feature_importance_when_regressor_is_RandomForest()\n",
    "test_output_get_feature_importance_when_regressor_is_linear_model()\n",
    "test_output_get_coef_when_regressor_is_LinearRegression()\n",
    "test_output_get_coef_when_regressor_is_RandomForest()"
   ]
  },
  {
   "cell_type": "markdown",
   "id": "6faf4ff8",
   "metadata": {},
   "source": [
    "## New"
   ]
  },
  {
   "cell_type": "code",
   "execution_count": 4,
   "id": "eb25ff59",
   "metadata": {
    "ExecuteTime": {
     "end_time": "2022-02-22T19:27:08.192821Z",
     "start_time": "2022-02-22T19:27:08.164058Z"
    }
   },
   "outputs": [],
   "source": [
    "def get_feature_importance(self) -> pd.DataFrame:\n",
    "    '''      \n",
    "    Return feature importance of the regressor stored in the\n",
    "    forecaster. Only valid when regressor stores internally the feature\n",
    "    importance in the attribute `feature_importances_` or `coef_`.\n",
    "\n",
    "    Parameters\n",
    "    ----------\n",
    "    self\n",
    "\n",
    "    Returns\n",
    "    -------\n",
    "    feature_importance : pandas DataFrame\n",
    "        Feature importance associated with each predictor.\n",
    "    '''\n",
    "\n",
    "    if isinstance(self.regressor, sklearn.pipeline.Pipeline):\n",
    "        estimator = self.regressor[-1]\n",
    "    else:\n",
    "        estimator = self.regressor\n",
    "\n",
    "    try:\n",
    "        feature_importance = pd.DataFrame({\n",
    "                                'feature': self.X_train_col_names,\n",
    "                                'importance' : estimator.feature_importances_\n",
    "                            })\n",
    "    except:   \n",
    "        try:\n",
    "            feature_importance = pd.DataFrame({\n",
    "                                    'feature': self.X_train_col_names,\n",
    "                                    'importance' : estimator.coef_\n",
    "                                })\n",
    "        except:\n",
    "            warnings.warn(\n",
    "                f\"Impossible to access feature importance for regressor of type {type(estimator)}. \"\n",
    "                f\"This method is only valid when the regressor stores internally \"\n",
    "                f\"the feature importance in the attribute `feature_importances_` \"\n",
    "                f\"or `coef_`.\"\n",
    "            )\n",
    "\n",
    "            feature_importance = None\n",
    "\n",
    "    return feature_importance"
   ]
  },
  {
   "cell_type": "code",
   "execution_count": 76,
   "id": "2802258f",
   "metadata": {
    "ExecuteTime": {
     "end_time": "2022-02-22T11:30:16.836777Z",
     "start_time": "2022-02-22T11:30:16.825564Z"
    }
   },
   "outputs": [
    {
     "data": {
      "text/plain": [
       "array([0.94766355, 0.        , 0.05233645])"
      ]
     },
     "execution_count": 76,
     "metadata": {},
     "output_type": "execute_result"
    }
   ],
   "source": [
    "forecaster = ForecasterAutoreg(RandomForestRegressor(n_estimators=1, max_depth=2, random_state=123), lags=3)\n",
    "forecaster.fit(y=pd.Series(np.arange(10)))\n",
    "\n",
    "forecaster.regressor.feature_importances_"
   ]
  },
  {
   "cell_type": "code",
   "execution_count": 77,
   "id": "fdc0976d",
   "metadata": {
    "ExecuteTime": {
     "end_time": "2022-02-22T11:30:17.223751Z",
     "start_time": "2022-02-22T11:30:17.213709Z"
    }
   },
   "outputs": [
    {
     "name": "stdout",
     "output_type": "stream",
     "text": [
      "a\n"
     ]
    }
   ],
   "source": [
    "forecaster = ForecasterAutoreg(LinearRegression(), lags=3)\n",
    "forecaster.fit(y=pd.Series(np.arange(10)))\n",
    "\n",
    "try:\n",
    "    forecaster.regressor.feature_importances_\n",
    "except AttributeError:\n",
    "    print('a')\n",
    "except:\n",
    "    print('b')"
   ]
  },
  {
   "cell_type": "code",
   "execution_count": 5,
   "id": "92c9c922",
   "metadata": {
    "ExecuteTime": {
     "end_time": "2022-02-22T19:27:11.797007Z",
     "start_time": "2022-02-22T19:27:11.758072Z"
    }
   },
   "outputs": [
    {
     "data": {
      "text/html": [
       "<div>\n",
       "<style scoped>\n",
       "    .dataframe tbody tr th:only-of-type {\n",
       "        vertical-align: middle;\n",
       "    }\n",
       "\n",
       "    .dataframe tbody tr th {\n",
       "        vertical-align: top;\n",
       "    }\n",
       "\n",
       "    .dataframe thead th {\n",
       "        text-align: right;\n",
       "    }\n",
       "</style>\n",
       "<table border=\"1\" class=\"dataframe\">\n",
       "  <thead>\n",
       "    <tr style=\"text-align: right;\">\n",
       "      <th></th>\n",
       "      <th>feature</th>\n",
       "      <th>importance</th>\n",
       "    </tr>\n",
       "  </thead>\n",
       "  <tbody>\n",
       "    <tr>\n",
       "      <th>0</th>\n",
       "      <td>lag_1</td>\n",
       "      <td>0.333333</td>\n",
       "    </tr>\n",
       "    <tr>\n",
       "      <th>1</th>\n",
       "      <td>lag_2</td>\n",
       "      <td>0.333333</td>\n",
       "    </tr>\n",
       "    <tr>\n",
       "      <th>2</th>\n",
       "      <td>lag_3</td>\n",
       "      <td>0.333333</td>\n",
       "    </tr>\n",
       "  </tbody>\n",
       "</table>\n",
       "</div>"
      ],
      "text/plain": [
       "  feature  importance\n",
       "0   lag_1    0.333333\n",
       "1   lag_2    0.333333\n",
       "2   lag_3    0.333333"
      ]
     },
     "execution_count": 5,
     "metadata": {},
     "output_type": "execute_result"
    }
   ],
   "source": [
    "forecaster = ForecasterAutoreg(LinearRegression(), lags=3)\n",
    "forecaster.fit(y=pd.Series(np.arange(10)))\n",
    "get_feature_importance(forecaster)"
   ]
  },
  {
   "cell_type": "code",
   "execution_count": 79,
   "id": "07a9899d",
   "metadata": {
    "ExecuteTime": {
     "end_time": "2022-02-22T11:30:18.527825Z",
     "start_time": "2022-02-22T11:30:18.514773Z"
    }
   },
   "outputs": [
    {
     "data": {
      "text/html": [
       "<div>\n",
       "<style scoped>\n",
       "    .dataframe tbody tr th:only-of-type {\n",
       "        vertical-align: middle;\n",
       "    }\n",
       "\n",
       "    .dataframe tbody tr th {\n",
       "        vertical-align: top;\n",
       "    }\n",
       "\n",
       "    .dataframe thead th {\n",
       "        text-align: right;\n",
       "    }\n",
       "</style>\n",
       "<table border=\"1\" class=\"dataframe\">\n",
       "  <thead>\n",
       "    <tr style=\"text-align: right;\">\n",
       "      <th></th>\n",
       "      <th>feature</th>\n",
       "      <th>importance</th>\n",
       "    </tr>\n",
       "  </thead>\n",
       "  <tbody>\n",
       "    <tr>\n",
       "      <th>0</th>\n",
       "      <td>lag_1</td>\n",
       "      <td>0.947664</td>\n",
       "    </tr>\n",
       "    <tr>\n",
       "      <th>1</th>\n",
       "      <td>lag_2</td>\n",
       "      <td>0.000000</td>\n",
       "    </tr>\n",
       "    <tr>\n",
       "      <th>2</th>\n",
       "      <td>lag_3</td>\n",
       "      <td>0.052336</td>\n",
       "    </tr>\n",
       "  </tbody>\n",
       "</table>\n",
       "</div>"
      ],
      "text/plain": [
       "  feature  importance\n",
       "0   lag_1    0.947664\n",
       "1   lag_2    0.000000\n",
       "2   lag_3    0.052336"
      ]
     },
     "execution_count": 79,
     "metadata": {},
     "output_type": "execute_result"
    }
   ],
   "source": [
    "forecaster = ForecasterAutoreg(RandomForestRegressor(n_estimators=1, max_depth=2, random_state=123), lags=3)\n",
    "forecaster.fit(y=pd.Series(np.arange(10)))\n",
    "get_feature_importance_new(forecaster)"
   ]
  },
  {
   "cell_type": "code",
   "execution_count": 80,
   "id": "587d71b6",
   "metadata": {
    "ExecuteTime": {
     "end_time": "2022-02-22T11:30:19.018552Z",
     "start_time": "2022-02-22T11:30:18.997659Z"
    }
   },
   "outputs": [
    {
     "name": "stderr",
     "output_type": "stream",
     "text": [
      "/tmp/ipykernel_5577/1680675785.py:20: UserWarning: Impossible to access feature importance for regressor of type <class 'sklearn.neural_network._multilayer_perceptron.MLPRegressor'>. This method is only valid when the regressor stores internally the feature importance in the attribute `feature_importances_` or `coef_`.\n",
      "  warnings.warn(\n"
     ]
    }
   ],
   "source": [
    "forecaster = ForecasterAutoreg(MLPRegressor(solver = 'lbfgs', max_iter= 100, random_state=123), lags=3)\n",
    "forecaster.fit(y=pd.Series(np.arange(10)))\n",
    "get_feature_importance_new(forecaster)"
   ]
  },
  {
   "cell_type": "markdown",
   "id": "fb654673",
   "metadata": {},
   "source": [
    "### Test new"
   ]
  },
  {
   "cell_type": "code",
   "execution_count": 53,
   "id": "f07bc22c",
   "metadata": {
    "ExecuteTime": {
     "end_time": "2022-02-22T13:39:30.845144Z",
     "start_time": "2022-02-22T13:39:30.829142Z"
    }
   },
   "outputs": [
    {
     "name": "stderr",
     "output_type": "stream",
     "text": [
      "/home/javi/anaconda3/envs/skforecast/lib/python3.8/site-packages/skforecast/utils/utils.py:347: UserWarning: `exog` has DatetimeIndex index but no frequency. The index is overwritten with a RangeIndex.\n",
      "  warnings.warn(\n"
     ]
    },
    {
     "data": {
      "text/html": [
       "<div>\n",
       "<style scoped>\n",
       "    .dataframe tbody tr th:only-of-type {\n",
       "        vertical-align: middle;\n",
       "    }\n",
       "\n",
       "    .dataframe tbody tr th {\n",
       "        vertical-align: top;\n",
       "    }\n",
       "\n",
       "    .dataframe thead th {\n",
       "        text-align: right;\n",
       "    }\n",
       "</style>\n",
       "<table border=\"1\" class=\"dataframe\">\n",
       "  <thead>\n",
       "    <tr style=\"text-align: right;\">\n",
       "      <th></th>\n",
       "      <th>feature</th>\n",
       "      <th>importance</th>\n",
       "    </tr>\n",
       "  </thead>\n",
       "  <tbody>\n",
       "    <tr>\n",
       "      <th>0</th>\n",
       "      <td>lag_1</td>\n",
       "      <td>0.25</td>\n",
       "    </tr>\n",
       "    <tr>\n",
       "      <th>1</th>\n",
       "      <td>lag_2</td>\n",
       "      <td>0.25</td>\n",
       "    </tr>\n",
       "    <tr>\n",
       "      <th>2</th>\n",
       "      <td>lag_3</td>\n",
       "      <td>0.25</td>\n",
       "    </tr>\n",
       "    <tr>\n",
       "      <th>3</th>\n",
       "      <td>exog</td>\n",
       "      <td>0.25</td>\n",
       "    </tr>\n",
       "  </tbody>\n",
       "</table>\n",
       "</div>"
      ],
      "text/plain": [
       "  feature  importance\n",
       "0   lag_1        0.25\n",
       "1   lag_2        0.25\n",
       "2   lag_3        0.25\n",
       "3    exog        0.25"
      ]
     },
     "execution_count": 53,
     "metadata": {},
     "output_type": "execute_result"
    }
   ],
   "source": [
    "forecaster = ForecasterAutoreg(LinearRegression(), lags=3)\n",
    "forecaster.fit(y=pd.Series(np.arange(5)), exog=pd.Series(np.arange(10, 15), name='exog'))\n",
    "get_feature_importance(forecaster)"
   ]
  },
  {
   "cell_type": "code",
   "execution_count": 29,
   "id": "c7f7ced9",
   "metadata": {
    "ExecuteTime": {
     "end_time": "2022-02-22T12:41:51.512516Z",
     "start_time": "2022-02-22T12:41:51.508155Z"
    }
   },
   "outputs": [
    {
     "data": {
      "text/plain": [
       "RangeIndex(start=0, stop=10, step=1)"
      ]
     },
     "execution_count": 29,
     "metadata": {},
     "output_type": "execute_result"
    }
   ],
   "source": [
    "pd.Series(np.arange(10), name='exog').index"
   ]
  },
  {
   "cell_type": "code",
   "execution_count": 42,
   "id": "21578324",
   "metadata": {
    "ExecuteTime": {
     "end_time": "2022-02-22T12:47:31.004449Z",
     "start_time": "2022-02-22T12:47:30.983819Z"
    }
   },
   "outputs": [
    {
     "data": {
      "text/html": [
       "<div>\n",
       "<style scoped>\n",
       "    .dataframe tbody tr th:only-of-type {\n",
       "        vertical-align: middle;\n",
       "    }\n",
       "\n",
       "    .dataframe tbody tr th {\n",
       "        vertical-align: top;\n",
       "    }\n",
       "\n",
       "    .dataframe thead th {\n",
       "        text-align: right;\n",
       "    }\n",
       "</style>\n",
       "<table border=\"1\" class=\"dataframe\">\n",
       "  <thead>\n",
       "    <tr style=\"text-align: right;\">\n",
       "      <th></th>\n",
       "      <th>feature</th>\n",
       "      <th>importance</th>\n",
       "    </tr>\n",
       "  </thead>\n",
       "  <tbody>\n",
       "    <tr>\n",
       "      <th>0</th>\n",
       "      <td>lag_1</td>\n",
       "      <td>0.947664</td>\n",
       "    </tr>\n",
       "    <tr>\n",
       "      <th>1</th>\n",
       "      <td>lag_2</td>\n",
       "      <td>0.000000</td>\n",
       "    </tr>\n",
       "    <tr>\n",
       "      <th>2</th>\n",
       "      <td>lag_3</td>\n",
       "      <td>0.052336</td>\n",
       "    </tr>\n",
       "  </tbody>\n",
       "</table>\n",
       "</div>"
      ],
      "text/plain": [
       "  feature  importance\n",
       "0   lag_1    0.947664\n",
       "1   lag_2    0.000000\n",
       "2   lag_3    0.052336"
      ]
     },
     "execution_count": 42,
     "metadata": {},
     "output_type": "execute_result"
    }
   ],
   "source": [
    "forecaster = ForecasterAutoreg(RandomForestRegressor(n_estimators=1, max_depth=2, random_state=123), lags=3)\n",
    "forecaster.fit(y=pd.Series(np.arange(10)))\n",
    "get_feature_importance(forecaster)"
   ]
  },
  {
   "cell_type": "code",
   "execution_count": 9,
   "id": "06995990",
   "metadata": {
    "ExecuteTime": {
     "end_time": "2022-02-22T19:28:21.426868Z",
     "start_time": "2022-02-22T19:28:21.400512Z"
    }
   },
   "outputs": [],
   "source": [
    "def test_output_get_feature_importance_when_regressor_is_RandomForest():\n",
    "    '''\n",
    "    Test output of get_feature_importance when regressor is RandomForestRegressor with lags=3\n",
    "    and it is trained with y=pd.Series(np.arange(10)).\n",
    "    '''\n",
    "    forecaster = ForecasterAutoreg(RandomForestRegressor(n_estimators=1, max_depth=2, random_state=123), lags=3)\n",
    "    forecaster.fit(y=pd.Series(np.arange(10)))\n",
    "    expected = pd.DataFrame({\n",
    "                    'feature': ['lag_1', 'lag_2', 'lag_3'],\n",
    "                    'importance': np.array([0.94766355, 0., 0.05233645])\n",
    "                })\n",
    "    results = forecaster.get_feature_importance()\n",
    "    pd.testing.assert_frame_equal(expected, results)\n",
    "\n",
    "\n",
    "def test_output_get_feature_importance_when_regressor_is_RandomForest_with_exog():\n",
    "    '''\n",
    "    Test output of get_feature_importance when regressor is RandomForestRegressor with lags=3\n",
    "    and it is trained with y=pd.Series(np.arange(10)) and a exogenous variable\n",
    "    exog=pd.Series(np.arange(10, 20), name='exog').\n",
    "    '''\n",
    "    forecaster = ForecasterAutoreg(RandomForestRegressor(n_estimators=1, max_depth=2, random_state=123), lags=3)\n",
    "    forecaster.fit(y=pd.Series(np.arange(10)), exog=pd.Series(np.arange(10, 20), name='exog'))\n",
    "    expected = pd.DataFrame({\n",
    "                    'feature': ['lag_1', 'lag_2', 'lag_3', 'exog'],\n",
    "                    'importance': np.array([0.94766355, 0.05233645, 0., 0.])\n",
    "                })\n",
    "    results = forecaster.get_feature_importance()\n",
    "    pd.testing.assert_frame_equal(expected, results)\n",
    "\n",
    "\n",
    "def test_output_get_feature_importance_when_regressor_is_LinearRegression():\n",
    "    '''\n",
    "    Test output of get_feature_importance when regressor is LinearRegression with lags=3\n",
    "    and it is trained with y=pd.Series(np.arange(5)).\n",
    "    '''\n",
    "    forecaster = ForecasterAutoreg(LinearRegression(), lags=3)\n",
    "    forecaster.fit(y=pd.Series(np.arange(5)))\n",
    "    expected = pd.DataFrame({\n",
    "                    'feature': ['lag_1', 'lag_2', 'lag_3'],\n",
    "                    'importance': np.array([0.33333333, 0.33333333, 0.33333333])\n",
    "                })\n",
    "    results = forecaster.get_feature_importance()\n",
    "    pd.testing.assert_frame_equal(expected, results)\n",
    "\n",
    "\n",
    "def test_output_get_feature_importance_when_regressor_is_LinearRegression_with_exog():\n",
    "    '''\n",
    "    Test output of get_feature_importance when regressor is LinearRegression with lags=3\n",
    "    and it is trained with y=pd.Series(np.arange(5)) and a exogenous variable\n",
    "    exog=pd.Series(np.arange(10, 15), name='exog').\n",
    "    '''\n",
    "    forecaster = ForecasterAutoreg(LinearRegression(), lags=3)\n",
    "    forecaster.fit(y=pd.Series(np.arange(5)), exog=pd.Series(np.arange(10, 15), name='exog'))\n",
    "    expected = pd.DataFrame({\n",
    "                    'feature': ['lag_1', 'lag_2', 'lag_3', 'exog'],\n",
    "                    'importance': np.array([0.25, 0.25, 0.25, 0.25])\n",
    "                })\n",
    "    results = forecaster.get_feature_importance()\n",
    "    pd.testing.assert_frame_equal(expected, results)\n",
    "\n",
    "\n",
    "def test_output_get_feature_importance_when_regressor_no_attributes():\n",
    "    '''\n",
    "    Test output of get_feature_importance when regressor is MLPRegressor with lags=3\n",
    "    and it is trained with y=pd.Series(np.arange(10)). Since MLPRegressor hasn't attributes\n",
    "    `feature_importances_` or `coef_, results = None and a warning is raised`\n",
    "    '''\n",
    "    forecaster = ForecasterAutoreg(MLPRegressor(solver = 'lbfgs', max_iter= 50, random_state=123), lags=3)\n",
    "    forecaster.fit(y=pd.Series(np.arange(10)))\n",
    "    expected = None\n",
    "    results = forecaster.get_feature_importance()\n",
    "    assert results is expected"
   ]
  },
  {
   "cell_type": "code",
   "execution_count": 10,
   "id": "b5cac016",
   "metadata": {
    "ExecuteTime": {
     "end_time": "2022-02-22T19:28:21.834785Z",
     "start_time": "2022-02-22T19:28:21.770215Z"
    }
   },
   "outputs": [
    {
     "name": "stderr",
     "output_type": "stream",
     "text": [
      "/home/javi/Documents/GitHub/skforecast/skforecast/ForecasterAutoreg/ForecasterAutoreg.py:954: UserWarning: Impossible to access feature importance for regressor of type <class 'sklearn.neural_network._multilayer_perceptron.MLPRegressor'>. This method is only valid when the regressor stores internally the feature importance in the attribute `feature_importances_` or `coef_`.\n",
      "  warnings.warn(\n"
     ]
    }
   ],
   "source": [
    "test_output_get_feature_importance_when_regressor_is_RandomForest()\n",
    "test_output_get_feature_importance_when_regressor_is_RandomForest_with_exog()\n",
    "test_output_get_feature_importance_when_regressor_is_LinearRegression()\n",
    "test_output_get_feature_importance_when_regressor_is_LinearRegression_with_exog()\n",
    "test_output_get_feature_importance_when_regressor_no_attributes()"
   ]
  },
  {
   "cell_type": "code",
   "execution_count": 8,
   "id": "e47e61ea",
   "metadata": {
    "ExecuteTime": {
     "end_time": "2022-02-22T19:27:19.109145Z",
     "start_time": "2022-02-22T19:27:19.079236Z"
    }
   },
   "outputs": [
    {
     "data": {
      "text/html": [
       "<div>\n",
       "<style scoped>\n",
       "    .dataframe tbody tr th:only-of-type {\n",
       "        vertical-align: middle;\n",
       "    }\n",
       "\n",
       "    .dataframe tbody tr th {\n",
       "        vertical-align: top;\n",
       "    }\n",
       "\n",
       "    .dataframe thead th {\n",
       "        text-align: right;\n",
       "    }\n",
       "</style>\n",
       "<table border=\"1\" class=\"dataframe\">\n",
       "  <thead>\n",
       "    <tr style=\"text-align: right;\">\n",
       "      <th></th>\n",
       "      <th>feature</th>\n",
       "      <th>importance</th>\n",
       "    </tr>\n",
       "  </thead>\n",
       "  <tbody>\n",
       "    <tr>\n",
       "      <th>0</th>\n",
       "      <td>lag_1</td>\n",
       "      <td>0.333333</td>\n",
       "    </tr>\n",
       "    <tr>\n",
       "      <th>1</th>\n",
       "      <td>lag_2</td>\n",
       "      <td>0.333333</td>\n",
       "    </tr>\n",
       "    <tr>\n",
       "      <th>2</th>\n",
       "      <td>lag_3</td>\n",
       "      <td>0.333333</td>\n",
       "    </tr>\n",
       "  </tbody>\n",
       "</table>\n",
       "</div>"
      ],
      "text/plain": [
       "  feature  importance\n",
       "0   lag_1    0.333333\n",
       "1   lag_2    0.333333\n",
       "2   lag_3    0.333333"
      ]
     },
     "execution_count": 8,
     "metadata": {},
     "output_type": "execute_result"
    }
   ],
   "source": [
    "forecaster = ForecasterAutoreg(LinearRegression(), lags=3)\n",
    "forecaster.fit(y=pd.Series(np.arange(5)))\n",
    "expected = pd.DataFrame({\n",
    "                'feature': ['lag_1', 'lag_2', 'lag_3'],\n",
    "                'importance': np.array([0.33333333, 0.33333333, 0.33333333])\n",
    "            })\n",
    "results = forecaster.get_feature_importance()\n",
    "results"
   ]
  },
  {
   "cell_type": "markdown",
   "id": "9e8c5fbc",
   "metadata": {},
   "source": [
    "# ForecasterAutoregCustom"
   ]
  },
  {
   "cell_type": "markdown",
   "id": "f19f8d63",
   "metadata": {
    "ExecuteTime": {
     "end_time": "2022-02-22T11:47:07.025176Z",
     "start_time": "2022-02-22T11:47:07.022270Z"
    }
   },
   "source": [
    "### Test Originales"
   ]
  },
  {
   "cell_type": "code",
   "execution_count": 19,
   "id": "fbb7c52e",
   "metadata": {
    "ExecuteTime": {
     "end_time": "2022-02-22T11:56:11.225568Z",
     "start_time": "2022-02-22T11:56:11.215320Z"
    }
   },
   "outputs": [],
   "source": [
    "def create_predictors(y):\n",
    "    '''\n",
    "    Create first 5 lags of a time series.\n",
    "    '''\n",
    "    \n",
    "    lags = y[-1:-6:-1]\n",
    "    \n",
    "    return lags \n",
    "    \n",
    "\n",
    "def test_output_get_coef_when_regressor_is_LinearRegression():\n",
    "    '''\n",
    "    Test output of get_coef when regressor is LinearRegression with lags=3\n",
    "    and it is trained with y=pd.Series(np.arange(5)).\n",
    "    '''\n",
    "    forecaster = ForecasterAutoregCustom(\n",
    "                        regressor      = LinearRegression(),\n",
    "                        fun_predictors = create_predictors,\n",
    "                        window_size    = 5\n",
    "                 )\n",
    "    forecaster.fit(y=pd.Series(np.arange(7)))\n",
    "    expected = pd.DataFrame({\n",
    "                    'feature': ['custom_predictor_0', 'custom_predictor_1',\n",
    "                                'custom_predictor_2', 'custom_predictor_3',\n",
    "                                'custom_predictor_4'],\n",
    "                    'coef': np.array([0.2, 0.2, 0.2, 0.2, 0.2])\n",
    "                })\n",
    "    results = forecaster.get_coef()\n",
    "    assert (results['feature'] == expected['feature']).all()\n",
    "    assert results['coef'].values == approx(expected['coef'].values)\n",
    "    \n",
    "\n",
    "def test_get_coef_when_regressor_is_RandomForest():\n",
    "    '''\n",
    "    Test output of get_coef when regressor is RandomForestRegressor with lags=3\n",
    "    and it is trained with y=pd.Series(np.arange(5)).\n",
    "    '''\n",
    "    forecaster = ForecasterAutoregCustom(\n",
    "                        regressor      = RandomForestRegressor(n_estimators=1, max_depth=2),\n",
    "                        fun_predictors = create_predictors,\n",
    "                        window_size    = 5\n",
    "                 )\n",
    "    forecaster.fit(y=pd.Series(np.arange(6)))\n",
    "    expected = None\n",
    "    results = forecaster.get_coef()\n",
    "    assert results is expected\n",
    "    \n",
    "def test_output_get_feature_importance_when_regressor_is_RandomForest():\n",
    "    '''\n",
    "    '''\n",
    "    forecaster = ForecasterAutoregCustom(\n",
    "                        regressor      = RandomForestRegressor(n_estimators=1, max_depth=2, random_state=123),\n",
    "                        fun_predictors = create_predictors,\n",
    "                        window_size    = 5\n",
    "                 )\n",
    "    forecaster.fit(y=pd.Series(np.arange(10)))\n",
    "    expected = np.array([0.82142857, 0., 0.17857143, 0., 0.])\n",
    "    expected = pd.DataFrame({\n",
    "                    'feature': ['custom_predictor_0', 'custom_predictor_1',\n",
    "                                'custom_predictor_2', 'custom_predictor_3',\n",
    "                                'custom_predictor_4'],\n",
    "                    'importance': np.array([0.82142857, 0., 0.17857143, 0., 0.])\n",
    "                })\n",
    "    results = forecaster.get_feature_importance()\n",
    "    assert (results['feature'] == expected['feature']).all()\n",
    "    assert results['importance'].values == approx(expected['importance'].values)\n",
    "    \n",
    "\n",
    "def test_output_get_feature_importance_when_regressor_is_linear_model():\n",
    "    '''\n",
    "    '''\n",
    "    forecaster = ForecasterAutoregCustom(\n",
    "                            regressor      = LinearRegression(),\n",
    "                            fun_predictors = create_predictors,\n",
    "                            window_size    = 5\n",
    "                    )\n",
    "    forecaster.fit(y=pd.Series(np.arange(6)))\n",
    "    expected = None\n",
    "    results = forecaster.get_feature_importance()\n",
    "    assert results is expected"
   ]
  },
  {
   "cell_type": "code",
   "execution_count": 20,
   "id": "9a39e745",
   "metadata": {
    "ExecuteTime": {
     "end_time": "2022-02-22T11:56:35.369701Z",
     "start_time": "2022-02-22T11:56:35.340234Z"
    }
   },
   "outputs": [
    {
     "name": "stderr",
     "output_type": "stream",
     "text": [
      "/home/javi/anaconda3/envs/skforecast/lib/python3.8/site-packages/skforecast/ForecasterAutoregCustom/ForecasterAutoregCustom.py:855: UserWarning: Impossible to access feature coefficients for regressor of type <class 'sklearn.ensemble._forest.RandomForestRegressor'>. This method is only valid when the regressor stores internally  the coefficients in the attribute `coef_`.\n",
      "  warnings.warn(\n",
      "/home/javi/anaconda3/envs/skforecast/lib/python3.8/site-packages/skforecast/ForecasterAutoregCustom/ForecasterAutoregCustom.py:893: UserWarning: Impossible to access feature importance for regressor of type <class 'sklearn.linear_model._base.LinearRegression'>. This method is only valid when the regressor stores internally  the feature importance in the attribute `feature_importances_`.\n",
      "  warnings.warn(\n"
     ]
    }
   ],
   "source": [
    "test_output_get_coef_when_regressor_is_LinearRegression()\n",
    "test_get_coef_when_regressor_is_RandomForest()\n",
    "test_output_get_feature_importance_when_regressor_is_RandomForest()\n",
    "test_output_get_feature_importance_when_regressor_is_linear_model()"
   ]
  },
  {
   "cell_type": "markdown",
   "id": "d2945b85",
   "metadata": {},
   "source": [
    "### Test new"
   ]
  },
  {
   "cell_type": "code",
   "execution_count": 30,
   "id": "39488330",
   "metadata": {
    "ExecuteTime": {
     "end_time": "2022-02-22T20:03:31.656290Z",
     "start_time": "2022-02-22T20:03:31.631949Z"
    }
   },
   "outputs": [],
   "source": [
    "def create_predictors(y):\n",
    "    '''\n",
    "    Create first 5 lags of a time series.\n",
    "    '''\n",
    "    lags = y[-1:-6:-1]\n",
    "    \n",
    "    return lags\n",
    "\n",
    "\n",
    "def test_output_get_feature_importance_when_regressor_is_RandomForest():\n",
    "    '''\n",
    "    Test output of get_feature_importance when regressor is RandomForestRegressor with lags=3\n",
    "    and it is trained with y=pd.Series(np.arange(10)).\n",
    "    '''\n",
    "    forecaster = ForecasterAutoregCustom(\n",
    "                        regressor      = RandomForestRegressor(n_estimators=1, max_depth=2, random_state=123),\n",
    "                        fun_predictors = create_predictors,\n",
    "                        window_size    = 5\n",
    "                 )\n",
    "    forecaster.fit(y=pd.Series(np.arange(10)))\n",
    "    expected = pd.DataFrame({\n",
    "                    'feature': ['custom_predictor_0', 'custom_predictor_1',\n",
    "                                'custom_predictor_2', 'custom_predictor_3',\n",
    "                                'custom_predictor_4'],\n",
    "                    'importance': np.array([0.82142857, 0., 0.17857143, 0., 0.])\n",
    "                })\n",
    "    results = forecaster.get_feature_importance()\n",
    "    pd.testing.assert_frame_equal(expected, results)\n",
    "    \n",
    "    \n",
    "def test_output_get_feature_importance_when_regressor_is_RandomForest_with_exog():\n",
    "    '''\n",
    "    Test output of get_feature_importance when regressor is RandomForestRegressor with lags=3\n",
    "    and it is trained with y=pd.Series(np.arange(10)) and a exogenous variable\n",
    "    exog=pd.Series(np.arange(10, 20), name='exog').\n",
    "    '''\n",
    "    forecaster = ForecasterAutoregCustom(\n",
    "                        regressor      = RandomForestRegressor(n_estimators=1, max_depth=2, random_state=123),\n",
    "                        fun_predictors = create_predictors,\n",
    "                        window_size    = 5\n",
    "                 )\n",
    "    forecaster.fit(y=pd.Series(np.arange(10)), exog=pd.Series(np.arange(10, 20), name='exog'))\n",
    "    expected = pd.DataFrame({\n",
    "                    'feature': ['custom_predictor_0', 'custom_predictor_1',\n",
    "                                'custom_predictor_2', 'custom_predictor_3',\n",
    "                                'custom_predictor_4', 'exog'],\n",
    "                    'importance': np.array([0.76190476, 0., 0.05952381, 0.17857143, 0., 0.])\n",
    "                })\n",
    "    results = forecaster.get_feature_importance()\n",
    "    pd.testing.assert_frame_equal(expected, results)\n",
    "\n",
    "\n",
    "def test_output_get_feature_importance_when_regressor_is_LinearRegression():\n",
    "    '''\n",
    "    Test output of get_feature_importance when regressor is LinearRegression with lags=3\n",
    "    and it is trained with y=pd.Series(np.arange(7)).\n",
    "    '''\n",
    "    forecaster = ForecasterAutoregCustom(\n",
    "                        regressor      = LinearRegression(),\n",
    "                        fun_predictors = create_predictors,\n",
    "                        window_size    = 5\n",
    "                 )\n",
    "    forecaster.fit(y=pd.Series(np.arange(7)))\n",
    "    expected = pd.DataFrame({\n",
    "                    'feature': ['custom_predictor_0', 'custom_predictor_1',\n",
    "                                'custom_predictor_2', 'custom_predictor_3',\n",
    "                                'custom_predictor_4'],\n",
    "                    'importance': np.array([0.2, 0.2, 0.2, 0.2, 0.2])\n",
    "                })\n",
    "    results = forecaster.get_feature_importance()\n",
    "    pd.testing.assert_frame_equal(expected, results)\n",
    "\n",
    "\n",
    "def test_output_get_feature_importance_when_regressor_is_LinearRegression_with_exog():\n",
    "    '''\n",
    "    Test output of get_feature_importance when regressor is LinearRegression with lags=3\n",
    "    and it is trained with y=pd.Series(np.arange(7)) and a exogenous variable\n",
    "    exog=pd.Series(np.arange(10, 17), name='exog').\n",
    "    '''\n",
    "    forecaster = ForecasterAutoregCustom(\n",
    "                        regressor      = LinearRegression(),\n",
    "                        fun_predictors = create_predictors,\n",
    "                        window_size    = 5\n",
    "                 )\n",
    "    forecaster.fit(y=pd.Series(np.arange(7)), exog=pd.Series(np.arange(10, 17), name='exog'))\n",
    "    expected = pd.DataFrame({\n",
    "                    'feature': ['custom_predictor_0', 'custom_predictor_1',\n",
    "                                'custom_predictor_2', 'custom_predictor_3',\n",
    "                                'custom_predictor_4', 'exog'],\n",
    "                    'importance': np.array([0.16666667, 0.16666667, 0.16666667, 0.16666667, 0.16666667, 0.16666667])\n",
    "                })\n",
    "    results = forecaster.get_feature_importance()\n",
    "    pd.testing.assert_frame_equal(expected, results)\n",
    "    \n",
    "    \n",
    "def test_output_get_feature_importance_when_regressor_no_attributes():\n",
    "    '''\n",
    "    Test output of get_feature_importance when regressor is MLPRegressor with lags=3\n",
    "    and it is trained with y=pd.Series(np.arange(10)). Since MLPRegressor hasn't attributes\n",
    "    `feature_importances_` or `coef_, results = None and a warning is raised`\n",
    "    '''\n",
    "    forecaster = ForecasterAutoregCustom(\n",
    "                    regressor      = MLPRegressor(solver = 'lbfgs', max_iter= 50, random_state=123),\n",
    "                    fun_predictors = create_predictors,\n",
    "                    window_size    = 5\n",
    "             )\n",
    "    forecaster.fit(y=pd.Series(np.arange(10)))\n",
    "    expected = None\n",
    "    results = forecaster.get_feature_importance()\n",
    "    assert results is expected\n"
   ]
  },
  {
   "cell_type": "code",
   "execution_count": 31,
   "id": "6807080a",
   "metadata": {
    "ExecuteTime": {
     "end_time": "2022-02-22T20:03:33.317668Z",
     "start_time": "2022-02-22T20:03:33.258914Z"
    }
   },
   "outputs": [
    {
     "name": "stderr",
     "output_type": "stream",
     "text": [
      "/home/javi/Documents/GitHub/skforecast/skforecast/ForecasterAutoregCustom/ForecasterAutoregCustom.py:903: UserWarning: Impossible to access feature importance for regressor of type <class 'sklearn.neural_network._multilayer_perceptron.MLPRegressor'>. This method is only valid when the regressor stores internally the feature importance in the attribute `feature_importances_` or `coef_`.\n",
      "  warnings.warn(\n"
     ]
    }
   ],
   "source": [
    "test_output_get_feature_importance_when_regressor_is_RandomForest()\n",
    "test_output_get_feature_importance_when_regressor_is_RandomForest_with_exog()\n",
    "test_output_get_feature_importance_when_regressor_is_LinearRegression()\n",
    "test_output_get_feature_importance_when_regressor_is_LinearRegression_with_exog()\n",
    "test_output_get_feature_importance_when_regressor_no_attributes()"
   ]
  },
  {
   "cell_type": "code",
   "execution_count": 71,
   "id": "4371e96c",
   "metadata": {
    "ExecuteTime": {
     "end_time": "2022-02-22T13:48:23.296458Z",
     "start_time": "2022-02-22T13:48:23.283916Z"
    }
   },
   "outputs": [
    {
     "name": "stderr",
     "output_type": "stream",
     "text": [
      "/home/javi/anaconda3/envs/skforecast/lib/python3.8/site-packages/skforecast/utils/utils.py:347: UserWarning: `exog` has DatetimeIndex index but no frequency. The index is overwritten with a RangeIndex.\n",
      "  warnings.warn(\n"
     ]
    },
    {
     "data": {
      "text/plain": [
       "array([0.76190476, 0.        , 0.05952381, 0.17857143, 0.        ,\n",
       "       0.        ])"
      ]
     },
     "execution_count": 71,
     "metadata": {},
     "output_type": "execute_result"
    }
   ],
   "source": [
    "forecaster = ForecasterAutoregCustom(\n",
    "                    regressor      = RandomForestRegressor(n_estimators=1, max_depth=2, random_state=123),\n",
    "                    fun_predictors = create_predictors,\n",
    "                    window_size    = 5\n",
    "             )\n",
    "forecaster.fit(y=pd.Series(np.arange(10)), exog=pd.Series(np.arange(10, 20), name='exog'))\n",
    "forecaster.regressor.feature_importances_"
   ]
  },
  {
   "cell_type": "code",
   "execution_count": 75,
   "id": "8243fd1a",
   "metadata": {
    "ExecuteTime": {
     "end_time": "2022-02-22T13:50:58.374882Z",
     "start_time": "2022-02-22T13:50:58.362140Z"
    }
   },
   "outputs": [
    {
     "name": "stderr",
     "output_type": "stream",
     "text": [
      "/home/javi/anaconda3/envs/skforecast/lib/python3.8/site-packages/skforecast/utils/utils.py:347: UserWarning: `exog` has DatetimeIndex index but no frequency. The index is overwritten with a RangeIndex.\n",
      "  warnings.warn(\n"
     ]
    },
    {
     "data": {
      "text/plain": [
       "array([0.16666667, 0.16666667, 0.16666667, 0.16666667, 0.16666667,\n",
       "       0.16666667])"
      ]
     },
     "execution_count": 75,
     "metadata": {},
     "output_type": "execute_result"
    }
   ],
   "source": [
    "forecaster = ForecasterAutoregCustom(\n",
    "                    regressor      = LinearRegression(),\n",
    "                    fun_predictors = create_predictors,\n",
    "                    window_size    = 5\n",
    "             )\n",
    "forecaster.fit(y=pd.Series(np.arange(7)), exog=pd.Series(np.arange(10, 17), name='exog'))\n",
    "forecaster.regressor.coef_"
   ]
  },
  {
   "cell_type": "code",
   "execution_count": 13,
   "id": "e790d48a",
   "metadata": {
    "ExecuteTime": {
     "end_time": "2022-02-22T19:38:07.954251Z",
     "start_time": "2022-02-22T19:38:07.936945Z"
    }
   },
   "outputs": [
    {
     "name": "stderr",
     "output_type": "stream",
     "text": [
      "/tmp/ipykernel_5844/3001874730.py:1: DeprecationWarning: This method was deprecated in version 0.4.3 in favor of the get_feature_importance. This method will be removed in 0.4.4\n",
      "  warnings.warn(\n"
     ]
    }
   ],
   "source": [
    "warnings.warn(\n",
    "    f'This method was deprecated in version 0.4.3 in favor of the get_feature_importance. '\n",
    "    f'This method will be removed in 0.4.4', DeprecationWarning\n",
    ")"
   ]
  },
  {
   "cell_type": "markdown",
   "id": "ae89e885",
   "metadata": {},
   "source": [
    "# ForecasterAutoregMultiOutput"
   ]
  },
  {
   "cell_type": "markdown",
   "id": "923458dd",
   "metadata": {},
   "source": [
    "## Original"
   ]
  },
  {
   "cell_type": "code",
   "execution_count": 79,
   "id": "32c2d5ac",
   "metadata": {
    "ExecuteTime": {
     "end_time": "2022-02-22T13:55:36.200049Z",
     "start_time": "2022-02-22T13:55:36.188585Z"
    }
   },
   "outputs": [],
   "source": [
    "def get_coef(self, step) -> np.ndarray:\n",
    "    '''      \n",
    "    Return estimated coefficients for the regressor stored in the forecaster\n",
    "    for a specific step. Since a separate model is created for each forecast\n",
    "    time step, it is necessary to select the model from which retrieve the\n",
    "    information.\n",
    "\n",
    "    Only valid when regressor stores internally the feature coefficients in\n",
    "    the attribute `coef_`.\n",
    "\n",
    "    Parameters\n",
    "    ----------\n",
    "    step : int\n",
    "        Model from which retrieve information (a separate model is created for\n",
    "        each forecast time step). First step is 1.\n",
    "\n",
    "    Returns \n",
    "    -------\n",
    "    coef : pandas DataFrame\n",
    "        Value of the coefficients associated with each predictor.\n",
    "\n",
    "    '''\n",
    "\n",
    "    if step > self.steps:\n",
    "        raise Exception(\n",
    "            f\"Forecaster trained for {self.steps} steps. Got step={step}.\"\n",
    "        )\n",
    "    if step < 1:\n",
    "        raise Exception(\"Minimum step is 1.\")\n",
    "\n",
    "    # Stored regressors start at index 0\n",
    "    step = step - 1\n",
    "\n",
    "    if isinstance(self.regressor, sklearn.pipeline.Pipeline):\n",
    "        estimator = self.regressors_[step][-1]\n",
    "    else:\n",
    "        estimator = self.regressors_[step]\n",
    "\n",
    "    try:\n",
    "        idx_columns_lags = np.arange(len(self.lags))\n",
    "        idx_columns_exog = np.array([], dtype=int)\n",
    "        if self.included_exog:\n",
    "            idx_columns_exog = np.arange(len(self.X_train_col_names))[len(self.lags) + step::self.steps]\n",
    "        idx_columns = np.hstack((idx_columns_lags, idx_columns_exog))\n",
    "        feature_names = [self.X_train_col_names[i] for i in idx_columns]\n",
    "        feature_names = [name.replace(f\"_step_{step+1}\", \"\") for name in feature_names]\n",
    "        coef = pd.DataFrame({\n",
    "                    'feature': feature_names,\n",
    "                    'coef' : estimator.coef_\n",
    "               })\n",
    "    except:\n",
    "        warnings.warn(\n",
    "            f\"Impossible to access feature coefficients for regressor of type {type(estimator)}. \"\n",
    "            f\"This method is only valid when the regressor stores internally \"\n",
    "            f\" the coefficients in the attribute `coef_`.\"\n",
    "        )\n",
    "\n",
    "        coef = None\n",
    "\n",
    "    return coef\n",
    "\n",
    "    \n",
    "def get_feature_importance(self, step) -> np.ndarray:\n",
    "    '''      \n",
    "    Return impurity-based feature importance of the model stored in\n",
    "    the forecaster for a specific step. Since a separate model is created for\n",
    "    each forecast time step, it is necessary to select the model from which\n",
    "    retrieve information.\n",
    "\n",
    "    Only valid when the forecaster has been trained using \n",
    "    `GradientBoostingRegressor`, `RandomForestRegressor` or \n",
    "    `HistGradientBoostingRegressor` as regressor.\n",
    "\n",
    "    Parameters\n",
    "    ----------\n",
    "    step : int\n",
    "        Model from which retrieve information (a separate model is created for\n",
    "        each forecast time step). First step is 1.\n",
    "\n",
    "    Returns \n",
    "    -------\n",
    "    feature_importance : pandas DataFrame\n",
    "        Impurity-based feature importance associated with each predictor.\n",
    "    '''\n",
    "\n",
    "    if step > self.steps:\n",
    "        raise Exception(\n",
    "            f\"Forecaster trained for {self.steps} steps. Got step={step}.\"\n",
    "        )\n",
    "    if step < 1:\n",
    "        raise Exception(\"Minimum step is 1.\")\n",
    "\n",
    "    # Stored regressors start at index 0\n",
    "    step = step - 1\n",
    "\n",
    "    if isinstance(self.regressor, sklearn.pipeline.Pipeline):\n",
    "        estimator = self.regressors_[step][-1]\n",
    "    else:\n",
    "        estimator = self.regressors_[step]\n",
    "\n",
    "    try:\n",
    "        idx_columns_lags = np.arange(len(self.lags))\n",
    "        idx_columns_exog = np.array([], dtype=int)\n",
    "        if self.included_exog:\n",
    "            idx_columns_exog = np.arange(len(self.X_train_col_names))[len(self.lags) + step::self.steps]\n",
    "        idx_columns = np.hstack((idx_columns_lags, idx_columns_exog))\n",
    "        feature_names = [self.X_train_col_names[i] for i in idx_columns]\n",
    "        feature_names = [name.replace(f\"_step_{step+1}\", \"\") for name in feature_names]\n",
    "        feature_importance = pd.DataFrame({\n",
    "                                'feature': feature_names,\n",
    "                                'importance' : estimator.feature_importances_\n",
    "                            })\n",
    "    except:\n",
    "        warnings.warn(\n",
    "            f\"Impossible to access feature importance for regressor of type {type(estimator)}. \"\n",
    "            f\"This method is only valid when the regressor stores internally \"\n",
    "            f\" the feature importance in the attribute `feature_importances_`.\"\n",
    "        )\n",
    "\n",
    "        feature_importance = None\n",
    "\n",
    "    return feature_importance"
   ]
  },
  {
   "cell_type": "markdown",
   "id": "778ec7bd",
   "metadata": {},
   "source": [
    "### Test Originales"
   ]
  },
  {
   "cell_type": "code",
   "execution_count": 81,
   "id": "27cec9c0",
   "metadata": {
    "ExecuteTime": {
     "end_time": "2022-02-22T13:58:58.963428Z",
     "start_time": "2022-02-22T13:58:58.953102Z"
    }
   },
   "outputs": [],
   "source": [
    "def test_get_feature_importance_when_regressor_is_RandomForestRegressor_lags_3_step_1():\n",
    "    '''\n",
    "    Test output of get_feature_importance for step 1, when regressor is RandomForestRegressor with lags=3\n",
    "    and it is trained with y=pd.Series(np.arange(5)).\n",
    "    '''\n",
    "    forecaster = ForecasterAutoregMultiOutput(\n",
    "                    RandomForestRegressor(random_state=123),\n",
    "                    lags = 3,\n",
    "                    steps = 1\n",
    "                 )\n",
    "    forecaster.fit(y=pd.Series(np.arange(5)))\n",
    "    results = forecaster.get_feature_importance(step=1)\n",
    "    expected = pd.DataFrame({\n",
    "                    'feature': ['lag_1', 'lag_2', 'lag_3'],\n",
    "                    'importance': np.array([0.3902439024390244, 0.3170731707317073, 0.2926829268292683])\n",
    "                })\n",
    "    pd.testing.assert_frame_equal(results, expected)\n",
    "  \n",
    "    \n",
    "def test_get_feature_importance_when_regressor_is_RandomForestRegressor_lags_3_step_1_exog_included():\n",
    "    '''\n",
    "    Test output of get_feature_importance for step 1, when regressor is RandomForestRegressor with lags=3\n",
    "    and it is trained with y=pd.Series(np.arange(5)) and\n",
    "    exog=pd.Series(np.arange(5), name='exog').\n",
    "    '''\n",
    "    forecaster = ForecasterAutoregMultiOutput(\n",
    "                    RandomForestRegressor(random_state=123),\n",
    "                    lags = 3,\n",
    "                    steps = 1\n",
    "                 )\n",
    "    forecaster.fit(y=pd.Series(np.arange(5)), exog=pd.Series(np.arange(5), name='exog'))\n",
    "    results = forecaster.get_feature_importance(step=1)\n",
    "    expected = pd.DataFrame({\n",
    "                    'feature': ['lag_1', 'lag_2', 'lag_3', 'exog'],\n",
    "                    'importance': np.array([0.1951219512195122, 0.0975609756097561,\n",
    "                                            0.36585365853658536, 0.34146341463414637])\n",
    "                })\n",
    "    pd.testing.assert_frame_equal(results, expected)\n",
    "    \n",
    "    \n",
    "def test_get_coef_when_regressor_is_LinearRegression_lags_3_step_1():\n",
    "    '''\n",
    "    Test output of get_coef for step 1, when regressor is LinearRegression with lags=3\n",
    "    and it is trained with y=pd.Series(np.arange(5)).\n",
    "    '''\n",
    "    forecaster = ForecasterAutoregMultiOutput(LinearRegression(), lags=3, steps=1)\n",
    "    forecaster.fit(y=pd.Series(np.arange(5)))\n",
    "    results = forecaster.get_coef(step=1)\n",
    "    expected = pd.DataFrame({\n",
    "                    'feature': ['lag_1', 'lag_2', 'lag_3'],\n",
    "                    'coef': np.array([0.33333333, 0.33333333, 0.33333333])\n",
    "                })\n",
    "    pd.testing.assert_frame_equal(results, expected)\n",
    "\n",
    "    \n",
    "def test_output_get_coef_when_regressor_is_RandomForest():\n",
    "    '''\n",
    "    Test output of get_coef when regressor is RandomForestRegressor with lags=3\n",
    "    and it is trained with y=pd.Series(np.arange(5)).\n",
    "    '''\n",
    "    forecaster = ForecasterAutoregMultiOutput(RandomForestRegressor(), lags=3, steps=1)\n",
    "    forecaster.fit(y=pd.Series(np.arange(5)))\n",
    "    expected = None\n",
    "    results = forecaster.get_coef(step=1)\n",
    "    assert results is expected\n",
    "\n",
    "\n",
    "def test_get_coef_when_regressor_is_LinearRegression_lags_3_step_1_exog_included():\n",
    "    '''\n",
    "    Test output of get_coef for step 1, when regressor is LinearRegression with lags=3\n",
    "    and it is trained with y=pd.Series(np.arange(5)) and\n",
    "    exog=pd.Series(np.arange(5), name='exog').\n",
    "    '''\n",
    "    forecaster = ForecasterAutoregMultiOutput(LinearRegression(), lags=3, steps=1)\n",
    "    forecaster.fit(y=pd.Series(np.arange(5)), exog=pd.Series(np.arange(5), name='exog'))\n",
    "    results = forecaster.get_coef(step=1)\n",
    "    expected = pd.DataFrame({\n",
    "                    'feature': ['lag_1', 'lag_2', 'lag_3', 'exog'],\n",
    "                    'coef': np.array([0.25, 0.25, 0.25, 0.25])\n",
    "                })\n",
    "    pd.testing.assert_frame_equal(results, expected)"
   ]
  },
  {
   "cell_type": "code",
   "execution_count": 82,
   "id": "358ff733",
   "metadata": {
    "ExecuteTime": {
     "end_time": "2022-02-22T13:58:59.569048Z",
     "start_time": "2022-02-22T13:58:59.245087Z"
    }
   },
   "outputs": [
    {
     "name": "stderr",
     "output_type": "stream",
     "text": [
      "/home/javi/anaconda3/envs/skforecast/lib/python3.8/site-packages/skforecast/utils/utils.py:347: UserWarning: `exog` has DatetimeIndex index but no frequency. The index is overwritten with a RangeIndex.\n",
      "  warnings.warn(\n",
      "/home/javi/anaconda3/envs/skforecast/lib/python3.8/site-packages/skforecast/ForecasterAutoregMultiOutput/ForecasterAutoregMultiOutput.py:671: UserWarning: Impossible to access feature coefficients for regressor of type <class 'sklearn.ensemble._forest.RandomForestRegressor'>. This method is only valid when the regressor stores internally  the coefficients in the attribute `coef_`.\n",
      "  warnings.warn(\n",
      "/home/javi/anaconda3/envs/skforecast/lib/python3.8/site-packages/skforecast/utils/utils.py:347: UserWarning: `exog` has DatetimeIndex index but no frequency. The index is overwritten with a RangeIndex.\n",
      "  warnings.warn(\n"
     ]
    }
   ],
   "source": [
    "test_get_feature_importance_when_regressor_is_RandomForestRegressor_lags_3_step_1()\n",
    "test_get_feature_importance_when_regressor_is_RandomForestRegressor_lags_3_step_1_exog_included()\n",
    "test_get_coef_when_regressor_is_LinearRegression_lags_3_step_1()\n",
    "test_output_get_coef_when_regressor_is_RandomForest()\n",
    "test_get_coef_when_regressor_is_LinearRegression_lags_3_step_1_exog_included()"
   ]
  },
  {
   "cell_type": "code",
   "execution_count": null,
   "id": "66f0ed43",
   "metadata": {},
   "outputs": [],
   "source": []
  },
  {
   "cell_type": "markdown",
   "id": "dbcf78f4",
   "metadata": {},
   "source": [
    "## New"
   ]
  },
  {
   "cell_type": "code",
   "execution_count": 15,
   "id": "cd8c9ded",
   "metadata": {
    "ExecuteTime": {
     "end_time": "2022-02-22T19:50:51.275836Z",
     "start_time": "2022-02-22T19:50:51.213711Z"
    }
   },
   "outputs": [],
   "source": [
    "def get_feature_importance(self, step) -> np.ndarray:\n",
    "    '''      \n",
    "    Return impurity-based feature importance of the model stored in\n",
    "    the forecaster for a specific step. Since a separate model is created for\n",
    "    each forecast time step, it is necessary to select the model from which\n",
    "    retrieve information.\n",
    "\n",
    "    Only valid when the forecaster has been trained using \n",
    "    `GradientBoostingRegressor`, `RandomForestRegressor` or \n",
    "    `HistGradientBoostingRegressor` as regressor.\n",
    "\n",
    "    Parameters\n",
    "    ----------\n",
    "    step : int\n",
    "        Model from which retrieve information (a separate model is created for\n",
    "        each forecast time step). First step is 1.\n",
    "\n",
    "    Returns \n",
    "    -------\n",
    "    feature_importance : pandas DataFrame\n",
    "        Impurity-based feature importance associated with each predictor.\n",
    "    '''\n",
    "\n",
    "    if step > self.steps:\n",
    "        raise Exception(\n",
    "            f\"Forecaster trained for {self.steps} steps. Got step={step}.\"\n",
    "        )\n",
    "    if step < 1:\n",
    "        raise Exception(\"Minimum step is 1.\")\n",
    "\n",
    "    # Stored regressors start at index 0\n",
    "    step = step - 1\n",
    "\n",
    "    if isinstance(self.regressor, sklearn.pipeline.Pipeline):\n",
    "        estimator = self.regressors_[step][-1]\n",
    "    else:\n",
    "        estimator = self.regressors_[step]\n",
    "\n",
    "    try:\n",
    "        idx_columns_lags = np.arange(len(self.lags))\n",
    "        idx_columns_exog = np.array([], dtype=int)\n",
    "        if self.included_exog:\n",
    "            idx_columns_exog = np.arange(len(self.X_train_col_names))[len(self.lags) + step::self.steps]\n",
    "        idx_columns = np.hstack((idx_columns_lags, idx_columns_exog))\n",
    "        feature_names = [self.X_train_col_names[i] for i in idx_columns]\n",
    "        feature_names = [name.replace(f\"_step_{step+1}\", \"\") for name in feature_names]\n",
    "        feature_importance = pd.DataFrame({\n",
    "                                'feature': feature_names,\n",
    "                                'importance' : estimator.feature_importances_\n",
    "                            })\n",
    "    except:   \n",
    "        try:\n",
    "            idx_columns_lags = np.arange(len(self.lags))\n",
    "            idx_columns_exog = np.array([], dtype=int)\n",
    "            if self.included_exog:\n",
    "                idx_columns_exog = np.arange(len(self.X_train_col_names))[len(self.lags) + step::self.steps]\n",
    "            idx_columns = np.hstack((idx_columns_lags, idx_columns_exog))\n",
    "            feature_names = [self.X_train_col_names[i] for i in idx_columns]\n",
    "            feature_names = [name.replace(f\"_step_{step+1}\", \"\") for name in feature_names]\n",
    "            feature_importance = pd.DataFrame({\n",
    "                                    'feature': feature_names,\n",
    "                                    'importance' : estimator.coef_\n",
    "                                })\n",
    "        except:\n",
    "            warnings.warn(\n",
    "                f\"Impossible to access feature importance for regressor of type {type(estimator)}. \"\n",
    "                f\"This method is only valid when the regressor stores internally \"\n",
    "                f\"the feature importance in the attribute `feature_importances_` \"\n",
    "                f\"or `coef_`.\"\n",
    "            )\n",
    "\n",
    "            feature_importance = None\n",
    "\n",
    "    return feature_importance"
   ]
  },
  {
   "cell_type": "code",
   "execution_count": 20,
   "id": "748958e5",
   "metadata": {
    "ExecuteTime": {
     "end_time": "2022-02-22T19:58:40.733972Z",
     "start_time": "2022-02-22T19:58:40.438967Z"
    }
   },
   "outputs": [],
   "source": [
    "forecaster = ForecasterAutoregMultiOutput(\n",
    "                RandomForestRegressor(random_state=123),\n",
    "                lags = 3,\n",
    "                steps = 3\n",
    "             )\n",
    "forecaster.fit(y=pd.Series(np.arange(15)), exog=pd.Series(np.arange(15), name='exog'))"
   ]
  },
  {
   "cell_type": "code",
   "execution_count": 29,
   "id": "14c63da5",
   "metadata": {
    "ExecuteTime": {
     "end_time": "2022-02-22T20:01:42.203450Z",
     "start_time": "2022-02-22T20:01:42.162894Z"
    }
   },
   "outputs": [
    {
     "name": "stdout",
     "output_type": "stream",
     "text": [
      "[0 1 2]\n",
      "[]\n",
      "[0 1 2 5]\n",
      "['lag_1', 'lag_2', 'lag_3', 'exog_step_1', 'exog_step_2', 'exog_step_3']\n",
      "['lag_1', 'lag_2', 'lag_3', 'exog_step_3']\n",
      "['lag_1', 'lag_2', 'lag_3', 'exog']\n"
     ]
    },
    {
     "data": {
      "text/html": [
       "<div>\n",
       "<style scoped>\n",
       "    .dataframe tbody tr th:only-of-type {\n",
       "        vertical-align: middle;\n",
       "    }\n",
       "\n",
       "    .dataframe tbody tr th {\n",
       "        vertical-align: top;\n",
       "    }\n",
       "\n",
       "    .dataframe thead th {\n",
       "        text-align: right;\n",
       "    }\n",
       "</style>\n",
       "<table border=\"1\" class=\"dataframe\">\n",
       "  <thead>\n",
       "    <tr style=\"text-align: right;\">\n",
       "      <th></th>\n",
       "      <th>feature</th>\n",
       "      <th>importance</th>\n",
       "    </tr>\n",
       "  </thead>\n",
       "  <tbody>\n",
       "    <tr>\n",
       "      <th>0</th>\n",
       "      <td>lag_1</td>\n",
       "      <td>0.218703</td>\n",
       "    </tr>\n",
       "    <tr>\n",
       "      <th>1</th>\n",
       "      <td>lag_2</td>\n",
       "      <td>0.195920</td>\n",
       "    </tr>\n",
       "    <tr>\n",
       "      <th>2</th>\n",
       "      <td>lag_3</td>\n",
       "      <td>0.312690</td>\n",
       "    </tr>\n",
       "    <tr>\n",
       "      <th>3</th>\n",
       "      <td>exog</td>\n",
       "      <td>0.272686</td>\n",
       "    </tr>\n",
       "  </tbody>\n",
       "</table>\n",
       "</div>"
      ],
      "text/plain": [
       "  feature  importance\n",
       "0   lag_1    0.218703\n",
       "1   lag_2    0.195920\n",
       "2   lag_3    0.312690\n",
       "3    exog    0.272686"
      ]
     },
     "metadata": {},
     "output_type": "display_data"
    }
   ],
   "source": [
    "step=2\n",
    "idx_columns_lags = np.arange(len(forecaster.lags))\n",
    "print(idx_columns_lags)\n",
    "idx_columns_exog = np.array([], dtype=int)\n",
    "print(idx_columns_exog)\n",
    "if forecaster.included_exog:\n",
    "    idx_columns_exog = np.arange(len(forecaster.X_train_col_names))[len(forecaster.lags) + step::forecaster.steps]\n",
    "idx_columns = np.hstack((idx_columns_lags, idx_columns_exog))\n",
    "print(idx_columns)\n",
    "feature_names = [forecaster.X_train_col_names[i] for i in idx_columns]\n",
    "print(forecaster.X_train_col_names)\n",
    "print(feature_names)\n",
    "feature_names = [name.replace(f\"_step_{step+1}\", \"\") for name in feature_names]\n",
    "print(feature_names)\n",
    "feature_importance = pd.DataFrame({\n",
    "                        'feature': feature_names,\n",
    "                        'importance' : forecaster.regressors_[step].feature_importances_\n",
    "                    })\n",
    "display(feature_importance)"
   ]
  },
  {
   "cell_type": "code",
   "execution_count": null,
   "id": "e2c7086c",
   "metadata": {},
   "outputs": [],
   "source": []
  },
  {
   "cell_type": "markdown",
   "id": "f8ae7d8f",
   "metadata": {},
   "source": [
    "### Test new"
   ]
  },
  {
   "cell_type": "code",
   "execution_count": 35,
   "id": "2ae01b56",
   "metadata": {
    "ExecuteTime": {
     "end_time": "2022-02-22T20:12:23.527067Z",
     "start_time": "2022-02-22T20:12:23.504572Z"
    }
   },
   "outputs": [],
   "source": [
    "def test_output_get_feature_importance_when_regressor_is_RandomForestRegressor_lags_3_step_1():\n",
    "    '''\n",
    "    Test output of get_feature_importance for step 1, when regressor is RandomForestRegressor with lags=3\n",
    "    and it is trained with y=pd.Series(np.arange(5)).\n",
    "    '''\n",
    "    forecaster = ForecasterAutoregMultiOutput(\n",
    "                    RandomForestRegressor(random_state=123),\n",
    "                    lags = 3,\n",
    "                    steps = 1\n",
    "                 )\n",
    "    forecaster.fit(y=pd.Series(np.arange(5)))\n",
    "    results = forecaster.get_feature_importance(step=1)\n",
    "    expected = pd.DataFrame({\n",
    "                    'feature': ['lag_1', 'lag_2', 'lag_3'],\n",
    "                    'importance': np.array([0.3902439024390244, 0.3170731707317073, 0.2926829268292683])\n",
    "                })\n",
    "    pd.testing.assert_frame_equal(results, expected)\n",
    "  \n",
    "    \n",
    "def test_output_get_feature_importance_when_regressor_is_RandomForestRegressor_lags_3_step_1_exog_included():\n",
    "    '''\n",
    "    Test output of get_feature_importance for step 1, when regressor is RandomForestRegressor with lags=3\n",
    "    and it is trained with y=pd.Series(np.arange(5)) and\n",
    "    exog=pd.Series(np.arange(5), name='exog').\n",
    "    '''\n",
    "    forecaster = ForecasterAutoregMultiOutput(\n",
    "                    RandomForestRegressor(random_state=123),\n",
    "                    lags = 3,\n",
    "                    steps = 1\n",
    "                 )\n",
    "    forecaster.fit(y=pd.Series(np.arange(5)), exog=pd.Series(np.arange(5), name='exog'))\n",
    "    results = forecaster.get_feature_importance(step=1)\n",
    "    expected = pd.DataFrame({\n",
    "                    'feature': ['lag_1', 'lag_2', 'lag_3', 'exog'],\n",
    "                    'importance': np.array([0.1951219512195122, 0.0975609756097561,\n",
    "                                            0.36585365853658536, 0.34146341463414637])\n",
    "                })\n",
    "    pd.testing.assert_frame_equal(results, expected)\n",
    "    \n",
    "    \n",
    "def test_output_get_feature_importance_when_regressor_is_LinearRegression_lags_3_step_1():\n",
    "    '''\n",
    "    Test output of get_feature_importance for step 1, when regressor is LinearRegression with lags=3\n",
    "    and it is trained with y=pd.Series(np.arange(5)).\n",
    "    '''\n",
    "    forecaster = ForecasterAutoregMultiOutput(LinearRegression(), lags=3, steps=1)\n",
    "    forecaster.fit(y=pd.Series(np.arange(5)))\n",
    "    results = forecaster.get_feature_importance(step=1)\n",
    "    expected = pd.DataFrame({\n",
    "                    'feature': ['lag_1', 'lag_2', 'lag_3'],\n",
    "                    'importance': np.array([0.33333333, 0.33333333, 0.33333333])\n",
    "                })\n",
    "    pd.testing.assert_frame_equal(results, expected)\n",
    "\n",
    "\n",
    "def test_output_get_feature_importance_when_regressor_is_LinearRegression_lags_3_step_1_exog_included():\n",
    "    '''\n",
    "    Test output of get_feature_importance for step 1, when regressor is LinearRegression with lags=3\n",
    "    and it is trained with y=pd.Series(np.arange(5)) and\n",
    "    exog=pd.Series(np.arange(5), name='exog').\n",
    "    '''\n",
    "    forecaster = ForecasterAutoregMultiOutput(LinearRegression(), lags=3, steps=1)\n",
    "    forecaster.fit(y=pd.Series(np.arange(5)), exog=pd.Series(np.arange(5), name='exog'))\n",
    "    results = forecaster.get_feature_importance(step=1)\n",
    "    expected = pd.DataFrame({\n",
    "                    'feature': ['lag_1', 'lag_2', 'lag_3', 'exog'],\n",
    "                    'importance': np.array([0.25, 0.25, 0.25, 0.25])\n",
    "                })\n",
    "    pd.testing.assert_frame_equal(results, expected)\n",
    "    \n",
    "\n",
    "def test_output_get_feature_importance_when_regressor_no_attributes():\n",
    "    '''\n",
    "    Test output of get_feature_importance when regressor is MLPRegressor with lags=3\n",
    "    and it is trained with y=pd.Series(np.arange(10)). Since MLPRegressor hasn't attributes\n",
    "    `feature_importances_` or `coef_, results = None and a warning is raised`\n",
    "    '''\n",
    "    forecaster = ForecasterAutoregMultiOutput(\n",
    "                    regressor      = MLPRegressor(solver = 'lbfgs', max_iter= 50, random_state=123),\n",
    "                    lags           = 5,\n",
    "                    steps          = 1\n",
    "             )\n",
    "    forecaster.fit(y=pd.Series(np.arange(10)))\n",
    "    results = forecaster.get_feature_importance(step=1)\n",
    "    expected = None\n",
    "    assert results is expected"
   ]
  },
  {
   "cell_type": "code",
   "execution_count": 36,
   "id": "f832c9e2",
   "metadata": {
    "ExecuteTime": {
     "end_time": "2022-02-22T20:12:24.463574Z",
     "start_time": "2022-02-22T20:12:24.233880Z"
    }
   },
   "outputs": [
    {
     "name": "stderr",
     "output_type": "stream",
     "text": [
      "/home/javi/Documents/GitHub/skforecast/skforecast/ForecasterAutoregMultiOutput/ForecasterAutoregMultiOutput.py:749: UserWarning: Impossible to access feature importance for regressor of type <class 'sklearn.neural_network._multilayer_perceptron.MLPRegressor'>. This method is only valid when the regressor stores internally the feature importance in the attribute `feature_importances_` or `coef_`.\n",
      "  warnings.warn(\n"
     ]
    }
   ],
   "source": [
    "test_output_get_feature_importance_when_regressor_is_RandomForestRegressor_lags_3_step_1()\n",
    "test_output_get_feature_importance_when_regressor_is_RandomForestRegressor_lags_3_step_1_exog_included()\n",
    "test_output_get_feature_importance_when_regressor_is_LinearRegression_lags_3_step_1()\n",
    "test_output_get_feature_importance_when_regressor_is_LinearRegression_lags_3_step_1_exog_included()\n",
    "test_output_get_feature_importance_when_regressor_no_attributes()"
   ]
  },
  {
   "cell_type": "code",
   "execution_count": null,
   "id": "5db523d9",
   "metadata": {},
   "outputs": [],
   "source": []
  },
  {
   "cell_type": "code",
   "execution_count": null,
   "id": "1de0f681-76fa-418a-83a9-42ead85b7594",
   "metadata": {},
   "outputs": [],
   "source": []
  },
  {
   "cell_type": "markdown",
   "id": "0bc4dd89-d549-4b0c-a5b3-9990ee412c53",
   "metadata": {},
   "source": [
    "# New Tests >= 0.4.3"
   ]
  },
  {
   "cell_type": "code",
   "execution_count": 11,
   "id": "69dd76a9-39dc-4319-ac81-b4bffc01fd23",
   "metadata": {},
   "outputs": [
    {
     "data": {
      "text/html": [
       "<div>\n",
       "<style scoped>\n",
       "    .dataframe tbody tr th:only-of-type {\n",
       "        vertical-align: middle;\n",
       "    }\n",
       "\n",
       "    .dataframe tbody tr th {\n",
       "        vertical-align: top;\n",
       "    }\n",
       "\n",
       "    .dataframe thead th {\n",
       "        text-align: right;\n",
       "    }\n",
       "</style>\n",
       "<table border=\"1\" class=\"dataframe\">\n",
       "  <thead>\n",
       "    <tr style=\"text-align: right;\">\n",
       "      <th></th>\n",
       "      <th>feature</th>\n",
       "      <th>importance</th>\n",
       "    </tr>\n",
       "  </thead>\n",
       "  <tbody>\n",
       "    <tr>\n",
       "      <th>0</th>\n",
       "      <td>lag_1</td>\n",
       "      <td>0.166667</td>\n",
       "    </tr>\n",
       "    <tr>\n",
       "      <th>1</th>\n",
       "      <td>lag_2</td>\n",
       "      <td>0.166667</td>\n",
       "    </tr>\n",
       "    <tr>\n",
       "      <th>2</th>\n",
       "      <td>lag_3</td>\n",
       "      <td>0.166667</td>\n",
       "    </tr>\n",
       "  </tbody>\n",
       "</table>\n",
       "</div>"
      ],
      "text/plain": [
       "  feature  importance\n",
       "0   lag_1    0.166667\n",
       "1   lag_2    0.166667\n",
       "2   lag_3    0.166667"
      ]
     },
     "execution_count": 11,
     "metadata": {},
     "output_type": "execute_result"
    }
   ],
   "source": [
    "forecaster = ForecasterAutoreg(\n",
    "                regressor = make_pipeline(StandardScaler(), LinearRegression()),\n",
    "                lags      = 3,\n",
    "             )\n",
    "\n",
    "forecaster.fit(y=pd.Series(np.arange(5)))\n",
    "forecaster.get_feature_importance()"
   ]
  },
  {
   "cell_type": "code",
   "execution_count": 18,
   "id": "2fde3a6c-8bc0-4454-9c6e-fff81a3633e8",
   "metadata": {},
   "outputs": [
    {
     "data": {
      "text/html": [
       "<div>\n",
       "<style scoped>\n",
       "    .dataframe tbody tr th:only-of-type {\n",
       "        vertical-align: middle;\n",
       "    }\n",
       "\n",
       "    .dataframe tbody tr th {\n",
       "        vertical-align: top;\n",
       "    }\n",
       "\n",
       "    .dataframe thead th {\n",
       "        text-align: right;\n",
       "    }\n",
       "</style>\n",
       "<table border=\"1\" class=\"dataframe\">\n",
       "  <thead>\n",
       "    <tr style=\"text-align: right;\">\n",
       "      <th></th>\n",
       "      <th>feature</th>\n",
       "      <th>importance</th>\n",
       "    </tr>\n",
       "  </thead>\n",
       "  <tbody>\n",
       "    <tr>\n",
       "      <th>0</th>\n",
       "      <td>custom_predictor_0</td>\n",
       "      <td>0.1</td>\n",
       "    </tr>\n",
       "    <tr>\n",
       "      <th>1</th>\n",
       "      <td>custom_predictor_1</td>\n",
       "      <td>0.1</td>\n",
       "    </tr>\n",
       "    <tr>\n",
       "      <th>2</th>\n",
       "      <td>custom_predictor_2</td>\n",
       "      <td>0.1</td>\n",
       "    </tr>\n",
       "    <tr>\n",
       "      <th>3</th>\n",
       "      <td>custom_predictor_3</td>\n",
       "      <td>0.1</td>\n",
       "    </tr>\n",
       "    <tr>\n",
       "      <th>4</th>\n",
       "      <td>custom_predictor_4</td>\n",
       "      <td>0.1</td>\n",
       "    </tr>\n",
       "  </tbody>\n",
       "</table>\n",
       "</div>"
      ],
      "text/plain": [
       "              feature  importance\n",
       "0  custom_predictor_0         0.1\n",
       "1  custom_predictor_1         0.1\n",
       "2  custom_predictor_2         0.1\n",
       "3  custom_predictor_3         0.1\n",
       "4  custom_predictor_4         0.1"
      ]
     },
     "execution_count": 18,
     "metadata": {},
     "output_type": "execute_result"
    }
   ],
   "source": [
    "def create_predictors(y):\n",
    "    '''\n",
    "    Create first 5 lags of a time series.\n",
    "    '''\n",
    "    lags = y[-1:-6:-1]\n",
    "    \n",
    "    return lags\n",
    "\n",
    "forecaster = ForecasterAutoregCustom(\n",
    "                regressor      = make_pipeline(StandardScaler(), LinearRegression()),\n",
    "                fun_predictors = create_predictors,\n",
    "                window_size    = 5\n",
    "                )\n",
    "forecaster.fit(y=pd.Series(np.arange(7)))\n",
    "forecaster.get_feature_importance()"
   ]
  },
  {
   "cell_type": "code",
   "execution_count": 25,
   "id": "bd1a05dc-09eb-4619-8db6-6a0b57c33f5a",
   "metadata": {},
   "outputs": [
    {
     "data": {
      "text/html": [
       "<div>\n",
       "<style scoped>\n",
       "    .dataframe tbody tr th:only-of-type {\n",
       "        vertical-align: middle;\n",
       "    }\n",
       "\n",
       "    .dataframe tbody tr th {\n",
       "        vertical-align: top;\n",
       "    }\n",
       "\n",
       "    .dataframe thead th {\n",
       "        text-align: right;\n",
       "    }\n",
       "</style>\n",
       "<table border=\"1\" class=\"dataframe\">\n",
       "  <thead>\n",
       "    <tr style=\"text-align: right;\">\n",
       "      <th></th>\n",
       "      <th>feature</th>\n",
       "      <th>importance</th>\n",
       "    </tr>\n",
       "  </thead>\n",
       "  <tbody>\n",
       "    <tr>\n",
       "      <th>0</th>\n",
       "      <td>lag_1</td>\n",
       "      <td>0.166667</td>\n",
       "    </tr>\n",
       "    <tr>\n",
       "      <th>1</th>\n",
       "      <td>lag_2</td>\n",
       "      <td>0.166667</td>\n",
       "    </tr>\n",
       "    <tr>\n",
       "      <th>2</th>\n",
       "      <td>lag_3</td>\n",
       "      <td>0.166667</td>\n",
       "    </tr>\n",
       "  </tbody>\n",
       "</table>\n",
       "</div>"
      ],
      "text/plain": [
       "  feature  importance\n",
       "0   lag_1    0.166667\n",
       "1   lag_2    0.166667\n",
       "2   lag_3    0.166667"
      ]
     },
     "execution_count": 25,
     "metadata": {},
     "output_type": "execute_result"
    }
   ],
   "source": [
    "forecaster = ForecasterAutoregMultiOutput(\n",
    "                    regressor = make_pipeline(StandardScaler(), LinearRegression()),\n",
    "                    lags      = 3,\n",
    "                    steps     = 1\n",
    "                    )\n",
    "forecaster.fit(y=pd.Series(np.arange(5)))\n",
    "forecaster.get_feature_importance(step=1)"
   ]
  },
  {
   "cell_type": "code",
   "execution_count": 30,
   "id": "014d4a99-a667-498e-949a-7fd2b8aea593",
   "metadata": {},
   "outputs": [],
   "source": [
    "def test_output_get_feature_importance_when_pipeline_FA():\n",
    "    '''\n",
    "    ForecasterAutoreg\n",
    "    Test output of get_feature_importance when regressor is pipeline,\n",
    "    (StandardScaler() + LinearRegression with lags=3),\n",
    "    it is trained with y=pd.Series(np.arange(5)).\n",
    "    '''\n",
    "    forecaster = ForecasterAutoreg(\n",
    "                    regressor = make_pipeline(StandardScaler(), LinearRegression()),\n",
    "                    lags      = 3\n",
    "                    )\n",
    "    forecaster.fit(y=pd.Series(np.arange(5)))\n",
    "    expected = pd.DataFrame({\n",
    "                    'feature': ['lag_1', 'lag_2', 'lag_3'],\n",
    "                    'importance': np.array([0.166667, 0.166667, 0.166667])\n",
    "                })\n",
    "    results = forecaster.get_feature_importance()\n",
    "    pd.testing.assert_frame_equal(expected, results)\n",
    "    \n",
    "    \n",
    "def test_output_get_feature_importance_when_pipeline_FAC():\n",
    "    '''\n",
    "    ForecasterAutoregCustom\n",
    "    Test output of get_feature_importance when regressor is pipeline,\n",
    "    (StandardScaler() + LinearRegression with lags=3),\n",
    "    it is trained with y=pd.Series(np.arange(5)).\n",
    "    '''\n",
    "    forecaster = ForecasterAutoregCustom(\n",
    "                    regressor      = make_pipeline(StandardScaler(), LinearRegression()),\n",
    "                    fun_predictors = create_predictors,\n",
    "                    window_size    = 5\n",
    "                    )\n",
    "    forecaster.fit(y=pd.Series(np.arange(7)))\n",
    "    expected = pd.DataFrame({\n",
    "                    'feature': ['custom_predictor_0', 'custom_predictor_1',\n",
    "                                'custom_predictor_2', 'custom_predictor_3',\n",
    "                                'custom_predictor_4'],\n",
    "                    'importance': np.array([0.1, 0.1, 0.1, 0.1, 0.1])\n",
    "                })\n",
    "    results = forecaster.get_feature_importance()\n",
    "    pd.testing.assert_frame_equal(expected, results)\n",
    "    \n",
    "    \n",
    "def test_output_get_feature_importance_when_pipeline_FAM():\n",
    "    '''\n",
    "    ForecasterAutoregMultiOutput\n",
    "    Test output of get_feature_importance when regressor is pipeline,\n",
    "    (StandardScaler() + LinearRegression with lags=3),\n",
    "    it is trained with y=pd.Series(np.arange(5)).\n",
    "    '''\n",
    "    forecaster = ForecasterAutoregMultiOutput(\n",
    "                        regressor = make_pipeline(StandardScaler(), LinearRegression()),\n",
    "                        lags      = 3,\n",
    "                        steps     = 1\n",
    "                        )\n",
    "    forecaster.fit(y=pd.Series(np.arange(5)))\n",
    "    expected = pd.DataFrame({\n",
    "                    'feature': ['lag_1', 'lag_2', 'lag_3'],\n",
    "                    'importance': np.array([0.166667, 0.166667, 0.166667])\n",
    "                })\n",
    "    results = forecaster.get_feature_importance(step=1)\n",
    "    pd.testing.assert_frame_equal(expected, results)"
   ]
  },
  {
   "cell_type": "code",
   "execution_count": 31,
   "id": "dafa57a8-6171-4867-aee7-0a89d5e61362",
   "metadata": {},
   "outputs": [],
   "source": [
    "test_output_get_feature_importance_when_pipeline_FA()\n",
    "test_output_get_feature_importance_when_pipeline_FAC()\n",
    "test_output_get_feature_importance_when_pipeline_FAM()"
   ]
  },
  {
   "cell_type": "code",
   "execution_count": null,
   "id": "fd0b13c1-408a-446d-80e2-230521e6b176",
   "metadata": {},
   "outputs": [],
   "source": []
  },
  {
   "cell_type": "code",
   "execution_count": null,
   "id": "9d064b62-2fd6-4dcc-af51-030de1d801af",
   "metadata": {},
   "outputs": [],
   "source": []
  },
  {
   "cell_type": "code",
   "execution_count": null,
   "id": "254fa05b-a382-4529-8c80-9b60ca41d66b",
   "metadata": {},
   "outputs": [],
   "source": []
  },
  {
   "cell_type": "code",
   "execution_count": null,
   "id": "70135ba2-8a83-4ec8-b03e-74b9a7fcf338",
   "metadata": {},
   "outputs": [],
   "source": []
  }
 ],
 "metadata": {
  "kernelspec": {
   "display_name": "skforecast",
   "language": "python",
   "name": "skforecast"
  },
  "language_info": {
   "codemirror_mode": {
    "name": "ipython",
    "version": 3
   },
   "file_extension": ".py",
   "mimetype": "text/x-python",
   "name": "python",
   "nbconvert_exporter": "python",
   "pygments_lexer": "ipython3",
   "version": "3.8.0"
  },
  "toc": {
   "base_numbering": 1,
   "nav_menu": {},
   "number_sections": true,
   "sideBar": true,
   "skip_h1_title": false,
   "title_cell": "Table of Contents",
   "title_sidebar": "Contents",
   "toc_cell": false,
   "toc_position": {
    "height": "calc(100% - 180px)",
    "left": "10px",
    "top": "150px",
    "width": "223.967px"
   },
   "toc_section_display": true,
   "toc_window_display": true
  },
  "varInspector": {
   "cols": {
    "lenName": 16,
    "lenType": 16,
    "lenVar": 40
   },
   "kernels_config": {
    "python": {
     "delete_cmd_postfix": "",
     "delete_cmd_prefix": "del ",
     "library": "var_list.py",
     "varRefreshCmd": "print(var_dic_list())"
    },
    "r": {
     "delete_cmd_postfix": ") ",
     "delete_cmd_prefix": "rm(",
     "library": "var_list.r",
     "varRefreshCmd": "cat(var_dic_list()) "
    }
   },
   "types_to_exclude": [
    "module",
    "function",
    "builtin_function_or_method",
    "instance",
    "_Feature"
   ],
   "window_display": false
  }
 },
 "nbformat": 4,
 "nbformat_minor": 5
}
