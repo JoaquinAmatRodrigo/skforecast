{
 "cells": [
  {
   "cell_type": "code",
   "execution_count": 1,
   "id": "df7c8824",
   "metadata": {
    "ExecuteTime": {
     "end_time": "2022-05-26T21:56:40.612611Z",
     "start_time": "2022-05-26T21:56:40.586417Z"
    }
   },
   "outputs": [],
   "source": [
    "%load_ext autoreload\n",
    "%autoreload 2\n",
    "import sys\n",
    "from pathlib import Path\n",
    "sys.path.insert(1, str(Path.cwd().parent.parent))\n",
    "%config Completer.use_jedi = False"
   ]
  },
  {
   "cell_type": "code",
   "execution_count": 2,
   "id": "33a49d05",
   "metadata": {
    "ExecuteTime": {
     "end_time": "2022-05-26T21:56:42.562351Z",
     "start_time": "2022-05-26T21:56:42.547179Z"
    }
   },
   "outputs": [
    {
     "data": {
      "text/plain": [
       "PosixPath('/home/javi/Documents/GitHub/skforecast/dev')"
      ]
     },
     "execution_count": 2,
     "metadata": {},
     "output_type": "execute_result"
    }
   ],
   "source": [
    "import sys\n",
    "from pathlib import Path\n",
    "(Path.cwd().parent)"
   ]
  },
  {
   "cell_type": "markdown",
   "id": "b6f9a85a",
   "metadata": {},
   "source": [
    "## Librerias"
   ]
  },
  {
   "cell_type": "code",
   "execution_count": 3,
   "id": "738fd9e7",
   "metadata": {
    "ExecuteTime": {
     "end_time": "2022-05-26T21:56:52.272839Z",
     "start_time": "2022-05-26T21:56:51.370820Z"
    }
   },
   "outputs": [],
   "source": [
    "## ForecasterAutoregMultiSeries\n",
    "# ==============================================================================\n",
    "import numpy as np\n",
    "import pandas as pd\n",
    "\n",
    "from skforecast.ForecasterAutoreg import ForecasterAutoreg\n",
    "from skforecast.utils import check_y\n",
    "from skforecast.utils import check_exog\n",
    "from skforecast.utils import preprocess_y\n",
    "from skforecast.utils import preprocess_last_window\n",
    "from skforecast.utils import preprocess_exog\n",
    "from skforecast.utils import expand_index\n",
    "from skforecast.utils import check_predict_input\n",
    "from skforecast.utils import preprocess_levels"
   ]
  },
  {
   "cell_type": "markdown",
   "id": "bd755b2d",
   "metadata": {},
   "source": [
    "## Pruebas"
   ]
  },
  {
   "cell_type": "markdown",
   "id": "ba8e2e5e",
   "metadata": {},
   "source": [
    "### Single serie"
   ]
  },
  {
   "cell_type": "code",
   "execution_count": 27,
   "id": "c39a8646",
   "metadata": {
    "ExecuteTime": {
     "end_time": "2022-05-24T08:04:58.116343Z",
     "start_time": "2022-05-24T08:04:58.016850Z"
    }
   },
   "outputs": [],
   "source": [
    "np.random.seed(123)\n",
    "y = pd.Series(np.random.rand(10))\n",
    "max_lag=3\n",
    "lags=np.array([1,2,3])\n",
    "exog = None"
   ]
  },
  {
   "cell_type": "code",
   "execution_count": 28,
   "id": "48805892",
   "metadata": {
    "ExecuteTime": {
     "end_time": "2022-05-24T08:04:58.961248Z",
     "start_time": "2022-05-24T08:04:58.857385Z"
    }
   },
   "outputs": [
    {
     "name": "stdout",
     "output_type": "stream",
     "text": [
      "0    0.696469\n",
      "1    0.286139\n",
      "2    0.226851\n",
      "3    0.551315\n",
      "4    0.719469\n",
      "5    0.423106\n",
      "6    0.980764\n",
      "7    0.684830\n",
      "8    0.480932\n",
      "9    0.392118\n",
      "dtype: float64\n",
      "[6 7 8]\n",
      "[[0.22685145 0.28613933 0.69646919]\n",
      " [0.55131477 0.22685145 0.28613933]\n",
      " [0.71946897 0.55131477 0.22685145]\n",
      " [0.42310646 0.71946897 0.55131477]\n",
      " [0.9807642  0.42310646 0.71946897]\n",
      " [0.68482974 0.9807642  0.42310646]\n",
      " [0.4809319  0.68482974 0.9807642 ]]\n",
      "[9]\n",
      "[0.55131477 0.71946897 0.42310646 0.9807642  0.68482974 0.4809319\n",
      " 0.39211752]\n"
     ]
    }
   ],
   "source": [
    "n_splits = len(y) - max_lag\n",
    "X_data   = np.full(shape=(n_splits, max_lag), fill_value=np.nan, dtype=float)\n",
    "y_data   = np.full(shape=(n_splits, 1), fill_value=np.nan, dtype= float)\n",
    "\n",
    "for i in range(n_splits):\n",
    "    X_index = np.arange(i, max_lag + i)\n",
    "    y_index = [max_lag + i]\n",
    "    X_data[i, :] = y[X_index]\n",
    "    y_data[i]    = y[y_index]\n",
    "\n",
    "X_data = X_data[:, -lags] # Only keep needed lags\n",
    "y_data = y_data.ravel()\n",
    "\n",
    "print(y)\n",
    "print(X_index)\n",
    "print(X_data)\n",
    "print(y_index)\n",
    "print(y_data)\n",
    "\n",
    "X_train = X_data\n",
    "y_train = y_data"
   ]
  },
  {
   "cell_type": "code",
   "execution_count": 31,
   "id": "00e08138",
   "metadata": {
    "ExecuteTime": {
     "end_time": "2022-05-24T08:06:18.418531Z",
     "start_time": "2022-05-24T08:06:18.325822Z"
    }
   },
   "outputs": [
    {
     "name": "stdout",
     "output_type": "stream",
     "text": [
      "0    0.696469\n",
      "1    0.286139\n",
      "2    0.226851\n",
      "3    0.551315\n",
      "4    0.719469\n",
      "5    0.423106\n",
      "6    0.980764\n",
      "7    0.684830\n",
      "8    0.480932\n",
      "9    0.392118\n",
      "dtype: float64\n",
      "========\n",
      "      lag_1     lag_2     lag_3\n",
      "3  0.226851  0.286139  0.696469\n",
      "4  0.551315  0.226851  0.286139\n",
      "5  0.719469  0.551315  0.226851\n",
      "6  0.423106  0.719469  0.551315\n",
      "7  0.980764  0.423106  0.719469\n",
      "8  0.684830  0.980764  0.423106\n",
      "9  0.480932  0.684830  0.980764\n",
      "========\n",
      "3    0.551315\n",
      "4    0.719469\n",
      "5    0.423106\n",
      "6    0.980764\n",
      "7    0.684830\n",
      "8    0.480932\n",
      "9    0.392118\n",
      "Name: y, dtype: float64\n"
     ]
    }
   ],
   "source": [
    "check_y(y=y)\n",
    "y_values, y_index = preprocess_y(y=y)\n",
    "\n",
    "if exog is not None:\n",
    "    if len(exog) != len(y):\n",
    "        raise Exception(\n",
    "            \"`exog` must have same number of samples as `y`.\"\n",
    "        )\n",
    "    check_exog(exog=exog)\n",
    "    exog_values, exog_index = preprocess_exog(exog=exog)\n",
    "    if not (exog_index[:len(y_index)] == y_index).all():\n",
    "        raise Exception(\n",
    "        ('Different index for `y` and `exog`. They must be equal '\n",
    "        'to ensure the correct alignment of values.')      \n",
    "        )\n",
    "\n",
    "# X_train, y_train = self._create_lags(y=y_values)\n",
    "X_train_col_names = [f\"lag_{i}\" for i in lags]\n",
    "if exog is not None:\n",
    "    col_names_exog = exog.columns if isinstance(exog, pd.DataFrame) else [exog.name]\n",
    "    X_train_col_names.extend(col_names_exog)\n",
    "    # The first `self.max_lag` positions have to be removed from exog\n",
    "    # since they are not in X_train.\n",
    "    X_train = np.column_stack((X_train, exog_values[max_lag:, ]))\n",
    "\n",
    "X_train = pd.DataFrame(\n",
    "            data    = X_train,\n",
    "            columns = X_train_col_names,\n",
    "            index   = y_index[max_lag: ]\n",
    "          )\n",
    "\n",
    "y_train = pd.Series(\n",
    "            data  = y_train,\n",
    "            index = y_index[max_lag: ],\n",
    "            name  = 'y'\n",
    "         )\n",
    "\n",
    "print(y)\n",
    "print(\"========\")\n",
    "print(X_train)\n",
    "print(\"========\")\n",
    "print(y_train)"
   ]
  },
  {
   "cell_type": "markdown",
   "id": "891f523a",
   "metadata": {},
   "source": [
    "### Multi-serie"
   ]
  },
  {
   "cell_type": "code",
   "execution_count": 46,
   "id": "2526229e",
   "metadata": {
    "ExecuteTime": {
     "end_time": "2022-05-26T10:30:58.632674Z",
     "start_time": "2022-05-26T10:30:58.565837Z"
    }
   },
   "outputs": [
    {
     "data": {
      "text/html": [
       "<div>\n",
       "<style scoped>\n",
       "    .dataframe tbody tr th:only-of-type {\n",
       "        vertical-align: middle;\n",
       "    }\n",
       "\n",
       "    .dataframe tbody tr th {\n",
       "        vertical-align: top;\n",
       "    }\n",
       "\n",
       "    .dataframe thead th {\n",
       "        text-align: right;\n",
       "    }\n",
       "</style>\n",
       "<table border=\"1\" class=\"dataframe\">\n",
       "  <thead>\n",
       "    <tr style=\"text-align: right;\">\n",
       "      <th></th>\n",
       "      <th>serie_1</th>\n",
       "      <th>serie_2</th>\n",
       "      <th>exog_1</th>\n",
       "      <th>exog_2</th>\n",
       "    </tr>\n",
       "    <tr>\n",
       "      <th>date</th>\n",
       "      <th></th>\n",
       "      <th></th>\n",
       "      <th></th>\n",
       "      <th></th>\n",
       "    </tr>\n",
       "  </thead>\n",
       "  <tbody>\n",
       "    <tr>\n",
       "      <th>2022-01-01 00:00:00</th>\n",
       "      <td>0.157957</td>\n",
       "      <td>0.823540</td>\n",
       "      <td>0.145651</td>\n",
       "      <td>0.998426</td>\n",
       "    </tr>\n",
       "    <tr>\n",
       "      <th>2022-01-01 05:00:00</th>\n",
       "      <td>0.284931</td>\n",
       "      <td>0.052616</td>\n",
       "      <td>0.983766</td>\n",
       "      <td>0.798464</td>\n",
       "    </tr>\n",
       "    <tr>\n",
       "      <th>2022-01-01 10:00:00</th>\n",
       "      <td>0.328161</td>\n",
       "      <td>0.364592</td>\n",
       "      <td>0.153216</td>\n",
       "      <td>0.477411</td>\n",
       "    </tr>\n",
       "    <tr>\n",
       "      <th>2022-01-01 15:00:00</th>\n",
       "      <td>0.070560</td>\n",
       "      <td>0.051346</td>\n",
       "      <td>0.215792</td>\n",
       "      <td>0.837244</td>\n",
       "    </tr>\n",
       "    <tr>\n",
       "      <th>2022-01-01 20:00:00</th>\n",
       "      <td>0.573243</td>\n",
       "      <td>0.235699</td>\n",
       "      <td>0.742374</td>\n",
       "      <td>0.711981</td>\n",
       "    </tr>\n",
       "    <tr>\n",
       "      <th>2022-01-02 01:00:00</th>\n",
       "      <td>0.589135</td>\n",
       "      <td>0.217804</td>\n",
       "      <td>0.957190</td>\n",
       "      <td>0.314574</td>\n",
       "    </tr>\n",
       "    <tr>\n",
       "      <th>2022-01-02 06:00:00</th>\n",
       "      <td>0.309275</td>\n",
       "      <td>0.676352</td>\n",
       "      <td>0.404353</td>\n",
       "      <td>0.698353</td>\n",
       "    </tr>\n",
       "    <tr>\n",
       "      <th>2022-01-02 11:00:00</th>\n",
       "      <td>0.386050</td>\n",
       "      <td>0.842057</td>\n",
       "      <td>0.089764</td>\n",
       "      <td>0.246427</td>\n",
       "    </tr>\n",
       "    <tr>\n",
       "      <th>2022-01-02 16:00:00</th>\n",
       "      <td>0.009236</td>\n",
       "      <td>0.532655</td>\n",
       "      <td>0.133031</td>\n",
       "      <td>0.000852</td>\n",
       "    </tr>\n",
       "    <tr>\n",
       "      <th>2022-01-02 21:00:00</th>\n",
       "      <td>0.609623</td>\n",
       "      <td>0.834485</td>\n",
       "      <td>0.477766</td>\n",
       "      <td>0.507961</td>\n",
       "    </tr>\n",
       "  </tbody>\n",
       "</table>\n",
       "</div>"
      ],
      "text/plain": [
       "                      serie_1   serie_2    exog_1    exog_2\n",
       "date                                                       \n",
       "2022-01-01 00:00:00  0.157957  0.823540  0.145651  0.998426\n",
       "2022-01-01 05:00:00  0.284931  0.052616  0.983766  0.798464\n",
       "2022-01-01 10:00:00  0.328161  0.364592  0.153216  0.477411\n",
       "2022-01-01 15:00:00  0.070560  0.051346  0.215792  0.837244\n",
       "2022-01-01 20:00:00  0.573243  0.235699  0.742374  0.711981\n",
       "2022-01-02 01:00:00  0.589135  0.217804  0.957190  0.314574\n",
       "2022-01-02 06:00:00  0.309275  0.676352  0.404353  0.698353\n",
       "2022-01-02 11:00:00  0.386050  0.842057  0.089764  0.246427\n",
       "2022-01-02 16:00:00  0.009236  0.532655  0.133031  0.000852\n",
       "2022-01-02 21:00:00  0.609623  0.834485  0.477766  0.507961"
      ]
     },
     "execution_count": 46,
     "metadata": {},
     "output_type": "execute_result"
    }
   ],
   "source": [
    "y_1 = pd.Series(np.random.rand(10))\n",
    "y_2 = pd.Series(np.random.rand(10))\n",
    "exog_1 = pd.Series(np.random.rand(10))\n",
    "exog_2 = pd.Series(np.random.rand(10))\n",
    "\n",
    "df = pd.DataFrame({'serie_1': y_1, 'serie_2': y_2, 'exog_1': exog_1, 'exog_2': exog_2,\n",
    "                   'date':pd.date_range(start='2022-01-01', periods=10, freq='5H')})\n",
    "\n",
    "df = df.set_index('date')\n",
    "df = df.asfreq('5H')\n",
    "df = df.sort_index()\n",
    "\n",
    "max_lag=3\n",
    "lags=np.array([1,2,3])\n",
    "\n",
    "series = df[['serie_1', 'serie_2']]\n",
    "exog = df[['exog_1', 'exog_2']]\n",
    "\n",
    "df"
   ]
  },
  {
   "cell_type": "code",
   "execution_count": 41,
   "id": "fb4685ad",
   "metadata": {
    "ExecuteTime": {
     "end_time": "2022-05-26T10:04:18.233629Z",
     "start_time": "2022-05-26T10:04:18.186306Z"
    }
   },
   "outputs": [],
   "source": [
    "def _create_lags(y: np.ndarray) -> Tuple[np.ndarray, np.ndarray]:\n",
    "\n",
    "    n_splits = len(y) - max_lag\n",
    "    X_data   = np.full(shape=(n_splits, max_lag), fill_value=np.nan, dtype=float)\n",
    "    y_data   = np.full(shape=(n_splits, 1), fill_value=np.nan, dtype= float)\n",
    "\n",
    "    for i in range(n_splits):\n",
    "        X_index = np.arange(i, max_lag + i)\n",
    "        y_index = [max_lag + i]\n",
    "        X_data[i, :] = y[X_index]\n",
    "        y_data[i]    = y[y_index]\n",
    "\n",
    "    X_data = X_data[:, -lags] # Only keep needed lags\n",
    "    y_data = y_data.ravel()\n",
    "\n",
    "    return X_data, y_data"
   ]
  },
  {
   "cell_type": "code",
   "execution_count": 81,
   "id": "5d77807e",
   "metadata": {
    "ExecuteTime": {
     "end_time": "2022-05-26T11:13:58.980269Z",
     "start_time": "2022-05-26T11:13:58.921468Z"
    }
   },
   "outputs": [
    {
     "data": {
      "text/plain": [
       "{'1': 1, '2': 2}"
      ]
     },
     "execution_count": 81,
     "metadata": {},
     "output_type": "execute_result"
    }
   ],
   "source": [
    "from skforecast.utils import preprocess_levels\n",
    "\n",
    "preprocess_levels(series)"
   ]
  },
  {
   "cell_type": "code",
   "execution_count": 85,
   "id": "1d7a4af7",
   "metadata": {
    "ExecuteTime": {
     "end_time": "2022-05-26T11:14:49.334944Z",
     "start_time": "2022-05-26T11:14:49.259190Z"
    }
   },
   "outputs": [
    {
     "data": {
      "text/html": [
       "<div>\n",
       "<style scoped>\n",
       "    .dataframe tbody tr th:only-of-type {\n",
       "        vertical-align: middle;\n",
       "    }\n",
       "\n",
       "    .dataframe tbody tr th {\n",
       "        vertical-align: top;\n",
       "    }\n",
       "\n",
       "    .dataframe thead th {\n",
       "        text-align: right;\n",
       "    }\n",
       "</style>\n",
       "<table border=\"1\" class=\"dataframe\">\n",
       "  <thead>\n",
       "    <tr style=\"text-align: right;\">\n",
       "      <th></th>\n",
       "      <th>lag_1</th>\n",
       "      <th>lag_2</th>\n",
       "      <th>lag_3</th>\n",
       "      <th>level</th>\n",
       "      <th>exog_1</th>\n",
       "      <th>exog_2</th>\n",
       "    </tr>\n",
       "  </thead>\n",
       "  <tbody>\n",
       "    <tr>\n",
       "      <th>0</th>\n",
       "      <td>0.4547229498874479</td>\n",
       "      <td>0.12827556270906715</td>\n",
       "      <td>0.6076205631455747</td>\n",
       "      <td>0</td>\n",
       "      <td>0.20953122627730225</td>\n",
       "      <td>0.47057215014408915</td>\n",
       "    </tr>\n",
       "    <tr>\n",
       "      <th>1</th>\n",
       "      <td>0.9064662357552927</td>\n",
       "      <td>0.4547229498874479</td>\n",
       "      <td>0.12827556270906715</td>\n",
       "      <td>0</td>\n",
       "      <td>0.9441407465045011</td>\n",
       "      <td>0.5059125374749236</td>\n",
       "    </tr>\n",
       "    <tr>\n",
       "      <th>2</th>\n",
       "      <td>0.7363699126847573</td>\n",
       "      <td>0.9064662357552927</td>\n",
       "      <td>0.4547229498874479</td>\n",
       "      <td>0</td>\n",
       "      <td>0.16285744642613575</td>\n",
       "      <td>0.7842974071318418</td>\n",
       "    </tr>\n",
       "    <tr>\n",
       "      <th>3</th>\n",
       "      <td>0.7733588250764596</td>\n",
       "      <td>0.7363699126847573</td>\n",
       "      <td>0.9064662357552927</td>\n",
       "      <td>0</td>\n",
       "      <td>0.30842992856374984</td>\n",
       "      <td>0.043440313257658514</td>\n",
       "    </tr>\n",
       "    <tr>\n",
       "      <th>4</th>\n",
       "      <td>0.5339511793465351</td>\n",
       "      <td>0.7733588250764596</td>\n",
       "      <td>0.7363699126847573</td>\n",
       "      <td>0</td>\n",
       "      <td>0.98365737812673</td>\n",
       "      <td>0.5676396537403264</td>\n",
       "    </tr>\n",
       "    <tr>\n",
       "      <th>5</th>\n",
       "      <td>0.26793779774979176</td>\n",
       "      <td>0.5339511793465351</td>\n",
       "      <td>0.7733588250764596</td>\n",
       "      <td>0</td>\n",
       "      <td>0.71072313083691</td>\n",
       "      <td>0.40454851699342387</td>\n",
       "    </tr>\n",
       "    <tr>\n",
       "      <th>6</th>\n",
       "      <td>0.1565410607133102</td>\n",
       "      <td>0.26793779774979176</td>\n",
       "      <td>0.5339511793465351</td>\n",
       "      <td>0</td>\n",
       "      <td>0.8817706273859857</td>\n",
       "      <td>0.3646856183619853</td>\n",
       "    </tr>\n",
       "    <tr>\n",
       "      <th>0</th>\n",
       "      <td>0.609568975699389</td>\n",
       "      <td>0.17509051028314637</td>\n",
       "      <td>0.2900796244961211</td>\n",
       "      <td>1</td>\n",
       "      <td>0.20953122627730225</td>\n",
       "      <td>0.47057215014408915</td>\n",
       "    </tr>\n",
       "    <tr>\n",
       "      <th>1</th>\n",
       "      <td>0.46470014291162043</td>\n",
       "      <td>0.609568975699389</td>\n",
       "      <td>0.17509051028314637</td>\n",
       "      <td>1</td>\n",
       "      <td>0.9441407465045011</td>\n",
       "      <td>0.5059125374749236</td>\n",
       "    </tr>\n",
       "    <tr>\n",
       "      <th>2</th>\n",
       "      <td>0.8933674757993382</td>\n",
       "      <td>0.46470014291162043</td>\n",
       "      <td>0.609568975699389</td>\n",
       "      <td>1</td>\n",
       "      <td>0.16285744642613575</td>\n",
       "      <td>0.7842974071318418</td>\n",
       "    </tr>\n",
       "    <tr>\n",
       "      <th>3</th>\n",
       "      <td>0.3132004572486694</td>\n",
       "      <td>0.8933674757993382</td>\n",
       "      <td>0.46470014291162043</td>\n",
       "      <td>1</td>\n",
       "      <td>0.30842992856374984</td>\n",
       "      <td>0.043440313257658514</td>\n",
       "    </tr>\n",
       "    <tr>\n",
       "      <th>4</th>\n",
       "      <td>0.24350525578060422</td>\n",
       "      <td>0.3132004572486694</td>\n",
       "      <td>0.8933674757993382</td>\n",
       "      <td>1</td>\n",
       "      <td>0.98365737812673</td>\n",
       "      <td>0.5676396537403264</td>\n",
       "    </tr>\n",
       "    <tr>\n",
       "      <th>5</th>\n",
       "      <td>0.863913230853102</td>\n",
       "      <td>0.24350525578060422</td>\n",
       "      <td>0.3132004572486694</td>\n",
       "      <td>1</td>\n",
       "      <td>0.71072313083691</td>\n",
       "      <td>0.40454851699342387</td>\n",
       "    </tr>\n",
       "    <tr>\n",
       "      <th>6</th>\n",
       "      <td>0.6228467386551598</td>\n",
       "      <td>0.863913230853102</td>\n",
       "      <td>0.24350525578060422</td>\n",
       "      <td>1</td>\n",
       "      <td>0.8817706273859857</td>\n",
       "      <td>0.3646856183619853</td>\n",
       "    </tr>\n",
       "  </tbody>\n",
       "</table>\n",
       "</div>"
      ],
      "text/plain": [
       "                 lag_1                lag_2                lag_3 level  \\\n",
       "0   0.4547229498874479  0.12827556270906715   0.6076205631455747     0   \n",
       "1   0.9064662357552927   0.4547229498874479  0.12827556270906715     0   \n",
       "2   0.7363699126847573   0.9064662357552927   0.4547229498874479     0   \n",
       "3   0.7733588250764596   0.7363699126847573   0.9064662357552927     0   \n",
       "4   0.5339511793465351   0.7733588250764596   0.7363699126847573     0   \n",
       "5  0.26793779774979176   0.5339511793465351   0.7733588250764596     0   \n",
       "6   0.1565410607133102  0.26793779774979176   0.5339511793465351     0   \n",
       "0    0.609568975699389  0.17509051028314637   0.2900796244961211     1   \n",
       "1  0.46470014291162043    0.609568975699389  0.17509051028314637     1   \n",
       "2   0.8933674757993382  0.46470014291162043    0.609568975699389     1   \n",
       "3   0.3132004572486694   0.8933674757993382  0.46470014291162043     1   \n",
       "4  0.24350525578060422   0.3132004572486694   0.8933674757993382     1   \n",
       "5    0.863913230853102  0.24350525578060422   0.3132004572486694     1   \n",
       "6   0.6228467386551598    0.863913230853102  0.24350525578060422     1   \n",
       "\n",
       "                exog_1                exog_2  \n",
       "0  0.20953122627730225   0.47057215014408915  \n",
       "1   0.9441407465045011    0.5059125374749236  \n",
       "2  0.16285744642613575    0.7842974071318418  \n",
       "3  0.30842992856374984  0.043440313257658514  \n",
       "4     0.98365737812673    0.5676396537403264  \n",
       "5     0.71072313083691   0.40454851699342387  \n",
       "6   0.8817706273859857    0.3646856183619853  \n",
       "0  0.20953122627730225   0.47057215014408915  \n",
       "1   0.9441407465045011    0.5059125374749236  \n",
       "2  0.16285744642613575    0.7842974071318418  \n",
       "3  0.30842992856374984  0.043440313257658514  \n",
       "4     0.98365737812673    0.5676396537403264  \n",
       "5     0.71072313083691   0.40454851699342387  \n",
       "6   0.8817706273859857    0.3646856183619853  "
      ]
     },
     "metadata": {},
     "output_type": "display_data"
    },
    {
     "data": {
      "text/plain": [
       "0    0.906466\n",
       "1    0.736370\n",
       "2    0.773359\n",
       "3    0.533951\n",
       "4    0.267938\n",
       "5    0.156541\n",
       "6    0.942138\n",
       "0    0.464700\n",
       "1    0.893367\n",
       "2    0.313200\n",
       "3    0.243505\n",
       "4    0.863913\n",
       "5    0.622847\n",
       "6    0.061554\n",
       "Name: y, dtype: float64"
      ]
     },
     "metadata": {},
     "output_type": "display_data"
    },
    {
     "data": {
      "text/plain": [
       "DatetimeIndex(['2022-01-01 00:00:00', '2022-01-01 05:00:00',\n",
       "               '2022-01-01 10:00:00', '2022-01-01 15:00:00',\n",
       "               '2022-01-01 20:00:00', '2022-01-02 01:00:00',\n",
       "               '2022-01-02 06:00:00', '2022-01-02 11:00:00',\n",
       "               '2022-01-02 16:00:00', '2022-01-02 21:00:00'],\n",
       "              dtype='datetime64[ns]', name='date', freq='5H')"
      ]
     },
     "metadata": {},
     "output_type": "display_data"
    }
   ],
   "source": [
    "y_1 = pd.Series(np.random.rand(10))\n",
    "y_2 = pd.Series(np.random.rand(10))\n",
    "exog_1 = pd.Series(np.random.rand(10))\n",
    "exog_2 = pd.Series(np.random.rand(10))\n",
    "\n",
    "df = pd.DataFrame({'s1': y_1, 's2': y_2, 'exog_1': exog_1, 'exog_2': exog_2,\n",
    "                   'date':pd.date_range(start='2022-01-01', periods=10, freq='5H')})\n",
    "\n",
    "df = df.set_index('date')\n",
    "df = df.asfreq('5H')\n",
    "df = df.sort_index()\n",
    "\n",
    "max_lag=3\n",
    "lags=np.array([1,2,3])\n",
    "\n",
    "series = df[['s1', 's2']]\n",
    "exog = df[['exog_1', 'exog_2']]\n",
    "\n",
    "# ==============================================================================\n",
    "\n",
    "if not isinstance(series, pd.DataFrame):\n",
    "    raise Exception('`series` must be a pandas DataFrame.')\n",
    "\n",
    "dict_levels = preprocess_levels(series)\n",
    "\n",
    "for j, serie in enumerate(list(dict_levels.keys())):\n",
    "\n",
    "    y = series[serie]\n",
    "    check_y(y=y)\n",
    "    y_values, y_index = preprocess_y(y=y)\n",
    "\n",
    "    if j==0 and exog is not None:\n",
    "        if len(exog) != len(series):\n",
    "            raise Exception(\n",
    "                \"`exog` must have same number of samples as `series`.\"\n",
    "            )\n",
    "        check_exog(exog=exog)\n",
    "        exog_values, exog_index = preprocess_exog(exog=exog)\n",
    "        if not (exog_index[:len(y_index)] == y_index).all():\n",
    "            raise Exception(\n",
    "                ('Different index for `series` and `exog`. They must be equal '\n",
    "                'to ensure the correct alignment of values.')      \n",
    "            )\n",
    "\n",
    "    X_train, y_train = _create_lags(y=y_values)\n",
    "    X_train_col_names = [f\"lag_{i}\" for i in lags]\n",
    "\n",
    "    X_level = np.full(shape=(len(X_train), 1), fill_value=f'{dict_levels[serie]}')\n",
    "    X_train_col_names.append('level')\n",
    "    X_train = np.column_stack((X_train, X_level))\n",
    "\n",
    "    if exog is not None:\n",
    "        col_names_exog = exog.columns if isinstance(exog, pd.DataFrame) else [exog.name]\n",
    "        X_train_col_names.extend(col_names_exog)\n",
    "        # The first `self.max_lag` positions have to be removed from exog\n",
    "        # since they are not in X_train.\n",
    "        X_train = np.column_stack((X_train, exog_values[max_lag:, ]))\n",
    "\n",
    "    if j==0:\n",
    "        X_train_df = pd.DataFrame(\n",
    "                         data    = X_train,\n",
    "                         columns = X_train_col_names\n",
    "                     )\n",
    "\n",
    "        y_train_df = pd.Series(\n",
    "                        data  = y_train,\n",
    "                        name  = 'y'\n",
    "                     )\n",
    "    else:\n",
    "        X_train_df = pd.concat([X_train_df, \n",
    "                                pd.DataFrame(\n",
    "                                    data    = X_train,\n",
    "                                    columns = X_train_col_names\n",
    "                                )\n",
    "                               ]\n",
    "                     )\n",
    "\n",
    "        y_train_df = pd.concat([y_train_df, \n",
    "                                pd.Series(\n",
    "                                    data  = y_train,\n",
    "                                    name  = 'y'\n",
    "                                )\n",
    "                               ]\n",
    "                     )\n",
    "\n",
    "display(X_train_df)\n",
    "display(y_train_df)\n",
    "display(y_index)"
   ]
  },
  {
   "cell_type": "code",
   "execution_count": 49,
   "id": "4e2821bd",
   "metadata": {
    "ExecuteTime": {
     "end_time": "2022-05-24T08:50:23.819108Z",
     "start_time": "2022-05-24T08:50:23.686769Z"
    }
   },
   "outputs": [
    {
     "data": {
      "text/plain": [
       "array([['serie_1', 'serie_1', 'serie_1']], dtype='<U7')"
      ]
     },
     "execution_count": 49,
     "metadata": {},
     "output_type": "execute_result"
    }
   ],
   "source": [
    "X_level = np.full(shape=(1, max_lag), fill_value='serie_1')\n",
    "X_level"
   ]
  },
  {
   "cell_type": "code",
   "execution_count": 56,
   "id": "c4a36d68",
   "metadata": {
    "ExecuteTime": {
     "end_time": "2022-05-24T08:54:46.472646Z",
     "start_time": "2022-05-24T08:54:46.375061Z"
    }
   },
   "outputs": [
    {
     "data": {
      "text/plain": [
       "(7, 3)"
      ]
     },
     "execution_count": 56,
     "metadata": {},
     "output_type": "execute_result"
    }
   ],
   "source": [
    "X_train.shape"
   ]
  },
  {
   "cell_type": "code",
   "execution_count": 57,
   "id": "35e3f39d",
   "metadata": {
    "ExecuteTime": {
     "end_time": "2022-05-24T08:54:52.080882Z",
     "start_time": "2022-05-24T08:54:51.980184Z"
    }
   },
   "outputs": [
    {
     "data": {
      "text/plain": [
       "(1, 7)"
      ]
     },
     "execution_count": 57,
     "metadata": {},
     "output_type": "execute_result"
    }
   ],
   "source": [
    "X_level = np.full(shape=(len(X_train), 1), fill_value=f'{col}')\n",
    "X_level.shape"
   ]
  },
  {
   "cell_type": "code",
   "execution_count": 63,
   "id": "761b1f7a",
   "metadata": {
    "ExecuteTime": {
     "end_time": "2022-05-24T11:36:26.778549Z",
     "start_time": "2022-05-24T11:36:26.705796Z"
    }
   },
   "outputs": [
    {
     "data": {
      "text/plain": [
       "array([[1, 1, 1],\n",
       "       [2, 2, 2]])"
      ]
     },
     "execution_count": 63,
     "metadata": {},
     "output_type": "execute_result"
    }
   ],
   "source": [
    "np.column_stack((np.array([1,2]), np.array([1,2]), np.array([1,2])))"
   ]
  },
  {
   "cell_type": "markdown",
   "id": "42398ce0",
   "metadata": {},
   "source": [
    "## ForecasterAutoregMultiSeries_test"
   ]
  },
  {
   "cell_type": "code",
   "execution_count": 1,
   "id": "d23bed3c",
   "metadata": {
    "ExecuteTime": {
     "end_time": "2022-05-27T11:23:24.737576Z",
     "start_time": "2022-05-27T11:23:24.672002Z"
    }
   },
   "outputs": [],
   "source": [
    "%load_ext autoreload\n",
    "%autoreload 2\n",
    "import sys\n",
    "from pathlib import Path\n",
    "sys.path.insert(1, str(Path.cwd().parent.parent))\n",
    "%config Completer.use_jedi = False"
   ]
  },
  {
   "cell_type": "code",
   "execution_count": 67,
   "id": "f2ed456c",
   "metadata": {
    "ExecuteTime": {
     "end_time": "2022-05-27T14:28:50.117535Z",
     "start_time": "2022-05-27T14:28:49.984039Z"
    }
   },
   "outputs": [],
   "source": [
    "from typing import Union, Dict, List, Tuple, Any, Optional\n",
    "import warnings\n",
    "import logging\n",
    "import numpy as np\n",
    "import pandas as pd\n",
    "import sklearn\n",
    "import sklearn.pipeline\n",
    "from sklearn.base import clone\n",
    "from copy import copy\n",
    "\n",
    "import skforecast\n",
    "from skforecast.ForecasterBase import ForecasterBase\n",
    "from skforecast.utils import check_y\n",
    "from skforecast.utils import check_exog\n",
    "from skforecast.utils import preprocess_y\n",
    "from skforecast.utils import preprocess_last_window\n",
    "from skforecast.utils import preprocess_exog\n",
    "from skforecast.utils import expand_index\n",
    "from skforecast.utils import check_predict_input\n",
    "from skforecast.utils import preprocess_levels\n",
    "\n",
    "logging.basicConfig(\n",
    "    format = '%(name)-10s %(levelname)-5s %(message)s', \n",
    "    level  = logging.INFO,\n",
    ")\n",
    "\n",
    "\n",
    "class ForecasterAutoregMultiSeries_test(ForecasterBase):\n",
    "    '''\n",
    "    This class turns any regressor compatible with the scikit-learn API into a\n",
    "    recursive autoregressive (multi-step) forecaster.\n",
    "    \n",
    "    Parameters\n",
    "    ----------\n",
    "    regressor : regressor or pipeline compatible with the scikit-learn API\n",
    "        An instance of a regressor or pipeline compatible with the scikit-learn API.\n",
    "        \n",
    "    lags : int, list, 1d numpy ndarray, range\n",
    "        Lags used as predictors. Index starts at 1, so lag 1 is equal to t-1.\n",
    "            `int`: include lags from 1 to `lags` (included).\n",
    "            `list`, `numpy ndarray` or `range`: include only lags present in `lags`,\n",
    "            all elements must be int.\n",
    "\n",
    "    \n",
    "    Attributes\n",
    "    ----------\n",
    "    regressor : regressor or pipeline compatible with the scikit-learn API\n",
    "        An instance of a regressor or pipeline compatible with the scikit-learn API.\n",
    "        \n",
    "    lags : numpy ndarray\n",
    "        Lags used as predictors.\n",
    "        \n",
    "    max_lag : int\n",
    "        Maximum value of lag included in `lags`.\n",
    "\n",
    "    last_window : pandas Series\n",
    "        Last window the forecaster has seen during trained. It stores the\n",
    "        values needed to predict the next `step` right after the training data.\n",
    "        \n",
    "    window_size: int\n",
    "        Size of the window needed to create the predictors. It is equal to\n",
    "        `max_lag`.\n",
    "        \n",
    "    fitted: Bool\n",
    "        Tag to identify if the regressor has been fitted (trained).\n",
    "        \n",
    "    index_type : type\n",
    "        Type of index of the input used in training.\n",
    "        \n",
    "    index_freq : str\n",
    "        Frequency of Index of the input used in training.\n",
    "        \n",
    "    training_range: pandas Index\n",
    "        First and last values of index of the data used during training.\n",
    "        \n",
    "    included_exog : bool\n",
    "        If the forecaster has been trained using exogenous variable/s.\n",
    "        \n",
    "    exog_type : type\n",
    "        Type of exogenous variable/s used in training.\n",
    "        \n",
    "    exog_col_names : list\n",
    "        Names of columns of `exog` if `exog` used in training was a pandas\n",
    "        DataFrame.\n",
    "\n",
    "    X_train_col_names : list\n",
    "        Names of columns of the matrix created internally for training.\n",
    "        \n",
    "    in_sample_residuals: numpy ndarray\n",
    "        Residuals of the model when predicting training data. Only stored up to\n",
    "        1000 values.\n",
    "        \n",
    "    out_sample_residuals: numpy ndarray\n",
    "        Residuals of the model when predicting non training data. Only stored\n",
    "        up to 1000 values.\n",
    "\n",
    "    creation_date: str\n",
    "        Date of creation.\n",
    "\n",
    "    fit_date: str\n",
    "        Date of last fit.\n",
    "\n",
    "    skforcast_version: str\n",
    "        Version of skforecast library used to create the forecaster.\n",
    "     \n",
    "    '''\n",
    "    \n",
    "    def __init__(self, regressor, lags: Union[int, np.ndarray, list]) -> None:\n",
    "        \n",
    "        self.regressor            = regressor\n",
    "        self.index_type           = None\n",
    "        self.index_freq           = None\n",
    "        self.index_values         = None\n",
    "        self.training_range       = None\n",
    "        self.last_window          = None\n",
    "        self.included_exog        = False\n",
    "        self.exog_type            = None\n",
    "        self.exog_col_names       = None\n",
    "        self.X_train_col_names    = None\n",
    "        self.in_sample_residuals  = None\n",
    "        self.out_sample_residuals = None\n",
    "        self.fitted               = False\n",
    "        self.levels_dict          = None\n",
    "        self.level                = None\n",
    "        self.creation_date        = pd.Timestamp.today().strftime('%Y-%m-%d %H:%M:%S')\n",
    "        self.fit_date             = None\n",
    "        self.skforcast_version    = skforecast.__version__\n",
    "        \n",
    "        if isinstance(lags, int) and lags < 1:\n",
    "            raise Exception('Minimum value of lags allowed is 1.')\n",
    "            \n",
    "        if isinstance(lags, (list, range, np.ndarray)) and min(lags) < 1:\n",
    "            raise Exception('Minimum value of lags allowed is 1.')\n",
    "\n",
    "        if isinstance(lags, (list, np.ndarray)):\n",
    "            for lag in lags:\n",
    "                if not isinstance(lag, (int, np.int64, np.int32)):\n",
    "                    raise Exception('Values in lags must be int.')\n",
    "            \n",
    "        if isinstance(lags, int):\n",
    "            self.lags = np.arange(lags) + 1\n",
    "        elif isinstance(lags, (list, range)):\n",
    "            self.lags = np.array(lags)\n",
    "        elif isinstance(lags, np.ndarray):\n",
    "            self.lags = lags\n",
    "        else:\n",
    "            raise Exception(\n",
    "                '`lags` argument must be int, 1d numpy ndarray, range or list. '\n",
    "                f\"Got {type(lags)}\"\n",
    "            )\n",
    "            \n",
    "        self.max_lag  = max(self.lags)\n",
    "        self.window_size = self.max_lag\n",
    "\n",
    "\n",
    "    def __repr__(self) -> str:\n",
    "        '''\n",
    "        Information displayed when a ForecasterAutoreg object is printed.\n",
    "        '''\n",
    "\n",
    "        if isinstance(self.regressor, sklearn.pipeline.Pipeline):\n",
    "            name_pipe_steps = tuple(name + \"__\" for name in self.regressor.named_steps.keys())\n",
    "            params = {key : value for key, value in self.regressor.get_params().items() \\\n",
    "                     if key.startswith(name_pipe_steps)}\n",
    "        else:\n",
    "            params = self.regressor.get_params()\n",
    "\n",
    "        info = (\n",
    "            f\"{'=' * len(str(type(self)).split('.')[1])} \\n\"\n",
    "            f\"{str(type(self)).split('.')[1]} \\n\"\n",
    "            f\"{'=' * len(str(type(self)).split('.')[1])} \\n\"\n",
    "            f\"Regressor: {self.regressor} \\n\"\n",
    "            f\"Lags: {self.lags} \\n\"\n",
    "            f\"Window size: {self.window_size} \\n\"\n",
    "            f\"Included exogenous: {self.included_exog} \\n\"\n",
    "            f\"Type of exogenous variable: {self.exog_type} \\n\"\n",
    "            f\"Exogenous variables names: {self.exog_col_names} \\n\"\n",
    "            f\"Training range: {self.training_range.to_list() if self.fitted else None} \\n\"\n",
    "            f\"Training index type: {str(self.index_type).split('.')[-1][:-2] if self.fitted else None} \\n\"\n",
    "            f\"Training index frequency: {self.index_freq if self.fitted else None} \\n\"\n",
    "            f\"Regressor parameters: {params} \\n\"\n",
    "            f\"Creation date: {self.creation_date} \\n\"\n",
    "            f\"Last fit date: {self.fit_date} \\n\"\n",
    "            f\"Skforecast version: {self.skforcast_version} \\n\"\n",
    "        )\n",
    "\n",
    "        return info\n",
    "\n",
    "    \n",
    "    def _create_lags(self, y: np.ndarray) -> Tuple[np.ndarray, np.ndarray]:\n",
    "        '''       \n",
    "        Transforms a 1d array into a 2d array (X) and a 1d array (y). Each row\n",
    "        in X is associated with a value of y and it represents the lags that\n",
    "        precede it.\n",
    "        \n",
    "        Notice that, the returned matrix X_data, contains the lag 1 in the first\n",
    "        column, the lag 2 in the second column and so on.\n",
    "        \n",
    "        Parameters\n",
    "        ----------        \n",
    "        y : 1d numpy ndarray\n",
    "            Training time series.\n",
    "\n",
    "        Returns \n",
    "        -------\n",
    "        X_data : 2d numpy ndarray, shape (samples - max(self.lags), len(self.lags))\n",
    "            2d numpy array with the lagged values (predictors).\n",
    "        \n",
    "        y_data : 1d np.ndarray, shape (samples - max(self.lags),)\n",
    "            Values of the time series related to each row of `X_data`.\n",
    "            \n",
    "        '''\n",
    "          \n",
    "        n_splits = len(y) - self.max_lag\n",
    "        X_data   = np.full(shape=(n_splits, self.max_lag), fill_value=np.nan, dtype=float)\n",
    "        y_data   = np.full(shape=(n_splits, 1), fill_value=np.nan, dtype= float)\n",
    "\n",
    "        for i in range(n_splits):\n",
    "            X_index = np.arange(i, self.max_lag + i)\n",
    "            y_index = [self.max_lag + i]\n",
    "            X_data[i, :] = y[X_index]\n",
    "            y_data[i]    = y[y_index]\n",
    "            \n",
    "        X_data = X_data[:, -self.lags] # Only keep needed lags\n",
    "        y_data = y_data.ravel()\n",
    "            \n",
    "        return X_data, y_data\n",
    "\n",
    "\n",
    "    def create_train_X_y(\n",
    "        self,\n",
    "        series: pd.DataFrame,\n",
    "        exog: Optional[Union[pd.Series, pd.DataFrame]]=None\n",
    "    ) -> Tuple[pd.DataFrame, pd.Series]:\n",
    "        '''\n",
    "        Create training matrices from univariate time series and exogenous\n",
    "        variables.\n",
    "        \n",
    "        Parameters\n",
    "        ----------        \n",
    "        series : pandas DataFrame\n",
    "            Training time series.\n",
    "            \n",
    "        exog : pandas Series, pandas DataFrame, default `None`\n",
    "            Exogenous variable/s included as predictor/s. Must have the same\n",
    "            number of observations as `y` and their indexes must be aligned.\n",
    "\n",
    "        Returns \n",
    "        -------\n",
    "        X_train : pandas DataFrame, shape (len(y) - self.max_lag, len(self.lags))\n",
    "            Pandas DataFrame with the training values (predictors).\n",
    "            \n",
    "        y_train : pandas Series, shape (len(y) - self.max_lag, )\n",
    "            Values (target) of the time series related to each row of `X_train`.\n",
    "        \n",
    "        '''\n",
    "        \n",
    "        if not isinstance(series, pd.DataFrame):\n",
    "            raise Exception('`series` must be a pandas DataFrame.')\n",
    "\n",
    "        self.levels_dict = preprocess_levels(series)\n",
    "        \n",
    "        for j, serie in enumerate(list(self.levels_dict.keys())):\n",
    "\n",
    "            y = series[serie]\n",
    "            check_y(y=y)\n",
    "            y_values, y_index = preprocess_y(y=y)\n",
    "\n",
    "            if j==0 and exog is not None:\n",
    "                if len(exog) != len(series):\n",
    "                    raise Exception(\n",
    "                        \"`exog` must have same number of samples as `series`.\"\n",
    "                    )\n",
    "                check_exog(exog=exog)\n",
    "                exog_values, exog_index = preprocess_exog(exog=exog)\n",
    "                if not (exog_index[:len(y_index)] == y_index).all():\n",
    "                    raise Exception(\n",
    "                        ('Different index for `series` and `exog`. They must be equal '\n",
    "                        'to ensure the correct alignment of values.')      \n",
    "                    )\n",
    "\n",
    "            X_train, y_train = self._create_lags(y=y_values)\n",
    "            X_train_col_names = [f\"lag_{i}\" for i in lags]\n",
    "\n",
    "            X_level = np.full(shape=(len(X_train), 1), fill_value=f'{self.levels_dict[serie]}')\n",
    "            X_train_col_names.append('level')\n",
    "            X_train = np.column_stack((X_train, X_level))\n",
    "\n",
    "            if exog is not None:\n",
    "                col_names_exog = exog.columns if isinstance(exog, pd.DataFrame) else [exog.name]\n",
    "                X_train_col_names.extend(col_names_exog)\n",
    "                # The first `self.max_lag` positions have to be removed from exog\n",
    "                # since they are not in X_train.\n",
    "                X_train = np.column_stack((X_train, exog_values[max_lag:, ]))\n",
    "\n",
    "            if j==0:\n",
    "                X_train_df = pd.DataFrame(\n",
    "                                 data    = X_train,\n",
    "                                 columns = X_train_col_names\n",
    "                             )\n",
    "\n",
    "                y_train_df = pd.Series(\n",
    "                                data  = y_train,\n",
    "                                name  = 'y'\n",
    "                             )\n",
    "            else:\n",
    "                X_train_df = pd.concat([X_train_df, \n",
    "                                        pd.DataFrame(\n",
    "                                            data    = X_train,\n",
    "                                            columns = X_train_col_names\n",
    "                                        )\n",
    "                                       ]\n",
    "                             )\n",
    "\n",
    "                y_train_df = pd.concat([y_train_df, \n",
    "                                        pd.Series(\n",
    "                                            data  = y_train,\n",
    "                                            name  = 'y'\n",
    "                                        )\n",
    "                                       ]\n",
    "                             )\n",
    "\n",
    "        return X_train_df, y_train_df, y_index\n",
    "\n",
    "        \n",
    "    def fit(\n",
    "        self,\n",
    "        series: pd.DataFrame,\n",
    "        exog: Optional[Union[pd.Series, pd.DataFrame]]=None\n",
    "    ) -> None:\n",
    "        '''\n",
    "        Training Forecaster.\n",
    "        \n",
    "        Parameters\n",
    "        ----------        \n",
    "        series : pandas DataFrame\n",
    "            Training time series.\n",
    "            \n",
    "        exog : pandas Series, pandas DataFrame, default `None`\n",
    "            Exogenous variable/s included as predictor/s. Must have the same\n",
    "            number of observations as `y` and their indexes must be aligned so\n",
    "            that y[i] is regressed on exog[i].\n",
    "\n",
    "\n",
    "        Returns \n",
    "        -------\n",
    "        None\n",
    "        \n",
    "        '''\n",
    "        \n",
    "        # Reset values in case the forecaster has already been fitted.\n",
    "        self.index_type           = None\n",
    "        self.index_freq           = None\n",
    "        self.index_values         = None\n",
    "        self.last_window          = None\n",
    "        self.included_exog        = False\n",
    "        self.exog_type            = None\n",
    "        self.exog_col_names       = None\n",
    "        self.X_train_col_names    = None\n",
    "        self.in_sample_residuals  = None\n",
    "        self.fitted               = False\n",
    "        self.levels_dict          = None\n",
    "        self.level                = None\n",
    "        self.training_range       = None\n",
    "        \n",
    "        if exog is not None:\n",
    "            self.included_exog = True\n",
    "            self.exog_type = type(exog)\n",
    "            self.exog_col_names = \\\n",
    "                 exog.columns.to_list() if isinstance(exog, pd.DataFrame) else exog.name\n",
    " \n",
    "        X_train, y_train, y_index = self.create_train_X_y(series=series, exog=exog)\n",
    "\n",
    "        if not str(type(self.regressor)) == \"<class 'xgboost.sklearn.XGBRegressor'>\":\n",
    "            self.regressor.fit(X=X_train, y=y_train)\n",
    "        else:\n",
    "            self.regressor.fit(X=X_train.to_numpy(), y=y_train.to_numpy())\n",
    "        \n",
    "        self.fitted = True\n",
    "        self.fit_date = pd.Timestamp.today().strftime('%Y-%m-%d %H:%M:%S')\n",
    "        self.training_range = y_index[[0, -1]]\n",
    "        self.index_type = type(y_index)\n",
    "        if isinstance(y_index, pd.DatetimeIndex):\n",
    "            self.index_freq = y_index.freqstr\n",
    "        else: \n",
    "            self.index_freq = y_index.step\n",
    "        self.index_values = y_index\n",
    "        \n",
    "        if not str(type(self.regressor)) == \"<class 'xgboost.sklearn.XGBRegressor'>\":\n",
    "            residuals = y_train - self.regressor.predict(X_train)\n",
    "        else:\n",
    "            residuals = y_train - self.regressor.predict(X_train.to_numpy())\n",
    "\n",
    "        residuals = pd.DataFrame(\n",
    "                        {'in_sample_residuals': residuals,\n",
    "                         'level'              : X_train.level\n",
    "                        },\n",
    "                        index = y_train.index\n",
    "                    )\n",
    "\n",
    "        if len(residuals) > 1000:\n",
    "            # Only up to 1000 residuals are stored\n",
    "            n_samples_per_level = int(1000/residuals['level'].nunique())\n",
    "            \n",
    "            residuals = residuals.groupby('level', group_keys=False) \\\n",
    "                        .apply(lambda x: x.sample(n_samples_per_level))\n",
    "            \n",
    "            if n_samples_per_level < 50:\n",
    "                warnings.warn(\n",
    "                    f'Due to the high number of levels, the size of residues stored in '\n",
    "                    f'`in_sample_residuals` for each level is less than 50. '\n",
    "                    f'Consider setting other residues using `set_out_sample_residuals` '\n",
    "                    f'before using `predict_interval`.'\n",
    "                )\n",
    "            \n",
    "        self.in_sample_residuals = residuals\n",
    "        \n",
    "        # The last time window of training data is stored so that lags needed as\n",
    "        # predictors in the first iteration of `predict()` can be calculated.\n",
    "        self.last_window = series.iloc[-self.max_lag:, ].copy()\n",
    "    \n",
    "\n",
    "    def _recursive_predict(\n",
    "        self,\n",
    "        steps: int,\n",
    "        last_window: np.array,\n",
    "        exog: np.array\n",
    "    ) -> pd.Series:\n",
    "        '''\n",
    "        Predict n steps ahead. It is an iterative process in which, each prediction,\n",
    "        is used as a predictor for the next step.\n",
    "        \n",
    "        Parameters\n",
    "        ----------\n",
    "        steps : int\n",
    "            Number of future steps predicted.\n",
    "        \n",
    "        last_window : numpy ndarray\n",
    "            Values of the series used to create the predictors (lags) need in the \n",
    "            first iteration of prediction (t + 1).\n",
    "            \n",
    "        exog : numpy ndarray, pandas DataFrame\n",
    "            Exogenous variable/s included as predictor/s.\n",
    "\n",
    "        Returns \n",
    "        -------\n",
    "        predictions : numpy ndarray\n",
    "            Predicted values.\n",
    "            \n",
    "        '''\n",
    "        \n",
    "        predictions = np.full(shape=steps, fill_value=np.nan)\n",
    "\n",
    "        for i in range(steps):\n",
    "            X = last_window[-self.lags].reshape(1, -1)\n",
    "            if exog is not None:\n",
    "                X = np.column_stack((X, exog[i, ].reshape(1, -1)))\n",
    "            X = np.column_stack((X, np.array(self.levels_dict[self.level]).reshape(1, -1)))\n",
    "\n",
    "            with warnings.catch_warnings():\n",
    "                # Suppress scikitlearn warning: \"X does not have valid feature names,\n",
    "                # but NoOpTransformer was fitted with feature names\".\n",
    "                warnings.simplefilter(\"ignore\")\n",
    "                prediction = self.regressor.predict(X)\n",
    "                predictions[i] = prediction.ravel()[0]\n",
    "\n",
    "            # Update `last_window` values. The first position is discarded and \n",
    "            # the new prediction is added at the end.\n",
    "            last_window = np.append(last_window[1:], prediction)\n",
    "\n",
    "        return predictions\n",
    "\n",
    "            \n",
    "    def predict(\n",
    "        self,\n",
    "        steps: int,\n",
    "        level: str,\n",
    "        last_window: Optional[pd.DataFrame]=None,\n",
    "        exog: Optional[Union[pd.Series, pd.DataFrame]]=None\n",
    "    ) -> pd.Series:\n",
    "        '''\n",
    "        Predict n steps ahead. It is an recursive process in which, each prediction,\n",
    "        is used as a predictor for the next step.\n",
    "        \n",
    "        Parameters\n",
    "        ----------\n",
    "        steps : int\n",
    "            Number of future steps predicted.\n",
    "            \n",
    "        level : str\n",
    "            Time series to be predicted.\n",
    "            \n",
    "        last_window : pandas DataFrame, default `None`\n",
    "            Values of the series used to create the predictors (lags) need in the \n",
    "            first iteration of prediction (t + 1).\n",
    "    \n",
    "            If `last_window = None`, the values stored in` self.last_window` are\n",
    "            used to calculate the initial predictors, and the predictions start\n",
    "            right after training data.\n",
    "            \n",
    "        exog : pandas Series, pandas DataFrame, default `None`\n",
    "            Exogenous variable/s included as predictor/s.\n",
    "\n",
    "        Returns \n",
    "        -------\n",
    "        predictions : pandas Series\n",
    "            Predicted values.\n",
    "            \n",
    "        '''\n",
    "        \n",
    "        self.level = level\n",
    "        \n",
    "        check_predict_input(\n",
    "            forecaster_type = type(self),\n",
    "            steps           = steps,\n",
    "            fitted          = self.fitted,\n",
    "            included_exog   = self.included_exog,\n",
    "            index_type      = self.index_type,\n",
    "            index_freq      = self.index_freq,\n",
    "            window_size     = self.window_size,\n",
    "            last_window     = last_window,\n",
    "            exog            = exog,\n",
    "            exog_type       = self.exog_type,\n",
    "            exog_col_names  = self.exog_col_names,\n",
    "            max_steps       = None,\n",
    "        ) \n",
    "\n",
    "        if exog is not None:\n",
    "            if isinstance(exog, pd.DataFrame):\n",
    "                exog_values, _ = preprocess_exog(\n",
    "                                    exog = exog[self.exog_col_names].iloc[:steps, ]\n",
    "                                 )\n",
    "            else: \n",
    "                exog_values, _ = preprocess_exog(\n",
    "                                    exog = exog.iloc[:steps, ]\n",
    "                                 )\n",
    "        else:\n",
    "            exog_values = None\n",
    "            \n",
    "        if last_window is not None:\n",
    "            last_window_values, last_window_index = preprocess_last_window(\n",
    "                                                        last_window = last_window\n",
    "                                                    )  \n",
    "        else:\n",
    "            last_window = self.last_window[level]\n",
    "            \n",
    "            last_window_values, last_window_index = preprocess_last_window(\n",
    "                                                        last_window = last_window\n",
    "                                                    )\n",
    "            \n",
    "        predictions = self._recursive_predict(\n",
    "                        steps       = steps,\n",
    "                        last_window = copy(last_window_values),\n",
    "                        exog        = copy(exog_values)\n",
    "                      )\n",
    "\n",
    "        predictions = pd.Series(\n",
    "                        data  = predictions,\n",
    "                        index = expand_index(\n",
    "                                    index = last_window_index,\n",
    "                                    steps = steps\n",
    "                                ),\n",
    "                        name = 'pred'\n",
    "                      )\n",
    "\n",
    "        return predictions\n",
    "    \n",
    "    \n",
    "    def _estimate_boot_interval(\n",
    "        self,\n",
    "        steps: int,\n",
    "        last_window: Optional[np.ndarray]=None,\n",
    "        exog: Optional[np.ndarray]=None,\n",
    "        interval: list=[5, 95],\n",
    "        n_boot: int=500,\n",
    "        random_state: int=123,\n",
    "        in_sample_residuals: bool=True\n",
    "    ) -> np.ndarray:\n",
    "        '''\n",
    "        Iterative process in which, each prediction, is used as a predictor\n",
    "        for the next step and bootstrapping is used to estimate prediction\n",
    "        intervals. This method only returns prediction intervals.\n",
    "        See predict_intervals() to calculate both, predictions and intervals.\n",
    "        \n",
    "        Parameters\n",
    "        ----------   \n",
    "        steps : int\n",
    "            Number of future steps predicted.\n",
    "            \n",
    "        last_window : 1d numpy ndarray shape (, max_lag), default `None`\n",
    "            Values of the series used to create the predictors (lags) needed in the \n",
    "            first iteration of prediction (t + 1).\n",
    "    \n",
    "            If `last_window = `None`, the values stored in` self.last_window` are\n",
    "            used to calculate the initial predictors, and the predictions start\n",
    "            right after training data.\n",
    "            \n",
    "        exog : numpy ndarray, default `None`\n",
    "            Exogenous variable/s included as predictor/s.\n",
    "            \n",
    "        n_boot: int, default `500`\n",
    "            Number of bootstrapping iterations used to estimate prediction\n",
    "            intervals.\n",
    "\n",
    "        random_state: int\n",
    "            Sets a seed to the random generator, so that boot intervals are always \n",
    "            deterministic.\n",
    "            \n",
    "        interval: list, default `[5, 95]`\n",
    "            Confidence of the prediction interval estimated. Sequence of percentiles\n",
    "            to compute, which must be between 0 and 100 inclusive.\n",
    "            \n",
    "        in_sample_residuals: bool, default `True`\n",
    "            If `True`, residuals from the training data are used as proxy of\n",
    "            prediction error to create prediction intervals. If `False`, out of\n",
    "            sample residuals are used. In the latter case, the user should have\n",
    "            calculated and stored the residuals within the forecaster (see\n",
    "            `set_out_sample_residuals()`).\n",
    "            \n",
    "\n",
    "        Returns \n",
    "        -------\n",
    "        prediction_interval : numpy ndarray, shape (steps, 2)\n",
    "            Interval estimated for each prediction by bootstrapping:\n",
    "                first column = lower bound of the interval.\n",
    "                second column= upper bound interval of the interval.\n",
    "\n",
    "        Notes\n",
    "        -----\n",
    "        More information about prediction intervals in forecasting:\n",
    "        https://otexts.com/fpp2/prediction-intervals.html\n",
    "        Forecasting: Principles and Practice (2nd ed) Rob J Hyndman and\n",
    "        George Athanasopoulos.\n",
    "            \n",
    "        '''\n",
    "        \n",
    "        if last_window is None:\n",
    "            last_window = self.last_window[self.level]\n",
    "            last_window = last_window.values\n",
    "\n",
    "        boot_predictions = np.full(\n",
    "                                shape      = (steps, n_boot),\n",
    "                                fill_value = np.nan,\n",
    "                                dtype      = float\n",
    "                           )\n",
    "        rng = np.random.default_rng(seed=random_state)\n",
    "        seeds = rng.integers(low=0, high=10000, size=n_boot)\n",
    "\n",
    "        for i in range(n_boot):\n",
    "            # In each bootstraping iteration the initial last_window and exog \n",
    "            # need to be restored.\n",
    "            last_window_boot = last_window.copy()\n",
    "            if exog is not None:\n",
    "                exog_boot = exog.copy()\n",
    "            else:\n",
    "                exog_boot = None\n",
    " \n",
    "            if in_sample_residuals:\n",
    "                residuals = self.in_sample_residuals[self.in_sample_residuals['level'] \\\n",
    "                                                     == str(self.levels_dict[self.level])] \\\n",
    "                                                    ['in_sample_residuals']\n",
    "            else:\n",
    "                residuals = self.out_sample_residuals\n",
    "\n",
    "            rng = np.random.default_rng(seed=seeds[i])\n",
    "            sample_residuals = rng.choice(\n",
    "                                    a       = residuals,\n",
    "                                    size    = steps,\n",
    "                                    replace = True\n",
    "                               )\n",
    "\n",
    "            for step in range(steps):\n",
    "                prediction = self._recursive_predict(\n",
    "                                steps       = 1,\n",
    "                                last_window = last_window_boot,\n",
    "                                exog        = exog_boot \n",
    "                             )\n",
    "                \n",
    "                prediction_with_residual  = prediction + sample_residuals[step]\n",
    "                boot_predictions[step, i] = prediction_with_residual\n",
    "\n",
    "                last_window_boot = np.append(\n",
    "                                       last_window_boot[1:],\n",
    "                                       prediction_with_residual\n",
    "                                   )\n",
    "                \n",
    "                if exog is not None:\n",
    "                    exog_boot = exog_boot[1:]\n",
    "                            \n",
    "        prediction_interval = np.percentile(boot_predictions, q=interval, axis=1)\n",
    "        prediction_interval = prediction_interval.transpose()\n",
    "        \n",
    "        return prediction_interval\n",
    "    \n",
    "        \n",
    "    def predict_interval(\n",
    "        self,\n",
    "        steps: int,\n",
    "        level: str,\n",
    "        last_window: Optional[pd.DataFrame]=None,\n",
    "        exog: Optional[Union[pd.Series, pd.DataFrame]]=None,\n",
    "        interval: list=[5, 95],\n",
    "        n_boot: int=500,\n",
    "        random_state: int=123,\n",
    "        in_sample_residuals: bool=True\n",
    "    ) -> pd.DataFrame:\n",
    "        '''\n",
    "        Iterative process in which, each prediction, is used as a predictor\n",
    "        for the next step and bootstrapping is used to estimate prediction\n",
    "        intervals. Both, predictions and intervals, are returned.\n",
    "        \n",
    "        Parameters\n",
    "        ---------- \n",
    "        steps : int\n",
    "            Number of future steps predicted.\n",
    "        \n",
    "        level : str\n",
    "            Time series to be predicted.        \n",
    "            \n",
    "        last_window : pandas DataFrame, default `None`\n",
    "            Values of the series used to create the predictors (lags) needed in the \n",
    "            first iteration of prediction (t + 1).\n",
    "    \n",
    "            If `last_window = None`, the values stored in` self.last_window` are\n",
    "            used to calculate the initial predictors, and the predictions start\n",
    "            right after training data.\n",
    "            \n",
    "        exog : pandas Series, pandas DataFrame, default `None`\n",
    "            Exogenous variable/s included as predictor/s.\n",
    "            \n",
    "        interval: list, default `[5, 95]`\n",
    "            Confidence of the prediction interval estimated. Sequence of percentiles\n",
    "            to compute, which must be between 0 and 100 inclusive.\n",
    "            \n",
    "        n_boot: int, default `500`\n",
    "            Number of bootstrapping iterations used to estimate prediction\n",
    "            intervals.\n",
    "\n",
    "        random_state: int, default 123\n",
    "            Sets a seed to the random generator, so that boot intervals are always \n",
    "            deterministic.\n",
    "            \n",
    "        in_sample_residuals: bool, default `True`\n",
    "            If `True`, residuals from the training data are used as proxy of\n",
    "            prediction error to create prediction intervals. If `False`, out of\n",
    "            sample residuals are used. In the latter case, the user should have\n",
    "            calculated and stored the residuals within the forecaster (see\n",
    "            `set_out_sample_residuals()`).\n",
    "\n",
    "        Returns \n",
    "        -------\n",
    "        predictions : pandas DataFrame\n",
    "            Values predicted by the forecaster and their estimated interval:\n",
    "                column pred = predictions.\n",
    "                column lower_bound = lower bound of the interval.\n",
    "                column upper_bound = upper bound interval of the interval.\n",
    "\n",
    "        Notes\n",
    "        -----\n",
    "        More information about prediction intervals in forecasting:\n",
    "        https://otexts.com/fpp2/prediction-intervals.html\n",
    "        Forecasting: Principles and Practice (2nd ed) Rob J Hyndman and\n",
    "        George Athanasopoulos.\n",
    "            \n",
    "        '''\n",
    "        \n",
    "        self.level = level\n",
    "        \n",
    "        check_predict_input(\n",
    "            forecaster_type = type(self),\n",
    "            steps           = steps,\n",
    "            fitted          = self.fitted,\n",
    "            included_exog   = self.included_exog,\n",
    "            index_type      = self.index_type,\n",
    "            index_freq      = self.index_freq,\n",
    "            window_size     = self.window_size,\n",
    "            last_window     = last_window,\n",
    "            exog            = exog,\n",
    "            exog_type       = self.exog_type,\n",
    "            exog_col_names  = self.exog_col_names,\n",
    "            max_steps       = None,\n",
    "        ) \n",
    "        \n",
    "        if exog is not None:\n",
    "            if isinstance(exog, pd.DataFrame):\n",
    "                exog_values, _ = preprocess_exog(\n",
    "                                    exog = exog[self.exog_col_names].iloc[:steps, ]\n",
    "                                 )\n",
    "            else: \n",
    "                exog_values, _ = preprocess_exog(\n",
    "                                    exog = exog.iloc[:steps, ]\n",
    "                                 )\n",
    "        else:\n",
    "            exog_values = None\n",
    "            \n",
    "        if last_window is not None:\n",
    "            last_window_values, last_window_index = preprocess_last_window(\n",
    "                                                        last_window = last_window\n",
    "                                                    )  \n",
    "        else:\n",
    "            last_window = self.last_window[level]\n",
    "            \n",
    "            last_window_values, last_window_index = preprocess_last_window(\n",
    "                                                        last_window = last_window\n",
    "                                                    )\n",
    "        \n",
    "        # Since during predict() `last_window_values` and `exog_values` are modified,\n",
    "        # the originals are stored to be used later.\n",
    "        last_window_values_original = last_window_values.copy()\n",
    "        if exog is not None:\n",
    "            exog_values_original = exog_values.copy()\n",
    "        else:\n",
    "            exog_values_original = None\n",
    "              \n",
    "        predictions = self._recursive_predict(\n",
    "                            steps       = steps,\n",
    "                            last_window = last_window_values,\n",
    "                            exog        = exog_values\n",
    "                      )\n",
    "\n",
    "        predictions_interval = self._estimate_boot_interval(\n",
    "                                    steps       = steps,\n",
    "                                    last_window = copy(last_window_values_original),\n",
    "                                    exog        = copy(exog_values_original),\n",
    "                                    interval    = interval,\n",
    "                                    n_boot      = n_boot,\n",
    "                                    random_state = random_state,\n",
    "                                    in_sample_residuals = in_sample_residuals\n",
    "                               )\n",
    "        \n",
    "        predictions = np.column_stack((predictions, predictions_interval))\n",
    "\n",
    "        predictions = pd.DataFrame(\n",
    "                        data = predictions,\n",
    "                        index = expand_index(\n",
    "                                    index = last_window_index,\n",
    "                                    steps = steps\n",
    "                                ),\n",
    "                        columns = ['pred', 'lower_bound', 'upper_bound']\n",
    "                      )\n",
    "\n",
    "        return predictions\n",
    "\n",
    "    \n",
    "    def set_params(self, **params: dict) -> None:\n",
    "        '''\n",
    "        Set new values to the parameters of the scikit learn model stored in the\n",
    "        ForecasterAutoreg.\n",
    "        \n",
    "        Parameters\n",
    "        ----------\n",
    "        params : dict\n",
    "            Parameters values.\n",
    "\n",
    "        Returns \n",
    "        -------\n",
    "        self\n",
    "        \n",
    "        '''\n",
    "        self.regressor = clone(self.regressor)\n",
    "        self.regressor.set_params(**params)\n",
    "        \n",
    "        \n",
    "    def set_lags(self, lags: Union[int, list, np.ndarray, range]) -> None:\n",
    "        '''      \n",
    "        Set new value to the attribute `lags`.\n",
    "        Attributes `max_lag` and `window_size` are also updated.\n",
    "        \n",
    "        Parameters\n",
    "        ----------\n",
    "        lags : int, list, 1D np.array, range\n",
    "            Lags used as predictors. Index starts at 1, so lag 1 is equal to t-1.\n",
    "                `int`: include lags from 1 to `lags`.\n",
    "                `list` or `np.array`: include only lags present in `lags`.\n",
    "\n",
    "        Returns \n",
    "        -------\n",
    "        None\n",
    "        \n",
    "        '''\n",
    "        \n",
    "        if isinstance(lags, int) and lags < 1:\n",
    "            raise Exception('min value of lags allowed is 1')\n",
    "            \n",
    "        if isinstance(lags, (list, range, np.ndarray)) and min(lags) < 1:\n",
    "            raise Exception('min value of lags allowed is 1')\n",
    "            \n",
    "        if isinstance(lags, int):\n",
    "            self.lags = np.arange(lags) + 1\n",
    "        elif isinstance(lags, (list, range)):\n",
    "            self.lags = np.array(lags)\n",
    "        elif isinstance(lags, np.ndarray):\n",
    "            self.lags = lags\n",
    "        else:\n",
    "            raise Exception(\n",
    "                f\"`lags` argument must be `int`, `1D np.ndarray`, `range` or `list`. \"\n",
    "                f\"Got {type(lags)}\"\n",
    "            )\n",
    "            \n",
    "        self.max_lag  = max(self.lags)\n",
    "        self.window_size = max(self.lags)\n",
    "        \n",
    "        \n",
    "    def set_out_sample_residuals(\n",
    "        self, \n",
    "        residuals: pd.Series, \n",
    "        append: bool=True\n",
    "    )-> None:\n",
    "        '''\n",
    "        Set new values to the attribute `out_sample_residuals`. Out of sample\n",
    "        residuals are meant to be calculated using observations that did not\n",
    "        participate in the training process.\n",
    "        \n",
    "        Parameters\n",
    "        ----------\n",
    "        residuals : pd.Series\n",
    "            Values of residuals. If len(residuals) > 1000, only a random sample\n",
    "            of 1000 values are stored.\n",
    "            \n",
    "        append : bool, default `True`\n",
    "            If `True`, new residuals are added to the once already stored in the\n",
    "            attribute `out_sample_residuals`. Once the limit of 1000 values is\n",
    "            reached, no more values are appended. If False, `out_sample_residuals`\n",
    "            is overwritten with the new residuals.\n",
    "            \n",
    "        Returns \n",
    "        -------\n",
    "        self\n",
    "        '''\n",
    "\n",
    "        if not isinstance(residuals, pd.Series):\n",
    "            raise Exception(\n",
    "                f\"`residuals` argument must be `pd.Series`. Got {type(residuals)}\"\n",
    "            )\n",
    "\n",
    "        if len(residuals) > 1000:\n",
    "            rng = np.random.default_rng(seed=123)\n",
    "            residuals = rng.choice(a=residuals, size=1000, replace=False)\n",
    "            residuals = pd.Series(residuals)   \n",
    "      \n",
    "        if append and self.out_sample_residuals is not None:\n",
    "            free_space = max(0, 1000 - len(self.out_sample_residuals))\n",
    "            if len(residuals) < free_space:\n",
    "                residuals = np.hstack((\n",
    "                                self.out_sample_residuals,\n",
    "                                residuals\n",
    "                            ))\n",
    "            else:\n",
    "                residuals = np.hstack((\n",
    "                                self.out_sample_residuals,\n",
    "                                residuals[:free_space]\n",
    "                            ))\n",
    "\n",
    "        self.out_sample_residuals = pd.Series(residuals)\n",
    "\n",
    "    \n",
    "    def get_feature_importance(self) -> pd.DataFrame:\n",
    "        '''      \n",
    "        Return feature importance of the regressor stored in the\n",
    "        forecaster. Only valid when regressor stores internally the feature\n",
    "        importance in the attribute `feature_importances_` or `coef_`.\n",
    "\n",
    "        Parameters\n",
    "        ----------\n",
    "        self\n",
    "\n",
    "        Returns\n",
    "        -------\n",
    "        feature_importance : pandas DataFrame\n",
    "            Feature importance associated with each predictor.\n",
    "        '''\n",
    "\n",
    "        if isinstance(self.regressor, sklearn.pipeline.Pipeline):\n",
    "            estimator = self.regressor[-1]\n",
    "        else:\n",
    "            estimator = self.regressor\n",
    "\n",
    "        try:\n",
    "            feature_importance = pd.DataFrame({\n",
    "                                    'feature': self.X_train_col_names,\n",
    "                                    'importance' : estimator.feature_importances_\n",
    "                                })\n",
    "        except:   \n",
    "            try:\n",
    "                feature_importance = pd.DataFrame({\n",
    "                                        'feature': self.X_train_col_names,\n",
    "                                        'importance' : estimator.coef_\n",
    "                                    })\n",
    "            except:\n",
    "                warnings.warn(\n",
    "                    f\"Impossible to access feature importance for regressor of type {type(estimator)}. \"\n",
    "                    f\"This method is only valid when the regressor stores internally \"\n",
    "                    f\"the feature importance in the attribute `feature_importances_` \"\n",
    "                    f\"or `coef_`.\"\n",
    "                )\n",
    "\n",
    "                feature_importance = None\n",
    "\n",
    "        return feature_importance"
   ]
  },
  {
   "cell_type": "code",
   "execution_count": 68,
   "id": "1d382bfa",
   "metadata": {
    "ExecuteTime": {
     "end_time": "2022-05-27T14:33:34.040664Z",
     "start_time": "2022-05-27T14:33:33.955082Z"
    }
   },
   "outputs": [
    {
     "data": {
      "text/plain": [
       "RangeIndex(start=0, stop=1723, step=1)"
      ]
     },
     "execution_count": 68,
     "metadata": {},
     "output_type": "execute_result"
    }
   ],
   "source": [
    "forecaster.index_values"
   ]
  },
  {
   "cell_type": "code",
   "execution_count": null,
   "id": "37920ec1",
   "metadata": {},
   "outputs": [],
   "source": []
  },
  {
   "cell_type": "markdown",
   "id": "c10e6df6",
   "metadata": {},
   "source": [
    "### Create forecaster"
   ]
  },
  {
   "cell_type": "code",
   "execution_count": 112,
   "id": "e647c546",
   "metadata": {
    "ExecuteTime": {
     "end_time": "2022-05-27T15:43:14.788053Z",
     "start_time": "2022-05-27T15:43:14.697633Z"
    }
   },
   "outputs": [
    {
     "name": "stdout",
     "output_type": "stream",
     "text": [
      "(1723, 4)\n"
     ]
    },
    {
     "data": {
      "text/html": [
       "<div>\n",
       "<style scoped>\n",
       "    .dataframe tbody tr th:only-of-type {\n",
       "        vertical-align: middle;\n",
       "    }\n",
       "\n",
       "    .dataframe tbody tr th {\n",
       "        vertical-align: top;\n",
       "    }\n",
       "\n",
       "    .dataframe thead th {\n",
       "        text-align: right;\n",
       "    }\n",
       "</style>\n",
       "<table border=\"1\" class=\"dataframe\">\n",
       "  <thead>\n",
       "    <tr style=\"text-align: right;\">\n",
       "      <th></th>\n",
       "      <th>1</th>\n",
       "      <th>2</th>\n",
       "      <th>exog_1</th>\n",
       "      <th>exog_2</th>\n",
       "    </tr>\n",
       "  </thead>\n",
       "  <tbody>\n",
       "    <tr>\n",
       "      <th>0</th>\n",
       "      <td>0.810903</td>\n",
       "      <td>0.862447</td>\n",
       "      <td>0.261002</td>\n",
       "      <td>0.357133</td>\n",
       "    </tr>\n",
       "    <tr>\n",
       "      <th>1</th>\n",
       "      <td>0.112012</td>\n",
       "      <td>0.853779</td>\n",
       "      <td>0.289119</td>\n",
       "      <td>0.957170</td>\n",
       "    </tr>\n",
       "    <tr>\n",
       "      <th>2</th>\n",
       "      <td>0.927313</td>\n",
       "      <td>0.642518</td>\n",
       "      <td>0.457261</td>\n",
       "      <td>0.625761</td>\n",
       "    </tr>\n",
       "  </tbody>\n",
       "</table>\n",
       "</div>"
      ],
      "text/plain": [
       "          1         2    exog_1    exog_2\n",
       "0  0.810903  0.862447  0.261002  0.357133\n",
       "1  0.112012  0.853779  0.289119  0.957170\n",
       "2  0.927313  0.642518  0.457261  0.625761"
      ]
     },
     "execution_count": 112,
     "metadata": {},
     "output_type": "execute_result"
    }
   ],
   "source": [
    "y_1 = pd.Series(np.random.rand(1723))\n",
    "y_2 = pd.Series(np.random.rand(1723))\n",
    "exog_1 = pd.Series(np.random.rand(1723))\n",
    "exog_2 = pd.Series(np.random.rand(1723))\n",
    "\n",
    "df = pd.DataFrame({'1': y_1, '2': y_2, 'exog_1': exog_1, 'exog_2': exog_2,\n",
    "                   'date':pd.date_range(start='2022-01-01', periods=1723, freq='5H')})\n",
    "\n",
    "df = df.set_index('date')\n",
    "df = df.asfreq('5H')\n",
    "df = df.sort_index()\n",
    "\n",
    "max_lag=3\n",
    "lags=np.array([1,2,3])\n",
    "\n",
    "df = df.reset_index(drop=True)\n",
    "print(df.shape)\n",
    "df.head(3)"
   ]
  },
  {
   "cell_type": "code",
   "execution_count": 113,
   "id": "a7e59610",
   "metadata": {
    "ExecuteTime": {
     "end_time": "2022-05-27T15:43:23.707087Z",
     "start_time": "2022-05-27T15:43:23.566151Z"
    }
   },
   "outputs": [
    {
     "data": {
      "text/plain": [
       "=================================== \n",
       "ForecasterAutoregMultiSeries_test'> \n",
       "=================================== \n",
       "Regressor: LinearRegression() \n",
       "Lags: [1 2 3] \n",
       "Window size: 3 \n",
       "Included exogenous: False \n",
       "Type of exogenous variable: None \n",
       "Exogenous variables names: None \n",
       "Training range: [0, 1722] \n",
       "Training index type: RangeIndex \n",
       "Training index frequency: 1 \n",
       "Regressor parameters: {'copy_X': True, 'fit_intercept': True, 'n_jobs': None, 'normalize': 'deprecated', 'positive': False} \n",
       "Creation date: 2022-05-27 17:43:23 \n",
       "Last fit date: 2022-05-27 17:43:23 \n",
       "Skforecast version: 0.5.dev1 "
      ]
     },
     "execution_count": 113,
     "metadata": {},
     "output_type": "execute_result"
    }
   ],
   "source": [
    "# Create and fit forecaster\n",
    "# ==============================================================================\n",
    "from sklearn.linear_model import LinearRegression\n",
    "\n",
    "forecaster = ForecasterAutoregMultiSeries_test(\n",
    "                    regressor = LinearRegression(),\n",
    "                    lags      = 3\n",
    "             )\n",
    "\n",
    "forecaster.fit(\n",
    "    series = df[['1', '2']],)\n",
    "#     exog   = df[['exog_1', 'exog_2']]\n",
    "# )\n",
    "\n",
    "forecaster"
   ]
  },
  {
   "cell_type": "code",
   "execution_count": 118,
   "id": "ec53897c",
   "metadata": {
    "ExecuteTime": {
     "end_time": "2022-05-27T15:44:11.797333Z",
     "start_time": "2022-05-27T15:44:11.672985Z"
    }
   },
   "outputs": [
    {
     "data": {
      "text/html": [
       "<div>\n",
       "<style scoped>\n",
       "    .dataframe tbody tr th:only-of-type {\n",
       "        vertical-align: middle;\n",
       "    }\n",
       "\n",
       "    .dataframe tbody tr th {\n",
       "        vertical-align: top;\n",
       "    }\n",
       "\n",
       "    .dataframe thead th {\n",
       "        text-align: right;\n",
       "    }\n",
       "</style>\n",
       "<table border=\"1\" class=\"dataframe\">\n",
       "  <thead>\n",
       "    <tr style=\"text-align: right;\">\n",
       "      <th></th>\n",
       "      <th>lag_1</th>\n",
       "      <th>lag_2</th>\n",
       "      <th>lag_3</th>\n",
       "      <th>level</th>\n",
       "    </tr>\n",
       "  </thead>\n",
       "  <tbody>\n",
       "    <tr>\n",
       "      <th>0</th>\n",
       "      <td>0.9273127193993941</td>\n",
       "      <td>0.11201181984848962</td>\n",
       "      <td>0.8109032291716992</td>\n",
       "      <td>1</td>\n",
       "    </tr>\n",
       "    <tr>\n",
       "      <th>1</th>\n",
       "      <td>0.3575926410986252</td>\n",
       "      <td>0.9273127193993941</td>\n",
       "      <td>0.11201181984848962</td>\n",
       "      <td>1</td>\n",
       "    </tr>\n",
       "    <tr>\n",
       "      <th>2</th>\n",
       "      <td>0.3276142049719847</td>\n",
       "      <td>0.3575926410986252</td>\n",
       "      <td>0.9273127193993941</td>\n",
       "      <td>1</td>\n",
       "    </tr>\n",
       "    <tr>\n",
       "      <th>3</th>\n",
       "      <td>0.1970752857438085</td>\n",
       "      <td>0.3276142049719847</td>\n",
       "      <td>0.3575926410986252</td>\n",
       "      <td>1</td>\n",
       "    </tr>\n",
       "    <tr>\n",
       "      <th>4</th>\n",
       "      <td>0.6902688551676195</td>\n",
       "      <td>0.1970752857438085</td>\n",
       "      <td>0.3276142049719847</td>\n",
       "      <td>1</td>\n",
       "    </tr>\n",
       "    <tr>\n",
       "      <th>...</th>\n",
       "      <td>...</td>\n",
       "      <td>...</td>\n",
       "      <td>...</td>\n",
       "      <td>...</td>\n",
       "    </tr>\n",
       "    <tr>\n",
       "      <th>1715</th>\n",
       "      <td>0.6810683244673919</td>\n",
       "      <td>0.5564049893123771</td>\n",
       "      <td>0.7410450676108733</td>\n",
       "      <td>2</td>\n",
       "    </tr>\n",
       "    <tr>\n",
       "      <th>1716</th>\n",
       "      <td>0.16490624240818785</td>\n",
       "      <td>0.6810683244673919</td>\n",
       "      <td>0.5564049893123771</td>\n",
       "      <td>2</td>\n",
       "    </tr>\n",
       "    <tr>\n",
       "      <th>1717</th>\n",
       "      <td>0.9113565360352945</td>\n",
       "      <td>0.16490624240818785</td>\n",
       "      <td>0.6810683244673919</td>\n",
       "      <td>2</td>\n",
       "    </tr>\n",
       "    <tr>\n",
       "      <th>1718</th>\n",
       "      <td>0.21008368488340845</td>\n",
       "      <td>0.9113565360352945</td>\n",
       "      <td>0.16490624240818785</td>\n",
       "      <td>2</td>\n",
       "    </tr>\n",
       "    <tr>\n",
       "      <th>1719</th>\n",
       "      <td>0.06992186801773281</td>\n",
       "      <td>0.21008368488340845</td>\n",
       "      <td>0.9113565360352945</td>\n",
       "      <td>2</td>\n",
       "    </tr>\n",
       "  </tbody>\n",
       "</table>\n",
       "<p>3440 rows × 4 columns</p>\n",
       "</div>"
      ],
      "text/plain": [
       "                    lag_1                lag_2                lag_3 level\n",
       "0      0.9273127193993941  0.11201181984848962   0.8109032291716992     1\n",
       "1      0.3575926410986252   0.9273127193993941  0.11201181984848962     1\n",
       "2      0.3276142049719847   0.3575926410986252   0.9273127193993941     1\n",
       "3      0.1970752857438085   0.3276142049719847   0.3575926410986252     1\n",
       "4      0.6902688551676195   0.1970752857438085   0.3276142049719847     1\n",
       "...                   ...                  ...                  ...   ...\n",
       "1715   0.6810683244673919   0.5564049893123771   0.7410450676108733     2\n",
       "1716  0.16490624240818785   0.6810683244673919   0.5564049893123771     2\n",
       "1717   0.9113565360352945  0.16490624240818785   0.6810683244673919     2\n",
       "1718  0.21008368488340845   0.9113565360352945  0.16490624240818785     2\n",
       "1719  0.06992186801773281  0.21008368488340845   0.9113565360352945     2\n",
       "\n",
       "[3440 rows x 4 columns]"
      ]
     },
     "execution_count": 118,
     "metadata": {},
     "output_type": "execute_result"
    }
   ],
   "source": [
    "forecaster.create_train_X_y(series = df[['1', '2']])[0]"
   ]
  },
  {
   "cell_type": "code",
   "execution_count": 114,
   "id": "c8acb55f",
   "metadata": {
    "ExecuteTime": {
     "end_time": "2022-05-27T15:43:29.351826Z",
     "start_time": "2022-05-27T15:43:29.276145Z"
    }
   },
   "outputs": [
    {
     "name": "stdout",
     "output_type": "stream",
     "text": [
      "1\n"
     ]
    },
    {
     "data": {
      "text/plain": [
       "1723    0.492350\n",
       "1724    0.502121\n",
       "1725    0.500182\n",
       "Name: pred, dtype: float64"
      ]
     },
     "execution_count": 114,
     "metadata": {},
     "output_type": "execute_result"
    }
   ],
   "source": [
    "# Predict\n",
    "# ==============================================================================\n",
    "steps = 3\n",
    "exog_1_test = pd.Series(np.random.rand(steps))\n",
    "exog_2_test = pd.Series(np.random.rand(steps))\n",
    "\n",
    "df_test = pd.DataFrame({'exog_1': exog_1_test, 'exog_2': exog_2_test})\n",
    "\n",
    "predictions = forecaster.predict(\n",
    "                steps = steps,\n",
    "                level = '1',)\n",
    "#                 exog = df_test[['exog_1', 'exog_2']]\n",
    "#               )\n",
    "\n",
    "print(forecaster.level)\n",
    "predictions"
   ]
  },
  {
   "cell_type": "code",
   "execution_count": 65,
   "id": "cf36fdcb",
   "metadata": {
    "ExecuteTime": {
     "end_time": "2022-05-27T14:24:29.502140Z",
     "start_time": "2022-05-27T14:24:29.433606Z"
    }
   },
   "outputs": [
    {
     "data": {
      "text/plain": [
       "1523    0.105018\n",
       "50     -0.128144\n",
       "1267    0.120916\n",
       "391     0.006695\n",
       "992    -0.130922\n",
       "Name: in_sample_residuals, dtype: float64"
      ]
     },
     "execution_count": 65,
     "metadata": {},
     "output_type": "execute_result"
    }
   ],
   "source": [
    "forecaster.in_sample_residuals[forecaster.in_sample_residuals['level'] == str(forecaster.levels_dict[forecaster.level])]['in_sample_residuals']"
   ]
  },
  {
   "cell_type": "code",
   "execution_count": 66,
   "id": "64feab92",
   "metadata": {
    "ExecuteTime": {
     "end_time": "2022-05-27T14:25:18.509135Z",
     "start_time": "2022-05-27T14:25:18.433307Z"
    }
   },
   "outputs": [
    {
     "data": {
      "text/plain": [
       "1523    0.105018\n",
       "50     -0.128144\n",
       "1267    0.120916\n",
       "391     0.006695\n",
       "992    -0.130922\n",
       "Name: in_sample_residuals, dtype: float64"
      ]
     },
     "execution_count": 66,
     "metadata": {},
     "output_type": "execute_result"
    }
   ],
   "source": [
    "forecaster.in_sample_residuals[forecaster.in_sample_residuals['level'] \\\n",
    "                                                     == str(forecaster.levels_dict[forecaster.level])] \\\n",
    "                                                    ['in_sample_residuals']"
   ]
  },
  {
   "cell_type": "markdown",
   "id": "c4084848",
   "metadata": {},
   "source": [
    "#### Pruebas"
   ]
  },
  {
   "cell_type": "code",
   "execution_count": 126,
   "id": "ff608862",
   "metadata": {
    "ExecuteTime": {
     "end_time": "2022-05-26T22:53:43.213740Z",
     "start_time": "2022-05-26T22:53:43.181972Z"
    }
   },
   "outputs": [
    {
     "data": {
      "text/plain": [
       "0      0\n",
       "1      0\n",
       "2      0\n",
       "3      0\n",
       "4      0\n",
       "      ..\n",
       "992    1\n",
       "993    1\n",
       "994    1\n",
       "995    1\n",
       "996    1\n",
       "Name: level, Length: 1994, dtype: object"
      ]
     },
     "execution_count": 126,
     "metadata": {},
     "output_type": "execute_result"
    }
   ],
   "source": [
    "X = forecaster.create_train_X_y(df[['s1', 's2']])[0]\n",
    "X.level"
   ]
  },
  {
   "cell_type": "code",
   "execution_count": 59,
   "id": "dbcf6484",
   "metadata": {
    "ExecuteTime": {
     "end_time": "2022-05-26T22:16:23.320915Z",
     "start_time": "2022-05-26T22:16:23.292587Z"
    }
   },
   "outputs": [
    {
     "data": {
      "text/plain": [
       "RangeIndex(start=0, stop=499, step=1)"
      ]
     },
     "execution_count": 59,
     "metadata": {},
     "output_type": "execute_result"
    }
   ],
   "source": [
    "forecaster.index_values"
   ]
  },
  {
   "cell_type": "code",
   "execution_count": 60,
   "id": "988fdb56",
   "metadata": {
    "ExecuteTime": {
     "end_time": "2022-05-26T22:16:23.484154Z",
     "start_time": "2022-05-26T22:16:23.469263Z"
    }
   },
   "outputs": [
    {
     "data": {
      "text/plain": [
       "{'s1': 0, 's2': 1}"
      ]
     },
     "execution_count": 60,
     "metadata": {},
     "output_type": "execute_result"
    }
   ],
   "source": [
    "forecaster.levels_dict"
   ]
  },
  {
   "cell_type": "code",
   "execution_count": 45,
   "id": "8d523b19",
   "metadata": {
    "ExecuteTime": {
     "end_time": "2022-05-27T12:05:17.803479Z",
     "start_time": "2022-05-27T12:05:17.721410Z"
    }
   },
   "outputs": [
    {
     "data": {
      "text/plain": [
       "array([[0.18412531, 0.4392954 ],\n",
       "       [0.83900729, 0.13639005],\n",
       "       [0.51206053, 0.4508429 ]])"
      ]
     },
     "execution_count": 45,
     "metadata": {},
     "output_type": "execute_result"
    }
   ],
   "source": [
    "forecaster.last_window.values"
   ]
  },
  {
   "cell_type": "code",
   "execution_count": 62,
   "id": "a8fe8561",
   "metadata": {
    "ExecuteTime": {
     "end_time": "2022-05-26T22:16:23.858385Z",
     "start_time": "2022-05-26T22:16:23.839900Z"
    }
   },
   "outputs": [
    {
     "data": {
      "text/plain": [
       "496    0.719042\n",
       "497    0.114874\n",
       "498    0.981913\n",
       "Name: s1, dtype: float64"
      ]
     },
     "execution_count": 62,
     "metadata": {},
     "output_type": "execute_result"
    }
   ],
   "source": [
    "forecaster.last_window['s1']"
   ]
  },
  {
   "cell_type": "code",
   "execution_count": 63,
   "id": "bc024897",
   "metadata": {
    "ExecuteTime": {
     "end_time": "2022-05-26T22:16:24.006334Z",
     "start_time": "2022-05-26T22:16:23.986052Z"
    }
   },
   "outputs": [
    {
     "data": {
      "text/plain": [
       "array([[0.71904162, 0.96936802],\n",
       "       [0.11487381, 0.38861858],\n",
       "       [0.9819126 , 0.05289527]])"
      ]
     },
     "execution_count": 63,
     "metadata": {},
     "output_type": "execute_result"
    }
   ],
   "source": [
    "preprocess_last_window(forecaster.last_window)[0]"
   ]
  },
  {
   "cell_type": "code",
   "execution_count": 64,
   "id": "1d0e2091",
   "metadata": {
    "ExecuteTime": {
     "end_time": "2022-05-26T22:16:24.175576Z",
     "start_time": "2022-05-26T22:16:24.160136Z"
    }
   },
   "outputs": [
    {
     "data": {
      "text/plain": [
       "0      0.099225\n",
       "1      0.173431\n",
       "2      0.122369\n",
       "3     -0.114103\n",
       "4     -0.021988\n",
       "         ...   \n",
       "491    0.187784\n",
       "492   -0.164879\n",
       "493    0.160717\n",
       "494   -0.012769\n",
       "495   -0.174215\n",
       "Name: y, Length: 992, dtype: float64"
      ]
     },
     "execution_count": 64,
     "metadata": {},
     "output_type": "execute_result"
    }
   ],
   "source": [
    "forecaster.in_sample_residuals"
   ]
  },
  {
   "cell_type": "code",
   "execution_count": 66,
   "id": "8a96d0f5",
   "metadata": {
    "ExecuteTime": {
     "end_time": "2022-05-26T22:17:26.888287Z",
     "start_time": "2022-05-26T22:17:26.872506Z"
    }
   },
   "outputs": [
    {
     "data": {
      "text/plain": [
       "0      0.099225\n",
       "1      0.173431\n",
       "2      0.122369\n",
       "3     -0.114103\n",
       "4     -0.021988\n",
       "         ...   \n",
       "491    0.187784\n",
       "492   -0.164879\n",
       "493    0.160717\n",
       "494   -0.012769\n",
       "495   -0.174215\n",
       "Name: in_sample_residuals, Length: 992, dtype: float64"
      ]
     },
     "execution_count": 66,
     "metadata": {},
     "output_type": "execute_result"
    }
   ],
   "source": [
    "pd.Series(\n",
    "                    data  = forecaster.in_sample_residuals,\n",
    "                    index = forecaster.in_sample_residuals.index,\n",
    "                    name  = 'in_sample_residuals'\n",
    "                 )"
   ]
  },
  {
   "cell_type": "code",
   "execution_count": 43,
   "id": "19b76eac",
   "metadata": {
    "ExecuteTime": {
     "end_time": "2022-05-26T22:15:26.088720Z",
     "start_time": "2022-05-26T22:15:26.071695Z"
    }
   },
   "outputs": [
    {
     "data": {
      "text/plain": [
       "0      0.078133\n",
       "1     -0.233654\n",
       "2      0.020363\n",
       "3      0.130580\n",
       "4      0.028963\n",
       "         ...   \n",
       "995   -0.179021\n",
       "996   -0.133909\n",
       "997   -0.095682\n",
       "998   -0.150806\n",
       "999    0.140685\n",
       "Length: 1000, dtype: float64"
      ]
     },
     "execution_count": 43,
     "metadata": {},
     "output_type": "execute_result"
    }
   ],
   "source": [
    "pd.Series(forecaster.in_sample_residuals)"
   ]
  },
  {
   "cell_type": "code",
   "execution_count": 11,
   "id": "48e70181",
   "metadata": {
    "ExecuteTime": {
     "end_time": "2022-05-26T22:04:30.655131Z",
     "start_time": "2022-05-26T22:04:30.639828Z"
    }
   },
   "outputs": [
    {
     "data": {
      "text/plain": [
       "pandas.core.series.Series"
      ]
     },
     "execution_count": 11,
     "metadata": {},
     "output_type": "execute_result"
    }
   ],
   "source": [
    "type(forecaster.in_sample_residuals)"
   ]
  },
  {
   "cell_type": "code",
   "execution_count": 18,
   "id": "ed279d2e",
   "metadata": {
    "ExecuteTime": {
     "end_time": "2022-05-26T22:09:30.020535Z",
     "start_time": "2022-05-26T22:09:29.996922Z"
    }
   },
   "outputs": [
    {
     "data": {
      "text/plain": [
       "0    1\n",
       "1    2\n",
       "2    3\n",
       "3    4\n",
       "4    5\n",
       "5    6\n",
       "dtype: int64"
      ]
     },
     "execution_count": 18,
     "metadata": {},
     "output_type": "execute_result"
    }
   ],
   "source": [
    "residuals = pd.Series(np.array([1,2,3,4,5,6]))\n",
    "residuals"
   ]
  },
  {
   "cell_type": "code",
   "execution_count": 19,
   "id": "3403737c",
   "metadata": {
    "ExecuteTime": {
     "end_time": "2022-05-26T22:09:30.446684Z",
     "start_time": "2022-05-26T22:09:30.430725Z"
    }
   },
   "outputs": [
    {
     "data": {
      "text/plain": [
       "array([1, 5, 4, 1, 6, 2, 2, 2, 3, 2])"
      ]
     },
     "execution_count": 19,
     "metadata": {},
     "output_type": "execute_result"
    }
   ],
   "source": [
    "rng = np.random.default_rng(seed=123)\n",
    "residuals = rng.choice(a=residuals, size=10, replace=True)\n",
    "residuals"
   ]
  },
  {
   "cell_type": "code",
   "execution_count": 70,
   "id": "4a5e7041",
   "metadata": {
    "ExecuteTime": {
     "end_time": "2022-05-27T15:00:53.521063Z",
     "start_time": "2022-05-27T15:00:53.439782Z"
    }
   },
   "outputs": [
    {
     "data": {
      "text/html": [
       "<div>\n",
       "<style scoped>\n",
       "    .dataframe tbody tr th:only-of-type {\n",
       "        vertical-align: middle;\n",
       "    }\n",
       "\n",
       "    .dataframe tbody tr th {\n",
       "        vertical-align: top;\n",
       "    }\n",
       "\n",
       "    .dataframe thead th {\n",
       "        text-align: right;\n",
       "    }\n",
       "</style>\n",
       "<table border=\"1\" class=\"dataframe\">\n",
       "  <thead>\n",
       "    <tr style=\"text-align: right;\">\n",
       "      <th></th>\n",
       "      <th>y_1</th>\n",
       "      <th>y_2</th>\n",
       "    </tr>\n",
       "  </thead>\n",
       "  <tbody>\n",
       "    <tr>\n",
       "      <th>0</th>\n",
       "      <td>0.673323</td>\n",
       "      <td>0.509373</td>\n",
       "    </tr>\n",
       "    <tr>\n",
       "      <th>1</th>\n",
       "      <td>0.030798</td>\n",
       "      <td>0.419975</td>\n",
       "    </tr>\n",
       "    <tr>\n",
       "      <th>2</th>\n",
       "      <td>0.625376</td>\n",
       "      <td>0.415746</td>\n",
       "    </tr>\n",
       "    <tr>\n",
       "      <th>3</th>\n",
       "      <td>0.157791</td>\n",
       "      <td>0.328772</td>\n",
       "    </tr>\n",
       "    <tr>\n",
       "      <th>4</th>\n",
       "      <td>0.996914</td>\n",
       "      <td>0.013004</td>\n",
       "    </tr>\n",
       "    <tr>\n",
       "      <th>...</th>\n",
       "      <td>...</td>\n",
       "      <td>...</td>\n",
       "    </tr>\n",
       "    <tr>\n",
       "      <th>1718</th>\n",
       "      <td>0.606940</td>\n",
       "      <td>0.992992</td>\n",
       "    </tr>\n",
       "    <tr>\n",
       "      <th>1719</th>\n",
       "      <td>0.534260</td>\n",
       "      <td>0.944517</td>\n",
       "    </tr>\n",
       "    <tr>\n",
       "      <th>1720</th>\n",
       "      <td>0.657966</td>\n",
       "      <td>0.887641</td>\n",
       "    </tr>\n",
       "    <tr>\n",
       "      <th>1721</th>\n",
       "      <td>0.477168</td>\n",
       "      <td>0.907346</td>\n",
       "    </tr>\n",
       "    <tr>\n",
       "      <th>1722</th>\n",
       "      <td>0.703972</td>\n",
       "      <td>0.037755</td>\n",
       "    </tr>\n",
       "  </tbody>\n",
       "</table>\n",
       "<p>1723 rows × 2 columns</p>\n",
       "</div>"
      ],
      "text/plain": [
       "           y_1       y_2\n",
       "0     0.673323  0.509373\n",
       "1     0.030798  0.419975\n",
       "2     0.625376  0.415746\n",
       "3     0.157791  0.328772\n",
       "4     0.996914  0.013004\n",
       "...        ...       ...\n",
       "1718  0.606940  0.992992\n",
       "1719  0.534260  0.944517\n",
       "1720  0.657966  0.887641\n",
       "1721  0.477168  0.907346\n",
       "1722  0.703972  0.037755\n",
       "\n",
       "[1723 rows x 2 columns]"
      ]
     },
     "execution_count": 70,
     "metadata": {},
     "output_type": "execute_result"
    }
   ],
   "source": [
    "pd.DataFrame({'y_1': y_1, 'y_2': y_2})"
   ]
  },
  {
   "cell_type": "code",
   "execution_count": 75,
   "id": "cd26aac9",
   "metadata": {
    "ExecuteTime": {
     "end_time": "2022-05-27T15:05:09.364857Z",
     "start_time": "2022-05-27T15:05:09.273097Z"
    }
   },
   "outputs": [],
   "source": [
    "df = pd.DataFrame({'1': pd.Series(np.arange(3)), \n",
    "                       '2': pd.Series(np.arange(3))\n",
    "                      })\n",
    "\n",
    "results = preprocess_levels(df)\n",
    "expected = {'1': 1, '2': 2}\n",
    "\n",
    "assert results == expected"
   ]
  },
  {
   "cell_type": "code",
   "execution_count": 76,
   "id": "0524c235",
   "metadata": {
    "ExecuteTime": {
     "end_time": "2022-05-27T15:05:11.855246Z",
     "start_time": "2022-05-27T15:05:11.768812Z"
    }
   },
   "outputs": [
    {
     "data": {
      "text/plain": [
       "{'1': 1, '2': 2}"
      ]
     },
     "execution_count": 76,
     "metadata": {},
     "output_type": "execute_result"
    }
   ],
   "source": [
    "results"
   ]
  },
  {
   "cell_type": "code",
   "execution_count": 111,
   "id": "e83c6dcf",
   "metadata": {
    "ExecuteTime": {
     "end_time": "2022-05-27T15:40:50.737795Z",
     "start_time": "2022-05-27T15:40:50.657830Z"
    }
   },
   "outputs": [],
   "source": [
    "from sklearn.linear_model import LinearRegression\n",
    "\n",
    "forecaster = ForecasterAutoregMultiSeries_test(LinearRegression(), lags=3)\n",
    "series = pd.DataFrame({'1': pd.Series(np.arange(7)), \n",
    "                       '2': pd.Series(np.arange(7))\n",
    "                      })\n",
    "\n",
    "results = forecaster.create_train_X_y(series=series)\n",
    "expected = (pd.DataFrame(\n",
    "                data = np.array([['2.0', '1.0', '0.0', '1'],\n",
    "                                 ['3.0', '2.0', '1.0', '1'],\n",
    "                                 ['4.0', '3.0', '2.0', '1'],\n",
    "                                 ['5.0', '4.0', '3.0', '1'],\n",
    "                                 ['2.0', '1.0', '0.0', '2'],\n",
    "                                 ['3.0', '2.0', '1.0', '2'],\n",
    "                                 ['4.0', '3.0', '2.0', '2'],\n",
    "                                 ['5.0', '4.0', '3.0', '2']]),\n",
    "                index   = np.array([0, 1, 2, 3, 0, 1, 2, 3]),\n",
    "                columns = ['lag_1', 'lag_2', 'lag_3', 'level']\n",
    "            ),\n",
    "            pd.Series(\n",
    "                np.array([3, 4, 5, 6, 3, 4, 5, 6]),\n",
    "                index = np.array([0, 1, 2, 3, 0, 1, 2, 3]))\n",
    "           )\n",
    "\n",
    "pd.testing.assert_frame_equal(results[0], expected[0])\n",
    "assert (results[1] == expected[1]).all()"
   ]
  },
  {
   "cell_type": "code",
   "execution_count": 110,
   "id": "a663b4fa",
   "metadata": {
    "ExecuteTime": {
     "end_time": "2022-05-27T15:40:12.973720Z",
     "start_time": "2022-05-27T15:40:12.892708Z"
    }
   },
   "outputs": [
    {
     "data": {
      "text/plain": [
       "array([['2.0', '1.0', '0.0', '1'],\n",
       "       ['3.0', '2.0', '1.0', '1'],\n",
       "       ['4.0', '3.0', '2.0', '1'],\n",
       "       ['5.0', '4.0', '3.0', '1'],\n",
       "       ['2.0', '1.0', '0.0', '2'],\n",
       "       ['3.0', '2.0', '1.0', '2'],\n",
       "       ['4.0', '3.0', '2.0', '2'],\n",
       "       ['5.0', '4.0', '3.0', '2']], dtype=object)"
      ]
     },
     "execution_count": 110,
     "metadata": {},
     "output_type": "execute_result"
    }
   ],
   "source": [
    "results[0].values"
   ]
  },
  {
   "cell_type": "code",
   "execution_count": 107,
   "id": "aeda7f0f",
   "metadata": {
    "ExecuteTime": {
     "end_time": "2022-05-27T15:38:48.836769Z",
     "start_time": "2022-05-27T15:38:48.762635Z"
    }
   },
   "outputs": [
    {
     "data": {
      "text/plain": [
       "lag_1    object\n",
       "lag_2    object\n",
       "lag_3    object\n",
       "level    object\n",
       "dtype: object"
      ]
     },
     "execution_count": 107,
     "metadata": {},
     "output_type": "execute_result"
    }
   ],
   "source": [
    "results[0].dtypes"
   ]
  },
  {
   "cell_type": "markdown",
   "id": "2e704b5c",
   "metadata": {},
   "source": [
    "## ForecasterAutoregMultiSeries"
   ]
  },
  {
   "cell_type": "code",
   "execution_count": 1,
   "id": "383e29d5",
   "metadata": {
    "ExecuteTime": {
     "end_time": "2022-05-28T11:24:53.322322Z",
     "start_time": "2022-05-28T11:24:53.272568Z"
    }
   },
   "outputs": [],
   "source": [
    "%load_ext autoreload\n",
    "%autoreload 2\n",
    "import sys\n",
    "from pathlib import Path\n",
    "sys.path.insert(1, str(Path.cwd().parent.parent))\n",
    "%config Completer.use_jedi = False"
   ]
  },
  {
   "cell_type": "code",
   "execution_count": 2,
   "id": "ce016f33",
   "metadata": {
    "ExecuteTime": {
     "end_time": "2022-05-28T11:24:55.094865Z",
     "start_time": "2022-05-28T11:24:54.204253Z"
    }
   },
   "outputs": [],
   "source": [
    "## ForecasterAutoregMultiSeries\n",
    "# ==============================================================================\n",
    "import numpy as np\n",
    "import pandas as pd\n",
    "\n",
    "from skforecast.ForecasterAutoregMultiSeries import ForecasterAutoregMultiSeries\n",
    "from skforecast.ForecasterAutoreg import ForecasterAutoreg\n",
    "from skforecast.utils import check_y\n",
    "from skforecast.utils import check_exog\n",
    "from skforecast.utils import preprocess_y\n",
    "from skforecast.utils import preprocess_last_window\n",
    "from skforecast.utils import preprocess_exog\n",
    "from skforecast.utils import expand_index\n",
    "from skforecast.utils import check_predict_input\n",
    "from skforecast.utils import preprocess_levels\n",
    "\n",
    "from sklearn.linear_model import LinearRegression"
   ]
  },
  {
   "cell_type": "code",
   "execution_count": 3,
   "id": "1d102086",
   "metadata": {
    "ExecuteTime": {
     "end_time": "2022-05-28T11:24:55.173546Z",
     "start_time": "2022-05-28T11:24:55.096853Z"
    }
   },
   "outputs": [
    {
     "name": "stdout",
     "output_type": "stream",
     "text": [
      "(600, 4)\n"
     ]
    },
    {
     "data": {
      "text/html": [
       "<div>\n",
       "<style scoped>\n",
       "    .dataframe tbody tr th:only-of-type {\n",
       "        vertical-align: middle;\n",
       "    }\n",
       "\n",
       "    .dataframe tbody tr th {\n",
       "        vertical-align: top;\n",
       "    }\n",
       "\n",
       "    .dataframe thead th {\n",
       "        text-align: right;\n",
       "    }\n",
       "</style>\n",
       "<table border=\"1\" class=\"dataframe\">\n",
       "  <thead>\n",
       "    <tr style=\"text-align: right;\">\n",
       "      <th></th>\n",
       "      <th>s1</th>\n",
       "      <th>s2</th>\n",
       "      <th>exog_1</th>\n",
       "      <th>exog_2</th>\n",
       "    </tr>\n",
       "  </thead>\n",
       "  <tbody>\n",
       "    <tr>\n",
       "      <th>0</th>\n",
       "      <td>0.540105</td>\n",
       "      <td>0.815553</td>\n",
       "      <td>0.703991</td>\n",
       "      <td>0.015266</td>\n",
       "    </tr>\n",
       "    <tr>\n",
       "      <th>1</th>\n",
       "      <td>0.648231</td>\n",
       "      <td>0.827890</td>\n",
       "      <td>0.531456</td>\n",
       "      <td>0.626570</td>\n",
       "    </tr>\n",
       "    <tr>\n",
       "      <th>2</th>\n",
       "      <td>0.390812</td>\n",
       "      <td>0.029841</td>\n",
       "      <td>0.830950</td>\n",
       "      <td>0.696828</td>\n",
       "    </tr>\n",
       "  </tbody>\n",
       "</table>\n",
       "</div>"
      ],
      "text/plain": [
       "         s1        s2    exog_1    exog_2\n",
       "0  0.540105  0.815553  0.703991  0.015266\n",
       "1  0.648231  0.827890  0.531456  0.626570\n",
       "2  0.390812  0.029841  0.830950  0.696828"
      ]
     },
     "execution_count": 3,
     "metadata": {},
     "output_type": "execute_result"
    }
   ],
   "source": [
    "y_1 = pd.Series(np.random.rand(600))\n",
    "y_2 = pd.Series(np.random.rand(600))\n",
    "exog_1 = pd.Series(np.random.rand(600))\n",
    "exog_2 = pd.Series(np.random.rand(600))\n",
    "\n",
    "df = pd.DataFrame({'s1': y_1, 's2': y_2, 'exog_1': exog_1, 'exog_2': exog_2,\n",
    "                   'date':pd.date_range(start='2022-01-01', periods=600, freq='5H')})\n",
    "\n",
    "df = df.set_index('date')\n",
    "df = df.asfreq('5H')\n",
    "df = df.sort_index()\n",
    "\n",
    "max_lag=3\n",
    "lags=np.array([1,2,3])\n",
    "\n",
    "df = df.reset_index(drop=True)\n",
    "print(df.shape)\n",
    "df.head(3)"
   ]
  },
  {
   "cell_type": "code",
   "execution_count": 4,
   "id": "779ec60d",
   "metadata": {
    "ExecuteTime": {
     "end_time": "2022-05-28T11:24:56.178517Z",
     "start_time": "2022-05-28T11:24:56.110992Z"
    }
   },
   "outputs": [
    {
     "data": {
      "text/plain": [
       "============================ \n",
       "ForecasterAutoregMultiSeries \n",
       "============================ \n",
       "Regressor: LinearRegression() \n",
       "Lags: [1 2 3] \n",
       "Window size: 3 \n",
       "Included exogenous: True \n",
       "Type of exogenous variable: <class 'pandas.core.frame.DataFrame'> \n",
       "Exogenous variables names: ['exog_1', 'exog_2'] \n",
       "Training range: [0, 599] \n",
       "Training index type: RangeIndex \n",
       "Training index frequency: 1 \n",
       "Regressor parameters: {'copy_X': True, 'fit_intercept': True, 'n_jobs': None, 'normalize': 'deprecated', 'positive': False} \n",
       "Creation date: 2022-05-28 13:24:56 \n",
       "Last fit date: 2022-05-28 13:24:56 \n",
       "Skforecast version: 0.5.dev1 "
      ]
     },
     "execution_count": 4,
     "metadata": {},
     "output_type": "execute_result"
    }
   ],
   "source": [
    "# Create and fit forecaster\n",
    "# ==============================================================================\n",
    "from sklearn.linear_model import LinearRegression\n",
    "\n",
    "forecaster = ForecasterAutoregMultiSeries(\n",
    "                    regressor = LinearRegression(),\n",
    "                    lags      = 3\n",
    "             )\n",
    "\n",
    "forecaster.fit(\n",
    "    series = df[['s1', 's2']],\n",
    "    exog   = df[['exog_1', 'exog_2']]\n",
    ")\n",
    "\n",
    "forecaster"
   ]
  },
  {
   "cell_type": "code",
   "execution_count": 6,
   "id": "59c2e2e0",
   "metadata": {
    "ExecuteTime": {
     "end_time": "2022-05-28T11:25:08.853334Z",
     "start_time": "2022-05-28T11:25:08.792258Z"
    }
   },
   "outputs": [
    {
     "name": "stdout",
     "output_type": "stream",
     "text": [
      "[[0.69848551 0.78134602 0.61808683 0.90766412 0.98508648 0.\n",
      "  1.        ]]\n",
      "[[0.47986091 0.69848551 0.78134602 0.38244881 0.99296868 0.\n",
      "  1.        ]]\n",
      "[[0.48996668 0.47986091 0.69848551 0.4593082  0.03935536 0.\n",
      "  1.        ]]\n"
     ]
    },
    {
     "data": {
      "text/plain": [
       "600    0.479861\n",
       "601    0.489967\n",
       "602    0.512678\n",
       "Name: pred, dtype: float64"
      ]
     },
     "execution_count": 6,
     "metadata": {},
     "output_type": "execute_result"
    }
   ],
   "source": [
    "# Predict\n",
    "# ==============================================================================\n",
    "steps = 3\n",
    "exog_1_test = pd.Series(np.random.rand(steps))\n",
    "exog_2_test = pd.Series(np.random.rand(steps))\n",
    "\n",
    "df_test = pd.DataFrame({'exog_1': exog_1_test, 'exog_2': exog_2_test})\n",
    "\n",
    "predictions = forecaster.predict(\n",
    "                steps = steps,\n",
    "                level = 's2',\n",
    "                exog = df_test[['exog_1', 'exog_2']]\n",
    "             )\n",
    "\n",
    "predictions"
   ]
  },
  {
   "cell_type": "code",
   "execution_count": 9,
   "id": "57e5ad3c",
   "metadata": {
    "ExecuteTime": {
     "end_time": "2022-05-28T10:56:55.311997Z",
     "start_time": "2022-05-28T10:56:55.240655Z"
    }
   },
   "outputs": [
    {
     "data": {
      "text/html": [
       "<div>\n",
       "<style scoped>\n",
       "    .dataframe tbody tr th:only-of-type {\n",
       "        vertical-align: middle;\n",
       "    }\n",
       "\n",
       "    .dataframe tbody tr th {\n",
       "        vertical-align: top;\n",
       "    }\n",
       "\n",
       "    .dataframe thead th {\n",
       "        text-align: right;\n",
       "    }\n",
       "</style>\n",
       "<table border=\"1\" class=\"dataframe\">\n",
       "  <thead>\n",
       "    <tr style=\"text-align: right;\">\n",
       "      <th></th>\n",
       "      <th>lag_1</th>\n",
       "      <th>lag_2</th>\n",
       "      <th>lag_3</th>\n",
       "      <th>s1</th>\n",
       "      <th>s2</th>\n",
       "    </tr>\n",
       "  </thead>\n",
       "  <tbody>\n",
       "    <tr>\n",
       "      <th>0</th>\n",
       "      <td>0.222250</td>\n",
       "      <td>0.077329</td>\n",
       "      <td>0.179964</td>\n",
       "      <td>1.0</td>\n",
       "      <td>0.0</td>\n",
       "    </tr>\n",
       "    <tr>\n",
       "      <th>1</th>\n",
       "      <td>0.142370</td>\n",
       "      <td>0.222250</td>\n",
       "      <td>0.077329</td>\n",
       "      <td>1.0</td>\n",
       "      <td>0.0</td>\n",
       "    </tr>\n",
       "    <tr>\n",
       "      <th>2</th>\n",
       "      <td>0.909512</td>\n",
       "      <td>0.142370</td>\n",
       "      <td>0.222250</td>\n",
       "      <td>1.0</td>\n",
       "      <td>0.0</td>\n",
       "    </tr>\n",
       "  </tbody>\n",
       "</table>\n",
       "</div>"
      ],
      "text/plain": [
       "      lag_1     lag_2     lag_3   s1   s2\n",
       "0  0.222250  0.077329  0.179964  1.0  0.0\n",
       "1  0.142370  0.222250  0.077329  1.0  0.0\n",
       "2  0.909512  0.142370  0.222250  1.0  0.0"
      ]
     },
     "execution_count": 9,
     "metadata": {},
     "output_type": "execute_result"
    }
   ],
   "source": [
    "X = forecaster.create_train_X_y(df[['s1', 's2']])[0]\n",
    "X.head(3)"
   ]
  },
  {
   "cell_type": "code",
   "execution_count": 11,
   "id": "b266b221",
   "metadata": {
    "ExecuteTime": {
     "end_time": "2022-05-28T10:57:12.993103Z",
     "start_time": "2022-05-28T10:57:12.927492Z"
    }
   },
   "outputs": [
    {
     "data": {
      "text/plain": [
       "500"
      ]
     },
     "execution_count": 11,
     "metadata": {},
     "output_type": "execute_result"
    }
   ],
   "source": [
    "len(forecaster.in_sample_residuals['s1'])"
   ]
  },
  {
   "cell_type": "code",
   "execution_count": 12,
   "id": "d5141465",
   "metadata": {
    "ExecuteTime": {
     "end_time": "2022-05-28T10:59:54.398016Z",
     "start_time": "2022-05-28T10:59:54.336275Z"
    }
   },
   "outputs": [
    {
     "data": {
      "text/html": [
       "<div>\n",
       "<style scoped>\n",
       "    .dataframe tbody tr th:only-of-type {\n",
       "        vertical-align: middle;\n",
       "    }\n",
       "\n",
       "    .dataframe tbody tr th {\n",
       "        vertical-align: top;\n",
       "    }\n",
       "\n",
       "    .dataframe thead th {\n",
       "        text-align: right;\n",
       "    }\n",
       "</style>\n",
       "<table border=\"1\" class=\"dataframe\">\n",
       "  <thead>\n",
       "    <tr style=\"text-align: right;\">\n",
       "      <th></th>\n",
       "      <th>s1</th>\n",
       "      <th>s2</th>\n",
       "    </tr>\n",
       "  </thead>\n",
       "  <tbody>\n",
       "    <tr>\n",
       "      <th>597</th>\n",
       "      <td>0.773378</td>\n",
       "      <td>0.772900</td>\n",
       "    </tr>\n",
       "    <tr>\n",
       "      <th>598</th>\n",
       "      <td>0.979510</td>\n",
       "      <td>0.676482</td>\n",
       "    </tr>\n",
       "    <tr>\n",
       "      <th>599</th>\n",
       "      <td>0.871304</td>\n",
       "      <td>0.745478</td>\n",
       "    </tr>\n",
       "  </tbody>\n",
       "</table>\n",
       "</div>"
      ],
      "text/plain": [
       "           s1        s2\n",
       "597  0.773378  0.772900\n",
       "598  0.979510  0.676482\n",
       "599  0.871304  0.745478"
      ]
     },
     "execution_count": 12,
     "metadata": {},
     "output_type": "execute_result"
    }
   ],
   "source": [
    "forecaster.last_window"
   ]
  },
  {
   "cell_type": "code",
   "execution_count": 31,
   "id": "b819bb3e",
   "metadata": {
    "ExecuteTime": {
     "end_time": "2022-05-28T11:19:41.576523Z",
     "start_time": "2022-05-28T11:19:41.517654Z"
    }
   },
   "outputs": [
    {
     "name": "stdout",
     "output_type": "stream",
     "text": [
      "[[0.87130395 0.9795105  0.77337797]]\n",
      "[[0. 0.]]\n",
      "0\n",
      "[[1. 0.]]\n"
     ]
    },
    {
     "data": {
      "text/plain": [
       "array([[0.87130395, 0.9795105 , 0.77337797, 1.        , 0.        ]])"
      ]
     },
     "execution_count": 31,
     "metadata": {},
     "output_type": "execute_result"
    }
   ],
   "source": [
    "level='s1'\n",
    "\n",
    "last_window_values, last_window_index = preprocess_last_window(\n",
    "                                                        last_window = forecaster.last_window[level]\n",
    "                                                    )\n",
    "\n",
    "X = last_window_values[-forecaster.lags].reshape(1, -1)\n",
    "print(X)\n",
    "levels_dummies = np.zeros(shape=(1, len(forecaster.in_sample_residuals.keys())), dtype= float)\n",
    "print(levels_dummies)\n",
    "print(list(forecaster.in_sample_residuals.keys()).index(level))\n",
    "levels_dummies[0][list(forecaster.in_sample_residuals.keys()).index(level)] = 1.\n",
    "print(levels_dummies)\n",
    "\n",
    "X = np.column_stack((X, levels_dummies.reshape(1, -1)))\n",
    "X"
   ]
  },
  {
   "cell_type": "code",
   "execution_count": null,
   "id": "ceb891ed",
   "metadata": {},
   "outputs": [],
   "source": []
  },
  {
   "cell_type": "code",
   "execution_count": 23,
   "id": "fe9ff7be",
   "metadata": {
    "ExecuteTime": {
     "end_time": "2022-05-28T09:20:27.263708Z",
     "start_time": "2022-05-28T09:20:27.197599Z"
    }
   },
   "outputs": [
    {
     "ename": "TypeError",
     "evalue": "array() missing required argument 'object' (pos 0)",
     "output_type": "error",
     "traceback": [
      "\u001b[1;31m---------------------------------------------------------------------------\u001b[0m",
      "\u001b[1;31mTypeError\u001b[0m                                 Traceback (most recent call last)",
      "Input \u001b[1;32mIn [23]\u001b[0m, in \u001b[0;36m<cell line: 1>\u001b[1;34m()\u001b[0m\n\u001b[1;32m----> 1\u001b[0m a \u001b[38;5;241m=\u001b[39m \u001b[43mnp\u001b[49m\u001b[38;5;241;43m.\u001b[39;49m\u001b[43marray\u001b[49m\u001b[43m(\u001b[49m\u001b[43m)\u001b[49m\n",
      "\u001b[1;31mTypeError\u001b[0m: array() missing required argument 'object' (pos 0)"
     ]
    }
   ],
   "source": [
    "a = np.array()"
   ]
  },
  {
   "cell_type": "code",
   "execution_count": 24,
   "id": "e8172a67",
   "metadata": {
    "ExecuteTime": {
     "end_time": "2022-05-28T09:20:27.611212Z",
     "start_time": "2022-05-28T09:20:27.556728Z"
    }
   },
   "outputs": [
    {
     "data": {
      "text/plain": [
       "array([2., 3.])"
      ]
     },
     "execution_count": 24,
     "metadata": {},
     "output_type": "execute_result"
    }
   ],
   "source": [
    "np.append(a, np.array([2,3]) )"
   ]
  },
  {
   "cell_type": "code",
   "execution_count": 7,
   "id": "ad52a73d",
   "metadata": {
    "ExecuteTime": {
     "end_time": "2022-05-28T09:30:22.090740Z",
     "start_time": "2022-05-28T09:30:22.027564Z"
    }
   },
   "outputs": [
    {
     "data": {
      "text/plain": [
       "array([[1, 0, 0],\n",
       "       [0, 1, 0],\n",
       "       [0, 0, 1]], dtype=uint8)"
      ]
     },
     "execution_count": 7,
     "metadata": {},
     "output_type": "execute_result"
    }
   ],
   "source": [
    "pd.get_dummies(pd.Series(np.array(['a','b','c']))).values"
   ]
  },
  {
   "cell_type": "code",
   "execution_count": 14,
   "id": "8b7590e9",
   "metadata": {
    "ExecuteTime": {
     "end_time": "2022-05-28T09:35:23.496358Z",
     "start_time": "2022-05-28T09:35:23.422840Z"
    }
   },
   "outputs": [
    {
     "ename": "ValueError",
     "evalue": "all the input array dimensions for the concatenation axis must match exactly, but along dimension 1, the array at index 0 has size 0 and the array at index 1 has size 3",
     "output_type": "error",
     "traceback": [
      "\u001b[1;31m---------------------------------------------------------------------------\u001b[0m",
      "\u001b[1;31mValueError\u001b[0m                                Traceback (most recent call last)",
      "Input \u001b[1;32mIn [14]\u001b[0m, in \u001b[0;36m<cell line: 4>\u001b[1;34m()\u001b[0m\n\u001b[0;32m      2\u001b[0m a \u001b[38;5;241m=\u001b[39m np\u001b[38;5;241m.\u001b[39marray(([\u001b[38;5;241m1\u001b[39m, \u001b[38;5;241m2\u001b[39m, \u001b[38;5;241m3\u001b[39m], [\u001b[38;5;241m4\u001b[39m,\u001b[38;5;241m5\u001b[39m,\u001b[38;5;241m6\u001b[39m]))\n\u001b[0;32m      3\u001b[0m b \u001b[38;5;241m=\u001b[39m np\u001b[38;5;241m.\u001b[39marray(([\u001b[38;5;241m1\u001b[39m, \u001b[38;5;241m2\u001b[39m, \u001b[38;5;241m3\u001b[39m], [\u001b[38;5;241m4\u001b[39m,\u001b[38;5;241m5\u001b[39m,\u001b[38;5;241m6\u001b[39m]))\n\u001b[1;32m----> 4\u001b[0m \u001b[43mnp\u001b[49m\u001b[38;5;241;43m.\u001b[39;49m\u001b[43mvstack\u001b[49m\u001b[43m(\u001b[49m\u001b[43m(\u001b[49m\u001b[43mc\u001b[49m\u001b[43m,\u001b[49m\u001b[43ma\u001b[49m\u001b[43m)\u001b[49m\u001b[43m)\u001b[49m\n",
      "File \u001b[1;32m<__array_function__ internals>:180\u001b[0m, in \u001b[0;36mvstack\u001b[1;34m(*args, **kwargs)\u001b[0m\n",
      "File \u001b[1;32m~\\Miniconda3\\envs\\food_digital\\lib\\site-packages\\numpy\\core\\shape_base.py:282\u001b[0m, in \u001b[0;36mvstack\u001b[1;34m(tup)\u001b[0m\n\u001b[0;32m    280\u001b[0m \u001b[38;5;28;01mif\u001b[39;00m \u001b[38;5;129;01mnot\u001b[39;00m \u001b[38;5;28misinstance\u001b[39m(arrs, \u001b[38;5;28mlist\u001b[39m):\n\u001b[0;32m    281\u001b[0m     arrs \u001b[38;5;241m=\u001b[39m [arrs]\n\u001b[1;32m--> 282\u001b[0m \u001b[38;5;28;01mreturn\u001b[39;00m \u001b[43m_nx\u001b[49m\u001b[38;5;241;43m.\u001b[39;49m\u001b[43mconcatenate\u001b[49m\u001b[43m(\u001b[49m\u001b[43marrs\u001b[49m\u001b[43m,\u001b[49m\u001b[43m \u001b[49m\u001b[38;5;241;43m0\u001b[39;49m\u001b[43m)\u001b[49m\n",
      "File \u001b[1;32m<__array_function__ internals>:180\u001b[0m, in \u001b[0;36mconcatenate\u001b[1;34m(*args, **kwargs)\u001b[0m\n",
      "\u001b[1;31mValueError\u001b[0m: all the input array dimensions for the concatenation axis must match exactly, but along dimension 1, the array at index 0 has size 0 and the array at index 1 has size 3"
     ]
    }
   ],
   "source": [
    "c = np.array(([], []))\n",
    "a = np.array(([1, 2, 3], [4,5,6]))\n",
    "b = np.array(([1, 2, 3], [4,5,6]))\n",
    "np.vstack((c,a))"
   ]
  },
  {
   "cell_type": "code",
   "execution_count": 17,
   "id": "abefe57e",
   "metadata": {
    "ExecuteTime": {
     "end_time": "2022-05-28T10:15:26.154213Z",
     "start_time": "2022-05-28T10:15:26.086760Z"
    }
   },
   "outputs": [
    {
     "data": {
      "text/plain": [
       "array([[1, 2, 3, 4, 5],\n",
       "       [5, 6, 7, 8, 9]])"
      ]
     },
     "execution_count": 17,
     "metadata": {},
     "output_type": "execute_result"
    }
   ],
   "source": [
    "a = np.array(([1,2,3,4,5], [5,6,7,8,9]))\n",
    "a"
   ]
  },
  {
   "cell_type": "code",
   "execution_count": 21,
   "id": "04d2ccfb",
   "metadata": {
    "ExecuteTime": {
     "end_time": "2022-05-28T10:16:02.573773Z",
     "start_time": "2022-05-28T10:16:02.506257Z"
    }
   },
   "outputs": [
    {
     "name": "stdout",
     "output_type": "stream",
     "text": [
      "[]\n"
     ]
    }
   ],
   "source": [
    "print(a[np.all(a < 3, axis = 1), 0])"
   ]
  },
  {
   "cell_type": "code",
   "execution_count": 22,
   "id": "ff8935f0",
   "metadata": {
    "ExecuteTime": {
     "end_time": "2022-05-28T10:17:06.293007Z",
     "start_time": "2022-05-28T10:17:06.226589Z"
    }
   },
   "outputs": [
    {
     "data": {
      "text/plain": [
       "array([['1', 'one'],\n",
       "       ['2', 'two'],\n",
       "       ['3', 'three'],\n",
       "       ['4', 'four'],\n",
       "       ['5', 'five']], dtype='<U11')"
      ]
     },
     "execution_count": 22,
     "metadata": {},
     "output_type": "execute_result"
    }
   ],
   "source": [
    "arr = np.asarray([[1, 'one'], [2, 'two'], [3, 'three'],\n",
    "                  [4, 'four'], [5, 'five']])\n",
    " \n",
    "arr"
   ]
  },
  {
   "cell_type": "code",
   "execution_count": 23,
   "id": "50c560cd",
   "metadata": {
    "ExecuteTime": {
     "end_time": "2022-05-28T10:17:08.554161Z",
     "start_time": "2022-05-28T10:17:08.489622Z"
    }
   },
   "outputs": [
    {
     "data": {
      "text/plain": [
       "array([['2', 'two'],\n",
       "       ['4', 'four']], dtype='<U11')"
      ]
     },
     "execution_count": 23,
     "metadata": {},
     "output_type": "execute_result"
    }
   ],
   "source": [
    "fltr = np.asarray(['two', 'four'])\n",
    "arr[np.in1d(arr[:, 1], fltr)]"
   ]
  },
  {
   "cell_type": "code",
   "execution_count": 24,
   "id": "2c0a64dc",
   "metadata": {
    "ExecuteTime": {
     "end_time": "2022-05-28T10:17:39.698239Z",
     "start_time": "2022-05-28T10:17:39.637501Z"
    }
   },
   "outputs": [
    {
     "data": {
      "text/plain": [
       "array([[1, 2, 3, 4, 5],\n",
       "       [5, 6, 7, 8, 9]])"
      ]
     },
     "execution_count": 24,
     "metadata": {},
     "output_type": "execute_result"
    }
   ],
   "source": [
    "a = np.array(([1,2,3,4,5], [5,6,7,8,9]))\n",
    "a"
   ]
  },
  {
   "cell_type": "code",
   "execution_count": 26,
   "id": "de0d504a",
   "metadata": {
    "ExecuteTime": {
     "end_time": "2022-05-28T10:18:50.904136Z",
     "start_time": "2022-05-28T10:18:50.829860Z"
    }
   },
   "outputs": [
    {
     "name": "stderr",
     "output_type": "stream",
     "text": [
      "C:\\Users\\jaesc2\\Miniconda3\\envs\\food_digital\\lib\\site-packages\\numpy\\lib\\arraysetops.py:608: FutureWarning: elementwise comparison failed; returning scalar instead, but in the future will perform elementwise comparison\n",
      "  mask |= (ar1 == a)\n"
     ]
    },
    {
     "ename": "IndexError",
     "evalue": "boolean index did not match indexed array along dimension 0; dimension is 2 but corresponding boolean dimension is 5",
     "output_type": "error",
     "traceback": [
      "\u001b[1;31m---------------------------------------------------------------------------\u001b[0m",
      "\u001b[1;31mIndexError\u001b[0m                                Traceback (most recent call last)",
      "Input \u001b[1;32mIn [26]\u001b[0m, in \u001b[0;36m<cell line: 1>\u001b[1;34m()\u001b[0m\n\u001b[1;32m----> 1\u001b[0m \u001b[43ma\u001b[49m\u001b[43m[\u001b[49m\u001b[43mnp\u001b[49m\u001b[38;5;241;43m.\u001b[39;49m\u001b[43min1d\u001b[49m\u001b[43m(\u001b[49m\u001b[43marr\u001b[49m\u001b[43m[\u001b[49m\u001b[43m:\u001b[49m\u001b[43m,\u001b[49m\u001b[43m \u001b[49m\u001b[38;5;241;43m1\u001b[39;49m\u001b[43m]\u001b[49m\u001b[43m,\u001b[49m\u001b[43m \u001b[49m\u001b[43mnp\u001b[49m\u001b[38;5;241;43m.\u001b[39;49m\u001b[43marray\u001b[49m\u001b[43m(\u001b[49m\u001b[43m[\u001b[49m\u001b[38;5;241;43m2\u001b[39;49m\u001b[43m]\u001b[49m\u001b[43m)\u001b[49m\u001b[43m)\u001b[49m\u001b[43m]\u001b[49m\n",
      "\u001b[1;31mIndexError\u001b[0m: boolean index did not match indexed array along dimension 0; dimension is 2 but corresponding boolean dimension is 5"
     ]
    }
   ],
   "source": [
    "a[np.in1d(arr[:, 1], np.array([2]))]"
   ]
  },
  {
   "cell_type": "code",
   "execution_count": 29,
   "id": "1d3b59cf",
   "metadata": {
    "ExecuteTime": {
     "end_time": "2022-05-28T10:21:11.291389Z",
     "start_time": "2022-05-28T10:21:11.220066Z"
    }
   },
   "outputs": [
    {
     "data": {
      "text/plain": [
       "array([[1, 2, 3, 4, 5]])"
      ]
     },
     "execution_count": 29,
     "metadata": {},
     "output_type": "execute_result"
    }
   ],
   "source": [
    "a[a[:, 0] == 1]"
   ]
  },
  {
   "cell_type": "code",
   "execution_count": 7,
   "id": "801cda06",
   "metadata": {
    "ExecuteTime": {
     "end_time": "2022-05-28T10:41:34.171266Z",
     "start_time": "2022-05-28T10:41:34.099508Z"
    }
   },
   "outputs": [],
   "source": [
    "a = {'a': [1,2,3,4], 'b': [3,4,5]}"
   ]
  },
  {
   "cell_type": "code",
   "execution_count": 18,
   "id": "bd1ba858",
   "metadata": {
    "ExecuteTime": {
     "end_time": "2022-05-28T10:46:33.881708Z",
     "start_time": "2022-05-28T10:46:33.827565Z"
    }
   },
   "outputs": [
    {
     "data": {
      "text/plain": [
       "8"
      ]
     },
     "execution_count": 18,
     "metadata": {},
     "output_type": "execute_result"
    }
   ],
   "source": [
    "len(list(a.values())[0])*len(list(a.keys()))"
   ]
  },
  {
   "cell_type": "code",
   "execution_count": 17,
   "id": "d95289ac",
   "metadata": {
    "ExecuteTime": {
     "end_time": "2022-05-28T10:45:55.619973Z",
     "start_time": "2022-05-28T10:45:55.557841Z"
    }
   },
   "outputs": [
    {
     "name": "stdout",
     "output_type": "stream",
     "text": [
      "4\n",
      "3\n"
     ]
    }
   ],
   "source": [
    "for value in a.values():\n",
    "    print(len(value))"
   ]
  },
  {
   "cell_type": "code",
   "execution_count": 19,
   "id": "b87cdad7",
   "metadata": {
    "ExecuteTime": {
     "end_time": "2022-05-28T10:48:48.308317Z",
     "start_time": "2022-05-28T10:48:48.247525Z"
    }
   },
   "outputs": [
    {
     "data": {
      "text/plain": [
       "array([1, 3])"
      ]
     },
     "execution_count": 19,
     "metadata": {},
     "output_type": "execute_result"
    }
   ],
   "source": [
    "rng = np.random.default_rng(seed=123)\n",
    "residuals = rng.choice(a=a['a'], size=2, replace=False)  \n",
    "residuals"
   ]
  },
  {
   "cell_type": "code",
   "execution_count": 7,
   "id": "bdc6a22d",
   "metadata": {
    "ExecuteTime": {
     "end_time": "2022-05-28T16:23:58.655023Z",
     "start_time": "2022-05-28T16:23:58.534484Z"
    }
   },
   "outputs": [
    {
     "data": {
      "text/plain": [
       "array([1, 4])"
      ]
     },
     "execution_count": 7,
     "metadata": {},
     "output_type": "execute_result"
    }
   ],
   "source": [
    "rng = np.random.default_rng(seed=123)\n",
    "residuals = rng.choice(a=pd.Series(np.array([1,2,3,4,5])), size=2, replace=False)  \n",
    "residuals"
   ]
  },
  {
   "cell_type": "code",
   "execution_count": null,
   "id": "98befd91",
   "metadata": {},
   "outputs": [],
   "source": []
  }
 ],
 "metadata": {
  "kernelspec": {
   "display_name": "food_digital",
   "language": "python",
   "name": "food_digital"
  },
  "language_info": {
   "codemirror_mode": {
    "name": "ipython",
    "version": 3
   },
   "file_extension": ".py",
   "mimetype": "text/x-python",
   "name": "python",
   "nbconvert_exporter": "python",
   "pygments_lexer": "ipython3",
   "version": "3.8.13"
  },
  "toc": {
   "base_numbering": 1,
   "nav_menu": {},
   "number_sections": true,
   "sideBar": true,
   "skip_h1_title": false,
   "title_cell": "Table of Contents",
   "title_sidebar": "Contents",
   "toc_cell": false,
   "toc_position": {
    "height": "calc(100% - 180px)",
    "left": "10px",
    "top": "150px",
    "width": "252.6px"
   },
   "toc_section_display": true,
   "toc_window_display": true
  },
  "varInspector": {
   "cols": {
    "lenName": 16,
    "lenType": 16,
    "lenVar": 40
   },
   "kernels_config": {
    "python": {
     "delete_cmd_postfix": "",
     "delete_cmd_prefix": "del ",
     "library": "var_list.py",
     "varRefreshCmd": "print(var_dic_list())"
    },
    "r": {
     "delete_cmd_postfix": ") ",
     "delete_cmd_prefix": "rm(",
     "library": "var_list.r",
     "varRefreshCmd": "cat(var_dic_list()) "
    }
   },
   "types_to_exclude": [
    "module",
    "function",
    "builtin_function_or_method",
    "instance",
    "_Feature"
   ],
   "window_display": false
  }
 },
 "nbformat": 4,
 "nbformat_minor": 5
}
